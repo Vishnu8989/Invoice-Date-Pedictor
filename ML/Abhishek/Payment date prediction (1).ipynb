{
 "cells": [
  {
   "cell_type": "markdown",
   "id": "wcq6dWzy1ZR0",
   "metadata": {
    "id": "wcq6dWzy1ZR0"
   },
   "source": [
    "# Payment Date Prediction "
   ]
  },
  {
   "cell_type": "markdown",
   "id": "2778654e",
   "metadata": {
    "id": "2778654e"
   },
   "source": [
    "\n",
    "### Importing related Libraries "
   ]
  },
  {
   "cell_type": "code",
   "execution_count": 3,
   "id": "304c9e38",
   "metadata": {
    "id": "304c9e38"
   },
   "outputs": [],
   "source": [
    "import numpy as np\n",
    "import pandas as pd\n",
    "import matplotlib.pyplot as plot\n",
    "import warnings\n",
    "import datetime\n",
    "import datetime\n",
    "import matplotlib as mlt\n",
    "import statistics as stat\n",
    "import seaborn as sns\n",
    "from sklearn import preprocessing\n",
    "from sklearn.feature_selection import VarianceThreshold\n",
    "import os\n",
    "import datetime as dt\n",
    "from operator import attrgetter\n",
    "from sklearn.model_selection import train_test_split\n",
    "from sklearn.linear_model import LinearRegression\n",
    "from sklearn.svm import SVR\n",
    "from sklearn.tree import DecisionTreeRegressor\n",
    "from sklearn.ensemble import RandomForestRegressor\n",
    "from sklearn.datasets import load_boston\n",
    "from sklearn.metrics import mean_squared_error\n",
    "from sklearn.metrics import r2_score"
   ]
  },
  {
   "cell_type": "markdown",
   "id": "8724f5ee",
   "metadata": {
    "id": "8724f5ee"
   },
   "source": [
    "### Store the dataset into the Dataframe\n"
   ]
  },
  {
   "cell_type": "code",
   "execution_count": 4,
   "id": "415db50a",
   "metadata": {
    "id": "415db50a"
   },
   "outputs": [
    {
     "data": {
      "text/html": [
       "<div>\n",
       "<style scoped>\n",
       "    .dataframe tbody tr th:only-of-type {\n",
       "        vertical-align: middle;\n",
       "    }\n",
       "\n",
       "    .dataframe tbody tr th {\n",
       "        vertical-align: top;\n",
       "    }\n",
       "\n",
       "    .dataframe thead th {\n",
       "        text-align: right;\n",
       "    }\n",
       "</style>\n",
       "<table border=\"1\" class=\"dataframe\">\n",
       "  <thead>\n",
       "    <tr style=\"text-align: right;\">\n",
       "      <th></th>\n",
       "      <th>business_code</th>\n",
       "      <th>cust_number</th>\n",
       "      <th>name_customer</th>\n",
       "      <th>clear_date</th>\n",
       "      <th>buisness_year</th>\n",
       "      <th>doc_id</th>\n",
       "      <th>posting_date</th>\n",
       "      <th>document_create_date</th>\n",
       "      <th>document_create_date.1</th>\n",
       "      <th>due_in_date</th>\n",
       "      <th>invoice_currency</th>\n",
       "      <th>document type</th>\n",
       "      <th>posting_id</th>\n",
       "      <th>area_business</th>\n",
       "      <th>total_open_amount</th>\n",
       "      <th>baseline_create_date</th>\n",
       "      <th>cust_payment_terms</th>\n",
       "      <th>invoice_id</th>\n",
       "      <th>isOpen</th>\n",
       "    </tr>\n",
       "  </thead>\n",
       "  <tbody>\n",
       "    <tr>\n",
       "      <th>0</th>\n",
       "      <td>U001</td>\n",
       "      <td>0200769623</td>\n",
       "      <td>WAL-MAR corp</td>\n",
       "      <td>2020-02-11 00:00:00</td>\n",
       "      <td>2020.0</td>\n",
       "      <td>1.930438e+09</td>\n",
       "      <td>2020-01-26</td>\n",
       "      <td>20200125</td>\n",
       "      <td>20200126</td>\n",
       "      <td>20200210.0</td>\n",
       "      <td>USD</td>\n",
       "      <td>RV</td>\n",
       "      <td>1.0</td>\n",
       "      <td>NaN</td>\n",
       "      <td>54273.28</td>\n",
       "      <td>20200126.0</td>\n",
       "      <td>NAH4</td>\n",
       "      <td>1.930438e+09</td>\n",
       "      <td>0</td>\n",
       "    </tr>\n",
       "    <tr>\n",
       "      <th>1</th>\n",
       "      <td>U001</td>\n",
       "      <td>0200980828</td>\n",
       "      <td>BEN E</td>\n",
       "      <td>2019-08-08 00:00:00</td>\n",
       "      <td>2019.0</td>\n",
       "      <td>1.929646e+09</td>\n",
       "      <td>2019-07-22</td>\n",
       "      <td>20190722</td>\n",
       "      <td>20190722</td>\n",
       "      <td>20190811.0</td>\n",
       "      <td>USD</td>\n",
       "      <td>RV</td>\n",
       "      <td>1.0</td>\n",
       "      <td>NaN</td>\n",
       "      <td>79656.60</td>\n",
       "      <td>20190722.0</td>\n",
       "      <td>NAD1</td>\n",
       "      <td>1.929646e+09</td>\n",
       "      <td>0</td>\n",
       "    </tr>\n",
       "    <tr>\n",
       "      <th>2</th>\n",
       "      <td>U001</td>\n",
       "      <td>0200792734</td>\n",
       "      <td>MDV/ trust</td>\n",
       "      <td>2019-12-30 00:00:00</td>\n",
       "      <td>2019.0</td>\n",
       "      <td>1.929874e+09</td>\n",
       "      <td>2019-09-14</td>\n",
       "      <td>20190914</td>\n",
       "      <td>20190914</td>\n",
       "      <td>20190929.0</td>\n",
       "      <td>USD</td>\n",
       "      <td>RV</td>\n",
       "      <td>1.0</td>\n",
       "      <td>NaN</td>\n",
       "      <td>2253.86</td>\n",
       "      <td>20190914.0</td>\n",
       "      <td>NAA8</td>\n",
       "      <td>1.929874e+09</td>\n",
       "      <td>0</td>\n",
       "    </tr>\n",
       "    <tr>\n",
       "      <th>3</th>\n",
       "      <td>CA02</td>\n",
       "      <td>0140105686</td>\n",
       "      <td>SYSC llc</td>\n",
       "      <td>NaN</td>\n",
       "      <td>2020.0</td>\n",
       "      <td>2.960623e+09</td>\n",
       "      <td>2020-03-30</td>\n",
       "      <td>20200330</td>\n",
       "      <td>20200330</td>\n",
       "      <td>20200410.0</td>\n",
       "      <td>CAD</td>\n",
       "      <td>RV</td>\n",
       "      <td>1.0</td>\n",
       "      <td>NaN</td>\n",
       "      <td>3299.70</td>\n",
       "      <td>20200331.0</td>\n",
       "      <td>CA10</td>\n",
       "      <td>2.960623e+09</td>\n",
       "      <td>1</td>\n",
       "    </tr>\n",
       "    <tr>\n",
       "      <th>4</th>\n",
       "      <td>U001</td>\n",
       "      <td>0200769623</td>\n",
       "      <td>WAL-MAR foundation</td>\n",
       "      <td>2019-11-25 00:00:00</td>\n",
       "      <td>2019.0</td>\n",
       "      <td>1.930148e+09</td>\n",
       "      <td>2019-11-13</td>\n",
       "      <td>20191113</td>\n",
       "      <td>20191113</td>\n",
       "      <td>20191128.0</td>\n",
       "      <td>USD</td>\n",
       "      <td>RV</td>\n",
       "      <td>1.0</td>\n",
       "      <td>NaN</td>\n",
       "      <td>33133.29</td>\n",
       "      <td>20191113.0</td>\n",
       "      <td>NAH4</td>\n",
       "      <td>1.930148e+09</td>\n",
       "      <td>0</td>\n",
       "    </tr>\n",
       "    <tr>\n",
       "      <th>...</th>\n",
       "      <td>...</td>\n",
       "      <td>...</td>\n",
       "      <td>...</td>\n",
       "      <td>...</td>\n",
       "      <td>...</td>\n",
       "      <td>...</td>\n",
       "      <td>...</td>\n",
       "      <td>...</td>\n",
       "      <td>...</td>\n",
       "      <td>...</td>\n",
       "      <td>...</td>\n",
       "      <td>...</td>\n",
       "      <td>...</td>\n",
       "      <td>...</td>\n",
       "      <td>...</td>\n",
       "      <td>...</td>\n",
       "      <td>...</td>\n",
       "      <td>...</td>\n",
       "      <td>...</td>\n",
       "    </tr>\n",
       "    <tr>\n",
       "      <th>49995</th>\n",
       "      <td>U001</td>\n",
       "      <td>0200561861</td>\n",
       "      <td>CO corporation</td>\n",
       "      <td>NaN</td>\n",
       "      <td>2020.0</td>\n",
       "      <td>1.930797e+09</td>\n",
       "      <td>2020-04-21</td>\n",
       "      <td>20200417</td>\n",
       "      <td>20200421</td>\n",
       "      <td>20200506.0</td>\n",
       "      <td>USD</td>\n",
       "      <td>RV</td>\n",
       "      <td>1.0</td>\n",
       "      <td>NaN</td>\n",
       "      <td>3187.86</td>\n",
       "      <td>20200421.0</td>\n",
       "      <td>NAA8</td>\n",
       "      <td>1.930797e+09</td>\n",
       "      <td>1</td>\n",
       "    </tr>\n",
       "    <tr>\n",
       "      <th>49996</th>\n",
       "      <td>U001</td>\n",
       "      <td>0200769623</td>\n",
       "      <td>WAL-MAR co</td>\n",
       "      <td>2019-09-03 00:00:00</td>\n",
       "      <td>2019.0</td>\n",
       "      <td>1.929744e+09</td>\n",
       "      <td>2019-08-15</td>\n",
       "      <td>20190814</td>\n",
       "      <td>20190815</td>\n",
       "      <td>20190830.0</td>\n",
       "      <td>USD</td>\n",
       "      <td>RV</td>\n",
       "      <td>1.0</td>\n",
       "      <td>NaN</td>\n",
       "      <td>6766.54</td>\n",
       "      <td>20190815.0</td>\n",
       "      <td>NAH4</td>\n",
       "      <td>1.929744e+09</td>\n",
       "      <td>0</td>\n",
       "    </tr>\n",
       "    <tr>\n",
       "      <th>49997</th>\n",
       "      <td>U001</td>\n",
       "      <td>0200772595</td>\n",
       "      <td>SAFEW associates</td>\n",
       "      <td>2020-03-05 00:00:00</td>\n",
       "      <td>2020.0</td>\n",
       "      <td>1.930537e+09</td>\n",
       "      <td>2020-02-19</td>\n",
       "      <td>20200218</td>\n",
       "      <td>20200219</td>\n",
       "      <td>20200305.0</td>\n",
       "      <td>USD</td>\n",
       "      <td>RV</td>\n",
       "      <td>1.0</td>\n",
       "      <td>NaN</td>\n",
       "      <td>6120.86</td>\n",
       "      <td>20200219.0</td>\n",
       "      <td>NAA8</td>\n",
       "      <td>1.930537e+09</td>\n",
       "      <td>0</td>\n",
       "    </tr>\n",
       "    <tr>\n",
       "      <th>49998</th>\n",
       "      <td>U001</td>\n",
       "      <td>0200726979</td>\n",
       "      <td>BJ'S  llc</td>\n",
       "      <td>2019-12-12 00:00:00</td>\n",
       "      <td>2019.0</td>\n",
       "      <td>1.930199e+09</td>\n",
       "      <td>2019-11-27</td>\n",
       "      <td>20191126</td>\n",
       "      <td>20191127</td>\n",
       "      <td>20191212.0</td>\n",
       "      <td>USD</td>\n",
       "      <td>RV</td>\n",
       "      <td>1.0</td>\n",
       "      <td>NaN</td>\n",
       "      <td>63.48</td>\n",
       "      <td>20191127.0</td>\n",
       "      <td>NAA8</td>\n",
       "      <td>1.930199e+09</td>\n",
       "      <td>0</td>\n",
       "    </tr>\n",
       "    <tr>\n",
       "      <th>49999</th>\n",
       "      <td>U001</td>\n",
       "      <td>0200020431</td>\n",
       "      <td>DEC corp</td>\n",
       "      <td>2019-01-15 00:00:00</td>\n",
       "      <td>2019.0</td>\n",
       "      <td>1.928576e+09</td>\n",
       "      <td>2019-01-05</td>\n",
       "      <td>20190105</td>\n",
       "      <td>20190105</td>\n",
       "      <td>20190124.0</td>\n",
       "      <td>USD</td>\n",
       "      <td>RV</td>\n",
       "      <td>1.0</td>\n",
       "      <td>NaN</td>\n",
       "      <td>1790.30</td>\n",
       "      <td>20190101.0</td>\n",
       "      <td>NAM4</td>\n",
       "      <td>1.928576e+09</td>\n",
       "      <td>0</td>\n",
       "    </tr>\n",
       "  </tbody>\n",
       "</table>\n",
       "<p>50000 rows × 19 columns</p>\n",
       "</div>"
      ],
      "text/plain": [
       "      business_code cust_number       name_customer           clear_date  \\\n",
       "0              U001  0200769623        WAL-MAR corp  2020-02-11 00:00:00   \n",
       "1              U001  0200980828              BEN E   2019-08-08 00:00:00   \n",
       "2              U001  0200792734          MDV/ trust  2019-12-30 00:00:00   \n",
       "3              CA02  0140105686            SYSC llc                  NaN   \n",
       "4              U001  0200769623  WAL-MAR foundation  2019-11-25 00:00:00   \n",
       "...             ...         ...                 ...                  ...   \n",
       "49995          U001  0200561861      CO corporation                  NaN   \n",
       "49996          U001  0200769623          WAL-MAR co  2019-09-03 00:00:00   \n",
       "49997          U001  0200772595    SAFEW associates  2020-03-05 00:00:00   \n",
       "49998          U001  0200726979           BJ'S  llc  2019-12-12 00:00:00   \n",
       "49999          U001  0200020431            DEC corp  2019-01-15 00:00:00   \n",
       "\n",
       "       buisness_year        doc_id posting_date  document_create_date  \\\n",
       "0             2020.0  1.930438e+09   2020-01-26              20200125   \n",
       "1             2019.0  1.929646e+09   2019-07-22              20190722   \n",
       "2             2019.0  1.929874e+09   2019-09-14              20190914   \n",
       "3             2020.0  2.960623e+09   2020-03-30              20200330   \n",
       "4             2019.0  1.930148e+09   2019-11-13              20191113   \n",
       "...              ...           ...          ...                   ...   \n",
       "49995         2020.0  1.930797e+09   2020-04-21              20200417   \n",
       "49996         2019.0  1.929744e+09   2019-08-15              20190814   \n",
       "49997         2020.0  1.930537e+09   2020-02-19              20200218   \n",
       "49998         2019.0  1.930199e+09   2019-11-27              20191126   \n",
       "49999         2019.0  1.928576e+09   2019-01-05              20190105   \n",
       "\n",
       "       document_create_date.1  due_in_date invoice_currency document type  \\\n",
       "0                    20200126   20200210.0              USD            RV   \n",
       "1                    20190722   20190811.0              USD            RV   \n",
       "2                    20190914   20190929.0              USD            RV   \n",
       "3                    20200330   20200410.0              CAD            RV   \n",
       "4                    20191113   20191128.0              USD            RV   \n",
       "...                       ...          ...              ...           ...   \n",
       "49995                20200421   20200506.0              USD            RV   \n",
       "49996                20190815   20190830.0              USD            RV   \n",
       "49997                20200219   20200305.0              USD            RV   \n",
       "49998                20191127   20191212.0              USD            RV   \n",
       "49999                20190105   20190124.0              USD            RV   \n",
       "\n",
       "       posting_id  area_business  total_open_amount  baseline_create_date  \\\n",
       "0             1.0            NaN           54273.28            20200126.0   \n",
       "1             1.0            NaN           79656.60            20190722.0   \n",
       "2             1.0            NaN            2253.86            20190914.0   \n",
       "3             1.0            NaN            3299.70            20200331.0   \n",
       "4             1.0            NaN           33133.29            20191113.0   \n",
       "...           ...            ...                ...                   ...   \n",
       "49995         1.0            NaN            3187.86            20200421.0   \n",
       "49996         1.0            NaN            6766.54            20190815.0   \n",
       "49997         1.0            NaN            6120.86            20200219.0   \n",
       "49998         1.0            NaN              63.48            20191127.0   \n",
       "49999         1.0            NaN            1790.30            20190101.0   \n",
       "\n",
       "      cust_payment_terms    invoice_id  isOpen  \n",
       "0                   NAH4  1.930438e+09       0  \n",
       "1                   NAD1  1.929646e+09       0  \n",
       "2                   NAA8  1.929874e+09       0  \n",
       "3                   CA10  2.960623e+09       1  \n",
       "4                   NAH4  1.930148e+09       0  \n",
       "...                  ...           ...     ...  \n",
       "49995               NAA8  1.930797e+09       1  \n",
       "49996               NAH4  1.929744e+09       0  \n",
       "49997               NAA8  1.930537e+09       0  \n",
       "49998               NAA8  1.930199e+09       0  \n",
       "49999               NAM4  1.928576e+09       0  \n",
       "\n",
       "[50000 rows x 19 columns]"
      ]
     },
     "execution_count": 4,
     "metadata": {},
     "output_type": "execute_result"
    }
   ],
   "source": [
    "df=pd.read_csv(\"dataset.csv\")\n",
    "df"
   ]
  },
  {
   "cell_type": "markdown",
   "id": "42e37f05",
   "metadata": {
    "id": "42e37f05"
   },
   "source": [
    "### Check the shape of the dataframe\n"
   ]
  },
  {
   "cell_type": "code",
   "execution_count": 5,
   "id": "27cc0907",
   "metadata": {
    "id": "27cc0907"
   },
   "outputs": [
    {
     "name": "stdout",
     "output_type": "stream",
     "text": [
      "\n",
      "DataFrame Shape : (50000, 19)\n"
     ]
    }
   ],
   "source": [
    "shape=df.shape\n",
    "print('\\nDataFrame Shape :', shape)"
   ]
  },
  {
   "cell_type": "markdown",
   "id": "b68c955d",
   "metadata": {
    "id": "b68c955d"
   },
   "source": [
    "### Check the Detail information of the dataframe"
   ]
  },
  {
   "cell_type": "code",
   "execution_count": 6,
   "id": "e092ec9e",
   "metadata": {
    "id": "e092ec9e"
   },
   "outputs": [
    {
     "name": "stdout",
     "output_type": "stream",
     "text": [
      "<class 'pandas.core.frame.DataFrame'>\n",
      "RangeIndex: 50000 entries, 0 to 49999\n",
      "Data columns (total 19 columns):\n",
      " #   Column                  Non-Null Count  Dtype  \n",
      "---  ------                  --------------  -----  \n",
      " 0   business_code           50000 non-null  object \n",
      " 1   cust_number             50000 non-null  object \n",
      " 2   name_customer           50000 non-null  object \n",
      " 3   clear_date              40000 non-null  object \n",
      " 4   buisness_year           50000 non-null  float64\n",
      " 5   doc_id                  50000 non-null  float64\n",
      " 6   posting_date            50000 non-null  object \n",
      " 7   document_create_date    50000 non-null  int64  \n",
      " 8   document_create_date.1  50000 non-null  int64  \n",
      " 9   due_in_date             50000 non-null  float64\n",
      " 10  invoice_currency        50000 non-null  object \n",
      " 11  document type           50000 non-null  object \n",
      " 12  posting_id              50000 non-null  float64\n",
      " 13  area_business           0 non-null      float64\n",
      " 14  total_open_amount       50000 non-null  float64\n",
      " 15  baseline_create_date    50000 non-null  float64\n",
      " 16  cust_payment_terms      50000 non-null  object \n",
      " 17  invoice_id              49994 non-null  float64\n",
      " 18  isOpen                  50000 non-null  int64  \n",
      "dtypes: float64(8), int64(3), object(8)\n",
      "memory usage: 7.2+ MB\n"
     ]
    }
   ],
   "source": [
    "df.info()"
   ]
  },
  {
   "cell_type": "markdown",
   "id": "112f2d0e",
   "metadata": {
    "id": "112f2d0e"
   },
   "source": [
    "### Display All the column names"
   ]
  },
  {
   "cell_type": "code",
   "execution_count": 7,
   "id": "1416e2fd",
   "metadata": {
    "id": "1416e2fd"
   },
   "outputs": [
    {
     "data": {
      "text/plain": [
       "Index(['business_code', 'cust_number', 'name_customer', 'clear_date',\n",
       "       'buisness_year', 'doc_id', 'posting_date', 'document_create_date',\n",
       "       'document_create_date.1', 'due_in_date', 'invoice_currency',\n",
       "       'document type', 'posting_id', 'area_business', 'total_open_amount',\n",
       "       'baseline_create_date', 'cust_payment_terms', 'invoice_id', 'isOpen'],\n",
       "      dtype='object')"
      ]
     },
     "execution_count": 7,
     "metadata": {},
     "output_type": "execute_result"
    }
   ],
   "source": [
    "df.columns"
   ]
  },
  {
   "cell_type": "markdown",
   "id": "d465ed7a",
   "metadata": {
    "id": "d465ed7a"
   },
   "source": [
    "### Describe the entire dataset"
   ]
  },
  {
   "cell_type": "code",
   "execution_count": 8,
   "id": "25f65e1b",
   "metadata": {
    "id": "25f65e1b"
   },
   "outputs": [
    {
     "data": {
      "text/html": [
       "<div>\n",
       "<style scoped>\n",
       "    .dataframe tbody tr th:only-of-type {\n",
       "        vertical-align: middle;\n",
       "    }\n",
       "\n",
       "    .dataframe tbody tr th {\n",
       "        vertical-align: top;\n",
       "    }\n",
       "\n",
       "    .dataframe thead th {\n",
       "        text-align: right;\n",
       "    }\n",
       "</style>\n",
       "<table border=\"1\" class=\"dataframe\">\n",
       "  <thead>\n",
       "    <tr style=\"text-align: right;\">\n",
       "      <th></th>\n",
       "      <th>buisness_year</th>\n",
       "      <th>doc_id</th>\n",
       "      <th>document_create_date</th>\n",
       "      <th>document_create_date.1</th>\n",
       "      <th>due_in_date</th>\n",
       "      <th>posting_id</th>\n",
       "      <th>area_business</th>\n",
       "      <th>total_open_amount</th>\n",
       "      <th>baseline_create_date</th>\n",
       "      <th>invoice_id</th>\n",
       "      <th>isOpen</th>\n",
       "    </tr>\n",
       "  </thead>\n",
       "  <tbody>\n",
       "    <tr>\n",
       "      <th>count</th>\n",
       "      <td>50000.000000</td>\n",
       "      <td>5.000000e+04</td>\n",
       "      <td>5.000000e+04</td>\n",
       "      <td>5.000000e+04</td>\n",
       "      <td>5.000000e+04</td>\n",
       "      <td>50000.0</td>\n",
       "      <td>0.0</td>\n",
       "      <td>50000.000000</td>\n",
       "      <td>5.000000e+04</td>\n",
       "      <td>4.999400e+04</td>\n",
       "      <td>50000.000000</td>\n",
       "    </tr>\n",
       "    <tr>\n",
       "      <th>mean</th>\n",
       "      <td>2019.305700</td>\n",
       "      <td>2.012238e+09</td>\n",
       "      <td>2.019351e+07</td>\n",
       "      <td>2.019354e+07</td>\n",
       "      <td>2.019368e+07</td>\n",
       "      <td>1.0</td>\n",
       "      <td>NaN</td>\n",
       "      <td>32337.021651</td>\n",
       "      <td>2.019354e+07</td>\n",
       "      <td>2.011340e+09</td>\n",
       "      <td>0.200000</td>\n",
       "    </tr>\n",
       "    <tr>\n",
       "      <th>std</th>\n",
       "      <td>0.460708</td>\n",
       "      <td>2.885235e+08</td>\n",
       "      <td>4.496041e+03</td>\n",
       "      <td>4.482134e+03</td>\n",
       "      <td>4.470614e+03</td>\n",
       "      <td>0.0</td>\n",
       "      <td>NaN</td>\n",
       "      <td>39205.975231</td>\n",
       "      <td>4.482701e+03</td>\n",
       "      <td>2.766335e+08</td>\n",
       "      <td>0.400004</td>\n",
       "    </tr>\n",
       "    <tr>\n",
       "      <th>min</th>\n",
       "      <td>2019.000000</td>\n",
       "      <td>1.928502e+09</td>\n",
       "      <td>2.018123e+07</td>\n",
       "      <td>2.018123e+07</td>\n",
       "      <td>2.018122e+07</td>\n",
       "      <td>1.0</td>\n",
       "      <td>NaN</td>\n",
       "      <td>0.720000</td>\n",
       "      <td>2.018121e+07</td>\n",
       "      <td>1.928502e+09</td>\n",
       "      <td>0.000000</td>\n",
       "    </tr>\n",
       "    <tr>\n",
       "      <th>25%</th>\n",
       "      <td>2019.000000</td>\n",
       "      <td>1.929342e+09</td>\n",
       "      <td>2.019050e+07</td>\n",
       "      <td>2.019051e+07</td>\n",
       "      <td>2.019052e+07</td>\n",
       "      <td>1.0</td>\n",
       "      <td>NaN</td>\n",
       "      <td>4928.312500</td>\n",
       "      <td>2.019050e+07</td>\n",
       "      <td>1.929342e+09</td>\n",
       "      <td>0.000000</td>\n",
       "    </tr>\n",
       "    <tr>\n",
       "      <th>50%</th>\n",
       "      <td>2019.000000</td>\n",
       "      <td>1.929964e+09</td>\n",
       "      <td>2.019091e+07</td>\n",
       "      <td>2.019091e+07</td>\n",
       "      <td>2.019093e+07</td>\n",
       "      <td>1.0</td>\n",
       "      <td>NaN</td>\n",
       "      <td>17609.010000</td>\n",
       "      <td>2.019091e+07</td>\n",
       "      <td>1.929964e+09</td>\n",
       "      <td>0.000000</td>\n",
       "    </tr>\n",
       "    <tr>\n",
       "      <th>75%</th>\n",
       "      <td>2020.000000</td>\n",
       "      <td>1.930619e+09</td>\n",
       "      <td>2.020013e+07</td>\n",
       "      <td>2.020013e+07</td>\n",
       "      <td>2.020022e+07</td>\n",
       "      <td>1.0</td>\n",
       "      <td>NaN</td>\n",
       "      <td>47133.635000</td>\n",
       "      <td>2.020013e+07</td>\n",
       "      <td>1.930619e+09</td>\n",
       "      <td>0.000000</td>\n",
       "    </tr>\n",
       "    <tr>\n",
       "      <th>max</th>\n",
       "      <td>2020.000000</td>\n",
       "      <td>9.500000e+09</td>\n",
       "      <td>2.020052e+07</td>\n",
       "      <td>2.020052e+07</td>\n",
       "      <td>2.020071e+07</td>\n",
       "      <td>1.0</td>\n",
       "      <td>NaN</td>\n",
       "      <td>668593.360000</td>\n",
       "      <td>2.020052e+07</td>\n",
       "      <td>2.960636e+09</td>\n",
       "      <td>1.000000</td>\n",
       "    </tr>\n",
       "  </tbody>\n",
       "</table>\n",
       "</div>"
      ],
      "text/plain": [
       "       buisness_year        doc_id  document_create_date  \\\n",
       "count   50000.000000  5.000000e+04          5.000000e+04   \n",
       "mean     2019.305700  2.012238e+09          2.019351e+07   \n",
       "std         0.460708  2.885235e+08          4.496041e+03   \n",
       "min      2019.000000  1.928502e+09          2.018123e+07   \n",
       "25%      2019.000000  1.929342e+09          2.019050e+07   \n",
       "50%      2019.000000  1.929964e+09          2.019091e+07   \n",
       "75%      2020.000000  1.930619e+09          2.020013e+07   \n",
       "max      2020.000000  9.500000e+09          2.020052e+07   \n",
       "\n",
       "       document_create_date.1   due_in_date  posting_id  area_business  \\\n",
       "count            5.000000e+04  5.000000e+04     50000.0            0.0   \n",
       "mean             2.019354e+07  2.019368e+07         1.0            NaN   \n",
       "std              4.482134e+03  4.470614e+03         0.0            NaN   \n",
       "min              2.018123e+07  2.018122e+07         1.0            NaN   \n",
       "25%              2.019051e+07  2.019052e+07         1.0            NaN   \n",
       "50%              2.019091e+07  2.019093e+07         1.0            NaN   \n",
       "75%              2.020013e+07  2.020022e+07         1.0            NaN   \n",
       "max              2.020052e+07  2.020071e+07         1.0            NaN   \n",
       "\n",
       "       total_open_amount  baseline_create_date    invoice_id        isOpen  \n",
       "count       50000.000000          5.000000e+04  4.999400e+04  50000.000000  \n",
       "mean        32337.021651          2.019354e+07  2.011340e+09      0.200000  \n",
       "std         39205.975231          4.482701e+03  2.766335e+08      0.400004  \n",
       "min             0.720000          2.018121e+07  1.928502e+09      0.000000  \n",
       "25%          4928.312500          2.019050e+07  1.929342e+09      0.000000  \n",
       "50%         17609.010000          2.019091e+07  1.929964e+09      0.000000  \n",
       "75%         47133.635000          2.020013e+07  1.930619e+09      0.000000  \n",
       "max        668593.360000          2.020052e+07  2.960636e+09      1.000000  "
      ]
     },
     "execution_count": 8,
     "metadata": {},
     "output_type": "execute_result"
    }
   ],
   "source": [
    "df.describe()"
   ]
  },
  {
   "cell_type": "markdown",
   "id": "0f2c8d02",
   "metadata": {
    "id": "0f2c8d02"
   },
   "source": [
    "# Data Cleaning\n",
    "\n",
    "- Show top 5 records from the dataset"
   ]
  },
  {
   "cell_type": "code",
   "execution_count": 9,
   "id": "8f876212",
   "metadata": {
    "id": "8f876212"
   },
   "outputs": [
    {
     "data": {
      "text/html": [
       "<div>\n",
       "<style scoped>\n",
       "    .dataframe tbody tr th:only-of-type {\n",
       "        vertical-align: middle;\n",
       "    }\n",
       "\n",
       "    .dataframe tbody tr th {\n",
       "        vertical-align: top;\n",
       "    }\n",
       "\n",
       "    .dataframe thead th {\n",
       "        text-align: right;\n",
       "    }\n",
       "</style>\n",
       "<table border=\"1\" class=\"dataframe\">\n",
       "  <thead>\n",
       "    <tr style=\"text-align: right;\">\n",
       "      <th></th>\n",
       "      <th>business_code</th>\n",
       "      <th>cust_number</th>\n",
       "      <th>name_customer</th>\n",
       "      <th>clear_date</th>\n",
       "      <th>buisness_year</th>\n",
       "      <th>doc_id</th>\n",
       "      <th>posting_date</th>\n",
       "      <th>document_create_date</th>\n",
       "      <th>document_create_date.1</th>\n",
       "      <th>due_in_date</th>\n",
       "      <th>invoice_currency</th>\n",
       "      <th>document type</th>\n",
       "      <th>posting_id</th>\n",
       "      <th>area_business</th>\n",
       "      <th>total_open_amount</th>\n",
       "      <th>baseline_create_date</th>\n",
       "      <th>cust_payment_terms</th>\n",
       "      <th>invoice_id</th>\n",
       "      <th>isOpen</th>\n",
       "    </tr>\n",
       "  </thead>\n",
       "  <tbody>\n",
       "    <tr>\n",
       "      <th>0</th>\n",
       "      <td>U001</td>\n",
       "      <td>0200769623</td>\n",
       "      <td>WAL-MAR corp</td>\n",
       "      <td>2020-02-11 00:00:00</td>\n",
       "      <td>2020.0</td>\n",
       "      <td>1.930438e+09</td>\n",
       "      <td>2020-01-26</td>\n",
       "      <td>20200125</td>\n",
       "      <td>20200126</td>\n",
       "      <td>20200210.0</td>\n",
       "      <td>USD</td>\n",
       "      <td>RV</td>\n",
       "      <td>1.0</td>\n",
       "      <td>NaN</td>\n",
       "      <td>54273.28</td>\n",
       "      <td>20200126.0</td>\n",
       "      <td>NAH4</td>\n",
       "      <td>1.930438e+09</td>\n",
       "      <td>0</td>\n",
       "    </tr>\n",
       "    <tr>\n",
       "      <th>1</th>\n",
       "      <td>U001</td>\n",
       "      <td>0200980828</td>\n",
       "      <td>BEN E</td>\n",
       "      <td>2019-08-08 00:00:00</td>\n",
       "      <td>2019.0</td>\n",
       "      <td>1.929646e+09</td>\n",
       "      <td>2019-07-22</td>\n",
       "      <td>20190722</td>\n",
       "      <td>20190722</td>\n",
       "      <td>20190811.0</td>\n",
       "      <td>USD</td>\n",
       "      <td>RV</td>\n",
       "      <td>1.0</td>\n",
       "      <td>NaN</td>\n",
       "      <td>79656.60</td>\n",
       "      <td>20190722.0</td>\n",
       "      <td>NAD1</td>\n",
       "      <td>1.929646e+09</td>\n",
       "      <td>0</td>\n",
       "    </tr>\n",
       "    <tr>\n",
       "      <th>2</th>\n",
       "      <td>U001</td>\n",
       "      <td>0200792734</td>\n",
       "      <td>MDV/ trust</td>\n",
       "      <td>2019-12-30 00:00:00</td>\n",
       "      <td>2019.0</td>\n",
       "      <td>1.929874e+09</td>\n",
       "      <td>2019-09-14</td>\n",
       "      <td>20190914</td>\n",
       "      <td>20190914</td>\n",
       "      <td>20190929.0</td>\n",
       "      <td>USD</td>\n",
       "      <td>RV</td>\n",
       "      <td>1.0</td>\n",
       "      <td>NaN</td>\n",
       "      <td>2253.86</td>\n",
       "      <td>20190914.0</td>\n",
       "      <td>NAA8</td>\n",
       "      <td>1.929874e+09</td>\n",
       "      <td>0</td>\n",
       "    </tr>\n",
       "    <tr>\n",
       "      <th>3</th>\n",
       "      <td>CA02</td>\n",
       "      <td>0140105686</td>\n",
       "      <td>SYSC llc</td>\n",
       "      <td>NaN</td>\n",
       "      <td>2020.0</td>\n",
       "      <td>2.960623e+09</td>\n",
       "      <td>2020-03-30</td>\n",
       "      <td>20200330</td>\n",
       "      <td>20200330</td>\n",
       "      <td>20200410.0</td>\n",
       "      <td>CAD</td>\n",
       "      <td>RV</td>\n",
       "      <td>1.0</td>\n",
       "      <td>NaN</td>\n",
       "      <td>3299.70</td>\n",
       "      <td>20200331.0</td>\n",
       "      <td>CA10</td>\n",
       "      <td>2.960623e+09</td>\n",
       "      <td>1</td>\n",
       "    </tr>\n",
       "    <tr>\n",
       "      <th>4</th>\n",
       "      <td>U001</td>\n",
       "      <td>0200769623</td>\n",
       "      <td>WAL-MAR foundation</td>\n",
       "      <td>2019-11-25 00:00:00</td>\n",
       "      <td>2019.0</td>\n",
       "      <td>1.930148e+09</td>\n",
       "      <td>2019-11-13</td>\n",
       "      <td>20191113</td>\n",
       "      <td>20191113</td>\n",
       "      <td>20191128.0</td>\n",
       "      <td>USD</td>\n",
       "      <td>RV</td>\n",
       "      <td>1.0</td>\n",
       "      <td>NaN</td>\n",
       "      <td>33133.29</td>\n",
       "      <td>20191113.0</td>\n",
       "      <td>NAH4</td>\n",
       "      <td>1.930148e+09</td>\n",
       "      <td>0</td>\n",
       "    </tr>\n",
       "  </tbody>\n",
       "</table>\n",
       "</div>"
      ],
      "text/plain": [
       "  business_code cust_number       name_customer           clear_date  \\\n",
       "0          U001  0200769623        WAL-MAR corp  2020-02-11 00:00:00   \n",
       "1          U001  0200980828              BEN E   2019-08-08 00:00:00   \n",
       "2          U001  0200792734          MDV/ trust  2019-12-30 00:00:00   \n",
       "3          CA02  0140105686            SYSC llc                  NaN   \n",
       "4          U001  0200769623  WAL-MAR foundation  2019-11-25 00:00:00   \n",
       "\n",
       "   buisness_year        doc_id posting_date  document_create_date  \\\n",
       "0         2020.0  1.930438e+09   2020-01-26              20200125   \n",
       "1         2019.0  1.929646e+09   2019-07-22              20190722   \n",
       "2         2019.0  1.929874e+09   2019-09-14              20190914   \n",
       "3         2020.0  2.960623e+09   2020-03-30              20200330   \n",
       "4         2019.0  1.930148e+09   2019-11-13              20191113   \n",
       "\n",
       "   document_create_date.1  due_in_date invoice_currency document type  \\\n",
       "0                20200126   20200210.0              USD            RV   \n",
       "1                20190722   20190811.0              USD            RV   \n",
       "2                20190914   20190929.0              USD            RV   \n",
       "3                20200330   20200410.0              CAD            RV   \n",
       "4                20191113   20191128.0              USD            RV   \n",
       "\n",
       "   posting_id  area_business  total_open_amount  baseline_create_date  \\\n",
       "0         1.0            NaN           54273.28            20200126.0   \n",
       "1         1.0            NaN           79656.60            20190722.0   \n",
       "2         1.0            NaN            2253.86            20190914.0   \n",
       "3         1.0            NaN            3299.70            20200331.0   \n",
       "4         1.0            NaN           33133.29            20191113.0   \n",
       "\n",
       "  cust_payment_terms    invoice_id  isOpen  \n",
       "0               NAH4  1.930438e+09       0  \n",
       "1               NAD1  1.929646e+09       0  \n",
       "2               NAA8  1.929874e+09       0  \n",
       "3               CA10  2.960623e+09       1  \n",
       "4               NAH4  1.930148e+09       0  "
      ]
     },
     "execution_count": 9,
     "metadata": {},
     "output_type": "execute_result"
    }
   ],
   "source": [
    "df.head()"
   ]
  },
  {
   "cell_type": "markdown",
   "id": "92b044e4",
   "metadata": {
    "id": "92b044e4"
   },
   "source": [
    "### Display the Null values percentage against every columns (compare to the total number of records)\n",
    "\n",
    "- Output expected : area_business - 100% null, clear_data = 20% null, invoice_id = 0.12% null"
   ]
  },
  {
   "cell_type": "code",
   "execution_count": 10,
   "id": "24c7b13d",
   "metadata": {
    "id": "24c7b13d"
   },
   "outputs": [
    {
     "data": {
      "text/plain": [
       "business_code               0.000\n",
       "cust_number                 0.000\n",
       "name_customer               0.000\n",
       "clear_date                 20.000\n",
       "buisness_year               0.000\n",
       "doc_id                      0.000\n",
       "posting_date                0.000\n",
       "document_create_date        0.000\n",
       "document_create_date.1      0.000\n",
       "due_in_date                 0.000\n",
       "invoice_currency            0.000\n",
       "document type               0.000\n",
       "posting_id                  0.000\n",
       "area_business             100.000\n",
       "total_open_amount           0.000\n",
       "baseline_create_date        0.000\n",
       "cust_payment_terms          0.000\n",
       "invoice_id                  0.012\n",
       "isOpen                      0.000\n",
       "dtype: float64"
      ]
     },
     "execution_count": 10,
     "metadata": {},
     "output_type": "execute_result"
    }
   ],
   "source": [
    "df.isna().mean().round(5) * 100"
   ]
  },
  {
   "cell_type": "markdown",
   "id": "2c46a98b",
   "metadata": {
    "id": "2c46a98b"
   },
   "source": [
    "### Display Invoice_id and Doc_Id\n",
    "\n",
    "- Note - Many of the would have same invoice_id and doc_id\n"
   ]
  },
  {
   "cell_type": "code",
   "execution_count": 11,
   "id": "038f24bb",
   "metadata": {
    "id": "038f24bb"
   },
   "outputs": [
    {
     "data": {
      "text/html": [
       "<div>\n",
       "<style scoped>\n",
       "    .dataframe tbody tr th:only-of-type {\n",
       "        vertical-align: middle;\n",
       "    }\n",
       "\n",
       "    .dataframe tbody tr th {\n",
       "        vertical-align: top;\n",
       "    }\n",
       "\n",
       "    .dataframe thead th {\n",
       "        text-align: right;\n",
       "    }\n",
       "</style>\n",
       "<table border=\"1\" class=\"dataframe\">\n",
       "  <thead>\n",
       "    <tr style=\"text-align: right;\">\n",
       "      <th></th>\n",
       "      <th>invoice_id</th>\n",
       "      <th>doc_id</th>\n",
       "    </tr>\n",
       "  </thead>\n",
       "  <tbody>\n",
       "    <tr>\n",
       "      <th>0</th>\n",
       "      <td>1.930438e+09</td>\n",
       "      <td>1.930438e+09</td>\n",
       "    </tr>\n",
       "    <tr>\n",
       "      <th>1</th>\n",
       "      <td>1.929646e+09</td>\n",
       "      <td>1.929646e+09</td>\n",
       "    </tr>\n",
       "    <tr>\n",
       "      <th>2</th>\n",
       "      <td>1.929874e+09</td>\n",
       "      <td>1.929874e+09</td>\n",
       "    </tr>\n",
       "    <tr>\n",
       "      <th>3</th>\n",
       "      <td>2.960623e+09</td>\n",
       "      <td>2.960623e+09</td>\n",
       "    </tr>\n",
       "    <tr>\n",
       "      <th>4</th>\n",
       "      <td>1.930148e+09</td>\n",
       "      <td>1.930148e+09</td>\n",
       "    </tr>\n",
       "    <tr>\n",
       "      <th>...</th>\n",
       "      <td>...</td>\n",
       "      <td>...</td>\n",
       "    </tr>\n",
       "    <tr>\n",
       "      <th>49995</th>\n",
       "      <td>1.930797e+09</td>\n",
       "      <td>1.930797e+09</td>\n",
       "    </tr>\n",
       "    <tr>\n",
       "      <th>49996</th>\n",
       "      <td>1.929744e+09</td>\n",
       "      <td>1.929744e+09</td>\n",
       "    </tr>\n",
       "    <tr>\n",
       "      <th>49997</th>\n",
       "      <td>1.930537e+09</td>\n",
       "      <td>1.930537e+09</td>\n",
       "    </tr>\n",
       "    <tr>\n",
       "      <th>49998</th>\n",
       "      <td>1.930199e+09</td>\n",
       "      <td>1.930199e+09</td>\n",
       "    </tr>\n",
       "    <tr>\n",
       "      <th>49999</th>\n",
       "      <td>1.928576e+09</td>\n",
       "      <td>1.928576e+09</td>\n",
       "    </tr>\n",
       "  </tbody>\n",
       "</table>\n",
       "<p>50000 rows × 2 columns</p>\n",
       "</div>"
      ],
      "text/plain": [
       "         invoice_id        doc_id\n",
       "0      1.930438e+09  1.930438e+09\n",
       "1      1.929646e+09  1.929646e+09\n",
       "2      1.929874e+09  1.929874e+09\n",
       "3      2.960623e+09  2.960623e+09\n",
       "4      1.930148e+09  1.930148e+09\n",
       "...             ...           ...\n",
       "49995  1.930797e+09  1.930797e+09\n",
       "49996  1.929744e+09  1.929744e+09\n",
       "49997  1.930537e+09  1.930537e+09\n",
       "49998  1.930199e+09  1.930199e+09\n",
       "49999  1.928576e+09  1.928576e+09\n",
       "\n",
       "[50000 rows x 2 columns]"
      ]
     },
     "execution_count": 11,
     "metadata": {},
     "output_type": "execute_result"
    }
   ],
   "source": [
    "df[['invoice_id','doc_id']]"
   ]
  },
  {
   "cell_type": "markdown",
   "id": "18cfe10a",
   "metadata": {
    "id": "18cfe10a"
   },
   "source": [
    "#### Write a code to check - 'baseline_create_date',\"document_create_date\",'document_create_date.1' - these columns are almost same.\n",
    "\n",
    "- Please note, if they are same, we need to drop them later\n",
    "\n"
   ]
  },
  {
   "cell_type": "code",
   "execution_count": 12,
   "id": "cf5b40ff",
   "metadata": {
    "id": "cf5b40ff"
   },
   "outputs": [
    {
     "data": {
      "text/html": [
       "<div>\n",
       "<style scoped>\n",
       "    .dataframe tbody tr th:only-of-type {\n",
       "        vertical-align: middle;\n",
       "    }\n",
       "\n",
       "    .dataframe tbody tr th {\n",
       "        vertical-align: top;\n",
       "    }\n",
       "\n",
       "    .dataframe thead th {\n",
       "        text-align: right;\n",
       "    }\n",
       "</style>\n",
       "<table border=\"1\" class=\"dataframe\">\n",
       "  <thead>\n",
       "    <tr style=\"text-align: right;\">\n",
       "      <th></th>\n",
       "      <th>baseline_create_date</th>\n",
       "      <th>document_create_date</th>\n",
       "      <th>document_create_date.1</th>\n",
       "    </tr>\n",
       "  </thead>\n",
       "  <tbody>\n",
       "    <tr>\n",
       "      <th>0</th>\n",
       "      <td>20200126.0</td>\n",
       "      <td>20200125</td>\n",
       "      <td>20200126</td>\n",
       "    </tr>\n",
       "    <tr>\n",
       "      <th>1</th>\n",
       "      <td>20190722.0</td>\n",
       "      <td>20190722</td>\n",
       "      <td>20190722</td>\n",
       "    </tr>\n",
       "    <tr>\n",
       "      <th>2</th>\n",
       "      <td>20190914.0</td>\n",
       "      <td>20190914</td>\n",
       "      <td>20190914</td>\n",
       "    </tr>\n",
       "    <tr>\n",
       "      <th>3</th>\n",
       "      <td>20200331.0</td>\n",
       "      <td>20200330</td>\n",
       "      <td>20200330</td>\n",
       "    </tr>\n",
       "    <tr>\n",
       "      <th>4</th>\n",
       "      <td>20191113.0</td>\n",
       "      <td>20191113</td>\n",
       "      <td>20191113</td>\n",
       "    </tr>\n",
       "    <tr>\n",
       "      <th>...</th>\n",
       "      <td>...</td>\n",
       "      <td>...</td>\n",
       "      <td>...</td>\n",
       "    </tr>\n",
       "    <tr>\n",
       "      <th>49995</th>\n",
       "      <td>20200421.0</td>\n",
       "      <td>20200417</td>\n",
       "      <td>20200421</td>\n",
       "    </tr>\n",
       "    <tr>\n",
       "      <th>49996</th>\n",
       "      <td>20190815.0</td>\n",
       "      <td>20190814</td>\n",
       "      <td>20190815</td>\n",
       "    </tr>\n",
       "    <tr>\n",
       "      <th>49997</th>\n",
       "      <td>20200219.0</td>\n",
       "      <td>20200218</td>\n",
       "      <td>20200219</td>\n",
       "    </tr>\n",
       "    <tr>\n",
       "      <th>49998</th>\n",
       "      <td>20191127.0</td>\n",
       "      <td>20191126</td>\n",
       "      <td>20191127</td>\n",
       "    </tr>\n",
       "    <tr>\n",
       "      <th>49999</th>\n",
       "      <td>20190101.0</td>\n",
       "      <td>20190105</td>\n",
       "      <td>20190105</td>\n",
       "    </tr>\n",
       "  </tbody>\n",
       "</table>\n",
       "<p>50000 rows × 3 columns</p>\n",
       "</div>"
      ],
      "text/plain": [
       "       baseline_create_date  document_create_date  document_create_date.1\n",
       "0                20200126.0              20200125                20200126\n",
       "1                20190722.0              20190722                20190722\n",
       "2                20190914.0              20190914                20190914\n",
       "3                20200331.0              20200330                20200330\n",
       "4                20191113.0              20191113                20191113\n",
       "...                     ...                   ...                     ...\n",
       "49995            20200421.0              20200417                20200421\n",
       "49996            20190815.0              20190814                20190815\n",
       "49997            20200219.0              20200218                20200219\n",
       "49998            20191127.0              20191126                20191127\n",
       "49999            20190101.0              20190105                20190105\n",
       "\n",
       "[50000 rows x 3 columns]"
      ]
     },
     "execution_count": 12,
     "metadata": {},
     "output_type": "execute_result"
    }
   ],
   "source": [
    "df[['baseline_create_date','document_create_date','document_create_date.1']]"
   ]
  },
  {
   "cell_type": "markdown",
   "id": "33110576",
   "metadata": {
    "id": "33110576"
   },
   "source": [
    "#### Please check, Column 'posting_id' is constant columns or not\n"
   ]
  },
  {
   "cell_type": "code",
   "execution_count": 13,
   "id": "ecce2664",
   "metadata": {
    "id": "ecce2664"
   },
   "outputs": [
    {
     "data": {
      "text/plain": [
       "1"
      ]
     },
     "execution_count": 13,
     "metadata": {},
     "output_type": "execute_result"
    }
   ],
   "source": [
    "df['posting_id'].nunique()\n",
    "#only 1 unique value implies that 'posting_id' can be considered as a constant column"
   ]
  },
  {
   "cell_type": "markdown",
   "id": "e5fb8daf",
   "metadata": {
    "id": "e5fb8daf"
   },
   "source": [
    "#### Please check 'isOpen' is a constant column and relevant column for this project or not"
   ]
  },
  {
   "cell_type": "code",
   "execution_count": 14,
   "id": "8db9956b",
   "metadata": {
    "id": "8db9956b"
   },
   "outputs": [],
   "source": [
    "#####df['isOpen'].nunique()"
   ]
  },
  {
   "cell_type": "markdown",
   "id": "45a11a62",
   "metadata": {
    "id": "45a11a62"
   },
   "source": [
    "### Write the code to drop all the following columns from the dataframe\n",
    "\n",
    "- 'area_business'\n",
    "- \"posting_id\"\n",
    "- \"invoice_id\"\n",
    "- \"document_create_date\"\n",
    "- \"isOpen\"\n",
    "- 'document type' \n",
    "- 'document_create_date.1"
   ]
  },
  {
   "cell_type": "code",
   "execution_count": 15,
   "id": "270d85d1",
   "metadata": {
    "id": "270d85d1"
   },
   "outputs": [],
   "source": [
    "df.drop(['area_business','posting_id','invoice_id','isOpen','document_create_date','document type','document_create_date.1'],axis=1,inplace=True)"
   ]
  },
  {
   "cell_type": "markdown",
   "id": "K5LHAM2XVGnk",
   "metadata": {
    "id": "K5LHAM2XVGnk"
   },
   "source": [
    "### Please check from the dataframe whether all the columns are removed or not "
   ]
  },
  {
   "cell_type": "code",
   "execution_count": 16,
   "id": "ef3f7d2b",
   "metadata": {
    "id": "ef3f7d2b"
   },
   "outputs": [
    {
     "name": "stdout",
     "output_type": "stream",
     "text": [
      "(50000, 12)\n"
     ]
    },
    {
     "data": {
      "text/plain": [
       "Index(['business_code', 'cust_number', 'name_customer', 'clear_date',\n",
       "       'buisness_year', 'doc_id', 'posting_date', 'due_in_date',\n",
       "       'invoice_currency', 'total_open_amount', 'baseline_create_date',\n",
       "       'cust_payment_terms'],\n",
       "      dtype='object')"
      ]
     },
     "execution_count": 16,
     "metadata": {},
     "output_type": "execute_result"
    }
   ],
   "source": [
    "print(df.shape)\n",
    "df.columns"
   ]
  },
  {
   "cell_type": "markdown",
   "id": "6bc052c7",
   "metadata": {
    "id": "6bc052c7"
   },
   "source": [
    "### Show all the Duplicate rows from the dataframe"
   ]
  },
  {
   "cell_type": "code",
   "execution_count": 17,
   "id": "1ae3c7e4",
   "metadata": {
    "id": "1ae3c7e4"
   },
   "outputs": [
    {
     "data": {
      "text/html": [
       "<div>\n",
       "<style scoped>\n",
       "    .dataframe tbody tr th:only-of-type {\n",
       "        vertical-align: middle;\n",
       "    }\n",
       "\n",
       "    .dataframe tbody tr th {\n",
       "        vertical-align: top;\n",
       "    }\n",
       "\n",
       "    .dataframe thead th {\n",
       "        text-align: right;\n",
       "    }\n",
       "</style>\n",
       "<table border=\"1\" class=\"dataframe\">\n",
       "  <thead>\n",
       "    <tr style=\"text-align: right;\">\n",
       "      <th></th>\n",
       "      <th>business_code</th>\n",
       "      <th>cust_number</th>\n",
       "      <th>name_customer</th>\n",
       "      <th>clear_date</th>\n",
       "      <th>buisness_year</th>\n",
       "      <th>doc_id</th>\n",
       "      <th>posting_date</th>\n",
       "      <th>due_in_date</th>\n",
       "      <th>invoice_currency</th>\n",
       "      <th>total_open_amount</th>\n",
       "      <th>baseline_create_date</th>\n",
       "      <th>cust_payment_terms</th>\n",
       "    </tr>\n",
       "  </thead>\n",
       "  <tbody>\n",
       "    <tr>\n",
       "      <th>1041</th>\n",
       "      <td>U001</td>\n",
       "      <td>0200769623</td>\n",
       "      <td>WAL-MAR in</td>\n",
       "      <td>2019-03-12 00:00:00</td>\n",
       "      <td>2019.0</td>\n",
       "      <td>1.928870e+09</td>\n",
       "      <td>2019-02-28</td>\n",
       "      <td>20190315.0</td>\n",
       "      <td>USD</td>\n",
       "      <td>19557.41</td>\n",
       "      <td>20190228.0</td>\n",
       "      <td>NAH4</td>\n",
       "    </tr>\n",
       "    <tr>\n",
       "      <th>2400</th>\n",
       "      <td>U001</td>\n",
       "      <td>0200769623</td>\n",
       "      <td>WAL-MAR trust</td>\n",
       "      <td>2019-08-28 00:00:00</td>\n",
       "      <td>2019.0</td>\n",
       "      <td>1.929758e+09</td>\n",
       "      <td>2019-08-18</td>\n",
       "      <td>20190902.0</td>\n",
       "      <td>USD</td>\n",
       "      <td>5600.41</td>\n",
       "      <td>20190818.0</td>\n",
       "      <td>NAH4</td>\n",
       "    </tr>\n",
       "    <tr>\n",
       "      <th>2584</th>\n",
       "      <td>U001</td>\n",
       "      <td>0200769623</td>\n",
       "      <td>WAL-MAR corporation</td>\n",
       "      <td>2019-12-16 00:00:00</td>\n",
       "      <td>2019.0</td>\n",
       "      <td>1.930217e+09</td>\n",
       "      <td>2019-12-04</td>\n",
       "      <td>20191219.0</td>\n",
       "      <td>USD</td>\n",
       "      <td>35352.17</td>\n",
       "      <td>20191204.0</td>\n",
       "      <td>NAH4</td>\n",
       "    </tr>\n",
       "    <tr>\n",
       "      <th>3755</th>\n",
       "      <td>U001</td>\n",
       "      <td>0200769623</td>\n",
       "      <td>WAL-MAR</td>\n",
       "      <td>2019-11-22 00:00:00</td>\n",
       "      <td>2019.0</td>\n",
       "      <td>1.930137e+09</td>\n",
       "      <td>2019-11-12</td>\n",
       "      <td>20191127.0</td>\n",
       "      <td>USD</td>\n",
       "      <td>2982.64</td>\n",
       "      <td>20191112.0</td>\n",
       "      <td>NAH4</td>\n",
       "    </tr>\n",
       "    <tr>\n",
       "      <th>3873</th>\n",
       "      <td>CA02</td>\n",
       "      <td>0140104409</td>\n",
       "      <td>LOB associates</td>\n",
       "      <td>NaN</td>\n",
       "      <td>2020.0</td>\n",
       "      <td>2.960629e+09</td>\n",
       "      <td>2020-04-14</td>\n",
       "      <td>20200425.0</td>\n",
       "      <td>CAD</td>\n",
       "      <td>82975.82</td>\n",
       "      <td>20200415.0</td>\n",
       "      <td>CA10</td>\n",
       "    </tr>\n",
       "    <tr>\n",
       "      <th>...</th>\n",
       "      <td>...</td>\n",
       "      <td>...</td>\n",
       "      <td>...</td>\n",
       "      <td>...</td>\n",
       "      <td>...</td>\n",
       "      <td>...</td>\n",
       "      <td>...</td>\n",
       "      <td>...</td>\n",
       "      <td>...</td>\n",
       "      <td>...</td>\n",
       "      <td>...</td>\n",
       "      <td>...</td>\n",
       "    </tr>\n",
       "    <tr>\n",
       "      <th>49928</th>\n",
       "      <td>U001</td>\n",
       "      <td>0200915438</td>\n",
       "      <td>GROC trust</td>\n",
       "      <td>2019-08-15 00:00:00</td>\n",
       "      <td>2019.0</td>\n",
       "      <td>1.929646e+09</td>\n",
       "      <td>2019-07-25</td>\n",
       "      <td>20190809.0</td>\n",
       "      <td>USD</td>\n",
       "      <td>6969.00</td>\n",
       "      <td>20190725.0</td>\n",
       "      <td>NAA8</td>\n",
       "    </tr>\n",
       "    <tr>\n",
       "      <th>49963</th>\n",
       "      <td>U001</td>\n",
       "      <td>0200759878</td>\n",
       "      <td>SA us</td>\n",
       "      <td>2019-01-29 00:00:00</td>\n",
       "      <td>2019.0</td>\n",
       "      <td>1.928614e+09</td>\n",
       "      <td>2019-01-13</td>\n",
       "      <td>20190128.0</td>\n",
       "      <td>USD</td>\n",
       "      <td>10968.24</td>\n",
       "      <td>20190113.0</td>\n",
       "      <td>NAH4</td>\n",
       "    </tr>\n",
       "    <tr>\n",
       "      <th>49986</th>\n",
       "      <td>U001</td>\n",
       "      <td>0200772670</td>\n",
       "      <td>ASSOCIAT foundation</td>\n",
       "      <td>2019-06-12 00:00:00</td>\n",
       "      <td>2019.0</td>\n",
       "      <td>1.929403e+09</td>\n",
       "      <td>2019-05-29</td>\n",
       "      <td>20190613.0</td>\n",
       "      <td>USD</td>\n",
       "      <td>155837.53</td>\n",
       "      <td>20190529.0</td>\n",
       "      <td>NAU5</td>\n",
       "    </tr>\n",
       "    <tr>\n",
       "      <th>49990</th>\n",
       "      <td>U001</td>\n",
       "      <td>0200765011</td>\n",
       "      <td>MAINES llc</td>\n",
       "      <td>2019-06-06 00:00:00</td>\n",
       "      <td>2019.0</td>\n",
       "      <td>1.929365e+09</td>\n",
       "      <td>2019-05-22</td>\n",
       "      <td>20190606.0</td>\n",
       "      <td>USD</td>\n",
       "      <td>4008.05</td>\n",
       "      <td>20190522.0</td>\n",
       "      <td>NAA8</td>\n",
       "    </tr>\n",
       "    <tr>\n",
       "      <th>49991</th>\n",
       "      <td>U001</td>\n",
       "      <td>0200704045</td>\n",
       "      <td>RA trust</td>\n",
       "      <td>2019-10-25 00:00:00</td>\n",
       "      <td>2019.0</td>\n",
       "      <td>1.930001e+09</td>\n",
       "      <td>2019-10-10</td>\n",
       "      <td>20191025.0</td>\n",
       "      <td>USD</td>\n",
       "      <td>73002.24</td>\n",
       "      <td>20191010.0</td>\n",
       "      <td>NAA8</td>\n",
       "    </tr>\n",
       "  </tbody>\n",
       "</table>\n",
       "<p>1161 rows × 12 columns</p>\n",
       "</div>"
      ],
      "text/plain": [
       "      business_code cust_number        name_customer           clear_date  \\\n",
       "1041           U001  0200769623           WAL-MAR in  2019-03-12 00:00:00   \n",
       "2400           U001  0200769623        WAL-MAR trust  2019-08-28 00:00:00   \n",
       "2584           U001  0200769623  WAL-MAR corporation  2019-12-16 00:00:00   \n",
       "3755           U001  0200769623             WAL-MAR   2019-11-22 00:00:00   \n",
       "3873           CA02  0140104409       LOB associates                  NaN   \n",
       "...             ...         ...                  ...                  ...   \n",
       "49928          U001  0200915438           GROC trust  2019-08-15 00:00:00   \n",
       "49963          U001  0200759878                SA us  2019-01-29 00:00:00   \n",
       "49986          U001  0200772670  ASSOCIAT foundation  2019-06-12 00:00:00   \n",
       "49990          U001  0200765011           MAINES llc  2019-06-06 00:00:00   \n",
       "49991          U001  0200704045             RA trust  2019-10-25 00:00:00   \n",
       "\n",
       "       buisness_year        doc_id posting_date  due_in_date invoice_currency  \\\n",
       "1041          2019.0  1.928870e+09   2019-02-28   20190315.0              USD   \n",
       "2400          2019.0  1.929758e+09   2019-08-18   20190902.0              USD   \n",
       "2584          2019.0  1.930217e+09   2019-12-04   20191219.0              USD   \n",
       "3755          2019.0  1.930137e+09   2019-11-12   20191127.0              USD   \n",
       "3873          2020.0  2.960629e+09   2020-04-14   20200425.0              CAD   \n",
       "...              ...           ...          ...          ...              ...   \n",
       "49928         2019.0  1.929646e+09   2019-07-25   20190809.0              USD   \n",
       "49963         2019.0  1.928614e+09   2019-01-13   20190128.0              USD   \n",
       "49986         2019.0  1.929403e+09   2019-05-29   20190613.0              USD   \n",
       "49990         2019.0  1.929365e+09   2019-05-22   20190606.0              USD   \n",
       "49991         2019.0  1.930001e+09   2019-10-10   20191025.0              USD   \n",
       "\n",
       "       total_open_amount  baseline_create_date cust_payment_terms  \n",
       "1041            19557.41            20190228.0               NAH4  \n",
       "2400             5600.41            20190818.0               NAH4  \n",
       "2584            35352.17            20191204.0               NAH4  \n",
       "3755             2982.64            20191112.0               NAH4  \n",
       "3873            82975.82            20200415.0               CA10  \n",
       "...                  ...                   ...                ...  \n",
       "49928            6969.00            20190725.0               NAA8  \n",
       "49963           10968.24            20190113.0               NAH4  \n",
       "49986          155837.53            20190529.0               NAU5  \n",
       "49990            4008.05            20190522.0               NAA8  \n",
       "49991           73002.24            20191010.0               NAA8  \n",
       "\n",
       "[1161 rows x 12 columns]"
      ]
     },
     "execution_count": 17,
     "metadata": {},
     "output_type": "execute_result"
    }
   ],
   "source": [
    "duplicate = df[df.duplicated()==True]\n",
    "duplicate"
   ]
  },
  {
   "cell_type": "markdown",
   "id": "464fab09",
   "metadata": {
    "id": "464fab09"
   },
   "source": [
    "### Display the Number of Duplicate Rows"
   ]
  },
  {
   "cell_type": "code",
   "execution_count": 18,
   "id": "b1ea2397",
   "metadata": {
    "id": "b1ea2397"
   },
   "outputs": [
    {
     "data": {
      "text/plain": [
       "(1161, 12)"
      ]
     },
     "execution_count": 18,
     "metadata": {},
     "output_type": "execute_result"
    }
   ],
   "source": [
    "duplicate.shape"
   ]
  },
  {
   "cell_type": "markdown",
   "id": "827a6718",
   "metadata": {
    "id": "827a6718"
   },
   "source": [
    "### Drop all the Duplicate Rows"
   ]
  },
  {
   "cell_type": "code",
   "execution_count": 19,
   "id": "5d10151c",
   "metadata": {
    "id": "5d10151c"
   },
   "outputs": [],
   "source": [
    "df.drop_duplicates(inplace=True)"
   ]
  },
  {
   "cell_type": "markdown",
   "id": "7e5d1f9b",
   "metadata": {
    "id": "7e5d1f9b"
   },
   "source": [
    "#### Now check for all duplicate rows now\n",
    "\n",
    "- Note - It must be 0 by now"
   ]
  },
  {
   "cell_type": "code",
   "execution_count": 20,
   "id": "9accc9fc",
   "metadata": {
    "id": "9accc9fc"
   },
   "outputs": [
    {
     "data": {
      "text/html": [
       "<div>\n",
       "<style scoped>\n",
       "    .dataframe tbody tr th:only-of-type {\n",
       "        vertical-align: middle;\n",
       "    }\n",
       "\n",
       "    .dataframe tbody tr th {\n",
       "        vertical-align: top;\n",
       "    }\n",
       "\n",
       "    .dataframe thead th {\n",
       "        text-align: right;\n",
       "    }\n",
       "</style>\n",
       "<table border=\"1\" class=\"dataframe\">\n",
       "  <thead>\n",
       "    <tr style=\"text-align: right;\">\n",
       "      <th></th>\n",
       "      <th>business_code</th>\n",
       "      <th>cust_number</th>\n",
       "      <th>name_customer</th>\n",
       "      <th>clear_date</th>\n",
       "      <th>buisness_year</th>\n",
       "      <th>doc_id</th>\n",
       "      <th>posting_date</th>\n",
       "      <th>due_in_date</th>\n",
       "      <th>invoice_currency</th>\n",
       "      <th>total_open_amount</th>\n",
       "      <th>baseline_create_date</th>\n",
       "      <th>cust_payment_terms</th>\n",
       "    </tr>\n",
       "  </thead>\n",
       "  <tbody>\n",
       "  </tbody>\n",
       "</table>\n",
       "</div>"
      ],
      "text/plain": [
       "Empty DataFrame\n",
       "Columns: [business_code, cust_number, name_customer, clear_date, buisness_year, doc_id, posting_date, due_in_date, invoice_currency, total_open_amount, baseline_create_date, cust_payment_terms]\n",
       "Index: []"
      ]
     },
     "execution_count": 20,
     "metadata": {},
     "output_type": "execute_result"
    }
   ],
   "source": [
    "duplicate = df[df.duplicated()==True]\n",
    "duplicate"
   ]
  },
  {
   "cell_type": "markdown",
   "id": "d0704898",
   "metadata": {
    "id": "d0704898"
   },
   "source": [
    "### Check for the number of Rows and Columns in your dataset"
   ]
  },
  {
   "cell_type": "code",
   "execution_count": 21,
   "id": "582748a8",
   "metadata": {
    "id": "582748a8"
   },
   "outputs": [
    {
     "data": {
      "text/plain": [
       "(48839, 12)"
      ]
     },
     "execution_count": 21,
     "metadata": {},
     "output_type": "execute_result"
    }
   ],
   "source": [
    "df.shape"
   ]
  },
  {
   "cell_type": "markdown",
   "id": "4o9c5UodWRtl",
   "metadata": {
    "id": "4o9c5UodWRtl"
   },
   "source": [
    "### Find out the total count of null values in each columns"
   ]
  },
  {
   "cell_type": "code",
   "execution_count": 22,
   "id": "b0612cb5",
   "metadata": {
    "id": "b0612cb5"
   },
   "outputs": [
    {
     "data": {
      "text/plain": [
       "business_code              0\n",
       "cust_number                0\n",
       "name_customer              0\n",
       "clear_date              9681\n",
       "buisness_year              0\n",
       "doc_id                     0\n",
       "posting_date               0\n",
       "due_in_date                0\n",
       "invoice_currency           0\n",
       "total_open_amount          0\n",
       "baseline_create_date       0\n",
       "cust_payment_terms         0\n",
       "dtype: int64"
      ]
     },
     "execution_count": 22,
     "metadata": {},
     "output_type": "execute_result"
    }
   ],
   "source": [
    "df.isnull().sum()"
   ]
  },
  {
   "cell_type": "markdown",
   "id": "7abdb98b",
   "metadata": {
    "id": "7abdb98b"
   },
   "source": [
    "#Data type Conversion "
   ]
  },
  {
   "cell_type": "markdown",
   "id": "LPfSUSp-WpPj",
   "metadata": {
    "id": "LPfSUSp-WpPj"
   },
   "source": [
    "### Please check the data type of each column of the dataframe"
   ]
  },
  {
   "cell_type": "code",
   "execution_count": 23,
   "id": "689c8592",
   "metadata": {
    "id": "689c8592"
   },
   "outputs": [
    {
     "data": {
      "text/plain": [
       "business_code            object\n",
       "cust_number              object\n",
       "name_customer            object\n",
       "clear_date               object\n",
       "buisness_year           float64\n",
       "doc_id                  float64\n",
       "posting_date             object\n",
       "due_in_date             float64\n",
       "invoice_currency         object\n",
       "total_open_amount       float64\n",
       "baseline_create_date    float64\n",
       "cust_payment_terms       object\n",
       "dtype: object"
      ]
     },
     "execution_count": 23,
     "metadata": {},
     "output_type": "execute_result"
    }
   ],
   "source": [
    "df.dtypes"
   ]
  },
  {
   "cell_type": "markdown",
   "id": "0nsem0_3XzOt",
   "metadata": {
    "id": "0nsem0_3XzOt"
   },
   "source": [
    "### Check the datatype format of below columns\n",
    "\n",
    "- clear_date  \n",
    "- posting_date\n",
    "- due_in_date \n",
    "- baseline_create_date"
   ]
  },
  {
   "cell_type": "code",
   "execution_count": 24,
   "id": "-yyODyW3X6pL",
   "metadata": {
    "id": "-yyODyW3X6pL"
   },
   "outputs": [
    {
     "data": {
      "text/plain": [
       "clear_date               object\n",
       "posting_date             object\n",
       "due_in_date             float64\n",
       "baseline_create_date    float64\n",
       "dtype: object"
      ]
     },
     "execution_count": 24,
     "metadata": {},
     "output_type": "execute_result"
    }
   ],
   "source": [
    "df[['clear_date','posting_date','due_in_date','baseline_create_date']].dtypes"
   ]
  },
  {
   "cell_type": "markdown",
   "id": "11cf9478",
   "metadata": {
    "id": "11cf9478"
   },
   "source": [
    "### converting date columns into date time formats\n",
    "\n",
    "- clear_date  \n",
    "- posting_date\n",
    "- due_in_date \n",
    "- baseline_create_date\n",
    "\n",
    "\n",
    "- **Note - You have to convert all these above columns into \"%Y%m%d\" format**"
   ]
  },
  {
   "cell_type": "code",
   "execution_count": 25,
   "id": "9a8c6c71",
   "metadata": {
    "id": "9a8c6c71"
   },
   "outputs": [],
   "source": [
    "df['clear_date']= pd.to_datetime(df['clear_date'])\n",
    "df['posting_date']= pd.to_datetime(df['posting_date'],format='%Y-%m-%d')\n",
    "df['due_in_date']= pd.to_datetime(df['due_in_date'],format='%Y%m%d')\n",
    "df['baseline_create_date']= pd.to_datetime(df['baseline_create_date'],format='%Y%m%d')"
   ]
  },
  {
   "cell_type": "code",
   "execution_count": 26,
   "id": "6a5c0bb5",
   "metadata": {},
   "outputs": [
    {
     "data": {
      "text/html": [
       "<div>\n",
       "<style scoped>\n",
       "    .dataframe tbody tr th:only-of-type {\n",
       "        vertical-align: middle;\n",
       "    }\n",
       "\n",
       "    .dataframe tbody tr th {\n",
       "        vertical-align: top;\n",
       "    }\n",
       "\n",
       "    .dataframe thead th {\n",
       "        text-align: right;\n",
       "    }\n",
       "</style>\n",
       "<table border=\"1\" class=\"dataframe\">\n",
       "  <thead>\n",
       "    <tr style=\"text-align: right;\">\n",
       "      <th></th>\n",
       "      <th>clear_date</th>\n",
       "      <th>posting_date</th>\n",
       "      <th>due_in_date</th>\n",
       "      <th>baseline_create_date</th>\n",
       "    </tr>\n",
       "  </thead>\n",
       "  <tbody>\n",
       "    <tr>\n",
       "      <th>0</th>\n",
       "      <td>2020-02-11</td>\n",
       "      <td>2020-01-26</td>\n",
       "      <td>2020-02-10</td>\n",
       "      <td>2020-01-26</td>\n",
       "    </tr>\n",
       "    <tr>\n",
       "      <th>1</th>\n",
       "      <td>2019-08-08</td>\n",
       "      <td>2019-07-22</td>\n",
       "      <td>2019-08-11</td>\n",
       "      <td>2019-07-22</td>\n",
       "    </tr>\n",
       "    <tr>\n",
       "      <th>2</th>\n",
       "      <td>2019-12-30</td>\n",
       "      <td>2019-09-14</td>\n",
       "      <td>2019-09-29</td>\n",
       "      <td>2019-09-14</td>\n",
       "    </tr>\n",
       "    <tr>\n",
       "      <th>3</th>\n",
       "      <td>NaT</td>\n",
       "      <td>2020-03-30</td>\n",
       "      <td>2020-04-10</td>\n",
       "      <td>2020-03-31</td>\n",
       "    </tr>\n",
       "    <tr>\n",
       "      <th>4</th>\n",
       "      <td>2019-11-25</td>\n",
       "      <td>2019-11-13</td>\n",
       "      <td>2019-11-28</td>\n",
       "      <td>2019-11-13</td>\n",
       "    </tr>\n",
       "  </tbody>\n",
       "</table>\n",
       "</div>"
      ],
      "text/plain": [
       "  clear_date posting_date due_in_date baseline_create_date\n",
       "0 2020-02-11   2020-01-26  2020-02-10           2020-01-26\n",
       "1 2019-08-08   2019-07-22  2019-08-11           2019-07-22\n",
       "2 2019-12-30   2019-09-14  2019-09-29           2019-09-14\n",
       "3        NaT   2020-03-30  2020-04-10           2020-03-31\n",
       "4 2019-11-25   2019-11-13  2019-11-28           2019-11-13"
      ]
     },
     "execution_count": 26,
     "metadata": {},
     "output_type": "execute_result"
    }
   ],
   "source": [
    "df[['clear_date','posting_date','due_in_date','baseline_create_date']].head()"
   ]
  },
  {
   "cell_type": "markdown",
   "id": "7adq0wSIYSCS",
   "metadata": {
    "id": "7adq0wSIYSCS"
   },
   "source": [
    "### Please check the datatype of all the columns after conversion of the above 4 columns"
   ]
  },
  {
   "cell_type": "code",
   "execution_count": 27,
   "id": "fd028c61",
   "metadata": {
    "id": "fd028c61"
   },
   "outputs": [
    {
     "data": {
      "text/plain": [
       "baseline_create_date    datetime64[ns]\n",
       "posting_date            datetime64[ns]\n",
       "due_in_date             datetime64[ns]\n",
       "clear_date              datetime64[ns]\n",
       "dtype: object"
      ]
     },
     "execution_count": 27,
     "metadata": {},
     "output_type": "execute_result"
    }
   ],
   "source": [
    "df[['baseline_create_date','posting_date','due_in_date','clear_date']].dtypes"
   ]
  },
  {
   "cell_type": "markdown",
   "id": "8c9882fa",
   "metadata": {
    "id": "8c9882fa"
   },
   "source": [
    "#### the invoice_currency column contains two different categories, USD and CAD\n",
    "\n",
    "- Please do a count of each currency "
   ]
  },
  {
   "cell_type": "code",
   "execution_count": 28,
   "id": "72085397",
   "metadata": {
    "id": "72085397"
   },
   "outputs": [
    {
     "data": {
      "text/plain": [
       "USD    45011\n",
       "CAD     3828\n",
       "Name: invoice_currency, dtype: int64"
      ]
     },
     "execution_count": 28,
     "metadata": {},
     "output_type": "execute_result"
    }
   ],
   "source": [
    "df.invoice_currency.value_counts()"
   ]
  },
  {
   "cell_type": "markdown",
   "id": "6cbe26ee",
   "metadata": {
    "id": "6cbe26ee"
   },
   "source": [
    "#### display the \"total_open_amount\" column value"
   ]
  },
  {
   "cell_type": "code",
   "execution_count": 29,
   "id": "6c49f2ab",
   "metadata": {
    "id": "6c49f2ab"
   },
   "outputs": [
    {
     "data": {
      "text/html": [
       "<div>\n",
       "<style scoped>\n",
       "    .dataframe tbody tr th:only-of-type {\n",
       "        vertical-align: middle;\n",
       "    }\n",
       "\n",
       "    .dataframe tbody tr th {\n",
       "        vertical-align: top;\n",
       "    }\n",
       "\n",
       "    .dataframe thead th {\n",
       "        text-align: right;\n",
       "    }\n",
       "</style>\n",
       "<table border=\"1\" class=\"dataframe\">\n",
       "  <thead>\n",
       "    <tr style=\"text-align: right;\">\n",
       "      <th></th>\n",
       "      <th>total_open_amount</th>\n",
       "    </tr>\n",
       "  </thead>\n",
       "  <tbody>\n",
       "    <tr>\n",
       "      <th>0</th>\n",
       "      <td>54273.28</td>\n",
       "    </tr>\n",
       "    <tr>\n",
       "      <th>1</th>\n",
       "      <td>79656.60</td>\n",
       "    </tr>\n",
       "    <tr>\n",
       "      <th>2</th>\n",
       "      <td>2253.86</td>\n",
       "    </tr>\n",
       "    <tr>\n",
       "      <th>3</th>\n",
       "      <td>3299.70</td>\n",
       "    </tr>\n",
       "    <tr>\n",
       "      <th>4</th>\n",
       "      <td>33133.29</td>\n",
       "    </tr>\n",
       "    <tr>\n",
       "      <th>...</th>\n",
       "      <td>...</td>\n",
       "    </tr>\n",
       "    <tr>\n",
       "      <th>49995</th>\n",
       "      <td>3187.86</td>\n",
       "    </tr>\n",
       "    <tr>\n",
       "      <th>49996</th>\n",
       "      <td>6766.54</td>\n",
       "    </tr>\n",
       "    <tr>\n",
       "      <th>49997</th>\n",
       "      <td>6120.86</td>\n",
       "    </tr>\n",
       "    <tr>\n",
       "      <th>49998</th>\n",
       "      <td>63.48</td>\n",
       "    </tr>\n",
       "    <tr>\n",
       "      <th>49999</th>\n",
       "      <td>1790.30</td>\n",
       "    </tr>\n",
       "  </tbody>\n",
       "</table>\n",
       "<p>48839 rows × 1 columns</p>\n",
       "</div>"
      ],
      "text/plain": [
       "       total_open_amount\n",
       "0               54273.28\n",
       "1               79656.60\n",
       "2                2253.86\n",
       "3                3299.70\n",
       "4               33133.29\n",
       "...                  ...\n",
       "49995            3187.86\n",
       "49996            6766.54\n",
       "49997            6120.86\n",
       "49998              63.48\n",
       "49999            1790.30\n",
       "\n",
       "[48839 rows x 1 columns]"
      ]
     },
     "execution_count": 29,
     "metadata": {},
     "output_type": "execute_result"
    }
   ],
   "source": [
    "df[['total_open_amount']]"
   ]
  },
  {
   "cell_type": "markdown",
   "id": "df899966",
   "metadata": {
    "id": "df899966"
   },
   "source": [
    "### Convert all CAD into USD currency of \"total_open_amount\" column\n",
    "\n",
    "- 1 CAD = 0.7 USD\n",
    "- Create a new column i.e \"converted_usd\" and store USD and convered CAD to USD"
   ]
  },
  {
   "cell_type": "code",
   "execution_count": 30,
   "id": "8eb2f1c5",
   "metadata": {
    "id": "8eb2f1c5"
   },
   "outputs": [],
   "source": [
    "df.replace({\"invoice_currency\": {\"USD\": 1, \"CAD\": .7}}, inplace=True)\n",
    "df['converted_usd'] = df['total_open_amount']*df['invoice_currency']"
   ]
  },
  {
   "cell_type": "markdown",
   "id": "f9f6ef1d",
   "metadata": {
    "id": "f9f6ef1d"
   },
   "source": [
    "### Display the new \"converted_usd\" column values"
   ]
  },
  {
   "cell_type": "code",
   "execution_count": 31,
   "id": "1fc1a178",
   "metadata": {
    "id": "1fc1a178"
   },
   "outputs": [
    {
     "data": {
      "text/html": [
       "<div>\n",
       "<style scoped>\n",
       "    .dataframe tbody tr th:only-of-type {\n",
       "        vertical-align: middle;\n",
       "    }\n",
       "\n",
       "    .dataframe tbody tr th {\n",
       "        vertical-align: top;\n",
       "    }\n",
       "\n",
       "    .dataframe thead th {\n",
       "        text-align: right;\n",
       "    }\n",
       "</style>\n",
       "<table border=\"1\" class=\"dataframe\">\n",
       "  <thead>\n",
       "    <tr style=\"text-align: right;\">\n",
       "      <th></th>\n",
       "      <th>invoice_currency</th>\n",
       "      <th>total_open_amount</th>\n",
       "      <th>converted_usd</th>\n",
       "    </tr>\n",
       "  </thead>\n",
       "  <tbody>\n",
       "    <tr>\n",
       "      <th>0</th>\n",
       "      <td>1.0</td>\n",
       "      <td>54273.28</td>\n",
       "      <td>54273.28</td>\n",
       "    </tr>\n",
       "    <tr>\n",
       "      <th>1</th>\n",
       "      <td>1.0</td>\n",
       "      <td>79656.60</td>\n",
       "      <td>79656.60</td>\n",
       "    </tr>\n",
       "    <tr>\n",
       "      <th>2</th>\n",
       "      <td>1.0</td>\n",
       "      <td>2253.86</td>\n",
       "      <td>2253.86</td>\n",
       "    </tr>\n",
       "    <tr>\n",
       "      <th>3</th>\n",
       "      <td>0.7</td>\n",
       "      <td>3299.70</td>\n",
       "      <td>2309.79</td>\n",
       "    </tr>\n",
       "    <tr>\n",
       "      <th>4</th>\n",
       "      <td>1.0</td>\n",
       "      <td>33133.29</td>\n",
       "      <td>33133.29</td>\n",
       "    </tr>\n",
       "    <tr>\n",
       "      <th>...</th>\n",
       "      <td>...</td>\n",
       "      <td>...</td>\n",
       "      <td>...</td>\n",
       "    </tr>\n",
       "    <tr>\n",
       "      <th>49995</th>\n",
       "      <td>1.0</td>\n",
       "      <td>3187.86</td>\n",
       "      <td>3187.86</td>\n",
       "    </tr>\n",
       "    <tr>\n",
       "      <th>49996</th>\n",
       "      <td>1.0</td>\n",
       "      <td>6766.54</td>\n",
       "      <td>6766.54</td>\n",
       "    </tr>\n",
       "    <tr>\n",
       "      <th>49997</th>\n",
       "      <td>1.0</td>\n",
       "      <td>6120.86</td>\n",
       "      <td>6120.86</td>\n",
       "    </tr>\n",
       "    <tr>\n",
       "      <th>49998</th>\n",
       "      <td>1.0</td>\n",
       "      <td>63.48</td>\n",
       "      <td>63.48</td>\n",
       "    </tr>\n",
       "    <tr>\n",
       "      <th>49999</th>\n",
       "      <td>1.0</td>\n",
       "      <td>1790.30</td>\n",
       "      <td>1790.30</td>\n",
       "    </tr>\n",
       "  </tbody>\n",
       "</table>\n",
       "<p>48839 rows × 3 columns</p>\n",
       "</div>"
      ],
      "text/plain": [
       "       invoice_currency  total_open_amount  converted_usd\n",
       "0                   1.0           54273.28       54273.28\n",
       "1                   1.0           79656.60       79656.60\n",
       "2                   1.0            2253.86        2253.86\n",
       "3                   0.7            3299.70        2309.79\n",
       "4                   1.0           33133.29       33133.29\n",
       "...                 ...                ...            ...\n",
       "49995               1.0            3187.86        3187.86\n",
       "49996               1.0            6766.54        6766.54\n",
       "49997               1.0            6120.86        6120.86\n",
       "49998               1.0              63.48          63.48\n",
       "49999               1.0            1790.30        1790.30\n",
       "\n",
       "[48839 rows x 3 columns]"
      ]
     },
     "execution_count": 31,
     "metadata": {},
     "output_type": "execute_result"
    }
   ],
   "source": [
    "df[['invoice_currency','total_open_amount','converted_usd']]"
   ]
  },
  {
   "cell_type": "markdown",
   "id": "6XLXX17kayuy",
   "metadata": {
    "id": "6XLXX17kayuy"
   },
   "source": [
    "### Display year wise total number of record \n",
    "\n",
    "- Note -  use \"buisness_year\" column for this "
   ]
  },
  {
   "cell_type": "code",
   "execution_count": 32,
   "id": "00c9f6ee",
   "metadata": {
    "id": "00c9f6ee"
   },
   "outputs": [
    {
     "data": {
      "text/plain": [
       "2019.0    33975\n",
       "2020.0    14864\n",
       "Name: buisness_year, dtype: int64"
      ]
     },
     "execution_count": 32,
     "metadata": {},
     "output_type": "execute_result"
    }
   ],
   "source": [
    "df.buisness_year.value_counts()"
   ]
  },
  {
   "cell_type": "markdown",
   "id": "05c35904",
   "metadata": {
    "id": "05c35904"
   },
   "source": [
    "### Write the code to delete the following columns \n",
    "\n",
    "- 'invoice_currency'\n",
    "- 'total_open_amount', "
   ]
  },
  {
   "cell_type": "code",
   "execution_count": 33,
   "id": "4ac28aa5",
   "metadata": {
    "id": "4ac28aa5"
   },
   "outputs": [],
   "source": [
    "df.drop(['invoice_currency','total_open_amount'],axis=1,inplace=True)"
   ]
  },
  {
   "cell_type": "markdown",
   "id": "bDBJ_Kvwc086",
   "metadata": {
    "id": "bDBJ_Kvwc086"
   },
   "source": [
    "### Write a code to check the number of columns in dataframe"
   ]
  },
  {
   "cell_type": "code",
   "execution_count": 34,
   "id": "ea360a8c",
   "metadata": {
    "id": "ea360a8c"
   },
   "outputs": [
    {
     "data": {
      "text/plain": [
       "(48839, 11)"
      ]
     },
     "execution_count": 34,
     "metadata": {},
     "output_type": "execute_result"
    }
   ],
   "source": [
    "df.shape"
   ]
  },
  {
   "cell_type": "markdown",
   "id": "b8f63655",
   "metadata": {
    "id": "b8f63655"
   },
   "source": [
    "# Splitting the Dataset "
   ]
  },
  {
   "cell_type": "markdown",
   "id": "a00f749d",
   "metadata": {
    "id": "a00f749d"
   },
   "source": [
    "### Look for all columns containing null value\n",
    "\n",
    "- Note - Output expected is only one column "
   ]
  },
  {
   "cell_type": "code",
   "execution_count": 35,
   "id": "148c801e",
   "metadata": {
    "id": "148c801e"
   },
   "outputs": [
    {
     "data": {
      "text/plain": [
       "Index(['clear_date'], dtype='object')"
      ]
     },
     "execution_count": 35,
     "metadata": {},
     "output_type": "execute_result"
    }
   ],
   "source": [
    "df.columns[df.isna().any()]"
   ]
  },
  {
   "cell_type": "markdown",
   "id": "a094a290",
   "metadata": {
    "id": "a094a290"
   },
   "source": [
    "#### Find out the number of null values from the column that you got from the above code"
   ]
  },
  {
   "cell_type": "code",
   "execution_count": 36,
   "id": "30bfb113",
   "metadata": {
    "id": "30bfb113"
   },
   "outputs": [
    {
     "data": {
      "text/plain": [
       "9681"
      ]
     },
     "execution_count": 36,
     "metadata": {},
     "output_type": "execute_result"
    }
   ],
   "source": [
    "df.clear_date.isna().sum()"
   ]
  },
  {
   "cell_type": "markdown",
   "id": "7f6d939b",
   "metadata": {
    "id": "7f6d939b"
   },
   "source": [
    "### On basis of the above column we are spliting data into dataset\n",
    "\n",
    "- First dataframe (refer that as maindata) only containing the rows, that have NO NULL data in that column ( This is going to be our train dataset ) \n",
    "- Second dataframe (refer that as nulldata) that contains the columns, that have Null data in that column ( This is going to be our test dataset ) "
   ]
  },
  {
   "cell_type": "code",
   "execution_count": 37,
   "id": "c8764c33",
   "metadata": {
    "id": "c8764c33"
   },
   "outputs": [],
   "source": [
    "train_data=pd.DataFrame(df[df['clear_date'].notnull()])\n",
    "test_data=pd.DataFrame(df[df['clear_date'].isnull()])"
   ]
  },
  {
   "cell_type": "markdown",
   "id": "3P8riRBHd_r6",
   "metadata": {
    "id": "3P8riRBHd_r6"
   },
   "source": [
    "### Check the number of Rows and Columns for both the dataframes "
   ]
  },
  {
   "cell_type": "code",
   "execution_count": 38,
   "id": "0693a464",
   "metadata": {
    "id": "0693a464"
   },
   "outputs": [
    {
     "data": {
      "text/plain": [
       "(39158, 11)"
      ]
     },
     "execution_count": 38,
     "metadata": {},
     "output_type": "execute_result"
    }
   ],
   "source": [
    "train_data.shape"
   ]
  },
  {
   "cell_type": "code",
   "execution_count": 39,
   "id": "7f86bc74",
   "metadata": {
    "id": "7f86bc74"
   },
   "outputs": [
    {
     "data": {
      "text/plain": [
       "(9681, 11)"
      ]
     },
     "execution_count": 39,
     "metadata": {},
     "output_type": "execute_result"
    }
   ],
   "source": [
    "test_data.shape"
   ]
  },
  {
   "cell_type": "markdown",
   "id": "0747165d",
   "metadata": {
    "id": "0747165d"
   },
   "source": [
    "### Display the 5 records from maindata and nulldata dataframes"
   ]
  },
  {
   "cell_type": "code",
   "execution_count": 40,
   "id": "dec2ec36",
   "metadata": {
    "id": "dec2ec36"
   },
   "outputs": [
    {
     "data": {
      "text/html": [
       "<div>\n",
       "<style scoped>\n",
       "    .dataframe tbody tr th:only-of-type {\n",
       "        vertical-align: middle;\n",
       "    }\n",
       "\n",
       "    .dataframe tbody tr th {\n",
       "        vertical-align: top;\n",
       "    }\n",
       "\n",
       "    .dataframe thead th {\n",
       "        text-align: right;\n",
       "    }\n",
       "</style>\n",
       "<table border=\"1\" class=\"dataframe\">\n",
       "  <thead>\n",
       "    <tr style=\"text-align: right;\">\n",
       "      <th></th>\n",
       "      <th>business_code</th>\n",
       "      <th>cust_number</th>\n",
       "      <th>name_customer</th>\n",
       "      <th>clear_date</th>\n",
       "      <th>buisness_year</th>\n",
       "      <th>doc_id</th>\n",
       "      <th>posting_date</th>\n",
       "      <th>due_in_date</th>\n",
       "      <th>baseline_create_date</th>\n",
       "      <th>cust_payment_terms</th>\n",
       "      <th>converted_usd</th>\n",
       "    </tr>\n",
       "  </thead>\n",
       "  <tbody>\n",
       "    <tr>\n",
       "      <th>0</th>\n",
       "      <td>U001</td>\n",
       "      <td>0200769623</td>\n",
       "      <td>WAL-MAR corp</td>\n",
       "      <td>2020-02-11</td>\n",
       "      <td>2020.0</td>\n",
       "      <td>1.930438e+09</td>\n",
       "      <td>2020-01-26</td>\n",
       "      <td>2020-02-10</td>\n",
       "      <td>2020-01-26</td>\n",
       "      <td>NAH4</td>\n",
       "      <td>54273.280</td>\n",
       "    </tr>\n",
       "    <tr>\n",
       "      <th>1</th>\n",
       "      <td>U001</td>\n",
       "      <td>0200980828</td>\n",
       "      <td>BEN E</td>\n",
       "      <td>2019-08-08</td>\n",
       "      <td>2019.0</td>\n",
       "      <td>1.929646e+09</td>\n",
       "      <td>2019-07-22</td>\n",
       "      <td>2019-08-11</td>\n",
       "      <td>2019-07-22</td>\n",
       "      <td>NAD1</td>\n",
       "      <td>79656.600</td>\n",
       "    </tr>\n",
       "    <tr>\n",
       "      <th>2</th>\n",
       "      <td>U001</td>\n",
       "      <td>0200792734</td>\n",
       "      <td>MDV/ trust</td>\n",
       "      <td>2019-12-30</td>\n",
       "      <td>2019.0</td>\n",
       "      <td>1.929874e+09</td>\n",
       "      <td>2019-09-14</td>\n",
       "      <td>2019-09-29</td>\n",
       "      <td>2019-09-14</td>\n",
       "      <td>NAA8</td>\n",
       "      <td>2253.860</td>\n",
       "    </tr>\n",
       "    <tr>\n",
       "      <th>4</th>\n",
       "      <td>U001</td>\n",
       "      <td>0200769623</td>\n",
       "      <td>WAL-MAR foundation</td>\n",
       "      <td>2019-11-25</td>\n",
       "      <td>2019.0</td>\n",
       "      <td>1.930148e+09</td>\n",
       "      <td>2019-11-13</td>\n",
       "      <td>2019-11-28</td>\n",
       "      <td>2019-11-13</td>\n",
       "      <td>NAH4</td>\n",
       "      <td>33133.290</td>\n",
       "    </tr>\n",
       "    <tr>\n",
       "      <th>5</th>\n",
       "      <td>CA02</td>\n",
       "      <td>0140106181</td>\n",
       "      <td>THE  corporation</td>\n",
       "      <td>2019-12-04</td>\n",
       "      <td>2019.0</td>\n",
       "      <td>2.960581e+09</td>\n",
       "      <td>2019-09-20</td>\n",
       "      <td>2019-10-04</td>\n",
       "      <td>2019-09-24</td>\n",
       "      <td>CA10</td>\n",
       "      <td>15558.088</td>\n",
       "    </tr>\n",
       "  </tbody>\n",
       "</table>\n",
       "</div>"
      ],
      "text/plain": [
       "  business_code cust_number       name_customer clear_date  buisness_year  \\\n",
       "0          U001  0200769623        WAL-MAR corp 2020-02-11         2020.0   \n",
       "1          U001  0200980828              BEN E  2019-08-08         2019.0   \n",
       "2          U001  0200792734          MDV/ trust 2019-12-30         2019.0   \n",
       "4          U001  0200769623  WAL-MAR foundation 2019-11-25         2019.0   \n",
       "5          CA02  0140106181    THE  corporation 2019-12-04         2019.0   \n",
       "\n",
       "         doc_id posting_date due_in_date baseline_create_date  \\\n",
       "0  1.930438e+09   2020-01-26  2020-02-10           2020-01-26   \n",
       "1  1.929646e+09   2019-07-22  2019-08-11           2019-07-22   \n",
       "2  1.929874e+09   2019-09-14  2019-09-29           2019-09-14   \n",
       "4  1.930148e+09   2019-11-13  2019-11-28           2019-11-13   \n",
       "5  2.960581e+09   2019-09-20  2019-10-04           2019-09-24   \n",
       "\n",
       "  cust_payment_terms  converted_usd  \n",
       "0               NAH4      54273.280  \n",
       "1               NAD1      79656.600  \n",
       "2               NAA8       2253.860  \n",
       "4               NAH4      33133.290  \n",
       "5               CA10      15558.088  "
      ]
     },
     "execution_count": 40,
     "metadata": {},
     "output_type": "execute_result"
    }
   ],
   "source": [
    "train_data.head()"
   ]
  },
  {
   "cell_type": "code",
   "execution_count": 41,
   "id": "eee2d68a",
   "metadata": {
    "id": "eee2d68a"
   },
   "outputs": [
    {
     "data": {
      "text/html": [
       "<div>\n",
       "<style scoped>\n",
       "    .dataframe tbody tr th:only-of-type {\n",
       "        vertical-align: middle;\n",
       "    }\n",
       "\n",
       "    .dataframe tbody tr th {\n",
       "        vertical-align: top;\n",
       "    }\n",
       "\n",
       "    .dataframe thead th {\n",
       "        text-align: right;\n",
       "    }\n",
       "</style>\n",
       "<table border=\"1\" class=\"dataframe\">\n",
       "  <thead>\n",
       "    <tr style=\"text-align: right;\">\n",
       "      <th></th>\n",
       "      <th>business_code</th>\n",
       "      <th>cust_number</th>\n",
       "      <th>name_customer</th>\n",
       "      <th>clear_date</th>\n",
       "      <th>buisness_year</th>\n",
       "      <th>doc_id</th>\n",
       "      <th>posting_date</th>\n",
       "      <th>due_in_date</th>\n",
       "      <th>baseline_create_date</th>\n",
       "      <th>cust_payment_terms</th>\n",
       "      <th>converted_usd</th>\n",
       "    </tr>\n",
       "  </thead>\n",
       "  <tbody>\n",
       "    <tr>\n",
       "      <th>3</th>\n",
       "      <td>CA02</td>\n",
       "      <td>0140105686</td>\n",
       "      <td>SYSC llc</td>\n",
       "      <td>NaT</td>\n",
       "      <td>2020.0</td>\n",
       "      <td>2.960623e+09</td>\n",
       "      <td>2020-03-30</td>\n",
       "      <td>2020-04-10</td>\n",
       "      <td>2020-03-31</td>\n",
       "      <td>CA10</td>\n",
       "      <td>2309.79</td>\n",
       "    </tr>\n",
       "    <tr>\n",
       "      <th>7</th>\n",
       "      <td>U001</td>\n",
       "      <td>0200744019</td>\n",
       "      <td>TARG us</td>\n",
       "      <td>NaT</td>\n",
       "      <td>2020.0</td>\n",
       "      <td>1.930659e+09</td>\n",
       "      <td>2020-03-19</td>\n",
       "      <td>2020-04-03</td>\n",
       "      <td>2020-03-19</td>\n",
       "      <td>NAA8</td>\n",
       "      <td>11173.02</td>\n",
       "    </tr>\n",
       "    <tr>\n",
       "      <th>10</th>\n",
       "      <td>U001</td>\n",
       "      <td>0200418007</td>\n",
       "      <td>AM</td>\n",
       "      <td>NaT</td>\n",
       "      <td>2020.0</td>\n",
       "      <td>1.930611e+09</td>\n",
       "      <td>2020-03-11</td>\n",
       "      <td>2020-03-26</td>\n",
       "      <td>2020-03-11</td>\n",
       "      <td>NAA8</td>\n",
       "      <td>3525.59</td>\n",
       "    </tr>\n",
       "    <tr>\n",
       "      <th>14</th>\n",
       "      <td>U001</td>\n",
       "      <td>0200739534</td>\n",
       "      <td>OK systems</td>\n",
       "      <td>NaT</td>\n",
       "      <td>2020.0</td>\n",
       "      <td>1.930788e+09</td>\n",
       "      <td>2020-04-15</td>\n",
       "      <td>2020-04-30</td>\n",
       "      <td>2020-04-15</td>\n",
       "      <td>NAA8</td>\n",
       "      <td>121105.65</td>\n",
       "    </tr>\n",
       "    <tr>\n",
       "      <th>15</th>\n",
       "      <td>U001</td>\n",
       "      <td>0200353024</td>\n",
       "      <td>DECA corporation</td>\n",
       "      <td>NaT</td>\n",
       "      <td>2020.0</td>\n",
       "      <td>1.930817e+09</td>\n",
       "      <td>2020-04-23</td>\n",
       "      <td>2020-04-26</td>\n",
       "      <td>2020-04-16</td>\n",
       "      <td>NAM2</td>\n",
       "      <td>3726.06</td>\n",
       "    </tr>\n",
       "  </tbody>\n",
       "</table>\n",
       "</div>"
      ],
      "text/plain": [
       "   business_code cust_number     name_customer clear_date  buisness_year  \\\n",
       "3           CA02  0140105686          SYSC llc        NaT         2020.0   \n",
       "7           U001  0200744019           TARG us        NaT         2020.0   \n",
       "10          U001  0200418007               AM         NaT         2020.0   \n",
       "14          U001  0200739534        OK systems        NaT         2020.0   \n",
       "15          U001  0200353024  DECA corporation        NaT         2020.0   \n",
       "\n",
       "          doc_id posting_date due_in_date baseline_create_date  \\\n",
       "3   2.960623e+09   2020-03-30  2020-04-10           2020-03-31   \n",
       "7   1.930659e+09   2020-03-19  2020-04-03           2020-03-19   \n",
       "10  1.930611e+09   2020-03-11  2020-03-26           2020-03-11   \n",
       "14  1.930788e+09   2020-04-15  2020-04-30           2020-04-15   \n",
       "15  1.930817e+09   2020-04-23  2020-04-26           2020-04-16   \n",
       "\n",
       "   cust_payment_terms  converted_usd  \n",
       "3                CA10        2309.79  \n",
       "7                NAA8       11173.02  \n",
       "10               NAA8        3525.59  \n",
       "14               NAA8      121105.65  \n",
       "15               NAM2        3726.06  "
      ]
     },
     "execution_count": 41,
     "metadata": {},
     "output_type": "execute_result"
    }
   ],
   "source": [
    "test_data.head()"
   ]
  },
  {
   "cell_type": "markdown",
   "id": "24aa6746",
   "metadata": {
    "id": "24aa6746"
   },
   "source": [
    "## Considering the **maindata**"
   ]
  },
  {
   "cell_type": "markdown",
   "id": "f92c4aa7",
   "metadata": {
    "id": "f92c4aa7"
   },
   "source": [
    "#### Generate a new column \"Delay\" from the existing columns\n",
    "\n",
    "- Note - You are expected to create a new column 'Delay' from two existing columns, \"clear_date\" and \"due_in_date\" \n",
    "- Formula - Delay = clear_date - due_in_date"
   ]
  },
  {
   "cell_type": "code",
   "execution_count": 42,
   "id": "8eeceb9c",
   "metadata": {
    "id": "8eeceb9c"
   },
   "outputs": [],
   "source": [
    "train_data['Delay'] = train_data['clear_date'] - train_data['due_in_date']"
   ]
  },
  {
   "cell_type": "markdown",
   "id": "f482144e",
   "metadata": {
    "id": "f482144e"
   },
   "source": [
    "### Generate a new column \"avgdelay\" from the existing columns\n",
    "\n",
    "- Note - You are expected to make a new column \"avgdelay\" by grouping \"name_customer\" column with reapect to mean of the \"Delay\" column.\n",
    "- This new column \"avg_delay\" is meant to store \"customer_name\" wise delay\n",
    "- groupby('name_customer')['Delay'].mean(numeric_only=False)\n",
    "- Display the new \"avg_delay\" column"
   ]
  },
  {
   "cell_type": "code",
   "execution_count": 43,
   "id": "d18d2f8d",
   "metadata": {
    "id": "d18d2f8d"
   },
   "outputs": [
    {
     "data": {
      "text/plain": [
       "name_customer\n",
       "11078 us                 17 days 00:00:00\n",
       "17135 associates       -10 days +00:00:00\n",
       "17135 llc               -3 days +00:00:00\n",
       "236008 associates       -3 days +00:00:00\n",
       "99 CE                     2 days 00:00:00\n",
       "                              ...        \n",
       "YEN BROS corp             0 days 00:00:00\n",
       "YEN BROS corporation    -1 days +12:00:00\n",
       "YEN BROS llc            -2 days +00:00:00\n",
       "ZARCO co                -1 days +00:00:00\n",
       "ZIYAD  us                 6 days 00:00:00\n",
       "Name: Delay, Length: 3889, dtype: timedelta64[ns]"
      ]
     },
     "execution_count": 43,
     "metadata": {},
     "output_type": "execute_result"
    }
   ],
   "source": [
    "avg_delay = train_data.groupby(train_data['name_customer'])['Delay'].mean(numeric_only=False)\n",
    "avg_delay"
   ]
  },
  {
   "cell_type": "markdown",
   "id": "64b995e8",
   "metadata": {
    "id": "64b995e8"
   },
   "source": [
    "You need to add the \"avg_delay\" column with the maindata, mapped with \"name_customer\" column\n",
    "\n",
    " - Note - You need to use map function to map the avgdelay with respect to \"name_customer\" column"
   ]
  },
  {
   "cell_type": "code",
   "execution_count": 44,
   "id": "e1e1f3d9",
   "metadata": {
    "id": "e1e1f3d9"
   },
   "outputs": [],
   "source": [
    "train_data['avg_delay'] = train_data['name_customer'].map(avg_delay)"
   ]
  },
  {
   "cell_type": "markdown",
   "id": "1d332525",
   "metadata": {
    "id": "1d332525"
   },
   "source": [
    "### Observe that the \"avg_delay\" column is in days format. You need to change the format into seconds\n",
    "\n",
    "- Days_format :  17 days 00:00:00\n",
    "- Format in seconds : 1641600.0"
   ]
  },
  {
   "cell_type": "code",
   "execution_count": 45,
   "id": "d5f1041e",
   "metadata": {
    "id": "d5f1041e"
   },
   "outputs": [
    {
     "data": {
      "text/html": [
       "<div>\n",
       "<style scoped>\n",
       "    .dataframe tbody tr th:only-of-type {\n",
       "        vertical-align: middle;\n",
       "    }\n",
       "\n",
       "    .dataframe tbody tr th {\n",
       "        vertical-align: top;\n",
       "    }\n",
       "\n",
       "    .dataframe thead th {\n",
       "        text-align: right;\n",
       "    }\n",
       "</style>\n",
       "<table border=\"1\" class=\"dataframe\">\n",
       "  <thead>\n",
       "    <tr style=\"text-align: right;\">\n",
       "      <th></th>\n",
       "      <th>business_code</th>\n",
       "      <th>cust_number</th>\n",
       "      <th>name_customer</th>\n",
       "      <th>clear_date</th>\n",
       "      <th>buisness_year</th>\n",
       "      <th>doc_id</th>\n",
       "      <th>posting_date</th>\n",
       "      <th>due_in_date</th>\n",
       "      <th>baseline_create_date</th>\n",
       "      <th>cust_payment_terms</th>\n",
       "      <th>converted_usd</th>\n",
       "      <th>Delay</th>\n",
       "      <th>avg_delay</th>\n",
       "    </tr>\n",
       "  </thead>\n",
       "  <tbody>\n",
       "    <tr>\n",
       "      <th>0</th>\n",
       "      <td>U001</td>\n",
       "      <td>0200769623</td>\n",
       "      <td>WAL-MAR corp</td>\n",
       "      <td>2020-02-11</td>\n",
       "      <td>2020.0</td>\n",
       "      <td>1.930438e+09</td>\n",
       "      <td>2020-01-26</td>\n",
       "      <td>2020-02-10</td>\n",
       "      <td>2020-01-26</td>\n",
       "      <td>NAH4</td>\n",
       "      <td>54273.280</td>\n",
       "      <td>1 days</td>\n",
       "      <td>-3 days +07:08:49.779837776</td>\n",
       "    </tr>\n",
       "    <tr>\n",
       "      <th>1</th>\n",
       "      <td>U001</td>\n",
       "      <td>0200980828</td>\n",
       "      <td>BEN E</td>\n",
       "      <td>2019-08-08</td>\n",
       "      <td>2019.0</td>\n",
       "      <td>1.929646e+09</td>\n",
       "      <td>2019-07-22</td>\n",
       "      <td>2019-08-11</td>\n",
       "      <td>2019-07-22</td>\n",
       "      <td>NAD1</td>\n",
       "      <td>79656.600</td>\n",
       "      <td>-3 days</td>\n",
       "      <td>19 days 00:00:00</td>\n",
       "    </tr>\n",
       "    <tr>\n",
       "      <th>2</th>\n",
       "      <td>U001</td>\n",
       "      <td>0200792734</td>\n",
       "      <td>MDV/ trust</td>\n",
       "      <td>2019-12-30</td>\n",
       "      <td>2019.0</td>\n",
       "      <td>1.929874e+09</td>\n",
       "      <td>2019-09-14</td>\n",
       "      <td>2019-09-29</td>\n",
       "      <td>2019-09-14</td>\n",
       "      <td>NAA8</td>\n",
       "      <td>2253.860</td>\n",
       "      <td>92 days</td>\n",
       "      <td>8 days 02:10:54.545454545</td>\n",
       "    </tr>\n",
       "    <tr>\n",
       "      <th>4</th>\n",
       "      <td>U001</td>\n",
       "      <td>0200769623</td>\n",
       "      <td>WAL-MAR foundation</td>\n",
       "      <td>2019-11-25</td>\n",
       "      <td>2019.0</td>\n",
       "      <td>1.930148e+09</td>\n",
       "      <td>2019-11-13</td>\n",
       "      <td>2019-11-28</td>\n",
       "      <td>2019-11-13</td>\n",
       "      <td>NAH4</td>\n",
       "      <td>33133.290</td>\n",
       "      <td>-3 days</td>\n",
       "      <td>-3 days +19:33:27.692307693</td>\n",
       "    </tr>\n",
       "    <tr>\n",
       "      <th>5</th>\n",
       "      <td>CA02</td>\n",
       "      <td>0140106181</td>\n",
       "      <td>THE  corporation</td>\n",
       "      <td>2019-12-04</td>\n",
       "      <td>2019.0</td>\n",
       "      <td>2.960581e+09</td>\n",
       "      <td>2019-09-20</td>\n",
       "      <td>2019-10-04</td>\n",
       "      <td>2019-09-24</td>\n",
       "      <td>CA10</td>\n",
       "      <td>15558.088</td>\n",
       "      <td>61 days</td>\n",
       "      <td>71 days 10:40:00</td>\n",
       "    </tr>\n",
       "    <tr>\n",
       "      <th>...</th>\n",
       "      <td>...</td>\n",
       "      <td>...</td>\n",
       "      <td>...</td>\n",
       "      <td>...</td>\n",
       "      <td>...</td>\n",
       "      <td>...</td>\n",
       "      <td>...</td>\n",
       "      <td>...</td>\n",
       "      <td>...</td>\n",
       "      <td>...</td>\n",
       "      <td>...</td>\n",
       "      <td>...</td>\n",
       "      <td>...</td>\n",
       "    </tr>\n",
       "    <tr>\n",
       "      <th>49994</th>\n",
       "      <td>U001</td>\n",
       "      <td>0200762301</td>\n",
       "      <td>C&amp;S WH trust</td>\n",
       "      <td>2019-07-25</td>\n",
       "      <td>2019.0</td>\n",
       "      <td>1.929601e+09</td>\n",
       "      <td>2019-07-10</td>\n",
       "      <td>2019-07-25</td>\n",
       "      <td>2019-07-10</td>\n",
       "      <td>NAC6</td>\n",
       "      <td>84780.400</td>\n",
       "      <td>0 days</td>\n",
       "      <td>-1 days +14:45:00</td>\n",
       "    </tr>\n",
       "    <tr>\n",
       "      <th>49996</th>\n",
       "      <td>U001</td>\n",
       "      <td>0200769623</td>\n",
       "      <td>WAL-MAR co</td>\n",
       "      <td>2019-09-03</td>\n",
       "      <td>2019.0</td>\n",
       "      <td>1.929744e+09</td>\n",
       "      <td>2019-08-15</td>\n",
       "      <td>2019-08-30</td>\n",
       "      <td>2019-08-15</td>\n",
       "      <td>NAH4</td>\n",
       "      <td>6766.540</td>\n",
       "      <td>4 days</td>\n",
       "      <td>-3 days +12:40:08.540925267</td>\n",
       "    </tr>\n",
       "    <tr>\n",
       "      <th>49997</th>\n",
       "      <td>U001</td>\n",
       "      <td>0200772595</td>\n",
       "      <td>SAFEW associates</td>\n",
       "      <td>2020-03-05</td>\n",
       "      <td>2020.0</td>\n",
       "      <td>1.930537e+09</td>\n",
       "      <td>2020-02-19</td>\n",
       "      <td>2020-03-05</td>\n",
       "      <td>2020-02-19</td>\n",
       "      <td>NAA8</td>\n",
       "      <td>6120.860</td>\n",
       "      <td>0 days</td>\n",
       "      <td>1 days 01:08:34.285714285</td>\n",
       "    </tr>\n",
       "    <tr>\n",
       "      <th>49998</th>\n",
       "      <td>U001</td>\n",
       "      <td>0200726979</td>\n",
       "      <td>BJ'S  llc</td>\n",
       "      <td>2019-12-12</td>\n",
       "      <td>2019.0</td>\n",
       "      <td>1.930199e+09</td>\n",
       "      <td>2019-11-27</td>\n",
       "      <td>2019-12-12</td>\n",
       "      <td>2019-11-27</td>\n",
       "      <td>NAA8</td>\n",
       "      <td>63.480</td>\n",
       "      <td>0 days</td>\n",
       "      <td>1 days 13:36:42.985074626</td>\n",
       "    </tr>\n",
       "    <tr>\n",
       "      <th>49999</th>\n",
       "      <td>U001</td>\n",
       "      <td>0200020431</td>\n",
       "      <td>DEC corp</td>\n",
       "      <td>2019-01-15</td>\n",
       "      <td>2019.0</td>\n",
       "      <td>1.928576e+09</td>\n",
       "      <td>2019-01-05</td>\n",
       "      <td>2019-01-24</td>\n",
       "      <td>2019-01-01</td>\n",
       "      <td>NAM4</td>\n",
       "      <td>1790.300</td>\n",
       "      <td>-9 days</td>\n",
       "      <td>-4 days +02:20:52.173913044</td>\n",
       "    </tr>\n",
       "  </tbody>\n",
       "</table>\n",
       "<p>39158 rows × 13 columns</p>\n",
       "</div>"
      ],
      "text/plain": [
       "      business_code cust_number       name_customer clear_date  buisness_year  \\\n",
       "0              U001  0200769623        WAL-MAR corp 2020-02-11         2020.0   \n",
       "1              U001  0200980828              BEN E  2019-08-08         2019.0   \n",
       "2              U001  0200792734          MDV/ trust 2019-12-30         2019.0   \n",
       "4              U001  0200769623  WAL-MAR foundation 2019-11-25         2019.0   \n",
       "5              CA02  0140106181    THE  corporation 2019-12-04         2019.0   \n",
       "...             ...         ...                 ...        ...            ...   \n",
       "49994          U001  0200762301        C&S WH trust 2019-07-25         2019.0   \n",
       "49996          U001  0200769623          WAL-MAR co 2019-09-03         2019.0   \n",
       "49997          U001  0200772595    SAFEW associates 2020-03-05         2020.0   \n",
       "49998          U001  0200726979           BJ'S  llc 2019-12-12         2019.0   \n",
       "49999          U001  0200020431            DEC corp 2019-01-15         2019.0   \n",
       "\n",
       "             doc_id posting_date due_in_date baseline_create_date  \\\n",
       "0      1.930438e+09   2020-01-26  2020-02-10           2020-01-26   \n",
       "1      1.929646e+09   2019-07-22  2019-08-11           2019-07-22   \n",
       "2      1.929874e+09   2019-09-14  2019-09-29           2019-09-14   \n",
       "4      1.930148e+09   2019-11-13  2019-11-28           2019-11-13   \n",
       "5      2.960581e+09   2019-09-20  2019-10-04           2019-09-24   \n",
       "...             ...          ...         ...                  ...   \n",
       "49994  1.929601e+09   2019-07-10  2019-07-25           2019-07-10   \n",
       "49996  1.929744e+09   2019-08-15  2019-08-30           2019-08-15   \n",
       "49997  1.930537e+09   2020-02-19  2020-03-05           2020-02-19   \n",
       "49998  1.930199e+09   2019-11-27  2019-12-12           2019-11-27   \n",
       "49999  1.928576e+09   2019-01-05  2019-01-24           2019-01-01   \n",
       "\n",
       "      cust_payment_terms  converted_usd   Delay                   avg_delay  \n",
       "0                   NAH4      54273.280  1 days -3 days +07:08:49.779837776  \n",
       "1                   NAD1      79656.600 -3 days            19 days 00:00:00  \n",
       "2                   NAA8       2253.860 92 days   8 days 02:10:54.545454545  \n",
       "4                   NAH4      33133.290 -3 days -3 days +19:33:27.692307693  \n",
       "5                   CA10      15558.088 61 days            71 days 10:40:00  \n",
       "...                  ...            ...     ...                         ...  \n",
       "49994               NAC6      84780.400  0 days           -1 days +14:45:00  \n",
       "49996               NAH4       6766.540  4 days -3 days +12:40:08.540925267  \n",
       "49997               NAA8       6120.860  0 days   1 days 01:08:34.285714285  \n",
       "49998               NAA8         63.480  0 days   1 days 13:36:42.985074626  \n",
       "49999               NAM4       1790.300 -9 days -4 days +02:20:52.173913044  \n",
       "\n",
       "[39158 rows x 13 columns]"
      ]
     },
     "execution_count": 45,
     "metadata": {},
     "output_type": "execute_result"
    }
   ],
   "source": [
    "train_data"
   ]
  },
  {
   "cell_type": "code",
   "execution_count": 46,
   "id": "16f2aa15",
   "metadata": {},
   "outputs": [],
   "source": [
    "train_data['avg_delay'] = train_data['avg_delay'].dt.total_seconds()"
   ]
  },
  {
   "cell_type": "markdown",
   "id": "OvgtHSsx_O-n",
   "metadata": {
    "id": "OvgtHSsx_O-n"
   },
   "source": [
    "### Display the maindata dataframe "
   ]
  },
  {
   "cell_type": "code",
   "execution_count": 47,
   "id": "97ca9c45",
   "metadata": {
    "id": "97ca9c45"
   },
   "outputs": [
    {
     "data": {
      "text/html": [
       "<div>\n",
       "<style scoped>\n",
       "    .dataframe tbody tr th:only-of-type {\n",
       "        vertical-align: middle;\n",
       "    }\n",
       "\n",
       "    .dataframe tbody tr th {\n",
       "        vertical-align: top;\n",
       "    }\n",
       "\n",
       "    .dataframe thead th {\n",
       "        text-align: right;\n",
       "    }\n",
       "</style>\n",
       "<table border=\"1\" class=\"dataframe\">\n",
       "  <thead>\n",
       "    <tr style=\"text-align: right;\">\n",
       "      <th></th>\n",
       "      <th>business_code</th>\n",
       "      <th>cust_number</th>\n",
       "      <th>name_customer</th>\n",
       "      <th>clear_date</th>\n",
       "      <th>buisness_year</th>\n",
       "      <th>doc_id</th>\n",
       "      <th>posting_date</th>\n",
       "      <th>due_in_date</th>\n",
       "      <th>baseline_create_date</th>\n",
       "      <th>cust_payment_terms</th>\n",
       "      <th>converted_usd</th>\n",
       "      <th>Delay</th>\n",
       "      <th>avg_delay</th>\n",
       "    </tr>\n",
       "  </thead>\n",
       "  <tbody>\n",
       "    <tr>\n",
       "      <th>0</th>\n",
       "      <td>U001</td>\n",
       "      <td>0200769623</td>\n",
       "      <td>WAL-MAR corp</td>\n",
       "      <td>2020-02-11</td>\n",
       "      <td>2020.0</td>\n",
       "      <td>1.930438e+09</td>\n",
       "      <td>2020-01-26</td>\n",
       "      <td>2020-02-10</td>\n",
       "      <td>2020-01-26</td>\n",
       "      <td>NAH4</td>\n",
       "      <td>54273.280</td>\n",
       "      <td>1 days</td>\n",
       "      <td>-2.334702e+05</td>\n",
       "    </tr>\n",
       "    <tr>\n",
       "      <th>1</th>\n",
       "      <td>U001</td>\n",
       "      <td>0200980828</td>\n",
       "      <td>BEN E</td>\n",
       "      <td>2019-08-08</td>\n",
       "      <td>2019.0</td>\n",
       "      <td>1.929646e+09</td>\n",
       "      <td>2019-07-22</td>\n",
       "      <td>2019-08-11</td>\n",
       "      <td>2019-07-22</td>\n",
       "      <td>NAD1</td>\n",
       "      <td>79656.600</td>\n",
       "      <td>-3 days</td>\n",
       "      <td>1.641600e+06</td>\n",
       "    </tr>\n",
       "    <tr>\n",
       "      <th>2</th>\n",
       "      <td>U001</td>\n",
       "      <td>0200792734</td>\n",
       "      <td>MDV/ trust</td>\n",
       "      <td>2019-12-30</td>\n",
       "      <td>2019.0</td>\n",
       "      <td>1.929874e+09</td>\n",
       "      <td>2019-09-14</td>\n",
       "      <td>2019-09-29</td>\n",
       "      <td>2019-09-14</td>\n",
       "      <td>NAA8</td>\n",
       "      <td>2253.860</td>\n",
       "      <td>92 days</td>\n",
       "      <td>6.990545e+05</td>\n",
       "    </tr>\n",
       "    <tr>\n",
       "      <th>4</th>\n",
       "      <td>U001</td>\n",
       "      <td>0200769623</td>\n",
       "      <td>WAL-MAR foundation</td>\n",
       "      <td>2019-11-25</td>\n",
       "      <td>2019.0</td>\n",
       "      <td>1.930148e+09</td>\n",
       "      <td>2019-11-13</td>\n",
       "      <td>2019-11-28</td>\n",
       "      <td>2019-11-13</td>\n",
       "      <td>NAH4</td>\n",
       "      <td>33133.290</td>\n",
       "      <td>-3 days</td>\n",
       "      <td>-1.887923e+05</td>\n",
       "    </tr>\n",
       "    <tr>\n",
       "      <th>5</th>\n",
       "      <td>CA02</td>\n",
       "      <td>0140106181</td>\n",
       "      <td>THE  corporation</td>\n",
       "      <td>2019-12-04</td>\n",
       "      <td>2019.0</td>\n",
       "      <td>2.960581e+09</td>\n",
       "      <td>2019-09-20</td>\n",
       "      <td>2019-10-04</td>\n",
       "      <td>2019-09-24</td>\n",
       "      <td>CA10</td>\n",
       "      <td>15558.088</td>\n",
       "      <td>61 days</td>\n",
       "      <td>6.172800e+06</td>\n",
       "    </tr>\n",
       "    <tr>\n",
       "      <th>...</th>\n",
       "      <td>...</td>\n",
       "      <td>...</td>\n",
       "      <td>...</td>\n",
       "      <td>...</td>\n",
       "      <td>...</td>\n",
       "      <td>...</td>\n",
       "      <td>...</td>\n",
       "      <td>...</td>\n",
       "      <td>...</td>\n",
       "      <td>...</td>\n",
       "      <td>...</td>\n",
       "      <td>...</td>\n",
       "      <td>...</td>\n",
       "    </tr>\n",
       "    <tr>\n",
       "      <th>49994</th>\n",
       "      <td>U001</td>\n",
       "      <td>0200762301</td>\n",
       "      <td>C&amp;S WH trust</td>\n",
       "      <td>2019-07-25</td>\n",
       "      <td>2019.0</td>\n",
       "      <td>1.929601e+09</td>\n",
       "      <td>2019-07-10</td>\n",
       "      <td>2019-07-25</td>\n",
       "      <td>2019-07-10</td>\n",
       "      <td>NAC6</td>\n",
       "      <td>84780.400</td>\n",
       "      <td>0 days</td>\n",
       "      <td>-3.330000e+04</td>\n",
       "    </tr>\n",
       "    <tr>\n",
       "      <th>49996</th>\n",
       "      <td>U001</td>\n",
       "      <td>0200769623</td>\n",
       "      <td>WAL-MAR co</td>\n",
       "      <td>2019-09-03</td>\n",
       "      <td>2019.0</td>\n",
       "      <td>1.929744e+09</td>\n",
       "      <td>2019-08-15</td>\n",
       "      <td>2019-08-30</td>\n",
       "      <td>2019-08-15</td>\n",
       "      <td>NAH4</td>\n",
       "      <td>6766.540</td>\n",
       "      <td>4 days</td>\n",
       "      <td>-2.135915e+05</td>\n",
       "    </tr>\n",
       "    <tr>\n",
       "      <th>49997</th>\n",
       "      <td>U001</td>\n",
       "      <td>0200772595</td>\n",
       "      <td>SAFEW associates</td>\n",
       "      <td>2020-03-05</td>\n",
       "      <td>2020.0</td>\n",
       "      <td>1.930537e+09</td>\n",
       "      <td>2020-02-19</td>\n",
       "      <td>2020-03-05</td>\n",
       "      <td>2020-02-19</td>\n",
       "      <td>NAA8</td>\n",
       "      <td>6120.860</td>\n",
       "      <td>0 days</td>\n",
       "      <td>9.051429e+04</td>\n",
       "    </tr>\n",
       "    <tr>\n",
       "      <th>49998</th>\n",
       "      <td>U001</td>\n",
       "      <td>0200726979</td>\n",
       "      <td>BJ'S  llc</td>\n",
       "      <td>2019-12-12</td>\n",
       "      <td>2019.0</td>\n",
       "      <td>1.930199e+09</td>\n",
       "      <td>2019-11-27</td>\n",
       "      <td>2019-12-12</td>\n",
       "      <td>2019-11-27</td>\n",
       "      <td>NAA8</td>\n",
       "      <td>63.480</td>\n",
       "      <td>0 days</td>\n",
       "      <td>1.354030e+05</td>\n",
       "    </tr>\n",
       "    <tr>\n",
       "      <th>49999</th>\n",
       "      <td>U001</td>\n",
       "      <td>0200020431</td>\n",
       "      <td>DEC corp</td>\n",
       "      <td>2019-01-15</td>\n",
       "      <td>2019.0</td>\n",
       "      <td>1.928576e+09</td>\n",
       "      <td>2019-01-05</td>\n",
       "      <td>2019-01-24</td>\n",
       "      <td>2019-01-01</td>\n",
       "      <td>NAM4</td>\n",
       "      <td>1790.300</td>\n",
       "      <td>-9 days</td>\n",
       "      <td>-3.371478e+05</td>\n",
       "    </tr>\n",
       "  </tbody>\n",
       "</table>\n",
       "<p>39158 rows × 13 columns</p>\n",
       "</div>"
      ],
      "text/plain": [
       "      business_code cust_number       name_customer clear_date  buisness_year  \\\n",
       "0              U001  0200769623        WAL-MAR corp 2020-02-11         2020.0   \n",
       "1              U001  0200980828              BEN E  2019-08-08         2019.0   \n",
       "2              U001  0200792734          MDV/ trust 2019-12-30         2019.0   \n",
       "4              U001  0200769623  WAL-MAR foundation 2019-11-25         2019.0   \n",
       "5              CA02  0140106181    THE  corporation 2019-12-04         2019.0   \n",
       "...             ...         ...                 ...        ...            ...   \n",
       "49994          U001  0200762301        C&S WH trust 2019-07-25         2019.0   \n",
       "49996          U001  0200769623          WAL-MAR co 2019-09-03         2019.0   \n",
       "49997          U001  0200772595    SAFEW associates 2020-03-05         2020.0   \n",
       "49998          U001  0200726979           BJ'S  llc 2019-12-12         2019.0   \n",
       "49999          U001  0200020431            DEC corp 2019-01-15         2019.0   \n",
       "\n",
       "             doc_id posting_date due_in_date baseline_create_date  \\\n",
       "0      1.930438e+09   2020-01-26  2020-02-10           2020-01-26   \n",
       "1      1.929646e+09   2019-07-22  2019-08-11           2019-07-22   \n",
       "2      1.929874e+09   2019-09-14  2019-09-29           2019-09-14   \n",
       "4      1.930148e+09   2019-11-13  2019-11-28           2019-11-13   \n",
       "5      2.960581e+09   2019-09-20  2019-10-04           2019-09-24   \n",
       "...             ...          ...         ...                  ...   \n",
       "49994  1.929601e+09   2019-07-10  2019-07-25           2019-07-10   \n",
       "49996  1.929744e+09   2019-08-15  2019-08-30           2019-08-15   \n",
       "49997  1.930537e+09   2020-02-19  2020-03-05           2020-02-19   \n",
       "49998  1.930199e+09   2019-11-27  2019-12-12           2019-11-27   \n",
       "49999  1.928576e+09   2019-01-05  2019-01-24           2019-01-01   \n",
       "\n",
       "      cust_payment_terms  converted_usd   Delay     avg_delay  \n",
       "0                   NAH4      54273.280  1 days -2.334702e+05  \n",
       "1                   NAD1      79656.600 -3 days  1.641600e+06  \n",
       "2                   NAA8       2253.860 92 days  6.990545e+05  \n",
       "4                   NAH4      33133.290 -3 days -1.887923e+05  \n",
       "5                   CA10      15558.088 61 days  6.172800e+06  \n",
       "...                  ...            ...     ...           ...  \n",
       "49994               NAC6      84780.400  0 days -3.330000e+04  \n",
       "49996               NAH4       6766.540  4 days -2.135915e+05  \n",
       "49997               NAA8       6120.860  0 days  9.051429e+04  \n",
       "49998               NAA8         63.480  0 days  1.354030e+05  \n",
       "49999               NAM4       1790.300 -9 days -3.371478e+05  \n",
       "\n",
       "[39158 rows x 13 columns]"
      ]
     },
     "execution_count": 47,
     "metadata": {},
     "output_type": "execute_result"
    }
   ],
   "source": [
    "train_data"
   ]
  },
  {
   "cell_type": "markdown",
   "id": "ae24c7bb",
   "metadata": {
    "id": "ae24c7bb"
   },
   "source": [
    "### Since you have created the \"avg_delay\" column from \"Delay\" and \"clear_date\" column, there is no need of these two columns anymore \n",
    "\n",
    "- You are expected to drop \"Delay\" and \"clear_date\" columns from maindata dataframe "
   ]
  },
  {
   "cell_type": "code",
   "execution_count": 48,
   "id": "78a61ab9",
   "metadata": {
    "id": "78a61ab9"
   },
   "outputs": [],
   "source": [
    "train_data.drop(['clear_date','Delay'],axis=1,inplace=True)"
   ]
  },
  {
   "cell_type": "markdown",
   "id": "ae724bfc",
   "metadata": {
    "id": "ae724bfc"
   },
   "source": [
    "# Splitting of Train and the Test Data"
   ]
  },
  {
   "cell_type": "markdown",
   "id": "cb6f0264",
   "metadata": {
    "id": "cb6f0264"
   },
   "source": [
    "### You need to split the \"maindata\" columns into X and y dataframe\n",
    "\n",
    "- Note - y should have the target column i.e. \"avg_delay\" and the other column should be in X\n",
    "\n",
    "- X is going to hold the source fields and y will be going to hold the target fields"
   ]
  },
  {
   "cell_type": "code",
   "execution_count": 49,
   "id": "75ab29ab",
   "metadata": {
    "id": "75ab29ab"
   },
   "outputs": [],
   "source": [
    "X = train_data.drop(['avg_delay'],axis=1)"
   ]
  },
  {
   "cell_type": "code",
   "execution_count": 50,
   "id": "6412c62b",
   "metadata": {
    "id": "6412c62b"
   },
   "outputs": [],
   "source": [
    "y = pd.DataFrame(train_data['avg_delay'])"
   ]
  },
  {
   "cell_type": "markdown",
   "id": "1c2942bf",
   "metadata": {
    "id": "1c2942bf"
   },
   "source": [
    "#### You are expected to split both the dataframes into train and test format in 60:40 ratio \n",
    "\n",
    "- Note - The expected output should be in \"X_train\", \"X_loc_test\", \"y_train\", \"y_loc_test\" format "
   ]
  },
  {
   "cell_type": "code",
   "execution_count": 51,
   "id": "d92160a5",
   "metadata": {
    "id": "d92160a5"
   },
   "outputs": [],
   "source": [
    "X_train, X_loc_test,y_train,y_loc_test= train_test_split(X,y,test_size=0.4)"
   ]
  },
  {
   "cell_type": "markdown",
   "id": "p4OME62pDufR",
   "metadata": {
    "id": "p4OME62pDufR"
   },
   "source": [
    "### Please check for the number of rows and columns of all the new dataframes (all 4)"
   ]
  },
  {
   "cell_type": "code",
   "execution_count": 52,
   "id": "48328d0a",
   "metadata": {
    "id": "48328d0a"
   },
   "outputs": [
    {
     "name": "stdout",
     "output_type": "stream",
     "text": [
      "(23494, 10)\n",
      "(15664, 10)\n",
      "(23494, 1)\n",
      "(15664, 1)\n"
     ]
    }
   ],
   "source": [
    "print(X_train.shape)\n",
    "print(X_loc_test.shape)\n",
    "print(y_train.shape)\n",
    "print(y_loc_test.shape)"
   ]
  },
  {
   "cell_type": "markdown",
   "id": "4a68ed71",
   "metadata": {
    "id": "4a68ed71"
   },
   "source": [
    "### Now you are expected to split the \"X_loc_test\" and \"y_loc_test\" dataset into \"Test\" and \"Validation\" (as the names given below) dataframe with 50:50 format \n",
    "\n",
    "- Note - The expected output should be in \"X_val\", \"X_test\", \"y_val\", \"y_test\" format"
   ]
  },
  {
   "cell_type": "code",
   "execution_count": 53,
   "id": "b56c62f2",
   "metadata": {
    "id": "b56c62f2"
   },
   "outputs": [],
   "source": [
    "X_val, X_test,y_val,y_test= train_test_split(X_loc_test,y_loc_test,test_size=.5)"
   ]
  },
  {
   "cell_type": "markdown",
   "id": "bJTSAskvERH1",
   "metadata": {
    "id": "bJTSAskvERH1"
   },
   "source": [
    "### Please check for the number of rows and columns of all the 4 dataframes "
   ]
  },
  {
   "cell_type": "code",
   "execution_count": 54,
   "id": "845d7564",
   "metadata": {
    "id": "845d7564"
   },
   "outputs": [
    {
     "name": "stdout",
     "output_type": "stream",
     "text": [
      "(7832, 10)\n",
      "(7832, 10)\n",
      "(7832, 1)\n",
      "(7832, 1)\n"
     ]
    }
   ],
   "source": [
    "print(X_val.shape)\n",
    "print(X_test.shape)\n",
    "print(y_val.shape)\n",
    "print(y_test.shape)"
   ]
  },
  {
   "cell_type": "markdown",
   "id": "110fa872",
   "metadata": {
    "id": "110fa872"
   },
   "source": [
    "# Exploratory Data Analysis (EDA) "
   ]
  },
  {
   "cell_type": "markdown",
   "id": "ffc8fe0f",
   "metadata": {
    "id": "ffc8fe0f"
   },
   "source": [
    "### Distribution Plot of the target variable (use the dataframe which contains the target field)\n",
    "\n",
    "- Note - You are expected to make a distribution plot for the target variable "
   ]
  },
  {
   "cell_type": "code",
   "execution_count": 55,
   "id": "ba2bf8ed",
   "metadata": {
    "id": "ba2bf8ed"
   },
   "outputs": [
    {
     "data": {
      "image/png": "[encoded data removed]",
      "image/svg+xml": "<?xml version=\"1.0\" encoding=\"utf-8\" standalone=\"no\"?>\n<!DOCTYPE svg PUBLIC \"-//W3C//DTD SVG 1.1//EN\"\n  \"http://www.w3.org/Graphics/SVG/1.1/DTD/svg11.dtd\">\n<svg xmlns:xlink=\"http://www.w3.org/1999/xlink\" width=\"381.65pt\" height=\"261.19625pt\" viewBox=\"0 0 381.65 261.19625\" xmlns=\"http://www.w3.org/2000/svg\" version=\"1.1\">\n <metadata>\n  <rdf:RDF xmlns:dc=\"http://purl.org/dc/elements/1.1/\" xmlns:cc=\"http://creativecommons.org/ns#\" xmlns:rdf=\"http://www.w3.org/1999/02/22-rdf-syntax-ns#\">\n   <cc:Work>\n    <dc:type rdf:resource=\"http://purl.org/dc/dcmitype/StillImage\"/>\n    <dc:date>2022-02-25T14:03:46.152307</dc:date>\n    <dc:format>image/svg+xml</dc:format>\n    <dc:creator>\n     <cc:Agent>\n      <dc:title>Matplotlib v3.5.1, https://matplotlib.org/</dc:title>\n     </cc:Agent>\n    </dc:creator>\n   </cc:Work>\n  </rdf:RDF>\n </metadata>\n <defs>\n  <style type=\"text/css\">*{stroke-linejoin: round; stroke-linecap: butt}</style>\n </defs>\n <g id=\"figure_1\">\n  <g id=\"patch_1\">\n   <path d=\"M -0 261.19625 \nL 381.65 261.19625 \nL 381.65 0 \nL -0 0 \nz\n\"/>\n  </g>\n  <g id=\"axes_1\">\n   <g id=\"patch_2\">\n    <path d=\"M 39.65 224.64 \nL 374.45 224.64 \nL 374.45 7.2 \nL 39.65 7.2 \nz\n\"/>\n   </g>\n   <g id=\"patch_3\">\n    <path d=\"M 54.868182 224.64 \nL 57.911818 224.64 \nL 57.911818 224.612759 \nL 54.868182 224.612759 \nz\n\" clip-path=\"url(#p8e67009c43)\" style=\"fill: #8dd3c7\"/>\n   </g>\n   <g id=\"patch_4\">\n    <path d=\"M 57.911818 224.64 \nL 60.955455 224.64 \nL 60.955455 224.612759 \nL 57.911818 224.612759 \nz\n\" clip-path=\"url(#p8e67009c43)\" style=\"fill: #8dd3c7\"/>\n   </g>\n   <g id=\"patch_5\">\n    <path d=\"M 60.955455 224.64 \nL 63.999091 224.64 \nL 63.999091 224.612759 \nL 60.955455 224.612759 \nz\n\" clip-path=\"url(#p8e67009c43)\" style=\"fill: #8dd3c7\"/>\n   </g>\n   <g id=\"patch_6\">\n    <path d=\"M 63.999091 224.64 \nL 67.042727 224.64 \nL 67.042727 224.64 \nL 63.999091 224.64 \nz\n\" clip-path=\"url(#p8e67009c43)\" style=\"fill: #8dd3c7\"/>\n   </g>\n   <g id=\"patch_7\">\n    <path d=\"M 67.042727 224.64 \nL 70.086364 224.64 \nL 70.086364 224.64 \nL 67.042727 224.64 \nz\n\" clip-path=\"url(#p8e67009c43)\" style=\"fill: #8dd3c7\"/>\n   </g>\n   <g id=\"patch_8\">\n    <path d=\"M 70.086364 224.64 \nL 73.13 224.64 \nL 73.13 224.64 \nL 70.086364 224.64 \nz\n\" clip-path=\"url(#p8e67009c43)\" style=\"fill: #8dd3c7\"/>\n   </g>\n   <g id=\"patch_9\">\n    <path d=\"M 73.13 224.64 \nL 76.173636 224.64 \nL 76.173636 224.64 \nL 73.13 224.64 \nz\n\" clip-path=\"url(#p8e67009c43)\" style=\"fill: #8dd3c7\"/>\n   </g>\n   <g id=\"patch_10\">\n    <path d=\"M 76.173636 224.64 \nL 79.217273 224.64 \nL 79.217273 224.612759 \nL 76.173636 224.612759 \nz\n\" clip-path=\"url(#p8e67009c43)\" style=\"fill: #8dd3c7\"/>\n   </g>\n   <g id=\"patch_11\">\n    <path d=\"M 79.217273 224.64 \nL 82.260909 224.64 \nL 82.260909 224.64 \nL 79.217273 224.64 \nz\n\" clip-path=\"url(#p8e67009c43)\" style=\"fill: #8dd3c7\"/>\n   </g>\n   <g id=\"patch_12\">\n    <path d=\"M 82.260909 224.64 \nL 85.304545 224.64 \nL 85.304545 224.64 \nL 82.260909 224.64 \nz\n\" clip-path=\"url(#p8e67009c43)\" style=\"fill: #8dd3c7\"/>\n   </g>\n   <g id=\"patch_13\">\n    <path d=\"M 85.304545 224.64 \nL 88.348182 224.64 \nL 88.348182 224.64 \nL 85.304545 224.64 \nz\n\" clip-path=\"url(#p8e67009c43)\" style=\"fill: #8dd3c7\"/>\n   </g>\n   <g id=\"patch_14\">\n    <path d=\"M 88.348182 224.64 \nL 91.391818 224.64 \nL 91.391818 224.612759 \nL 88.348182 224.612759 \nz\n\" clip-path=\"url(#p8e67009c43)\" style=\"fill: #8dd3c7\"/>\n   </g>\n   <g id=\"patch_15\">\n    <path d=\"M 91.391818 224.64 \nL 94.435455 224.64 \nL 94.435455 224.612759 \nL 91.391818 224.612759 \nz\n\" clip-path=\"url(#p8e67009c43)\" style=\"fill: #8dd3c7\"/>\n   </g>\n   <g id=\"patch_16\">\n    <path d=\"M 94.435455 224.64 \nL 97.479091 224.64 \nL 97.479091 224.64 \nL 94.435455 224.64 \nz\n\" clip-path=\"url(#p8e67009c43)\" style=\"fill: #8dd3c7\"/>\n   </g>\n   <g id=\"patch_17\">\n    <path d=\"M 97.479091 224.64 \nL 100.522727 224.64 \nL 100.522727 224.612759 \nL 97.479091 224.612759 \nz\n\" clip-path=\"url(#p8e67009c43)\" style=\"fill: #8dd3c7\"/>\n   </g>\n   <g id=\"patch_18\">\n    <path d=\"M 100.522727 224.64 \nL 103.566364 224.64 \nL 103.566364 224.612759 \nL 100.522727 224.612759 \nz\n\" clip-path=\"url(#p8e67009c43)\" style=\"fill: #8dd3c7\"/>\n   </g>\n   <g id=\"patch_19\">\n    <path d=\"M 103.566364 224.64 \nL 106.61 224.64 \nL 106.61 224.585518 \nL 103.566364 224.585518 \nz\n\" clip-path=\"url(#p8e67009c43)\" style=\"fill: #8dd3c7\"/>\n   </g>\n   <g id=\"patch_20\">\n    <path d=\"M 106.61 224.64 \nL 109.653636 224.64 \nL 109.653636 224.64 \nL 106.61 224.64 \nz\n\" clip-path=\"url(#p8e67009c43)\" style=\"fill: #8dd3c7\"/>\n   </g>\n   <g id=\"patch_21\">\n    <path d=\"M 109.653636 224.64 \nL 112.697273 224.64 \nL 112.697273 224.64 \nL 109.653636 224.64 \nz\n\" clip-path=\"url(#p8e67009c43)\" style=\"fill: #8dd3c7\"/>\n   </g>\n   <g id=\"patch_22\">\n    <path d=\"M 112.697273 224.64 \nL 115.740909 224.64 \nL 115.740909 224.64 \nL 112.697273 224.64 \nz\n\" clip-path=\"url(#p8e67009c43)\" style=\"fill: #8dd3c7\"/>\n   </g>\n   <g id=\"patch_23\">\n    <path d=\"M 115.740909 224.64 \nL 118.784545 224.64 \nL 118.784545 224.64 \nL 115.740909 224.64 \nz\n\" clip-path=\"url(#p8e67009c43)\" style=\"fill: #8dd3c7\"/>\n   </g>\n   <g id=\"patch_24\">\n    <path d=\"M 118.784545 224.64 \nL 121.828182 224.64 \nL 121.828182 224.64 \nL 118.784545 224.64 \nz\n\" clip-path=\"url(#p8e67009c43)\" style=\"fill: #8dd3c7\"/>\n   </g>\n   <g id=\"patch_25\">\n    <path d=\"M 121.828182 224.64 \nL 124.871818 224.64 \nL 124.871818 224.585518 \nL 121.828182 224.585518 \nz\n\" clip-path=\"url(#p8e67009c43)\" style=\"fill: #8dd3c7\"/>\n   </g>\n   <g id=\"patch_26\">\n    <path d=\"M 124.871818 224.64 \nL 127.915455 224.64 \nL 127.915455 224.503795 \nL 124.871818 224.503795 \nz\n\" clip-path=\"url(#p8e67009c43)\" style=\"fill: #8dd3c7\"/>\n   </g>\n   <g id=\"patch_27\">\n    <path d=\"M 127.915455 224.64 \nL 130.959091 224.64 \nL 130.959091 224.531036 \nL 127.915455 224.531036 \nz\n\" clip-path=\"url(#p8e67009c43)\" style=\"fill: #8dd3c7\"/>\n   </g>\n   <g id=\"patch_28\">\n    <path d=\"M 130.959091 224.64 \nL 134.002727 224.64 \nL 134.002727 224.585518 \nL 130.959091 224.585518 \nz\n\" clip-path=\"url(#p8e67009c43)\" style=\"fill: #8dd3c7\"/>\n   </g>\n   <g id=\"patch_29\">\n    <path d=\"M 134.002727 224.64 \nL 137.046364 224.64 \nL 137.046364 224.503795 \nL 134.002727 224.503795 \nz\n\" clip-path=\"url(#p8e67009c43)\" style=\"fill: #8dd3c7\"/>\n   </g>\n   <g id=\"patch_30\">\n    <path d=\"M 137.046364 224.64 \nL 140.09 224.64 \nL 140.09 224.313109 \nL 137.046364 224.313109 \nz\n\" clip-path=\"url(#p8e67009c43)\" style=\"fill: #8dd3c7\"/>\n   </g>\n   <g id=\"patch_31\">\n    <path d=\"M 140.09 224.64 \nL 143.133636 224.64 \nL 143.133636 224.394831 \nL 140.09 224.394831 \nz\n\" clip-path=\"url(#p8e67009c43)\" style=\"fill: #8dd3c7\"/>\n   </g>\n   <g id=\"patch_32\">\n    <path d=\"M 143.133636 224.64 \nL 146.177273 224.64 \nL 146.177273 224.422072 \nL 143.133636 224.422072 \nz\n\" clip-path=\"url(#p8e67009c43)\" style=\"fill: #8dd3c7\"/>\n   </g>\n   <g id=\"patch_33\">\n    <path d=\"M 146.177273 224.64 \nL 149.220909 224.64 \nL 149.220909 224.449313 \nL 146.177273 224.449313 \nz\n\" clip-path=\"url(#p8e67009c43)\" style=\"fill: #8dd3c7\"/>\n   </g>\n   <g id=\"patch_34\">\n    <path d=\"M 149.220909 224.64 \nL 152.264545 224.64 \nL 152.264545 224.095181 \nL 149.220909 224.095181 \nz\n\" clip-path=\"url(#p8e67009c43)\" style=\"fill: #8dd3c7\"/>\n   </g>\n   <g id=\"patch_35\">\n    <path d=\"M 152.264545 224.64 \nL 155.308182 224.64 \nL 155.308182 223.986217 \nL 152.264545 223.986217 \nz\n\" clip-path=\"url(#p8e67009c43)\" style=\"fill: #8dd3c7\"/>\n   </g>\n   <g id=\"patch_36\">\n    <path d=\"M 155.308182 224.64 \nL 158.351818 224.64 \nL 158.351818 222.733133 \nL 155.308182 222.733133 \nz\n\" clip-path=\"url(#p8e67009c43)\" style=\"fill: #8dd3c7\"/>\n   </g>\n   <g id=\"patch_37\">\n    <path d=\"M 158.351818 224.64 \nL 161.395455 224.64 \nL 161.395455 222.433483 \nL 158.351818 222.433483 \nz\n\" clip-path=\"url(#p8e67009c43)\" style=\"fill: #8dd3c7\"/>\n   </g>\n   <g id=\"patch_38\">\n    <path d=\"M 161.395455 224.64 \nL 164.439091 224.64 \nL 164.439091 211.809512 \nL 161.395455 211.809512 \nz\n\" clip-path=\"url(#p8e67009c43)\" style=\"fill: #8dd3c7\"/>\n   </g>\n   <g id=\"patch_39\">\n    <path d=\"M 164.439091 224.64 \nL 167.482727 224.64 \nL 167.482727 194.86564 \nL 164.439091 194.86564 \nz\n\" clip-path=\"url(#p8e67009c43)\" style=\"fill: #8dd3c7\"/>\n   </g>\n   <g id=\"patch_40\">\n    <path d=\"M 167.482727 224.64 \nL 170.526364 224.64 \nL 170.526364 87.835941 \nL 167.482727 87.835941 \nz\n\" clip-path=\"url(#p8e67009c43)\" style=\"fill: #8dd3c7\"/>\n   </g>\n   <g id=\"patch_41\">\n    <path d=\"M 170.526364 224.64 \nL 173.57 224.64 \nL 173.57 129.705284 \nL 170.526364 129.705284 \nz\n\" clip-path=\"url(#p8e67009c43)\" style=\"fill: #8dd3c7\"/>\n   </g>\n   <g id=\"patch_42\">\n    <path d=\"M 173.57 224.64 \nL 176.613636 224.64 \nL 176.613636 17.554286 \nL 173.57 17.554286 \nz\n\" clip-path=\"url(#p8e67009c43)\" style=\"fill: #8dd3c7\"/>\n   </g>\n   <g id=\"patch_43\">\n    <path d=\"M 176.613636 224.64 \nL 179.657273 224.64 \nL 179.657273 146.458469 \nL 176.613636 146.458469 \nz\n\" clip-path=\"url(#p8e67009c43)\" style=\"fill: #8dd3c7\"/>\n   </g>\n   <g id=\"patch_44\">\n    <path d=\"M 179.657273 224.64 \nL 182.700909 224.64 \nL 182.700909 202.411383 \nL 179.657273 202.411383 \nz\n\" clip-path=\"url(#p8e67009c43)\" style=\"fill: #8dd3c7\"/>\n   </g>\n   <g id=\"patch_45\">\n    <path d=\"M 182.700909 224.64 \nL 185.744545 224.64 \nL 185.744545 213.879824 \nL 182.700909 213.879824 \nz\n\" clip-path=\"url(#p8e67009c43)\" style=\"fill: #8dd3c7\"/>\n   </g>\n   <g id=\"patch_46\">\n    <path d=\"M 185.744545 224.64 \nL 188.788182 224.64 \nL 188.788182 210.420223 \nL 185.744545 210.420223 \nz\n\" clip-path=\"url(#p8e67009c43)\" style=\"fill: #8dd3c7\"/>\n   </g>\n   <g id=\"patch_47\">\n    <path d=\"M 188.788182 224.64 \nL 191.831818 224.64 \nL 191.831818 216.685642 \nL 188.788182 216.685642 \nz\n\" clip-path=\"url(#p8e67009c43)\" style=\"fill: #8dd3c7\"/>\n   </g>\n   <g id=\"patch_48\">\n    <path d=\"M 191.831818 224.64 \nL 194.875455 224.64 \nL 194.875455 222.487965 \nL 191.831818 222.487965 \nz\n\" clip-path=\"url(#p8e67009c43)\" style=\"fill: #8dd3c7\"/>\n   </g>\n   <g id=\"patch_49\">\n    <path d=\"M 194.875455 224.64 \nL 197.919091 224.64 \nL 197.919091 223.877253 \nL 194.875455 223.877253 \nz\n\" clip-path=\"url(#p8e67009c43)\" style=\"fill: #8dd3c7\"/>\n   </g>\n   <g id=\"patch_50\">\n    <path d=\"M 197.919091 224.64 \nL 200.962727 224.64 \nL 200.962727 223.822771 \nL 197.919091 223.822771 \nz\n\" clip-path=\"url(#p8e67009c43)\" style=\"fill: #8dd3c7\"/>\n   </g>\n   <g id=\"patch_51\">\n    <path d=\"M 200.962727 224.64 \nL 204.006364 224.64 \nL 204.006364 224.258627 \nL 200.962727 224.258627 \nz\n\" clip-path=\"url(#p8e67009c43)\" style=\"fill: #8dd3c7\"/>\n   </g>\n   <g id=\"patch_52\">\n    <path d=\"M 204.006364 224.64 \nL 207.05 224.64 \nL 207.05 224.258627 \nL 204.006364 224.258627 \nz\n\" clip-path=\"url(#p8e67009c43)\" style=\"fill: #8dd3c7\"/>\n   </g>\n   <g id=\"patch_53\">\n    <path d=\"M 207.05 224.64 \nL 210.093636 224.64 \nL 210.093636 224.231386 \nL 207.05 224.231386 \nz\n\" clip-path=\"url(#p8e67009c43)\" style=\"fill: #8dd3c7\"/>\n   </g>\n   <g id=\"patch_54\">\n    <path d=\"M 210.093636 224.64 \nL 213.137273 224.64 \nL 213.137273 224.394831 \nL 210.093636 224.394831 \nz\n\" clip-path=\"url(#p8e67009c43)\" style=\"fill: #8dd3c7\"/>\n   </g>\n   <g id=\"patch_55\">\n    <path d=\"M 213.137273 224.64 \nL 216.180909 224.64 \nL 216.180909 224.449313 \nL 213.137273 224.449313 \nz\n\" clip-path=\"url(#p8e67009c43)\" style=\"fill: #8dd3c7\"/>\n   </g>\n   <g id=\"patch_56\">\n    <path d=\"M 216.180909 224.64 \nL 219.224545 224.64 \nL 219.224545 224.503795 \nL 216.180909 224.503795 \nz\n\" clip-path=\"url(#p8e67009c43)\" style=\"fill: #8dd3c7\"/>\n   </g>\n   <g id=\"patch_57\">\n    <path d=\"M 219.224545 224.64 \nL 222.268182 224.64 \nL 222.268182 224.36759 \nL 219.224545 224.36759 \nz\n\" clip-path=\"url(#p8e67009c43)\" style=\"fill: #8dd3c7\"/>\n   </g>\n   <g id=\"patch_58\">\n    <path d=\"M 222.268182 224.64 \nL 225.311818 224.64 \nL 225.311818 224.149663 \nL 222.268182 224.149663 \nz\n\" clip-path=\"url(#p8e67009c43)\" style=\"fill: #8dd3c7\"/>\n   </g>\n   <g id=\"patch_59\">\n    <path d=\"M 225.311818 224.64 \nL 228.355455 224.64 \nL 228.355455 224.476554 \nL 225.311818 224.476554 \nz\n\" clip-path=\"url(#p8e67009c43)\" style=\"fill: #8dd3c7\"/>\n   </g>\n   <g id=\"patch_60\">\n    <path d=\"M 228.355455 224.64 \nL 231.399091 224.64 \nL 231.399091 224.503795 \nL 228.355455 224.503795 \nz\n\" clip-path=\"url(#p8e67009c43)\" style=\"fill: #8dd3c7\"/>\n   </g>\n   <g id=\"patch_61\">\n    <path d=\"M 231.399091 224.64 \nL 234.442727 224.64 \nL 234.442727 222.814856 \nL 231.399091 222.814856 \nz\n\" clip-path=\"url(#p8e67009c43)\" style=\"fill: #8dd3c7\"/>\n   </g>\n   <g id=\"patch_62\">\n    <path d=\"M 234.442727 224.64 \nL 237.486364 224.64 \nL 237.486364 221.371086 \nL 234.442727 221.371086 \nz\n\" clip-path=\"url(#p8e67009c43)\" style=\"fill: #8dd3c7\"/>\n   </g>\n   <g id=\"patch_63\">\n    <path d=\"M 237.486364 224.64 \nL 240.53 224.64 \nL 240.53 221.997628 \nL 237.486364 221.997628 \nz\n\" clip-path=\"url(#p8e67009c43)\" style=\"fill: #8dd3c7\"/>\n   </g>\n   <g id=\"patch_64\">\n    <path d=\"M 240.53 224.64 \nL 243.573636 224.64 \nL 243.573636 223.604844 \nL 240.53 223.604844 \nz\n\" clip-path=\"url(#p8e67009c43)\" style=\"fill: #8dd3c7\"/>\n   </g>\n   <g id=\"patch_65\">\n    <path d=\"M 243.573636 224.64 \nL 246.617273 224.64 \nL 246.617273 224.06794 \nL 243.573636 224.06794 \nz\n\" clip-path=\"url(#p8e67009c43)\" style=\"fill: #8dd3c7\"/>\n   </g>\n   <g id=\"patch_66\">\n    <path d=\"M 246.617273 224.64 \nL 249.660909 224.64 \nL 249.660909 224.585518 \nL 246.617273 224.585518 \nz\n\" clip-path=\"url(#p8e67009c43)\" style=\"fill: #8dd3c7\"/>\n   </g>\n   <g id=\"patch_67\">\n    <path d=\"M 249.660909 224.64 \nL 252.704545 224.64 \nL 252.704545 224.64 \nL 249.660909 224.64 \nz\n\" clip-path=\"url(#p8e67009c43)\" style=\"fill: #8dd3c7\"/>\n   </g>\n   <g id=\"patch_68\">\n    <path d=\"M 252.704545 224.64 \nL 255.748182 224.64 \nL 255.748182 224.531036 \nL 252.704545 224.531036 \nz\n\" clip-path=\"url(#p8e67009c43)\" style=\"fill: #8dd3c7\"/>\n   </g>\n   <g id=\"patch_69\">\n    <path d=\"M 255.748182 224.64 \nL 258.791818 224.64 \nL 258.791818 224.449313 \nL 255.748182 224.449313 \nz\n\" clip-path=\"url(#p8e67009c43)\" style=\"fill: #8dd3c7\"/>\n   </g>\n   <g id=\"patch_70\">\n    <path d=\"M 258.791818 224.64 \nL 261.835455 224.64 \nL 261.835455 224.204145 \nL 258.791818 224.204145 \nz\n\" clip-path=\"url(#p8e67009c43)\" style=\"fill: #8dd3c7\"/>\n   </g>\n   <g id=\"patch_71\">\n    <path d=\"M 261.835455 224.64 \nL 264.879091 224.64 \nL 264.879091 224.585518 \nL 261.835455 224.585518 \nz\n\" clip-path=\"url(#p8e67009c43)\" style=\"fill: #8dd3c7\"/>\n   </g>\n   <g id=\"patch_72\">\n    <path d=\"M 264.879091 224.64 \nL 267.922727 224.64 \nL 267.922727 224.06794 \nL 264.879091 224.06794 \nz\n\" clip-path=\"url(#p8e67009c43)\" style=\"fill: #8dd3c7\"/>\n   </g>\n   <g id=\"patch_73\">\n    <path d=\"M 267.922727 224.64 \nL 270.966364 224.64 \nL 270.966364 224.64 \nL 267.922727 224.64 \nz\n\" clip-path=\"url(#p8e67009c43)\" style=\"fill: #8dd3c7\"/>\n   </g>\n   <g id=\"patch_74\">\n    <path d=\"M 270.966364 224.64 \nL 274.01 224.64 \nL 274.01 224.64 \nL 270.966364 224.64 \nz\n\" clip-path=\"url(#p8e67009c43)\" style=\"fill: #8dd3c7\"/>\n   </g>\n   <g id=\"patch_75\">\n    <path d=\"M 274.01 224.64 \nL 277.053636 224.64 \nL 277.053636 224.558277 \nL 274.01 224.558277 \nz\n\" clip-path=\"url(#p8e67009c43)\" style=\"fill: #8dd3c7\"/>\n   </g>\n   <g id=\"patch_76\">\n    <path d=\"M 277.053636 224.64 \nL 280.097273 224.64 \nL 280.097273 224.503795 \nL 277.053636 224.503795 \nz\n\" clip-path=\"url(#p8e67009c43)\" style=\"fill: #8dd3c7\"/>\n   </g>\n   <g id=\"patch_77\">\n    <path d=\"M 280.097273 224.64 \nL 283.140909 224.64 \nL 283.140909 224.394831 \nL 280.097273 224.394831 \nz\n\" clip-path=\"url(#p8e67009c43)\" style=\"fill: #8dd3c7\"/>\n   </g>\n   <g id=\"patch_78\">\n    <path d=\"M 283.140909 224.64 \nL 286.184545 224.64 \nL 286.184545 224.64 \nL 283.140909 224.64 \nz\n\" clip-path=\"url(#p8e67009c43)\" style=\"fill: #8dd3c7\"/>\n   </g>\n   <g id=\"patch_79\">\n    <path d=\"M 286.184545 224.64 \nL 289.228182 224.64 \nL 289.228182 224.585518 \nL 286.184545 224.585518 \nz\n\" clip-path=\"url(#p8e67009c43)\" style=\"fill: #8dd3c7\"/>\n   </g>\n   <g id=\"patch_80\">\n    <path d=\"M 289.228182 224.64 \nL 292.271818 224.64 \nL 292.271818 224.612759 \nL 289.228182 224.612759 \nz\n\" clip-path=\"url(#p8e67009c43)\" style=\"fill: #8dd3c7\"/>\n   </g>\n   <g id=\"patch_81\">\n    <path d=\"M 292.271818 224.64 \nL 295.315455 224.64 \nL 295.315455 224.612759 \nL 292.271818 224.612759 \nz\n\" clip-path=\"url(#p8e67009c43)\" style=\"fill: #8dd3c7\"/>\n   </g>\n   <g id=\"patch_82\">\n    <path d=\"M 295.315455 224.64 \nL 298.359091 224.64 \nL 298.359091 224.64 \nL 295.315455 224.64 \nz\n\" clip-path=\"url(#p8e67009c43)\" style=\"fill: #8dd3c7\"/>\n   </g>\n   <g id=\"patch_83\">\n    <path d=\"M 298.359091 224.64 \nL 301.402727 224.64 \nL 301.402727 224.64 \nL 298.359091 224.64 \nz\n\" clip-path=\"url(#p8e67009c43)\" style=\"fill: #8dd3c7\"/>\n   </g>\n   <g id=\"patch_84\">\n    <path d=\"M 301.402727 224.64 \nL 304.446364 224.64 \nL 304.446364 224.585518 \nL 301.402727 224.585518 \nz\n\" clip-path=\"url(#p8e67009c43)\" style=\"fill: #8dd3c7\"/>\n   </g>\n   <g id=\"patch_85\">\n    <path d=\"M 304.446364 224.64 \nL 307.49 224.64 \nL 307.49 224.612759 \nL 304.446364 224.612759 \nz\n\" clip-path=\"url(#p8e67009c43)\" style=\"fill: #8dd3c7\"/>\n   </g>\n   <g id=\"patch_86\">\n    <path d=\"M 307.49 224.64 \nL 310.533636 224.64 \nL 310.533636 224.64 \nL 307.49 224.64 \nz\n\" clip-path=\"url(#p8e67009c43)\" style=\"fill: #8dd3c7\"/>\n   </g>\n   <g id=\"patch_87\">\n    <path d=\"M 310.533636 224.64 \nL 313.577273 224.64 \nL 313.577273 224.64 \nL 310.533636 224.64 \nz\n\" clip-path=\"url(#p8e67009c43)\" style=\"fill: #8dd3c7\"/>\n   </g>\n   <g id=\"patch_88\">\n    <path d=\"M 313.577273 224.64 \nL 316.620909 224.64 \nL 316.620909 224.64 \nL 313.577273 224.64 \nz\n\" clip-path=\"url(#p8e67009c43)\" style=\"fill: #8dd3c7\"/>\n   </g>\n   <g id=\"patch_89\">\n    <path d=\"M 316.620909 224.64 \nL 319.664545 224.64 \nL 319.664545 224.612759 \nL 316.620909 224.612759 \nz\n\" clip-path=\"url(#p8e67009c43)\" style=\"fill: #8dd3c7\"/>\n   </g>\n   <g id=\"patch_90\">\n    <path d=\"M 319.664545 224.64 \nL 322.708182 224.64 \nL 322.708182 224.612759 \nL 319.664545 224.612759 \nz\n\" clip-path=\"url(#p8e67009c43)\" style=\"fill: #8dd3c7\"/>\n   </g>\n   <g id=\"patch_91\">\n    <path d=\"M 322.708182 224.64 \nL 325.751818 224.64 \nL 325.751818 224.64 \nL 322.708182 224.64 \nz\n\" clip-path=\"url(#p8e67009c43)\" style=\"fill: #8dd3c7\"/>\n   </g>\n   <g id=\"patch_92\">\n    <path d=\"M 325.751818 224.64 \nL 328.795455 224.64 \nL 328.795455 224.64 \nL 325.751818 224.64 \nz\n\" clip-path=\"url(#p8e67009c43)\" style=\"fill: #8dd3c7\"/>\n   </g>\n   <g id=\"patch_93\">\n    <path d=\"M 328.795455 224.64 \nL 331.839091 224.64 \nL 331.839091 224.64 \nL 328.795455 224.64 \nz\n\" clip-path=\"url(#p8e67009c43)\" style=\"fill: #8dd3c7\"/>\n   </g>\n   <g id=\"patch_94\">\n    <path d=\"M 331.839091 224.64 \nL 334.882727 224.64 \nL 334.882727 224.64 \nL 331.839091 224.64 \nz\n\" clip-path=\"url(#p8e67009c43)\" style=\"fill: #8dd3c7\"/>\n   </g>\n   <g id=\"patch_95\">\n    <path d=\"M 334.882727 224.64 \nL 337.926364 224.64 \nL 337.926364 224.612759 \nL 334.882727 224.612759 \nz\n\" clip-path=\"url(#p8e67009c43)\" style=\"fill: #8dd3c7\"/>\n   </g>\n   <g id=\"patch_96\">\n    <path d=\"M 337.926364 224.64 \nL 340.97 224.64 \nL 340.97 224.64 \nL 337.926364 224.64 \nz\n\" clip-path=\"url(#p8e67009c43)\" style=\"fill: #8dd3c7\"/>\n   </g>\n   <g id=\"patch_97\">\n    <path d=\"M 340.97 224.64 \nL 344.013636 224.64 \nL 344.013636 224.612759 \nL 340.97 224.612759 \nz\n\" clip-path=\"url(#p8e67009c43)\" style=\"fill: #8dd3c7\"/>\n   </g>\n   <g id=\"patch_98\">\n    <path d=\"M 344.013636 224.64 \nL 347.057273 224.64 \nL 347.057273 224.64 \nL 344.013636 224.64 \nz\n\" clip-path=\"url(#p8e67009c43)\" style=\"fill: #8dd3c7\"/>\n   </g>\n   <g id=\"patch_99\">\n    <path d=\"M 347.057273 224.64 \nL 350.100909 224.64 \nL 350.100909 224.612759 \nL 347.057273 224.612759 \nz\n\" clip-path=\"url(#p8e67009c43)\" style=\"fill: #8dd3c7\"/>\n   </g>\n   <g id=\"patch_100\">\n    <path d=\"M 350.100909 224.64 \nL 353.144545 224.64 \nL 353.144545 224.64 \nL 350.100909 224.64 \nz\n\" clip-path=\"url(#p8e67009c43)\" style=\"fill: #8dd3c7\"/>\n   </g>\n   <g id=\"patch_101\">\n    <path d=\"M 353.144545 224.64 \nL 356.188182 224.64 \nL 356.188182 224.612759 \nL 353.144545 224.612759 \nz\n\" clip-path=\"url(#p8e67009c43)\" style=\"fill: #8dd3c7\"/>\n   </g>\n   <g id=\"patch_102\">\n    <path d=\"M 356.188182 224.64 \nL 359.231818 224.64 \nL 359.231818 224.585518 \nL 356.188182 224.585518 \nz\n\" clip-path=\"url(#p8e67009c43)\" style=\"fill: #8dd3c7\"/>\n   </g>\n   <g id=\"matplotlib.axis_1\">\n    <g id=\"xtick_1\">\n     <g id=\"line2d_1\">\n      <defs>\n       <path id=\"m2caf51efd7\" d=\"M 0 0 \nL 0 3.5 \n\" style=\"stroke: #ffffff; stroke-width: 0.8\"/>\n      </defs>\n      <g>\n       <use xlink:href=\"#m2caf51efd7\" x=\"43.107156\" y=\"224.64\" style=\"fill: #ffffff; stroke: #ffffff; stroke-width: 0.8\"/>\n      </g>\n     </g>\n     <g id=\"text_1\">\n      <!-- −0.75 -->\n      <g style=\"fill: #ffffff\" transform=\"translate(27.784499 239.238437)scale(0.1 -0.1)\">\n       <defs>\n        <path id=\"DejaVuSans-2212\" d=\"M 678 2272 \nL 4684 2272 \nL 4684 1741 \nL 678 1741 \nL 678 2272 \nz\n\" transform=\"scale(0.015625)\"/>\n        <path id=\"DejaVuSans-30\" d=\"M 2034 4250 \nQ 1547 4250 1301 3770 \nQ 1056 3291 1056 2328 \nQ 1056 1369 1301 889 \nQ 1547 409 2034 409 \nQ 2525 409 2770 889 \nQ 3016 1369 3016 2328 \nQ 3016 3291 2770 3770 \nQ 2525 4250 2034 4250 \nz\nM 2034 4750 \nQ 2819 4750 3233 4129 \nQ 3647 3509 3647 2328 \nQ 3647 1150 3233 529 \nQ 2819 -91 2034 -91 \nQ 1250 -91 836 529 \nQ 422 1150 422 2328 \nQ 422 3509 836 4129 \nQ 1250 4750 2034 4750 \nz\n\" transform=\"scale(0.015625)\"/>\n        <path id=\"DejaVuSans-2e\" d=\"M 684 794 \nL 1344 794 \nL 1344 0 \nL 684 0 \nL 684 794 \nz\n\" transform=\"scale(0.015625)\"/>\n        <path id=\"DejaVuSans-37\" d=\"M 525 4666 \nL 3525 4666 \nL 3525 4397 \nL 1831 0 \nL 1172 0 \nL 2766 4134 \nL 525 4134 \nL 525 4666 \nz\n\" transform=\"scale(0.015625)\"/>\n        <path id=\"DejaVuSans-35\" d=\"M 691 4666 \nL 3169 4666 \nL 3169 4134 \nL 1269 4134 \nL 1269 2991 \nQ 1406 3038 1543 3061 \nQ 1681 3084 1819 3084 \nQ 2600 3084 3056 2656 \nQ 3513 2228 3513 1497 \nQ 3513 744 3044 326 \nQ 2575 -91 1722 -91 \nQ 1428 -91 1123 -41 \nQ 819 9 494 109 \nL 494 744 \nQ 775 591 1075 516 \nQ 1375 441 1709 441 \nQ 2250 441 2565 725 \nQ 2881 1009 2881 1497 \nQ 2881 1984 2565 2268 \nQ 2250 2553 1709 2553 \nQ 1456 2553 1204 2497 \nQ 953 2441 691 2322 \nL 691 4666 \nz\n\" transform=\"scale(0.015625)\"/>\n       </defs>\n       <use xlink:href=\"#DejaVuSans-2212\"/>\n       <use xlink:href=\"#DejaVuSans-30\" x=\"83.789062\"/>\n       <use xlink:href=\"#DejaVuSans-2e\" x=\"147.412109\"/>\n       <use xlink:href=\"#DejaVuSans-37\" x=\"179.199219\"/>\n       <use xlink:href=\"#DejaVuSans-35\" x=\"242.822266\"/>\n      </g>\n     </g>\n    </g>\n    <g id=\"xtick_2\">\n     <g id=\"line2d_2\">\n      <g>\n       <use xlink:href=\"#m2caf51efd7\" x=\"86.705266\" y=\"224.64\" style=\"fill: #ffffff; stroke: #ffffff; stroke-width: 0.8\"/>\n      </g>\n     </g>\n     <g id=\"text_2\">\n      <!-- −0.50 -->\n      <g style=\"fill: #ffffff\" transform=\"translate(71.382609 239.238437)scale(0.1 -0.1)\">\n       <use xlink:href=\"#DejaVuSans-2212\"/>\n       <use xlink:href=\"#DejaVuSans-30\" x=\"83.789062\"/>\n       <use xlink:href=\"#DejaVuSans-2e\" x=\"147.412109\"/>\n       <use xlink:href=\"#DejaVuSans-35\" x=\"179.199219\"/>\n       <use xlink:href=\"#DejaVuSans-30\" x=\"242.822266\"/>\n      </g>\n     </g>\n    </g>\n    <g id=\"xtick_3\">\n     <g id=\"line2d_3\">\n      <g>\n       <use xlink:href=\"#m2caf51efd7\" x=\"130.303375\" y=\"224.64\" style=\"fill: #ffffff; stroke: #ffffff; stroke-width: 0.8\"/>\n      </g>\n     </g>\n     <g id=\"text_3\">\n      <!-- −0.25 -->\n      <g style=\"fill: #ffffff\" transform=\"translate(114.980719 239.238437)scale(0.1 -0.1)\">\n       <defs>\n        <path id=\"DejaVuSans-32\" d=\"M 1228 531 \nL 3431 531 \nL 3431 0 \nL 469 0 \nL 469 531 \nQ 828 903 1448 1529 \nQ 2069 2156 2228 2338 \nQ 2531 2678 2651 2914 \nQ 2772 3150 2772 3378 \nQ 2772 3750 2511 3984 \nQ 2250 4219 1831 4219 \nQ 1534 4219 1204 4116 \nQ 875 4013 500 3803 \nL 500 4441 \nQ 881 4594 1212 4672 \nQ 1544 4750 1819 4750 \nQ 2544 4750 2975 4387 \nQ 3406 4025 3406 3419 \nQ 3406 3131 3298 2873 \nQ 3191 2616 2906 2266 \nQ 2828 2175 2409 1742 \nQ 1991 1309 1228 531 \nz\n\" transform=\"scale(0.015625)\"/>\n       </defs>\n       <use xlink:href=\"#DejaVuSans-2212\"/>\n       <use xlink:href=\"#DejaVuSans-30\" x=\"83.789062\"/>\n       <use xlink:href=\"#DejaVuSans-2e\" x=\"147.412109\"/>\n       <use xlink:href=\"#DejaVuSans-32\" x=\"179.199219\"/>\n       <use xlink:href=\"#DejaVuSans-35\" x=\"242.822266\"/>\n      </g>\n     </g>\n    </g>\n    <g id=\"xtick_4\">\n     <g id=\"line2d_4\">\n      <g>\n       <use xlink:href=\"#m2caf51efd7\" x=\"173.901485\" y=\"224.64\" style=\"fill: #ffffff; stroke: #ffffff; stroke-width: 0.8\"/>\n      </g>\n     </g>\n     <g id=\"text_4\">\n      <!-- 0.00 -->\n      <g style=\"fill: #ffffff\" transform=\"translate(162.768673 239.238437)scale(0.1 -0.1)\">\n       <use xlink:href=\"#DejaVuSans-30\"/>\n       <use xlink:href=\"#DejaVuSans-2e\" x=\"63.623047\"/>\n       <use xlink:href=\"#DejaVuSans-30\" x=\"95.410156\"/>\n       <use xlink:href=\"#DejaVuSans-30\" x=\"159.033203\"/>\n      </g>\n     </g>\n    </g>\n    <g id=\"xtick_5\">\n     <g id=\"line2d_5\">\n      <g>\n       <use xlink:href=\"#m2caf51efd7\" x=\"217.499595\" y=\"224.64\" style=\"fill: #ffffff; stroke: #ffffff; stroke-width: 0.8\"/>\n      </g>\n     </g>\n     <g id=\"text_5\">\n      <!-- 0.25 -->\n      <g style=\"fill: #ffffff\" transform=\"translate(206.366782 239.238437)scale(0.1 -0.1)\">\n       <use xlink:href=\"#DejaVuSans-30\"/>\n       <use xlink:href=\"#DejaVuSans-2e\" x=\"63.623047\"/>\n       <use xlink:href=\"#DejaVuSans-32\" x=\"95.410156\"/>\n       <use xlink:href=\"#DejaVuSans-35\" x=\"159.033203\"/>\n      </g>\n     </g>\n    </g>\n    <g id=\"xtick_6\">\n     <g id=\"line2d_6\">\n      <g>\n       <use xlink:href=\"#m2caf51efd7\" x=\"261.097705\" y=\"224.64\" style=\"fill: #ffffff; stroke: #ffffff; stroke-width: 0.8\"/>\n      </g>\n     </g>\n     <g id=\"text_6\">\n      <!-- 0.50 -->\n      <g style=\"fill: #ffffff\" transform=\"translate(249.964892 239.238437)scale(0.1 -0.1)\">\n       <use xlink:href=\"#DejaVuSans-30\"/>\n       <use xlink:href=\"#DejaVuSans-2e\" x=\"63.623047\"/>\n       <use xlink:href=\"#DejaVuSans-35\" x=\"95.410156\"/>\n       <use xlink:href=\"#DejaVuSans-30\" x=\"159.033203\"/>\n      </g>\n     </g>\n    </g>\n    <g id=\"xtick_7\">\n     <g id=\"line2d_7\">\n      <g>\n       <use xlink:href=\"#m2caf51efd7\" x=\"304.695815\" y=\"224.64\" style=\"fill: #ffffff; stroke: #ffffff; stroke-width: 0.8\"/>\n      </g>\n     </g>\n     <g id=\"text_7\">\n      <!-- 0.75 -->\n      <g style=\"fill: #ffffff\" transform=\"translate(293.563002 239.238437)scale(0.1 -0.1)\">\n       <use xlink:href=\"#DejaVuSans-30\"/>\n       <use xlink:href=\"#DejaVuSans-2e\" x=\"63.623047\"/>\n       <use xlink:href=\"#DejaVuSans-37\" x=\"95.410156\"/>\n       <use xlink:href=\"#DejaVuSans-35\" x=\"159.033203\"/>\n      </g>\n     </g>\n    </g>\n    <g id=\"xtick_8\">\n     <g id=\"line2d_8\">\n      <g>\n       <use xlink:href=\"#m2caf51efd7\" x=\"348.293924\" y=\"224.64\" style=\"fill: #ffffff; stroke: #ffffff; stroke-width: 0.8\"/>\n      </g>\n     </g>\n     <g id=\"text_8\">\n      <!-- 1.00 -->\n      <g style=\"fill: #ffffff\" transform=\"translate(337.161112 239.238437)scale(0.1 -0.1)\">\n       <defs>\n        <path id=\"DejaVuSans-31\" d=\"M 794 531 \nL 1825 531 \nL 1825 4091 \nL 703 3866 \nL 703 4441 \nL 1819 4666 \nL 2450 4666 \nL 2450 531 \nL 3481 531 \nL 3481 0 \nL 794 0 \nL 794 531 \nz\n\" transform=\"scale(0.015625)\"/>\n       </defs>\n       <use xlink:href=\"#DejaVuSans-31\"/>\n       <use xlink:href=\"#DejaVuSans-2e\" x=\"63.623047\"/>\n       <use xlink:href=\"#DejaVuSans-30\" x=\"95.410156\"/>\n       <use xlink:href=\"#DejaVuSans-30\" x=\"159.033203\"/>\n      </g>\n     </g>\n    </g>\n    <g id=\"text_9\">\n     <!-- 1e7 -->\n     <g style=\"fill: #ffffff\" transform=\"translate(355.571875 251.916562)scale(0.1 -0.1)\">\n      <defs>\n       <path id=\"DejaVuSans-65\" d=\"M 3597 1894 \nL 3597 1613 \nL 953 1613 \nQ 991 1019 1311 708 \nQ 1631 397 2203 397 \nQ 2534 397 2845 478 \nQ 3156 559 3463 722 \nL 3463 178 \nQ 3153 47 2828 -22 \nQ 2503 -91 2169 -91 \nQ 1331 -91 842 396 \nQ 353 884 353 1716 \nQ 353 2575 817 3079 \nQ 1281 3584 2069 3584 \nQ 2775 3584 3186 3129 \nQ 3597 2675 3597 1894 \nz\nM 3022 2063 \nQ 3016 2534 2758 2815 \nQ 2500 3097 2075 3097 \nQ 1594 3097 1305 2825 \nQ 1016 2553 972 2059 \nL 3022 2063 \nz\n\" transform=\"scale(0.015625)\"/>\n      </defs>\n      <use xlink:href=\"#DejaVuSans-31\"/>\n      <use xlink:href=\"#DejaVuSans-65\" x=\"63.623047\"/>\n      <use xlink:href=\"#DejaVuSans-37\" x=\"125.146484\"/>\n     </g>\n    </g>\n   </g>\n   <g id=\"matplotlib.axis_2\">\n    <g id=\"ytick_1\">\n     <g id=\"line2d_9\">\n      <defs>\n       <path id=\"m9fb5ce583f\" d=\"M 0 0 \nL -3.5 0 \n\" style=\"stroke: #ffffff; stroke-width: 0.8\"/>\n      </defs>\n      <g>\n       <use xlink:href=\"#m9fb5ce583f\" x=\"39.65\" y=\"224.64\" style=\"fill: #ffffff; stroke: #ffffff; stroke-width: 0.8\"/>\n      </g>\n     </g>\n     <g id=\"text_10\">\n      <!-- 0 -->\n      <g style=\"fill: #ffffff\" transform=\"translate(26.2875 228.439219)scale(0.1 -0.1)\">\n       <use xlink:href=\"#DejaVuSans-30\"/>\n      </g>\n     </g>\n    </g>\n    <g id=\"ytick_2\">\n     <g id=\"line2d_10\">\n      <g>\n       <use xlink:href=\"#m9fb5ce583f\" x=\"39.65\" y=\"197.399048\" style=\"fill: #ffffff; stroke: #ffffff; stroke-width: 0.8\"/>\n      </g>\n     </g>\n     <g id=\"text_11\">\n      <!-- 1000 -->\n      <g style=\"fill: #ffffff\" transform=\"translate(7.2 201.198267)scale(0.1 -0.1)\">\n       <use xlink:href=\"#DejaVuSans-31\"/>\n       <use xlink:href=\"#DejaVuSans-30\" x=\"63.623047\"/>\n       <use xlink:href=\"#DejaVuSans-30\" x=\"127.246094\"/>\n       <use xlink:href=\"#DejaVuSans-30\" x=\"190.869141\"/>\n      </g>\n     </g>\n    </g>\n    <g id=\"ytick_3\">\n     <g id=\"line2d_11\">\n      <g>\n       <use xlink:href=\"#m9fb5ce583f\" x=\"39.65\" y=\"170.158097\" style=\"fill: #ffffff; stroke: #ffffff; stroke-width: 0.8\"/>\n      </g>\n     </g>\n     <g id=\"text_12\">\n      <!-- 2000 -->\n      <g style=\"fill: #ffffff\" transform=\"translate(7.2 173.957315)scale(0.1 -0.1)\">\n       <use xlink:href=\"#DejaVuSans-32\"/>\n       <use xlink:href=\"#DejaVuSans-30\" x=\"63.623047\"/>\n       <use xlink:href=\"#DejaVuSans-30\" x=\"127.246094\"/>\n       <use xlink:href=\"#DejaVuSans-30\" x=\"190.869141\"/>\n      </g>\n     </g>\n    </g>\n    <g id=\"ytick_4\">\n     <g id=\"line2d_12\">\n      <g>\n       <use xlink:href=\"#m9fb5ce583f\" x=\"39.65\" y=\"142.917145\" style=\"fill: #ffffff; stroke: #ffffff; stroke-width: 0.8\"/>\n      </g>\n     </g>\n     <g id=\"text_13\">\n      <!-- 3000 -->\n      <g style=\"fill: #ffffff\" transform=\"translate(7.2 146.716364)scale(0.1 -0.1)\">\n       <defs>\n        <path id=\"DejaVuSans-33\" d=\"M 2597 2516 \nQ 3050 2419 3304 2112 \nQ 3559 1806 3559 1356 \nQ 3559 666 3084 287 \nQ 2609 -91 1734 -91 \nQ 1441 -91 1130 -33 \nQ 819 25 488 141 \nL 488 750 \nQ 750 597 1062 519 \nQ 1375 441 1716 441 \nQ 2309 441 2620 675 \nQ 2931 909 2931 1356 \nQ 2931 1769 2642 2001 \nQ 2353 2234 1838 2234 \nL 1294 2234 \nL 1294 2753 \nL 1863 2753 \nQ 2328 2753 2575 2939 \nQ 2822 3125 2822 3475 \nQ 2822 3834 2567 4026 \nQ 2313 4219 1838 4219 \nQ 1578 4219 1281 4162 \nQ 984 4106 628 3988 \nL 628 4550 \nQ 988 4650 1302 4700 \nQ 1616 4750 1894 4750 \nQ 2613 4750 3031 4423 \nQ 3450 4097 3450 3541 \nQ 3450 3153 3228 2886 \nQ 3006 2619 2597 2516 \nz\n\" transform=\"scale(0.015625)\"/>\n       </defs>\n       <use xlink:href=\"#DejaVuSans-33\"/>\n       <use xlink:href=\"#DejaVuSans-30\" x=\"63.623047\"/>\n       <use xlink:href=\"#DejaVuSans-30\" x=\"127.246094\"/>\n       <use xlink:href=\"#DejaVuSans-30\" x=\"190.869141\"/>\n      </g>\n     </g>\n    </g>\n    <g id=\"ytick_5\">\n     <g id=\"line2d_13\">\n      <g>\n       <use xlink:href=\"#m9fb5ce583f\" x=\"39.65\" y=\"115.676193\" style=\"fill: #ffffff; stroke: #ffffff; stroke-width: 0.8\"/>\n      </g>\n     </g>\n     <g id=\"text_14\">\n      <!-- 4000 -->\n      <g style=\"fill: #ffffff\" transform=\"translate(7.2 119.475412)scale(0.1 -0.1)\">\n       <defs>\n        <path id=\"DejaVuSans-34\" d=\"M 2419 4116 \nL 825 1625 \nL 2419 1625 \nL 2419 4116 \nz\nM 2253 4666 \nL 3047 4666 \nL 3047 1625 \nL 3713 1625 \nL 3713 1100 \nL 3047 1100 \nL 3047 0 \nL 2419 0 \nL 2419 1100 \nL 313 1100 \nL 313 1709 \nL 2253 4666 \nz\n\" transform=\"scale(0.015625)\"/>\n       </defs>\n       <use xlink:href=\"#DejaVuSans-34\"/>\n       <use xlink:href=\"#DejaVuSans-30\" x=\"63.623047\"/>\n       <use xlink:href=\"#DejaVuSans-30\" x=\"127.246094\"/>\n       <use xlink:href=\"#DejaVuSans-30\" x=\"190.869141\"/>\n      </g>\n     </g>\n    </g>\n    <g id=\"ytick_6\">\n     <g id=\"line2d_14\">\n      <g>\n       <use xlink:href=\"#m9fb5ce583f\" x=\"39.65\" y=\"88.435242\" style=\"fill: #ffffff; stroke: #ffffff; stroke-width: 0.8\"/>\n      </g>\n     </g>\n     <g id=\"text_15\">\n      <!-- 5000 -->\n      <g style=\"fill: #ffffff\" transform=\"translate(7.2 92.234461)scale(0.1 -0.1)\">\n       <use xlink:href=\"#DejaVuSans-35\"/>\n       <use xlink:href=\"#DejaVuSans-30\" x=\"63.623047\"/>\n       <use xlink:href=\"#DejaVuSans-30\" x=\"127.246094\"/>\n       <use xlink:href=\"#DejaVuSans-30\" x=\"190.869141\"/>\n      </g>\n     </g>\n    </g>\n    <g id=\"ytick_7\">\n     <g id=\"line2d_15\">\n      <g>\n       <use xlink:href=\"#m9fb5ce583f\" x=\"39.65\" y=\"61.19429\" style=\"fill: #ffffff; stroke: #ffffff; stroke-width: 0.8\"/>\n      </g>\n     </g>\n     <g id=\"text_16\">\n      <!-- 6000 -->\n      <g style=\"fill: #ffffff\" transform=\"translate(7.2 64.993509)scale(0.1 -0.1)\">\n       <defs>\n        <path id=\"DejaVuSans-36\" d=\"M 2113 2584 \nQ 1688 2584 1439 2293 \nQ 1191 2003 1191 1497 \nQ 1191 994 1439 701 \nQ 1688 409 2113 409 \nQ 2538 409 2786 701 \nQ 3034 994 3034 1497 \nQ 3034 2003 2786 2293 \nQ 2538 2584 2113 2584 \nz\nM 3366 4563 \nL 3366 3988 \nQ 3128 4100 2886 4159 \nQ 2644 4219 2406 4219 \nQ 1781 4219 1451 3797 \nQ 1122 3375 1075 2522 \nQ 1259 2794 1537 2939 \nQ 1816 3084 2150 3084 \nQ 2853 3084 3261 2657 \nQ 3669 2231 3669 1497 \nQ 3669 778 3244 343 \nQ 2819 -91 2113 -91 \nQ 1303 -91 875 529 \nQ 447 1150 447 2328 \nQ 447 3434 972 4092 \nQ 1497 4750 2381 4750 \nQ 2619 4750 2861 4703 \nQ 3103 4656 3366 4563 \nz\n\" transform=\"scale(0.015625)\"/>\n       </defs>\n       <use xlink:href=\"#DejaVuSans-36\"/>\n       <use xlink:href=\"#DejaVuSans-30\" x=\"63.623047\"/>\n       <use xlink:href=\"#DejaVuSans-30\" x=\"127.246094\"/>\n       <use xlink:href=\"#DejaVuSans-30\" x=\"190.869141\"/>\n      </g>\n     </g>\n    </g>\n    <g id=\"ytick_8\">\n     <g id=\"line2d_16\">\n      <g>\n       <use xlink:href=\"#m9fb5ce583f\" x=\"39.65\" y=\"33.953339\" style=\"fill: #ffffff; stroke: #ffffff; stroke-width: 0.8\"/>\n      </g>\n     </g>\n     <g id=\"text_17\">\n      <!-- 7000 -->\n      <g style=\"fill: #ffffff\" transform=\"translate(7.2 37.752557)scale(0.1 -0.1)\">\n       <use xlink:href=\"#DejaVuSans-37\"/>\n       <use xlink:href=\"#DejaVuSans-30\" x=\"63.623047\"/>\n       <use xlink:href=\"#DejaVuSans-30\" x=\"127.246094\"/>\n       <use xlink:href=\"#DejaVuSans-30\" x=\"190.869141\"/>\n      </g>\n     </g>\n    </g>\n   </g>\n   <g id=\"patch_103\">\n    <path d=\"M 39.65 224.64 \nL 39.65 7.2 \n\" style=\"fill: none; stroke: #ffffff; stroke-width: 0.8; stroke-linejoin: miter; stroke-linecap: square\"/>\n   </g>\n   <g id=\"patch_104\">\n    <path d=\"M 374.45 224.64 \nL 374.45 7.2 \n\" style=\"fill: none; stroke: #ffffff; stroke-width: 0.8; stroke-linejoin: miter; stroke-linecap: square\"/>\n   </g>\n   <g id=\"patch_105\">\n    <path d=\"M 39.65 224.64 \nL 374.45 224.64 \n\" style=\"fill: none; stroke: #ffffff; stroke-width: 0.8; stroke-linejoin: miter; stroke-linecap: square\"/>\n   </g>\n   <g id=\"patch_106\">\n    <path d=\"M 39.65 7.2 \nL 374.45 7.2 \n\" style=\"fill: none; stroke: #ffffff; stroke-width: 0.8; stroke-linejoin: miter; stroke-linecap: square\"/>\n   </g>\n  </g>\n </g>\n <defs>\n  <clipPath id=\"p8e67009c43\">\n   <rect x=\"39.65\" y=\"7.2\" width=\"334.8\" height=\"217.44\"/>\n  </clipPath>\n </defs>\n</svg>\n",
      "text/plain": [
       "<Figure size 432x288 with 1 Axes>"
      ]
     },
     "metadata": {},
     "output_type": "display_data"
    }
   ],
   "source": [
    "plot.hist(y_train['avg_delay'],100)\n",
    "plot.show()"
   ]
  },
  {
   "cell_type": "markdown",
   "id": "d0e323a3",
   "metadata": {
    "id": "d0e323a3"
   },
   "source": [
    "### You are expected to group the X_train dataset on 'name_customer' column with 'doc_id' in the x_train set\n",
    "\n",
    "### Need to store the outcome into a new dataframe \n",
    "\n",
    "- Note code given for groupby statement- X_train.groupby(by=['name_customer'], as_index=False)['doc_id'].count()"
   ]
  },
  {
   "cell_type": "code",
   "execution_count": 56,
   "id": "f7acf0ee",
   "metadata": {
    "id": "f7acf0ee"
   },
   "outputs": [
    {
     "data": {
      "text/html": [
       "<div>\n",
       "<style scoped>\n",
       "    .dataframe tbody tr th:only-of-type {\n",
       "        vertical-align: middle;\n",
       "    }\n",
       "\n",
       "    .dataframe tbody tr th {\n",
       "        vertical-align: top;\n",
       "    }\n",
       "\n",
       "    .dataframe thead th {\n",
       "        text-align: right;\n",
       "    }\n",
       "</style>\n",
       "<table border=\"1\" class=\"dataframe\">\n",
       "  <thead>\n",
       "    <tr style=\"text-align: right;\">\n",
       "      <th></th>\n",
       "      <th>name_customer</th>\n",
       "      <th>doc_id</th>\n",
       "    </tr>\n",
       "  </thead>\n",
       "  <tbody>\n",
       "    <tr>\n",
       "      <th>0</th>\n",
       "      <td>11078 us</td>\n",
       "      <td>1</td>\n",
       "    </tr>\n",
       "    <tr>\n",
       "      <th>1</th>\n",
       "      <td>17135 associates</td>\n",
       "      <td>1</td>\n",
       "    </tr>\n",
       "    <tr>\n",
       "      <th>2</th>\n",
       "      <td>17135 llc</td>\n",
       "      <td>1</td>\n",
       "    </tr>\n",
       "    <tr>\n",
       "      <th>3</th>\n",
       "      <td>99 CE</td>\n",
       "      <td>2</td>\n",
       "    </tr>\n",
       "    <tr>\n",
       "      <th>4</th>\n",
       "      <td>99 CE associates</td>\n",
       "      <td>1</td>\n",
       "    </tr>\n",
       "    <tr>\n",
       "      <th>...</th>\n",
       "      <td>...</td>\n",
       "      <td>...</td>\n",
       "    </tr>\n",
       "    <tr>\n",
       "      <th>3095</th>\n",
       "      <td>YAEGER in</td>\n",
       "      <td>1</td>\n",
       "    </tr>\n",
       "    <tr>\n",
       "      <th>3096</th>\n",
       "      <td>YEN BROS</td>\n",
       "      <td>1</td>\n",
       "    </tr>\n",
       "    <tr>\n",
       "      <th>3097</th>\n",
       "      <td>YEN BROS co</td>\n",
       "      <td>1</td>\n",
       "    </tr>\n",
       "    <tr>\n",
       "      <th>3098</th>\n",
       "      <td>YEN BROS corporation</td>\n",
       "      <td>1</td>\n",
       "    </tr>\n",
       "    <tr>\n",
       "      <th>3099</th>\n",
       "      <td>YEN BROS llc</td>\n",
       "      <td>1</td>\n",
       "    </tr>\n",
       "  </tbody>\n",
       "</table>\n",
       "<p>3100 rows × 2 columns</p>\n",
       "</div>"
      ],
      "text/plain": [
       "             name_customer  doc_id\n",
       "0                 11078 us       1\n",
       "1         17135 associates       1\n",
       "2                17135 llc       1\n",
       "3                   99 CE        2\n",
       "4         99 CE associates       1\n",
       "...                    ...     ...\n",
       "3095             YAEGER in       1\n",
       "3096             YEN BROS        1\n",
       "3097           YEN BROS co       1\n",
       "3098  YEN BROS corporation       1\n",
       "3099          YEN BROS llc       1\n",
       "\n",
       "[3100 rows x 2 columns]"
      ]
     },
     "execution_count": 56,
     "metadata": {},
     "output_type": "execute_result"
    }
   ],
   "source": [
    "a = X_train.groupby(by=['name_customer'], as_index=False)['doc_id'].count()\n",
    "a"
   ]
  },
  {
   "cell_type": "markdown",
   "id": "cA43bFffFt6i",
   "metadata": {
    "id": "cA43bFffFt6i"
   },
   "source": [
    "### You can make another distribution plot of the \"doc_id\" column from x_train"
   ]
  },
  {
   "cell_type": "code",
   "execution_count": 57,
   "id": "9576bf33",
   "metadata": {
    "id": "9576bf33"
   },
   "outputs": [
    {
     "data": {
      "image/png": "[encoded data removed]",
      "image/svg+xml": "<?xml version=\"1.0\" encoding=\"utf-8\" standalone=\"no\"?>\n<!DOCTYPE svg PUBLIC \"-//W3C//DTD SVG 1.1//EN\"\n  \"http://www.w3.org/Graphics/SVG/1.1/DTD/svg11.dtd\">\n<svg xmlns:xlink=\"http://www.w3.org/1999/xlink\" width=\"388.0125pt\" height=\"261.19625pt\" viewBox=\"0 0 388.0125 261.19625\" xmlns=\"http://www.w3.org/2000/svg\" version=\"1.1\">\n <metadata>\n  <rdf:RDF xmlns:dc=\"http://purl.org/dc/elements/1.1/\" xmlns:cc=\"http://creativecommons.org/ns#\" xmlns:rdf=\"http://www.w3.org/1999/02/22-rdf-syntax-ns#\">\n   <cc:Work>\n    <dc:type rdf:resource=\"http://purl.org/dc/dcmitype/StillImage\"/>\n    <dc:date>2022-02-25T14:03:47.252864</dc:date>\n    <dc:format>image/svg+xml</dc:format>\n    <dc:creator>\n     <cc:Agent>\n      <dc:title>Matplotlib v3.5.1, https://matplotlib.org/</dc:title>\n     </cc:Agent>\n    </dc:creator>\n   </cc:Work>\n  </rdf:RDF>\n </metadata>\n <defs>\n  <style type=\"text/css\">*{stroke-linejoin: round; stroke-linecap: butt}</style>\n </defs>\n <g id=\"figure_1\">\n  <g id=\"patch_1\">\n   <path d=\"M 0 261.19625 \nL 388.0125 261.19625 \nL 388.0125 0 \nL 0 0 \nz\n\"/>\n  </g>\n  <g id=\"axes_1\">\n   <g id=\"patch_2\">\n    <path d=\"M 46.0125 224.64 \nL 380.8125 224.64 \nL 380.8125 7.2 \nL 46.0125 7.2 \nz\n\"/>\n   </g>\n   <g id=\"patch_3\">\n    <path d=\"M 61.230682 224.64 \nL 64.274318 224.64 \nL 64.274318 17.554286 \nL 61.230682 17.554286 \nz\n\" clip-path=\"url(#p21655f138c)\" style=\"fill: #8dd3c7\"/>\n   </g>\n   <g id=\"patch_4\">\n    <path d=\"M 64.274318 224.64 \nL 67.317955 224.64 \nL 67.317955 224.64 \nL 64.274318 224.64 \nz\n\" clip-path=\"url(#p21655f138c)\" style=\"fill: #8dd3c7\"/>\n   </g>\n   <g id=\"patch_5\">\n    <path d=\"M 67.317955 224.64 \nL 70.361591 224.64 \nL 70.361591 224.64 \nL 67.317955 224.64 \nz\n\" clip-path=\"url(#p21655f138c)\" style=\"fill: #8dd3c7\"/>\n   </g>\n   <g id=\"patch_6\">\n    <path d=\"M 70.361591 224.64 \nL 73.405227 224.64 \nL 73.405227 224.64 \nL 70.361591 224.64 \nz\n\" clip-path=\"url(#p21655f138c)\" style=\"fill: #8dd3c7\"/>\n   </g>\n   <g id=\"patch_7\">\n    <path d=\"M 73.405227 224.64 \nL 76.448864 224.64 \nL 76.448864 224.64 \nL 73.405227 224.64 \nz\n\" clip-path=\"url(#p21655f138c)\" style=\"fill: #8dd3c7\"/>\n   </g>\n   <g id=\"patch_8\">\n    <path d=\"M 76.448864 224.64 \nL 79.4925 224.64 \nL 79.4925 224.64 \nL 76.448864 224.64 \nz\n\" clip-path=\"url(#p21655f138c)\" style=\"fill: #8dd3c7\"/>\n   </g>\n   <g id=\"patch_9\">\n    <path d=\"M 79.4925 224.64 \nL 82.536136 224.64 \nL 82.536136 224.64 \nL 79.4925 224.64 \nz\n\" clip-path=\"url(#p21655f138c)\" style=\"fill: #8dd3c7\"/>\n   </g>\n   <g id=\"patch_10\">\n    <path d=\"M 82.536136 224.64 \nL 85.579773 224.64 \nL 85.579773 224.64 \nL 82.536136 224.64 \nz\n\" clip-path=\"url(#p21655f138c)\" style=\"fill: #8dd3c7\"/>\n   </g>\n   <g id=\"patch_11\">\n    <path d=\"M 85.579773 224.64 \nL 88.623409 224.64 \nL 88.623409 224.64 \nL 85.579773 224.64 \nz\n\" clip-path=\"url(#p21655f138c)\" style=\"fill: #8dd3c7\"/>\n   </g>\n   <g id=\"patch_12\">\n    <path d=\"M 88.623409 224.64 \nL 91.667045 224.64 \nL 91.667045 224.64 \nL 88.623409 224.64 \nz\n\" clip-path=\"url(#p21655f138c)\" style=\"fill: #8dd3c7\"/>\n   </g>\n   <g id=\"patch_13\">\n    <path d=\"M 91.667045 224.64 \nL 94.710682 224.64 \nL 94.710682 224.64 \nL 91.667045 224.64 \nz\n\" clip-path=\"url(#p21655f138c)\" style=\"fill: #8dd3c7\"/>\n   </g>\n   <g id=\"patch_14\">\n    <path d=\"M 94.710682 224.64 \nL 97.754318 224.64 \nL 97.754318 224.64 \nL 94.710682 224.64 \nz\n\" clip-path=\"url(#p21655f138c)\" style=\"fill: #8dd3c7\"/>\n   </g>\n   <g id=\"patch_15\">\n    <path d=\"M 97.754318 224.64 \nL 100.797955 224.64 \nL 100.797955 224.64 \nL 97.754318 224.64 \nz\n\" clip-path=\"url(#p21655f138c)\" style=\"fill: #8dd3c7\"/>\n   </g>\n   <g id=\"patch_16\">\n    <path d=\"M 100.797955 224.64 \nL 103.841591 224.64 \nL 103.841591 206.299987 \nL 100.797955 206.299987 \nz\n\" clip-path=\"url(#p21655f138c)\" style=\"fill: #8dd3c7\"/>\n   </g>\n   <g id=\"patch_17\">\n    <path d=\"M 103.841591 224.64 \nL 106.885227 224.64 \nL 106.885227 224.64 \nL 103.841591 224.64 \nz\n\" clip-path=\"url(#p21655f138c)\" style=\"fill: #8dd3c7\"/>\n   </g>\n   <g id=\"patch_18\">\n    <path d=\"M 106.885227 224.64 \nL 109.928864 224.64 \nL 109.928864 224.64 \nL 106.885227 224.64 \nz\n\" clip-path=\"url(#p21655f138c)\" style=\"fill: #8dd3c7\"/>\n   </g>\n   <g id=\"patch_19\">\n    <path d=\"M 109.928864 224.64 \nL 112.9725 224.64 \nL 112.9725 224.64 \nL 109.928864 224.64 \nz\n\" clip-path=\"url(#p21655f138c)\" style=\"fill: #8dd3c7\"/>\n   </g>\n   <g id=\"patch_20\">\n    <path d=\"M 112.9725 224.64 \nL 116.016136 224.64 \nL 116.016136 224.64 \nL 112.9725 224.64 \nz\n\" clip-path=\"url(#p21655f138c)\" style=\"fill: #8dd3c7\"/>\n   </g>\n   <g id=\"patch_21\">\n    <path d=\"M 116.016136 224.64 \nL 119.059773 224.64 \nL 119.059773 224.64 \nL 116.016136 224.64 \nz\n\" clip-path=\"url(#p21655f138c)\" style=\"fill: #8dd3c7\"/>\n   </g>\n   <g id=\"patch_22\">\n    <path d=\"M 119.059773 224.64 \nL 122.103409 224.64 \nL 122.103409 224.64 \nL 119.059773 224.64 \nz\n\" clip-path=\"url(#p21655f138c)\" style=\"fill: #8dd3c7\"/>\n   </g>\n   <g id=\"patch_23\">\n    <path d=\"M 122.103409 224.64 \nL 125.147045 224.64 \nL 125.147045 224.64 \nL 122.103409 224.64 \nz\n\" clip-path=\"url(#p21655f138c)\" style=\"fill: #8dd3c7\"/>\n   </g>\n   <g id=\"patch_24\">\n    <path d=\"M 125.147045 224.64 \nL 128.190682 224.64 \nL 128.190682 224.64 \nL 125.147045 224.64 \nz\n\" clip-path=\"url(#p21655f138c)\" style=\"fill: #8dd3c7\"/>\n   </g>\n   <g id=\"patch_25\">\n    <path d=\"M 128.190682 224.64 \nL 131.234318 224.64 \nL 131.234318 224.64 \nL 128.190682 224.64 \nz\n\" clip-path=\"url(#p21655f138c)\" style=\"fill: #8dd3c7\"/>\n   </g>\n   <g id=\"patch_26\">\n    <path d=\"M 131.234318 224.64 \nL 134.277955 224.64 \nL 134.277955 224.64 \nL 131.234318 224.64 \nz\n\" clip-path=\"url(#p21655f138c)\" style=\"fill: #8dd3c7\"/>\n   </g>\n   <g id=\"patch_27\">\n    <path d=\"M 134.277955 224.64 \nL 137.321591 224.64 \nL 137.321591 224.64 \nL 134.277955 224.64 \nz\n\" clip-path=\"url(#p21655f138c)\" style=\"fill: #8dd3c7\"/>\n   </g>\n   <g id=\"patch_28\">\n    <path d=\"M 137.321591 224.64 \nL 140.365227 224.64 \nL 140.365227 224.64 \nL 137.321591 224.64 \nz\n\" clip-path=\"url(#p21655f138c)\" style=\"fill: #8dd3c7\"/>\n   </g>\n   <g id=\"patch_29\">\n    <path d=\"M 140.365227 224.64 \nL 143.408864 224.64 \nL 143.408864 224.64 \nL 140.365227 224.64 \nz\n\" clip-path=\"url(#p21655f138c)\" style=\"fill: #8dd3c7\"/>\n   </g>\n   <g id=\"patch_30\">\n    <path d=\"M 143.408864 224.64 \nL 146.4525 224.64 \nL 146.4525 224.64 \nL 143.408864 224.64 \nz\n\" clip-path=\"url(#p21655f138c)\" style=\"fill: #8dd3c7\"/>\n   </g>\n   <g id=\"patch_31\">\n    <path d=\"M 146.4525 224.64 \nL 149.496136 224.64 \nL 149.496136 224.64 \nL 146.4525 224.64 \nz\n\" clip-path=\"url(#p21655f138c)\" style=\"fill: #8dd3c7\"/>\n   </g>\n   <g id=\"patch_32\">\n    <path d=\"M 149.496136 224.64 \nL 152.539773 224.64 \nL 152.539773 224.64 \nL 149.496136 224.64 \nz\n\" clip-path=\"url(#p21655f138c)\" style=\"fill: #8dd3c7\"/>\n   </g>\n   <g id=\"patch_33\">\n    <path d=\"M 152.539773 224.64 \nL 155.583409 224.64 \nL 155.583409 224.64 \nL 152.539773 224.64 \nz\n\" clip-path=\"url(#p21655f138c)\" style=\"fill: #8dd3c7\"/>\n   </g>\n   <g id=\"patch_34\">\n    <path d=\"M 155.583409 224.64 \nL 158.627045 224.64 \nL 158.627045 224.64 \nL 155.583409 224.64 \nz\n\" clip-path=\"url(#p21655f138c)\" style=\"fill: #8dd3c7\"/>\n   </g>\n   <g id=\"patch_35\">\n    <path d=\"M 158.627045 224.64 \nL 161.670682 224.64 \nL 161.670682 224.64 \nL 158.627045 224.64 \nz\n\" clip-path=\"url(#p21655f138c)\" style=\"fill: #8dd3c7\"/>\n   </g>\n   <g id=\"patch_36\">\n    <path d=\"M 161.670682 224.64 \nL 164.714318 224.64 \nL 164.714318 224.64 \nL 161.670682 224.64 \nz\n\" clip-path=\"url(#p21655f138c)\" style=\"fill: #8dd3c7\"/>\n   </g>\n   <g id=\"patch_37\">\n    <path d=\"M 164.714318 224.64 \nL 167.757955 224.64 \nL 167.757955 224.64 \nL 164.714318 224.64 \nz\n\" clip-path=\"url(#p21655f138c)\" style=\"fill: #8dd3c7\"/>\n   </g>\n   <g id=\"patch_38\">\n    <path d=\"M 167.757955 224.64 \nL 170.801591 224.64 \nL 170.801591 224.64 \nL 167.757955 224.64 \nz\n\" clip-path=\"url(#p21655f138c)\" style=\"fill: #8dd3c7\"/>\n   </g>\n   <g id=\"patch_39\">\n    <path d=\"M 170.801591 224.64 \nL 173.845227 224.64 \nL 173.845227 224.64 \nL 170.801591 224.64 \nz\n\" clip-path=\"url(#p21655f138c)\" style=\"fill: #8dd3c7\"/>\n   </g>\n   <g id=\"patch_40\">\n    <path d=\"M 173.845227 224.64 \nL 176.888864 224.64 \nL 176.888864 224.64 \nL 173.845227 224.64 \nz\n\" clip-path=\"url(#p21655f138c)\" style=\"fill: #8dd3c7\"/>\n   </g>\n   <g id=\"patch_41\">\n    <path d=\"M 176.888864 224.64 \nL 179.9325 224.64 \nL 179.9325 224.64 \nL 176.888864 224.64 \nz\n\" clip-path=\"url(#p21655f138c)\" style=\"fill: #8dd3c7\"/>\n   </g>\n   <g id=\"patch_42\">\n    <path d=\"M 179.9325 224.64 \nL 182.976136 224.64 \nL 182.976136 224.64 \nL 179.9325 224.64 \nz\n\" clip-path=\"url(#p21655f138c)\" style=\"fill: #8dd3c7\"/>\n   </g>\n   <g id=\"patch_43\">\n    <path d=\"M 182.976136 224.64 \nL 186.019773 224.64 \nL 186.019773 224.64 \nL 182.976136 224.64 \nz\n\" clip-path=\"url(#p21655f138c)\" style=\"fill: #8dd3c7\"/>\n   </g>\n   <g id=\"patch_44\">\n    <path d=\"M 186.019773 224.64 \nL 189.063409 224.64 \nL 189.063409 224.64 \nL 186.019773 224.64 \nz\n\" clip-path=\"url(#p21655f138c)\" style=\"fill: #8dd3c7\"/>\n   </g>\n   <g id=\"patch_45\">\n    <path d=\"M 189.063409 224.64 \nL 192.107045 224.64 \nL 192.107045 224.64 \nL 189.063409 224.64 \nz\n\" clip-path=\"url(#p21655f138c)\" style=\"fill: #8dd3c7\"/>\n   </g>\n   <g id=\"patch_46\">\n    <path d=\"M 192.107045 224.64 \nL 195.150682 224.64 \nL 195.150682 224.64 \nL 192.107045 224.64 \nz\n\" clip-path=\"url(#p21655f138c)\" style=\"fill: #8dd3c7\"/>\n   </g>\n   <g id=\"patch_47\">\n    <path d=\"M 195.150682 224.64 \nL 198.194318 224.64 \nL 198.194318 224.64 \nL 195.150682 224.64 \nz\n\" clip-path=\"url(#p21655f138c)\" style=\"fill: #8dd3c7\"/>\n   </g>\n   <g id=\"patch_48\">\n    <path d=\"M 198.194318 224.64 \nL 201.237955 224.64 \nL 201.237955 224.64 \nL 198.194318 224.64 \nz\n\" clip-path=\"url(#p21655f138c)\" style=\"fill: #8dd3c7\"/>\n   </g>\n   <g id=\"patch_49\">\n    <path d=\"M 201.237955 224.64 \nL 204.281591 224.64 \nL 204.281591 224.64 \nL 201.237955 224.64 \nz\n\" clip-path=\"url(#p21655f138c)\" style=\"fill: #8dd3c7\"/>\n   </g>\n   <g id=\"patch_50\">\n    <path d=\"M 204.281591 224.64 \nL 207.325227 224.64 \nL 207.325227 224.64 \nL 204.281591 224.64 \nz\n\" clip-path=\"url(#p21655f138c)\" style=\"fill: #8dd3c7\"/>\n   </g>\n   <g id=\"patch_51\">\n    <path d=\"M 207.325227 224.64 \nL 210.368864 224.64 \nL 210.368864 224.64 \nL 207.325227 224.64 \nz\n\" clip-path=\"url(#p21655f138c)\" style=\"fill: #8dd3c7\"/>\n   </g>\n   <g id=\"patch_52\">\n    <path d=\"M 210.368864 224.64 \nL 213.4125 224.64 \nL 213.4125 224.64 \nL 210.368864 224.64 \nz\n\" clip-path=\"url(#p21655f138c)\" style=\"fill: #8dd3c7\"/>\n   </g>\n   <g id=\"patch_53\">\n    <path d=\"M 213.4125 224.64 \nL 216.456136 224.64 \nL 216.456136 224.64 \nL 213.4125 224.64 \nz\n\" clip-path=\"url(#p21655f138c)\" style=\"fill: #8dd3c7\"/>\n   </g>\n   <g id=\"patch_54\">\n    <path d=\"M 216.456136 224.64 \nL 219.499773 224.64 \nL 219.499773 224.64 \nL 216.456136 224.64 \nz\n\" clip-path=\"url(#p21655f138c)\" style=\"fill: #8dd3c7\"/>\n   </g>\n   <g id=\"patch_55\">\n    <path d=\"M 219.499773 224.64 \nL 222.543409 224.64 \nL 222.543409 224.64 \nL 219.499773 224.64 \nz\n\" clip-path=\"url(#p21655f138c)\" style=\"fill: #8dd3c7\"/>\n   </g>\n   <g id=\"patch_56\">\n    <path d=\"M 222.543409 224.64 \nL 225.587045 224.64 \nL 225.587045 224.64 \nL 222.543409 224.64 \nz\n\" clip-path=\"url(#p21655f138c)\" style=\"fill: #8dd3c7\"/>\n   </g>\n   <g id=\"patch_57\">\n    <path d=\"M 225.587045 224.64 \nL 228.630682 224.64 \nL 228.630682 224.64 \nL 225.587045 224.64 \nz\n\" clip-path=\"url(#p21655f138c)\" style=\"fill: #8dd3c7\"/>\n   </g>\n   <g id=\"patch_58\">\n    <path d=\"M 228.630682 224.64 \nL 231.674318 224.64 \nL 231.674318 224.64 \nL 228.630682 224.64 \nz\n\" clip-path=\"url(#p21655f138c)\" style=\"fill: #8dd3c7\"/>\n   </g>\n   <g id=\"patch_59\">\n    <path d=\"M 231.674318 224.64 \nL 234.717955 224.64 \nL 234.717955 224.64 \nL 231.674318 224.64 \nz\n\" clip-path=\"url(#p21655f138c)\" style=\"fill: #8dd3c7\"/>\n   </g>\n   <g id=\"patch_60\">\n    <path d=\"M 234.717955 224.64 \nL 237.761591 224.64 \nL 237.761591 224.64 \nL 234.717955 224.64 \nz\n\" clip-path=\"url(#p21655f138c)\" style=\"fill: #8dd3c7\"/>\n   </g>\n   <g id=\"patch_61\">\n    <path d=\"M 237.761591 224.64 \nL 240.805227 224.64 \nL 240.805227 224.64 \nL 237.761591 224.64 \nz\n\" clip-path=\"url(#p21655f138c)\" style=\"fill: #8dd3c7\"/>\n   </g>\n   <g id=\"patch_62\">\n    <path d=\"M 240.805227 224.64 \nL 243.848864 224.64 \nL 243.848864 224.64 \nL 240.805227 224.64 \nz\n\" clip-path=\"url(#p21655f138c)\" style=\"fill: #8dd3c7\"/>\n   </g>\n   <g id=\"patch_63\">\n    <path d=\"M 243.848864 224.64 \nL 246.8925 224.64 \nL 246.8925 224.64 \nL 243.848864 224.64 \nz\n\" clip-path=\"url(#p21655f138c)\" style=\"fill: #8dd3c7\"/>\n   </g>\n   <g id=\"patch_64\">\n    <path d=\"M 246.8925 224.64 \nL 249.936136 224.64 \nL 249.936136 224.64 \nL 246.8925 224.64 \nz\n\" clip-path=\"url(#p21655f138c)\" style=\"fill: #8dd3c7\"/>\n   </g>\n   <g id=\"patch_65\">\n    <path d=\"M 249.936136 224.64 \nL 252.979773 224.64 \nL 252.979773 224.64 \nL 249.936136 224.64 \nz\n\" clip-path=\"url(#p21655f138c)\" style=\"fill: #8dd3c7\"/>\n   </g>\n   <g id=\"patch_66\">\n    <path d=\"M 252.979773 224.64 \nL 256.023409 224.64 \nL 256.023409 224.64 \nL 252.979773 224.64 \nz\n\" clip-path=\"url(#p21655f138c)\" style=\"fill: #8dd3c7\"/>\n   </g>\n   <g id=\"patch_67\">\n    <path d=\"M 256.023409 224.64 \nL 259.067045 224.64 \nL 259.067045 224.64 \nL 256.023409 224.64 \nz\n\" clip-path=\"url(#p21655f138c)\" style=\"fill: #8dd3c7\"/>\n   </g>\n   <g id=\"patch_68\">\n    <path d=\"M 259.067045 224.64 \nL 262.110682 224.64 \nL 262.110682 224.64 \nL 259.067045 224.64 \nz\n\" clip-path=\"url(#p21655f138c)\" style=\"fill: #8dd3c7\"/>\n   </g>\n   <g id=\"patch_69\">\n    <path d=\"M 262.110682 224.64 \nL 265.154318 224.64 \nL 265.154318 224.64 \nL 262.110682 224.64 \nz\n\" clip-path=\"url(#p21655f138c)\" style=\"fill: #8dd3c7\"/>\n   </g>\n   <g id=\"patch_70\">\n    <path d=\"M 265.154318 224.64 \nL 268.197955 224.64 \nL 268.197955 224.64 \nL 265.154318 224.64 \nz\n\" clip-path=\"url(#p21655f138c)\" style=\"fill: #8dd3c7\"/>\n   </g>\n   <g id=\"patch_71\">\n    <path d=\"M 268.197955 224.64 \nL 271.241591 224.64 \nL 271.241591 224.64 \nL 268.197955 224.64 \nz\n\" clip-path=\"url(#p21655f138c)\" style=\"fill: #8dd3c7\"/>\n   </g>\n   <g id=\"patch_72\">\n    <path d=\"M 271.241591 224.64 \nL 274.285227 224.64 \nL 274.285227 224.64 \nL 271.241591 224.64 \nz\n\" clip-path=\"url(#p21655f138c)\" style=\"fill: #8dd3c7\"/>\n   </g>\n   <g id=\"patch_73\">\n    <path d=\"M 274.285227 224.64 \nL 277.328864 224.64 \nL 277.328864 224.64 \nL 274.285227 224.64 \nz\n\" clip-path=\"url(#p21655f138c)\" style=\"fill: #8dd3c7\"/>\n   </g>\n   <g id=\"patch_74\">\n    <path d=\"M 277.328864 224.64 \nL 280.3725 224.64 \nL 280.3725 224.64 \nL 277.328864 224.64 \nz\n\" clip-path=\"url(#p21655f138c)\" style=\"fill: #8dd3c7\"/>\n   </g>\n   <g id=\"patch_75\">\n    <path d=\"M 280.3725 224.64 \nL 283.416136 224.64 \nL 283.416136 224.64 \nL 280.3725 224.64 \nz\n\" clip-path=\"url(#p21655f138c)\" style=\"fill: #8dd3c7\"/>\n   </g>\n   <g id=\"patch_76\">\n    <path d=\"M 283.416136 224.64 \nL 286.459773 224.64 \nL 286.459773 224.64 \nL 283.416136 224.64 \nz\n\" clip-path=\"url(#p21655f138c)\" style=\"fill: #8dd3c7\"/>\n   </g>\n   <g id=\"patch_77\">\n    <path d=\"M 286.459773 224.64 \nL 289.503409 224.64 \nL 289.503409 224.64 \nL 286.459773 224.64 \nz\n\" clip-path=\"url(#p21655f138c)\" style=\"fill: #8dd3c7\"/>\n   </g>\n   <g id=\"patch_78\">\n    <path d=\"M 289.503409 224.64 \nL 292.547045 224.64 \nL 292.547045 224.64 \nL 289.503409 224.64 \nz\n\" clip-path=\"url(#p21655f138c)\" style=\"fill: #8dd3c7\"/>\n   </g>\n   <g id=\"patch_79\">\n    <path d=\"M 292.547045 224.64 \nL 295.590682 224.64 \nL 295.590682 224.64 \nL 292.547045 224.64 \nz\n\" clip-path=\"url(#p21655f138c)\" style=\"fill: #8dd3c7\"/>\n   </g>\n   <g id=\"patch_80\">\n    <path d=\"M 295.590682 224.64 \nL 298.634318 224.64 \nL 298.634318 224.64 \nL 295.590682 224.64 \nz\n\" clip-path=\"url(#p21655f138c)\" style=\"fill: #8dd3c7\"/>\n   </g>\n   <g id=\"patch_81\">\n    <path d=\"M 298.634318 224.64 \nL 301.677955 224.64 \nL 301.677955 224.64 \nL 298.634318 224.64 \nz\n\" clip-path=\"url(#p21655f138c)\" style=\"fill: #8dd3c7\"/>\n   </g>\n   <g id=\"patch_82\">\n    <path d=\"M 301.677955 224.64 \nL 304.721591 224.64 \nL 304.721591 224.64 \nL 301.677955 224.64 \nz\n\" clip-path=\"url(#p21655f138c)\" style=\"fill: #8dd3c7\"/>\n   </g>\n   <g id=\"patch_83\">\n    <path d=\"M 304.721591 224.64 \nL 307.765227 224.64 \nL 307.765227 224.64 \nL 304.721591 224.64 \nz\n\" clip-path=\"url(#p21655f138c)\" style=\"fill: #8dd3c7\"/>\n   </g>\n   <g id=\"patch_84\">\n    <path d=\"M 307.765227 224.64 \nL 310.808864 224.64 \nL 310.808864 224.64 \nL 307.765227 224.64 \nz\n\" clip-path=\"url(#p21655f138c)\" style=\"fill: #8dd3c7\"/>\n   </g>\n   <g id=\"patch_85\">\n    <path d=\"M 310.808864 224.64 \nL 313.8525 224.64 \nL 313.8525 224.64 \nL 310.808864 224.64 \nz\n\" clip-path=\"url(#p21655f138c)\" style=\"fill: #8dd3c7\"/>\n   </g>\n   <g id=\"patch_86\">\n    <path d=\"M 313.8525 224.64 \nL 316.896136 224.64 \nL 316.896136 224.64 \nL 313.8525 224.64 \nz\n\" clip-path=\"url(#p21655f138c)\" style=\"fill: #8dd3c7\"/>\n   </g>\n   <g id=\"patch_87\">\n    <path d=\"M 316.896136 224.64 \nL 319.939773 224.64 \nL 319.939773 224.64 \nL 316.896136 224.64 \nz\n\" clip-path=\"url(#p21655f138c)\" style=\"fill: #8dd3c7\"/>\n   </g>\n   <g id=\"patch_88\">\n    <path d=\"M 319.939773 224.64 \nL 322.983409 224.64 \nL 322.983409 224.64 \nL 319.939773 224.64 \nz\n\" clip-path=\"url(#p21655f138c)\" style=\"fill: #8dd3c7\"/>\n   </g>\n   <g id=\"patch_89\">\n    <path d=\"M 322.983409 224.64 \nL 326.027045 224.64 \nL 326.027045 224.64 \nL 322.983409 224.64 \nz\n\" clip-path=\"url(#p21655f138c)\" style=\"fill: #8dd3c7\"/>\n   </g>\n   <g id=\"patch_90\">\n    <path d=\"M 326.027045 224.64 \nL 329.070682 224.64 \nL 329.070682 224.64 \nL 326.027045 224.64 \nz\n\" clip-path=\"url(#p21655f138c)\" style=\"fill: #8dd3c7\"/>\n   </g>\n   <g id=\"patch_91\">\n    <path d=\"M 329.070682 224.64 \nL 332.114318 224.64 \nL 332.114318 224.64 \nL 329.070682 224.64 \nz\n\" clip-path=\"url(#p21655f138c)\" style=\"fill: #8dd3c7\"/>\n   </g>\n   <g id=\"patch_92\">\n    <path d=\"M 332.114318 224.64 \nL 335.157955 224.64 \nL 335.157955 224.64 \nL 332.114318 224.64 \nz\n\" clip-path=\"url(#p21655f138c)\" style=\"fill: #8dd3c7\"/>\n   </g>\n   <g id=\"patch_93\">\n    <path d=\"M 335.157955 224.64 \nL 338.201591 224.64 \nL 338.201591 224.64 \nL 335.157955 224.64 \nz\n\" clip-path=\"url(#p21655f138c)\" style=\"fill: #8dd3c7\"/>\n   </g>\n   <g id=\"patch_94\">\n    <path d=\"M 338.201591 224.64 \nL 341.245227 224.64 \nL 341.245227 224.64 \nL 338.201591 224.64 \nz\n\" clip-path=\"url(#p21655f138c)\" style=\"fill: #8dd3c7\"/>\n   </g>\n   <g id=\"patch_95\">\n    <path d=\"M 341.245227 224.64 \nL 344.288864 224.64 \nL 344.288864 224.64 \nL 341.245227 224.64 \nz\n\" clip-path=\"url(#p21655f138c)\" style=\"fill: #8dd3c7\"/>\n   </g>\n   <g id=\"patch_96\">\n    <path d=\"M 344.288864 224.64 \nL 347.3325 224.64 \nL 347.3325 224.64 \nL 344.288864 224.64 \nz\n\" clip-path=\"url(#p21655f138c)\" style=\"fill: #8dd3c7\"/>\n   </g>\n   <g id=\"patch_97\">\n    <path d=\"M 347.3325 224.64 \nL 350.376136 224.64 \nL 350.376136 224.64 \nL 347.3325 224.64 \nz\n\" clip-path=\"url(#p21655f138c)\" style=\"fill: #8dd3c7\"/>\n   </g>\n   <g id=\"patch_98\">\n    <path d=\"M 350.376136 224.64 \nL 353.419773 224.64 \nL 353.419773 224.64 \nL 350.376136 224.64 \nz\n\" clip-path=\"url(#p21655f138c)\" style=\"fill: #8dd3c7\"/>\n   </g>\n   <g id=\"patch_99\">\n    <path d=\"M 353.419773 224.64 \nL 356.463409 224.64 \nL 356.463409 224.64 \nL 353.419773 224.64 \nz\n\" clip-path=\"url(#p21655f138c)\" style=\"fill: #8dd3c7\"/>\n   </g>\n   <g id=\"patch_100\">\n    <path d=\"M 356.463409 224.64 \nL 359.507045 224.64 \nL 359.507045 224.64 \nL 356.463409 224.64 \nz\n\" clip-path=\"url(#p21655f138c)\" style=\"fill: #8dd3c7\"/>\n   </g>\n   <g id=\"patch_101\">\n    <path d=\"M 359.507045 224.64 \nL 362.550682 224.64 \nL 362.550682 224.64 \nL 359.507045 224.64 \nz\n\" clip-path=\"url(#p21655f138c)\" style=\"fill: #8dd3c7\"/>\n   </g>\n   <g id=\"patch_102\">\n    <path d=\"M 362.550682 224.64 \nL 365.594318 224.64 \nL 365.594318 224.592015 \nL 362.550682 224.592015 \nz\n\" clip-path=\"url(#p21655f138c)\" style=\"fill: #8dd3c7\"/>\n   </g>\n   <g id=\"matplotlib.axis_1\">\n    <g id=\"xtick_1\">\n     <g id=\"line2d_1\">\n      <defs>\n       <path id=\"m76e4755d35\" d=\"M 0 0 \nL 0 3.5 \n\" style=\"stroke: #ffffff; stroke-width: 0.8\"/>\n      </defs>\n      <g>\n       <use xlink:href=\"#m76e4755d35\" x=\"64.104513\" y=\"224.64\" style=\"fill: #ffffff; stroke: #ffffff; stroke-width: 0.8\"/>\n      </g>\n     </g>\n     <g id=\"text_1\">\n      <!-- 2 -->\n      <g style=\"fill: #ffffff\" transform=\"translate(60.923263 239.238437)scale(0.1 -0.1)\">\n       <defs>\n        <path id=\"DejaVuSans-32\" d=\"M 1228 531 \nL 3431 531 \nL 3431 0 \nL 469 0 \nL 469 531 \nQ 828 903 1448 1529 \nQ 2069 2156 2228 2338 \nQ 2531 2678 2651 2914 \nQ 2772 3150 2772 3378 \nQ 2772 3750 2511 3984 \nQ 2250 4219 1831 4219 \nQ 1534 4219 1204 4116 \nQ 875 4013 500 3803 \nL 500 4441 \nQ 881 4594 1212 4672 \nQ 1544 4750 1819 4750 \nQ 2544 4750 2975 4387 \nQ 3406 4025 3406 3419 \nQ 3406 3131 3298 2873 \nQ 3191 2616 2906 2266 \nQ 2828 2175 2409 1742 \nQ 1991 1309 1228 531 \nz\n\" transform=\"scale(0.015625)\"/>\n       </defs>\n       <use xlink:href=\"#DejaVuSans-32\"/>\n      </g>\n     </g>\n    </g>\n    <g id=\"xtick_2\">\n     <g id=\"line2d_2\">\n      <g>\n       <use xlink:href=\"#m76e4755d35\" x=\"104.303153\" y=\"224.64\" style=\"fill: #ffffff; stroke: #ffffff; stroke-width: 0.8\"/>\n      </g>\n     </g>\n     <g id=\"text_2\">\n      <!-- 3 -->\n      <g style=\"fill: #ffffff\" transform=\"translate(101.121903 239.238437)scale(0.1 -0.1)\">\n       <defs>\n        <path id=\"DejaVuSans-33\" d=\"M 2597 2516 \nQ 3050 2419 3304 2112 \nQ 3559 1806 3559 1356 \nQ 3559 666 3084 287 \nQ 2609 -91 1734 -91 \nQ 1441 -91 1130 -33 \nQ 819 25 488 141 \nL 488 750 \nQ 750 597 1062 519 \nQ 1375 441 1716 441 \nQ 2309 441 2620 675 \nQ 2931 909 2931 1356 \nQ 2931 1769 2642 2001 \nQ 2353 2234 1838 2234 \nL 1294 2234 \nL 1294 2753 \nL 1863 2753 \nQ 2328 2753 2575 2939 \nQ 2822 3125 2822 3475 \nQ 2822 3834 2567 4026 \nQ 2313 4219 1838 4219 \nQ 1578 4219 1281 4162 \nQ 984 4106 628 3988 \nL 628 4550 \nQ 988 4650 1302 4700 \nQ 1616 4750 1894 4750 \nQ 2613 4750 3031 4423 \nQ 3450 4097 3450 3541 \nQ 3450 3153 3228 2886 \nQ 3006 2619 2597 2516 \nz\n\" transform=\"scale(0.015625)\"/>\n       </defs>\n       <use xlink:href=\"#DejaVuSans-33\"/>\n      </g>\n     </g>\n    </g>\n    <g id=\"xtick_3\">\n     <g id=\"line2d_3\">\n      <g>\n       <use xlink:href=\"#m76e4755d35\" x=\"144.501793\" y=\"224.64\" style=\"fill: #ffffff; stroke: #ffffff; stroke-width: 0.8\"/>\n      </g>\n     </g>\n     <g id=\"text_3\">\n      <!-- 4 -->\n      <g style=\"fill: #ffffff\" transform=\"translate(141.320543 239.238437)scale(0.1 -0.1)\">\n       <defs>\n        <path id=\"DejaVuSans-34\" d=\"M 2419 4116 \nL 825 1625 \nL 2419 1625 \nL 2419 4116 \nz\nM 2253 4666 \nL 3047 4666 \nL 3047 1625 \nL 3713 1625 \nL 3713 1100 \nL 3047 1100 \nL 3047 0 \nL 2419 0 \nL 2419 1100 \nL 313 1100 \nL 313 1709 \nL 2253 4666 \nz\n\" transform=\"scale(0.015625)\"/>\n       </defs>\n       <use xlink:href=\"#DejaVuSans-34\"/>\n      </g>\n     </g>\n    </g>\n    <g id=\"xtick_4\">\n     <g id=\"line2d_4\">\n      <g>\n       <use xlink:href=\"#m76e4755d35\" x=\"184.700433\" y=\"224.64\" style=\"fill: #ffffff; stroke: #ffffff; stroke-width: 0.8\"/>\n      </g>\n     </g>\n     <g id=\"text_4\">\n      <!-- 5 -->\n      <g style=\"fill: #ffffff\" transform=\"translate(181.519183 239.238437)scale(0.1 -0.1)\">\n       <defs>\n        <path id=\"DejaVuSans-35\" d=\"M 691 4666 \nL 3169 4666 \nL 3169 4134 \nL 1269 4134 \nL 1269 2991 \nQ 1406 3038 1543 3061 \nQ 1681 3084 1819 3084 \nQ 2600 3084 3056 2656 \nQ 3513 2228 3513 1497 \nQ 3513 744 3044 326 \nQ 2575 -91 1722 -91 \nQ 1428 -91 1123 -41 \nQ 819 9 494 109 \nL 494 744 \nQ 775 591 1075 516 \nQ 1375 441 1709 441 \nQ 2250 441 2565 725 \nQ 2881 1009 2881 1497 \nQ 2881 1984 2565 2268 \nQ 2250 2553 1709 2553 \nQ 1456 2553 1204 2497 \nQ 953 2441 691 2322 \nL 691 4666 \nz\n\" transform=\"scale(0.015625)\"/>\n       </defs>\n       <use xlink:href=\"#DejaVuSans-35\"/>\n      </g>\n     </g>\n    </g>\n    <g id=\"xtick_5\">\n     <g id=\"line2d_5\">\n      <g>\n       <use xlink:href=\"#m76e4755d35\" x=\"224.899073\" y=\"224.64\" style=\"fill: #ffffff; stroke: #ffffff; stroke-width: 0.8\"/>\n      </g>\n     </g>\n     <g id=\"text_5\">\n      <!-- 6 -->\n      <g style=\"fill: #ffffff\" transform=\"translate(221.717823 239.238437)scale(0.1 -0.1)\">\n       <defs>\n        <path id=\"DejaVuSans-36\" d=\"M 2113 2584 \nQ 1688 2584 1439 2293 \nQ 1191 2003 1191 1497 \nQ 1191 994 1439 701 \nQ 1688 409 2113 409 \nQ 2538 409 2786 701 \nQ 3034 994 3034 1497 \nQ 3034 2003 2786 2293 \nQ 2538 2584 2113 2584 \nz\nM 3366 4563 \nL 3366 3988 \nQ 3128 4100 2886 4159 \nQ 2644 4219 2406 4219 \nQ 1781 4219 1451 3797 \nQ 1122 3375 1075 2522 \nQ 1259 2794 1537 2939 \nQ 1816 3084 2150 3084 \nQ 2853 3084 3261 2657 \nQ 3669 2231 3669 1497 \nQ 3669 778 3244 343 \nQ 2819 -91 2113 -91 \nQ 1303 -91 875 529 \nQ 447 1150 447 2328 \nQ 447 3434 972 4092 \nQ 1497 4750 2381 4750 \nQ 2619 4750 2861 4703 \nQ 3103 4656 3366 4563 \nz\n\" transform=\"scale(0.015625)\"/>\n       </defs>\n       <use xlink:href=\"#DejaVuSans-36\"/>\n      </g>\n     </g>\n    </g>\n    <g id=\"xtick_6\">\n     <g id=\"line2d_6\">\n      <g>\n       <use xlink:href=\"#m76e4755d35\" x=\"265.097713\" y=\"224.64\" style=\"fill: #ffffff; stroke: #ffffff; stroke-width: 0.8\"/>\n      </g>\n     </g>\n     <g id=\"text_6\">\n      <!-- 7 -->\n      <g style=\"fill: #ffffff\" transform=\"translate(261.916463 239.238437)scale(0.1 -0.1)\">\n       <defs>\n        <path id=\"DejaVuSans-37\" d=\"M 525 4666 \nL 3525 4666 \nL 3525 4397 \nL 1831 0 \nL 1172 0 \nL 2766 4134 \nL 525 4134 \nL 525 4666 \nz\n\" transform=\"scale(0.015625)\"/>\n       </defs>\n       <use xlink:href=\"#DejaVuSans-37\"/>\n      </g>\n     </g>\n    </g>\n    <g id=\"xtick_7\">\n     <g id=\"line2d_7\">\n      <g>\n       <use xlink:href=\"#m76e4755d35\" x=\"305.296353\" y=\"224.64\" style=\"fill: #ffffff; stroke: #ffffff; stroke-width: 0.8\"/>\n      </g>\n     </g>\n     <g id=\"text_7\">\n      <!-- 8 -->\n      <g style=\"fill: #ffffff\" transform=\"translate(302.115103 239.238437)scale(0.1 -0.1)\">\n       <defs>\n        <path id=\"DejaVuSans-38\" d=\"M 2034 2216 \nQ 1584 2216 1326 1975 \nQ 1069 1734 1069 1313 \nQ 1069 891 1326 650 \nQ 1584 409 2034 409 \nQ 2484 409 2743 651 \nQ 3003 894 3003 1313 \nQ 3003 1734 2745 1975 \nQ 2488 2216 2034 2216 \nz\nM 1403 2484 \nQ 997 2584 770 2862 \nQ 544 3141 544 3541 \nQ 544 4100 942 4425 \nQ 1341 4750 2034 4750 \nQ 2731 4750 3128 4425 \nQ 3525 4100 3525 3541 \nQ 3525 3141 3298 2862 \nQ 3072 2584 2669 2484 \nQ 3125 2378 3379 2068 \nQ 3634 1759 3634 1313 \nQ 3634 634 3220 271 \nQ 2806 -91 2034 -91 \nQ 1263 -91 848 271 \nQ 434 634 434 1313 \nQ 434 1759 690 2068 \nQ 947 2378 1403 2484 \nz\nM 1172 3481 \nQ 1172 3119 1398 2916 \nQ 1625 2713 2034 2713 \nQ 2441 2713 2670 2916 \nQ 2900 3119 2900 3481 \nQ 2900 3844 2670 4047 \nQ 2441 4250 2034 4250 \nQ 1625 4250 1398 4047 \nQ 1172 3844 1172 3481 \nz\n\" transform=\"scale(0.015625)\"/>\n       </defs>\n       <use xlink:href=\"#DejaVuSans-38\"/>\n      </g>\n     </g>\n    </g>\n    <g id=\"xtick_8\">\n     <g id=\"line2d_8\">\n      <g>\n       <use xlink:href=\"#m76e4755d35\" x=\"345.494993\" y=\"224.64\" style=\"fill: #ffffff; stroke: #ffffff; stroke-width: 0.8\"/>\n      </g>\n     </g>\n     <g id=\"text_8\">\n      <!-- 9 -->\n      <g style=\"fill: #ffffff\" transform=\"translate(342.313743 239.238437)scale(0.1 -0.1)\">\n       <defs>\n        <path id=\"DejaVuSans-39\" d=\"M 703 97 \nL 703 672 \nQ 941 559 1184 500 \nQ 1428 441 1663 441 \nQ 2288 441 2617 861 \nQ 2947 1281 2994 2138 \nQ 2813 1869 2534 1725 \nQ 2256 1581 1919 1581 \nQ 1219 1581 811 2004 \nQ 403 2428 403 3163 \nQ 403 3881 828 4315 \nQ 1253 4750 1959 4750 \nQ 2769 4750 3195 4129 \nQ 3622 3509 3622 2328 \nQ 3622 1225 3098 567 \nQ 2575 -91 1691 -91 \nQ 1453 -91 1209 -44 \nQ 966 3 703 97 \nz\nM 1959 2075 \nQ 2384 2075 2632 2365 \nQ 2881 2656 2881 3163 \nQ 2881 3666 2632 3958 \nQ 2384 4250 1959 4250 \nQ 1534 4250 1286 3958 \nQ 1038 3666 1038 3163 \nQ 1038 2656 1286 2365 \nQ 1534 2075 1959 2075 \nz\n\" transform=\"scale(0.015625)\"/>\n       </defs>\n       <use xlink:href=\"#DejaVuSans-39\"/>\n      </g>\n     </g>\n    </g>\n    <g id=\"text_9\">\n     <!-- 1e9 -->\n     <g style=\"fill: #ffffff\" transform=\"translate(361.934375 251.916562)scale(0.1 -0.1)\">\n      <defs>\n       <path id=\"DejaVuSans-31\" d=\"M 794 531 \nL 1825 531 \nL 1825 4091 \nL 703 3866 \nL 703 4441 \nL 1819 4666 \nL 2450 4666 \nL 2450 531 \nL 3481 531 \nL 3481 0 \nL 794 0 \nL 794 531 \nz\n\" transform=\"scale(0.015625)\"/>\n       <path id=\"DejaVuSans-65\" d=\"M 3597 1894 \nL 3597 1613 \nL 953 1613 \nQ 991 1019 1311 708 \nQ 1631 397 2203 397 \nQ 2534 397 2845 478 \nQ 3156 559 3463 722 \nL 3463 178 \nQ 3153 47 2828 -22 \nQ 2503 -91 2169 -91 \nQ 1331 -91 842 396 \nQ 353 884 353 1716 \nQ 353 2575 817 3079 \nQ 1281 3584 2069 3584 \nQ 2775 3584 3186 3129 \nQ 3597 2675 3597 1894 \nz\nM 3022 2063 \nQ 3016 2534 2758 2815 \nQ 2500 3097 2075 3097 \nQ 1594 3097 1305 2825 \nQ 1016 2553 972 2059 \nL 3022 2063 \nz\n\" transform=\"scale(0.015625)\"/>\n      </defs>\n      <use xlink:href=\"#DejaVuSans-31\"/>\n      <use xlink:href=\"#DejaVuSans-65\" x=\"63.623047\"/>\n      <use xlink:href=\"#DejaVuSans-39\" x=\"125.146484\"/>\n     </g>\n    </g>\n   </g>\n   <g id=\"matplotlib.axis_2\">\n    <g id=\"ytick_1\">\n     <g id=\"line2d_9\">\n      <defs>\n       <path id=\"mbd268c4bb9\" d=\"M 0 0 \nL -3.5 0 \n\" style=\"stroke: #ffffff; stroke-width: 0.8\"/>\n      </defs>\n      <g>\n       <use xlink:href=\"#mbd268c4bb9\" x=\"46.0125\" y=\"224.64\" style=\"fill: #ffffff; stroke: #ffffff; stroke-width: 0.8\"/>\n      </g>\n     </g>\n     <g id=\"text_10\">\n      <!-- 0 -->\n      <g style=\"fill: #ffffff\" transform=\"translate(32.65 228.439219)scale(0.1 -0.1)\">\n       <defs>\n        <path id=\"DejaVuSans-30\" d=\"M 2034 4250 \nQ 1547 4250 1301 3770 \nQ 1056 3291 1056 2328 \nQ 1056 1369 1301 889 \nQ 1547 409 2034 409 \nQ 2525 409 2770 889 \nQ 3016 1369 3016 2328 \nQ 3016 3291 2770 3770 \nQ 2525 4250 2034 4250 \nz\nM 2034 4750 \nQ 2819 4750 3233 4129 \nQ 3647 3509 3647 2328 \nQ 3647 1150 3233 529 \nQ 2819 -91 2034 -91 \nQ 1250 -91 836 529 \nQ 422 1150 422 2328 \nQ 422 3509 836 4129 \nQ 1250 4750 2034 4750 \nz\n\" transform=\"scale(0.015625)\"/>\n       </defs>\n       <use xlink:href=\"#DejaVuSans-30\"/>\n      </g>\n     </g>\n    </g>\n    <g id=\"ytick_2\">\n     <g id=\"line2d_10\">\n      <g>\n       <use xlink:href=\"#mbd268c4bb9\" x=\"46.0125\" y=\"176.654618\" style=\"fill: #ffffff; stroke: #ffffff; stroke-width: 0.8\"/>\n      </g>\n     </g>\n     <g id=\"text_11\">\n      <!-- 5000 -->\n      <g style=\"fill: #ffffff\" transform=\"translate(13.5625 180.453837)scale(0.1 -0.1)\">\n       <use xlink:href=\"#DejaVuSans-35\"/>\n       <use xlink:href=\"#DejaVuSans-30\" x=\"63.623047\"/>\n       <use xlink:href=\"#DejaVuSans-30\" x=\"127.246094\"/>\n       <use xlink:href=\"#DejaVuSans-30\" x=\"190.869141\"/>\n      </g>\n     </g>\n    </g>\n    <g id=\"ytick_3\">\n     <g id=\"line2d_11\">\n      <g>\n       <use xlink:href=\"#mbd268c4bb9\" x=\"46.0125\" y=\"128.669236\" style=\"fill: #ffffff; stroke: #ffffff; stroke-width: 0.8\"/>\n      </g>\n     </g>\n     <g id=\"text_12\">\n      <!-- 10000 -->\n      <g style=\"fill: #ffffff\" transform=\"translate(7.2 132.468455)scale(0.1 -0.1)\">\n       <use xlink:href=\"#DejaVuSans-31\"/>\n       <use xlink:href=\"#DejaVuSans-30\" x=\"63.623047\"/>\n       <use xlink:href=\"#DejaVuSans-30\" x=\"127.246094\"/>\n       <use xlink:href=\"#DejaVuSans-30\" x=\"190.869141\"/>\n       <use xlink:href=\"#DejaVuSans-30\" x=\"254.492188\"/>\n      </g>\n     </g>\n    </g>\n    <g id=\"ytick_4\">\n     <g id=\"line2d_12\">\n      <g>\n       <use xlink:href=\"#mbd268c4bb9\" x=\"46.0125\" y=\"80.683854\" style=\"fill: #ffffff; stroke: #ffffff; stroke-width: 0.8\"/>\n      </g>\n     </g>\n     <g id=\"text_13\">\n      <!-- 15000 -->\n      <g style=\"fill: #ffffff\" transform=\"translate(7.2 84.483073)scale(0.1 -0.1)\">\n       <use xlink:href=\"#DejaVuSans-31\"/>\n       <use xlink:href=\"#DejaVuSans-35\" x=\"63.623047\"/>\n       <use xlink:href=\"#DejaVuSans-30\" x=\"127.246094\"/>\n       <use xlink:href=\"#DejaVuSans-30\" x=\"190.869141\"/>\n       <use xlink:href=\"#DejaVuSans-30\" x=\"254.492188\"/>\n      </g>\n     </g>\n    </g>\n    <g id=\"ytick_5\">\n     <g id=\"line2d_13\">\n      <g>\n       <use xlink:href=\"#mbd268c4bb9\" x=\"46.0125\" y=\"32.698472\" style=\"fill: #ffffff; stroke: #ffffff; stroke-width: 0.8\"/>\n      </g>\n     </g>\n     <g id=\"text_14\">\n      <!-- 20000 -->\n      <g style=\"fill: #ffffff\" transform=\"translate(7.2 36.497691)scale(0.1 -0.1)\">\n       <use xlink:href=\"#DejaVuSans-32\"/>\n       <use xlink:href=\"#DejaVuSans-30\" x=\"63.623047\"/>\n       <use xlink:href=\"#DejaVuSans-30\" x=\"127.246094\"/>\n       <use xlink:href=\"#DejaVuSans-30\" x=\"190.869141\"/>\n       <use xlink:href=\"#DejaVuSans-30\" x=\"254.492188\"/>\n      </g>\n     </g>\n    </g>\n   </g>\n   <g id=\"patch_103\">\n    <path d=\"M 46.0125 224.64 \nL 46.0125 7.2 \n\" style=\"fill: none; stroke: #ffffff; stroke-width: 0.8; stroke-linejoin: miter; stroke-linecap: square\"/>\n   </g>\n   <g id=\"patch_104\">\n    <path d=\"M 380.8125 224.64 \nL 380.8125 7.2 \n\" style=\"fill: none; stroke: #ffffff; stroke-width: 0.8; stroke-linejoin: miter; stroke-linecap: square\"/>\n   </g>\n   <g id=\"patch_105\">\n    <path d=\"M 46.0125 224.64 \nL 380.8125 224.64 \n\" style=\"fill: none; stroke: #ffffff; stroke-width: 0.8; stroke-linejoin: miter; stroke-linecap: square\"/>\n   </g>\n   <g id=\"patch_106\">\n    <path d=\"M 46.0125 7.2 \nL 380.8125 7.2 \n\" style=\"fill: none; stroke: #ffffff; stroke-width: 0.8; stroke-linejoin: miter; stroke-linecap: square\"/>\n   </g>\n  </g>\n </g>\n <defs>\n  <clipPath id=\"p21655f138c\">\n   <rect x=\"46.0125\" y=\"7.2\" width=\"334.8\" height=\"217.44\"/>\n  </clipPath>\n </defs>\n</svg>\n",
      "text/plain": [
       "<Figure size 432x288 with 1 Axes>"
      ]
     },
     "metadata": {},
     "output_type": "display_data"
    }
   ],
   "source": [
    "plot.hist(X_train['doc_id'],100)\n",
    "plot.show()"
   ]
  },
  {
   "cell_type": "markdown",
   "id": "fba2c44f",
   "metadata": {
    "id": "fba2c44f"
   },
   "source": [
    "#### Create a Distribution plot only for business_year and a seperate distribution plot of \"business_year\" column along with the doc_id\" column\n"
   ]
  },
  {
   "cell_type": "code",
   "execution_count": 58,
   "id": "4fecec77",
   "metadata": {
    "id": "4fecec77"
   },
   "outputs": [
    {
     "data": {
      "image/png": "[encoded data removed]",
      "image/svg+xml": "<?xml version=\"1.0\" encoding=\"utf-8\" standalone=\"no\"?>\n<!DOCTYPE svg PUBLIC \"-//W3C//DTD SVG 1.1//EN\"\n  \"http://www.w3.org/Graphics/SVG/1.1/DTD/svg11.dtd\">\n<svg xmlns:xlink=\"http://www.w3.org/1999/xlink\" width=\"388.0125pt\" height=\"261.19625pt\" viewBox=\"0 0 388.0125 261.19625\" xmlns=\"http://www.w3.org/2000/svg\" version=\"1.1\">\n <metadata>\n  <rdf:RDF xmlns:dc=\"http://purl.org/dc/elements/1.1/\" xmlns:cc=\"http://creativecommons.org/ns#\" xmlns:rdf=\"http://www.w3.org/1999/02/22-rdf-syntax-ns#\">\n   <cc:Work>\n    <dc:type rdf:resource=\"http://purl.org/dc/dcmitype/StillImage\"/>\n    <dc:date>2022-02-25T14:03:47.758307</dc:date>\n    <dc:format>image/svg+xml</dc:format>\n    <dc:creator>\n     <cc:Agent>\n      <dc:title>Matplotlib v3.5.1, https://matplotlib.org/</dc:title>\n     </cc:Agent>\n    </dc:creator>\n   </cc:Work>\n  </rdf:RDF>\n </metadata>\n <defs>\n  <style type=\"text/css\">*{stroke-linejoin: round; stroke-linecap: butt}</style>\n </defs>\n <g id=\"figure_1\">\n  <g id=\"patch_1\">\n   <path d=\"M 0 261.19625 \nL 388.0125 261.19625 \nL 388.0125 0 \nL 0 0 \nz\n\"/>\n  </g>\n  <g id=\"axes_1\">\n   <g id=\"patch_2\">\n    <path d=\"M 46.0125 224.64 \nL 380.8125 224.64 \nL 380.8125 7.2 \nL 46.0125 7.2 \nz\n\"/>\n   </g>\n   <g id=\"patch_3\">\n    <path d=\"M 61.230682 224.64 \nL 64.274318 224.64 \nL 64.274318 17.554286 \nL 61.230682 17.554286 \nz\n\" clip-path=\"url(#pef507999c0)\" style=\"fill: #8dd3c7\"/>\n   </g>\n   <g id=\"patch_4\">\n    <path d=\"M 64.274318 224.64 \nL 67.317955 224.64 \nL 67.317955 224.64 \nL 64.274318 224.64 \nz\n\" clip-path=\"url(#pef507999c0)\" style=\"fill: #8dd3c7\"/>\n   </g>\n   <g id=\"patch_5\">\n    <path d=\"M 67.317955 224.64 \nL 70.361591 224.64 \nL 70.361591 224.64 \nL 67.317955 224.64 \nz\n\" clip-path=\"url(#pef507999c0)\" style=\"fill: #8dd3c7\"/>\n   </g>\n   <g id=\"patch_6\">\n    <path d=\"M 70.361591 224.64 \nL 73.405227 224.64 \nL 73.405227 224.64 \nL 70.361591 224.64 \nz\n\" clip-path=\"url(#pef507999c0)\" style=\"fill: #8dd3c7\"/>\n   </g>\n   <g id=\"patch_7\">\n    <path d=\"M 73.405227 224.64 \nL 76.448864 224.64 \nL 76.448864 224.64 \nL 73.405227 224.64 \nz\n\" clip-path=\"url(#pef507999c0)\" style=\"fill: #8dd3c7\"/>\n   </g>\n   <g id=\"patch_8\">\n    <path d=\"M 76.448864 224.64 \nL 79.4925 224.64 \nL 79.4925 224.64 \nL 76.448864 224.64 \nz\n\" clip-path=\"url(#pef507999c0)\" style=\"fill: #8dd3c7\"/>\n   </g>\n   <g id=\"patch_9\">\n    <path d=\"M 79.4925 224.64 \nL 82.536136 224.64 \nL 82.536136 224.64 \nL 79.4925 224.64 \nz\n\" clip-path=\"url(#pef507999c0)\" style=\"fill: #8dd3c7\"/>\n   </g>\n   <g id=\"patch_10\">\n    <path d=\"M 82.536136 224.64 \nL 85.579773 224.64 \nL 85.579773 224.64 \nL 82.536136 224.64 \nz\n\" clip-path=\"url(#pef507999c0)\" style=\"fill: #8dd3c7\"/>\n   </g>\n   <g id=\"patch_11\">\n    <path d=\"M 85.579773 224.64 \nL 88.623409 224.64 \nL 88.623409 224.64 \nL 85.579773 224.64 \nz\n\" clip-path=\"url(#pef507999c0)\" style=\"fill: #8dd3c7\"/>\n   </g>\n   <g id=\"patch_12\">\n    <path d=\"M 88.623409 224.64 \nL 91.667045 224.64 \nL 91.667045 224.64 \nL 88.623409 224.64 \nz\n\" clip-path=\"url(#pef507999c0)\" style=\"fill: #8dd3c7\"/>\n   </g>\n   <g id=\"patch_13\">\n    <path d=\"M 91.667045 224.64 \nL 94.710682 224.64 \nL 94.710682 224.64 \nL 91.667045 224.64 \nz\n\" clip-path=\"url(#pef507999c0)\" style=\"fill: #8dd3c7\"/>\n   </g>\n   <g id=\"patch_14\">\n    <path d=\"M 94.710682 224.64 \nL 97.754318 224.64 \nL 97.754318 224.64 \nL 94.710682 224.64 \nz\n\" clip-path=\"url(#pef507999c0)\" style=\"fill: #8dd3c7\"/>\n   </g>\n   <g id=\"patch_15\">\n    <path d=\"M 97.754318 224.64 \nL 100.797955 224.64 \nL 100.797955 224.64 \nL 97.754318 224.64 \nz\n\" clip-path=\"url(#pef507999c0)\" style=\"fill: #8dd3c7\"/>\n   </g>\n   <g id=\"patch_16\">\n    <path d=\"M 100.797955 224.64 \nL 103.841591 224.64 \nL 103.841591 224.64 \nL 100.797955 224.64 \nz\n\" clip-path=\"url(#pef507999c0)\" style=\"fill: #8dd3c7\"/>\n   </g>\n   <g id=\"patch_17\">\n    <path d=\"M 103.841591 224.64 \nL 106.885227 224.64 \nL 106.885227 224.64 \nL 103.841591 224.64 \nz\n\" clip-path=\"url(#pef507999c0)\" style=\"fill: #8dd3c7\"/>\n   </g>\n   <g id=\"patch_18\">\n    <path d=\"M 106.885227 224.64 \nL 109.928864 224.64 \nL 109.928864 224.64 \nL 106.885227 224.64 \nz\n\" clip-path=\"url(#pef507999c0)\" style=\"fill: #8dd3c7\"/>\n   </g>\n   <g id=\"patch_19\">\n    <path d=\"M 109.928864 224.64 \nL 112.9725 224.64 \nL 112.9725 224.64 \nL 109.928864 224.64 \nz\n\" clip-path=\"url(#pef507999c0)\" style=\"fill: #8dd3c7\"/>\n   </g>\n   <g id=\"patch_20\">\n    <path d=\"M 112.9725 224.64 \nL 116.016136 224.64 \nL 116.016136 224.64 \nL 112.9725 224.64 \nz\n\" clip-path=\"url(#pef507999c0)\" style=\"fill: #8dd3c7\"/>\n   </g>\n   <g id=\"patch_21\">\n    <path d=\"M 116.016136 224.64 \nL 119.059773 224.64 \nL 119.059773 224.64 \nL 116.016136 224.64 \nz\n\" clip-path=\"url(#pef507999c0)\" style=\"fill: #8dd3c7\"/>\n   </g>\n   <g id=\"patch_22\">\n    <path d=\"M 119.059773 224.64 \nL 122.103409 224.64 \nL 122.103409 224.64 \nL 119.059773 224.64 \nz\n\" clip-path=\"url(#pef507999c0)\" style=\"fill: #8dd3c7\"/>\n   </g>\n   <g id=\"patch_23\">\n    <path d=\"M 122.103409 224.64 \nL 125.147045 224.64 \nL 125.147045 224.64 \nL 122.103409 224.64 \nz\n\" clip-path=\"url(#pef507999c0)\" style=\"fill: #8dd3c7\"/>\n   </g>\n   <g id=\"patch_24\">\n    <path d=\"M 125.147045 224.64 \nL 128.190682 224.64 \nL 128.190682 224.64 \nL 125.147045 224.64 \nz\n\" clip-path=\"url(#pef507999c0)\" style=\"fill: #8dd3c7\"/>\n   </g>\n   <g id=\"patch_25\">\n    <path d=\"M 128.190682 224.64 \nL 131.234318 224.64 \nL 131.234318 224.64 \nL 128.190682 224.64 \nz\n\" clip-path=\"url(#pef507999c0)\" style=\"fill: #8dd3c7\"/>\n   </g>\n   <g id=\"patch_26\">\n    <path d=\"M 131.234318 224.64 \nL 134.277955 224.64 \nL 134.277955 224.64 \nL 131.234318 224.64 \nz\n\" clip-path=\"url(#pef507999c0)\" style=\"fill: #8dd3c7\"/>\n   </g>\n   <g id=\"patch_27\">\n    <path d=\"M 134.277955 224.64 \nL 137.321591 224.64 \nL 137.321591 224.64 \nL 134.277955 224.64 \nz\n\" clip-path=\"url(#pef507999c0)\" style=\"fill: #8dd3c7\"/>\n   </g>\n   <g id=\"patch_28\">\n    <path d=\"M 137.321591 224.64 \nL 140.365227 224.64 \nL 140.365227 224.64 \nL 137.321591 224.64 \nz\n\" clip-path=\"url(#pef507999c0)\" style=\"fill: #8dd3c7\"/>\n   </g>\n   <g id=\"patch_29\">\n    <path d=\"M 140.365227 224.64 \nL 143.408864 224.64 \nL 143.408864 224.64 \nL 140.365227 224.64 \nz\n\" clip-path=\"url(#pef507999c0)\" style=\"fill: #8dd3c7\"/>\n   </g>\n   <g id=\"patch_30\">\n    <path d=\"M 143.408864 224.64 \nL 146.4525 224.64 \nL 146.4525 224.64 \nL 143.408864 224.64 \nz\n\" clip-path=\"url(#pef507999c0)\" style=\"fill: #8dd3c7\"/>\n   </g>\n   <g id=\"patch_31\">\n    <path d=\"M 146.4525 224.64 \nL 149.496136 224.64 \nL 149.496136 224.64 \nL 146.4525 224.64 \nz\n\" clip-path=\"url(#pef507999c0)\" style=\"fill: #8dd3c7\"/>\n   </g>\n   <g id=\"patch_32\">\n    <path d=\"M 149.496136 224.64 \nL 152.539773 224.64 \nL 152.539773 224.64 \nL 149.496136 224.64 \nz\n\" clip-path=\"url(#pef507999c0)\" style=\"fill: #8dd3c7\"/>\n   </g>\n   <g id=\"patch_33\">\n    <path d=\"M 152.539773 224.64 \nL 155.583409 224.64 \nL 155.583409 224.64 \nL 152.539773 224.64 \nz\n\" clip-path=\"url(#pef507999c0)\" style=\"fill: #8dd3c7\"/>\n   </g>\n   <g id=\"patch_34\">\n    <path d=\"M 155.583409 224.64 \nL 158.627045 224.64 \nL 158.627045 224.64 \nL 155.583409 224.64 \nz\n\" clip-path=\"url(#pef507999c0)\" style=\"fill: #8dd3c7\"/>\n   </g>\n   <g id=\"patch_35\">\n    <path d=\"M 158.627045 224.64 \nL 161.670682 224.64 \nL 161.670682 224.64 \nL 158.627045 224.64 \nz\n\" clip-path=\"url(#pef507999c0)\" style=\"fill: #8dd3c7\"/>\n   </g>\n   <g id=\"patch_36\">\n    <path d=\"M 161.670682 224.64 \nL 164.714318 224.64 \nL 164.714318 224.64 \nL 161.670682 224.64 \nz\n\" clip-path=\"url(#pef507999c0)\" style=\"fill: #8dd3c7\"/>\n   </g>\n   <g id=\"patch_37\">\n    <path d=\"M 164.714318 224.64 \nL 167.757955 224.64 \nL 167.757955 224.64 \nL 164.714318 224.64 \nz\n\" clip-path=\"url(#pef507999c0)\" style=\"fill: #8dd3c7\"/>\n   </g>\n   <g id=\"patch_38\">\n    <path d=\"M 167.757955 224.64 \nL 170.801591 224.64 \nL 170.801591 224.64 \nL 167.757955 224.64 \nz\n\" clip-path=\"url(#pef507999c0)\" style=\"fill: #8dd3c7\"/>\n   </g>\n   <g id=\"patch_39\">\n    <path d=\"M 170.801591 224.64 \nL 173.845227 224.64 \nL 173.845227 224.64 \nL 170.801591 224.64 \nz\n\" clip-path=\"url(#pef507999c0)\" style=\"fill: #8dd3c7\"/>\n   </g>\n   <g id=\"patch_40\">\n    <path d=\"M 173.845227 224.64 \nL 176.888864 224.64 \nL 176.888864 224.64 \nL 173.845227 224.64 \nz\n\" clip-path=\"url(#pef507999c0)\" style=\"fill: #8dd3c7\"/>\n   </g>\n   <g id=\"patch_41\">\n    <path d=\"M 176.888864 224.64 \nL 179.9325 224.64 \nL 179.9325 224.64 \nL 176.888864 224.64 \nz\n\" clip-path=\"url(#pef507999c0)\" style=\"fill: #8dd3c7\"/>\n   </g>\n   <g id=\"patch_42\">\n    <path d=\"M 179.9325 224.64 \nL 182.976136 224.64 \nL 182.976136 224.64 \nL 179.9325 224.64 \nz\n\" clip-path=\"url(#pef507999c0)\" style=\"fill: #8dd3c7\"/>\n   </g>\n   <g id=\"patch_43\">\n    <path d=\"M 182.976136 224.64 \nL 186.019773 224.64 \nL 186.019773 224.64 \nL 182.976136 224.64 \nz\n\" clip-path=\"url(#pef507999c0)\" style=\"fill: #8dd3c7\"/>\n   </g>\n   <g id=\"patch_44\">\n    <path d=\"M 186.019773 224.64 \nL 189.063409 224.64 \nL 189.063409 224.64 \nL 186.019773 224.64 \nz\n\" clip-path=\"url(#pef507999c0)\" style=\"fill: #8dd3c7\"/>\n   </g>\n   <g id=\"patch_45\">\n    <path d=\"M 189.063409 224.64 \nL 192.107045 224.64 \nL 192.107045 224.64 \nL 189.063409 224.64 \nz\n\" clip-path=\"url(#pef507999c0)\" style=\"fill: #8dd3c7\"/>\n   </g>\n   <g id=\"patch_46\">\n    <path d=\"M 192.107045 224.64 \nL 195.150682 224.64 \nL 195.150682 224.64 \nL 192.107045 224.64 \nz\n\" clip-path=\"url(#pef507999c0)\" style=\"fill: #8dd3c7\"/>\n   </g>\n   <g id=\"patch_47\">\n    <path d=\"M 195.150682 224.64 \nL 198.194318 224.64 \nL 198.194318 224.64 \nL 195.150682 224.64 \nz\n\" clip-path=\"url(#pef507999c0)\" style=\"fill: #8dd3c7\"/>\n   </g>\n   <g id=\"patch_48\">\n    <path d=\"M 198.194318 224.64 \nL 201.237955 224.64 \nL 201.237955 224.64 \nL 198.194318 224.64 \nz\n\" clip-path=\"url(#pef507999c0)\" style=\"fill: #8dd3c7\"/>\n   </g>\n   <g id=\"patch_49\">\n    <path d=\"M 201.237955 224.64 \nL 204.281591 224.64 \nL 204.281591 224.64 \nL 201.237955 224.64 \nz\n\" clip-path=\"url(#pef507999c0)\" style=\"fill: #8dd3c7\"/>\n   </g>\n   <g id=\"patch_50\">\n    <path d=\"M 204.281591 224.64 \nL 207.325227 224.64 \nL 207.325227 224.64 \nL 204.281591 224.64 \nz\n\" clip-path=\"url(#pef507999c0)\" style=\"fill: #8dd3c7\"/>\n   </g>\n   <g id=\"patch_51\">\n    <path d=\"M 207.325227 224.64 \nL 210.368864 224.64 \nL 210.368864 224.64 \nL 207.325227 224.64 \nz\n\" clip-path=\"url(#pef507999c0)\" style=\"fill: #8dd3c7\"/>\n   </g>\n   <g id=\"patch_52\">\n    <path d=\"M 210.368864 224.64 \nL 213.4125 224.64 \nL 213.4125 224.64 \nL 210.368864 224.64 \nz\n\" clip-path=\"url(#pef507999c0)\" style=\"fill: #8dd3c7\"/>\n   </g>\n   <g id=\"patch_53\">\n    <path d=\"M 213.4125 224.64 \nL 216.456136 224.64 \nL 216.456136 224.64 \nL 213.4125 224.64 \nz\n\" clip-path=\"url(#pef507999c0)\" style=\"fill: #8dd3c7\"/>\n   </g>\n   <g id=\"patch_54\">\n    <path d=\"M 216.456136 224.64 \nL 219.499773 224.64 \nL 219.499773 224.64 \nL 216.456136 224.64 \nz\n\" clip-path=\"url(#pef507999c0)\" style=\"fill: #8dd3c7\"/>\n   </g>\n   <g id=\"patch_55\">\n    <path d=\"M 219.499773 224.64 \nL 222.543409 224.64 \nL 222.543409 224.64 \nL 219.499773 224.64 \nz\n\" clip-path=\"url(#pef507999c0)\" style=\"fill: #8dd3c7\"/>\n   </g>\n   <g id=\"patch_56\">\n    <path d=\"M 222.543409 224.64 \nL 225.587045 224.64 \nL 225.587045 224.64 \nL 222.543409 224.64 \nz\n\" clip-path=\"url(#pef507999c0)\" style=\"fill: #8dd3c7\"/>\n   </g>\n   <g id=\"patch_57\">\n    <path d=\"M 225.587045 224.64 \nL 228.630682 224.64 \nL 228.630682 224.64 \nL 225.587045 224.64 \nz\n\" clip-path=\"url(#pef507999c0)\" style=\"fill: #8dd3c7\"/>\n   </g>\n   <g id=\"patch_58\">\n    <path d=\"M 228.630682 224.64 \nL 231.674318 224.64 \nL 231.674318 224.64 \nL 228.630682 224.64 \nz\n\" clip-path=\"url(#pef507999c0)\" style=\"fill: #8dd3c7\"/>\n   </g>\n   <g id=\"patch_59\">\n    <path d=\"M 231.674318 224.64 \nL 234.717955 224.64 \nL 234.717955 224.64 \nL 231.674318 224.64 \nz\n\" clip-path=\"url(#pef507999c0)\" style=\"fill: #8dd3c7\"/>\n   </g>\n   <g id=\"patch_60\">\n    <path d=\"M 234.717955 224.64 \nL 237.761591 224.64 \nL 237.761591 224.64 \nL 234.717955 224.64 \nz\n\" clip-path=\"url(#pef507999c0)\" style=\"fill: #8dd3c7\"/>\n   </g>\n   <g id=\"patch_61\">\n    <path d=\"M 237.761591 224.64 \nL 240.805227 224.64 \nL 240.805227 224.64 \nL 237.761591 224.64 \nz\n\" clip-path=\"url(#pef507999c0)\" style=\"fill: #8dd3c7\"/>\n   </g>\n   <g id=\"patch_62\">\n    <path d=\"M 240.805227 224.64 \nL 243.848864 224.64 \nL 243.848864 224.64 \nL 240.805227 224.64 \nz\n\" clip-path=\"url(#pef507999c0)\" style=\"fill: #8dd3c7\"/>\n   </g>\n   <g id=\"patch_63\">\n    <path d=\"M 243.848864 224.64 \nL 246.8925 224.64 \nL 246.8925 224.64 \nL 243.848864 224.64 \nz\n\" clip-path=\"url(#pef507999c0)\" style=\"fill: #8dd3c7\"/>\n   </g>\n   <g id=\"patch_64\">\n    <path d=\"M 246.8925 224.64 \nL 249.936136 224.64 \nL 249.936136 224.64 \nL 246.8925 224.64 \nz\n\" clip-path=\"url(#pef507999c0)\" style=\"fill: #8dd3c7\"/>\n   </g>\n   <g id=\"patch_65\">\n    <path d=\"M 249.936136 224.64 \nL 252.979773 224.64 \nL 252.979773 224.64 \nL 249.936136 224.64 \nz\n\" clip-path=\"url(#pef507999c0)\" style=\"fill: #8dd3c7\"/>\n   </g>\n   <g id=\"patch_66\">\n    <path d=\"M 252.979773 224.64 \nL 256.023409 224.64 \nL 256.023409 224.64 \nL 252.979773 224.64 \nz\n\" clip-path=\"url(#pef507999c0)\" style=\"fill: #8dd3c7\"/>\n   </g>\n   <g id=\"patch_67\">\n    <path d=\"M 256.023409 224.64 \nL 259.067045 224.64 \nL 259.067045 224.64 \nL 256.023409 224.64 \nz\n\" clip-path=\"url(#pef507999c0)\" style=\"fill: #8dd3c7\"/>\n   </g>\n   <g id=\"patch_68\">\n    <path d=\"M 259.067045 224.64 \nL 262.110682 224.64 \nL 262.110682 224.64 \nL 259.067045 224.64 \nz\n\" clip-path=\"url(#pef507999c0)\" style=\"fill: #8dd3c7\"/>\n   </g>\n   <g id=\"patch_69\">\n    <path d=\"M 262.110682 224.64 \nL 265.154318 224.64 \nL 265.154318 224.64 \nL 262.110682 224.64 \nz\n\" clip-path=\"url(#pef507999c0)\" style=\"fill: #8dd3c7\"/>\n   </g>\n   <g id=\"patch_70\">\n    <path d=\"M 265.154318 224.64 \nL 268.197955 224.64 \nL 268.197955 224.64 \nL 265.154318 224.64 \nz\n\" clip-path=\"url(#pef507999c0)\" style=\"fill: #8dd3c7\"/>\n   </g>\n   <g id=\"patch_71\">\n    <path d=\"M 268.197955 224.64 \nL 271.241591 224.64 \nL 271.241591 224.64 \nL 268.197955 224.64 \nz\n\" clip-path=\"url(#pef507999c0)\" style=\"fill: #8dd3c7\"/>\n   </g>\n   <g id=\"patch_72\">\n    <path d=\"M 271.241591 224.64 \nL 274.285227 224.64 \nL 274.285227 224.64 \nL 271.241591 224.64 \nz\n\" clip-path=\"url(#pef507999c0)\" style=\"fill: #8dd3c7\"/>\n   </g>\n   <g id=\"patch_73\">\n    <path d=\"M 274.285227 224.64 \nL 277.328864 224.64 \nL 277.328864 224.64 \nL 274.285227 224.64 \nz\n\" clip-path=\"url(#pef507999c0)\" style=\"fill: #8dd3c7\"/>\n   </g>\n   <g id=\"patch_74\">\n    <path d=\"M 277.328864 224.64 \nL 280.3725 224.64 \nL 280.3725 224.64 \nL 277.328864 224.64 \nz\n\" clip-path=\"url(#pef507999c0)\" style=\"fill: #8dd3c7\"/>\n   </g>\n   <g id=\"patch_75\">\n    <path d=\"M 280.3725 224.64 \nL 283.416136 224.64 \nL 283.416136 224.64 \nL 280.3725 224.64 \nz\n\" clip-path=\"url(#pef507999c0)\" style=\"fill: #8dd3c7\"/>\n   </g>\n   <g id=\"patch_76\">\n    <path d=\"M 283.416136 224.64 \nL 286.459773 224.64 \nL 286.459773 224.64 \nL 283.416136 224.64 \nz\n\" clip-path=\"url(#pef507999c0)\" style=\"fill: #8dd3c7\"/>\n   </g>\n   <g id=\"patch_77\">\n    <path d=\"M 286.459773 224.64 \nL 289.503409 224.64 \nL 289.503409 224.64 \nL 286.459773 224.64 \nz\n\" clip-path=\"url(#pef507999c0)\" style=\"fill: #8dd3c7\"/>\n   </g>\n   <g id=\"patch_78\">\n    <path d=\"M 289.503409 224.64 \nL 292.547045 224.64 \nL 292.547045 224.64 \nL 289.503409 224.64 \nz\n\" clip-path=\"url(#pef507999c0)\" style=\"fill: #8dd3c7\"/>\n   </g>\n   <g id=\"patch_79\">\n    <path d=\"M 292.547045 224.64 \nL 295.590682 224.64 \nL 295.590682 224.64 \nL 292.547045 224.64 \nz\n\" clip-path=\"url(#pef507999c0)\" style=\"fill: #8dd3c7\"/>\n   </g>\n   <g id=\"patch_80\">\n    <path d=\"M 295.590682 224.64 \nL 298.634318 224.64 \nL 298.634318 224.64 \nL 295.590682 224.64 \nz\n\" clip-path=\"url(#pef507999c0)\" style=\"fill: #8dd3c7\"/>\n   </g>\n   <g id=\"patch_81\">\n    <path d=\"M 298.634318 224.64 \nL 301.677955 224.64 \nL 301.677955 224.64 \nL 298.634318 224.64 \nz\n\" clip-path=\"url(#pef507999c0)\" style=\"fill: #8dd3c7\"/>\n   </g>\n   <g id=\"patch_82\">\n    <path d=\"M 301.677955 224.64 \nL 304.721591 224.64 \nL 304.721591 224.64 \nL 301.677955 224.64 \nz\n\" clip-path=\"url(#pef507999c0)\" style=\"fill: #8dd3c7\"/>\n   </g>\n   <g id=\"patch_83\">\n    <path d=\"M 304.721591 224.64 \nL 307.765227 224.64 \nL 307.765227 224.64 \nL 304.721591 224.64 \nz\n\" clip-path=\"url(#pef507999c0)\" style=\"fill: #8dd3c7\"/>\n   </g>\n   <g id=\"patch_84\">\n    <path d=\"M 307.765227 224.64 \nL 310.808864 224.64 \nL 310.808864 224.64 \nL 307.765227 224.64 \nz\n\" clip-path=\"url(#pef507999c0)\" style=\"fill: #8dd3c7\"/>\n   </g>\n   <g id=\"patch_85\">\n    <path d=\"M 310.808864 224.64 \nL 313.8525 224.64 \nL 313.8525 224.64 \nL 310.808864 224.64 \nz\n\" clip-path=\"url(#pef507999c0)\" style=\"fill: #8dd3c7\"/>\n   </g>\n   <g id=\"patch_86\">\n    <path d=\"M 313.8525 224.64 \nL 316.896136 224.64 \nL 316.896136 224.64 \nL 313.8525 224.64 \nz\n\" clip-path=\"url(#pef507999c0)\" style=\"fill: #8dd3c7\"/>\n   </g>\n   <g id=\"patch_87\">\n    <path d=\"M 316.896136 224.64 \nL 319.939773 224.64 \nL 319.939773 224.64 \nL 316.896136 224.64 \nz\n\" clip-path=\"url(#pef507999c0)\" style=\"fill: #8dd3c7\"/>\n   </g>\n   <g id=\"patch_88\">\n    <path d=\"M 319.939773 224.64 \nL 322.983409 224.64 \nL 322.983409 224.64 \nL 319.939773 224.64 \nz\n\" clip-path=\"url(#pef507999c0)\" style=\"fill: #8dd3c7\"/>\n   </g>\n   <g id=\"patch_89\">\n    <path d=\"M 322.983409 224.64 \nL 326.027045 224.64 \nL 326.027045 224.64 \nL 322.983409 224.64 \nz\n\" clip-path=\"url(#pef507999c0)\" style=\"fill: #8dd3c7\"/>\n   </g>\n   <g id=\"patch_90\">\n    <path d=\"M 326.027045 224.64 \nL 329.070682 224.64 \nL 329.070682 224.64 \nL 326.027045 224.64 \nz\n\" clip-path=\"url(#pef507999c0)\" style=\"fill: #8dd3c7\"/>\n   </g>\n   <g id=\"patch_91\">\n    <path d=\"M 329.070682 224.64 \nL 332.114318 224.64 \nL 332.114318 224.64 \nL 329.070682 224.64 \nz\n\" clip-path=\"url(#pef507999c0)\" style=\"fill: #8dd3c7\"/>\n   </g>\n   <g id=\"patch_92\">\n    <path d=\"M 332.114318 224.64 \nL 335.157955 224.64 \nL 335.157955 224.64 \nL 332.114318 224.64 \nz\n\" clip-path=\"url(#pef507999c0)\" style=\"fill: #8dd3c7\"/>\n   </g>\n   <g id=\"patch_93\">\n    <path d=\"M 335.157955 224.64 \nL 338.201591 224.64 \nL 338.201591 224.64 \nL 335.157955 224.64 \nz\n\" clip-path=\"url(#pef507999c0)\" style=\"fill: #8dd3c7\"/>\n   </g>\n   <g id=\"patch_94\">\n    <path d=\"M 338.201591 224.64 \nL 341.245227 224.64 \nL 341.245227 224.64 \nL 338.201591 224.64 \nz\n\" clip-path=\"url(#pef507999c0)\" style=\"fill: #8dd3c7\"/>\n   </g>\n   <g id=\"patch_95\">\n    <path d=\"M 341.245227 224.64 \nL 344.288864 224.64 \nL 344.288864 224.64 \nL 341.245227 224.64 \nz\n\" clip-path=\"url(#pef507999c0)\" style=\"fill: #8dd3c7\"/>\n   </g>\n   <g id=\"patch_96\">\n    <path d=\"M 344.288864 224.64 \nL 347.3325 224.64 \nL 347.3325 224.64 \nL 344.288864 224.64 \nz\n\" clip-path=\"url(#pef507999c0)\" style=\"fill: #8dd3c7\"/>\n   </g>\n   <g id=\"patch_97\">\n    <path d=\"M 347.3325 224.64 \nL 350.376136 224.64 \nL 350.376136 224.64 \nL 347.3325 224.64 \nz\n\" clip-path=\"url(#pef507999c0)\" style=\"fill: #8dd3c7\"/>\n   </g>\n   <g id=\"patch_98\">\n    <path d=\"M 350.376136 224.64 \nL 353.419773 224.64 \nL 353.419773 224.64 \nL 350.376136 224.64 \nz\n\" clip-path=\"url(#pef507999c0)\" style=\"fill: #8dd3c7\"/>\n   </g>\n   <g id=\"patch_99\">\n    <path d=\"M 353.419773 224.64 \nL 356.463409 224.64 \nL 356.463409 224.64 \nL 353.419773 224.64 \nz\n\" clip-path=\"url(#pef507999c0)\" style=\"fill: #8dd3c7\"/>\n   </g>\n   <g id=\"patch_100\">\n    <path d=\"M 356.463409 224.64 \nL 359.507045 224.64 \nL 359.507045 224.64 \nL 356.463409 224.64 \nz\n\" clip-path=\"url(#pef507999c0)\" style=\"fill: #8dd3c7\"/>\n   </g>\n   <g id=\"patch_101\">\n    <path d=\"M 359.507045 224.64 \nL 362.550682 224.64 \nL 362.550682 224.64 \nL 359.507045 224.64 \nz\n\" clip-path=\"url(#pef507999c0)\" style=\"fill: #8dd3c7\"/>\n   </g>\n   <g id=\"patch_102\">\n    <path d=\"M 362.550682 224.64 \nL 365.594318 224.64 \nL 365.594318 191.583968 \nL 362.550682 191.583968 \nz\n\" clip-path=\"url(#pef507999c0)\" style=\"fill: #8dd3c7\"/>\n   </g>\n   <g id=\"matplotlib.axis_1\">\n    <g id=\"xtick_1\">\n     <g id=\"line2d_1\">\n      <defs>\n       <path id=\"mcf7067f413\" d=\"M 0 0 \nL 0 3.5 \n\" style=\"stroke: #ffffff; stroke-width: 0.8\"/>\n      </defs>\n      <g>\n       <use xlink:href=\"#mcf7067f413\" x=\"61.230682\" y=\"224.64\" style=\"fill: #ffffff; stroke: #ffffff; stroke-width: 0.8\"/>\n      </g>\n     </g>\n     <g id=\"text_1\">\n      <!-- −1.0 -->\n      <g style=\"fill: #ffffff\" transform=\"translate(49.089276 239.238438)scale(0.1 -0.1)\">\n       <defs>\n        <path id=\"DejaVuSans-2212\" d=\"M 678 2272 \nL 4684 2272 \nL 4684 1741 \nL 678 1741 \nL 678 2272 \nz\n\" transform=\"scale(0.015625)\"/>\n        <path id=\"DejaVuSans-31\" d=\"M 794 531 \nL 1825 531 \nL 1825 4091 \nL 703 3866 \nL 703 4441 \nL 1819 4666 \nL 2450 4666 \nL 2450 531 \nL 3481 531 \nL 3481 0 \nL 794 0 \nL 794 531 \nz\n\" transform=\"scale(0.015625)\"/>\n        <path id=\"DejaVuSans-2e\" d=\"M 684 794 \nL 1344 794 \nL 1344 0 \nL 684 0 \nL 684 794 \nz\n\" transform=\"scale(0.015625)\"/>\n        <path id=\"DejaVuSans-30\" d=\"M 2034 4250 \nQ 1547 4250 1301 3770 \nQ 1056 3291 1056 2328 \nQ 1056 1369 1301 889 \nQ 1547 409 2034 409 \nQ 2525 409 2770 889 \nQ 3016 1369 3016 2328 \nQ 3016 3291 2770 3770 \nQ 2525 4250 2034 4250 \nz\nM 2034 4750 \nQ 2819 4750 3233 4129 \nQ 3647 3509 3647 2328 \nQ 3647 1150 3233 529 \nQ 2819 -91 2034 -91 \nQ 1250 -91 836 529 \nQ 422 1150 422 2328 \nQ 422 3509 836 4129 \nQ 1250 4750 2034 4750 \nz\n\" transform=\"scale(0.015625)\"/>\n       </defs>\n       <use xlink:href=\"#DejaVuSans-2212\"/>\n       <use xlink:href=\"#DejaVuSans-31\" x=\"83.789062\"/>\n       <use xlink:href=\"#DejaVuSans-2e\" x=\"147.412109\"/>\n       <use xlink:href=\"#DejaVuSans-30\" x=\"179.199219\"/>\n      </g>\n     </g>\n    </g>\n    <g id=\"xtick_2\">\n     <g id=\"line2d_2\">\n      <g>\n       <use xlink:href=\"#mcf7067f413\" x=\"122.103409\" y=\"224.64\" style=\"fill: #ffffff; stroke: #ffffff; stroke-width: 0.8\"/>\n      </g>\n     </g>\n     <g id=\"text_2\">\n      <!-- −0.8 -->\n      <g style=\"fill: #ffffff\" transform=\"translate(109.962003 239.238438)scale(0.1 -0.1)\">\n       <defs>\n        <path id=\"DejaVuSans-38\" d=\"M 2034 2216 \nQ 1584 2216 1326 1975 \nQ 1069 1734 1069 1313 \nQ 1069 891 1326 650 \nQ 1584 409 2034 409 \nQ 2484 409 2743 651 \nQ 3003 894 3003 1313 \nQ 3003 1734 2745 1975 \nQ 2488 2216 2034 2216 \nz\nM 1403 2484 \nQ 997 2584 770 2862 \nQ 544 3141 544 3541 \nQ 544 4100 942 4425 \nQ 1341 4750 2034 4750 \nQ 2731 4750 3128 4425 \nQ 3525 4100 3525 3541 \nQ 3525 3141 3298 2862 \nQ 3072 2584 2669 2484 \nQ 3125 2378 3379 2068 \nQ 3634 1759 3634 1313 \nQ 3634 634 3220 271 \nQ 2806 -91 2034 -91 \nQ 1263 -91 848 271 \nQ 434 634 434 1313 \nQ 434 1759 690 2068 \nQ 947 2378 1403 2484 \nz\nM 1172 3481 \nQ 1172 3119 1398 2916 \nQ 1625 2713 2034 2713 \nQ 2441 2713 2670 2916 \nQ 2900 3119 2900 3481 \nQ 2900 3844 2670 4047 \nQ 2441 4250 2034 4250 \nQ 1625 4250 1398 4047 \nQ 1172 3844 1172 3481 \nz\n\" transform=\"scale(0.015625)\"/>\n       </defs>\n       <use xlink:href=\"#DejaVuSans-2212\"/>\n       <use xlink:href=\"#DejaVuSans-30\" x=\"83.789062\"/>\n       <use xlink:href=\"#DejaVuSans-2e\" x=\"147.412109\"/>\n       <use xlink:href=\"#DejaVuSans-38\" x=\"179.199219\"/>\n      </g>\n     </g>\n    </g>\n    <g id=\"xtick_3\">\n     <g id=\"line2d_3\">\n      <g>\n       <use xlink:href=\"#mcf7067f413\" x=\"182.976136\" y=\"224.64\" style=\"fill: #ffffff; stroke: #ffffff; stroke-width: 0.8\"/>\n      </g>\n     </g>\n     <g id=\"text_3\">\n      <!-- −0.6 -->\n      <g style=\"fill: #ffffff\" transform=\"translate(170.83473 239.238438)scale(0.1 -0.1)\">\n       <defs>\n        <path id=\"DejaVuSans-36\" d=\"M 2113 2584 \nQ 1688 2584 1439 2293 \nQ 1191 2003 1191 1497 \nQ 1191 994 1439 701 \nQ 1688 409 2113 409 \nQ 2538 409 2786 701 \nQ 3034 994 3034 1497 \nQ 3034 2003 2786 2293 \nQ 2538 2584 2113 2584 \nz\nM 3366 4563 \nL 3366 3988 \nQ 3128 4100 2886 4159 \nQ 2644 4219 2406 4219 \nQ 1781 4219 1451 3797 \nQ 1122 3375 1075 2522 \nQ 1259 2794 1537 2939 \nQ 1816 3084 2150 3084 \nQ 2853 3084 3261 2657 \nQ 3669 2231 3669 1497 \nQ 3669 778 3244 343 \nQ 2819 -91 2113 -91 \nQ 1303 -91 875 529 \nQ 447 1150 447 2328 \nQ 447 3434 972 4092 \nQ 1497 4750 2381 4750 \nQ 2619 4750 2861 4703 \nQ 3103 4656 3366 4563 \nz\n\" transform=\"scale(0.015625)\"/>\n       </defs>\n       <use xlink:href=\"#DejaVuSans-2212\"/>\n       <use xlink:href=\"#DejaVuSans-30\" x=\"83.789062\"/>\n       <use xlink:href=\"#DejaVuSans-2e\" x=\"147.412109\"/>\n       <use xlink:href=\"#DejaVuSans-36\" x=\"179.199219\"/>\n      </g>\n     </g>\n    </g>\n    <g id=\"xtick_4\">\n     <g id=\"line2d_4\">\n      <g>\n       <use xlink:href=\"#mcf7067f413\" x=\"243.848864\" y=\"224.64\" style=\"fill: #ffffff; stroke: #ffffff; stroke-width: 0.8\"/>\n      </g>\n     </g>\n     <g id=\"text_4\">\n      <!-- −0.4 -->\n      <g style=\"fill: #ffffff\" transform=\"translate(231.707457 239.238438)scale(0.1 -0.1)\">\n       <defs>\n        <path id=\"DejaVuSans-34\" d=\"M 2419 4116 \nL 825 1625 \nL 2419 1625 \nL 2419 4116 \nz\nM 2253 4666 \nL 3047 4666 \nL 3047 1625 \nL 3713 1625 \nL 3713 1100 \nL 3047 1100 \nL 3047 0 \nL 2419 0 \nL 2419 1100 \nL 313 1100 \nL 313 1709 \nL 2253 4666 \nz\n\" transform=\"scale(0.015625)\"/>\n       </defs>\n       <use xlink:href=\"#DejaVuSans-2212\"/>\n       <use xlink:href=\"#DejaVuSans-30\" x=\"83.789062\"/>\n       <use xlink:href=\"#DejaVuSans-2e\" x=\"147.412109\"/>\n       <use xlink:href=\"#DejaVuSans-34\" x=\"179.199219\"/>\n      </g>\n     </g>\n    </g>\n    <g id=\"xtick_5\">\n     <g id=\"line2d_5\">\n      <g>\n       <use xlink:href=\"#mcf7067f413\" x=\"304.721591\" y=\"224.64\" style=\"fill: #ffffff; stroke: #ffffff; stroke-width: 0.8\"/>\n      </g>\n     </g>\n     <g id=\"text_5\">\n      <!-- −0.2 -->\n      <g style=\"fill: #ffffff\" transform=\"translate(292.580185 239.238438)scale(0.1 -0.1)\">\n       <defs>\n        <path id=\"DejaVuSans-32\" d=\"M 1228 531 \nL 3431 531 \nL 3431 0 \nL 469 0 \nL 469 531 \nQ 828 903 1448 1529 \nQ 2069 2156 2228 2338 \nQ 2531 2678 2651 2914 \nQ 2772 3150 2772 3378 \nQ 2772 3750 2511 3984 \nQ 2250 4219 1831 4219 \nQ 1534 4219 1204 4116 \nQ 875 4013 500 3803 \nL 500 4441 \nQ 881 4594 1212 4672 \nQ 1544 4750 1819 4750 \nQ 2544 4750 2975 4387 \nQ 3406 4025 3406 3419 \nQ 3406 3131 3298 2873 \nQ 3191 2616 2906 2266 \nQ 2828 2175 2409 1742 \nQ 1991 1309 1228 531 \nz\n\" transform=\"scale(0.015625)\"/>\n       </defs>\n       <use xlink:href=\"#DejaVuSans-2212\"/>\n       <use xlink:href=\"#DejaVuSans-30\" x=\"83.789062\"/>\n       <use xlink:href=\"#DejaVuSans-2e\" x=\"147.412109\"/>\n       <use xlink:href=\"#DejaVuSans-32\" x=\"179.199219\"/>\n      </g>\n     </g>\n    </g>\n    <g id=\"xtick_6\">\n     <g id=\"line2d_6\">\n      <g>\n       <use xlink:href=\"#mcf7067f413\" x=\"365.594318\" y=\"224.64\" style=\"fill: #ffffff; stroke: #ffffff; stroke-width: 0.8\"/>\n      </g>\n     </g>\n     <g id=\"text_6\">\n      <!-- 0.0 -->\n      <g style=\"fill: #ffffff\" transform=\"translate(357.642756 239.238438)scale(0.1 -0.1)\">\n       <use xlink:href=\"#DejaVuSans-30\"/>\n       <use xlink:href=\"#DejaVuSans-2e\" x=\"63.623047\"/>\n       <use xlink:href=\"#DejaVuSans-30\" x=\"95.410156\"/>\n      </g>\n     </g>\n    </g>\n    <g id=\"text_7\">\n     <!-- +2.0200000000e3 -->\n     <g style=\"fill: #ffffff\" transform=\"translate(286.751562 251.916563)scale(0.1 -0.1)\">\n      <defs>\n       <path id=\"DejaVuSans-2b\" d=\"M 2944 4013 \nL 2944 2272 \nL 4684 2272 \nL 4684 1741 \nL 2944 1741 \nL 2944 0 \nL 2419 0 \nL 2419 1741 \nL 678 1741 \nL 678 2272 \nL 2419 2272 \nL 2419 4013 \nL 2944 4013 \nz\n\" transform=\"scale(0.015625)\"/>\n       <path id=\"DejaVuSans-65\" d=\"M 3597 1894 \nL 3597 1613 \nL 953 1613 \nQ 991 1019 1311 708 \nQ 1631 397 2203 397 \nQ 2534 397 2845 478 \nQ 3156 559 3463 722 \nL 3463 178 \nQ 3153 47 2828 -22 \nQ 2503 -91 2169 -91 \nQ 1331 -91 842 396 \nQ 353 884 353 1716 \nQ 353 2575 817 3079 \nQ 1281 3584 2069 3584 \nQ 2775 3584 3186 3129 \nQ 3597 2675 3597 1894 \nz\nM 3022 2063 \nQ 3016 2534 2758 2815 \nQ 2500 3097 2075 3097 \nQ 1594 3097 1305 2825 \nQ 1016 2553 972 2059 \nL 3022 2063 \nz\n\" transform=\"scale(0.015625)\"/>\n       <path id=\"DejaVuSans-33\" d=\"M 2597 2516 \nQ 3050 2419 3304 2112 \nQ 3559 1806 3559 1356 \nQ 3559 666 3084 287 \nQ 2609 -91 1734 -91 \nQ 1441 -91 1130 -33 \nQ 819 25 488 141 \nL 488 750 \nQ 750 597 1062 519 \nQ 1375 441 1716 441 \nQ 2309 441 2620 675 \nQ 2931 909 2931 1356 \nQ 2931 1769 2642 2001 \nQ 2353 2234 1838 2234 \nL 1294 2234 \nL 1294 2753 \nL 1863 2753 \nQ 2328 2753 2575 2939 \nQ 2822 3125 2822 3475 \nQ 2822 3834 2567 4026 \nQ 2313 4219 1838 4219 \nQ 1578 4219 1281 4162 \nQ 984 4106 628 3988 \nL 628 4550 \nQ 988 4650 1302 4700 \nQ 1616 4750 1894 4750 \nQ 2613 4750 3031 4423 \nQ 3450 4097 3450 3541 \nQ 3450 3153 3228 2886 \nQ 3006 2619 2597 2516 \nz\n\" transform=\"scale(0.015625)\"/>\n      </defs>\n      <use xlink:href=\"#DejaVuSans-2b\"/>\n      <use xlink:href=\"#DejaVuSans-32\" x=\"83.789062\"/>\n      <use xlink:href=\"#DejaVuSans-2e\" x=\"147.412109\"/>\n      <use xlink:href=\"#DejaVuSans-30\" x=\"179.199219\"/>\n      <use xlink:href=\"#DejaVuSans-32\" x=\"242.822266\"/>\n      <use xlink:href=\"#DejaVuSans-30\" x=\"306.445312\"/>\n      <use xlink:href=\"#DejaVuSans-30\" x=\"370.068359\"/>\n      <use xlink:href=\"#DejaVuSans-30\" x=\"433.691406\"/>\n      <use xlink:href=\"#DejaVuSans-30\" x=\"497.314453\"/>\n      <use xlink:href=\"#DejaVuSans-30\" x=\"560.9375\"/>\n      <use xlink:href=\"#DejaVuSans-30\" x=\"624.560547\"/>\n      <use xlink:href=\"#DejaVuSans-30\" x=\"688.183594\"/>\n      <use xlink:href=\"#DejaVuSans-30\" x=\"751.806641\"/>\n      <use xlink:href=\"#DejaVuSans-65\" x=\"815.429688\"/>\n      <use xlink:href=\"#DejaVuSans-33\" x=\"876.953125\"/>\n     </g>\n    </g>\n   </g>\n   <g id=\"matplotlib.axis_2\">\n    <g id=\"ytick_1\">\n     <g id=\"line2d_7\">\n      <defs>\n       <path id=\"me00a5f1be3\" d=\"M 0 0 \nL -3.5 0 \n\" style=\"stroke: #ffffff; stroke-width: 0.8\"/>\n      </defs>\n      <g>\n       <use xlink:href=\"#me00a5f1be3\" x=\"46.0125\" y=\"224.64\" style=\"fill: #ffffff; stroke: #ffffff; stroke-width: 0.8\"/>\n      </g>\n     </g>\n     <g id=\"text_8\">\n      <!-- 0 -->\n      <g style=\"fill: #ffffff\" transform=\"translate(32.65 228.439219)scale(0.1 -0.1)\">\n       <use xlink:href=\"#DejaVuSans-30\"/>\n      </g>\n     </g>\n    </g>\n    <g id=\"ytick_2\">\n     <g id=\"line2d_8\">\n      <g>\n       <use xlink:href=\"#me00a5f1be3\" x=\"46.0125\" y=\"199.086481\" style=\"fill: #ffffff; stroke: #ffffff; stroke-width: 0.8\"/>\n      </g>\n     </g>\n     <g id=\"text_9\">\n      <!-- 2500 -->\n      <g style=\"fill: #ffffff\" transform=\"translate(13.5625 202.8857)scale(0.1 -0.1)\">\n       <defs>\n        <path id=\"DejaVuSans-35\" d=\"M 691 4666 \nL 3169 4666 \nL 3169 4134 \nL 1269 4134 \nL 1269 2991 \nQ 1406 3038 1543 3061 \nQ 1681 3084 1819 3084 \nQ 2600 3084 3056 2656 \nQ 3513 2228 3513 1497 \nQ 3513 744 3044 326 \nQ 2575 -91 1722 -91 \nQ 1428 -91 1123 -41 \nQ 819 9 494 109 \nL 494 744 \nQ 775 591 1075 516 \nQ 1375 441 1709 441 \nQ 2250 441 2565 725 \nQ 2881 1009 2881 1497 \nQ 2881 1984 2565 2268 \nQ 2250 2553 1709 2553 \nQ 1456 2553 1204 2497 \nQ 953 2441 691 2322 \nL 691 4666 \nz\n\" transform=\"scale(0.015625)\"/>\n       </defs>\n       <use xlink:href=\"#DejaVuSans-32\"/>\n       <use xlink:href=\"#DejaVuSans-35\" x=\"63.623047\"/>\n       <use xlink:href=\"#DejaVuSans-30\" x=\"127.246094\"/>\n       <use xlink:href=\"#DejaVuSans-30\" x=\"190.869141\"/>\n      </g>\n     </g>\n    </g>\n    <g id=\"ytick_3\">\n     <g id=\"line2d_9\">\n      <g>\n       <use xlink:href=\"#me00a5f1be3\" x=\"46.0125\" y=\"173.532963\" style=\"fill: #ffffff; stroke: #ffffff; stroke-width: 0.8\"/>\n      </g>\n     </g>\n     <g id=\"text_10\">\n      <!-- 5000 -->\n      <g style=\"fill: #ffffff\" transform=\"translate(13.5625 177.332182)scale(0.1 -0.1)\">\n       <use xlink:href=\"#DejaVuSans-35\"/>\n       <use xlink:href=\"#DejaVuSans-30\" x=\"63.623047\"/>\n       <use xlink:href=\"#DejaVuSans-30\" x=\"127.246094\"/>\n       <use xlink:href=\"#DejaVuSans-30\" x=\"190.869141\"/>\n      </g>\n     </g>\n    </g>\n    <g id=\"ytick_4\">\n     <g id=\"line2d_10\">\n      <g>\n       <use xlink:href=\"#me00a5f1be3\" x=\"46.0125\" y=\"147.979444\" style=\"fill: #ffffff; stroke: #ffffff; stroke-width: 0.8\"/>\n      </g>\n     </g>\n     <g id=\"text_11\">\n      <!-- 7500 -->\n      <g style=\"fill: #ffffff\" transform=\"translate(13.5625 151.778663)scale(0.1 -0.1)\">\n       <defs>\n        <path id=\"DejaVuSans-37\" d=\"M 525 4666 \nL 3525 4666 \nL 3525 4397 \nL 1831 0 \nL 1172 0 \nL 2766 4134 \nL 525 4134 \nL 525 4666 \nz\n\" transform=\"scale(0.015625)\"/>\n       </defs>\n       <use xlink:href=\"#DejaVuSans-37\"/>\n       <use xlink:href=\"#DejaVuSans-35\" x=\"63.623047\"/>\n       <use xlink:href=\"#DejaVuSans-30\" x=\"127.246094\"/>\n       <use xlink:href=\"#DejaVuSans-30\" x=\"190.869141\"/>\n      </g>\n     </g>\n    </g>\n    <g id=\"ytick_5\">\n     <g id=\"line2d_11\">\n      <g>\n       <use xlink:href=\"#me00a5f1be3\" x=\"46.0125\" y=\"122.425926\" style=\"fill: #ffffff; stroke: #ffffff; stroke-width: 0.8\"/>\n      </g>\n     </g>\n     <g id=\"text_12\">\n      <!-- 10000 -->\n      <g style=\"fill: #ffffff\" transform=\"translate(7.2 126.225145)scale(0.1 -0.1)\">\n       <use xlink:href=\"#DejaVuSans-31\"/>\n       <use xlink:href=\"#DejaVuSans-30\" x=\"63.623047\"/>\n       <use xlink:href=\"#DejaVuSans-30\" x=\"127.246094\"/>\n       <use xlink:href=\"#DejaVuSans-30\" x=\"190.869141\"/>\n       <use xlink:href=\"#DejaVuSans-30\" x=\"254.492188\"/>\n      </g>\n     </g>\n    </g>\n    <g id=\"ytick_6\">\n     <g id=\"line2d_12\">\n      <g>\n       <use xlink:href=\"#me00a5f1be3\" x=\"46.0125\" y=\"96.872407\" style=\"fill: #ffffff; stroke: #ffffff; stroke-width: 0.8\"/>\n      </g>\n     </g>\n     <g id=\"text_13\">\n      <!-- 12500 -->\n      <g style=\"fill: #ffffff\" transform=\"translate(7.2 100.671626)scale(0.1 -0.1)\">\n       <use xlink:href=\"#DejaVuSans-31\"/>\n       <use xlink:href=\"#DejaVuSans-32\" x=\"63.623047\"/>\n       <use xlink:href=\"#DejaVuSans-35\" x=\"127.246094\"/>\n       <use xlink:href=\"#DejaVuSans-30\" x=\"190.869141\"/>\n       <use xlink:href=\"#DejaVuSans-30\" x=\"254.492188\"/>\n      </g>\n     </g>\n    </g>\n    <g id=\"ytick_7\">\n     <g id=\"line2d_13\">\n      <g>\n       <use xlink:href=\"#me00a5f1be3\" x=\"46.0125\" y=\"71.318889\" style=\"fill: #ffffff; stroke: #ffffff; stroke-width: 0.8\"/>\n      </g>\n     </g>\n     <g id=\"text_14\">\n      <!-- 15000 -->\n      <g style=\"fill: #ffffff\" transform=\"translate(7.2 75.118107)scale(0.1 -0.1)\">\n       <use xlink:href=\"#DejaVuSans-31\"/>\n       <use xlink:href=\"#DejaVuSans-35\" x=\"63.623047\"/>\n       <use xlink:href=\"#DejaVuSans-30\" x=\"127.246094\"/>\n       <use xlink:href=\"#DejaVuSans-30\" x=\"190.869141\"/>\n       <use xlink:href=\"#DejaVuSans-30\" x=\"254.492188\"/>\n      </g>\n     </g>\n    </g>\n    <g id=\"ytick_8\">\n     <g id=\"line2d_14\">\n      <g>\n       <use xlink:href=\"#me00a5f1be3\" x=\"46.0125\" y=\"45.76537\" style=\"fill: #ffffff; stroke: #ffffff; stroke-width: 0.8\"/>\n      </g>\n     </g>\n     <g id=\"text_15\">\n      <!-- 17500 -->\n      <g style=\"fill: #ffffff\" transform=\"translate(7.2 49.564589)scale(0.1 -0.1)\">\n       <use xlink:href=\"#DejaVuSans-31\"/>\n       <use xlink:href=\"#DejaVuSans-37\" x=\"63.623047\"/>\n       <use xlink:href=\"#DejaVuSans-35\" x=\"127.246094\"/>\n       <use xlink:href=\"#DejaVuSans-30\" x=\"190.869141\"/>\n       <use xlink:href=\"#DejaVuSans-30\" x=\"254.492188\"/>\n      </g>\n     </g>\n    </g>\n    <g id=\"ytick_9\">\n     <g id=\"line2d_15\">\n      <g>\n       <use xlink:href=\"#me00a5f1be3\" x=\"46.0125\" y=\"20.211852\" style=\"fill: #ffffff; stroke: #ffffff; stroke-width: 0.8\"/>\n      </g>\n     </g>\n     <g id=\"text_16\">\n      <!-- 20000 -->\n      <g style=\"fill: #ffffff\" transform=\"translate(7.2 24.01107)scale(0.1 -0.1)\">\n       <use xlink:href=\"#DejaVuSans-32\"/>\n       <use xlink:href=\"#DejaVuSans-30\" x=\"63.623047\"/>\n       <use xlink:href=\"#DejaVuSans-30\" x=\"127.246094\"/>\n       <use xlink:href=\"#DejaVuSans-30\" x=\"190.869141\"/>\n       <use xlink:href=\"#DejaVuSans-30\" x=\"254.492188\"/>\n      </g>\n     </g>\n    </g>\n   </g>\n   <g id=\"patch_103\">\n    <path d=\"M 46.0125 224.64 \nL 46.0125 7.2 \n\" style=\"fill: none; stroke: #ffffff; stroke-width: 0.8; stroke-linejoin: miter; stroke-linecap: square\"/>\n   </g>\n   <g id=\"patch_104\">\n    <path d=\"M 380.8125 224.64 \nL 380.8125 7.2 \n\" style=\"fill: none; stroke: #ffffff; stroke-width: 0.8; stroke-linejoin: miter; stroke-linecap: square\"/>\n   </g>\n   <g id=\"patch_105\">\n    <path d=\"M 46.0125 224.64 \nL 380.8125 224.64 \n\" style=\"fill: none; stroke: #ffffff; stroke-width: 0.8; stroke-linejoin: miter; stroke-linecap: square\"/>\n   </g>\n   <g id=\"patch_106\">\n    <path d=\"M 46.0125 7.2 \nL 380.8125 7.2 \n\" style=\"fill: none; stroke: #ffffff; stroke-width: 0.8; stroke-linejoin: miter; stroke-linecap: square\"/>\n   </g>\n  </g>\n </g>\n <defs>\n  <clipPath id=\"pef507999c0\">\n   <rect x=\"46.0125\" y=\"7.2\" width=\"334.8\" height=\"217.44\"/>\n  </clipPath>\n </defs>\n</svg>\n",
      "text/plain": [
       "<Figure size 432x288 with 1 Axes>"
      ]
     },
     "metadata": {},
     "output_type": "display_data"
    }
   ],
   "source": [
    "plot.hist(X_train['buisness_year'],100)\n",
    "plot.show()"
   ]
  },
  {
   "cell_type": "code",
   "execution_count": 59,
   "id": "qr1jGhfOKjnw",
   "metadata": {
    "id": "qr1jGhfOKjnw"
   },
   "outputs": [
    {
     "data": {
      "image/png": "[encoded data removed]",
      "image/svg+xml": "<?xml version=\"1.0\" encoding=\"utf-8\" standalone=\"no\"?>\n<!DOCTYPE svg PUBLIC \"-//W3C//DTD SVG 1.1//EN\"\n  \"http://www.w3.org/Graphics/SVG/1.1/DTD/svg11.dtd\">\n<svg xmlns:xlink=\"http://www.w3.org/1999/xlink\" width=\"388.0125pt\" height=\"261.19625pt\" viewBox=\"0 0 388.0125 261.19625\" xmlns=\"http://www.w3.org/2000/svg\" version=\"1.1\">\n <metadata>\n  <rdf:RDF xmlns:dc=\"http://purl.org/dc/elements/1.1/\" xmlns:cc=\"http://creativecommons.org/ns#\" xmlns:rdf=\"http://www.w3.org/1999/02/22-rdf-syntax-ns#\">\n   <cc:Work>\n    <dc:type rdf:resource=\"http://purl.org/dc/dcmitype/StillImage\"/>\n    <dc:date>2022-02-25T14:03:48.480715</dc:date>\n    <dc:format>image/svg+xml</dc:format>\n    <dc:creator>\n     <cc:Agent>\n      <dc:title>Matplotlib v3.5.1, https://matplotlib.org/</dc:title>\n     </cc:Agent>\n    </dc:creator>\n   </cc:Work>\n  </rdf:RDF>\n </metadata>\n <defs>\n  <style type=\"text/css\">*{stroke-linejoin: round; stroke-linecap: butt}</style>\n </defs>\n <g id=\"figure_1\">\n  <g id=\"patch_1\">\n   <path d=\"M 0 261.19625 \nL 388.0125 261.19625 \nL 388.0125 0 \nL 0 0 \nz\n\"/>\n  </g>\n  <g id=\"axes_1\">\n   <g id=\"patch_2\">\n    <path d=\"M 46.0125 224.64 \nL 380.8125 224.64 \nL 380.8125 7.2 \nL 46.0125 7.2 \nz\n\"/>\n   </g>\n   <g id=\"patch_3\">\n    <path d=\"M 61.230682 224.64 \nL 62.450576 224.64 \nL 62.450576 17.554286 \nL 61.230682 17.554286 \nz\n\" clip-path=\"url(#pcb2ae8e8c4)\" style=\"fill: #8dd3c7\"/>\n   </g>\n   <g id=\"patch_4\">\n    <path d=\"M 64.280418 224.64 \nL 65.500312 224.64 \nL 65.500312 224.64 \nL 64.280418 224.64 \nz\n\" clip-path=\"url(#pcb2ae8e8c4)\" style=\"fill: #8dd3c7\"/>\n   </g>\n   <g id=\"patch_5\">\n    <path d=\"M 67.330153 224.64 \nL 68.550048 224.64 \nL 68.550048 224.64 \nL 67.330153 224.64 \nz\n\" clip-path=\"url(#pcb2ae8e8c4)\" style=\"fill: #8dd3c7\"/>\n   </g>\n   <g id=\"patch_6\">\n    <path d=\"M 70.379889 224.64 \nL 71.599784 224.64 \nL 71.599784 224.64 \nL 70.379889 224.64 \nz\n\" clip-path=\"url(#pcb2ae8e8c4)\" style=\"fill: #8dd3c7\"/>\n   </g>\n   <g id=\"patch_7\">\n    <path d=\"M 73.429625 224.64 \nL 74.649519 224.64 \nL 74.649519 224.64 \nL 73.429625 224.64 \nz\n\" clip-path=\"url(#pcb2ae8e8c4)\" style=\"fill: #8dd3c7\"/>\n   </g>\n   <g id=\"patch_8\">\n    <path d=\"M 76.479361 224.64 \nL 77.699255 224.64 \nL 77.699255 224.64 \nL 76.479361 224.64 \nz\n\" clip-path=\"url(#pcb2ae8e8c4)\" style=\"fill: #8dd3c7\"/>\n   </g>\n   <g id=\"patch_9\">\n    <path d=\"M 79.529097 224.64 \nL 80.748991 224.64 \nL 80.748991 224.64 \nL 79.529097 224.64 \nz\n\" clip-path=\"url(#pcb2ae8e8c4)\" style=\"fill: #8dd3c7\"/>\n   </g>\n   <g id=\"patch_10\">\n    <path d=\"M 82.578833 224.64 \nL 83.798727 224.64 \nL 83.798727 224.64 \nL 82.578833 224.64 \nz\n\" clip-path=\"url(#pcb2ae8e8c4)\" style=\"fill: #8dd3c7\"/>\n   </g>\n   <g id=\"patch_11\">\n    <path d=\"M 85.628569 224.64 \nL 86.848463 224.64 \nL 86.848463 224.64 \nL 85.628569 224.64 \nz\n\" clip-path=\"url(#pcb2ae8e8c4)\" style=\"fill: #8dd3c7\"/>\n   </g>\n   <g id=\"patch_12\">\n    <path d=\"M 88.678304 224.64 \nL 89.898199 224.64 \nL 89.898199 224.64 \nL 88.678304 224.64 \nz\n\" clip-path=\"url(#pcb2ae8e8c4)\" style=\"fill: #8dd3c7\"/>\n   </g>\n   <g id=\"patch_13\">\n    <path d=\"M 91.72804 224.64 \nL 92.947935 224.64 \nL 92.947935 224.64 \nL 91.72804 224.64 \nz\n\" clip-path=\"url(#pcb2ae8e8c4)\" style=\"fill: #8dd3c7\"/>\n   </g>\n   <g id=\"patch_14\">\n    <path d=\"M 94.777776 224.64 \nL 95.99767 224.64 \nL 95.99767 224.64 \nL 94.777776 224.64 \nz\n\" clip-path=\"url(#pcb2ae8e8c4)\" style=\"fill: #8dd3c7\"/>\n   </g>\n   <g id=\"patch_15\">\n    <path d=\"M 97.827512 224.64 \nL 99.047406 224.64 \nL 99.047406 224.64 \nL 97.827512 224.64 \nz\n\" clip-path=\"url(#pcb2ae8e8c4)\" style=\"fill: #8dd3c7\"/>\n   </g>\n   <g id=\"patch_16\">\n    <path d=\"M 100.877248 224.64 \nL 102.097142 224.64 \nL 102.097142 224.64 \nL 100.877248 224.64 \nz\n\" clip-path=\"url(#pcb2ae8e8c4)\" style=\"fill: #8dd3c7\"/>\n   </g>\n   <g id=\"patch_17\">\n    <path d=\"M 103.926984 224.64 \nL 105.146878 224.64 \nL 105.146878 224.64 \nL 103.926984 224.64 \nz\n\" clip-path=\"url(#pcb2ae8e8c4)\" style=\"fill: #8dd3c7\"/>\n   </g>\n   <g id=\"patch_18\">\n    <path d=\"M 106.976719 224.64 \nL 108.196614 224.64 \nL 108.196614 224.64 \nL 106.976719 224.64 \nz\n\" clip-path=\"url(#pcb2ae8e8c4)\" style=\"fill: #8dd3c7\"/>\n   </g>\n   <g id=\"patch_19\">\n    <path d=\"M 110.026455 224.64 \nL 111.24635 224.64 \nL 111.24635 224.64 \nL 110.026455 224.64 \nz\n\" clip-path=\"url(#pcb2ae8e8c4)\" style=\"fill: #8dd3c7\"/>\n   </g>\n   <g id=\"patch_20\">\n    <path d=\"M 113.076191 224.64 \nL 114.296085 224.64 \nL 114.296085 224.64 \nL 113.076191 224.64 \nz\n\" clip-path=\"url(#pcb2ae8e8c4)\" style=\"fill: #8dd3c7\"/>\n   </g>\n   <g id=\"patch_21\">\n    <path d=\"M 116.125927 224.64 \nL 117.345821 224.64 \nL 117.345821 224.64 \nL 116.125927 224.64 \nz\n\" clip-path=\"url(#pcb2ae8e8c4)\" style=\"fill: #8dd3c7\"/>\n   </g>\n   <g id=\"patch_22\">\n    <path d=\"M 119.175663 224.64 \nL 120.395557 224.64 \nL 120.395557 224.64 \nL 119.175663 224.64 \nz\n\" clip-path=\"url(#pcb2ae8e8c4)\" style=\"fill: #8dd3c7\"/>\n   </g>\n   <g id=\"patch_23\">\n    <path d=\"M 122.225399 224.64 \nL 123.445293 224.64 \nL 123.445293 224.64 \nL 122.225399 224.64 \nz\n\" clip-path=\"url(#pcb2ae8e8c4)\" style=\"fill: #8dd3c7\"/>\n   </g>\n   <g id=\"patch_24\">\n    <path d=\"M 125.275134 224.64 \nL 126.495029 224.64 \nL 126.495029 224.64 \nL 125.275134 224.64 \nz\n\" clip-path=\"url(#pcb2ae8e8c4)\" style=\"fill: #8dd3c7\"/>\n   </g>\n   <g id=\"patch_25\">\n    <path d=\"M 128.32487 224.64 \nL 129.544765 224.64 \nL 129.544765 224.64 \nL 128.32487 224.64 \nz\n\" clip-path=\"url(#pcb2ae8e8c4)\" style=\"fill: #8dd3c7\"/>\n   </g>\n   <g id=\"patch_26\">\n    <path d=\"M 131.374606 224.64 \nL 132.5945 224.64 \nL 132.5945 224.64 \nL 131.374606 224.64 \nz\n\" clip-path=\"url(#pcb2ae8e8c4)\" style=\"fill: #8dd3c7\"/>\n   </g>\n   <g id=\"patch_27\">\n    <path d=\"M 134.424342 224.64 \nL 135.644236 224.64 \nL 135.644236 224.64 \nL 134.424342 224.64 \nz\n\" clip-path=\"url(#pcb2ae8e8c4)\" style=\"fill: #8dd3c7\"/>\n   </g>\n   <g id=\"patch_28\">\n    <path d=\"M 137.474078 224.64 \nL 138.693972 224.64 \nL 138.693972 224.64 \nL 137.474078 224.64 \nz\n\" clip-path=\"url(#pcb2ae8e8c4)\" style=\"fill: #8dd3c7\"/>\n   </g>\n   <g id=\"patch_29\">\n    <path d=\"M 140.523814 224.64 \nL 141.743708 224.64 \nL 141.743708 224.64 \nL 140.523814 224.64 \nz\n\" clip-path=\"url(#pcb2ae8e8c4)\" style=\"fill: #8dd3c7\"/>\n   </g>\n   <g id=\"patch_30\">\n    <path d=\"M 143.573549 224.64 \nL 144.793444 224.64 \nL 144.793444 224.64 \nL 143.573549 224.64 \nz\n\" clip-path=\"url(#pcb2ae8e8c4)\" style=\"fill: #8dd3c7\"/>\n   </g>\n   <g id=\"patch_31\">\n    <path d=\"M 146.623285 224.64 \nL 147.84318 224.64 \nL 147.84318 224.64 \nL 146.623285 224.64 \nz\n\" clip-path=\"url(#pcb2ae8e8c4)\" style=\"fill: #8dd3c7\"/>\n   </g>\n   <g id=\"patch_32\">\n    <path d=\"M 149.673021 224.64 \nL 150.892915 224.64 \nL 150.892915 224.64 \nL 149.673021 224.64 \nz\n\" clip-path=\"url(#pcb2ae8e8c4)\" style=\"fill: #8dd3c7\"/>\n   </g>\n   <g id=\"patch_33\">\n    <path d=\"M 152.722757 224.64 \nL 153.942651 224.64 \nL 153.942651 224.64 \nL 152.722757 224.64 \nz\n\" clip-path=\"url(#pcb2ae8e8c4)\" style=\"fill: #8dd3c7\"/>\n   </g>\n   <g id=\"patch_34\">\n    <path d=\"M 155.772493 224.64 \nL 156.992387 224.64 \nL 156.992387 224.64 \nL 155.772493 224.64 \nz\n\" clip-path=\"url(#pcb2ae8e8c4)\" style=\"fill: #8dd3c7\"/>\n   </g>\n   <g id=\"patch_35\">\n    <path d=\"M 158.822229 224.64 \nL 160.042123 224.64 \nL 160.042123 224.64 \nL 158.822229 224.64 \nz\n\" clip-path=\"url(#pcb2ae8e8c4)\" style=\"fill: #8dd3c7\"/>\n   </g>\n   <g id=\"patch_36\">\n    <path d=\"M 161.871964 224.64 \nL 163.091859 224.64 \nL 163.091859 224.64 \nL 161.871964 224.64 \nz\n\" clip-path=\"url(#pcb2ae8e8c4)\" style=\"fill: #8dd3c7\"/>\n   </g>\n   <g id=\"patch_37\">\n    <path d=\"M 164.9217 224.64 \nL 166.141595 224.64 \nL 166.141595 224.64 \nL 164.9217 224.64 \nz\n\" clip-path=\"url(#pcb2ae8e8c4)\" style=\"fill: #8dd3c7\"/>\n   </g>\n   <g id=\"patch_38\">\n    <path d=\"M 167.971436 224.64 \nL 169.19133 224.64 \nL 169.19133 224.64 \nL 167.971436 224.64 \nz\n\" clip-path=\"url(#pcb2ae8e8c4)\" style=\"fill: #8dd3c7\"/>\n   </g>\n   <g id=\"patch_39\">\n    <path d=\"M 171.021172 224.64 \nL 172.241066 224.64 \nL 172.241066 224.64 \nL 171.021172 224.64 \nz\n\" clip-path=\"url(#pcb2ae8e8c4)\" style=\"fill: #8dd3c7\"/>\n   </g>\n   <g id=\"patch_40\">\n    <path d=\"M 174.070908 224.64 \nL 175.290802 224.64 \nL 175.290802 224.64 \nL 174.070908 224.64 \nz\n\" clip-path=\"url(#pcb2ae8e8c4)\" style=\"fill: #8dd3c7\"/>\n   </g>\n   <g id=\"patch_41\">\n    <path d=\"M 177.120644 224.64 \nL 178.340538 224.64 \nL 178.340538 224.64 \nL 177.120644 224.64 \nz\n\" clip-path=\"url(#pcb2ae8e8c4)\" style=\"fill: #8dd3c7\"/>\n   </g>\n   <g id=\"patch_42\">\n    <path d=\"M 180.170379 224.64 \nL 181.390274 224.64 \nL 181.390274 224.64 \nL 180.170379 224.64 \nz\n\" clip-path=\"url(#pcb2ae8e8c4)\" style=\"fill: #8dd3c7\"/>\n   </g>\n   <g id=\"patch_43\">\n    <path d=\"M 183.220115 224.64 \nL 184.44001 224.64 \nL 184.44001 224.64 \nL 183.220115 224.64 \nz\n\" clip-path=\"url(#pcb2ae8e8c4)\" style=\"fill: #8dd3c7\"/>\n   </g>\n   <g id=\"patch_44\">\n    <path d=\"M 186.269851 224.64 \nL 187.489745 224.64 \nL 187.489745 224.64 \nL 186.269851 224.64 \nz\n\" clip-path=\"url(#pcb2ae8e8c4)\" style=\"fill: #8dd3c7\"/>\n   </g>\n   <g id=\"patch_45\">\n    <path d=\"M 189.319587 224.64 \nL 190.539481 224.64 \nL 190.539481 224.64 \nL 189.319587 224.64 \nz\n\" clip-path=\"url(#pcb2ae8e8c4)\" style=\"fill: #8dd3c7\"/>\n   </g>\n   <g id=\"patch_46\">\n    <path d=\"M 192.369323 224.64 \nL 193.589217 224.64 \nL 193.589217 224.64 \nL 192.369323 224.64 \nz\n\" clip-path=\"url(#pcb2ae8e8c4)\" style=\"fill: #8dd3c7\"/>\n   </g>\n   <g id=\"patch_47\">\n    <path d=\"M 195.419059 224.64 \nL 196.638953 224.64 \nL 196.638953 224.64 \nL 195.419059 224.64 \nz\n\" clip-path=\"url(#pcb2ae8e8c4)\" style=\"fill: #8dd3c7\"/>\n   </g>\n   <g id=\"patch_48\">\n    <path d=\"M 198.468794 224.64 \nL 199.688689 224.64 \nL 199.688689 224.64 \nL 198.468794 224.64 \nz\n\" clip-path=\"url(#pcb2ae8e8c4)\" style=\"fill: #8dd3c7\"/>\n   </g>\n   <g id=\"patch_49\">\n    <path d=\"M 201.51853 224.64 \nL 202.738425 224.64 \nL 202.738425 224.64 \nL 201.51853 224.64 \nz\n\" clip-path=\"url(#pcb2ae8e8c4)\" style=\"fill: #8dd3c7\"/>\n   </g>\n   <g id=\"patch_50\">\n    <path d=\"M 204.568266 224.64 \nL 205.78816 224.64 \nL 205.78816 224.64 \nL 204.568266 224.64 \nz\n\" clip-path=\"url(#pcb2ae8e8c4)\" style=\"fill: #8dd3c7\"/>\n   </g>\n   <g id=\"patch_51\">\n    <path d=\"M 207.618002 224.64 \nL 208.837896 224.64 \nL 208.837896 224.64 \nL 207.618002 224.64 \nz\n\" clip-path=\"url(#pcb2ae8e8c4)\" style=\"fill: #8dd3c7\"/>\n   </g>\n   <g id=\"patch_52\">\n    <path d=\"M 210.667738 224.64 \nL 211.887632 224.64 \nL 211.887632 224.64 \nL 210.667738 224.64 \nz\n\" clip-path=\"url(#pcb2ae8e8c4)\" style=\"fill: #8dd3c7\"/>\n   </g>\n   <g id=\"patch_53\">\n    <path d=\"M 213.717474 224.64 \nL 214.937368 224.64 \nL 214.937368 224.64 \nL 213.717474 224.64 \nz\n\" clip-path=\"url(#pcb2ae8e8c4)\" style=\"fill: #8dd3c7\"/>\n   </g>\n   <g id=\"patch_54\">\n    <path d=\"M 216.767209 224.64 \nL 217.987104 224.64 \nL 217.987104 224.64 \nL 216.767209 224.64 \nz\n\" clip-path=\"url(#pcb2ae8e8c4)\" style=\"fill: #8dd3c7\"/>\n   </g>\n   <g id=\"patch_55\">\n    <path d=\"M 219.816945 224.64 \nL 221.03684 224.64 \nL 221.03684 224.64 \nL 219.816945 224.64 \nz\n\" clip-path=\"url(#pcb2ae8e8c4)\" style=\"fill: #8dd3c7\"/>\n   </g>\n   <g id=\"patch_56\">\n    <path d=\"M 222.866681 224.64 \nL 224.086575 224.64 \nL 224.086575 224.64 \nL 222.866681 224.64 \nz\n\" clip-path=\"url(#pcb2ae8e8c4)\" style=\"fill: #8dd3c7\"/>\n   </g>\n   <g id=\"patch_57\">\n    <path d=\"M 225.916417 224.64 \nL 227.136311 224.64 \nL 227.136311 224.64 \nL 225.916417 224.64 \nz\n\" clip-path=\"url(#pcb2ae8e8c4)\" style=\"fill: #8dd3c7\"/>\n   </g>\n   <g id=\"patch_58\">\n    <path d=\"M 228.966153 224.64 \nL 230.186047 224.64 \nL 230.186047 224.64 \nL 228.966153 224.64 \nz\n\" clip-path=\"url(#pcb2ae8e8c4)\" style=\"fill: #8dd3c7\"/>\n   </g>\n   <g id=\"patch_59\">\n    <path d=\"M 232.015889 224.64 \nL 233.235783 224.64 \nL 233.235783 224.64 \nL 232.015889 224.64 \nz\n\" clip-path=\"url(#pcb2ae8e8c4)\" style=\"fill: #8dd3c7\"/>\n   </g>\n   <g id=\"patch_60\">\n    <path d=\"M 235.065624 224.64 \nL 236.285519 224.64 \nL 236.285519 224.64 \nL 235.065624 224.64 \nz\n\" clip-path=\"url(#pcb2ae8e8c4)\" style=\"fill: #8dd3c7\"/>\n   </g>\n   <g id=\"patch_61\">\n    <path d=\"M 238.11536 224.64 \nL 239.335255 224.64 \nL 239.335255 224.64 \nL 238.11536 224.64 \nz\n\" clip-path=\"url(#pcb2ae8e8c4)\" style=\"fill: #8dd3c7\"/>\n   </g>\n   <g id=\"patch_62\">\n    <path d=\"M 241.165096 224.64 \nL 242.38499 224.64 \nL 242.38499 224.64 \nL 241.165096 224.64 \nz\n\" clip-path=\"url(#pcb2ae8e8c4)\" style=\"fill: #8dd3c7\"/>\n   </g>\n   <g id=\"patch_63\">\n    <path d=\"M 244.214832 224.64 \nL 245.434726 224.64 \nL 245.434726 224.64 \nL 244.214832 224.64 \nz\n\" clip-path=\"url(#pcb2ae8e8c4)\" style=\"fill: #8dd3c7\"/>\n   </g>\n   <g id=\"patch_64\">\n    <path d=\"M 247.264568 224.64 \nL 248.484462 224.64 \nL 248.484462 224.64 \nL 247.264568 224.64 \nz\n\" clip-path=\"url(#pcb2ae8e8c4)\" style=\"fill: #8dd3c7\"/>\n   </g>\n   <g id=\"patch_65\">\n    <path d=\"M 250.314304 224.64 \nL 251.534198 224.64 \nL 251.534198 224.64 \nL 250.314304 224.64 \nz\n\" clip-path=\"url(#pcb2ae8e8c4)\" style=\"fill: #8dd3c7\"/>\n   </g>\n   <g id=\"patch_66\">\n    <path d=\"M 253.364039 224.64 \nL 254.583934 224.64 \nL 254.583934 224.64 \nL 253.364039 224.64 \nz\n\" clip-path=\"url(#pcb2ae8e8c4)\" style=\"fill: #8dd3c7\"/>\n   </g>\n   <g id=\"patch_67\">\n    <path d=\"M 256.413775 224.64 \nL 257.63367 224.64 \nL 257.63367 224.64 \nL 256.413775 224.64 \nz\n\" clip-path=\"url(#pcb2ae8e8c4)\" style=\"fill: #8dd3c7\"/>\n   </g>\n   <g id=\"patch_68\">\n    <path d=\"M 259.463511 224.64 \nL 260.683405 224.64 \nL 260.683405 224.64 \nL 259.463511 224.64 \nz\n\" clip-path=\"url(#pcb2ae8e8c4)\" style=\"fill: #8dd3c7\"/>\n   </g>\n   <g id=\"patch_69\">\n    <path d=\"M 262.513247 224.64 \nL 263.733141 224.64 \nL 263.733141 224.64 \nL 262.513247 224.64 \nz\n\" clip-path=\"url(#pcb2ae8e8c4)\" style=\"fill: #8dd3c7\"/>\n   </g>\n   <g id=\"patch_70\">\n    <path d=\"M 265.562983 224.64 \nL 266.782877 224.64 \nL 266.782877 224.64 \nL 265.562983 224.64 \nz\n\" clip-path=\"url(#pcb2ae8e8c4)\" style=\"fill: #8dd3c7\"/>\n   </g>\n   <g id=\"patch_71\">\n    <path d=\"M 268.612719 224.64 \nL 269.832613 224.64 \nL 269.832613 224.64 \nL 268.612719 224.64 \nz\n\" clip-path=\"url(#pcb2ae8e8c4)\" style=\"fill: #8dd3c7\"/>\n   </g>\n   <g id=\"patch_72\">\n    <path d=\"M 271.662454 224.64 \nL 272.882349 224.64 \nL 272.882349 224.64 \nL 271.662454 224.64 \nz\n\" clip-path=\"url(#pcb2ae8e8c4)\" style=\"fill: #8dd3c7\"/>\n   </g>\n   <g id=\"patch_73\">\n    <path d=\"M 274.71219 224.64 \nL 275.932085 224.64 \nL 275.932085 224.64 \nL 274.71219 224.64 \nz\n\" clip-path=\"url(#pcb2ae8e8c4)\" style=\"fill: #8dd3c7\"/>\n   </g>\n   <g id=\"patch_74\">\n    <path d=\"M 277.761926 224.64 \nL 278.98182 224.64 \nL 278.98182 224.64 \nL 277.761926 224.64 \nz\n\" clip-path=\"url(#pcb2ae8e8c4)\" style=\"fill: #8dd3c7\"/>\n   </g>\n   <g id=\"patch_75\">\n    <path d=\"M 280.811662 224.64 \nL 282.031556 224.64 \nL 282.031556 224.64 \nL 280.811662 224.64 \nz\n\" clip-path=\"url(#pcb2ae8e8c4)\" style=\"fill: #8dd3c7\"/>\n   </g>\n   <g id=\"patch_76\">\n    <path d=\"M 283.861398 224.64 \nL 285.081292 224.64 \nL 285.081292 224.64 \nL 283.861398 224.64 \nz\n\" clip-path=\"url(#pcb2ae8e8c4)\" style=\"fill: #8dd3c7\"/>\n   </g>\n   <g id=\"patch_77\">\n    <path d=\"M 286.911134 224.64 \nL 288.131028 224.64 \nL 288.131028 224.64 \nL 286.911134 224.64 \nz\n\" clip-path=\"url(#pcb2ae8e8c4)\" style=\"fill: #8dd3c7\"/>\n   </g>\n   <g id=\"patch_78\">\n    <path d=\"M 289.960869 224.64 \nL 291.180764 224.64 \nL 291.180764 224.64 \nL 289.960869 224.64 \nz\n\" clip-path=\"url(#pcb2ae8e8c4)\" style=\"fill: #8dd3c7\"/>\n   </g>\n   <g id=\"patch_79\">\n    <path d=\"M 293.010605 224.64 \nL 294.2305 224.64 \nL 294.2305 224.64 \nL 293.010605 224.64 \nz\n\" clip-path=\"url(#pcb2ae8e8c4)\" style=\"fill: #8dd3c7\"/>\n   </g>\n   <g id=\"patch_80\">\n    <path d=\"M 296.060341 224.64 \nL 297.280235 224.64 \nL 297.280235 224.64 \nL 296.060341 224.64 \nz\n\" clip-path=\"url(#pcb2ae8e8c4)\" style=\"fill: #8dd3c7\"/>\n   </g>\n   <g id=\"patch_81\">\n    <path d=\"M 299.110077 224.64 \nL 300.329971 224.64 \nL 300.329971 224.64 \nL 299.110077 224.64 \nz\n\" clip-path=\"url(#pcb2ae8e8c4)\" style=\"fill: #8dd3c7\"/>\n   </g>\n   <g id=\"patch_82\">\n    <path d=\"M 302.159813 224.64 \nL 303.379707 224.64 \nL 303.379707 224.64 \nL 302.159813 224.64 \nz\n\" clip-path=\"url(#pcb2ae8e8c4)\" style=\"fill: #8dd3c7\"/>\n   </g>\n   <g id=\"patch_83\">\n    <path d=\"M 305.209549 224.64 \nL 306.429443 224.64 \nL 306.429443 224.64 \nL 305.209549 224.64 \nz\n\" clip-path=\"url(#pcb2ae8e8c4)\" style=\"fill: #8dd3c7\"/>\n   </g>\n   <g id=\"patch_84\">\n    <path d=\"M 308.259284 224.64 \nL 309.479179 224.64 \nL 309.479179 224.64 \nL 308.259284 224.64 \nz\n\" clip-path=\"url(#pcb2ae8e8c4)\" style=\"fill: #8dd3c7\"/>\n   </g>\n   <g id=\"patch_85\">\n    <path d=\"M 311.30902 224.64 \nL 312.528915 224.64 \nL 312.528915 224.64 \nL 311.30902 224.64 \nz\n\" clip-path=\"url(#pcb2ae8e8c4)\" style=\"fill: #8dd3c7\"/>\n   </g>\n   <g id=\"patch_86\">\n    <path d=\"M 314.358756 224.64 \nL 315.57865 224.64 \nL 315.57865 224.64 \nL 314.358756 224.64 \nz\n\" clip-path=\"url(#pcb2ae8e8c4)\" style=\"fill: #8dd3c7\"/>\n   </g>\n   <g id=\"patch_87\">\n    <path d=\"M 317.408492 224.64 \nL 318.628386 224.64 \nL 318.628386 224.64 \nL 317.408492 224.64 \nz\n\" clip-path=\"url(#pcb2ae8e8c4)\" style=\"fill: #8dd3c7\"/>\n   </g>\n   <g id=\"patch_88\">\n    <path d=\"M 320.458228 224.64 \nL 321.678122 224.64 \nL 321.678122 224.64 \nL 320.458228 224.64 \nz\n\" clip-path=\"url(#pcb2ae8e8c4)\" style=\"fill: #8dd3c7\"/>\n   </g>\n   <g id=\"patch_89\">\n    <path d=\"M 323.507964 224.64 \nL 324.727858 224.64 \nL 324.727858 224.64 \nL 323.507964 224.64 \nz\n\" clip-path=\"url(#pcb2ae8e8c4)\" style=\"fill: #8dd3c7\"/>\n   </g>\n   <g id=\"patch_90\">\n    <path d=\"M 326.557699 224.64 \nL 327.777594 224.64 \nL 327.777594 224.64 \nL 326.557699 224.64 \nz\n\" clip-path=\"url(#pcb2ae8e8c4)\" style=\"fill: #8dd3c7\"/>\n   </g>\n   <g id=\"patch_91\">\n    <path d=\"M 329.607435 224.64 \nL 330.82733 224.64 \nL 330.82733 224.64 \nL 329.607435 224.64 \nz\n\" clip-path=\"url(#pcb2ae8e8c4)\" style=\"fill: #8dd3c7\"/>\n   </g>\n   <g id=\"patch_92\">\n    <path d=\"M 332.657171 224.64 \nL 333.877065 224.64 \nL 333.877065 224.64 \nL 332.657171 224.64 \nz\n\" clip-path=\"url(#pcb2ae8e8c4)\" style=\"fill: #8dd3c7\"/>\n   </g>\n   <g id=\"patch_93\">\n    <path d=\"M 335.706907 224.64 \nL 336.926801 224.64 \nL 336.926801 224.64 \nL 335.706907 224.64 \nz\n\" clip-path=\"url(#pcb2ae8e8c4)\" style=\"fill: #8dd3c7\"/>\n   </g>\n   <g id=\"patch_94\">\n    <path d=\"M 338.756643 224.64 \nL 339.976537 224.64 \nL 339.976537 224.64 \nL 338.756643 224.64 \nz\n\" clip-path=\"url(#pcb2ae8e8c4)\" style=\"fill: #8dd3c7\"/>\n   </g>\n   <g id=\"patch_95\">\n    <path d=\"M 341.806379 224.64 \nL 343.026273 224.64 \nL 343.026273 224.64 \nL 341.806379 224.64 \nz\n\" clip-path=\"url(#pcb2ae8e8c4)\" style=\"fill: #8dd3c7\"/>\n   </g>\n   <g id=\"patch_96\">\n    <path d=\"M 344.856115 224.64 \nL 346.076009 224.64 \nL 346.076009 224.64 \nL 344.856115 224.64 \nz\n\" clip-path=\"url(#pcb2ae8e8c4)\" style=\"fill: #8dd3c7\"/>\n   </g>\n   <g id=\"patch_97\">\n    <path d=\"M 347.90585 224.64 \nL 349.125745 224.64 \nL 349.125745 224.64 \nL 347.90585 224.64 \nz\n\" clip-path=\"url(#pcb2ae8e8c4)\" style=\"fill: #8dd3c7\"/>\n   </g>\n   <g id=\"patch_98\">\n    <path d=\"M 350.955586 224.64 \nL 352.175481 224.64 \nL 352.175481 224.64 \nL 350.955586 224.64 \nz\n\" clip-path=\"url(#pcb2ae8e8c4)\" style=\"fill: #8dd3c7\"/>\n   </g>\n   <g id=\"patch_99\">\n    <path d=\"M 354.005322 224.64 \nL 355.225216 224.64 \nL 355.225216 224.64 \nL 354.005322 224.64 \nz\n\" clip-path=\"url(#pcb2ae8e8c4)\" style=\"fill: #8dd3c7\"/>\n   </g>\n   <g id=\"patch_100\">\n    <path d=\"M 357.055058 224.64 \nL 358.274952 224.64 \nL 358.274952 224.64 \nL 357.055058 224.64 \nz\n\" clip-path=\"url(#pcb2ae8e8c4)\" style=\"fill: #8dd3c7\"/>\n   </g>\n   <g id=\"patch_101\">\n    <path d=\"M 360.104794 224.64 \nL 361.324688 224.64 \nL 361.324688 224.64 \nL 360.104794 224.64 \nz\n\" clip-path=\"url(#pcb2ae8e8c4)\" style=\"fill: #8dd3c7\"/>\n   </g>\n   <g id=\"patch_102\">\n    <path d=\"M 363.15453 224.64 \nL 364.374424 224.64 \nL 364.374424 224.64 \nL 363.15453 224.64 \nz\n\" clip-path=\"url(#pcb2ae8e8c4)\" style=\"fill: #8dd3c7\"/>\n   </g>\n   <g id=\"patch_103\">\n    <path d=\"M 62.450576 224.64 \nL 63.67047 224.64 \nL 63.67047 224.64 \nL 62.450576 224.64 \nz\n\" clip-path=\"url(#pcb2ae8e8c4)\" style=\"fill: #feffb3\"/>\n   </g>\n   <g id=\"patch_104\">\n    <path d=\"M 65.500312 224.64 \nL 66.720206 224.64 \nL 66.720206 224.64 \nL 65.500312 224.64 \nz\n\" clip-path=\"url(#pcb2ae8e8c4)\" style=\"fill: #feffb3\"/>\n   </g>\n   <g id=\"patch_105\">\n    <path d=\"M 68.550048 224.64 \nL 69.769942 224.64 \nL 69.769942 224.64 \nL 68.550048 224.64 \nz\n\" clip-path=\"url(#pcb2ae8e8c4)\" style=\"fill: #feffb3\"/>\n   </g>\n   <g id=\"patch_106\">\n    <path d=\"M 71.599784 224.64 \nL 72.819678 224.64 \nL 72.819678 224.64 \nL 71.599784 224.64 \nz\n\" clip-path=\"url(#pcb2ae8e8c4)\" style=\"fill: #feffb3\"/>\n   </g>\n   <g id=\"patch_107\">\n    <path d=\"M 74.649519 224.64 \nL 75.869414 224.64 \nL 75.869414 224.64 \nL 74.649519 224.64 \nz\n\" clip-path=\"url(#pcb2ae8e8c4)\" style=\"fill: #feffb3\"/>\n   </g>\n   <g id=\"patch_108\">\n    <path d=\"M 77.699255 224.64 \nL 78.91915 224.64 \nL 78.91915 224.64 \nL 77.699255 224.64 \nz\n\" clip-path=\"url(#pcb2ae8e8c4)\" style=\"fill: #feffb3\"/>\n   </g>\n   <g id=\"patch_109\">\n    <path d=\"M 80.748991 224.64 \nL 81.968885 224.64 \nL 81.968885 224.64 \nL 80.748991 224.64 \nz\n\" clip-path=\"url(#pcb2ae8e8c4)\" style=\"fill: #feffb3\"/>\n   </g>\n   <g id=\"patch_110\">\n    <path d=\"M 83.798727 224.64 \nL 85.018621 224.64 \nL 85.018621 224.64 \nL 83.798727 224.64 \nz\n\" clip-path=\"url(#pcb2ae8e8c4)\" style=\"fill: #feffb3\"/>\n   </g>\n   <g id=\"patch_111\">\n    <path d=\"M 86.848463 224.64 \nL 88.068357 224.64 \nL 88.068357 224.64 \nL 86.848463 224.64 \nz\n\" clip-path=\"url(#pcb2ae8e8c4)\" style=\"fill: #feffb3\"/>\n   </g>\n   <g id=\"patch_112\">\n    <path d=\"M 89.898199 224.64 \nL 91.118093 224.64 \nL 91.118093 224.64 \nL 89.898199 224.64 \nz\n\" clip-path=\"url(#pcb2ae8e8c4)\" style=\"fill: #feffb3\"/>\n   </g>\n   <g id=\"patch_113\">\n    <path d=\"M 92.947935 224.64 \nL 94.167829 224.64 \nL 94.167829 224.64 \nL 92.947935 224.64 \nz\n\" clip-path=\"url(#pcb2ae8e8c4)\" style=\"fill: #feffb3\"/>\n   </g>\n   <g id=\"patch_114\">\n    <path d=\"M 95.99767 224.64 \nL 97.217565 224.64 \nL 97.217565 224.64 \nL 95.99767 224.64 \nz\n\" clip-path=\"url(#pcb2ae8e8c4)\" style=\"fill: #feffb3\"/>\n   </g>\n   <g id=\"patch_115\">\n    <path d=\"M 99.047406 224.64 \nL 100.267301 224.64 \nL 100.267301 224.64 \nL 99.047406 224.64 \nz\n\" clip-path=\"url(#pcb2ae8e8c4)\" style=\"fill: #feffb3\"/>\n   </g>\n   <g id=\"patch_116\">\n    <path d=\"M 102.097142 224.64 \nL 103.317036 224.64 \nL 103.317036 224.64 \nL 102.097142 224.64 \nz\n\" clip-path=\"url(#pcb2ae8e8c4)\" style=\"fill: #feffb3\"/>\n   </g>\n   <g id=\"patch_117\">\n    <path d=\"M 105.146878 224.64 \nL 106.366772 224.64 \nL 106.366772 224.64 \nL 105.146878 224.64 \nz\n\" clip-path=\"url(#pcb2ae8e8c4)\" style=\"fill: #feffb3\"/>\n   </g>\n   <g id=\"patch_118\">\n    <path d=\"M 108.196614 224.64 \nL 109.416508 224.64 \nL 109.416508 224.64 \nL 108.196614 224.64 \nz\n\" clip-path=\"url(#pcb2ae8e8c4)\" style=\"fill: #feffb3\"/>\n   </g>\n   <g id=\"patch_119\">\n    <path d=\"M 111.24635 224.64 \nL 112.466244 224.64 \nL 112.466244 224.64 \nL 111.24635 224.64 \nz\n\" clip-path=\"url(#pcb2ae8e8c4)\" style=\"fill: #feffb3\"/>\n   </g>\n   <g id=\"patch_120\">\n    <path d=\"M 114.296085 224.64 \nL 115.51598 224.64 \nL 115.51598 224.64 \nL 114.296085 224.64 \nz\n\" clip-path=\"url(#pcb2ae8e8c4)\" style=\"fill: #feffb3\"/>\n   </g>\n   <g id=\"patch_121\">\n    <path d=\"M 117.345821 224.64 \nL 118.565716 224.64 \nL 118.565716 224.64 \nL 117.345821 224.64 \nz\n\" clip-path=\"url(#pcb2ae8e8c4)\" style=\"fill: #feffb3\"/>\n   </g>\n   <g id=\"patch_122\">\n    <path d=\"M 120.395557 224.64 \nL 121.615451 224.64 \nL 121.615451 224.64 \nL 120.395557 224.64 \nz\n\" clip-path=\"url(#pcb2ae8e8c4)\" style=\"fill: #feffb3\"/>\n   </g>\n   <g id=\"patch_123\">\n    <path d=\"M 123.445293 224.64 \nL 124.665187 224.64 \nL 124.665187 34.442692 \nL 123.445293 34.442692 \nz\n\" clip-path=\"url(#pcb2ae8e8c4)\" style=\"fill: #feffb3\"/>\n   </g>\n   <g id=\"patch_124\">\n    <path d=\"M 126.495029 224.64 \nL 127.714923 224.64 \nL 127.714923 224.64 \nL 126.495029 224.64 \nz\n\" clip-path=\"url(#pcb2ae8e8c4)\" style=\"fill: #feffb3\"/>\n   </g>\n   <g id=\"patch_125\">\n    <path d=\"M 129.544765 224.64 \nL 130.764659 224.64 \nL 130.764659 224.64 \nL 129.544765 224.64 \nz\n\" clip-path=\"url(#pcb2ae8e8c4)\" style=\"fill: #feffb3\"/>\n   </g>\n   <g id=\"patch_126\">\n    <path d=\"M 132.5945 224.64 \nL 133.814395 224.64 \nL 133.814395 224.64 \nL 132.5945 224.64 \nz\n\" clip-path=\"url(#pcb2ae8e8c4)\" style=\"fill: #feffb3\"/>\n   </g>\n   <g id=\"patch_127\">\n    <path d=\"M 135.644236 224.64 \nL 136.864131 224.64 \nL 136.864131 224.64 \nL 135.644236 224.64 \nz\n\" clip-path=\"url(#pcb2ae8e8c4)\" style=\"fill: #feffb3\"/>\n   </g>\n   <g id=\"patch_128\">\n    <path d=\"M 138.693972 224.64 \nL 139.913866 224.64 \nL 139.913866 224.64 \nL 138.693972 224.64 \nz\n\" clip-path=\"url(#pcb2ae8e8c4)\" style=\"fill: #feffb3\"/>\n   </g>\n   <g id=\"patch_129\">\n    <path d=\"M 141.743708 224.64 \nL 142.963602 224.64 \nL 142.963602 224.64 \nL 141.743708 224.64 \nz\n\" clip-path=\"url(#pcb2ae8e8c4)\" style=\"fill: #feffb3\"/>\n   </g>\n   <g id=\"patch_130\">\n    <path d=\"M 144.793444 224.64 \nL 146.013338 224.64 \nL 146.013338 224.64 \nL 144.793444 224.64 \nz\n\" clip-path=\"url(#pcb2ae8e8c4)\" style=\"fill: #feffb3\"/>\n   </g>\n   <g id=\"patch_131\">\n    <path d=\"M 147.84318 224.64 \nL 149.063074 224.64 \nL 149.063074 224.64 \nL 147.84318 224.64 \nz\n\" clip-path=\"url(#pcb2ae8e8c4)\" style=\"fill: #feffb3\"/>\n   </g>\n   <g id=\"patch_132\">\n    <path d=\"M 150.892915 224.64 \nL 152.11281 224.64 \nL 152.11281 224.64 \nL 150.892915 224.64 \nz\n\" clip-path=\"url(#pcb2ae8e8c4)\" style=\"fill: #feffb3\"/>\n   </g>\n   <g id=\"patch_133\">\n    <path d=\"M 153.942651 224.64 \nL 155.162546 224.64 \nL 155.162546 224.64 \nL 153.942651 224.64 \nz\n\" clip-path=\"url(#pcb2ae8e8c4)\" style=\"fill: #feffb3\"/>\n   </g>\n   <g id=\"patch_134\">\n    <path d=\"M 156.992387 224.64 \nL 158.212281 224.64 \nL 158.212281 207.795665 \nL 156.992387 207.795665 \nz\n\" clip-path=\"url(#pcb2ae8e8c4)\" style=\"fill: #feffb3\"/>\n   </g>\n   <g id=\"patch_135\">\n    <path d=\"M 160.042123 224.64 \nL 161.262017 224.64 \nL 161.262017 224.64 \nL 160.042123 224.64 \nz\n\" clip-path=\"url(#pcb2ae8e8c4)\" style=\"fill: #feffb3\"/>\n   </g>\n   <g id=\"patch_136\">\n    <path d=\"M 163.091859 224.64 \nL 164.311753 224.64 \nL 164.311753 224.64 \nL 163.091859 224.64 \nz\n\" clip-path=\"url(#pcb2ae8e8c4)\" style=\"fill: #feffb3\"/>\n   </g>\n   <g id=\"patch_137\">\n    <path d=\"M 166.141595 224.64 \nL 167.361489 224.64 \nL 167.361489 224.64 \nL 166.141595 224.64 \nz\n\" clip-path=\"url(#pcb2ae8e8c4)\" style=\"fill: #feffb3\"/>\n   </g>\n   <g id=\"patch_138\">\n    <path d=\"M 169.19133 224.64 \nL 170.411225 224.64 \nL 170.411225 224.64 \nL 169.19133 224.64 \nz\n\" clip-path=\"url(#pcb2ae8e8c4)\" style=\"fill: #feffb3\"/>\n   </g>\n   <g id=\"patch_139\">\n    <path d=\"M 172.241066 224.64 \nL 173.460961 224.64 \nL 173.460961 224.64 \nL 172.241066 224.64 \nz\n\" clip-path=\"url(#pcb2ae8e8c4)\" style=\"fill: #feffb3\"/>\n   </g>\n   <g id=\"patch_140\">\n    <path d=\"M 175.290802 224.64 \nL 176.510696 224.64 \nL 176.510696 224.64 \nL 175.290802 224.64 \nz\n\" clip-path=\"url(#pcb2ae8e8c4)\" style=\"fill: #feffb3\"/>\n   </g>\n   <g id=\"patch_141\">\n    <path d=\"M 178.340538 224.64 \nL 179.560432 224.64 \nL 179.560432 224.64 \nL 178.340538 224.64 \nz\n\" clip-path=\"url(#pcb2ae8e8c4)\" style=\"fill: #feffb3\"/>\n   </g>\n   <g id=\"patch_142\">\n    <path d=\"M 181.390274 224.64 \nL 182.610168 224.64 \nL 182.610168 224.64 \nL 181.390274 224.64 \nz\n\" clip-path=\"url(#pcb2ae8e8c4)\" style=\"fill: #feffb3\"/>\n   </g>\n   <g id=\"patch_143\">\n    <path d=\"M 184.44001 224.64 \nL 185.659904 224.64 \nL 185.659904 224.64 \nL 184.44001 224.64 \nz\n\" clip-path=\"url(#pcb2ae8e8c4)\" style=\"fill: #feffb3\"/>\n   </g>\n   <g id=\"patch_144\">\n    <path d=\"M 187.489745 224.64 \nL 188.70964 224.64 \nL 188.70964 224.64 \nL 187.489745 224.64 \nz\n\" clip-path=\"url(#pcb2ae8e8c4)\" style=\"fill: #feffb3\"/>\n   </g>\n   <g id=\"patch_145\">\n    <path d=\"M 190.539481 224.64 \nL 191.759376 224.64 \nL 191.759376 224.64 \nL 190.539481 224.64 \nz\n\" clip-path=\"url(#pcb2ae8e8c4)\" style=\"fill: #feffb3\"/>\n   </g>\n   <g id=\"patch_146\">\n    <path d=\"M 193.589217 224.64 \nL 194.809111 224.64 \nL 194.809111 224.64 \nL 193.589217 224.64 \nz\n\" clip-path=\"url(#pcb2ae8e8c4)\" style=\"fill: #feffb3\"/>\n   </g>\n   <g id=\"patch_147\">\n    <path d=\"M 196.638953 224.64 \nL 197.858847 224.64 \nL 197.858847 224.64 \nL 196.638953 224.64 \nz\n\" clip-path=\"url(#pcb2ae8e8c4)\" style=\"fill: #feffb3\"/>\n   </g>\n   <g id=\"patch_148\">\n    <path d=\"M 199.688689 224.64 \nL 200.908583 224.64 \nL 200.908583 224.64 \nL 199.688689 224.64 \nz\n\" clip-path=\"url(#pcb2ae8e8c4)\" style=\"fill: #feffb3\"/>\n   </g>\n   <g id=\"patch_149\">\n    <path d=\"M 202.738425 224.64 \nL 203.958319 224.64 \nL 203.958319 224.64 \nL 202.738425 224.64 \nz\n\" clip-path=\"url(#pcb2ae8e8c4)\" style=\"fill: #feffb3\"/>\n   </g>\n   <g id=\"patch_150\">\n    <path d=\"M 205.78816 224.64 \nL 207.008055 224.64 \nL 207.008055 224.64 \nL 205.78816 224.64 \nz\n\" clip-path=\"url(#pcb2ae8e8c4)\" style=\"fill: #feffb3\"/>\n   </g>\n   <g id=\"patch_151\">\n    <path d=\"M 208.837896 224.64 \nL 210.057791 224.64 \nL 210.057791 224.64 \nL 208.837896 224.64 \nz\n\" clip-path=\"url(#pcb2ae8e8c4)\" style=\"fill: #feffb3\"/>\n   </g>\n   <g id=\"patch_152\">\n    <path d=\"M 211.887632 224.64 \nL 213.107526 224.64 \nL 213.107526 224.64 \nL 211.887632 224.64 \nz\n\" clip-path=\"url(#pcb2ae8e8c4)\" style=\"fill: #feffb3\"/>\n   </g>\n   <g id=\"patch_153\">\n    <path d=\"M 214.937368 224.64 \nL 216.157262 224.64 \nL 216.157262 224.64 \nL 214.937368 224.64 \nz\n\" clip-path=\"url(#pcb2ae8e8c4)\" style=\"fill: #feffb3\"/>\n   </g>\n   <g id=\"patch_154\">\n    <path d=\"M 217.987104 224.64 \nL 219.206998 224.64 \nL 219.206998 224.64 \nL 217.987104 224.64 \nz\n\" clip-path=\"url(#pcb2ae8e8c4)\" style=\"fill: #feffb3\"/>\n   </g>\n   <g id=\"patch_155\">\n    <path d=\"M 221.03684 224.64 \nL 222.256734 224.64 \nL 222.256734 224.64 \nL 221.03684 224.64 \nz\n\" clip-path=\"url(#pcb2ae8e8c4)\" style=\"fill: #feffb3\"/>\n   </g>\n   <g id=\"patch_156\">\n    <path d=\"M 224.086575 224.64 \nL 225.30647 224.64 \nL 225.30647 224.64 \nL 224.086575 224.64 \nz\n\" clip-path=\"url(#pcb2ae8e8c4)\" style=\"fill: #feffb3\"/>\n   </g>\n   <g id=\"patch_157\">\n    <path d=\"M 227.136311 224.64 \nL 228.356206 224.64 \nL 228.356206 224.64 \nL 227.136311 224.64 \nz\n\" clip-path=\"url(#pcb2ae8e8c4)\" style=\"fill: #feffb3\"/>\n   </g>\n   <g id=\"patch_158\">\n    <path d=\"M 230.186047 224.64 \nL 231.405941 224.64 \nL 231.405941 224.64 \nL 230.186047 224.64 \nz\n\" clip-path=\"url(#pcb2ae8e8c4)\" style=\"fill: #feffb3\"/>\n   </g>\n   <g id=\"patch_159\">\n    <path d=\"M 233.235783 224.64 \nL 234.455677 224.64 \nL 234.455677 224.64 \nL 233.235783 224.64 \nz\n\" clip-path=\"url(#pcb2ae8e8c4)\" style=\"fill: #feffb3\"/>\n   </g>\n   <g id=\"patch_160\">\n    <path d=\"M 236.285519 224.64 \nL 237.505413 224.64 \nL 237.505413 224.64 \nL 236.285519 224.64 \nz\n\" clip-path=\"url(#pcb2ae8e8c4)\" style=\"fill: #feffb3\"/>\n   </g>\n   <g id=\"patch_161\">\n    <path d=\"M 239.335255 224.64 \nL 240.555149 224.64 \nL 240.555149 224.64 \nL 239.335255 224.64 \nz\n\" clip-path=\"url(#pcb2ae8e8c4)\" style=\"fill: #feffb3\"/>\n   </g>\n   <g id=\"patch_162\">\n    <path d=\"M 242.38499 224.64 \nL 243.604885 224.64 \nL 243.604885 224.64 \nL 242.38499 224.64 \nz\n\" clip-path=\"url(#pcb2ae8e8c4)\" style=\"fill: #feffb3\"/>\n   </g>\n   <g id=\"patch_163\">\n    <path d=\"M 245.434726 224.64 \nL 246.654621 224.64 \nL 246.654621 224.64 \nL 245.434726 224.64 \nz\n\" clip-path=\"url(#pcb2ae8e8c4)\" style=\"fill: #feffb3\"/>\n   </g>\n   <g id=\"patch_164\">\n    <path d=\"M 248.484462 224.64 \nL 249.704356 224.64 \nL 249.704356 224.64 \nL 248.484462 224.64 \nz\n\" clip-path=\"url(#pcb2ae8e8c4)\" style=\"fill: #feffb3\"/>\n   </g>\n   <g id=\"patch_165\">\n    <path d=\"M 251.534198 224.64 \nL 252.754092 224.64 \nL 252.754092 224.64 \nL 251.534198 224.64 \nz\n\" clip-path=\"url(#pcb2ae8e8c4)\" style=\"fill: #feffb3\"/>\n   </g>\n   <g id=\"patch_166\">\n    <path d=\"M 254.583934 224.64 \nL 255.803828 224.64 \nL 255.803828 224.64 \nL 254.583934 224.64 \nz\n\" clip-path=\"url(#pcb2ae8e8c4)\" style=\"fill: #feffb3\"/>\n   </g>\n   <g id=\"patch_167\">\n    <path d=\"M 257.63367 224.64 \nL 258.853564 224.64 \nL 258.853564 224.64 \nL 257.63367 224.64 \nz\n\" clip-path=\"url(#pcb2ae8e8c4)\" style=\"fill: #feffb3\"/>\n   </g>\n   <g id=\"patch_168\">\n    <path d=\"M 260.683405 224.64 \nL 261.9033 224.64 \nL 261.9033 224.64 \nL 260.683405 224.64 \nz\n\" clip-path=\"url(#pcb2ae8e8c4)\" style=\"fill: #feffb3\"/>\n   </g>\n   <g id=\"patch_169\">\n    <path d=\"M 263.733141 224.64 \nL 264.953036 224.64 \nL 264.953036 224.64 \nL 263.733141 224.64 \nz\n\" clip-path=\"url(#pcb2ae8e8c4)\" style=\"fill: #feffb3\"/>\n   </g>\n   <g id=\"patch_170\">\n    <path d=\"M 266.782877 224.64 \nL 268.002771 224.64 \nL 268.002771 224.64 \nL 266.782877 224.64 \nz\n\" clip-path=\"url(#pcb2ae8e8c4)\" style=\"fill: #feffb3\"/>\n   </g>\n   <g id=\"patch_171\">\n    <path d=\"M 269.832613 224.64 \nL 271.052507 224.64 \nL 271.052507 224.64 \nL 269.832613 224.64 \nz\n\" clip-path=\"url(#pcb2ae8e8c4)\" style=\"fill: #feffb3\"/>\n   </g>\n   <g id=\"patch_172\">\n    <path d=\"M 272.882349 224.64 \nL 274.102243 224.64 \nL 274.102243 224.64 \nL 272.882349 224.64 \nz\n\" clip-path=\"url(#pcb2ae8e8c4)\" style=\"fill: #feffb3\"/>\n   </g>\n   <g id=\"patch_173\">\n    <path d=\"M 275.932085 224.64 \nL 277.151979 224.64 \nL 277.151979 224.64 \nL 275.932085 224.64 \nz\n\" clip-path=\"url(#pcb2ae8e8c4)\" style=\"fill: #feffb3\"/>\n   </g>\n   <g id=\"patch_174\">\n    <path d=\"M 278.98182 224.64 \nL 280.201715 224.64 \nL 280.201715 224.64 \nL 278.98182 224.64 \nz\n\" clip-path=\"url(#pcb2ae8e8c4)\" style=\"fill: #feffb3\"/>\n   </g>\n   <g id=\"patch_175\">\n    <path d=\"M 282.031556 224.64 \nL 283.251451 224.64 \nL 283.251451 224.64 \nL 282.031556 224.64 \nz\n\" clip-path=\"url(#pcb2ae8e8c4)\" style=\"fill: #feffb3\"/>\n   </g>\n   <g id=\"patch_176\">\n    <path d=\"M 285.081292 224.64 \nL 286.301186 224.64 \nL 286.301186 224.64 \nL 285.081292 224.64 \nz\n\" clip-path=\"url(#pcb2ae8e8c4)\" style=\"fill: #feffb3\"/>\n   </g>\n   <g id=\"patch_177\">\n    <path d=\"M 288.131028 224.64 \nL 289.350922 224.64 \nL 289.350922 224.64 \nL 288.131028 224.64 \nz\n\" clip-path=\"url(#pcb2ae8e8c4)\" style=\"fill: #feffb3\"/>\n   </g>\n   <g id=\"patch_178\">\n    <path d=\"M 291.180764 224.64 \nL 292.400658 224.64 \nL 292.400658 224.64 \nL 291.180764 224.64 \nz\n\" clip-path=\"url(#pcb2ae8e8c4)\" style=\"fill: #feffb3\"/>\n   </g>\n   <g id=\"patch_179\">\n    <path d=\"M 294.2305 224.64 \nL 295.450394 224.64 \nL 295.450394 224.64 \nL 294.2305 224.64 \nz\n\" clip-path=\"url(#pcb2ae8e8c4)\" style=\"fill: #feffb3\"/>\n   </g>\n   <g id=\"patch_180\">\n    <path d=\"M 297.280235 224.64 \nL 298.50013 224.64 \nL 298.50013 224.64 \nL 297.280235 224.64 \nz\n\" clip-path=\"url(#pcb2ae8e8c4)\" style=\"fill: #feffb3\"/>\n   </g>\n   <g id=\"patch_181\">\n    <path d=\"M 300.329971 224.64 \nL 301.549866 224.64 \nL 301.549866 224.64 \nL 300.329971 224.64 \nz\n\" clip-path=\"url(#pcb2ae8e8c4)\" style=\"fill: #feffb3\"/>\n   </g>\n   <g id=\"patch_182\">\n    <path d=\"M 303.379707 224.64 \nL 304.599601 224.64 \nL 304.599601 224.64 \nL 303.379707 224.64 \nz\n\" clip-path=\"url(#pcb2ae8e8c4)\" style=\"fill: #feffb3\"/>\n   </g>\n   <g id=\"patch_183\">\n    <path d=\"M 306.429443 224.64 \nL 307.649337 224.64 \nL 307.649337 224.64 \nL 306.429443 224.64 \nz\n\" clip-path=\"url(#pcb2ae8e8c4)\" style=\"fill: #feffb3\"/>\n   </g>\n   <g id=\"patch_184\">\n    <path d=\"M 309.479179 224.64 \nL 310.699073 224.64 \nL 310.699073 224.64 \nL 309.479179 224.64 \nz\n\" clip-path=\"url(#pcb2ae8e8c4)\" style=\"fill: #feffb3\"/>\n   </g>\n   <g id=\"patch_185\">\n    <path d=\"M 312.528915 224.64 \nL 313.748809 224.64 \nL 313.748809 224.64 \nL 312.528915 224.64 \nz\n\" clip-path=\"url(#pcb2ae8e8c4)\" style=\"fill: #feffb3\"/>\n   </g>\n   <g id=\"patch_186\">\n    <path d=\"M 315.57865 224.64 \nL 316.798545 224.64 \nL 316.798545 224.64 \nL 315.57865 224.64 \nz\n\" clip-path=\"url(#pcb2ae8e8c4)\" style=\"fill: #feffb3\"/>\n   </g>\n   <g id=\"patch_187\">\n    <path d=\"M 318.628386 224.64 \nL 319.848281 224.64 \nL 319.848281 224.64 \nL 318.628386 224.64 \nz\n\" clip-path=\"url(#pcb2ae8e8c4)\" style=\"fill: #feffb3\"/>\n   </g>\n   <g id=\"patch_188\">\n    <path d=\"M 321.678122 224.64 \nL 322.898016 224.64 \nL 322.898016 224.64 \nL 321.678122 224.64 \nz\n\" clip-path=\"url(#pcb2ae8e8c4)\" style=\"fill: #feffb3\"/>\n   </g>\n   <g id=\"patch_189\">\n    <path d=\"M 324.727858 224.64 \nL 325.947752 224.64 \nL 325.947752 224.64 \nL 324.727858 224.64 \nz\n\" clip-path=\"url(#pcb2ae8e8c4)\" style=\"fill: #feffb3\"/>\n   </g>\n   <g id=\"patch_190\">\n    <path d=\"M 327.777594 224.64 \nL 328.997488 224.64 \nL 328.997488 224.64 \nL 327.777594 224.64 \nz\n\" clip-path=\"url(#pcb2ae8e8c4)\" style=\"fill: #feffb3\"/>\n   </g>\n   <g id=\"patch_191\">\n    <path d=\"M 330.82733 224.64 \nL 332.047224 224.64 \nL 332.047224 224.64 \nL 330.82733 224.64 \nz\n\" clip-path=\"url(#pcb2ae8e8c4)\" style=\"fill: #feffb3\"/>\n   </g>\n   <g id=\"patch_192\">\n    <path d=\"M 333.877065 224.64 \nL 335.09696 224.64 \nL 335.09696 224.64 \nL 333.877065 224.64 \nz\n\" clip-path=\"url(#pcb2ae8e8c4)\" style=\"fill: #feffb3\"/>\n   </g>\n   <g id=\"patch_193\">\n    <path d=\"M 336.926801 224.64 \nL 338.146696 224.64 \nL 338.146696 224.64 \nL 336.926801 224.64 \nz\n\" clip-path=\"url(#pcb2ae8e8c4)\" style=\"fill: #feffb3\"/>\n   </g>\n   <g id=\"patch_194\">\n    <path d=\"M 339.976537 224.64 \nL 341.196431 224.64 \nL 341.196431 224.64 \nL 339.976537 224.64 \nz\n\" clip-path=\"url(#pcb2ae8e8c4)\" style=\"fill: #feffb3\"/>\n   </g>\n   <g id=\"patch_195\">\n    <path d=\"M 343.026273 224.64 \nL 344.246167 224.64 \nL 344.246167 224.64 \nL 343.026273 224.64 \nz\n\" clip-path=\"url(#pcb2ae8e8c4)\" style=\"fill: #feffb3\"/>\n   </g>\n   <g id=\"patch_196\">\n    <path d=\"M 346.076009 224.64 \nL 347.295903 224.64 \nL 347.295903 224.64 \nL 346.076009 224.64 \nz\n\" clip-path=\"url(#pcb2ae8e8c4)\" style=\"fill: #feffb3\"/>\n   </g>\n   <g id=\"patch_197\">\n    <path d=\"M 349.125745 224.64 \nL 350.345639 224.64 \nL 350.345639 224.64 \nL 349.125745 224.64 \nz\n\" clip-path=\"url(#pcb2ae8e8c4)\" style=\"fill: #feffb3\"/>\n   </g>\n   <g id=\"patch_198\">\n    <path d=\"M 352.175481 224.64 \nL 353.395375 224.64 \nL 353.395375 224.64 \nL 352.175481 224.64 \nz\n\" clip-path=\"url(#pcb2ae8e8c4)\" style=\"fill: #feffb3\"/>\n   </g>\n   <g id=\"patch_199\">\n    <path d=\"M 355.225216 224.64 \nL 356.445111 224.64 \nL 356.445111 224.64 \nL 355.225216 224.64 \nz\n\" clip-path=\"url(#pcb2ae8e8c4)\" style=\"fill: #feffb3\"/>\n   </g>\n   <g id=\"patch_200\">\n    <path d=\"M 358.274952 224.64 \nL 359.494847 224.64 \nL 359.494847 224.64 \nL 358.274952 224.64 \nz\n\" clip-path=\"url(#pcb2ae8e8c4)\" style=\"fill: #feffb3\"/>\n   </g>\n   <g id=\"patch_201\">\n    <path d=\"M 361.324688 224.64 \nL 362.544582 224.64 \nL 362.544582 224.64 \nL 361.324688 224.64 \nz\n\" clip-path=\"url(#pcb2ae8e8c4)\" style=\"fill: #feffb3\"/>\n   </g>\n   <g id=\"patch_202\">\n    <path d=\"M 364.374424 224.64 \nL 365.594318 224.64 \nL 365.594318 224.595928 \nL 364.374424 224.595928 \nz\n\" clip-path=\"url(#pcb2ae8e8c4)\" style=\"fill: #feffb3\"/>\n   </g>\n   <g id=\"matplotlib.axis_1\">\n    <g id=\"xtick_1\">\n     <g id=\"line2d_1\">\n      <defs>\n       <path id=\"m6a0c9aa23f\" d=\"M 0 0 \nL 0 3.5 \n\" style=\"stroke: #ffffff; stroke-width: 0.8\"/>\n      </defs>\n      <g>\n       <use xlink:href=\"#m6a0c9aa23f\" x=\"60.925643\" y=\"224.64\" style=\"fill: #ffffff; stroke: #ffffff; stroke-width: 0.8\"/>\n      </g>\n     </g>\n     <g id=\"text_1\">\n      <!-- 0 -->\n      <g style=\"fill: #ffffff\" transform=\"translate(57.744393 239.238437)scale(0.1 -0.1)\">\n       <defs>\n        <path id=\"DejaVuSans-30\" d=\"M 2034 4250 \nQ 1547 4250 1301 3770 \nQ 1056 3291 1056 2328 \nQ 1056 1369 1301 889 \nQ 1547 409 2034 409 \nQ 2525 409 2770 889 \nQ 3016 1369 3016 2328 \nQ 3016 3291 2770 3770 \nQ 2525 4250 2034 4250 \nz\nM 2034 4750 \nQ 2819 4750 3233 4129 \nQ 3647 3509 3647 2328 \nQ 3647 1150 3233 529 \nQ 2819 -91 2034 -91 \nQ 1250 -91 836 529 \nQ 422 1150 422 2328 \nQ 422 3509 836 4129 \nQ 1250 4750 2034 4750 \nz\n\" transform=\"scale(0.015625)\"/>\n       </defs>\n       <use xlink:href=\"#DejaVuSans-30\"/>\n      </g>\n     </g>\n    </g>\n    <g id=\"xtick_2\">\n     <g id=\"line2d_2\">\n      <g>\n       <use xlink:href=\"#m6a0c9aa23f\" x=\"125.130621\" y=\"224.64\" style=\"fill: #ffffff; stroke: #ffffff; stroke-width: 0.8\"/>\n      </g>\n     </g>\n     <g id=\"text_2\">\n      <!-- 2 -->\n      <g style=\"fill: #ffffff\" transform=\"translate(121.949371 239.238437)scale(0.1 -0.1)\">\n       <defs>\n        <path id=\"DejaVuSans-32\" d=\"M 1228 531 \nL 3431 531 \nL 3431 0 \nL 469 0 \nL 469 531 \nQ 828 903 1448 1529 \nQ 2069 2156 2228 2338 \nQ 2531 2678 2651 2914 \nQ 2772 3150 2772 3378 \nQ 2772 3750 2511 3984 \nQ 2250 4219 1831 4219 \nQ 1534 4219 1204 4116 \nQ 875 4013 500 3803 \nL 500 4441 \nQ 881 4594 1212 4672 \nQ 1544 4750 1819 4750 \nQ 2544 4750 2975 4387 \nQ 3406 4025 3406 3419 \nQ 3406 3131 3298 2873 \nQ 3191 2616 2906 2266 \nQ 2828 2175 2409 1742 \nQ 1991 1309 1228 531 \nz\n\" transform=\"scale(0.015625)\"/>\n       </defs>\n       <use xlink:href=\"#DejaVuSans-32\"/>\n      </g>\n     </g>\n    </g>\n    <g id=\"xtick_3\">\n     <g id=\"line2d_3\">\n      <g>\n       <use xlink:href=\"#m6a0c9aa23f\" x=\"189.335599\" y=\"224.64\" style=\"fill: #ffffff; stroke: #ffffff; stroke-width: 0.8\"/>\n      </g>\n     </g>\n     <g id=\"text_3\">\n      <!-- 4 -->\n      <g style=\"fill: #ffffff\" transform=\"translate(186.154349 239.238437)scale(0.1 -0.1)\">\n       <defs>\n        <path id=\"DejaVuSans-34\" d=\"M 2419 4116 \nL 825 1625 \nL 2419 1625 \nL 2419 4116 \nz\nM 2253 4666 \nL 3047 4666 \nL 3047 1625 \nL 3713 1625 \nL 3713 1100 \nL 3047 1100 \nL 3047 0 \nL 2419 0 \nL 2419 1100 \nL 313 1100 \nL 313 1709 \nL 2253 4666 \nz\n\" transform=\"scale(0.015625)\"/>\n       </defs>\n       <use xlink:href=\"#DejaVuSans-34\"/>\n      </g>\n     </g>\n    </g>\n    <g id=\"xtick_4\">\n     <g id=\"line2d_4\">\n      <g>\n       <use xlink:href=\"#m6a0c9aa23f\" x=\"253.540577\" y=\"224.64\" style=\"fill: #ffffff; stroke: #ffffff; stroke-width: 0.8\"/>\n      </g>\n     </g>\n     <g id=\"text_4\">\n      <!-- 6 -->\n      <g style=\"fill: #ffffff\" transform=\"translate(250.359327 239.238437)scale(0.1 -0.1)\">\n       <defs>\n        <path id=\"DejaVuSans-36\" d=\"M 2113 2584 \nQ 1688 2584 1439 2293 \nQ 1191 2003 1191 1497 \nQ 1191 994 1439 701 \nQ 1688 409 2113 409 \nQ 2538 409 2786 701 \nQ 3034 994 3034 1497 \nQ 3034 2003 2786 2293 \nQ 2538 2584 2113 2584 \nz\nM 3366 4563 \nL 3366 3988 \nQ 3128 4100 2886 4159 \nQ 2644 4219 2406 4219 \nQ 1781 4219 1451 3797 \nQ 1122 3375 1075 2522 \nQ 1259 2794 1537 2939 \nQ 1816 3084 2150 3084 \nQ 2853 3084 3261 2657 \nQ 3669 2231 3669 1497 \nQ 3669 778 3244 343 \nQ 2819 -91 2113 -91 \nQ 1303 -91 875 529 \nQ 447 1150 447 2328 \nQ 447 3434 972 4092 \nQ 1497 4750 2381 4750 \nQ 2619 4750 2861 4703 \nQ 3103 4656 3366 4563 \nz\n\" transform=\"scale(0.015625)\"/>\n       </defs>\n       <use xlink:href=\"#DejaVuSans-36\"/>\n      </g>\n     </g>\n    </g>\n    <g id=\"xtick_5\">\n     <g id=\"line2d_5\">\n      <g>\n       <use xlink:href=\"#m6a0c9aa23f\" x=\"317.745554\" y=\"224.64\" style=\"fill: #ffffff; stroke: #ffffff; stroke-width: 0.8\"/>\n      </g>\n     </g>\n     <g id=\"text_5\">\n      <!-- 8 -->\n      <g style=\"fill: #ffffff\" transform=\"translate(314.564304 239.238437)scale(0.1 -0.1)\">\n       <defs>\n        <path id=\"DejaVuSans-38\" d=\"M 2034 2216 \nQ 1584 2216 1326 1975 \nQ 1069 1734 1069 1313 \nQ 1069 891 1326 650 \nQ 1584 409 2034 409 \nQ 2484 409 2743 651 \nQ 3003 894 3003 1313 \nQ 3003 1734 2745 1975 \nQ 2488 2216 2034 2216 \nz\nM 1403 2484 \nQ 997 2584 770 2862 \nQ 544 3141 544 3541 \nQ 544 4100 942 4425 \nQ 1341 4750 2034 4750 \nQ 2731 4750 3128 4425 \nQ 3525 4100 3525 3541 \nQ 3525 3141 3298 2862 \nQ 3072 2584 2669 2484 \nQ 3125 2378 3379 2068 \nQ 3634 1759 3634 1313 \nQ 3634 634 3220 271 \nQ 2806 -91 2034 -91 \nQ 1263 -91 848 271 \nQ 434 634 434 1313 \nQ 434 1759 690 2068 \nQ 947 2378 1403 2484 \nz\nM 1172 3481 \nQ 1172 3119 1398 2916 \nQ 1625 2713 2034 2713 \nQ 2441 2713 2670 2916 \nQ 2900 3119 2900 3481 \nQ 2900 3844 2670 4047 \nQ 2441 4250 2034 4250 \nQ 1625 4250 1398 4047 \nQ 1172 3844 1172 3481 \nz\n\" transform=\"scale(0.015625)\"/>\n       </defs>\n       <use xlink:href=\"#DejaVuSans-38\"/>\n      </g>\n     </g>\n    </g>\n    <g id=\"text_6\">\n     <!-- 1e9 -->\n     <g style=\"fill: #ffffff\" transform=\"translate(361.934375 251.916562)scale(0.1 -0.1)\">\n      <defs>\n       <path id=\"DejaVuSans-31\" d=\"M 794 531 \nL 1825 531 \nL 1825 4091 \nL 703 3866 \nL 703 4441 \nL 1819 4666 \nL 2450 4666 \nL 2450 531 \nL 3481 531 \nL 3481 0 \nL 794 0 \nL 794 531 \nz\n\" transform=\"scale(0.015625)\"/>\n       <path id=\"DejaVuSans-65\" d=\"M 3597 1894 \nL 3597 1613 \nL 953 1613 \nQ 991 1019 1311 708 \nQ 1631 397 2203 397 \nQ 2534 397 2845 478 \nQ 3156 559 3463 722 \nL 3463 178 \nQ 3153 47 2828 -22 \nQ 2503 -91 2169 -91 \nQ 1331 -91 842 396 \nQ 353 884 353 1716 \nQ 353 2575 817 3079 \nQ 1281 3584 2069 3584 \nQ 2775 3584 3186 3129 \nQ 3597 2675 3597 1894 \nz\nM 3022 2063 \nQ 3016 2534 2758 2815 \nQ 2500 3097 2075 3097 \nQ 1594 3097 1305 2825 \nQ 1016 2553 972 2059 \nL 3022 2063 \nz\n\" transform=\"scale(0.015625)\"/>\n       <path id=\"DejaVuSans-39\" d=\"M 703 97 \nL 703 672 \nQ 941 559 1184 500 \nQ 1428 441 1663 441 \nQ 2288 441 2617 861 \nQ 2947 1281 2994 2138 \nQ 2813 1869 2534 1725 \nQ 2256 1581 1919 1581 \nQ 1219 1581 811 2004 \nQ 403 2428 403 3163 \nQ 403 3881 828 4315 \nQ 1253 4750 1959 4750 \nQ 2769 4750 3195 4129 \nQ 3622 3509 3622 2328 \nQ 3622 1225 3098 567 \nQ 2575 -91 1691 -91 \nQ 1453 -91 1209 -44 \nQ 966 3 703 97 \nz\nM 1959 2075 \nQ 2384 2075 2632 2365 \nQ 2881 2656 2881 3163 \nQ 2881 3666 2632 3958 \nQ 2384 4250 1959 4250 \nQ 1534 4250 1286 3958 \nQ 1038 3666 1038 3163 \nQ 1038 2656 1286 2365 \nQ 1534 2075 1959 2075 \nz\n\" transform=\"scale(0.015625)\"/>\n      </defs>\n      <use xlink:href=\"#DejaVuSans-31\"/>\n      <use xlink:href=\"#DejaVuSans-65\" x=\"63.623047\"/>\n      <use xlink:href=\"#DejaVuSans-39\" x=\"125.146484\"/>\n     </g>\n    </g>\n   </g>\n   <g id=\"matplotlib.axis_2\">\n    <g id=\"ytick_1\">\n     <g id=\"line2d_6\">\n      <defs>\n       <path id=\"m058d4ecea6\" d=\"M 0 0 \nL -3.5 0 \n\" style=\"stroke: #ffffff; stroke-width: 0.8\"/>\n      </defs>\n      <g>\n       <use xlink:href=\"#m058d4ecea6\" x=\"46.0125\" y=\"224.64\" style=\"fill: #ffffff; stroke: #ffffff; stroke-width: 0.8\"/>\n      </g>\n     </g>\n     <g id=\"text_7\">\n      <!-- 0 -->\n      <g style=\"fill: #ffffff\" transform=\"translate(32.65 228.439219)scale(0.1 -0.1)\">\n       <use xlink:href=\"#DejaVuSans-30\"/>\n      </g>\n     </g>\n    </g>\n    <g id=\"ytick_2\">\n     <g id=\"line2d_7\">\n      <g>\n       <use xlink:href=\"#m058d4ecea6\" x=\"46.0125\" y=\"180.567957\" style=\"fill: #ffffff; stroke: #ffffff; stroke-width: 0.8\"/>\n      </g>\n     </g>\n     <g id=\"text_8\">\n      <!-- 5000 -->\n      <g style=\"fill: #ffffff\" transform=\"translate(13.5625 184.367176)scale(0.1 -0.1)\">\n       <defs>\n        <path id=\"DejaVuSans-35\" d=\"M 691 4666 \nL 3169 4666 \nL 3169 4134 \nL 1269 4134 \nL 1269 2991 \nQ 1406 3038 1543 3061 \nQ 1681 3084 1819 3084 \nQ 2600 3084 3056 2656 \nQ 3513 2228 3513 1497 \nQ 3513 744 3044 326 \nQ 2575 -91 1722 -91 \nQ 1428 -91 1123 -41 \nQ 819 9 494 109 \nL 494 744 \nQ 775 591 1075 516 \nQ 1375 441 1709 441 \nQ 2250 441 2565 725 \nQ 2881 1009 2881 1497 \nQ 2881 1984 2565 2268 \nQ 2250 2553 1709 2553 \nQ 1456 2553 1204 2497 \nQ 953 2441 691 2322 \nL 691 4666 \nz\n\" transform=\"scale(0.015625)\"/>\n       </defs>\n       <use xlink:href=\"#DejaVuSans-35\"/>\n       <use xlink:href=\"#DejaVuSans-30\" x=\"63.623047\"/>\n       <use xlink:href=\"#DejaVuSans-30\" x=\"127.246094\"/>\n       <use xlink:href=\"#DejaVuSans-30\" x=\"190.869141\"/>\n      </g>\n     </g>\n    </g>\n    <g id=\"ytick_3\">\n     <g id=\"line2d_8\">\n      <g>\n       <use xlink:href=\"#m058d4ecea6\" x=\"46.0125\" y=\"136.495915\" style=\"fill: #ffffff; stroke: #ffffff; stroke-width: 0.8\"/>\n      </g>\n     </g>\n     <g id=\"text_9\">\n      <!-- 10000 -->\n      <g style=\"fill: #ffffff\" transform=\"translate(7.2 140.295133)scale(0.1 -0.1)\">\n       <use xlink:href=\"#DejaVuSans-31\"/>\n       <use xlink:href=\"#DejaVuSans-30\" x=\"63.623047\"/>\n       <use xlink:href=\"#DejaVuSans-30\" x=\"127.246094\"/>\n       <use xlink:href=\"#DejaVuSans-30\" x=\"190.869141\"/>\n       <use xlink:href=\"#DejaVuSans-30\" x=\"254.492188\"/>\n      </g>\n     </g>\n    </g>\n    <g id=\"ytick_4\">\n     <g id=\"line2d_9\">\n      <g>\n       <use xlink:href=\"#m058d4ecea6\" x=\"46.0125\" y=\"92.423872\" style=\"fill: #ffffff; stroke: #ffffff; stroke-width: 0.8\"/>\n      </g>\n     </g>\n     <g id=\"text_10\">\n      <!-- 15000 -->\n      <g style=\"fill: #ffffff\" transform=\"translate(7.2 96.223091)scale(0.1 -0.1)\">\n       <use xlink:href=\"#DejaVuSans-31\"/>\n       <use xlink:href=\"#DejaVuSans-35\" x=\"63.623047\"/>\n       <use xlink:href=\"#DejaVuSans-30\" x=\"127.246094\"/>\n       <use xlink:href=\"#DejaVuSans-30\" x=\"190.869141\"/>\n       <use xlink:href=\"#DejaVuSans-30\" x=\"254.492188\"/>\n      </g>\n     </g>\n    </g>\n    <g id=\"ytick_5\">\n     <g id=\"line2d_10\">\n      <g>\n       <use xlink:href=\"#m058d4ecea6\" x=\"46.0125\" y=\"48.351829\" style=\"fill: #ffffff; stroke: #ffffff; stroke-width: 0.8\"/>\n      </g>\n     </g>\n     <g id=\"text_11\">\n      <!-- 20000 -->\n      <g style=\"fill: #ffffff\" transform=\"translate(7.2 52.151048)scale(0.1 -0.1)\">\n       <use xlink:href=\"#DejaVuSans-32\"/>\n       <use xlink:href=\"#DejaVuSans-30\" x=\"63.623047\"/>\n       <use xlink:href=\"#DejaVuSans-30\" x=\"127.246094\"/>\n       <use xlink:href=\"#DejaVuSans-30\" x=\"190.869141\"/>\n       <use xlink:href=\"#DejaVuSans-30\" x=\"254.492188\"/>\n      </g>\n     </g>\n    </g>\n   </g>\n   <g id=\"patch_203\">\n    <path d=\"M 46.0125 224.64 \nL 46.0125 7.2 \n\" style=\"fill: none; stroke: #ffffff; stroke-width: 0.8; stroke-linejoin: miter; stroke-linecap: square\"/>\n   </g>\n   <g id=\"patch_204\">\n    <path d=\"M 380.8125 224.64 \nL 380.8125 7.2 \n\" style=\"fill: none; stroke: #ffffff; stroke-width: 0.8; stroke-linejoin: miter; stroke-linecap: square\"/>\n   </g>\n   <g id=\"patch_205\">\n    <path d=\"M 46.0125 224.64 \nL 380.8125 224.64 \n\" style=\"fill: none; stroke: #ffffff; stroke-width: 0.8; stroke-linejoin: miter; stroke-linecap: square\"/>\n   </g>\n   <g id=\"patch_206\">\n    <path d=\"M 46.0125 7.2 \nL 380.8125 7.2 \n\" style=\"fill: none; stroke: #ffffff; stroke-width: 0.8; stroke-linejoin: miter; stroke-linecap: square\"/>\n   </g>\n  </g>\n </g>\n <defs>\n  <clipPath id=\"pcb2ae8e8c4\">\n   <rect x=\"46.0125\" y=\"7.2\" width=\"334.8\" height=\"217.44\"/>\n  </clipPath>\n </defs>\n</svg>\n",
      "text/plain": [
       "<Figure size 432x288 with 1 Axes>"
      ]
     },
     "metadata": {},
     "output_type": "display_data"
    }
   ],
   "source": [
    "plot.hist(X_train[['buisness_year','doc_id']],100)\n",
    "plot.show()"
   ]
  },
  {
   "cell_type": "markdown",
   "id": "968fbcc9",
   "metadata": {
    "id": "968fbcc9"
   },
   "source": [
    "# Feature Engineering "
   ]
  },
  {
   "cell_type": "markdown",
   "id": "jbh6CyGqH3XE",
   "metadata": {
    "id": "jbh6CyGqH3XE"
   },
   "source": [
    "### Display and describe the X_train dataframe "
   ]
  },
  {
   "cell_type": "code",
   "execution_count": 60,
   "id": "e6bcf307",
   "metadata": {
    "id": "e6bcf307"
   },
   "outputs": [
    {
     "data": {
      "text/html": [
       "<div>\n",
       "<style scoped>\n",
       "    .dataframe tbody tr th:only-of-type {\n",
       "        vertical-align: middle;\n",
       "    }\n",
       "\n",
       "    .dataframe tbody tr th {\n",
       "        vertical-align: top;\n",
       "    }\n",
       "\n",
       "    .dataframe thead th {\n",
       "        text-align: right;\n",
       "    }\n",
       "</style>\n",
       "<table border=\"1\" class=\"dataframe\">\n",
       "  <thead>\n",
       "    <tr style=\"text-align: right;\">\n",
       "      <th></th>\n",
       "      <th>business_code</th>\n",
       "      <th>cust_number</th>\n",
       "      <th>name_customer</th>\n",
       "      <th>buisness_year</th>\n",
       "      <th>doc_id</th>\n",
       "      <th>posting_date</th>\n",
       "      <th>due_in_date</th>\n",
       "      <th>baseline_create_date</th>\n",
       "      <th>cust_payment_terms</th>\n",
       "      <th>converted_usd</th>\n",
       "    </tr>\n",
       "  </thead>\n",
       "  <tbody>\n",
       "    <tr>\n",
       "      <th>18010</th>\n",
       "      <td>U001</td>\n",
       "      <td>0200741174</td>\n",
       "      <td>M B  systems</td>\n",
       "      <td>2019.0</td>\n",
       "      <td>1.929725e+09</td>\n",
       "      <td>2019-08-14</td>\n",
       "      <td>2019-09-03</td>\n",
       "      <td>2019-08-14</td>\n",
       "      <td>NAD1</td>\n",
       "      <td>20170.800</td>\n",
       "    </tr>\n",
       "    <tr>\n",
       "      <th>26669</th>\n",
       "      <td>U001</td>\n",
       "      <td>0200769623</td>\n",
       "      <td>WAL-MAR foundation</td>\n",
       "      <td>2019.0</td>\n",
       "      <td>1.929244e+09</td>\n",
       "      <td>2019-05-01</td>\n",
       "      <td>2019-05-16</td>\n",
       "      <td>2019-05-01</td>\n",
       "      <td>NAH4</td>\n",
       "      <td>54253.250</td>\n",
       "    </tr>\n",
       "    <tr>\n",
       "      <th>3439</th>\n",
       "      <td>U001</td>\n",
       "      <td>0100015557</td>\n",
       "      <td>BI us</td>\n",
       "      <td>2019.0</td>\n",
       "      <td>1.929543e+09</td>\n",
       "      <td>2019-06-26</td>\n",
       "      <td>2019-07-11</td>\n",
       "      <td>2019-06-26</td>\n",
       "      <td>NAA8</td>\n",
       "      <td>11261.740</td>\n",
       "    </tr>\n",
       "    <tr>\n",
       "      <th>16475</th>\n",
       "      <td>U001</td>\n",
       "      <td>0200769623</td>\n",
       "      <td>WAL-MAR trust</td>\n",
       "      <td>2019.0</td>\n",
       "      <td>1.929459e+09</td>\n",
       "      <td>2019-06-09</td>\n",
       "      <td>2019-06-24</td>\n",
       "      <td>2019-06-09</td>\n",
       "      <td>NAH4</td>\n",
       "      <td>14210.170</td>\n",
       "    </tr>\n",
       "    <tr>\n",
       "      <th>18338</th>\n",
       "      <td>U001</td>\n",
       "      <td>0200416837</td>\n",
       "      <td>DEC systems</td>\n",
       "      <td>2019.0</td>\n",
       "      <td>1.928576e+09</td>\n",
       "      <td>2019-01-05</td>\n",
       "      <td>2019-01-24</td>\n",
       "      <td>2019-01-01</td>\n",
       "      <td>NAM4</td>\n",
       "      <td>1284.660</td>\n",
       "    </tr>\n",
       "    <tr>\n",
       "      <th>...</th>\n",
       "      <td>...</td>\n",
       "      <td>...</td>\n",
       "      <td>...</td>\n",
       "      <td>...</td>\n",
       "      <td>...</td>\n",
       "      <td>...</td>\n",
       "      <td>...</td>\n",
       "      <td>...</td>\n",
       "      <td>...</td>\n",
       "      <td>...</td>\n",
       "    </tr>\n",
       "    <tr>\n",
       "      <th>15284</th>\n",
       "      <td>U001</td>\n",
       "      <td>0200965912</td>\n",
       "      <td>C&amp;S W trust</td>\n",
       "      <td>2019.0</td>\n",
       "      <td>1.929813e+09</td>\n",
       "      <td>2019-08-30</td>\n",
       "      <td>2019-09-14</td>\n",
       "      <td>2019-08-30</td>\n",
       "      <td>NAC6</td>\n",
       "      <td>23610.520</td>\n",
       "    </tr>\n",
       "    <tr>\n",
       "      <th>21155</th>\n",
       "      <td>U001</td>\n",
       "      <td>0100018142</td>\n",
       "      <td>MINNESO</td>\n",
       "      <td>2019.0</td>\n",
       "      <td>1.929687e+09</td>\n",
       "      <td>2019-07-10</td>\n",
       "      <td>2019-07-20</td>\n",
       "      <td>2019-07-10</td>\n",
       "      <td>NA10</td>\n",
       "      <td>33812.400</td>\n",
       "    </tr>\n",
       "    <tr>\n",
       "      <th>45973</th>\n",
       "      <td>U001</td>\n",
       "      <td>0200769623</td>\n",
       "      <td>WAL-MAR co</td>\n",
       "      <td>2019.0</td>\n",
       "      <td>1.929736e+09</td>\n",
       "      <td>2019-08-13</td>\n",
       "      <td>2019-08-28</td>\n",
       "      <td>2019-08-13</td>\n",
       "      <td>NAH4</td>\n",
       "      <td>39474.360</td>\n",
       "    </tr>\n",
       "    <tr>\n",
       "      <th>16524</th>\n",
       "      <td>CA02</td>\n",
       "      <td>0140106408</td>\n",
       "      <td>WAL-M llc</td>\n",
       "      <td>2020.0</td>\n",
       "      <td>2.960611e+09</td>\n",
       "      <td>2020-01-30</td>\n",
       "      <td>2020-02-10</td>\n",
       "      <td>2020-01-31</td>\n",
       "      <td>CA10</td>\n",
       "      <td>14345.184</td>\n",
       "    </tr>\n",
       "    <tr>\n",
       "      <th>30329</th>\n",
       "      <td>U001</td>\n",
       "      <td>0200418007</td>\n",
       "      <td>AM llc</td>\n",
       "      <td>2020.0</td>\n",
       "      <td>1.930383e+09</td>\n",
       "      <td>2020-01-14</td>\n",
       "      <td>2020-01-29</td>\n",
       "      <td>2020-01-14</td>\n",
       "      <td>NAA8</td>\n",
       "      <td>657.060</td>\n",
       "    </tr>\n",
       "  </tbody>\n",
       "</table>\n",
       "<p>23494 rows × 10 columns</p>\n",
       "</div>"
      ],
      "text/plain": [
       "      business_code cust_number       name_customer  buisness_year  \\\n",
       "18010          U001  0200741174        M B  systems         2019.0   \n",
       "26669          U001  0200769623  WAL-MAR foundation         2019.0   \n",
       "3439           U001  0100015557               BI us         2019.0   \n",
       "16475          U001  0200769623       WAL-MAR trust         2019.0   \n",
       "18338          U001  0200416837         DEC systems         2019.0   \n",
       "...             ...         ...                 ...            ...   \n",
       "15284          U001  0200965912         C&S W trust         2019.0   \n",
       "21155          U001  0100018142            MINNESO          2019.0   \n",
       "45973          U001  0200769623          WAL-MAR co         2019.0   \n",
       "16524          CA02  0140106408           WAL-M llc         2020.0   \n",
       "30329          U001  0200418007              AM llc         2020.0   \n",
       "\n",
       "             doc_id posting_date due_in_date baseline_create_date  \\\n",
       "18010  1.929725e+09   2019-08-14  2019-09-03           2019-08-14   \n",
       "26669  1.929244e+09   2019-05-01  2019-05-16           2019-05-01   \n",
       "3439   1.929543e+09   2019-06-26  2019-07-11           2019-06-26   \n",
       "16475  1.929459e+09   2019-06-09  2019-06-24           2019-06-09   \n",
       "18338  1.928576e+09   2019-01-05  2019-01-24           2019-01-01   \n",
       "...             ...          ...         ...                  ...   \n",
       "15284  1.929813e+09   2019-08-30  2019-09-14           2019-08-30   \n",
       "21155  1.929687e+09   2019-07-10  2019-07-20           2019-07-10   \n",
       "45973  1.929736e+09   2019-08-13  2019-08-28           2019-08-13   \n",
       "16524  2.960611e+09   2020-01-30  2020-02-10           2020-01-31   \n",
       "30329  1.930383e+09   2020-01-14  2020-01-29           2020-01-14   \n",
       "\n",
       "      cust_payment_terms  converted_usd  \n",
       "18010               NAD1      20170.800  \n",
       "26669               NAH4      54253.250  \n",
       "3439                NAA8      11261.740  \n",
       "16475               NAH4      14210.170  \n",
       "18338               NAM4       1284.660  \n",
       "...                  ...            ...  \n",
       "15284               NAC6      23610.520  \n",
       "21155               NA10      33812.400  \n",
       "45973               NAH4      39474.360  \n",
       "16524               CA10      14345.184  \n",
       "30329               NAA8        657.060  \n",
       "\n",
       "[23494 rows x 10 columns]"
      ]
     },
     "execution_count": 60,
     "metadata": {},
     "output_type": "execute_result"
    }
   ],
   "source": [
    "X_train"
   ]
  },
  {
   "cell_type": "code",
   "execution_count": 61,
   "id": "08ccc819",
   "metadata": {
    "id": "08ccc819"
   },
   "outputs": [
    {
     "data": {
      "text/html": [
       "<div>\n",
       "<style scoped>\n",
       "    .dataframe tbody tr th:only-of-type {\n",
       "        vertical-align: middle;\n",
       "    }\n",
       "\n",
       "    .dataframe tbody tr th {\n",
       "        vertical-align: top;\n",
       "    }\n",
       "\n",
       "    .dataframe thead th {\n",
       "        text-align: right;\n",
       "    }\n",
       "</style>\n",
       "<table border=\"1\" class=\"dataframe\">\n",
       "  <thead>\n",
       "    <tr style=\"text-align: right;\">\n",
       "      <th></th>\n",
       "      <th>buisness_year</th>\n",
       "      <th>doc_id</th>\n",
       "      <th>converted_usd</th>\n",
       "    </tr>\n",
       "  </thead>\n",
       "  <tbody>\n",
       "    <tr>\n",
       "      <th>count</th>\n",
       "      <td>23494.000000</td>\n",
       "      <td>2.349400e+04</td>\n",
       "      <td>23494.000000</td>\n",
       "    </tr>\n",
       "    <tr>\n",
       "      <th>mean</th>\n",
       "      <td>2019.137652</td>\n",
       "      <td>2.016025e+09</td>\n",
       "      <td>30771.756296</td>\n",
       "    </tr>\n",
       "    <tr>\n",
       "      <th>std</th>\n",
       "      <td>0.344542</td>\n",
       "      <td>3.020696e+08</td>\n",
       "      <td>36455.114514</td>\n",
       "    </tr>\n",
       "    <tr>\n",
       "      <th>min</th>\n",
       "      <td>2019.000000</td>\n",
       "      <td>1.928509e+09</td>\n",
       "      <td>0.790000</td>\n",
       "    </tr>\n",
       "    <tr>\n",
       "      <th>25%</th>\n",
       "      <td>2019.000000</td>\n",
       "      <td>1.929180e+09</td>\n",
       "      <td>4663.225000</td>\n",
       "    </tr>\n",
       "    <tr>\n",
       "      <th>50%</th>\n",
       "      <td>2019.000000</td>\n",
       "      <td>1.929735e+09</td>\n",
       "      <td>16932.120000</td>\n",
       "    </tr>\n",
       "    <tr>\n",
       "      <th>75%</th>\n",
       "      <td>2019.000000</td>\n",
       "      <td>1.930218e+09</td>\n",
       "      <td>45314.140000</td>\n",
       "    </tr>\n",
       "    <tr>\n",
       "      <th>max</th>\n",
       "      <td>2020.000000</td>\n",
       "      <td>9.500000e+09</td>\n",
       "      <td>545359.560000</td>\n",
       "    </tr>\n",
       "  </tbody>\n",
       "</table>\n",
       "</div>"
      ],
      "text/plain": [
       "       buisness_year        doc_id  converted_usd\n",
       "count   23494.000000  2.349400e+04   23494.000000\n",
       "mean     2019.137652  2.016025e+09   30771.756296\n",
       "std         0.344542  3.020696e+08   36455.114514\n",
       "min      2019.000000  1.928509e+09       0.790000\n",
       "25%      2019.000000  1.929180e+09    4663.225000\n",
       "50%      2019.000000  1.929735e+09   16932.120000\n",
       "75%      2019.000000  1.930218e+09   45314.140000\n",
       "max      2020.000000  9.500000e+09  545359.560000"
      ]
     },
     "execution_count": 61,
     "metadata": {},
     "output_type": "execute_result"
    }
   ],
   "source": [
    "X_train.describe()"
   ]
  },
  {
   "cell_type": "markdown",
   "id": "abd7ac8b",
   "metadata": {
    "id": "abd7ac8b"
   },
   "source": [
    "#### The \"business_code\" column inside X_train, is a categorical column, so you need to perform Labelencoder on that particular column\n",
    "\n",
    "- Note - call the Label Encoder from sklearn library and use the fit() function on \"business_code\" column\n",
    "- Note - Please fill in the blanks (two) to complete this code"
   ]
  },
  {
   "cell_type": "code",
   "execution_count": 62,
   "id": "7c223545",
   "metadata": {
    "id": "7c223545"
   },
   "outputs": [
    {
     "data": {
      "text/plain": [
       "LabelEncoder()"
      ]
     },
     "execution_count": 62,
     "metadata": {},
     "output_type": "execute_result"
    }
   ],
   "source": [
    "from sklearn.preprocessing import LabelEncoder\n",
    "business_coder = LabelEncoder()\n",
    "business_coder.fit(X_train['business_code'])"
   ]
  },
  {
   "cell_type": "markdown",
   "id": "f86f7d9c",
   "metadata": {
    "id": "f86f7d9c"
   },
   "source": [
    "#### You are expected to store the value into a new column i.e. \"business_code_enc\"\n",
    "\n",
    "- Note - For Training set you are expected to use fit_trainsform()\n",
    "- Note - For Test set you are expected to use the trainsform()\n",
    "- Note - For Validation set you are expected to use the trainsform()\n",
    "\n",
    "\n",
    "- Partial code is provided, please fill in the blanks "
   ]
  },
  {
   "cell_type": "code",
   "execution_count": 63,
   "id": "4269c307",
   "metadata": {
    "id": "4269c307"
   },
   "outputs": [],
   "source": [
    "X_train['business_code_enc'] = business_coder.fit_transform(X_train['business_code'])"
   ]
  },
  {
   "cell_type": "code",
   "execution_count": 64,
   "id": "70a53712",
   "metadata": {
    "id": "70a53712"
   },
   "outputs": [],
   "source": [
    "X_val['business_code_enc'] = business_coder.transform(X_val['business_code'])\n",
    "X_test['business_code_enc'] = business_coder.transform(X_test['business_code'])"
   ]
  },
  {
   "cell_type": "markdown",
   "id": "gdNYxTkqNfmz",
   "metadata": {
    "id": "gdNYxTkqNfmz"
   },
   "source": [
    "### Display \"business_code\" and \"business_code_enc\" together from X_train dataframe "
   ]
  },
  {
   "cell_type": "code",
   "execution_count": 65,
   "id": "1196a002",
   "metadata": {
    "id": "1196a002"
   },
   "outputs": [
    {
     "data": {
      "text/html": [
       "<div>\n",
       "<style scoped>\n",
       "    .dataframe tbody tr th:only-of-type {\n",
       "        vertical-align: middle;\n",
       "    }\n",
       "\n",
       "    .dataframe tbody tr th {\n",
       "        vertical-align: top;\n",
       "    }\n",
       "\n",
       "    .dataframe thead th {\n",
       "        text-align: right;\n",
       "    }\n",
       "</style>\n",
       "<table border=\"1\" class=\"dataframe\">\n",
       "  <thead>\n",
       "    <tr style=\"text-align: right;\">\n",
       "      <th></th>\n",
       "      <th>business_code</th>\n",
       "      <th>business_code_enc</th>\n",
       "    </tr>\n",
       "  </thead>\n",
       "  <tbody>\n",
       "    <tr>\n",
       "      <th>18010</th>\n",
       "      <td>U001</td>\n",
       "      <td>1</td>\n",
       "    </tr>\n",
       "    <tr>\n",
       "      <th>26669</th>\n",
       "      <td>U001</td>\n",
       "      <td>1</td>\n",
       "    </tr>\n",
       "    <tr>\n",
       "      <th>3439</th>\n",
       "      <td>U001</td>\n",
       "      <td>1</td>\n",
       "    </tr>\n",
       "    <tr>\n",
       "      <th>16475</th>\n",
       "      <td>U001</td>\n",
       "      <td>1</td>\n",
       "    </tr>\n",
       "    <tr>\n",
       "      <th>18338</th>\n",
       "      <td>U001</td>\n",
       "      <td>1</td>\n",
       "    </tr>\n",
       "    <tr>\n",
       "      <th>...</th>\n",
       "      <td>...</td>\n",
       "      <td>...</td>\n",
       "    </tr>\n",
       "    <tr>\n",
       "      <th>15284</th>\n",
       "      <td>U001</td>\n",
       "      <td>1</td>\n",
       "    </tr>\n",
       "    <tr>\n",
       "      <th>21155</th>\n",
       "      <td>U001</td>\n",
       "      <td>1</td>\n",
       "    </tr>\n",
       "    <tr>\n",
       "      <th>45973</th>\n",
       "      <td>U001</td>\n",
       "      <td>1</td>\n",
       "    </tr>\n",
       "    <tr>\n",
       "      <th>16524</th>\n",
       "      <td>CA02</td>\n",
       "      <td>0</td>\n",
       "    </tr>\n",
       "    <tr>\n",
       "      <th>30329</th>\n",
       "      <td>U001</td>\n",
       "      <td>1</td>\n",
       "    </tr>\n",
       "  </tbody>\n",
       "</table>\n",
       "<p>23494 rows × 2 columns</p>\n",
       "</div>"
      ],
      "text/plain": [
       "      business_code  business_code_enc\n",
       "18010          U001                  1\n",
       "26669          U001                  1\n",
       "3439           U001                  1\n",
       "16475          U001                  1\n",
       "18338          U001                  1\n",
       "...             ...                ...\n",
       "15284          U001                  1\n",
       "21155          U001                  1\n",
       "45973          U001                  1\n",
       "16524          CA02                  0\n",
       "30329          U001                  1\n",
       "\n",
       "[23494 rows x 2 columns]"
      ]
     },
     "execution_count": 65,
     "metadata": {},
     "output_type": "execute_result"
    }
   ],
   "source": [
    "X_train[['business_code','business_code_enc']]"
   ]
  },
  {
   "cell_type": "markdown",
   "id": "11477224",
   "metadata": {
    "id": "11477224"
   },
   "source": [
    "#### Create a function called \"custom\" for dropping the columns 'business_code' from train, test and validation dataframe\n",
    "\n",
    "- Note - Fill in the blank to complete the code"
   ]
  },
  {
   "cell_type": "code",
   "execution_count": 66,
   "id": "1052868a",
   "metadata": {
    "id": "1052868a"
   },
   "outputs": [],
   "source": [
    "def custom(col ,traindf = X_train,valdf = X_val,testdf = X_test):\n",
    "    traindf.drop(col, axis =1,inplace=True)\n",
    "    valdf.drop(col,axis=1 , inplace=True)\n",
    "    testdf.drop(col,axis=1 , inplace=True)\n",
    "\n",
    "    return traindf,valdf ,testdf"
   ]
  },
  {
   "cell_type": "markdown",
   "id": "rI--ZuMbNLne",
   "metadata": {
    "id": "rI--ZuMbNLne"
   },
   "source": [
    "### Call the function by passing the column name which needed to be dropped from train, test and validation dataframes. Return updated dataframes to be stored in X_train ,X_val, X_test  \n",
    "\n",
    "- Note = Fill in the blank to complete the code "
   ]
  },
  {
   "cell_type": "code",
   "execution_count": 67,
   "id": "1a0f955c",
   "metadata": {
    "id": "1a0f955c"
   },
   "outputs": [],
   "source": [
    "X_train , X_val , X_test=custom(['business_code'])"
   ]
  },
  {
   "cell_type": "markdown",
   "id": "28b5b27e",
   "metadata": {
    "id": "28b5b27e"
   },
   "source": [
    "### Manually replacing str values with numbers, Here we are trying manually replace the customer numbers with some specific values like, 'CCCA' as 1, 'CCU' as 2 and so on. Also we are converting the datatype \"cust_number\" field to int type.\n",
    "\n",
    "- We are doing it for all the three dataframes as shown below. This is fully completed code. No need to modify anything here \n",
    "\n"
   ]
  },
  {
   "cell_type": "code",
   "execution_count": 68,
   "id": "85dd129e",
   "metadata": {
    "id": "85dd129e"
   },
   "outputs": [],
   "source": [
    "X_train['cust_number'] = X_train['cust_number'].str.replace('CCCA',\"1\").str.replace('CCU',\"2\").str.replace('CC',\"3\").astype(int)\n",
    "X_test['cust_number'] = X_test['cust_number'].str.replace('CCCA',\"1\").str.replace('CCU',\"2\").str.replace('CC',\"3\").astype(int)\n",
    "X_val['cust_number'] = X_val['cust_number'].str.replace('CCCA',\"1\").str.replace('CCU',\"2\").str.replace('CC',\"3\").astype(int)\n"
   ]
  },
  {
   "cell_type": "markdown",
   "id": "U8vA-zmdPnJ8",
   "metadata": {
    "id": "U8vA-zmdPnJ8"
   },
   "source": [
    "#### It differs from LabelEncoder by handling new classes and providing a value for it [Unknown]. Unknown will be added in fit and transform will take care of new item. It gives unknown class id.\n",
    "\n",
    "#### This will fit the encoder for all the unique values and introduce unknown value\n",
    "\n",
    "- Note - Keep this code as it is, we will be using this later on.  "
   ]
  },
  {
   "cell_type": "code",
   "execution_count": 69,
   "id": "151f48ba",
   "metadata": {
    "id": "151f48ba"
   },
   "outputs": [],
   "source": [
    "#For encoding unseen labels\n",
    "class EncoderExt(object):\n",
    "    def __init__(self):\n",
    "        self.label_encoder = LabelEncoder()\n",
    "    def fit(self, data_list):\n",
    "        self.label_encoder = self.label_encoder.fit(list(data_list) + ['Unknown'])\n",
    "        self.classes_ = self.label_encoder.classes_\n",
    "        return self\n",
    "    def transform(self, data_list):\n",
    "        new_data_list = list(data_list)\n",
    "        for unique_item in np.unique(data_list):\n",
    "            if unique_item not in self.label_encoder.classes_:\n",
    "                new_data_list = ['Unknown' if x==unique_item else x for x in new_data_list]\n",
    "        return self.label_encoder.transform(new_data_list)"
   ]
  },
  {
   "cell_type": "markdown",
   "id": "254c64e6",
   "metadata": {
    "id": "254c64e6"
   },
   "source": [
    "### Use the user define Label Encoder function called \"EncoderExt\" for the \"name_customer\" column\n",
    "\n",
    "- Note - Keep the code as it is, no need to change"
   ]
  },
  {
   "cell_type": "code",
   "execution_count": 70,
   "id": "62b17eff",
   "metadata": {
    "id": "62b17eff"
   },
   "outputs": [],
   "source": [
    "label_encoder = EncoderExt()\n",
    "label_encoder.fit(X_train['name_customer'])\n",
    "X_train['name_customer_enc']=label_encoder.transform(X_train['name_customer'])\n",
    "X_val['name_customer_enc']=label_encoder.transform(X_val['name_customer'])\n",
    "X_test['name_customer_enc']=label_encoder.transform(X_test['name_customer'])"
   ]
  },
  {
   "cell_type": "markdown",
   "id": "mK7LMoy2QZhy",
   "metadata": {
    "id": "mK7LMoy2QZhy"
   },
   "source": [
    "### As we have created the a new column \"name_customer_enc\", so now drop \"name_customer\" column from all three dataframes\n",
    "\n",
    "- Note - Keep the code as it is, no need to change"
   ]
  },
  {
   "cell_type": "code",
   "execution_count": 71,
   "id": "ef85f1c0",
   "metadata": {
    "id": "ef85f1c0"
   },
   "outputs": [],
   "source": [
    "X_train ,X_val, X_test = custom(['name_customer'])"
   ]
  },
  {
   "cell_type": "markdown",
   "id": "3aa09d22",
   "metadata": {
    "id": "3aa09d22"
   },
   "source": [
    "### Using Label Encoder for the \"cust_payment_terms\" column\n",
    "\n",
    "- Note - Keep the code as it is, no need to change"
   ]
  },
  {
   "cell_type": "code",
   "execution_count": 72,
   "id": "6f9ab642",
   "metadata": {
    "id": "6f9ab642"
   },
   "outputs": [],
   "source": [
    "label_encoder1 = EncoderExt()\n",
    "label_encoder1.fit(X_train['cust_payment_terms'])\n",
    "X_train['cust_payment_terms_enc']=label_encoder1.transform(X_train['cust_payment_terms'])\n",
    "X_val['cust_payment_terms_enc']=label_encoder1.transform(X_val['cust_payment_terms'])\n",
    "X_test['cust_payment_terms_enc']=label_encoder1.transform(X_test['cust_payment_terms'])"
   ]
  },
  {
   "cell_type": "code",
   "execution_count": 73,
   "id": "55f9a7c2",
   "metadata": {
    "id": "55f9a7c2"
   },
   "outputs": [],
   "source": [
    "X_train ,X_val, X_test = custom(['cust_payment_terms'])"
   ]
  },
  {
   "cell_type": "markdown",
   "id": "0788f42b",
   "metadata": {
    "id": "0788f42b"
   },
   "source": [
    "## Check the datatype of all the columns of Train, Test and Validation dataframes realted to X\n",
    "\n",
    "- Note - You are expected yo use dtype"
   ]
  },
  {
   "cell_type": "code",
   "execution_count": 74,
   "id": "bc79a316",
   "metadata": {
    "id": "bc79a316"
   },
   "outputs": [
    {
     "data": {
      "text/plain": [
       "cust_number                        int32\n",
       "buisness_year                    float64\n",
       "doc_id                           float64\n",
       "posting_date              datetime64[ns]\n",
       "due_in_date               datetime64[ns]\n",
       "baseline_create_date      datetime64[ns]\n",
       "converted_usd                    float64\n",
       "business_code_enc                  int32\n",
       "name_customer_enc                  int32\n",
       "cust_payment_terms_enc             int32\n",
       "dtype: object"
      ]
     },
     "execution_count": 74,
     "metadata": {},
     "output_type": "execute_result"
    }
   ],
   "source": [
    "X_train.dtypes"
   ]
  },
  {
   "cell_type": "code",
   "execution_count": 75,
   "id": "b33242d8",
   "metadata": {
    "id": "b33242d8"
   },
   "outputs": [
    {
     "data": {
      "text/plain": [
       "cust_number                        int32\n",
       "buisness_year                    float64\n",
       "doc_id                           float64\n",
       "posting_date              datetime64[ns]\n",
       "due_in_date               datetime64[ns]\n",
       "baseline_create_date      datetime64[ns]\n",
       "converted_usd                    float64\n",
       "business_code_enc                  int32\n",
       "name_customer_enc                  int32\n",
       "cust_payment_terms_enc             int32\n",
       "dtype: object"
      ]
     },
     "execution_count": 75,
     "metadata": {},
     "output_type": "execute_result"
    }
   ],
   "source": [
    "X_val.dtypes"
   ]
  },
  {
   "cell_type": "code",
   "execution_count": 76,
   "id": "6bd4da71",
   "metadata": {
    "id": "6bd4da71"
   },
   "outputs": [
    {
     "data": {
      "text/plain": [
       "cust_number                        int32\n",
       "buisness_year                    float64\n",
       "doc_id                           float64\n",
       "posting_date              datetime64[ns]\n",
       "due_in_date               datetime64[ns]\n",
       "baseline_create_date      datetime64[ns]\n",
       "converted_usd                    float64\n",
       "business_code_enc                  int32\n",
       "name_customer_enc                  int32\n",
       "cust_payment_terms_enc             int32\n",
       "dtype: object"
      ]
     },
     "execution_count": 76,
     "metadata": {},
     "output_type": "execute_result"
    }
   ],
   "source": [
    "X_test.dtypes"
   ]
  },
  {
   "cell_type": "markdown",
   "id": "LVfvuPiWPeMB",
   "metadata": {
    "id": "LVfvuPiWPeMB"
   },
   "source": [
    "### From the above output you can notice their are multiple date columns with datetime format\n",
    "\n",
    "### In order to pass it into our model, we need to convert it into float format"
   ]
  },
  {
   "cell_type": "markdown",
   "id": "9d344db9",
   "metadata": {
    "id": "9d344db9"
   },
   "source": [
    "### You need to extract day, month and year from the \"posting_date\" column \n",
    "\n",
    "1.   Extract days from \"posting_date\" column and store it into a new column \"day_of_postingdate\" for train, test and validation dataset \n",
    "2.   Extract months from \"posting_date\" column and store it into a new column \"month_of_postingdate\" for train, test and validation dataset\n",
    "3.   Extract year from \"posting_date\" column and store it into a new column \"year_of_postingdate\" for train, test and validation dataset \n",
    "\n",
    "\n",
    "\n",
    "- Note - You are supposed yo use \n",
    "\n",
    "*   dt.day\n",
    "*   dt.month\n",
    "*   dt.year\n",
    "\n",
    "\n",
    "\n",
    "\n"
   ]
  },
  {
   "cell_type": "code",
   "execution_count": 77,
   "id": "6e3cdfd6",
   "metadata": {
    "id": "6e3cdfd6"
   },
   "outputs": [],
   "source": [
    "X_train['day_of_postingdate'] = X_train['posting_date'].dt.day\n",
    "X_train['month_of_postingdate'] = X_train['posting_date'].dt.month\n",
    "X_train['year_of_postingdate'] = X_train['posting_date'].dt.year\n",
    "\n",
    "X_val['day_of_postingdate'] = X_val['posting_date'].dt.day\n",
    "X_val['month_of_postingdate'] = X_val['posting_date'].dt.month\n",
    "X_val['year_of_postingdate'] = X_val['posting_date'].dt.year\n",
    "\n",
    "\n",
    "X_test['day_of_postingdate'] = X_test['posting_date'].dt.day\n",
    "X_test['month_of_postingdate'] = X_test['posting_date'].dt.month\n",
    "X_test['year_of_postingdate'] = X_test['posting_date'].dt.year\n",
    "\n"
   ]
  },
  {
   "cell_type": "markdown",
   "id": "GyI-F853Rxa7",
   "metadata": {
    "id": "GyI-F853Rxa7"
   },
   "source": [
    "### pass the \"posting_date\" column into the Custom function for train, test and validation dataset"
   ]
  },
  {
   "cell_type": "code",
   "execution_count": 78,
   "id": "FQHtQkrnRx_V",
   "metadata": {
    "id": "FQHtQkrnRx_V"
   },
   "outputs": [],
   "source": [
    "X_train ,X_val, X_test = custom(['posting_date'])"
   ]
  },
  {
   "cell_type": "markdown",
   "id": "GMnCaEcKReSw",
   "metadata": {
    "id": "GMnCaEcKReSw"
   },
   "source": [
    "### You need to extract day, month and year from the \"baseline_create_date\" column \n",
    "\n",
    "1.   Extract days from \"baseline_create_date\" column and store it into a new column \"day_of_createdate\" for train, test and validation dataset \n",
    "2.   Extract months from \"baseline_create_date\" column and store it into a new column \"month_of_createdate\" for train, test and validation dataset\n",
    "3.   Extract year from \"baseline_create_date\" column and store it into a new column \"year_of_createdate\" for train, test and validation dataset \n",
    "\n",
    "\n",
    "\n",
    "- Note - You are supposed yo use \n",
    "\n",
    "*   dt.day\n",
    "*   dt.month\n",
    "*   dt.year\n",
    "\n",
    "\n",
    "- Note - Do as it is been shown in the previous two code boxes"
   ]
  },
  {
   "cell_type": "markdown",
   "id": "ee4d83d0",
   "metadata": {
    "id": "ee4d83d0"
   },
   "source": [
    "### Extracting Day, Month, Year for 'baseline_create_date' column"
   ]
  },
  {
   "cell_type": "code",
   "execution_count": 79,
   "id": "32b240e1",
   "metadata": {
    "id": "32b240e1"
   },
   "outputs": [],
   "source": [
    "X_train['day_of_baselinecreatedate'] = X_train['baseline_create_date'].dt.day\n",
    "X_train['month_of_baselinecreatedate'] = X_train['baseline_create_date'].dt.month\n",
    "X_train['year_of_baselinecreatedate'] = X_train['baseline_create_date'].dt.year\n",
    "\n",
    "X_val['day_of_baselinecreatedate'] = X_val['baseline_create_date'].dt.day\n",
    "X_val['month_of_baselinecreatedate'] = X_val['baseline_create_date'].dt.month\n",
    "X_val['year_of_baselinecreatedate'] = X_val['baseline_create_date'].dt.year\n",
    "\n",
    "\n",
    "X_test['day_of_baselinecreatedate'] = X_test['baseline_create_date'].dt.day\n",
    "X_test['month_of_baselinecreatedate'] = X_test['baseline_create_date'].dt.month\n",
    "X_test['year_of_baselinecreatedate'] = X_test['baseline_create_date'].dt.year"
   ]
  },
  {
   "cell_type": "markdown",
   "id": "cFgwkS5rSDDs",
   "metadata": {
    "id": "cFgwkS5rSDDs"
   },
   "source": [
    "### pass the \"baseline_create_date\" column into the Custom function for train, test and validation dataset"
   ]
  },
  {
   "cell_type": "code",
   "execution_count": 80,
   "id": "RGYa2BEQSDg3",
   "metadata": {
    "id": "RGYa2BEQSDg3"
   },
   "outputs": [],
   "source": [
    "X_train ,X_val, X_test = custom(['baseline_create_date'])"
   ]
  },
  {
   "cell_type": "markdown",
   "id": "77c7a0df",
   "metadata": {
    "id": "77c7a0df"
   },
   "source": [
    "### You need to extract day, month and year from the \"due_in_date\" column \n",
    "\n",
    "1.   Extract days from \"due_in_date\" column and store it into a new column \"day_of_due\" for train, test and validation dataset \n",
    "2.   Extract months from \"due_in_date\" column and store it into a new column \"month_of_due\" for train, test and validation dataset\n",
    "3.   Extract year from \"due_in_date\" column and store it into a new column \"year_of_due\" for train, test and validation dataset \n",
    "\n",
    "\n",
    "\n",
    "- Note - You are supposed yo use \n",
    "\n",
    "*   dt.day\n",
    "*   dt.month\n",
    "*   dt.year\n",
    "\n",
    "- Note - Do as it is been shown in the previous code"
   ]
  },
  {
   "cell_type": "code",
   "execution_count": 81,
   "id": "5c745547",
   "metadata": {
    "id": "5c745547"
   },
   "outputs": [],
   "source": [
    "X_train['day_of_dueindate'] = X_train['due_in_date'].dt.day\n",
    "X_train['month_of_dueindate'] = X_train['due_in_date'].dt.month\n",
    "X_train['year_of_dueindate'] = X_train['due_in_date'].dt.year\n",
    "\n",
    "X_val['day_of_dueindate'] = X_val['due_in_date'].dt.day\n",
    "X_val['month_of_dueindate'] = X_val['due_in_date'].dt.month\n",
    "X_val['year_of_dueindate'] = X_val['due_in_date'].dt.year\n",
    "\n",
    "\n",
    "X_test['day_of_dueindate'] = X_test['due_in_date'].dt.day\n",
    "X_test['month_of_dueindate'] = X_test['due_in_date'].dt.month\n",
    "X_test['year_of_dueindate'] = X_test['due_in_date'].dt.year"
   ]
  },
  {
   "cell_type": "markdown",
   "id": "FYLLzulGSvRd",
   "metadata": {
    "id": "FYLLzulGSvRd"
   },
   "source": [
    "pass the \"due_in_date\" column into the Custom function for train, test and validation dataset"
   ]
  },
  {
   "cell_type": "code",
   "execution_count": 82,
   "id": "1-s6QuY9Svrh",
   "metadata": {
    "id": "1-s6QuY9Svrh"
   },
   "outputs": [],
   "source": [
    "X_train ,X_val, X_test = custom(['due_in_date'])"
   ]
  },
  {
   "cell_type": "markdown",
   "id": "1ae5d052",
   "metadata": {
    "id": "1ae5d052"
   },
   "source": [
    "### Check for the datatypes for train, test and validation set again\n",
    "\n",
    "- Note - all the data type should be in either int64 or float64 format \n"
   ]
  },
  {
   "cell_type": "code",
   "execution_count": 83,
   "id": "aee9d828",
   "metadata": {
    "id": "aee9d828"
   },
   "outputs": [
    {
     "name": "stdout",
     "output_type": "stream",
     "text": [
      "X_Train\n",
      " cust_number                      int32\n",
      "buisness_year                  float64\n",
      "doc_id                         float64\n",
      "converted_usd                  float64\n",
      "business_code_enc                int32\n",
      "name_customer_enc                int32\n",
      "cust_payment_terms_enc           int32\n",
      "day_of_postingdate               int64\n",
      "month_of_postingdate             int64\n",
      "year_of_postingdate              int64\n",
      "day_of_baselinecreatedate        int64\n",
      "month_of_baselinecreatedate      int64\n",
      "year_of_baselinecreatedate       int64\n",
      "day_of_dueindate                 int64\n",
      "month_of_dueindate               int64\n",
      "year_of_dueindate                int64\n",
      "dtype: object\n",
      "X_Validation\n",
      " cust_number                      int32\n",
      "buisness_year                  float64\n",
      "doc_id                         float64\n",
      "converted_usd                  float64\n",
      "business_code_enc                int32\n",
      "name_customer_enc                int32\n",
      "cust_payment_terms_enc           int32\n",
      "day_of_postingdate               int64\n",
      "month_of_postingdate             int64\n",
      "year_of_postingdate              int64\n",
      "day_of_baselinecreatedate        int64\n",
      "month_of_baselinecreatedate      int64\n",
      "year_of_baselinecreatedate       int64\n",
      "day_of_dueindate                 int64\n",
      "month_of_dueindate               int64\n",
      "year_of_dueindate                int64\n",
      "dtype: object\n",
      "X_Test\n",
      " cust_number                      int32\n",
      "buisness_year                  float64\n",
      "doc_id                         float64\n",
      "converted_usd                  float64\n",
      "business_code_enc                int32\n",
      "name_customer_enc                int32\n",
      "cust_payment_terms_enc           int32\n",
      "day_of_postingdate               int64\n",
      "month_of_postingdate             int64\n",
      "year_of_postingdate              int64\n",
      "day_of_baselinecreatedate        int64\n",
      "month_of_baselinecreatedate      int64\n",
      "year_of_baselinecreatedate       int64\n",
      "day_of_dueindate                 int64\n",
      "month_of_dueindate               int64\n",
      "year_of_dueindate                int64\n",
      "dtype: object\n"
     ]
    }
   ],
   "source": [
    "print(\"X_Train\\n\",X_train.dtypes)\n",
    "print(\"X_Validation\\n\",X_val.dtypes)\n",
    "print(\"X_Test\\n\",X_test.dtypes)"
   ]
  },
  {
   "cell_type": "markdown",
   "id": "65810f55",
   "metadata": {
    "id": "65810f55"
   },
   "source": [
    "# Feature Selection"
   ]
  },
  {
   "cell_type": "markdown",
   "id": "4bb1ad9f",
   "metadata": {
    "id": "4bb1ad9f"
   },
   "source": [
    "### Filter Method\n",
    "\n",
    "- Calling the VarianceThreshold Function \n",
    "- Note - Keep the code as it is, no need to change "
   ]
  },
  {
   "cell_type": "code",
   "execution_count": 84,
   "id": "e882509f",
   "metadata": {
    "id": "e882509f"
   },
   "outputs": [
    {
     "data": {
      "text/plain": [
       "16"
      ]
     },
     "execution_count": 84,
     "metadata": {},
     "output_type": "execute_result"
    }
   ],
   "source": [
    "from sklearn.feature_selection import VarianceThreshold\n",
    "constant_filter = VarianceThreshold(threshold=0)\n",
    "constant_filter.fit(X_train)\n",
    "len(X_train.columns[constant_filter.get_support()])"
   ]
  },
  {
   "cell_type": "markdown",
   "id": "V9531H3jR-W2",
   "metadata": {
    "id": "V9531H3jR-W2"
   },
   "source": [
    "- Note - Keep the code as it is, no need to change \n"
   ]
  },
  {
   "cell_type": "code",
   "execution_count": 85,
   "id": "c77c12e1",
   "metadata": {
    "id": "c77c12e1"
   },
   "outputs": [
    {
     "name": "stdout",
     "output_type": "stream",
     "text": [
      "0\n"
     ]
    }
   ],
   "source": [
    "constant_columns = [column for column in X_train.columns\n",
    "                    if column not in X_train.columns[constant_filter.get_support()]]\n",
    "print(len(constant_columns))"
   ]
  },
  {
   "cell_type": "markdown",
   "id": "6d9b8610",
   "metadata": {
    "id": "6d9b8610"
   },
   "source": [
    "- transpose the feature matrice\n",
    "- print the number of duplicated features\n",
    "- select the duplicated features columns names\n",
    "\n",
    "- Note - Keep the code as it is, no need to change \n"
   ]
  },
  {
   "cell_type": "code",
   "execution_count": 86,
   "id": "0fb7db95",
   "metadata": {
    "id": "0fb7db95"
   },
   "outputs": [
    {
     "name": "stdout",
     "output_type": "stream",
     "text": [
      "0\n"
     ]
    }
   ],
   "source": [
    "x_train_T = X_train.T\n",
    "print(x_train_T.duplicated().sum())\n",
    "duplicated_columns = x_train_T[x_train_T.duplicated()].index.values"
   ]
  },
  {
   "cell_type": "markdown",
   "id": "510fa831",
   "metadata": {
    "id": "510fa831"
   },
   "source": [
    "### Filtering depending upon correlation matrix value\n",
    "- We have created a function called handling correlation which is going to return fields based on the correlation matrix value with a threshold of 0.8\n",
    "\n",
    "- Note - Keep the code as it is, no need to change "
   ]
  },
  {
   "cell_type": "code",
   "execution_count": 87,
   "id": "67731abc",
   "metadata": {
    "id": "67731abc"
   },
   "outputs": [],
   "source": [
    "def handling_correlation(X_train,threshold=0.8):\n",
    "    corr_features = set()\n",
    "    corr_matrix = X_train.corr()\n",
    "    for i in range(len(corr_matrix .columns)):\n",
    "        for j in range(i):\n",
    "            if abs(corr_matrix.iloc[i, j]) >threshold:\n",
    "                colname = corr_matrix.columns[i]\n",
    "                corr_features.add(colname)\n",
    "    return list(corr_features)"
   ]
  },
  {
   "cell_type": "markdown",
   "id": "JaE_6qVgSXl3",
   "metadata": {
    "id": "JaE_6qVgSXl3"
   },
   "source": [
    "- Note : Here we are trying to find out the relevant fields, from X_train\n",
    "- Please fill in the blanks to call handling_correlation() function with a threshold value of 0.85"
   ]
  },
  {
   "cell_type": "code",
   "execution_count": 88,
   "id": "dd91d1a2",
   "metadata": {
    "id": "dd91d1a2"
   },
   "outputs": [
    {
     "data": {
      "text/plain": [
       "['day_of_baselinecreatedate',\n",
       " 'month_of_baselinecreatedate',\n",
       " 'month_of_dueindate',\n",
       " 'year_of_postingdate',\n",
       " 'year_of_dueindate',\n",
       " 'year_of_baselinecreatedate']"
      ]
     },
     "execution_count": 88,
     "metadata": {},
     "output_type": "execute_result"
    }
   ],
   "source": [
    "train=X_train.copy()\n",
    "handling_correlation(train.copy(),0.85)"
   ]
  },
  {
   "cell_type": "markdown",
   "id": "154da511",
   "metadata": {
    "id": "154da511"
   },
   "source": [
    "### Heatmap for X_train\n",
    "\n",
    "- Note - Keep the code as it is, no need to change"
   ]
  },
  {
   "cell_type": "code",
   "execution_count": 89,
   "id": "2e8f2fe4",
   "metadata": {
    "id": "2e8f2fe4"
   },
   "outputs": [
    {
     "data": {
      "text/plain": [
       "<AxesSubplot:title={'center':'Pearson Correlation of Features'}>"
      ]
     },
     "execution_count": 89,
     "metadata": {},
     "output_type": "execute_result"
    },
    {
     "data": {
      "image/png": "[encoded data removed]",
      "image/svg+xml": "<?xml version=\"1.0\" encoding=\"utf-8\" standalone=\"no\"?>\n<!DOCTYPE svg PUBLIC \"-//W3C//DTD SVG 1.1//EN\"\n  \"http://www.w3.org/Graphics/SVG/1.1/DTD/svg11.dtd\">\n<svg xmlns:xlink=\"http://www.w3.org/1999/xlink\" width=\"897.587563pt\" height=\"847.073625pt\" viewBox=\"0 0 897.587563 847.073625\" xmlns=\"http://www.w3.org/2000/svg\" version=\"1.1\">\n <metadata>\n  <rdf:RDF xmlns:dc=\"http://purl.org/dc/elements/1.1/\" xmlns:cc=\"http://creativecommons.org/ns#\" xmlns:rdf=\"http://www.w3.org/1999/02/22-rdf-syntax-ns#\">\n   <cc:Work>\n    <dc:type rdf:resource=\"http://purl.org/dc/dcmitype/StillImage\"/>\n    <dc:date>2022-02-25T14:04:00.165947</dc:date>\n    <dc:format>image/svg+xml</dc:format>\n    <dc:creator>\n     <cc:Agent>\n      <dc:title>Matplotlib v3.5.1, https://matplotlib.org/</dc:title>\n     </cc:Agent>\n    </dc:creator>\n   </cc:Work>\n  </rdf:RDF>\n </metadata>\n <defs>\n  <style type=\"text/css\">*{stroke-linejoin: round; stroke-linecap: butt}</style>\n </defs>\n <g id=\"figure_1\">\n  <g id=\"patch_1\">\n   <path d=\"M 0 847.073625 \nL 897.587563 847.073625 \nL 897.587563 0 \nL 0 0 \nz\n\"/>\n  </g>\n  <g id=\"axes_1\">\n   <g id=\"patch_2\">\n    <path d=\"M 162.46875 684.604875 \nL 787.42875 684.604875 \nL 787.42875 59.644875 \nL 162.46875 59.644875 \nz\n\"/>\n   </g>\n   <g id=\"QuadMesh_1\">\n    <path d=\"M 162.46875 59.644875 \nL 197.18875 59.644875 \nL 197.18875 94.364875 \nL 162.46875 94.364875 \nL 162.46875 59.644875 \n\" clip-path=\"url(#p91e0fdf145)\" style=\"fill: #ff0029; stroke: #ffffff; stroke-width: 0.1\"/>\n    <path d=\"M 197.18875 59.644875 \nL 231.90875 59.644875 \nL 231.90875 94.364875 \nL 197.18875 94.364875 \nL 197.18875 59.644875 \n\" clip-path=\"url(#p91e0fdf145)\" style=\"fill: #00a5ff; stroke: #ffffff; stroke-width: 0.1\"/>\n    <path d=\"M 231.90875 59.644875 \nL 266.62875 59.644875 \nL 266.62875 94.364875 \nL 231.90875 94.364875 \nL 231.90875 59.644875 \n\" clip-path=\"url(#p91e0fdf145)\" style=\"fill: #00a0ff; stroke: #ffffff; stroke-width: 0.1\"/>\n    <path d=\"M 266.62875 59.644875 \nL 301.34875 59.644875 \nL 301.34875 94.364875 \nL 266.62875 94.364875 \nL 266.62875 59.644875 \n\" clip-path=\"url(#p91e0fdf145)\" style=\"fill: #00a5ff; stroke: #ffffff; stroke-width: 0.1\"/>\n    <path d=\"M 301.34875 59.644875 \nL 336.06875 59.644875 \nL 336.06875 94.364875 \nL 301.34875 94.364875 \nL 301.34875 59.644875 \n\" clip-path=\"url(#p91e0fdf145)\" style=\"fill: #00a0ff; stroke: #ffffff; stroke-width: 0.1\"/>\n    <path d=\"M 336.06875 59.644875 \nL 370.78875 59.644875 \nL 370.78875 94.364875 \nL 336.06875 94.364875 \nL 336.06875 59.644875 \n\" clip-path=\"url(#p91e0fdf145)\" style=\"fill: #00a5ff; stroke: #ffffff; stroke-width: 0.1\"/>\n    <path d=\"M 370.78875 59.644875 \nL 405.50875 59.644875 \nL 405.50875 94.364875 \nL 370.78875 94.364875 \nL 370.78875 59.644875 \n\" clip-path=\"url(#p91e0fdf145)\" style=\"fill: #00aaff; stroke: #ffffff; stroke-width: 0.1\"/>\n    <path d=\"M 405.50875 59.644875 \nL 440.22875 59.644875 \nL 440.22875 94.364875 \nL 405.50875 94.364875 \nL 405.50875 59.644875 \n\" clip-path=\"url(#p91e0fdf145)\" style=\"fill: #00aaff; stroke: #ffffff; stroke-width: 0.1\"/>\n    <path d=\"M 440.22875 59.644875 \nL 474.94875 59.644875 \nL 474.94875 94.364875 \nL 440.22875 94.364875 \nL 440.22875 59.644875 \n\" clip-path=\"url(#p91e0fdf145)\" style=\"fill: #00a5ff; stroke: #ffffff; stroke-width: 0.1\"/>\n    <path d=\"M 474.94875 59.644875 \nL 509.66875 59.644875 \nL 509.66875 94.364875 \nL 474.94875 94.364875 \nL 474.94875 59.644875 \n\" clip-path=\"url(#p91e0fdf145)\" style=\"fill: #00a5ff; stroke: #ffffff; stroke-width: 0.1\"/>\n    <path d=\"M 509.66875 59.644875 \nL 544.38875 59.644875 \nL 544.38875 94.364875 \nL 509.66875 94.364875 \nL 509.66875 59.644875 \n\" clip-path=\"url(#p91e0fdf145)\" style=\"fill: #00a5ff; stroke: #ffffff; stroke-width: 0.1\"/>\n    <path d=\"M 544.38875 59.644875 \nL 579.10875 59.644875 \nL 579.10875 94.364875 \nL 544.38875 94.364875 \nL 544.38875 59.644875 \n\" clip-path=\"url(#p91e0fdf145)\" style=\"fill: #00a5ff; stroke: #ffffff; stroke-width: 0.1\"/>\n    <path d=\"M 579.10875 59.644875 \nL 613.82875 59.644875 \nL 613.82875 94.364875 \nL 579.10875 94.364875 \nL 579.10875 59.644875 \n\" clip-path=\"url(#p91e0fdf145)\" style=\"fill: #00a5ff; stroke: #ffffff; stroke-width: 0.1\"/>\n    <path d=\"M 613.82875 59.644875 \nL 648.54875 59.644875 \nL 648.54875 94.364875 \nL 613.82875 94.364875 \nL 613.82875 59.644875 \n\" clip-path=\"url(#p91e0fdf145)\" style=\"fill: #00a5ff; stroke: #ffffff; stroke-width: 0.1\"/>\n    <path d=\"M 648.54875 59.644875 \nL 683.26875 59.644875 \nL 683.26875 94.364875 \nL 648.54875 94.364875 \nL 648.54875 59.644875 \n\" clip-path=\"url(#p91e0fdf145)\" style=\"fill: #00a5ff; stroke: #ffffff; stroke-width: 0.1\"/>\n    <path d=\"M 683.26875 59.644875 \nL 717.98875 59.644875 \nL 717.98875 94.364875 \nL 683.26875 94.364875 \nL 683.26875 59.644875 \n\" clip-path=\"url(#p91e0fdf145)\" style=\"fill: #00aaff; stroke: #ffffff; stroke-width: 0.1\"/>\n    <path d=\"M 717.98875 59.644875 \nL 752.70875 59.644875 \nL 752.70875 94.364875 \nL 717.98875 94.364875 \nL 717.98875 59.644875 \n\" clip-path=\"url(#p91e0fdf145)\" style=\"fill: #00a0ff; stroke: #ffffff; stroke-width: 0.1\"/>\n    <path d=\"M 752.70875 59.644875 \nL 787.42875 59.644875 \nL 787.42875 94.364875 \nL 752.70875 94.364875 \nL 752.70875 59.644875 \n\" clip-path=\"url(#p91e0fdf145)\" style=\"fill: #009aff; stroke: #ffffff; stroke-width: 0.1\"/>\n    <path d=\"M 162.46875 94.364875 \nL 197.18875 94.364875 \nL 197.18875 129.084875 \nL 162.46875 129.084875 \nL 162.46875 94.364875 \n\" clip-path=\"url(#p91e0fdf145)\" style=\"fill: #00a5ff; stroke: #ffffff; stroke-width: 0.1\"/>\n    <path d=\"M 197.18875 94.364875 \nL 231.90875 94.364875 \nL 231.90875 129.084875 \nL 197.18875 129.084875 \nL 197.18875 94.364875 \n\" clip-path=\"url(#p91e0fdf145)\" style=\"fill: #ff0029; stroke: #ffffff; stroke-width: 0.1\"/>\n    <path d=\"M 231.90875 94.364875 \nL 266.62875 94.364875 \nL 266.62875 129.084875 \nL 231.90875 129.084875 \nL 231.90875 94.364875 \n\" clip-path=\"url(#p91e0fdf145)\" style=\"fill: #00a5ff; stroke: #ffffff; stroke-width: 0.1\"/>\n    <path d=\"M 266.62875 94.364875 \nL 301.34875 94.364875 \nL 301.34875 129.084875 \nL 266.62875 129.084875 \nL 266.62875 94.364875 \n\" clip-path=\"url(#p91e0fdf145)\" style=\"fill: #8100ff; stroke: #ffffff; stroke-width: 0.1\"/>\n    <path d=\"M 301.34875 94.364875 \nL 336.06875 94.364875 \nL 336.06875 129.084875 \nL 301.34875 129.084875 \nL 301.34875 94.364875 \n\" clip-path=\"url(#p91e0fdf145)\" style=\"fill: #00c0ff; stroke: #ffffff; stroke-width: 0.1\"/>\n    <path d=\"M 336.06875 94.364875 \nL 370.78875 94.364875 \nL 370.78875 129.084875 \nL 336.06875 129.084875 \nL 336.06875 94.364875 \n\" clip-path=\"url(#p91e0fdf145)\" style=\"fill: #007fff; stroke: #ffffff; stroke-width: 0.1\"/>\n    <path d=\"M 370.78875 94.364875 \nL 405.50875 94.364875 \nL 405.50875 129.084875 \nL 370.78875 129.084875 \nL 370.78875 94.364875 \n\" clip-path=\"url(#p91e0fdf145)\" style=\"fill: #00ffe7; stroke: #ffffff; stroke-width: 0.1\"/>\n    <path d=\"M 405.50875 94.364875 \nL 440.22875 94.364875 \nL 440.22875 129.084875 \nL 405.50875 129.084875 \nL 405.50875 94.364875 \n\" clip-path=\"url(#p91e0fdf145)\" style=\"fill: #0049ff; stroke: #ffffff; stroke-width: 0.1\"/>\n    <path d=\"M 440.22875 94.364875 \nL 474.94875 94.364875 \nL 474.94875 129.084875 \nL 440.22875 129.084875 \nL 440.22875 94.364875 \n\" clip-path=\"url(#p91e0fdf145)\" style=\"fill: #009aff; stroke: #ffffff; stroke-width: 0.1\"/>\n    <path d=\"M 474.94875 94.364875 \nL 509.66875 94.364875 \nL 509.66875 129.084875 \nL 474.94875 129.084875 \nL 474.94875 94.364875 \n\" clip-path=\"url(#p91e0fdf145)\" style=\"fill: #00b5ff; stroke: #ffffff; stroke-width: 0.1\"/>\n    <path d=\"M 509.66875 94.364875 \nL 544.38875 94.364875 \nL 544.38875 129.084875 \nL 509.66875 129.084875 \nL 509.66875 94.364875 \n\" clip-path=\"url(#p91e0fdf145)\" style=\"fill: #00a5ff; stroke: #ffffff; stroke-width: 0.1\"/>\n    <path d=\"M 544.38875 94.364875 \nL 579.10875 94.364875 \nL 579.10875 129.084875 \nL 544.38875 129.084875 \nL 544.38875 94.364875 \n\" clip-path=\"url(#p91e0fdf145)\" style=\"fill: #008fff; stroke: #ffffff; stroke-width: 0.1\"/>\n    <path d=\"M 579.10875 94.364875 \nL 613.82875 94.364875 \nL 613.82875 129.084875 \nL 579.10875 129.084875 \nL 579.10875 94.364875 \n\" clip-path=\"url(#p91e0fdf145)\" style=\"fill: #00b5ff; stroke: #ffffff; stroke-width: 0.1\"/>\n    <path d=\"M 613.82875 94.364875 \nL 648.54875 94.364875 \nL 648.54875 129.084875 \nL 613.82875 129.084875 \nL 613.82875 94.364875 \n\" clip-path=\"url(#p91e0fdf145)\" style=\"fill: #00a5ff; stroke: #ffffff; stroke-width: 0.1\"/>\n    <path d=\"M 648.54875 94.364875 \nL 683.26875 94.364875 \nL 683.26875 129.084875 \nL 648.54875 129.084875 \nL 648.54875 94.364875 \n\" clip-path=\"url(#p91e0fdf145)\" style=\"fill: #009aff; stroke: #ffffff; stroke-width: 0.1\"/>\n    <path d=\"M 683.26875 94.364875 \nL 717.98875 94.364875 \nL 717.98875 129.084875 \nL 683.26875 129.084875 \nL 683.26875 94.364875 \n\" clip-path=\"url(#p91e0fdf145)\" style=\"fill: #00aaff; stroke: #ffffff; stroke-width: 0.1\"/>\n    <path d=\"M 717.98875 94.364875 \nL 752.70875 94.364875 \nL 752.70875 129.084875 \nL 717.98875 129.084875 \nL 717.98875 94.364875 \n\" clip-path=\"url(#p91e0fdf145)\" style=\"fill: #00a5ff; stroke: #ffffff; stroke-width: 0.1\"/>\n    <path d=\"M 752.70875 94.364875 \nL 787.42875 94.364875 \nL 787.42875 129.084875 \nL 752.70875 129.084875 \nL 752.70875 94.364875 \n\" clip-path=\"url(#p91e0fdf145)\" style=\"fill: #ff00bf; stroke: #ffffff; stroke-width: 0.1\"/>\n    <path d=\"M 162.46875 129.084875 \nL 197.18875 129.084875 \nL 197.18875 163.804875 \nL 162.46875 163.804875 \nL 162.46875 129.084875 \n\" clip-path=\"url(#p91e0fdf145)\" style=\"fill: #00a0ff; stroke: #ffffff; stroke-width: 0.1\"/>\n    <path d=\"M 197.18875 129.084875 \nL 231.90875 129.084875 \nL 231.90875 163.804875 \nL 197.18875 163.804875 \nL 197.18875 129.084875 \n\" clip-path=\"url(#p91e0fdf145)\" style=\"fill: #00a5ff; stroke: #ffffff; stroke-width: 0.1\"/>\n    <path d=\"M 231.90875 129.084875 \nL 266.62875 129.084875 \nL 266.62875 163.804875 \nL 231.90875 163.804875 \nL 231.90875 129.084875 \n\" clip-path=\"url(#p91e0fdf145)\" style=\"fill: #ff0029; stroke: #ffffff; stroke-width: 0.1\"/>\n    <path d=\"M 266.62875 129.084875 \nL 301.34875 129.084875 \nL 301.34875 163.804875 \nL 266.62875 163.804875 \nL 266.62875 129.084875 \n\" clip-path=\"url(#p91e0fdf145)\" style=\"fill: #0095ff; stroke: #ffffff; stroke-width: 0.1\"/>\n    <path d=\"M 301.34875 129.084875 \nL 336.06875 129.084875 \nL 336.06875 163.804875 \nL 301.34875 163.804875 \nL 301.34875 129.084875 \n\" clip-path=\"url(#p91e0fdf145)\" style=\"fill: #009aff; stroke: #ffffff; stroke-width: 0.1\"/>\n    <path d=\"M 336.06875 129.084875 \nL 370.78875 129.084875 \nL 370.78875 163.804875 \nL 336.06875 163.804875 \nL 336.06875 129.084875 \n\" clip-path=\"url(#p91e0fdf145)\" style=\"fill: #00a5ff; stroke: #ffffff; stroke-width: 0.1\"/>\n    <path d=\"M 370.78875 129.084875 \nL 405.50875 129.084875 \nL 405.50875 163.804875 \nL 370.78875 163.804875 \nL 370.78875 129.084875 \n\" clip-path=\"url(#p91e0fdf145)\" style=\"fill: #0095ff; stroke: #ffffff; stroke-width: 0.1\"/>\n    <path d=\"M 405.50875 129.084875 \nL 440.22875 129.084875 \nL 440.22875 163.804875 \nL 405.50875 163.804875 \nL 405.50875 129.084875 \n\" clip-path=\"url(#p91e0fdf145)\" style=\"fill: #00a0ff; stroke: #ffffff; stroke-width: 0.1\"/>\n    <path d=\"M 440.22875 129.084875 \nL 474.94875 129.084875 \nL 474.94875 163.804875 \nL 440.22875 163.804875 \nL 440.22875 129.084875 \n\" clip-path=\"url(#p91e0fdf145)\" style=\"fill: #00bbff; stroke: #ffffff; stroke-width: 0.1\"/>\n    <path d=\"M 474.94875 129.084875 \nL 509.66875 129.084875 \nL 509.66875 163.804875 \nL 474.94875 163.804875 \nL 474.94875 129.084875 \n\" clip-path=\"url(#p91e0fdf145)\" style=\"fill: #e800ff; stroke: #ffffff; stroke-width: 0.1\"/>\n    <path d=\"M 509.66875 129.084875 \nL 544.38875 129.084875 \nL 544.38875 163.804875 \nL 509.66875 163.804875 \nL 509.66875 129.084875 \n\" clip-path=\"url(#p91e0fdf145)\" style=\"fill: #ff000e; stroke: #ffffff; stroke-width: 0.1\"/>\n    <path d=\"M 544.38875 129.084875 \nL 579.10875 129.084875 \nL 579.10875 163.804875 \nL 544.38875 163.804875 \nL 544.38875 129.084875 \n\" clip-path=\"url(#p91e0fdf145)\" style=\"fill: #00b5ff; stroke: #ffffff; stroke-width: 0.1\"/>\n    <path d=\"M 579.10875 129.084875 \nL 613.82875 129.084875 \nL 613.82875 163.804875 \nL 579.10875 163.804875 \nL 579.10875 129.084875 \n\" clip-path=\"url(#p91e0fdf145)\" style=\"fill: #e800ff; stroke: #ffffff; stroke-width: 0.1\"/>\n    <path d=\"M 613.82875 129.084875 \nL 648.54875 129.084875 \nL 648.54875 163.804875 \nL 613.82875 163.804875 \nL 613.82875 129.084875 \n\" clip-path=\"url(#p91e0fdf145)\" style=\"fill: #ff000e; stroke: #ffffff; stroke-width: 0.1\"/>\n    <path d=\"M 648.54875 129.084875 \nL 683.26875 129.084875 \nL 683.26875 163.804875 \nL 648.54875 163.804875 \nL 648.54875 129.084875 \n\" clip-path=\"url(#p91e0fdf145)\" style=\"fill: #009aff; stroke: #ffffff; stroke-width: 0.1\"/>\n    <path d=\"M 683.26875 129.084875 \nL 717.98875 129.084875 \nL 717.98875 163.804875 \nL 683.26875 163.804875 \nL 683.26875 129.084875 \n\" clip-path=\"url(#p91e0fdf145)\" style=\"fill: #ff00fb; stroke: #ffffff; stroke-width: 0.1\"/>\n    <path d=\"M 717.98875 129.084875 \nL 752.70875 129.084875 \nL 752.70875 163.804875 \nL 717.98875 163.804875 \nL 717.98875 129.084875 \n\" clip-path=\"url(#p91e0fdf145)\" style=\"fill: #ff001e; stroke: #ffffff; stroke-width: 0.1\"/>\n    <path d=\"M 752.70875 129.084875 \nL 787.42875 129.084875 \nL 787.42875 163.804875 \nL 752.70875 163.804875 \nL 752.70875 129.084875 \n\" clip-path=\"url(#p91e0fdf145)\" style=\"fill: #00a5ff; stroke: #ffffff; stroke-width: 0.1\"/>\n    <path d=\"M 162.46875 163.804875 \nL 197.18875 163.804875 \nL 197.18875 198.524875 \nL 162.46875 198.524875 \nL 162.46875 163.804875 \n\" clip-path=\"url(#p91e0fdf145)\" style=\"fill: #00a5ff; stroke: #ffffff; stroke-width: 0.1\"/>\n    <path d=\"M 197.18875 163.804875 \nL 231.90875 163.804875 \nL 231.90875 198.524875 \nL 197.18875 198.524875 \nL 197.18875 163.804875 \n\" clip-path=\"url(#p91e0fdf145)\" style=\"fill: #8100ff; stroke: #ffffff; stroke-width: 0.1\"/>\n    <path d=\"M 231.90875 163.804875 \nL 266.62875 163.804875 \nL 266.62875 198.524875 \nL 231.90875 198.524875 \nL 231.90875 163.804875 \n\" clip-path=\"url(#p91e0fdf145)\" style=\"fill: #0095ff; stroke: #ffffff; stroke-width: 0.1\"/>\n    <path d=\"M 266.62875 163.804875 \nL 301.34875 163.804875 \nL 301.34875 198.524875 \nL 266.62875 198.524875 \nL 266.62875 163.804875 \n\" clip-path=\"url(#p91e0fdf145)\" style=\"fill: #ff0029; stroke: #ffffff; stroke-width: 0.1\"/>\n    <path d=\"M 301.34875 163.804875 \nL 336.06875 163.804875 \nL 336.06875 198.524875 \nL 301.34875 198.524875 \nL 301.34875 163.804875 \n\" clip-path=\"url(#p91e0fdf145)\" style=\"fill: #00d6ff; stroke: #ffffff; stroke-width: 0.1\"/>\n    <path d=\"M 336.06875 163.804875 \nL 370.78875 163.804875 \nL 370.78875 198.524875 \nL 336.06875 198.524875 \nL 336.06875 163.804875 \n\" clip-path=\"url(#p91e0fdf145)\" style=\"fill: #ff00e0; stroke: #ffffff; stroke-width: 0.1\"/>\n    <path d=\"M 370.78875 163.804875 \nL 405.50875 163.804875 \nL 405.50875 198.524875 \nL 370.78875 198.524875 \nL 370.78875 163.804875 \n\" clip-path=\"url(#p91e0fdf145)\" style=\"fill: #009aff; stroke: #ffffff; stroke-width: 0.1\"/>\n    <path d=\"M 405.50875 163.804875 \nL 440.22875 163.804875 \nL 440.22875 198.524875 \nL 405.50875 198.524875 \nL 405.50875 163.804875 \n\" clip-path=\"url(#p91e0fdf145)\" style=\"fill: #ff00eb; stroke: #ffffff; stroke-width: 0.1\"/>\n    <path d=\"M 440.22875 163.804875 \nL 474.94875 163.804875 \nL 474.94875 198.524875 \nL 440.22875 198.524875 \nL 440.22875 163.804875 \n\" clip-path=\"url(#p91e0fdf145)\" style=\"fill: #00aaff; stroke: #ffffff; stroke-width: 0.1\"/>\n    <path d=\"M 474.94875 163.804875 \nL 509.66875 163.804875 \nL 509.66875 198.524875 \nL 474.94875 198.524875 \nL 474.94875 163.804875 \n\" clip-path=\"url(#p91e0fdf145)\" style=\"fill: #00a5ff; stroke: #ffffff; stroke-width: 0.1\"/>\n    <path d=\"M 509.66875 163.804875 \nL 544.38875 163.804875 \nL 544.38875 198.524875 \nL 509.66875 198.524875 \nL 509.66875 163.804875 \n\" clip-path=\"url(#p91e0fdf145)\" style=\"fill: #009aff; stroke: #ffffff; stroke-width: 0.1\"/>\n    <path d=\"M 544.38875 163.804875 \nL 579.10875 163.804875 \nL 579.10875 198.524875 \nL 544.38875 198.524875 \nL 544.38875 163.804875 \n\" clip-path=\"url(#p91e0fdf145)\" style=\"fill: #00b0ff; stroke: #ffffff; stroke-width: 0.1\"/>\n    <path d=\"M 579.10875 163.804875 \nL 613.82875 163.804875 \nL 613.82875 198.524875 \nL 579.10875 198.524875 \nL 579.10875 163.804875 \n\" clip-path=\"url(#p91e0fdf145)\" style=\"fill: #00a5ff; stroke: #ffffff; stroke-width: 0.1\"/>\n    <path d=\"M 613.82875 163.804875 \nL 648.54875 163.804875 \nL 648.54875 198.524875 \nL 613.82875 198.524875 \nL 613.82875 163.804875 \n\" clip-path=\"url(#p91e0fdf145)\" style=\"fill: #009aff; stroke: #ffffff; stroke-width: 0.1\"/>\n    <path d=\"M 648.54875 163.804875 \nL 683.26875 163.804875 \nL 683.26875 198.524875 \nL 648.54875 198.524875 \nL 648.54875 163.804875 \n\" clip-path=\"url(#p91e0fdf145)\" style=\"fill: #009aff; stroke: #ffffff; stroke-width: 0.1\"/>\n    <path d=\"M 683.26875 163.804875 \nL 717.98875 163.804875 \nL 717.98875 198.524875 \nL 683.26875 198.524875 \nL 683.26875 163.804875 \n\" clip-path=\"url(#p91e0fdf145)\" style=\"fill: #00a0ff; stroke: #ffffff; stroke-width: 0.1\"/>\n    <path d=\"M 717.98875 163.804875 \nL 752.70875 163.804875 \nL 752.70875 198.524875 \nL 717.98875 198.524875 \nL 717.98875 163.804875 \n\" clip-path=\"url(#p91e0fdf145)\" style=\"fill: #0095ff; stroke: #ffffff; stroke-width: 0.1\"/>\n    <path d=\"M 752.70875 163.804875 \nL 787.42875 163.804875 \nL 787.42875 198.524875 \nL 752.70875 198.524875 \nL 752.70875 163.804875 \n\" clip-path=\"url(#p91e0fdf145)\" style=\"fill: #00ff8c; stroke: #ffffff; stroke-width: 0.1\"/>\n    <path d=\"M 162.46875 198.524875 \nL 197.18875 198.524875 \nL 197.18875 233.244875 \nL 162.46875 233.244875 \nL 162.46875 198.524875 \n\" clip-path=\"url(#p91e0fdf145)\" style=\"fill: #00a0ff; stroke: #ffffff; stroke-width: 0.1\"/>\n    <path d=\"M 197.18875 198.524875 \nL 231.90875 198.524875 \nL 231.90875 233.244875 \nL 197.18875 233.244875 \nL 197.18875 198.524875 \n\" clip-path=\"url(#p91e0fdf145)\" style=\"fill: #00c0ff; stroke: #ffffff; stroke-width: 0.1\"/>\n    <path d=\"M 231.90875 198.524875 \nL 266.62875 198.524875 \nL 266.62875 233.244875 \nL 231.90875 233.244875 \nL 231.90875 198.524875 \n\" clip-path=\"url(#p91e0fdf145)\" style=\"fill: #009aff; stroke: #ffffff; stroke-width: 0.1\"/>\n    <path d=\"M 266.62875 198.524875 \nL 301.34875 198.524875 \nL 301.34875 233.244875 \nL 266.62875 233.244875 \nL 266.62875 198.524875 \n\" clip-path=\"url(#p91e0fdf145)\" style=\"fill: #00d6ff; stroke: #ffffff; stroke-width: 0.1\"/>\n    <path d=\"M 301.34875 198.524875 \nL 336.06875 198.524875 \nL 336.06875 233.244875 \nL 301.34875 233.244875 \nL 301.34875 198.524875 \n\" clip-path=\"url(#p91e0fdf145)\" style=\"fill: #ff0029; stroke: #ffffff; stroke-width: 0.1\"/>\n    <path d=\"M 336.06875 198.524875 \nL 370.78875 198.524875 \nL 370.78875 233.244875 \nL 336.06875 233.244875 \nL 336.06875 198.524875 \n\" clip-path=\"url(#p91e0fdf145)\" style=\"fill: #0074ff; stroke: #ffffff; stroke-width: 0.1\"/>\n    <path d=\"M 370.78875 198.524875 \nL 405.50875 198.524875 \nL 405.50875 233.244875 \nL 370.78875 233.244875 \nL 370.78875 198.524875 \n\" clip-path=\"url(#p91e0fdf145)\" style=\"fill: #0095ff; stroke: #ffffff; stroke-width: 0.1\"/>\n    <path d=\"M 405.50875 198.524875 \nL 440.22875 198.524875 \nL 440.22875 233.244875 \nL 405.50875 233.244875 \nL 405.50875 198.524875 \n\" clip-path=\"url(#p91e0fdf145)\" style=\"fill: #0023ff; stroke: #ffffff; stroke-width: 0.1\"/>\n    <path d=\"M 440.22875 198.524875 \nL 474.94875 198.524875 \nL 474.94875 233.244875 \nL 440.22875 233.244875 \nL 440.22875 198.524875 \n\" clip-path=\"url(#p91e0fdf145)\" style=\"fill: #00aaff; stroke: #ffffff; stroke-width: 0.1\"/>\n    <path d=\"M 474.94875 198.524875 \nL 509.66875 198.524875 \nL 509.66875 233.244875 \nL 474.94875 233.244875 \nL 474.94875 198.524875 \n\" clip-path=\"url(#p91e0fdf145)\" style=\"fill: #00c0ff; stroke: #ffffff; stroke-width: 0.1\"/>\n    <path d=\"M 509.66875 198.524875 \nL 544.38875 198.524875 \nL 544.38875 233.244875 \nL 509.66875 233.244875 \nL 509.66875 198.524875 \n\" clip-path=\"url(#p91e0fdf145)\" style=\"fill: #009aff; stroke: #ffffff; stroke-width: 0.1\"/>\n    <path d=\"M 544.38875 198.524875 \nL 579.10875 198.524875 \nL 579.10875 233.244875 \nL 544.38875 233.244875 \nL 544.38875 198.524875 \n\" clip-path=\"url(#p91e0fdf145)\" style=\"fill: #00bbff; stroke: #ffffff; stroke-width: 0.1\"/>\n    <path d=\"M 579.10875 198.524875 \nL 613.82875 198.524875 \nL 613.82875 233.244875 \nL 579.10875 233.244875 \nL 579.10875 198.524875 \n\" clip-path=\"url(#p91e0fdf145)\" style=\"fill: #00c6ff; stroke: #ffffff; stroke-width: 0.1\"/>\n    <path d=\"M 613.82875 198.524875 \nL 648.54875 198.524875 \nL 648.54875 233.244875 \nL 613.82875 233.244875 \nL 613.82875 198.524875 \n\" clip-path=\"url(#p91e0fdf145)\" style=\"fill: #009aff; stroke: #ffffff; stroke-width: 0.1\"/>\n    <path d=\"M 648.54875 198.524875 \nL 683.26875 198.524875 \nL 683.26875 233.244875 \nL 648.54875 233.244875 \nL 648.54875 198.524875 \n\" clip-path=\"url(#p91e0fdf145)\" style=\"fill: #009aff; stroke: #ffffff; stroke-width: 0.1\"/>\n    <path d=\"M 683.26875 198.524875 \nL 717.98875 198.524875 \nL 717.98875 233.244875 \nL 683.26875 233.244875 \nL 683.26875 198.524875 \n\" clip-path=\"url(#p91e0fdf145)\" style=\"fill: #00c0ff; stroke: #ffffff; stroke-width: 0.1\"/>\n    <path d=\"M 717.98875 198.524875 \nL 752.70875 198.524875 \nL 752.70875 233.244875 \nL 717.98875 233.244875 \nL 717.98875 198.524875 \n\" clip-path=\"url(#p91e0fdf145)\" style=\"fill: #009aff; stroke: #ffffff; stroke-width: 0.1\"/>\n    <path d=\"M 752.70875 198.524875 \nL 787.42875 198.524875 \nL 787.42875 233.244875 \nL 752.70875 233.244875 \nL 752.70875 198.524875 \n\" clip-path=\"url(#p91e0fdf145)\" style=\"fill: #00a0ff; stroke: #ffffff; stroke-width: 0.1\"/>\n    <path d=\"M 162.46875 233.244875 \nL 197.18875 233.244875 \nL 197.18875 267.964875 \nL 162.46875 267.964875 \nL 162.46875 233.244875 \n\" clip-path=\"url(#p91e0fdf145)\" style=\"fill: #00a5ff; stroke: #ffffff; stroke-width: 0.1\"/>\n    <path d=\"M 197.18875 233.244875 \nL 231.90875 233.244875 \nL 231.90875 267.964875 \nL 197.18875 267.964875 \nL 197.18875 233.244875 \n\" clip-path=\"url(#p91e0fdf145)\" style=\"fill: #007fff; stroke: #ffffff; stroke-width: 0.1\"/>\n    <path d=\"M 231.90875 233.244875 \nL 266.62875 233.244875 \nL 266.62875 267.964875 \nL 231.90875 267.964875 \nL 231.90875 233.244875 \n\" clip-path=\"url(#p91e0fdf145)\" style=\"fill: #00a5ff; stroke: #ffffff; stroke-width: 0.1\"/>\n    <path d=\"M 266.62875 233.244875 \nL 301.34875 233.244875 \nL 301.34875 267.964875 \nL 266.62875 267.964875 \nL 266.62875 233.244875 \n\" clip-path=\"url(#p91e0fdf145)\" style=\"fill: #ff00e0; stroke: #ffffff; stroke-width: 0.1\"/>\n    <path d=\"M 301.34875 233.244875 \nL 336.06875 233.244875 \nL 336.06875 267.964875 \nL 301.34875 267.964875 \nL 301.34875 233.244875 \n\" clip-path=\"url(#p91e0fdf145)\" style=\"fill: #0074ff; stroke: #ffffff; stroke-width: 0.1\"/>\n    <path d=\"M 336.06875 233.244875 \nL 370.78875 233.244875 \nL 370.78875 267.964875 \nL 336.06875 267.964875 \nL 336.06875 233.244875 \n\" clip-path=\"url(#p91e0fdf145)\" style=\"fill: #ff0029; stroke: #ffffff; stroke-width: 0.1\"/>\n    <path d=\"M 370.78875 233.244875 \nL 405.50875 233.244875 \nL 405.50875 267.964875 \nL 370.78875 267.964875 \nL 370.78875 233.244875 \n\" clip-path=\"url(#p91e0fdf145)\" style=\"fill: #008fff; stroke: #ffffff; stroke-width: 0.1\"/>\n    <path d=\"M 405.50875 233.244875 \nL 440.22875 233.244875 \nL 440.22875 267.964875 \nL 405.50875 267.964875 \nL 405.50875 233.244875 \n\" clip-path=\"url(#p91e0fdf145)\" style=\"fill: #67ff00; stroke: #ffffff; stroke-width: 0.1\"/>\n    <path d=\"M 440.22875 233.244875 \nL 474.94875 233.244875 \nL 474.94875 267.964875 \nL 440.22875 267.964875 \nL 440.22875 233.244875 \n\" clip-path=\"url(#p91e0fdf145)\" style=\"fill: #00a5ff; stroke: #ffffff; stroke-width: 0.1\"/>\n    <path d=\"M 474.94875 233.244875 \nL 509.66875 233.244875 \nL 509.66875 267.964875 \nL 474.94875 267.964875 \nL 474.94875 233.244875 \n\" clip-path=\"url(#p91e0fdf145)\" style=\"fill: #0095ff; stroke: #ffffff; stroke-width: 0.1\"/>\n    <path d=\"M 509.66875 233.244875 \nL 544.38875 233.244875 \nL 544.38875 267.964875 \nL 509.66875 267.964875 \nL 509.66875 233.244875 \n\" clip-path=\"url(#p91e0fdf145)\" style=\"fill: #00a5ff; stroke: #ffffff; stroke-width: 0.1\"/>\n    <path d=\"M 544.38875 233.244875 \nL 579.10875 233.244875 \nL 579.10875 267.964875 \nL 544.38875 267.964875 \nL 544.38875 233.244875 \n\" clip-path=\"url(#p91e0fdf145)\" style=\"fill: #00a5ff; stroke: #ffffff; stroke-width: 0.1\"/>\n    <path d=\"M 579.10875 233.244875 \nL 613.82875 233.244875 \nL 613.82875 267.964875 \nL 579.10875 267.964875 \nL 579.10875 233.244875 \n\" clip-path=\"url(#p91e0fdf145)\" style=\"fill: #008fff; stroke: #ffffff; stroke-width: 0.1\"/>\n    <path d=\"M 613.82875 233.244875 \nL 648.54875 233.244875 \nL 648.54875 267.964875 \nL 613.82875 267.964875 \nL 613.82875 233.244875 \n\" clip-path=\"url(#p91e0fdf145)\" style=\"fill: #00a5ff; stroke: #ffffff; stroke-width: 0.1\"/>\n    <path d=\"M 648.54875 233.244875 \nL 683.26875 233.244875 \nL 683.26875 267.964875 \nL 648.54875 267.964875 \nL 648.54875 233.244875 \n\" clip-path=\"url(#p91e0fdf145)\" style=\"fill: #00a0ff; stroke: #ffffff; stroke-width: 0.1\"/>\n    <path d=\"M 683.26875 233.244875 \nL 717.98875 233.244875 \nL 717.98875 267.964875 \nL 683.26875 267.964875 \nL 683.26875 233.244875 \n\" clip-path=\"url(#p91e0fdf145)\" style=\"fill: #00aaff; stroke: #ffffff; stroke-width: 0.1\"/>\n    <path d=\"M 717.98875 233.244875 \nL 752.70875 233.244875 \nL 752.70875 267.964875 \nL 717.98875 267.964875 \nL 717.98875 233.244875 \n\" clip-path=\"url(#p91e0fdf145)\" style=\"fill: #00aaff; stroke: #ffffff; stroke-width: 0.1\"/>\n    <path d=\"M 752.70875 233.244875 \nL 787.42875 233.244875 \nL 787.42875 267.964875 \nL 752.70875 267.964875 \nL 752.70875 233.244875 \n\" clip-path=\"url(#p91e0fdf145)\" style=\"fill: #009aff; stroke: #ffffff; stroke-width: 0.1\"/>\n    <path d=\"M 162.46875 267.964875 \nL 197.18875 267.964875 \nL 197.18875 302.684875 \nL 162.46875 302.684875 \nL 162.46875 267.964875 \n\" clip-path=\"url(#p91e0fdf145)\" style=\"fill: #00aaff; stroke: #ffffff; stroke-width: 0.1\"/>\n    <path d=\"M 197.18875 267.964875 \nL 231.90875 267.964875 \nL 231.90875 302.684875 \nL 197.18875 302.684875 \nL 197.18875 267.964875 \n\" clip-path=\"url(#p91e0fdf145)\" style=\"fill: #00ffe7; stroke: #ffffff; stroke-width: 0.1\"/>\n    <path d=\"M 231.90875 267.964875 \nL 266.62875 267.964875 \nL 266.62875 302.684875 \nL 231.90875 302.684875 \nL 231.90875 267.964875 \n\" clip-path=\"url(#p91e0fdf145)\" style=\"fill: #0095ff; stroke: #ffffff; stroke-width: 0.1\"/>\n    <path d=\"M 266.62875 267.964875 \nL 301.34875 267.964875 \nL 301.34875 302.684875 \nL 266.62875 302.684875 \nL 266.62875 267.964875 \n\" clip-path=\"url(#p91e0fdf145)\" style=\"fill: #009aff; stroke: #ffffff; stroke-width: 0.1\"/>\n    <path d=\"M 301.34875 267.964875 \nL 336.06875 267.964875 \nL 336.06875 302.684875 \nL 301.34875 302.684875 \nL 301.34875 267.964875 \n\" clip-path=\"url(#p91e0fdf145)\" style=\"fill: #0095ff; stroke: #ffffff; stroke-width: 0.1\"/>\n    <path d=\"M 336.06875 267.964875 \nL 370.78875 267.964875 \nL 370.78875 302.684875 \nL 336.06875 302.684875 \nL 336.06875 267.964875 \n\" clip-path=\"url(#p91e0fdf145)\" style=\"fill: #008fff; stroke: #ffffff; stroke-width: 0.1\"/>\n    <path d=\"M 370.78875 267.964875 \nL 405.50875 267.964875 \nL 405.50875 302.684875 \nL 370.78875 302.684875 \nL 370.78875 267.964875 \n\" clip-path=\"url(#p91e0fdf145)\" style=\"fill: #ff0029; stroke: #ffffff; stroke-width: 0.1\"/>\n    <path d=\"M 405.50875 267.964875 \nL 440.22875 267.964875 \nL 440.22875 302.684875 \nL 405.50875 302.684875 \nL 405.50875 267.964875 \n\" clip-path=\"url(#p91e0fdf145)\" style=\"fill: #00fff2; stroke: #ffffff; stroke-width: 0.1\"/>\n    <path d=\"M 440.22875 267.964875 \nL 474.94875 267.964875 \nL 474.94875 302.684875 \nL 440.22875 302.684875 \nL 440.22875 267.964875 \n\" clip-path=\"url(#p91e0fdf145)\" style=\"fill: #00a0ff; stroke: #ffffff; stroke-width: 0.1\"/>\n    <path d=\"M 474.94875 267.964875 \nL 509.66875 267.964875 \nL 509.66875 302.684875 \nL 474.94875 302.684875 \nL 474.94875 267.964875 \n\" clip-path=\"url(#p91e0fdf145)\" style=\"fill: #00b5ff; stroke: #ffffff; stroke-width: 0.1\"/>\n    <path d=\"M 509.66875 267.964875 \nL 544.38875 267.964875 \nL 544.38875 302.684875 \nL 509.66875 302.684875 \nL 509.66875 267.964875 \n\" clip-path=\"url(#p91e0fdf145)\" style=\"fill: #0095ff; stroke: #ffffff; stroke-width: 0.1\"/>\n    <path d=\"M 544.38875 267.964875 \nL 579.10875 267.964875 \nL 579.10875 302.684875 \nL 544.38875 302.684875 \nL 544.38875 267.964875 \n\" clip-path=\"url(#p91e0fdf145)\" style=\"fill: #00bbff; stroke: #ffffff; stroke-width: 0.1\"/>\n    <path d=\"M 579.10875 267.964875 \nL 613.82875 267.964875 \nL 613.82875 302.684875 \nL 579.10875 302.684875 \nL 579.10875 267.964875 \n\" clip-path=\"url(#p91e0fdf145)\" style=\"fill: #00b5ff; stroke: #ffffff; stroke-width: 0.1\"/>\n    <path d=\"M 613.82875 267.964875 \nL 648.54875 267.964875 \nL 648.54875 302.684875 \nL 613.82875 302.684875 \nL 613.82875 267.964875 \n\" clip-path=\"url(#p91e0fdf145)\" style=\"fill: #0095ff; stroke: #ffffff; stroke-width: 0.1\"/>\n    <path d=\"M 648.54875 267.964875 \nL 683.26875 267.964875 \nL 683.26875 302.684875 \nL 648.54875 302.684875 \nL 648.54875 267.964875 \n\" clip-path=\"url(#p91e0fdf145)\" style=\"fill: #00a0ff; stroke: #ffffff; stroke-width: 0.1\"/>\n    <path d=\"M 683.26875 267.964875 \nL 717.98875 267.964875 \nL 717.98875 302.684875 \nL 683.26875 302.684875 \nL 683.26875 267.964875 \n\" clip-path=\"url(#p91e0fdf145)\" style=\"fill: #00b0ff; stroke: #ffffff; stroke-width: 0.1\"/>\n    <path d=\"M 717.98875 267.964875 \nL 752.70875 267.964875 \nL 752.70875 302.684875 \nL 717.98875 302.684875 \nL 717.98875 267.964875 \n\" clip-path=\"url(#p91e0fdf145)\" style=\"fill: #0095ff; stroke: #ffffff; stroke-width: 0.1\"/>\n    <path d=\"M 752.70875 267.964875 \nL 787.42875 267.964875 \nL 787.42875 302.684875 \nL 752.70875 302.684875 \nL 752.70875 267.964875 \n\" clip-path=\"url(#p91e0fdf145)\" style=\"fill: #007fff; stroke: #ffffff; stroke-width: 0.1\"/>\n    <path d=\"M 162.46875 302.684875 \nL 197.18875 302.684875 \nL 197.18875 337.404875 \nL 162.46875 337.404875 \nL 162.46875 302.684875 \n\" clip-path=\"url(#p91e0fdf145)\" style=\"fill: #00aaff; stroke: #ffffff; stroke-width: 0.1\"/>\n    <path d=\"M 197.18875 302.684875 \nL 231.90875 302.684875 \nL 231.90875 337.404875 \nL 197.18875 337.404875 \nL 197.18875 302.684875 \n\" clip-path=\"url(#p91e0fdf145)\" style=\"fill: #0049ff; stroke: #ffffff; stroke-width: 0.1\"/>\n    <path d=\"M 231.90875 302.684875 \nL 266.62875 302.684875 \nL 266.62875 337.404875 \nL 231.90875 337.404875 \nL 231.90875 302.684875 \n\" clip-path=\"url(#p91e0fdf145)\" style=\"fill: #00a0ff; stroke: #ffffff; stroke-width: 0.1\"/>\n    <path d=\"M 266.62875 302.684875 \nL 301.34875 302.684875 \nL 301.34875 337.404875 \nL 266.62875 337.404875 \nL 266.62875 302.684875 \n\" clip-path=\"url(#p91e0fdf145)\" style=\"fill: #ff00eb; stroke: #ffffff; stroke-width: 0.1\"/>\n    <path d=\"M 301.34875 302.684875 \nL 336.06875 302.684875 \nL 336.06875 337.404875 \nL 301.34875 337.404875 \nL 301.34875 302.684875 \n\" clip-path=\"url(#p91e0fdf145)\" style=\"fill: #0023ff; stroke: #ffffff; stroke-width: 0.1\"/>\n    <path d=\"M 336.06875 302.684875 \nL 370.78875 302.684875 \nL 370.78875 337.404875 \nL 336.06875 337.404875 \nL 336.06875 302.684875 \n\" clip-path=\"url(#p91e0fdf145)\" style=\"fill: #67ff00; stroke: #ffffff; stroke-width: 0.1\"/>\n    <path d=\"M 370.78875 302.684875 \nL 405.50875 302.684875 \nL 405.50875 337.404875 \nL 370.78875 337.404875 \nL 370.78875 302.684875 \n\" clip-path=\"url(#p91e0fdf145)\" style=\"fill: #00fff2; stroke: #ffffff; stroke-width: 0.1\"/>\n    <path d=\"M 405.50875 302.684875 \nL 440.22875 302.684875 \nL 440.22875 337.404875 \nL 405.50875 337.404875 \nL 405.50875 302.684875 \n\" clip-path=\"url(#p91e0fdf145)\" style=\"fill: #ff0029; stroke: #ffffff; stroke-width: 0.1\"/>\n    <path d=\"M 440.22875 302.684875 \nL 474.94875 302.684875 \nL 474.94875 337.404875 \nL 440.22875 337.404875 \nL 440.22875 302.684875 \n\" clip-path=\"url(#p91e0fdf145)\" style=\"fill: #00b0ff; stroke: #ffffff; stroke-width: 0.1\"/>\n    <path d=\"M 474.94875 302.684875 \nL 509.66875 302.684875 \nL 509.66875 337.404875 \nL 474.94875 337.404875 \nL 474.94875 302.684875 \n\" clip-path=\"url(#p91e0fdf145)\" style=\"fill: #00aaff; stroke: #ffffff; stroke-width: 0.1\"/>\n    <path d=\"M 509.66875 302.684875 \nL 544.38875 302.684875 \nL 544.38875 337.404875 \nL 509.66875 337.404875 \nL 509.66875 302.684875 \n\" clip-path=\"url(#p91e0fdf145)\" style=\"fill: #00a5ff; stroke: #ffffff; stroke-width: 0.1\"/>\n    <path d=\"M 544.38875 302.684875 \nL 579.10875 302.684875 \nL 579.10875 337.404875 \nL 544.38875 337.404875 \nL 544.38875 302.684875 \n\" clip-path=\"url(#p91e0fdf145)\" style=\"fill: #0095ff; stroke: #ffffff; stroke-width: 0.1\"/>\n    <path d=\"M 579.10875 302.684875 \nL 613.82875 302.684875 \nL 613.82875 337.404875 \nL 579.10875 337.404875 \nL 579.10875 302.684875 \n\" clip-path=\"url(#p91e0fdf145)\" style=\"fill: #00a5ff; stroke: #ffffff; stroke-width: 0.1\"/>\n    <path d=\"M 613.82875 302.684875 \nL 648.54875 302.684875 \nL 648.54875 337.404875 \nL 613.82875 337.404875 \nL 613.82875 302.684875 \n\" clip-path=\"url(#p91e0fdf145)\" style=\"fill: #00a0ff; stroke: #ffffff; stroke-width: 0.1\"/>\n    <path d=\"M 648.54875 302.684875 \nL 683.26875 302.684875 \nL 683.26875 337.404875 \nL 648.54875 337.404875 \nL 648.54875 302.684875 \n\" clip-path=\"url(#p91e0fdf145)\" style=\"fill: #00a5ff; stroke: #ffffff; stroke-width: 0.1\"/>\n    <path d=\"M 683.26875 302.684875 \nL 717.98875 302.684875 \nL 717.98875 337.404875 \nL 683.26875 337.404875 \nL 683.26875 302.684875 \n\" clip-path=\"url(#p91e0fdf145)\" style=\"fill: #00bbff; stroke: #ffffff; stroke-width: 0.1\"/>\n    <path d=\"M 717.98875 302.684875 \nL 752.70875 302.684875 \nL 752.70875 337.404875 \nL 717.98875 337.404875 \nL 717.98875 302.684875 \n\" clip-path=\"url(#p91e0fdf145)\" style=\"fill: #00a5ff; stroke: #ffffff; stroke-width: 0.1\"/>\n    <path d=\"M 752.70875 302.684875 \nL 787.42875 302.684875 \nL 787.42875 337.404875 \nL 752.70875 337.404875 \nL 752.70875 302.684875 \n\" clip-path=\"url(#p91e0fdf145)\" style=\"fill: #00fff7; stroke: #ffffff; stroke-width: 0.1\"/>\n    <path d=\"M 162.46875 337.404875 \nL 197.18875 337.404875 \nL 197.18875 372.124875 \nL 162.46875 372.124875 \nL 162.46875 337.404875 \n\" clip-path=\"url(#p91e0fdf145)\" style=\"fill: #00a5ff; stroke: #ffffff; stroke-width: 0.1\"/>\n    <path d=\"M 197.18875 337.404875 \nL 231.90875 337.404875 \nL 231.90875 372.124875 \nL 197.18875 372.124875 \nL 197.18875 337.404875 \n\" clip-path=\"url(#p91e0fdf145)\" style=\"fill: #009aff; stroke: #ffffff; stroke-width: 0.1\"/>\n    <path d=\"M 231.90875 337.404875 \nL 266.62875 337.404875 \nL 266.62875 372.124875 \nL 231.90875 372.124875 \nL 231.90875 337.404875 \n\" clip-path=\"url(#p91e0fdf145)\" style=\"fill: #00bbff; stroke: #ffffff; stroke-width: 0.1\"/>\n    <path d=\"M 266.62875 337.404875 \nL 301.34875 337.404875 \nL 301.34875 372.124875 \nL 266.62875 372.124875 \nL 266.62875 337.404875 \n\" clip-path=\"url(#p91e0fdf145)\" style=\"fill: #00aaff; stroke: #ffffff; stroke-width: 0.1\"/>\n    <path d=\"M 301.34875 337.404875 \nL 336.06875 337.404875 \nL 336.06875 372.124875 \nL 301.34875 372.124875 \nL 301.34875 337.404875 \n\" clip-path=\"url(#p91e0fdf145)\" style=\"fill: #00aaff; stroke: #ffffff; stroke-width: 0.1\"/>\n    <path d=\"M 336.06875 337.404875 \nL 370.78875 337.404875 \nL 370.78875 372.124875 \nL 336.06875 372.124875 \nL 336.06875 337.404875 \n\" clip-path=\"url(#p91e0fdf145)\" style=\"fill: #00a5ff; stroke: #ffffff; stroke-width: 0.1\"/>\n    <path d=\"M 370.78875 337.404875 \nL 405.50875 337.404875 \nL 405.50875 372.124875 \nL 370.78875 372.124875 \nL 370.78875 337.404875 \n\" clip-path=\"url(#p91e0fdf145)\" style=\"fill: #00a0ff; stroke: #ffffff; stroke-width: 0.1\"/>\n    <path d=\"M 405.50875 337.404875 \nL 440.22875 337.404875 \nL 440.22875 372.124875 \nL 405.50875 372.124875 \nL 405.50875 337.404875 \n\" clip-path=\"url(#p91e0fdf145)\" style=\"fill: #00b0ff; stroke: #ffffff; stroke-width: 0.1\"/>\n    <path d=\"M 440.22875 337.404875 \nL 474.94875 337.404875 \nL 474.94875 372.124875 \nL 440.22875 372.124875 \nL 440.22875 337.404875 \n\" clip-path=\"url(#p91e0fdf145)\" style=\"fill: #ff0029; stroke: #ffffff; stroke-width: 0.1\"/>\n    <path d=\"M 474.94875 337.404875 \nL 509.66875 337.404875 \nL 509.66875 372.124875 \nL 474.94875 372.124875 \nL 474.94875 337.404875 \n\" clip-path=\"url(#p91e0fdf145)\" style=\"fill: #007fff; stroke: #ffffff; stroke-width: 0.1\"/>\n    <path d=\"M 509.66875 337.404875 \nL 544.38875 337.404875 \nL 544.38875 372.124875 \nL 509.66875 372.124875 \nL 509.66875 337.404875 \n\" clip-path=\"url(#p91e0fdf145)\" style=\"fill: #0095ff; stroke: #ffffff; stroke-width: 0.1\"/>\n    <path d=\"M 544.38875 337.404875 \nL 579.10875 337.404875 \nL 579.10875 372.124875 \nL 544.38875 372.124875 \nL 544.38875 337.404875 \n\" clip-path=\"url(#p91e0fdf145)\" style=\"fill: #ff0200; stroke: #ffffff; stroke-width: 0.1\"/>\n    <path d=\"M 579.10875 337.404875 \nL 613.82875 337.404875 \nL 613.82875 372.124875 \nL 579.10875 372.124875 \nL 579.10875 337.404875 \n\" clip-path=\"url(#p91e0fdf145)\" style=\"fill: #007fff; stroke: #ffffff; stroke-width: 0.1\"/>\n    <path d=\"M 613.82875 337.404875 \nL 648.54875 337.404875 \nL 648.54875 372.124875 \nL 613.82875 372.124875 \nL 613.82875 337.404875 \n\" clip-path=\"url(#p91e0fdf145)\" style=\"fill: #009aff; stroke: #ffffff; stroke-width: 0.1\"/>\n    <path d=\"M 648.54875 337.404875 \nL 683.26875 337.404875 \nL 683.26875 372.124875 \nL 648.54875 372.124875 \nL 648.54875 337.404875 \n\" clip-path=\"url(#p91e0fdf145)\" style=\"fill: #ac00ff; stroke: #ffffff; stroke-width: 0.1\"/>\n    <path d=\"M 683.26875 337.404875 \nL 717.98875 337.404875 \nL 717.98875 372.124875 \nL 683.26875 372.124875 \nL 683.26875 337.404875 \n\" clip-path=\"url(#p91e0fdf145)\" style=\"fill: #00b5ff; stroke: #ffffff; stroke-width: 0.1\"/>\n    <path d=\"M 717.98875 337.404875 \nL 752.70875 337.404875 \nL 752.70875 372.124875 \nL 717.98875 372.124875 \nL 717.98875 337.404875 \n\" clip-path=\"url(#p91e0fdf145)\" style=\"fill: #00c0ff; stroke: #ffffff; stroke-width: 0.1\"/>\n    <path d=\"M 752.70875 337.404875 \nL 787.42875 337.404875 \nL 787.42875 372.124875 \nL 752.70875 372.124875 \nL 752.70875 337.404875 \n\" clip-path=\"url(#p91e0fdf145)\" style=\"fill: #00bbff; stroke: #ffffff; stroke-width: 0.1\"/>\n    <path d=\"M 162.46875 372.124875 \nL 197.18875 372.124875 \nL 197.18875 406.844875 \nL 162.46875 406.844875 \nL 162.46875 372.124875 \n\" clip-path=\"url(#p91e0fdf145)\" style=\"fill: #00a5ff; stroke: #ffffff; stroke-width: 0.1\"/>\n    <path d=\"M 197.18875 372.124875 \nL 231.90875 372.124875 \nL 231.90875 406.844875 \nL 197.18875 406.844875 \nL 197.18875 372.124875 \n\" clip-path=\"url(#p91e0fdf145)\" style=\"fill: #00b5ff; stroke: #ffffff; stroke-width: 0.1\"/>\n    <path d=\"M 231.90875 372.124875 \nL 266.62875 372.124875 \nL 266.62875 406.844875 \nL 231.90875 406.844875 \nL 231.90875 372.124875 \n\" clip-path=\"url(#p91e0fdf145)\" style=\"fill: #e800ff; stroke: #ffffff; stroke-width: 0.1\"/>\n    <path d=\"M 266.62875 372.124875 \nL 301.34875 372.124875 \nL 301.34875 406.844875 \nL 266.62875 406.844875 \nL 266.62875 372.124875 \n\" clip-path=\"url(#p91e0fdf145)\" style=\"fill: #00a5ff; stroke: #ffffff; stroke-width: 0.1\"/>\n    <path d=\"M 301.34875 372.124875 \nL 336.06875 372.124875 \nL 336.06875 406.844875 \nL 301.34875 406.844875 \nL 301.34875 372.124875 \n\" clip-path=\"url(#p91e0fdf145)\" style=\"fill: #00c0ff; stroke: #ffffff; stroke-width: 0.1\"/>\n    <path d=\"M 336.06875 372.124875 \nL 370.78875 372.124875 \nL 370.78875 406.844875 \nL 336.06875 406.844875 \nL 336.06875 372.124875 \n\" clip-path=\"url(#p91e0fdf145)\" style=\"fill: #0095ff; stroke: #ffffff; stroke-width: 0.1\"/>\n    <path d=\"M 370.78875 372.124875 \nL 405.50875 372.124875 \nL 405.50875 406.844875 \nL 370.78875 406.844875 \nL 370.78875 372.124875 \n\" clip-path=\"url(#p91e0fdf145)\" style=\"fill: #00b5ff; stroke: #ffffff; stroke-width: 0.1\"/>\n    <path d=\"M 405.50875 372.124875 \nL 440.22875 372.124875 \nL 440.22875 406.844875 \nL 405.50875 406.844875 \nL 405.50875 372.124875 \n\" clip-path=\"url(#p91e0fdf145)\" style=\"fill: #00aaff; stroke: #ffffff; stroke-width: 0.1\"/>\n    <path d=\"M 440.22875 372.124875 \nL 474.94875 372.124875 \nL 474.94875 406.844875 \nL 440.22875 406.844875 \nL 440.22875 372.124875 \n\" clip-path=\"url(#p91e0fdf145)\" style=\"fill: #007fff; stroke: #ffffff; stroke-width: 0.1\"/>\n    <path d=\"M 474.94875 372.124875 \nL 509.66875 372.124875 \nL 509.66875 406.844875 \nL 474.94875 406.844875 \nL 474.94875 372.124875 \n\" clip-path=\"url(#p91e0fdf145)\" style=\"fill: #ff0029; stroke: #ffffff; stroke-width: 0.1\"/>\n    <path d=\"M 509.66875 372.124875 \nL 544.38875 372.124875 \nL 544.38875 406.844875 \nL 509.66875 406.844875 \nL 509.66875 372.124875 \n\" clip-path=\"url(#p91e0fdf145)\" style=\"fill: #ff00f0; stroke: #ffffff; stroke-width: 0.1\"/>\n    <path d=\"M 544.38875 372.124875 \nL 579.10875 372.124875 \nL 579.10875 406.844875 \nL 544.38875 406.844875 \nL 544.38875 372.124875 \n\" clip-path=\"url(#p91e0fdf145)\" style=\"fill: #007fff; stroke: #ffffff; stroke-width: 0.1\"/>\n    <path d=\"M 579.10875 372.124875 \nL 613.82875 372.124875 \nL 613.82875 406.844875 \nL 579.10875 406.844875 \nL 579.10875 372.124875 \n\" clip-path=\"url(#p91e0fdf145)\" style=\"fill: #ff0029; stroke: #ffffff; stroke-width: 0.1\"/>\n    <path d=\"M 613.82875 372.124875 \nL 648.54875 372.124875 \nL 648.54875 406.844875 \nL 613.82875 406.844875 \nL 613.82875 372.124875 \n\" clip-path=\"url(#p91e0fdf145)\" style=\"fill: #ff00f6; stroke: #ffffff; stroke-width: 0.1\"/>\n    <path d=\"M 648.54875 372.124875 \nL 683.26875 372.124875 \nL 683.26875 406.844875 \nL 648.54875 406.844875 \nL 648.54875 372.124875 \n\" clip-path=\"url(#p91e0fdf145)\" style=\"fill: #00d6ff; stroke: #ffffff; stroke-width: 0.1\"/>\n    <path d=\"M 683.26875 372.124875 \nL 717.98875 372.124875 \nL 717.98875 406.844875 \nL 683.26875 406.844875 \nL 683.26875 372.124875 \n\" clip-path=\"url(#p91e0fdf145)\" style=\"fill: #ff1d00; stroke: #ffffff; stroke-width: 0.1\"/>\n    <path d=\"M 717.98875 372.124875 \nL 752.70875 372.124875 \nL 752.70875 406.844875 \nL 717.98875 406.844875 \nL 717.98875 372.124875 \n\" clip-path=\"url(#p91e0fdf145)\" style=\"fill: #d200ff; stroke: #ffffff; stroke-width: 0.1\"/>\n    <path d=\"M 752.70875 372.124875 \nL 787.42875 372.124875 \nL 787.42875 406.844875 \nL 752.70875 406.844875 \nL 752.70875 372.124875 \n\" clip-path=\"url(#p91e0fdf145)\" style=\"fill: #008aff; stroke: #ffffff; stroke-width: 0.1\"/>\n    <path d=\"M 162.46875 406.844875 \nL 197.18875 406.844875 \nL 197.18875 441.564875 \nL 162.46875 441.564875 \nL 162.46875 406.844875 \n\" clip-path=\"url(#p91e0fdf145)\" style=\"fill: #00a5ff; stroke: #ffffff; stroke-width: 0.1\"/>\n    <path d=\"M 197.18875 406.844875 \nL 231.90875 406.844875 \nL 231.90875 441.564875 \nL 197.18875 441.564875 \nL 197.18875 406.844875 \n\" clip-path=\"url(#p91e0fdf145)\" style=\"fill: #00a5ff; stroke: #ffffff; stroke-width: 0.1\"/>\n    <path d=\"M 231.90875 406.844875 \nL 266.62875 406.844875 \nL 266.62875 441.564875 \nL 231.90875 441.564875 \nL 231.90875 406.844875 \n\" clip-path=\"url(#p91e0fdf145)\" style=\"fill: #ff000e; stroke: #ffffff; stroke-width: 0.1\"/>\n    <path d=\"M 266.62875 406.844875 \nL 301.34875 406.844875 \nL 301.34875 441.564875 \nL 266.62875 441.564875 \nL 266.62875 406.844875 \n\" clip-path=\"url(#p91e0fdf145)\" style=\"fill: #009aff; stroke: #ffffff; stroke-width: 0.1\"/>\n    <path d=\"M 301.34875 406.844875 \nL 336.06875 406.844875 \nL 336.06875 441.564875 \nL 301.34875 441.564875 \nL 301.34875 406.844875 \n\" clip-path=\"url(#p91e0fdf145)\" style=\"fill: #009aff; stroke: #ffffff; stroke-width: 0.1\"/>\n    <path d=\"M 336.06875 406.844875 \nL 370.78875 406.844875 \nL 370.78875 441.564875 \nL 336.06875 441.564875 \nL 336.06875 406.844875 \n\" clip-path=\"url(#p91e0fdf145)\" style=\"fill: #00a5ff; stroke: #ffffff; stroke-width: 0.1\"/>\n    <path d=\"M 370.78875 406.844875 \nL 405.50875 406.844875 \nL 405.50875 441.564875 \nL 370.78875 441.564875 \nL 370.78875 406.844875 \n\" clip-path=\"url(#p91e0fdf145)\" style=\"fill: #0095ff; stroke: #ffffff; stroke-width: 0.1\"/>\n    <path d=\"M 405.50875 406.844875 \nL 440.22875 406.844875 \nL 440.22875 441.564875 \nL 405.50875 441.564875 \nL 405.50875 406.844875 \n\" clip-path=\"url(#p91e0fdf145)\" style=\"fill: #00a5ff; stroke: #ffffff; stroke-width: 0.1\"/>\n    <path d=\"M 440.22875 406.844875 \nL 474.94875 406.844875 \nL 474.94875 441.564875 \nL 440.22875 441.564875 \nL 440.22875 406.844875 \n\" clip-path=\"url(#p91e0fdf145)\" style=\"fill: #0095ff; stroke: #ffffff; stroke-width: 0.1\"/>\n    <path d=\"M 474.94875 406.844875 \nL 509.66875 406.844875 \nL 509.66875 441.564875 \nL 474.94875 441.564875 \nL 474.94875 406.844875 \n\" clip-path=\"url(#p91e0fdf145)\" style=\"fill: #ff00f0; stroke: #ffffff; stroke-width: 0.1\"/>\n    <path d=\"M 509.66875 406.844875 \nL 544.38875 406.844875 \nL 544.38875 441.564875 \nL 509.66875 441.564875 \nL 509.66875 406.844875 \n\" clip-path=\"url(#p91e0fdf145)\" style=\"fill: #ff0029; stroke: #ffffff; stroke-width: 0.1\"/>\n    <path d=\"M 544.38875 406.844875 \nL 579.10875 406.844875 \nL 579.10875 441.564875 \nL 544.38875 441.564875 \nL 544.38875 406.844875 \n\" clip-path=\"url(#p91e0fdf145)\" style=\"fill: #0095ff; stroke: #ffffff; stroke-width: 0.1\"/>\n    <path d=\"M 579.10875 406.844875 \nL 613.82875 406.844875 \nL 613.82875 441.564875 \nL 579.10875 441.564875 \nL 579.10875 406.844875 \n\" clip-path=\"url(#p91e0fdf145)\" style=\"fill: #ff00f0; stroke: #ffffff; stroke-width: 0.1\"/>\n    <path d=\"M 613.82875 406.844875 \nL 648.54875 406.844875 \nL 648.54875 441.564875 \nL 613.82875 441.564875 \nL 613.82875 406.844875 \n\" clip-path=\"url(#p91e0fdf145)\" style=\"fill: #ff0029; stroke: #ffffff; stroke-width: 0.1\"/>\n    <path d=\"M 648.54875 406.844875 \nL 683.26875 406.844875 \nL 683.26875 441.564875 \nL 648.54875 441.564875 \nL 648.54875 406.844875 \n\" clip-path=\"url(#p91e0fdf145)\" style=\"fill: #00a0ff; stroke: #ffffff; stroke-width: 0.1\"/>\n    <path d=\"M 683.26875 406.844875 \nL 717.98875 406.844875 \nL 717.98875 441.564875 \nL 683.26875 441.564875 \nL 683.26875 406.844875 \n\" clip-path=\"url(#p91e0fdf145)\" style=\"fill: #e200ff; stroke: #ffffff; stroke-width: 0.1\"/>\n    <path d=\"M 717.98875 406.844875 \nL 752.70875 406.844875 \nL 752.70875 441.564875 \nL 717.98875 441.564875 \nL 717.98875 406.844875 \n\" clip-path=\"url(#p91e0fdf145)\" style=\"fill: #ff0200; stroke: #ffffff; stroke-width: 0.1\"/>\n    <path d=\"M 752.70875 406.844875 \nL 787.42875 406.844875 \nL 787.42875 441.564875 \nL 752.70875 441.564875 \nL 752.70875 406.844875 \n\" clip-path=\"url(#p91e0fdf145)\" style=\"fill: #00a5ff; stroke: #ffffff; stroke-width: 0.1\"/>\n    <path d=\"M 162.46875 441.564875 \nL 197.18875 441.564875 \nL 197.18875 476.284875 \nL 162.46875 476.284875 \nL 162.46875 441.564875 \n\" clip-path=\"url(#p91e0fdf145)\" style=\"fill: #00a5ff; stroke: #ffffff; stroke-width: 0.1\"/>\n    <path d=\"M 197.18875 441.564875 \nL 231.90875 441.564875 \nL 231.90875 476.284875 \nL 197.18875 476.284875 \nL 197.18875 441.564875 \n\" clip-path=\"url(#p91e0fdf145)\" style=\"fill: #008fff; stroke: #ffffff; stroke-width: 0.1\"/>\n    <path d=\"M 231.90875 441.564875 \nL 266.62875 441.564875 \nL 266.62875 476.284875 \nL 231.90875 476.284875 \nL 231.90875 441.564875 \n\" clip-path=\"url(#p91e0fdf145)\" style=\"fill: #00b5ff; stroke: #ffffff; stroke-width: 0.1\"/>\n    <path d=\"M 266.62875 441.564875 \nL 301.34875 441.564875 \nL 301.34875 476.284875 \nL 266.62875 476.284875 \nL 266.62875 441.564875 \n\" clip-path=\"url(#p91e0fdf145)\" style=\"fill: #00b0ff; stroke: #ffffff; stroke-width: 0.1\"/>\n    <path d=\"M 301.34875 441.564875 \nL 336.06875 441.564875 \nL 336.06875 476.284875 \nL 301.34875 476.284875 \nL 301.34875 441.564875 \n\" clip-path=\"url(#p91e0fdf145)\" style=\"fill: #00bbff; stroke: #ffffff; stroke-width: 0.1\"/>\n    <path d=\"M 336.06875 441.564875 \nL 370.78875 441.564875 \nL 370.78875 476.284875 \nL 336.06875 476.284875 \nL 336.06875 441.564875 \n\" clip-path=\"url(#p91e0fdf145)\" style=\"fill: #00a5ff; stroke: #ffffff; stroke-width: 0.1\"/>\n    <path d=\"M 370.78875 441.564875 \nL 405.50875 441.564875 \nL 405.50875 476.284875 \nL 370.78875 476.284875 \nL 370.78875 441.564875 \n\" clip-path=\"url(#p91e0fdf145)\" style=\"fill: #00bbff; stroke: #ffffff; stroke-width: 0.1\"/>\n    <path d=\"M 405.50875 441.564875 \nL 440.22875 441.564875 \nL 440.22875 476.284875 \nL 405.50875 476.284875 \nL 405.50875 441.564875 \n\" clip-path=\"url(#p91e0fdf145)\" style=\"fill: #0095ff; stroke: #ffffff; stroke-width: 0.1\"/>\n    <path d=\"M 440.22875 441.564875 \nL 474.94875 441.564875 \nL 474.94875 476.284875 \nL 440.22875 476.284875 \nL 440.22875 441.564875 \n\" clip-path=\"url(#p91e0fdf145)\" style=\"fill: #ff0200; stroke: #ffffff; stroke-width: 0.1\"/>\n    <path d=\"M 474.94875 441.564875 \nL 509.66875 441.564875 \nL 509.66875 476.284875 \nL 474.94875 476.284875 \nL 474.94875 441.564875 \n\" clip-path=\"url(#p91e0fdf145)\" style=\"fill: #007fff; stroke: #ffffff; stroke-width: 0.1\"/>\n    <path d=\"M 509.66875 441.564875 \nL 544.38875 441.564875 \nL 544.38875 476.284875 \nL 509.66875 476.284875 \nL 509.66875 441.564875 \n\" clip-path=\"url(#p91e0fdf145)\" style=\"fill: #0095ff; stroke: #ffffff; stroke-width: 0.1\"/>\n    <path d=\"M 544.38875 441.564875 \nL 579.10875 441.564875 \nL 579.10875 476.284875 \nL 544.38875 476.284875 \nL 544.38875 441.564875 \n\" clip-path=\"url(#p91e0fdf145)\" style=\"fill: #ff0029; stroke: #ffffff; stroke-width: 0.1\"/>\n    <path d=\"M 579.10875 441.564875 \nL 613.82875 441.564875 \nL 613.82875 476.284875 \nL 579.10875 476.284875 \nL 579.10875 441.564875 \n\" clip-path=\"url(#p91e0fdf145)\" style=\"fill: #007fff; stroke: #ffffff; stroke-width: 0.1\"/>\n    <path d=\"M 613.82875 441.564875 \nL 648.54875 441.564875 \nL 648.54875 476.284875 \nL 613.82875 476.284875 \nL 613.82875 441.564875 \n\" clip-path=\"url(#p91e0fdf145)\" style=\"fill: #0095ff; stroke: #ffffff; stroke-width: 0.1\"/>\n    <path d=\"M 648.54875 441.564875 \nL 683.26875 441.564875 \nL 683.26875 476.284875 \nL 648.54875 476.284875 \nL 648.54875 441.564875 \n\" clip-path=\"url(#p91e0fdf145)\" style=\"fill: #a700ff; stroke: #ffffff; stroke-width: 0.1\"/>\n    <path d=\"M 683.26875 441.564875 \nL 717.98875 441.564875 \nL 717.98875 476.284875 \nL 683.26875 476.284875 \nL 683.26875 441.564875 \n\" clip-path=\"url(#p91e0fdf145)\" style=\"fill: #00b5ff; stroke: #ffffff; stroke-width: 0.1\"/>\n    <path d=\"M 717.98875 441.564875 \nL 752.70875 441.564875 \nL 752.70875 476.284875 \nL 717.98875 476.284875 \nL 717.98875 441.564875 \n\" clip-path=\"url(#p91e0fdf145)\" style=\"fill: #00bbff; stroke: #ffffff; stroke-width: 0.1\"/>\n    <path d=\"M 752.70875 441.564875 \nL 787.42875 441.564875 \nL 787.42875 476.284875 \nL 752.70875 476.284875 \nL 752.70875 441.564875 \n\" clip-path=\"url(#p91e0fdf145)\" style=\"fill: #00cbff; stroke: #ffffff; stroke-width: 0.1\"/>\n    <path d=\"M 162.46875 476.284875 \nL 197.18875 476.284875 \nL 197.18875 511.004875 \nL 162.46875 511.004875 \nL 162.46875 476.284875 \n\" clip-path=\"url(#p91e0fdf145)\" style=\"fill: #00a5ff; stroke: #ffffff; stroke-width: 0.1\"/>\n    <path d=\"M 197.18875 476.284875 \nL 231.90875 476.284875 \nL 231.90875 511.004875 \nL 197.18875 511.004875 \nL 197.18875 476.284875 \n\" clip-path=\"url(#p91e0fdf145)\" style=\"fill: #00b5ff; stroke: #ffffff; stroke-width: 0.1\"/>\n    <path d=\"M 231.90875 476.284875 \nL 266.62875 476.284875 \nL 266.62875 511.004875 \nL 231.90875 511.004875 \nL 231.90875 476.284875 \n\" clip-path=\"url(#p91e0fdf145)\" style=\"fill: #e800ff; stroke: #ffffff; stroke-width: 0.1\"/>\n    <path d=\"M 266.62875 476.284875 \nL 301.34875 476.284875 \nL 301.34875 511.004875 \nL 266.62875 511.004875 \nL 266.62875 476.284875 \n\" clip-path=\"url(#p91e0fdf145)\" style=\"fill: #00a5ff; stroke: #ffffff; stroke-width: 0.1\"/>\n    <path d=\"M 301.34875 476.284875 \nL 336.06875 476.284875 \nL 336.06875 511.004875 \nL 301.34875 511.004875 \nL 301.34875 476.284875 \n\" clip-path=\"url(#p91e0fdf145)\" style=\"fill: #00c6ff; stroke: #ffffff; stroke-width: 0.1\"/>\n    <path d=\"M 336.06875 476.284875 \nL 370.78875 476.284875 \nL 370.78875 511.004875 \nL 336.06875 511.004875 \nL 336.06875 476.284875 \n\" clip-path=\"url(#p91e0fdf145)\" style=\"fill: #008fff; stroke: #ffffff; stroke-width: 0.1\"/>\n    <path d=\"M 370.78875 476.284875 \nL 405.50875 476.284875 \nL 405.50875 511.004875 \nL 370.78875 511.004875 \nL 370.78875 476.284875 \n\" clip-path=\"url(#p91e0fdf145)\" style=\"fill: #00b5ff; stroke: #ffffff; stroke-width: 0.1\"/>\n    <path d=\"M 405.50875 476.284875 \nL 440.22875 476.284875 \nL 440.22875 511.004875 \nL 405.50875 511.004875 \nL 405.50875 476.284875 \n\" clip-path=\"url(#p91e0fdf145)\" style=\"fill: #00a5ff; stroke: #ffffff; stroke-width: 0.1\"/>\n    <path d=\"M 440.22875 476.284875 \nL 474.94875 476.284875 \nL 474.94875 511.004875 \nL 440.22875 511.004875 \nL 440.22875 476.284875 \n\" clip-path=\"url(#p91e0fdf145)\" style=\"fill: #007fff; stroke: #ffffff; stroke-width: 0.1\"/>\n    <path d=\"M 474.94875 476.284875 \nL 509.66875 476.284875 \nL 509.66875 511.004875 \nL 474.94875 511.004875 \nL 474.94875 476.284875 \n\" clip-path=\"url(#p91e0fdf145)\" style=\"fill: #ff0029; stroke: #ffffff; stroke-width: 0.1\"/>\n    <path d=\"M 509.66875 476.284875 \nL 544.38875 476.284875 \nL 544.38875 511.004875 \nL 509.66875 511.004875 \nL 509.66875 476.284875 \n\" clip-path=\"url(#p91e0fdf145)\" style=\"fill: #ff00f0; stroke: #ffffff; stroke-width: 0.1\"/>\n    <path d=\"M 544.38875 476.284875 \nL 579.10875 476.284875 \nL 579.10875 511.004875 \nL 544.38875 511.004875 \nL 544.38875 476.284875 \n\" clip-path=\"url(#p91e0fdf145)\" style=\"fill: #007fff; stroke: #ffffff; stroke-width: 0.1\"/>\n    <path d=\"M 579.10875 476.284875 \nL 613.82875 476.284875 \nL 613.82875 511.004875 \nL 579.10875 511.004875 \nL 579.10875 476.284875 \n\" clip-path=\"url(#p91e0fdf145)\" style=\"fill: #ff0029; stroke: #ffffff; stroke-width: 0.1\"/>\n    <path d=\"M 613.82875 476.284875 \nL 648.54875 476.284875 \nL 648.54875 511.004875 \nL 613.82875 511.004875 \nL 613.82875 476.284875 \n\" clip-path=\"url(#p91e0fdf145)\" style=\"fill: #ff00f0; stroke: #ffffff; stroke-width: 0.1\"/>\n    <path d=\"M 648.54875 476.284875 \nL 683.26875 476.284875 \nL 683.26875 511.004875 \nL 648.54875 511.004875 \nL 648.54875 476.284875 \n\" clip-path=\"url(#p91e0fdf145)\" style=\"fill: #00d6ff; stroke: #ffffff; stroke-width: 0.1\"/>\n    <path d=\"M 683.26875 476.284875 \nL 717.98875 476.284875 \nL 717.98875 511.004875 \nL 683.26875 511.004875 \nL 683.26875 476.284875 \n\" clip-path=\"url(#p91e0fdf145)\" style=\"fill: #ff1800; stroke: #ffffff; stroke-width: 0.1\"/>\n    <path d=\"M 717.98875 476.284875 \nL 752.70875 476.284875 \nL 752.70875 511.004875 \nL 717.98875 511.004875 \nL 717.98875 476.284875 \n\" clip-path=\"url(#p91e0fdf145)\" style=\"fill: #d200ff; stroke: #ffffff; stroke-width: 0.1\"/>\n    <path d=\"M 752.70875 476.284875 \nL 787.42875 476.284875 \nL 787.42875 511.004875 \nL 752.70875 511.004875 \nL 752.70875 476.284875 \n\" clip-path=\"url(#p91e0fdf145)\" style=\"fill: #008aff; stroke: #ffffff; stroke-width: 0.1\"/>\n    <path d=\"M 162.46875 511.004875 \nL 197.18875 511.004875 \nL 197.18875 545.724875 \nL 162.46875 545.724875 \nL 162.46875 511.004875 \n\" clip-path=\"url(#p91e0fdf145)\" style=\"fill: #00a5ff; stroke: #ffffff; stroke-width: 0.1\"/>\n    <path d=\"M 197.18875 511.004875 \nL 231.90875 511.004875 \nL 231.90875 545.724875 \nL 197.18875 545.724875 \nL 197.18875 511.004875 \n\" clip-path=\"url(#p91e0fdf145)\" style=\"fill: #00a5ff; stroke: #ffffff; stroke-width: 0.1\"/>\n    <path d=\"M 231.90875 511.004875 \nL 266.62875 511.004875 \nL 266.62875 545.724875 \nL 231.90875 545.724875 \nL 231.90875 511.004875 \n\" clip-path=\"url(#p91e0fdf145)\" style=\"fill: #ff000e; stroke: #ffffff; stroke-width: 0.1\"/>\n    <path d=\"M 266.62875 511.004875 \nL 301.34875 511.004875 \nL 301.34875 545.724875 \nL 266.62875 545.724875 \nL 266.62875 511.004875 \n\" clip-path=\"url(#p91e0fdf145)\" style=\"fill: #009aff; stroke: #ffffff; stroke-width: 0.1\"/>\n    <path d=\"M 301.34875 511.004875 \nL 336.06875 511.004875 \nL 336.06875 545.724875 \nL 301.34875 545.724875 \nL 301.34875 511.004875 \n\" clip-path=\"url(#p91e0fdf145)\" style=\"fill: #009aff; stroke: #ffffff; stroke-width: 0.1\"/>\n    <path d=\"M 336.06875 511.004875 \nL 370.78875 511.004875 \nL 370.78875 545.724875 \nL 336.06875 545.724875 \nL 336.06875 511.004875 \n\" clip-path=\"url(#p91e0fdf145)\" style=\"fill: #00a5ff; stroke: #ffffff; stroke-width: 0.1\"/>\n    <path d=\"M 370.78875 511.004875 \nL 405.50875 511.004875 \nL 405.50875 545.724875 \nL 370.78875 545.724875 \nL 370.78875 511.004875 \n\" clip-path=\"url(#p91e0fdf145)\" style=\"fill: #0095ff; stroke: #ffffff; stroke-width: 0.1\"/>\n    <path d=\"M 405.50875 511.004875 \nL 440.22875 511.004875 \nL 440.22875 545.724875 \nL 405.50875 545.724875 \nL 405.50875 511.004875 \n\" clip-path=\"url(#p91e0fdf145)\" style=\"fill: #00a0ff; stroke: #ffffff; stroke-width: 0.1\"/>\n    <path d=\"M 440.22875 511.004875 \nL 474.94875 511.004875 \nL 474.94875 545.724875 \nL 440.22875 545.724875 \nL 440.22875 511.004875 \n\" clip-path=\"url(#p91e0fdf145)\" style=\"fill: #009aff; stroke: #ffffff; stroke-width: 0.1\"/>\n    <path d=\"M 474.94875 511.004875 \nL 509.66875 511.004875 \nL 509.66875 545.724875 \nL 474.94875 545.724875 \nL 474.94875 511.004875 \n\" clip-path=\"url(#p91e0fdf145)\" style=\"fill: #ff00f6; stroke: #ffffff; stroke-width: 0.1\"/>\n    <path d=\"M 509.66875 511.004875 \nL 544.38875 511.004875 \nL 544.38875 545.724875 \nL 509.66875 545.724875 \nL 509.66875 511.004875 \n\" clip-path=\"url(#p91e0fdf145)\" style=\"fill: #ff0029; stroke: #ffffff; stroke-width: 0.1\"/>\n    <path d=\"M 544.38875 511.004875 \nL 579.10875 511.004875 \nL 579.10875 545.724875 \nL 544.38875 545.724875 \nL 544.38875 511.004875 \n\" clip-path=\"url(#p91e0fdf145)\" style=\"fill: #0095ff; stroke: #ffffff; stroke-width: 0.1\"/>\n    <path d=\"M 579.10875 511.004875 \nL 613.82875 511.004875 \nL 613.82875 545.724875 \nL 579.10875 545.724875 \nL 579.10875 511.004875 \n\" clip-path=\"url(#p91e0fdf145)\" style=\"fill: #ff00f0; stroke: #ffffff; stroke-width: 0.1\"/>\n    <path d=\"M 613.82875 511.004875 \nL 648.54875 511.004875 \nL 648.54875 545.724875 \nL 613.82875 545.724875 \nL 613.82875 511.004875 \n\" clip-path=\"url(#p91e0fdf145)\" style=\"fill: #ff0029; stroke: #ffffff; stroke-width: 0.1\"/>\n    <path d=\"M 648.54875 511.004875 \nL 683.26875 511.004875 \nL 683.26875 545.724875 \nL 648.54875 545.724875 \nL 648.54875 511.004875 \n\" clip-path=\"url(#p91e0fdf145)\" style=\"fill: #00a0ff; stroke: #ffffff; stroke-width: 0.1\"/>\n    <path d=\"M 683.26875 511.004875 \nL 717.98875 511.004875 \nL 717.98875 545.724875 \nL 683.26875 545.724875 \nL 683.26875 511.004875 \n\" clip-path=\"url(#p91e0fdf145)\" style=\"fill: #e200ff; stroke: #ffffff; stroke-width: 0.1\"/>\n    <path d=\"M 717.98875 511.004875 \nL 752.70875 511.004875 \nL 752.70875 545.724875 \nL 717.98875 545.724875 \nL 717.98875 511.004875 \n\" clip-path=\"url(#p91e0fdf145)\" style=\"fill: #ff0200; stroke: #ffffff; stroke-width: 0.1\"/>\n    <path d=\"M 752.70875 511.004875 \nL 787.42875 511.004875 \nL 787.42875 545.724875 \nL 752.70875 545.724875 \nL 752.70875 511.004875 \n\" clip-path=\"url(#p91e0fdf145)\" style=\"fill: #00a5ff; stroke: #ffffff; stroke-width: 0.1\"/>\n    <path d=\"M 162.46875 545.724875 \nL 197.18875 545.724875 \nL 197.18875 580.444875 \nL 162.46875 580.444875 \nL 162.46875 545.724875 \n\" clip-path=\"url(#p91e0fdf145)\" style=\"fill: #00a5ff; stroke: #ffffff; stroke-width: 0.1\"/>\n    <path d=\"M 197.18875 545.724875 \nL 231.90875 545.724875 \nL 231.90875 580.444875 \nL 197.18875 580.444875 \nL 197.18875 545.724875 \n\" clip-path=\"url(#p91e0fdf145)\" style=\"fill: #009aff; stroke: #ffffff; stroke-width: 0.1\"/>\n    <path d=\"M 231.90875 545.724875 \nL 266.62875 545.724875 \nL 266.62875 580.444875 \nL 231.90875 580.444875 \nL 231.90875 545.724875 \n\" clip-path=\"url(#p91e0fdf145)\" style=\"fill: #009aff; stroke: #ffffff; stroke-width: 0.1\"/>\n    <path d=\"M 266.62875 545.724875 \nL 301.34875 545.724875 \nL 301.34875 580.444875 \nL 266.62875 580.444875 \nL 266.62875 545.724875 \n\" clip-path=\"url(#p91e0fdf145)\" style=\"fill: #009aff; stroke: #ffffff; stroke-width: 0.1\"/>\n    <path d=\"M 301.34875 545.724875 \nL 336.06875 545.724875 \nL 336.06875 580.444875 \nL 301.34875 580.444875 \nL 301.34875 545.724875 \n\" clip-path=\"url(#p91e0fdf145)\" style=\"fill: #009aff; stroke: #ffffff; stroke-width: 0.1\"/>\n    <path d=\"M 336.06875 545.724875 \nL 370.78875 545.724875 \nL 370.78875 580.444875 \nL 336.06875 580.444875 \nL 336.06875 545.724875 \n\" clip-path=\"url(#p91e0fdf145)\" style=\"fill: #00a0ff; stroke: #ffffff; stroke-width: 0.1\"/>\n    <path d=\"M 370.78875 545.724875 \nL 405.50875 545.724875 \nL 405.50875 580.444875 \nL 370.78875 580.444875 \nL 370.78875 545.724875 \n\" clip-path=\"url(#p91e0fdf145)\" style=\"fill: #00a0ff; stroke: #ffffff; stroke-width: 0.1\"/>\n    <path d=\"M 405.50875 545.724875 \nL 440.22875 545.724875 \nL 440.22875 580.444875 \nL 405.50875 580.444875 \nL 405.50875 545.724875 \n\" clip-path=\"url(#p91e0fdf145)\" style=\"fill: #00a5ff; stroke: #ffffff; stroke-width: 0.1\"/>\n    <path d=\"M 440.22875 545.724875 \nL 474.94875 545.724875 \nL 474.94875 580.444875 \nL 440.22875 580.444875 \nL 440.22875 545.724875 \n\" clip-path=\"url(#p91e0fdf145)\" style=\"fill: #ac00ff; stroke: #ffffff; stroke-width: 0.1\"/>\n    <path d=\"M 474.94875 545.724875 \nL 509.66875 545.724875 \nL 509.66875 580.444875 \nL 474.94875 580.444875 \nL 474.94875 545.724875 \n\" clip-path=\"url(#p91e0fdf145)\" style=\"fill: #00d6ff; stroke: #ffffff; stroke-width: 0.1\"/>\n    <path d=\"M 509.66875 545.724875 \nL 544.38875 545.724875 \nL 544.38875 580.444875 \nL 509.66875 580.444875 \nL 509.66875 545.724875 \n\" clip-path=\"url(#p91e0fdf145)\" style=\"fill: #00a0ff; stroke: #ffffff; stroke-width: 0.1\"/>\n    <path d=\"M 544.38875 545.724875 \nL 579.10875 545.724875 \nL 579.10875 580.444875 \nL 544.38875 580.444875 \nL 544.38875 545.724875 \n\" clip-path=\"url(#p91e0fdf145)\" style=\"fill: #a700ff; stroke: #ffffff; stroke-width: 0.1\"/>\n    <path d=\"M 579.10875 545.724875 \nL 613.82875 545.724875 \nL 613.82875 580.444875 \nL 579.10875 580.444875 \nL 579.10875 545.724875 \n\" clip-path=\"url(#p91e0fdf145)\" style=\"fill: #00d6ff; stroke: #ffffff; stroke-width: 0.1\"/>\n    <path d=\"M 613.82875 545.724875 \nL 648.54875 545.724875 \nL 648.54875 580.444875 \nL 613.82875 580.444875 \nL 613.82875 545.724875 \n\" clip-path=\"url(#p91e0fdf145)\" style=\"fill: #00a0ff; stroke: #ffffff; stroke-width: 0.1\"/>\n    <path d=\"M 648.54875 545.724875 \nL 683.26875 545.724875 \nL 683.26875 580.444875 \nL 648.54875 580.444875 \nL 648.54875 545.724875 \n\" clip-path=\"url(#p91e0fdf145)\" style=\"fill: #ff0029; stroke: #ffffff; stroke-width: 0.1\"/>\n    <path d=\"M 683.26875 545.724875 \nL 717.98875 545.724875 \nL 717.98875 580.444875 \nL 683.26875 580.444875 \nL 683.26875 545.724875 \n\" clip-path=\"url(#p91e0fdf145)\" style=\"fill: #007fff; stroke: #ffffff; stroke-width: 0.1\"/>\n    <path d=\"M 717.98875 545.724875 \nL 752.70875 545.724875 \nL 752.70875 580.444875 \nL 717.98875 580.444875 \nL 717.98875 545.724875 \n\" clip-path=\"url(#p91e0fdf145)\" style=\"fill: #008aff; stroke: #ffffff; stroke-width: 0.1\"/>\n    <path d=\"M 752.70875 545.724875 \nL 787.42875 545.724875 \nL 787.42875 580.444875 \nL 752.70875 580.444875 \nL 752.70875 545.724875 \n\" clip-path=\"url(#p91e0fdf145)\" style=\"fill: #00a5ff; stroke: #ffffff; stroke-width: 0.1\"/>\n    <path d=\"M 162.46875 580.444875 \nL 197.18875 580.444875 \nL 197.18875 615.164875 \nL 162.46875 615.164875 \nL 162.46875 580.444875 \n\" clip-path=\"url(#p91e0fdf145)\" style=\"fill: #00aaff; stroke: #ffffff; stroke-width: 0.1\"/>\n    <path d=\"M 197.18875 580.444875 \nL 231.90875 580.444875 \nL 231.90875 615.164875 \nL 197.18875 615.164875 \nL 197.18875 580.444875 \n\" clip-path=\"url(#p91e0fdf145)\" style=\"fill: #00aaff; stroke: #ffffff; stroke-width: 0.1\"/>\n    <path d=\"M 231.90875 580.444875 \nL 266.62875 580.444875 \nL 266.62875 615.164875 \nL 231.90875 615.164875 \nL 231.90875 580.444875 \n\" clip-path=\"url(#p91e0fdf145)\" style=\"fill: #ff00fb; stroke: #ffffff; stroke-width: 0.1\"/>\n    <path d=\"M 266.62875 580.444875 \nL 301.34875 580.444875 \nL 301.34875 615.164875 \nL 266.62875 615.164875 \nL 266.62875 580.444875 \n\" clip-path=\"url(#p91e0fdf145)\" style=\"fill: #00a0ff; stroke: #ffffff; stroke-width: 0.1\"/>\n    <path d=\"M 301.34875 580.444875 \nL 336.06875 580.444875 \nL 336.06875 615.164875 \nL 301.34875 615.164875 \nL 301.34875 580.444875 \n\" clip-path=\"url(#p91e0fdf145)\" style=\"fill: #00c0ff; stroke: #ffffff; stroke-width: 0.1\"/>\n    <path d=\"M 336.06875 580.444875 \nL 370.78875 580.444875 \nL 370.78875 615.164875 \nL 336.06875 615.164875 \nL 336.06875 580.444875 \n\" clip-path=\"url(#p91e0fdf145)\" style=\"fill: #00aaff; stroke: #ffffff; stroke-width: 0.1\"/>\n    <path d=\"M 370.78875 580.444875 \nL 405.50875 580.444875 \nL 405.50875 615.164875 \nL 370.78875 615.164875 \nL 370.78875 580.444875 \n\" clip-path=\"url(#p91e0fdf145)\" style=\"fill: #00b0ff; stroke: #ffffff; stroke-width: 0.1\"/>\n    <path d=\"M 405.50875 580.444875 \nL 440.22875 580.444875 \nL 440.22875 615.164875 \nL 405.50875 615.164875 \nL 405.50875 580.444875 \n\" clip-path=\"url(#p91e0fdf145)\" style=\"fill: #00bbff; stroke: #ffffff; stroke-width: 0.1\"/>\n    <path d=\"M 440.22875 580.444875 \nL 474.94875 580.444875 \nL 474.94875 615.164875 \nL 440.22875 615.164875 \nL 440.22875 580.444875 \n\" clip-path=\"url(#p91e0fdf145)\" style=\"fill: #00b5ff; stroke: #ffffff; stroke-width: 0.1\"/>\n    <path d=\"M 474.94875 580.444875 \nL 509.66875 580.444875 \nL 509.66875 615.164875 \nL 474.94875 615.164875 \nL 474.94875 580.444875 \n\" clip-path=\"url(#p91e0fdf145)\" style=\"fill: #ff1d00; stroke: #ffffff; stroke-width: 0.1\"/>\n    <path d=\"M 509.66875 580.444875 \nL 544.38875 580.444875 \nL 544.38875 615.164875 \nL 509.66875 615.164875 \nL 509.66875 580.444875 \n\" clip-path=\"url(#p91e0fdf145)\" style=\"fill: #e200ff; stroke: #ffffff; stroke-width: 0.1\"/>\n    <path d=\"M 544.38875 580.444875 \nL 579.10875 580.444875 \nL 579.10875 615.164875 \nL 544.38875 615.164875 \nL 544.38875 580.444875 \n\" clip-path=\"url(#p91e0fdf145)\" style=\"fill: #00b5ff; stroke: #ffffff; stroke-width: 0.1\"/>\n    <path d=\"M 579.10875 580.444875 \nL 613.82875 580.444875 \nL 613.82875 615.164875 \nL 579.10875 615.164875 \nL 579.10875 580.444875 \n\" clip-path=\"url(#p91e0fdf145)\" style=\"fill: #ff1800; stroke: #ffffff; stroke-width: 0.1\"/>\n    <path d=\"M 613.82875 580.444875 \nL 648.54875 580.444875 \nL 648.54875 615.164875 \nL 613.82875 615.164875 \nL 613.82875 580.444875 \n\" clip-path=\"url(#p91e0fdf145)\" style=\"fill: #e200ff; stroke: #ffffff; stroke-width: 0.1\"/>\n    <path d=\"M 648.54875 580.444875 \nL 683.26875 580.444875 \nL 683.26875 615.164875 \nL 648.54875 615.164875 \nL 648.54875 580.444875 \n\" clip-path=\"url(#p91e0fdf145)\" style=\"fill: #007fff; stroke: #ffffff; stroke-width: 0.1\"/>\n    <path d=\"M 683.26875 580.444875 \nL 717.98875 580.444875 \nL 717.98875 615.164875 \nL 683.26875 615.164875 \nL 683.26875 580.444875 \n\" clip-path=\"url(#p91e0fdf145)\" style=\"fill: #ff0029; stroke: #ffffff; stroke-width: 0.1\"/>\n    <path d=\"M 717.98875 580.444875 \nL 752.70875 580.444875 \nL 752.70875 615.164875 \nL 717.98875 615.164875 \nL 717.98875 580.444875 \n\" clip-path=\"url(#p91e0fdf145)\" style=\"fill: #ff00f0; stroke: #ffffff; stroke-width: 0.1\"/>\n    <path d=\"M 752.70875 580.444875 \nL 787.42875 580.444875 \nL 787.42875 615.164875 \nL 752.70875 615.164875 \nL 752.70875 580.444875 \n\" clip-path=\"url(#p91e0fdf145)\" style=\"fill: #008aff; stroke: #ffffff; stroke-width: 0.1\"/>\n    <path d=\"M 162.46875 615.164875 \nL 197.18875 615.164875 \nL 197.18875 649.884875 \nL 162.46875 649.884875 \nL 162.46875 615.164875 \n\" clip-path=\"url(#p91e0fdf145)\" style=\"fill: #00a0ff; stroke: #ffffff; stroke-width: 0.1\"/>\n    <path d=\"M 197.18875 615.164875 \nL 231.90875 615.164875 \nL 231.90875 649.884875 \nL 197.18875 649.884875 \nL 197.18875 615.164875 \n\" clip-path=\"url(#p91e0fdf145)\" style=\"fill: #00a5ff; stroke: #ffffff; stroke-width: 0.1\"/>\n    <path d=\"M 231.90875 615.164875 \nL 266.62875 615.164875 \nL 266.62875 649.884875 \nL 231.90875 649.884875 \nL 231.90875 615.164875 \n\" clip-path=\"url(#p91e0fdf145)\" style=\"fill: #ff001e; stroke: #ffffff; stroke-width: 0.1\"/>\n    <path d=\"M 266.62875 615.164875 \nL 301.34875 615.164875 \nL 301.34875 649.884875 \nL 266.62875 649.884875 \nL 266.62875 615.164875 \n\" clip-path=\"url(#p91e0fdf145)\" style=\"fill: #0095ff; stroke: #ffffff; stroke-width: 0.1\"/>\n    <path d=\"M 301.34875 615.164875 \nL 336.06875 615.164875 \nL 336.06875 649.884875 \nL 301.34875 649.884875 \nL 301.34875 615.164875 \n\" clip-path=\"url(#p91e0fdf145)\" style=\"fill: #009aff; stroke: #ffffff; stroke-width: 0.1\"/>\n    <path d=\"M 336.06875 615.164875 \nL 370.78875 615.164875 \nL 370.78875 649.884875 \nL 336.06875 649.884875 \nL 336.06875 615.164875 \n\" clip-path=\"url(#p91e0fdf145)\" style=\"fill: #00aaff; stroke: #ffffff; stroke-width: 0.1\"/>\n    <path d=\"M 370.78875 615.164875 \nL 405.50875 615.164875 \nL 405.50875 649.884875 \nL 370.78875 649.884875 \nL 370.78875 615.164875 \n\" clip-path=\"url(#p91e0fdf145)\" style=\"fill: #0095ff; stroke: #ffffff; stroke-width: 0.1\"/>\n    <path d=\"M 405.50875 615.164875 \nL 440.22875 615.164875 \nL 440.22875 649.884875 \nL 405.50875 649.884875 \nL 405.50875 615.164875 \n\" clip-path=\"url(#p91e0fdf145)\" style=\"fill: #00a5ff; stroke: #ffffff; stroke-width: 0.1\"/>\n    <path d=\"M 440.22875 615.164875 \nL 474.94875 615.164875 \nL 474.94875 649.884875 \nL 440.22875 649.884875 \nL 440.22875 615.164875 \n\" clip-path=\"url(#p91e0fdf145)\" style=\"fill: #00c0ff; stroke: #ffffff; stroke-width: 0.1\"/>\n    <path d=\"M 474.94875 615.164875 \nL 509.66875 615.164875 \nL 509.66875 649.884875 \nL 474.94875 649.884875 \nL 474.94875 615.164875 \n\" clip-path=\"url(#p91e0fdf145)\" style=\"fill: #d200ff; stroke: #ffffff; stroke-width: 0.1\"/>\n    <path d=\"M 509.66875 615.164875 \nL 544.38875 615.164875 \nL 544.38875 649.884875 \nL 509.66875 649.884875 \nL 509.66875 615.164875 \n\" clip-path=\"url(#p91e0fdf145)\" style=\"fill: #ff0200; stroke: #ffffff; stroke-width: 0.1\"/>\n    <path d=\"M 544.38875 615.164875 \nL 579.10875 615.164875 \nL 579.10875 649.884875 \nL 544.38875 649.884875 \nL 544.38875 615.164875 \n\" clip-path=\"url(#p91e0fdf145)\" style=\"fill: #00bbff; stroke: #ffffff; stroke-width: 0.1\"/>\n    <path d=\"M 579.10875 615.164875 \nL 613.82875 615.164875 \nL 613.82875 649.884875 \nL 579.10875 649.884875 \nL 579.10875 615.164875 \n\" clip-path=\"url(#p91e0fdf145)\" style=\"fill: #d200ff; stroke: #ffffff; stroke-width: 0.1\"/>\n    <path d=\"M 613.82875 615.164875 \nL 648.54875 615.164875 \nL 648.54875 649.884875 \nL 613.82875 649.884875 \nL 613.82875 615.164875 \n\" clip-path=\"url(#p91e0fdf145)\" style=\"fill: #ff0200; stroke: #ffffff; stroke-width: 0.1\"/>\n    <path d=\"M 648.54875 615.164875 \nL 683.26875 615.164875 \nL 683.26875 649.884875 \nL 648.54875 649.884875 \nL 648.54875 615.164875 \n\" clip-path=\"url(#p91e0fdf145)\" style=\"fill: #008aff; stroke: #ffffff; stroke-width: 0.1\"/>\n    <path d=\"M 683.26875 615.164875 \nL 717.98875 615.164875 \nL 717.98875 649.884875 \nL 683.26875 649.884875 \nL 683.26875 615.164875 \n\" clip-path=\"url(#p91e0fdf145)\" style=\"fill: #ff00f0; stroke: #ffffff; stroke-width: 0.1\"/>\n    <path d=\"M 717.98875 615.164875 \nL 752.70875 615.164875 \nL 752.70875 649.884875 \nL 717.98875 649.884875 \nL 717.98875 615.164875 \n\" clip-path=\"url(#p91e0fdf145)\" style=\"fill: #ff0029; stroke: #ffffff; stroke-width: 0.1\"/>\n    <path d=\"M 752.70875 615.164875 \nL 787.42875 615.164875 \nL 787.42875 649.884875 \nL 752.70875 649.884875 \nL 752.70875 615.164875 \n\" clip-path=\"url(#p91e0fdf145)\" style=\"fill: #009aff; stroke: #ffffff; stroke-width: 0.1\"/>\n    <path d=\"M 162.46875 649.884875 \nL 197.18875 649.884875 \nL 197.18875 684.604875 \nL 162.46875 684.604875 \nL 162.46875 649.884875 \n\" clip-path=\"url(#p91e0fdf145)\" style=\"fill: #009aff; stroke: #ffffff; stroke-width: 0.1\"/>\n    <path d=\"M 197.18875 649.884875 \nL 231.90875 649.884875 \nL 231.90875 684.604875 \nL 197.18875 684.604875 \nL 197.18875 649.884875 \n\" clip-path=\"url(#p91e0fdf145)\" style=\"fill: #ff00bf; stroke: #ffffff; stroke-width: 0.1\"/>\n    <path d=\"M 231.90875 649.884875 \nL 266.62875 649.884875 \nL 266.62875 684.604875 \nL 231.90875 684.604875 \nL 231.90875 649.884875 \n\" clip-path=\"url(#p91e0fdf145)\" style=\"fill: #00a5ff; stroke: #ffffff; stroke-width: 0.1\"/>\n    <path d=\"M 266.62875 649.884875 \nL 301.34875 649.884875 \nL 301.34875 684.604875 \nL 266.62875 684.604875 \nL 266.62875 649.884875 \n\" clip-path=\"url(#p91e0fdf145)\" style=\"fill: #00ff8c; stroke: #ffffff; stroke-width: 0.1\"/>\n    <path d=\"M 301.34875 649.884875 \nL 336.06875 649.884875 \nL 336.06875 684.604875 \nL 301.34875 684.604875 \nL 301.34875 649.884875 \n\" clip-path=\"url(#p91e0fdf145)\" style=\"fill: #00a0ff; stroke: #ffffff; stroke-width: 0.1\"/>\n    <path d=\"M 336.06875 649.884875 \nL 370.78875 649.884875 \nL 370.78875 684.604875 \nL 336.06875 684.604875 \nL 336.06875 649.884875 \n\" clip-path=\"url(#p91e0fdf145)\" style=\"fill: #009aff; stroke: #ffffff; stroke-width: 0.1\"/>\n    <path d=\"M 370.78875 649.884875 \nL 405.50875 649.884875 \nL 405.50875 684.604875 \nL 370.78875 684.604875 \nL 370.78875 649.884875 \n\" clip-path=\"url(#p91e0fdf145)\" style=\"fill: #007fff; stroke: #ffffff; stroke-width: 0.1\"/>\n    <path d=\"M 405.50875 649.884875 \nL 440.22875 649.884875 \nL 440.22875 684.604875 \nL 405.50875 684.604875 \nL 405.50875 649.884875 \n\" clip-path=\"url(#p91e0fdf145)\" style=\"fill: #00fff7; stroke: #ffffff; stroke-width: 0.1\"/>\n    <path d=\"M 440.22875 649.884875 \nL 474.94875 649.884875 \nL 474.94875 684.604875 \nL 440.22875 684.604875 \nL 440.22875 649.884875 \n\" clip-path=\"url(#p91e0fdf145)\" style=\"fill: #00bbff; stroke: #ffffff; stroke-width: 0.1\"/>\n    <path d=\"M 474.94875 649.884875 \nL 509.66875 649.884875 \nL 509.66875 684.604875 \nL 474.94875 684.604875 \nL 474.94875 649.884875 \n\" clip-path=\"url(#p91e0fdf145)\" style=\"fill: #008aff; stroke: #ffffff; stroke-width: 0.1\"/>\n    <path d=\"M 509.66875 649.884875 \nL 544.38875 649.884875 \nL 544.38875 684.604875 \nL 509.66875 684.604875 \nL 509.66875 649.884875 \n\" clip-path=\"url(#p91e0fdf145)\" style=\"fill: #00a5ff; stroke: #ffffff; stroke-width: 0.1\"/>\n    <path d=\"M 544.38875 649.884875 \nL 579.10875 649.884875 \nL 579.10875 684.604875 \nL 544.38875 684.604875 \nL 544.38875 649.884875 \n\" clip-path=\"url(#p91e0fdf145)\" style=\"fill: #00cbff; stroke: #ffffff; stroke-width: 0.1\"/>\n    <path d=\"M 579.10875 649.884875 \nL 613.82875 649.884875 \nL 613.82875 684.604875 \nL 579.10875 684.604875 \nL 579.10875 649.884875 \n\" clip-path=\"url(#p91e0fdf145)\" style=\"fill: #008aff; stroke: #ffffff; stroke-width: 0.1\"/>\n    <path d=\"M 613.82875 649.884875 \nL 648.54875 649.884875 \nL 648.54875 684.604875 \nL 613.82875 684.604875 \nL 613.82875 649.884875 \n\" clip-path=\"url(#p91e0fdf145)\" style=\"fill: #00a5ff; stroke: #ffffff; stroke-width: 0.1\"/>\n    <path d=\"M 648.54875 649.884875 \nL 683.26875 649.884875 \nL 683.26875 684.604875 \nL 648.54875 684.604875 \nL 648.54875 649.884875 \n\" clip-path=\"url(#p91e0fdf145)\" style=\"fill: #00a5ff; stroke: #ffffff; stroke-width: 0.1\"/>\n    <path d=\"M 683.26875 649.884875 \nL 717.98875 649.884875 \nL 717.98875 684.604875 \nL 683.26875 684.604875 \nL 683.26875 649.884875 \n\" clip-path=\"url(#p91e0fdf145)\" style=\"fill: #008aff; stroke: #ffffff; stroke-width: 0.1\"/>\n    <path d=\"M 717.98875 649.884875 \nL 752.70875 649.884875 \nL 752.70875 684.604875 \nL 717.98875 684.604875 \nL 717.98875 649.884875 \n\" clip-path=\"url(#p91e0fdf145)\" style=\"fill: #009aff; stroke: #ffffff; stroke-width: 0.1\"/>\n    <path d=\"M 752.70875 649.884875 \nL 787.42875 649.884875 \nL 787.42875 684.604875 \nL 752.70875 684.604875 \nL 752.70875 649.884875 \n\" clip-path=\"url(#p91e0fdf145)\" style=\"fill: #ff0029; stroke: #ffffff; stroke-width: 0.1\"/>\n   </g>\n   <g id=\"matplotlib.axis_1\">\n    <g id=\"xtick_1\">\n     <g id=\"line2d_1\">\n      <defs>\n       <path id=\"m1b75e0713a\" d=\"M 0 0 \nL 0 3.5 \n\" style=\"stroke: #ffffff; stroke-width: 0.8\"/>\n      </defs>\n      <g>\n       <use xlink:href=\"#m1b75e0713a\" x=\"179.82875\" y=\"684.604875\" style=\"fill: #ffffff; stroke: #ffffff; stroke-width: 0.8\"/>\n      </g>\n     </g>\n     <g id=\"text_1\">\n      <!-- key_0 -->\n      <g style=\"fill: #ffffff\" transform=\"translate(182.449063 720.467375)rotate(-90)scale(0.1 -0.1)\">\n       <defs>\n        <path id=\"DejaVuSans-6b\" d=\"M 581 4863 \nL 1159 4863 \nL 1159 1991 \nL 2875 3500 \nL 3609 3500 \nL 1753 1863 \nL 3688 0 \nL 2938 0 \nL 1159 1709 \nL 1159 0 \nL 581 0 \nL 581 4863 \nz\n\" transform=\"scale(0.015625)\"/>\n        <path id=\"DejaVuSans-65\" d=\"M 3597 1894 \nL 3597 1613 \nL 953 1613 \nQ 991 1019 1311 708 \nQ 1631 397 2203 397 \nQ 2534 397 2845 478 \nQ 3156 559 3463 722 \nL 3463 178 \nQ 3153 47 2828 -22 \nQ 2503 -91 2169 -91 \nQ 1331 -91 842 396 \nQ 353 884 353 1716 \nQ 353 2575 817 3079 \nQ 1281 3584 2069 3584 \nQ 2775 3584 3186 3129 \nQ 3597 2675 3597 1894 \nz\nM 3022 2063 \nQ 3016 2534 2758 2815 \nQ 2500 3097 2075 3097 \nQ 1594 3097 1305 2825 \nQ 1016 2553 972 2059 \nL 3022 2063 \nz\n\" transform=\"scale(0.015625)\"/>\n        <path id=\"DejaVuSans-79\" d=\"M 2059 -325 \nQ 1816 -950 1584 -1140 \nQ 1353 -1331 966 -1331 \nL 506 -1331 \nL 506 -850 \nL 844 -850 \nQ 1081 -850 1212 -737 \nQ 1344 -625 1503 -206 \nL 1606 56 \nL 191 3500 \nL 800 3500 \nL 1894 763 \nL 2988 3500 \nL 3597 3500 \nL 2059 -325 \nz\n\" transform=\"scale(0.015625)\"/>\n        <path id=\"DejaVuSans-5f\" d=\"M 3263 -1063 \nL 3263 -1509 \nL -63 -1509 \nL -63 -1063 \nL 3263 -1063 \nz\n\" transform=\"scale(0.015625)\"/>\n        <path id=\"DejaVuSans-30\" d=\"M 2034 4250 \nQ 1547 4250 1301 3770 \nQ 1056 3291 1056 2328 \nQ 1056 1369 1301 889 \nQ 1547 409 2034 409 \nQ 2525 409 2770 889 \nQ 3016 1369 3016 2328 \nQ 3016 3291 2770 3770 \nQ 2525 4250 2034 4250 \nz\nM 2034 4750 \nQ 2819 4750 3233 4129 \nQ 3647 3509 3647 2328 \nQ 3647 1150 3233 529 \nQ 2819 -91 2034 -91 \nQ 1250 -91 836 529 \nQ 422 1150 422 2328 \nQ 422 3509 836 4129 \nQ 1250 4750 2034 4750 \nz\n\" transform=\"scale(0.015625)\"/>\n       </defs>\n       <use xlink:href=\"#DejaVuSans-6b\"/>\n       <use xlink:href=\"#DejaVuSans-65\" x=\"54.285156\"/>\n       <use xlink:href=\"#DejaVuSans-79\" x=\"115.808594\"/>\n       <use xlink:href=\"#DejaVuSans-5f\" x=\"174.988281\"/>\n       <use xlink:href=\"#DejaVuSans-30\" x=\"224.988281\"/>\n      </g>\n     </g>\n    </g>\n    <g id=\"xtick_2\">\n     <g id=\"line2d_2\">\n      <g>\n       <use xlink:href=\"#m1b75e0713a\" x=\"214.54875\" y=\"684.604875\" style=\"fill: #ffffff; stroke: #ffffff; stroke-width: 0.8\"/>\n      </g>\n     </g>\n     <g id=\"text_2\">\n      <!-- cust_number -->\n      <g style=\"fill: #ffffff\" transform=\"translate(217.169063 756.598625)rotate(-90)scale(0.1 -0.1)\">\n       <defs>\n        <path id=\"DejaVuSans-63\" d=\"M 3122 3366 \nL 3122 2828 \nQ 2878 2963 2633 3030 \nQ 2388 3097 2138 3097 \nQ 1578 3097 1268 2742 \nQ 959 2388 959 1747 \nQ 959 1106 1268 751 \nQ 1578 397 2138 397 \nQ 2388 397 2633 464 \nQ 2878 531 3122 666 \nL 3122 134 \nQ 2881 22 2623 -34 \nQ 2366 -91 2075 -91 \nQ 1284 -91 818 406 \nQ 353 903 353 1747 \nQ 353 2603 823 3093 \nQ 1294 3584 2113 3584 \nQ 2378 3584 2631 3529 \nQ 2884 3475 3122 3366 \nz\n\" transform=\"scale(0.015625)\"/>\n        <path id=\"DejaVuSans-75\" d=\"M 544 1381 \nL 544 3500 \nL 1119 3500 \nL 1119 1403 \nQ 1119 906 1312 657 \nQ 1506 409 1894 409 \nQ 2359 409 2629 706 \nQ 2900 1003 2900 1516 \nL 2900 3500 \nL 3475 3500 \nL 3475 0 \nL 2900 0 \nL 2900 538 \nQ 2691 219 2414 64 \nQ 2138 -91 1772 -91 \nQ 1169 -91 856 284 \nQ 544 659 544 1381 \nz\nM 1991 3584 \nL 1991 3584 \nz\n\" transform=\"scale(0.015625)\"/>\n        <path id=\"DejaVuSans-73\" d=\"M 2834 3397 \nL 2834 2853 \nQ 2591 2978 2328 3040 \nQ 2066 3103 1784 3103 \nQ 1356 3103 1142 2972 \nQ 928 2841 928 2578 \nQ 928 2378 1081 2264 \nQ 1234 2150 1697 2047 \nL 1894 2003 \nQ 2506 1872 2764 1633 \nQ 3022 1394 3022 966 \nQ 3022 478 2636 193 \nQ 2250 -91 1575 -91 \nQ 1294 -91 989 -36 \nQ 684 19 347 128 \nL 347 722 \nQ 666 556 975 473 \nQ 1284 391 1588 391 \nQ 1994 391 2212 530 \nQ 2431 669 2431 922 \nQ 2431 1156 2273 1281 \nQ 2116 1406 1581 1522 \nL 1381 1569 \nQ 847 1681 609 1914 \nQ 372 2147 372 2553 \nQ 372 3047 722 3315 \nQ 1072 3584 1716 3584 \nQ 2034 3584 2315 3537 \nQ 2597 3491 2834 3397 \nz\n\" transform=\"scale(0.015625)\"/>\n        <path id=\"DejaVuSans-74\" d=\"M 1172 4494 \nL 1172 3500 \nL 2356 3500 \nL 2356 3053 \nL 1172 3053 \nL 1172 1153 \nQ 1172 725 1289 603 \nQ 1406 481 1766 481 \nL 2356 481 \nL 2356 0 \nL 1766 0 \nQ 1100 0 847 248 \nQ 594 497 594 1153 \nL 594 3053 \nL 172 3053 \nL 172 3500 \nL 594 3500 \nL 594 4494 \nL 1172 4494 \nz\n\" transform=\"scale(0.015625)\"/>\n        <path id=\"DejaVuSans-6e\" d=\"M 3513 2113 \nL 3513 0 \nL 2938 0 \nL 2938 2094 \nQ 2938 2591 2744 2837 \nQ 2550 3084 2163 3084 \nQ 1697 3084 1428 2787 \nQ 1159 2491 1159 1978 \nL 1159 0 \nL 581 0 \nL 581 3500 \nL 1159 3500 \nL 1159 2956 \nQ 1366 3272 1645 3428 \nQ 1925 3584 2291 3584 \nQ 2894 3584 3203 3211 \nQ 3513 2838 3513 2113 \nz\n\" transform=\"scale(0.015625)\"/>\n        <path id=\"DejaVuSans-6d\" d=\"M 3328 2828 \nQ 3544 3216 3844 3400 \nQ 4144 3584 4550 3584 \nQ 5097 3584 5394 3201 \nQ 5691 2819 5691 2113 \nL 5691 0 \nL 5113 0 \nL 5113 2094 \nQ 5113 2597 4934 2840 \nQ 4756 3084 4391 3084 \nQ 3944 3084 3684 2787 \nQ 3425 2491 3425 1978 \nL 3425 0 \nL 2847 0 \nL 2847 2094 \nQ 2847 2600 2669 2842 \nQ 2491 3084 2119 3084 \nQ 1678 3084 1418 2786 \nQ 1159 2488 1159 1978 \nL 1159 0 \nL 581 0 \nL 581 3500 \nL 1159 3500 \nL 1159 2956 \nQ 1356 3278 1631 3431 \nQ 1906 3584 2284 3584 \nQ 2666 3584 2933 3390 \nQ 3200 3197 3328 2828 \nz\n\" transform=\"scale(0.015625)\"/>\n        <path id=\"DejaVuSans-62\" d=\"M 3116 1747 \nQ 3116 2381 2855 2742 \nQ 2594 3103 2138 3103 \nQ 1681 3103 1420 2742 \nQ 1159 2381 1159 1747 \nQ 1159 1113 1420 752 \nQ 1681 391 2138 391 \nQ 2594 391 2855 752 \nQ 3116 1113 3116 1747 \nz\nM 1159 2969 \nQ 1341 3281 1617 3432 \nQ 1894 3584 2278 3584 \nQ 2916 3584 3314 3078 \nQ 3713 2572 3713 1747 \nQ 3713 922 3314 415 \nQ 2916 -91 2278 -91 \nQ 1894 -91 1617 61 \nQ 1341 213 1159 525 \nL 1159 0 \nL 581 0 \nL 581 4863 \nL 1159 4863 \nL 1159 2969 \nz\n\" transform=\"scale(0.015625)\"/>\n        <path id=\"DejaVuSans-72\" d=\"M 2631 2963 \nQ 2534 3019 2420 3045 \nQ 2306 3072 2169 3072 \nQ 1681 3072 1420 2755 \nQ 1159 2438 1159 1844 \nL 1159 0 \nL 581 0 \nL 581 3500 \nL 1159 3500 \nL 1159 2956 \nQ 1341 3275 1631 3429 \nQ 1922 3584 2338 3584 \nQ 2397 3584 2469 3576 \nQ 2541 3569 2628 3553 \nL 2631 2963 \nz\n\" transform=\"scale(0.015625)\"/>\n       </defs>\n       <use xlink:href=\"#DejaVuSans-63\"/>\n       <use xlink:href=\"#DejaVuSans-75\" x=\"54.980469\"/>\n       <use xlink:href=\"#DejaVuSans-73\" x=\"118.359375\"/>\n       <use xlink:href=\"#DejaVuSans-74\" x=\"170.458984\"/>\n       <use xlink:href=\"#DejaVuSans-5f\" x=\"209.667969\"/>\n       <use xlink:href=\"#DejaVuSans-6e\" x=\"259.667969\"/>\n       <use xlink:href=\"#DejaVuSans-75\" x=\"323.046875\"/>\n       <use xlink:href=\"#DejaVuSans-6d\" x=\"386.425781\"/>\n       <use xlink:href=\"#DejaVuSans-62\" x=\"483.837891\"/>\n       <use xlink:href=\"#DejaVuSans-65\" x=\"547.314453\"/>\n       <use xlink:href=\"#DejaVuSans-72\" x=\"608.837891\"/>\n      </g>\n     </g>\n    </g>\n    <g id=\"xtick_3\">\n     <g id=\"line2d_3\">\n      <g>\n       <use xlink:href=\"#m1b75e0713a\" x=\"249.26875\" y=\"684.604875\" style=\"fill: #ffffff; stroke: #ffffff; stroke-width: 0.8\"/>\n      </g>\n     </g>\n     <g id=\"text_3\">\n      <!-- buisness_year -->\n      <g style=\"fill: #ffffff\" transform=\"translate(251.889063 762.498625)rotate(-90)scale(0.1 -0.1)\">\n       <defs>\n        <path id=\"DejaVuSans-69\" d=\"M 603 3500 \nL 1178 3500 \nL 1178 0 \nL 603 0 \nL 603 3500 \nz\nM 603 4863 \nL 1178 4863 \nL 1178 4134 \nL 603 4134 \nL 603 4863 \nz\n\" transform=\"scale(0.015625)\"/>\n        <path id=\"DejaVuSans-61\" d=\"M 2194 1759 \nQ 1497 1759 1228 1600 \nQ 959 1441 959 1056 \nQ 959 750 1161 570 \nQ 1363 391 1709 391 \nQ 2188 391 2477 730 \nQ 2766 1069 2766 1631 \nL 2766 1759 \nL 2194 1759 \nz\nM 3341 1997 \nL 3341 0 \nL 2766 0 \nL 2766 531 \nQ 2569 213 2275 61 \nQ 1981 -91 1556 -91 \nQ 1019 -91 701 211 \nQ 384 513 384 1019 \nQ 384 1609 779 1909 \nQ 1175 2209 1959 2209 \nL 2766 2209 \nL 2766 2266 \nQ 2766 2663 2505 2880 \nQ 2244 3097 1772 3097 \nQ 1472 3097 1187 3025 \nQ 903 2953 641 2809 \nL 641 3341 \nQ 956 3463 1253 3523 \nQ 1550 3584 1831 3584 \nQ 2591 3584 2966 3190 \nQ 3341 2797 3341 1997 \nz\n\" transform=\"scale(0.015625)\"/>\n       </defs>\n       <use xlink:href=\"#DejaVuSans-62\"/>\n       <use xlink:href=\"#DejaVuSans-75\" x=\"63.476562\"/>\n       <use xlink:href=\"#DejaVuSans-69\" x=\"126.855469\"/>\n       <use xlink:href=\"#DejaVuSans-73\" x=\"154.638672\"/>\n       <use xlink:href=\"#DejaVuSans-6e\" x=\"206.738281\"/>\n       <use xlink:href=\"#DejaVuSans-65\" x=\"270.117188\"/>\n       <use xlink:href=\"#DejaVuSans-73\" x=\"331.640625\"/>\n       <use xlink:href=\"#DejaVuSans-73\" x=\"383.740234\"/>\n       <use xlink:href=\"#DejaVuSans-5f\" x=\"435.839844\"/>\n       <use xlink:href=\"#DejaVuSans-79\" x=\"485.839844\"/>\n       <use xlink:href=\"#DejaVuSans-65\" x=\"545.019531\"/>\n       <use xlink:href=\"#DejaVuSans-61\" x=\"606.542969\"/>\n       <use xlink:href=\"#DejaVuSans-72\" x=\"667.822266\"/>\n      </g>\n     </g>\n    </g>\n    <g id=\"xtick_4\">\n     <g id=\"line2d_4\">\n      <g>\n       <use xlink:href=\"#m1b75e0713a\" x=\"283.98875\" y=\"684.604875\" style=\"fill: #ffffff; stroke: #ffffff; stroke-width: 0.8\"/>\n      </g>\n     </g>\n     <g id=\"text_4\">\n      <!-- doc_id -->\n      <g style=\"fill: #ffffff\" transform=\"translate(286.609063 723.697063)rotate(-90)scale(0.1 -0.1)\">\n       <defs>\n        <path id=\"DejaVuSans-64\" d=\"M 2906 2969 \nL 2906 4863 \nL 3481 4863 \nL 3481 0 \nL 2906 0 \nL 2906 525 \nQ 2725 213 2448 61 \nQ 2172 -91 1784 -91 \nQ 1150 -91 751 415 \nQ 353 922 353 1747 \nQ 353 2572 751 3078 \nQ 1150 3584 1784 3584 \nQ 2172 3584 2448 3432 \nQ 2725 3281 2906 2969 \nz\nM 947 1747 \nQ 947 1113 1208 752 \nQ 1469 391 1925 391 \nQ 2381 391 2643 752 \nQ 2906 1113 2906 1747 \nQ 2906 2381 2643 2742 \nQ 2381 3103 1925 3103 \nQ 1469 3103 1208 2742 \nQ 947 2381 947 1747 \nz\n\" transform=\"scale(0.015625)\"/>\n        <path id=\"DejaVuSans-6f\" d=\"M 1959 3097 \nQ 1497 3097 1228 2736 \nQ 959 2375 959 1747 \nQ 959 1119 1226 758 \nQ 1494 397 1959 397 \nQ 2419 397 2687 759 \nQ 2956 1122 2956 1747 \nQ 2956 2369 2687 2733 \nQ 2419 3097 1959 3097 \nz\nM 1959 3584 \nQ 2709 3584 3137 3096 \nQ 3566 2609 3566 1747 \nQ 3566 888 3137 398 \nQ 2709 -91 1959 -91 \nQ 1206 -91 779 398 \nQ 353 888 353 1747 \nQ 353 2609 779 3096 \nQ 1206 3584 1959 3584 \nz\n\" transform=\"scale(0.015625)\"/>\n       </defs>\n       <use xlink:href=\"#DejaVuSans-64\"/>\n       <use xlink:href=\"#DejaVuSans-6f\" x=\"63.476562\"/>\n       <use xlink:href=\"#DejaVuSans-63\" x=\"124.658203\"/>\n       <use xlink:href=\"#DejaVuSans-5f\" x=\"179.638672\"/>\n       <use xlink:href=\"#DejaVuSans-69\" x=\"229.638672\"/>\n       <use xlink:href=\"#DejaVuSans-64\" x=\"257.421875\"/>\n      </g>\n     </g>\n    </g>\n    <g id=\"xtick_5\">\n     <g id=\"line2d_5\">\n      <g>\n       <use xlink:href=\"#m1b75e0713a\" x=\"318.70875\" y=\"684.604875\" style=\"fill: #ffffff; stroke: #ffffff; stroke-width: 0.8\"/>\n      </g>\n     </g>\n     <g id=\"text_5\">\n      <!-- converted_usd -->\n      <g style=\"fill: #ffffff\" transform=\"translate(321.329063 765.059563)rotate(-90)scale(0.1 -0.1)\">\n       <defs>\n        <path id=\"DejaVuSans-76\" d=\"M 191 3500 \nL 800 3500 \nL 1894 563 \nL 2988 3500 \nL 3597 3500 \nL 2284 0 \nL 1503 0 \nL 191 3500 \nz\n\" transform=\"scale(0.015625)\"/>\n       </defs>\n       <use xlink:href=\"#DejaVuSans-63\"/>\n       <use xlink:href=\"#DejaVuSans-6f\" x=\"54.980469\"/>\n       <use xlink:href=\"#DejaVuSans-6e\" x=\"116.162109\"/>\n       <use xlink:href=\"#DejaVuSans-76\" x=\"179.541016\"/>\n       <use xlink:href=\"#DejaVuSans-65\" x=\"238.720703\"/>\n       <use xlink:href=\"#DejaVuSans-72\" x=\"300.244141\"/>\n       <use xlink:href=\"#DejaVuSans-74\" x=\"341.357422\"/>\n       <use xlink:href=\"#DejaVuSans-65\" x=\"380.566406\"/>\n       <use xlink:href=\"#DejaVuSans-64\" x=\"442.089844\"/>\n       <use xlink:href=\"#DejaVuSans-5f\" x=\"505.566406\"/>\n       <use xlink:href=\"#DejaVuSans-75\" x=\"555.566406\"/>\n       <use xlink:href=\"#DejaVuSans-73\" x=\"618.945312\"/>\n       <use xlink:href=\"#DejaVuSans-64\" x=\"671.044922\"/>\n      </g>\n     </g>\n    </g>\n    <g id=\"xtick_6\">\n     <g id=\"line2d_6\">\n      <g>\n       <use xlink:href=\"#m1b75e0713a\" x=\"353.42875\" y=\"684.604875\" style=\"fill: #ffffff; stroke: #ffffff; stroke-width: 0.8\"/>\n      </g>\n     </g>\n     <g id=\"text_6\">\n      <!-- business_code_enc -->\n      <g style=\"fill: #ffffff\" transform=\"translate(356.049063 787.2955)rotate(-90)scale(0.1 -0.1)\">\n       <use xlink:href=\"#DejaVuSans-62\"/>\n       <use xlink:href=\"#DejaVuSans-75\" x=\"63.476562\"/>\n       <use xlink:href=\"#DejaVuSans-73\" x=\"126.855469\"/>\n       <use xlink:href=\"#DejaVuSans-69\" x=\"178.955078\"/>\n       <use xlink:href=\"#DejaVuSans-6e\" x=\"206.738281\"/>\n       <use xlink:href=\"#DejaVuSans-65\" x=\"270.117188\"/>\n       <use xlink:href=\"#DejaVuSans-73\" x=\"331.640625\"/>\n       <use xlink:href=\"#DejaVuSans-73\" x=\"383.740234\"/>\n       <use xlink:href=\"#DejaVuSans-5f\" x=\"435.839844\"/>\n       <use xlink:href=\"#DejaVuSans-63\" x=\"485.839844\"/>\n       <use xlink:href=\"#DejaVuSans-6f\" x=\"540.820312\"/>\n       <use xlink:href=\"#DejaVuSans-64\" x=\"602.001953\"/>\n       <use xlink:href=\"#DejaVuSans-65\" x=\"665.478516\"/>\n       <use xlink:href=\"#DejaVuSans-5f\" x=\"727.001953\"/>\n       <use xlink:href=\"#DejaVuSans-65\" x=\"777.001953\"/>\n       <use xlink:href=\"#DejaVuSans-6e\" x=\"838.525391\"/>\n       <use xlink:href=\"#DejaVuSans-63\" x=\"901.904297\"/>\n      </g>\n     </g>\n    </g>\n    <g id=\"xtick_7\">\n     <g id=\"line2d_7\">\n      <g>\n       <use xlink:href=\"#m1b75e0713a\" x=\"388.14875\" y=\"684.604875\" style=\"fill: #ffffff; stroke: #ffffff; stroke-width: 0.8\"/>\n      </g>\n     </g>\n     <g id=\"text_7\">\n      <!-- name_customer_enc -->\n      <g style=\"fill: #ffffff\" transform=\"translate(390.63 795.042375)rotate(-90)scale(0.1 -0.1)\">\n       <use xlink:href=\"#DejaVuSans-6e\"/>\n       <use xlink:href=\"#DejaVuSans-61\" x=\"63.378906\"/>\n       <use xlink:href=\"#DejaVuSans-6d\" x=\"124.658203\"/>\n       <use xlink:href=\"#DejaVuSans-65\" x=\"222.070312\"/>\n       <use xlink:href=\"#DejaVuSans-5f\" x=\"283.59375\"/>\n       <use xlink:href=\"#DejaVuSans-63\" x=\"333.59375\"/>\n       <use xlink:href=\"#DejaVuSans-75\" x=\"388.574219\"/>\n       <use xlink:href=\"#DejaVuSans-73\" x=\"451.953125\"/>\n       <use xlink:href=\"#DejaVuSans-74\" x=\"504.052734\"/>\n       <use xlink:href=\"#DejaVuSans-6f\" x=\"543.261719\"/>\n       <use xlink:href=\"#DejaVuSans-6d\" x=\"604.443359\"/>\n       <use xlink:href=\"#DejaVuSans-65\" x=\"701.855469\"/>\n       <use xlink:href=\"#DejaVuSans-72\" x=\"763.378906\"/>\n       <use xlink:href=\"#DejaVuSans-5f\" x=\"804.492188\"/>\n       <use xlink:href=\"#DejaVuSans-65\" x=\"854.492188\"/>\n       <use xlink:href=\"#DejaVuSans-6e\" x=\"916.015625\"/>\n       <use xlink:href=\"#DejaVuSans-63\" x=\"979.394531\"/>\n      </g>\n     </g>\n    </g>\n    <g id=\"xtick_8\">\n     <g id=\"line2d_8\">\n      <g>\n       <use xlink:href=\"#m1b75e0713a\" x=\"422.86875\" y=\"684.604875\" style=\"fill: #ffffff; stroke: #ffffff; stroke-width: 0.8\"/>\n      </g>\n     </g>\n     <g id=\"text_8\">\n      <!-- cust_payment_terms_enc -->\n      <g style=\"fill: #ffffff\" transform=\"translate(425.35 819.065813)rotate(-90)scale(0.1 -0.1)\">\n       <defs>\n        <path id=\"DejaVuSans-70\" d=\"M 1159 525 \nL 1159 -1331 \nL 581 -1331 \nL 581 3500 \nL 1159 3500 \nL 1159 2969 \nQ 1341 3281 1617 3432 \nQ 1894 3584 2278 3584 \nQ 2916 3584 3314 3078 \nQ 3713 2572 3713 1747 \nQ 3713 922 3314 415 \nQ 2916 -91 2278 -91 \nQ 1894 -91 1617 61 \nQ 1341 213 1159 525 \nz\nM 3116 1747 \nQ 3116 2381 2855 2742 \nQ 2594 3103 2138 3103 \nQ 1681 3103 1420 2742 \nQ 1159 2381 1159 1747 \nQ 1159 1113 1420 752 \nQ 1681 391 2138 391 \nQ 2594 391 2855 752 \nQ 3116 1113 3116 1747 \nz\n\" transform=\"scale(0.015625)\"/>\n       </defs>\n       <use xlink:href=\"#DejaVuSans-63\"/>\n       <use xlink:href=\"#DejaVuSans-75\" x=\"54.980469\"/>\n       <use xlink:href=\"#DejaVuSans-73\" x=\"118.359375\"/>\n       <use xlink:href=\"#DejaVuSans-74\" x=\"170.458984\"/>\n       <use xlink:href=\"#DejaVuSans-5f\" x=\"209.667969\"/>\n       <use xlink:href=\"#DejaVuSans-70\" x=\"259.667969\"/>\n       <use xlink:href=\"#DejaVuSans-61\" x=\"323.144531\"/>\n       <use xlink:href=\"#DejaVuSans-79\" x=\"384.423828\"/>\n       <use xlink:href=\"#DejaVuSans-6d\" x=\"443.603516\"/>\n       <use xlink:href=\"#DejaVuSans-65\" x=\"541.015625\"/>\n       <use xlink:href=\"#DejaVuSans-6e\" x=\"602.539062\"/>\n       <use xlink:href=\"#DejaVuSans-74\" x=\"665.917969\"/>\n       <use xlink:href=\"#DejaVuSans-5f\" x=\"705.126953\"/>\n       <use xlink:href=\"#DejaVuSans-74\" x=\"755.126953\"/>\n       <use xlink:href=\"#DejaVuSans-65\" x=\"794.335938\"/>\n       <use xlink:href=\"#DejaVuSans-72\" x=\"855.859375\"/>\n       <use xlink:href=\"#DejaVuSans-6d\" x=\"895.222656\"/>\n       <use xlink:href=\"#DejaVuSans-73\" x=\"992.634766\"/>\n       <use xlink:href=\"#DejaVuSans-5f\" x=\"1044.734375\"/>\n       <use xlink:href=\"#DejaVuSans-65\" x=\"1094.734375\"/>\n       <use xlink:href=\"#DejaVuSans-6e\" x=\"1156.257812\"/>\n       <use xlink:href=\"#DejaVuSans-63\" x=\"1219.636719\"/>\n      </g>\n     </g>\n    </g>\n    <g id=\"xtick_9\">\n     <g id=\"line2d_9\">\n      <g>\n       <use xlink:href=\"#m1b75e0713a\" x=\"457.58875\" y=\"684.604875\" style=\"fill: #ffffff; stroke: #ffffff; stroke-width: 0.8\"/>\n      </g>\n     </g>\n     <g id=\"text_9\">\n      <!-- day_of_postingdate -->\n      <g style=\"fill: #ffffff\" transform=\"translate(460.209063 789.250188)rotate(-90)scale(0.1 -0.1)\">\n       <defs>\n        <path id=\"DejaVuSans-66\" d=\"M 2375 4863 \nL 2375 4384 \nL 1825 4384 \nQ 1516 4384 1395 4259 \nQ 1275 4134 1275 3809 \nL 1275 3500 \nL 2222 3500 \nL 2222 3053 \nL 1275 3053 \nL 1275 0 \nL 697 0 \nL 697 3053 \nL 147 3053 \nL 147 3500 \nL 697 3500 \nL 697 3744 \nQ 697 4328 969 4595 \nQ 1241 4863 1831 4863 \nL 2375 4863 \nz\n\" transform=\"scale(0.015625)\"/>\n        <path id=\"DejaVuSans-67\" d=\"M 2906 1791 \nQ 2906 2416 2648 2759 \nQ 2391 3103 1925 3103 \nQ 1463 3103 1205 2759 \nQ 947 2416 947 1791 \nQ 947 1169 1205 825 \nQ 1463 481 1925 481 \nQ 2391 481 2648 825 \nQ 2906 1169 2906 1791 \nz\nM 3481 434 \nQ 3481 -459 3084 -895 \nQ 2688 -1331 1869 -1331 \nQ 1566 -1331 1297 -1286 \nQ 1028 -1241 775 -1147 \nL 775 -588 \nQ 1028 -725 1275 -790 \nQ 1522 -856 1778 -856 \nQ 2344 -856 2625 -561 \nQ 2906 -266 2906 331 \nL 2906 616 \nQ 2728 306 2450 153 \nQ 2172 0 1784 0 \nQ 1141 0 747 490 \nQ 353 981 353 1791 \nQ 353 2603 747 3093 \nQ 1141 3584 1784 3584 \nQ 2172 3584 2450 3431 \nQ 2728 3278 2906 2969 \nL 2906 3500 \nL 3481 3500 \nL 3481 434 \nz\n\" transform=\"scale(0.015625)\"/>\n       </defs>\n       <use xlink:href=\"#DejaVuSans-64\"/>\n       <use xlink:href=\"#DejaVuSans-61\" x=\"63.476562\"/>\n       <use xlink:href=\"#DejaVuSans-79\" x=\"124.755859\"/>\n       <use xlink:href=\"#DejaVuSans-5f\" x=\"183.935547\"/>\n       <use xlink:href=\"#DejaVuSans-6f\" x=\"233.935547\"/>\n       <use xlink:href=\"#DejaVuSans-66\" x=\"295.117188\"/>\n       <use xlink:href=\"#DejaVuSans-5f\" x=\"330.322266\"/>\n       <use xlink:href=\"#DejaVuSans-70\" x=\"380.322266\"/>\n       <use xlink:href=\"#DejaVuSans-6f\" x=\"443.798828\"/>\n       <use xlink:href=\"#DejaVuSans-73\" x=\"504.980469\"/>\n       <use xlink:href=\"#DejaVuSans-74\" x=\"557.080078\"/>\n       <use xlink:href=\"#DejaVuSans-69\" x=\"596.289062\"/>\n       <use xlink:href=\"#DejaVuSans-6e\" x=\"624.072266\"/>\n       <use xlink:href=\"#DejaVuSans-67\" x=\"687.451172\"/>\n       <use xlink:href=\"#DejaVuSans-64\" x=\"750.927734\"/>\n       <use xlink:href=\"#DejaVuSans-61\" x=\"814.404297\"/>\n       <use xlink:href=\"#DejaVuSans-74\" x=\"875.683594\"/>\n       <use xlink:href=\"#DejaVuSans-65\" x=\"914.892578\"/>\n      </g>\n     </g>\n    </g>\n    <g id=\"xtick_10\">\n     <g id=\"line2d_10\">\n      <g>\n       <use xlink:href=\"#m1b75e0713a\" x=\"492.30875\" y=\"684.604875\" style=\"fill: #ffffff; stroke: #ffffff; stroke-width: 0.8\"/>\n      </g>\n     </g>\n     <g id=\"text_10\">\n      <!-- month_of_postingdate -->\n      <g style=\"fill: #ffffff\" transform=\"translate(494.929063 803.309563)rotate(-90)scale(0.1 -0.1)\">\n       <defs>\n        <path id=\"DejaVuSans-68\" d=\"M 3513 2113 \nL 3513 0 \nL 2938 0 \nL 2938 2094 \nQ 2938 2591 2744 2837 \nQ 2550 3084 2163 3084 \nQ 1697 3084 1428 2787 \nQ 1159 2491 1159 1978 \nL 1159 0 \nL 581 0 \nL 581 4863 \nL 1159 4863 \nL 1159 2956 \nQ 1366 3272 1645 3428 \nQ 1925 3584 2291 3584 \nQ 2894 3584 3203 3211 \nQ 3513 2838 3513 2113 \nz\n\" transform=\"scale(0.015625)\"/>\n       </defs>\n       <use xlink:href=\"#DejaVuSans-6d\"/>\n       <use xlink:href=\"#DejaVuSans-6f\" x=\"97.412109\"/>\n       <use xlink:href=\"#DejaVuSans-6e\" x=\"158.59375\"/>\n       <use xlink:href=\"#DejaVuSans-74\" x=\"221.972656\"/>\n       <use xlink:href=\"#DejaVuSans-68\" x=\"261.181641\"/>\n       <use xlink:href=\"#DejaVuSans-5f\" x=\"324.560547\"/>\n       <use xlink:href=\"#DejaVuSans-6f\" x=\"374.560547\"/>\n       <use xlink:href=\"#DejaVuSans-66\" x=\"435.742188\"/>\n       <use xlink:href=\"#DejaVuSans-5f\" x=\"470.947266\"/>\n       <use xlink:href=\"#DejaVuSans-70\" x=\"520.947266\"/>\n       <use xlink:href=\"#DejaVuSans-6f\" x=\"584.423828\"/>\n       <use xlink:href=\"#DejaVuSans-73\" x=\"645.605469\"/>\n       <use xlink:href=\"#DejaVuSans-74\" x=\"697.705078\"/>\n       <use xlink:href=\"#DejaVuSans-69\" x=\"736.914062\"/>\n       <use xlink:href=\"#DejaVuSans-6e\" x=\"764.697266\"/>\n       <use xlink:href=\"#DejaVuSans-67\" x=\"828.076172\"/>\n       <use xlink:href=\"#DejaVuSans-64\" x=\"891.552734\"/>\n       <use xlink:href=\"#DejaVuSans-61\" x=\"955.029297\"/>\n       <use xlink:href=\"#DejaVuSans-74\" x=\"1016.308594\"/>\n       <use xlink:href=\"#DejaVuSans-65\" x=\"1055.517578\"/>\n      </g>\n     </g>\n    </g>\n    <g id=\"xtick_11\">\n     <g id=\"line2d_11\">\n      <g>\n       <use xlink:href=\"#m1b75e0713a\" x=\"527.02875\" y=\"684.604875\" style=\"fill: #ffffff; stroke: #ffffff; stroke-width: 0.8\"/>\n      </g>\n     </g>\n     <g id=\"text_11\">\n      <!-- year_of_postingdate -->\n      <g style=\"fill: #ffffff\" transform=\"translate(529.649063 793.165813)rotate(-90)scale(0.1 -0.1)\">\n       <use xlink:href=\"#DejaVuSans-79\"/>\n       <use xlink:href=\"#DejaVuSans-65\" x=\"59.179688\"/>\n       <use xlink:href=\"#DejaVuSans-61\" x=\"120.703125\"/>\n       <use xlink:href=\"#DejaVuSans-72\" x=\"181.982422\"/>\n       <use xlink:href=\"#DejaVuSans-5f\" x=\"223.095703\"/>\n       <use xlink:href=\"#DejaVuSans-6f\" x=\"273.095703\"/>\n       <use xlink:href=\"#DejaVuSans-66\" x=\"334.277344\"/>\n       <use xlink:href=\"#DejaVuSans-5f\" x=\"369.482422\"/>\n       <use xlink:href=\"#DejaVuSans-70\" x=\"419.482422\"/>\n       <use xlink:href=\"#DejaVuSans-6f\" x=\"482.958984\"/>\n       <use xlink:href=\"#DejaVuSans-73\" x=\"544.140625\"/>\n       <use xlink:href=\"#DejaVuSans-74\" x=\"596.240234\"/>\n       <use xlink:href=\"#DejaVuSans-69\" x=\"635.449219\"/>\n       <use xlink:href=\"#DejaVuSans-6e\" x=\"663.232422\"/>\n       <use xlink:href=\"#DejaVuSans-67\" x=\"726.611328\"/>\n       <use xlink:href=\"#DejaVuSans-64\" x=\"790.087891\"/>\n       <use xlink:href=\"#DejaVuSans-61\" x=\"853.564453\"/>\n       <use xlink:href=\"#DejaVuSans-74\" x=\"914.84375\"/>\n       <use xlink:href=\"#DejaVuSans-65\" x=\"954.052734\"/>\n      </g>\n     </g>\n    </g>\n    <g id=\"xtick_12\">\n     <g id=\"line2d_12\">\n      <g>\n       <use xlink:href=\"#m1b75e0713a\" x=\"561.74875\" y=\"684.604875\" style=\"fill: #ffffff; stroke: #ffffff; stroke-width: 0.8\"/>\n      </g>\n     </g>\n     <g id=\"text_12\">\n      <!-- day_of_baselinecreatedate -->\n      <g style=\"fill: #ffffff\" transform=\"translate(564.369063 825.81425)rotate(-90)scale(0.1 -0.1)\">\n       <defs>\n        <path id=\"DejaVuSans-6c\" d=\"M 603 4863 \nL 1178 4863 \nL 1178 0 \nL 603 0 \nL 603 4863 \nz\n\" transform=\"scale(0.015625)\"/>\n       </defs>\n       <use xlink:href=\"#DejaVuSans-64\"/>\n       <use xlink:href=\"#DejaVuSans-61\" x=\"63.476562\"/>\n       <use xlink:href=\"#DejaVuSans-79\" x=\"124.755859\"/>\n       <use xlink:href=\"#DejaVuSans-5f\" x=\"183.935547\"/>\n       <use xlink:href=\"#DejaVuSans-6f\" x=\"233.935547\"/>\n       <use xlink:href=\"#DejaVuSans-66\" x=\"295.117188\"/>\n       <use xlink:href=\"#DejaVuSans-5f\" x=\"330.322266\"/>\n       <use xlink:href=\"#DejaVuSans-62\" x=\"380.322266\"/>\n       <use xlink:href=\"#DejaVuSans-61\" x=\"443.798828\"/>\n       <use xlink:href=\"#DejaVuSans-73\" x=\"505.078125\"/>\n       <use xlink:href=\"#DejaVuSans-65\" x=\"557.177734\"/>\n       <use xlink:href=\"#DejaVuSans-6c\" x=\"618.701172\"/>\n       <use xlink:href=\"#DejaVuSans-69\" x=\"646.484375\"/>\n       <use xlink:href=\"#DejaVuSans-6e\" x=\"674.267578\"/>\n       <use xlink:href=\"#DejaVuSans-65\" x=\"737.646484\"/>\n       <use xlink:href=\"#DejaVuSans-63\" x=\"799.169922\"/>\n       <use xlink:href=\"#DejaVuSans-72\" x=\"854.150391\"/>\n       <use xlink:href=\"#DejaVuSans-65\" x=\"893.013672\"/>\n       <use xlink:href=\"#DejaVuSans-61\" x=\"954.537109\"/>\n       <use xlink:href=\"#DejaVuSans-74\" x=\"1015.816406\"/>\n       <use xlink:href=\"#DejaVuSans-65\" x=\"1055.025391\"/>\n       <use xlink:href=\"#DejaVuSans-64\" x=\"1116.548828\"/>\n       <use xlink:href=\"#DejaVuSans-61\" x=\"1180.025391\"/>\n       <use xlink:href=\"#DejaVuSans-74\" x=\"1241.304688\"/>\n       <use xlink:href=\"#DejaVuSans-65\" x=\"1280.513672\"/>\n      </g>\n     </g>\n    </g>\n    <g id=\"xtick_13\">\n     <g id=\"line2d_13\">\n      <g>\n       <use xlink:href=\"#m1b75e0713a\" x=\"596.46875\" y=\"684.604875\" style=\"fill: #ffffff; stroke: #ffffff; stroke-width: 0.8\"/>\n      </g>\n     </g>\n     <g id=\"text_13\">\n      <!-- month_of_baselinecreatedate -->\n      <g style=\"fill: #ffffff\" transform=\"translate(599.089062 839.873625)rotate(-90)scale(0.1 -0.1)\">\n       <use xlink:href=\"#DejaVuSans-6d\"/>\n       <use xlink:href=\"#DejaVuSans-6f\" x=\"97.412109\"/>\n       <use xlink:href=\"#DejaVuSans-6e\" x=\"158.59375\"/>\n       <use xlink:href=\"#DejaVuSans-74\" x=\"221.972656\"/>\n       <use xlink:href=\"#DejaVuSans-68\" x=\"261.181641\"/>\n       <use xlink:href=\"#DejaVuSans-5f\" x=\"324.560547\"/>\n       <use xlink:href=\"#DejaVuSans-6f\" x=\"374.560547\"/>\n       <use xlink:href=\"#DejaVuSans-66\" x=\"435.742188\"/>\n       <use xlink:href=\"#DejaVuSans-5f\" x=\"470.947266\"/>\n       <use xlink:href=\"#DejaVuSans-62\" x=\"520.947266\"/>\n       <use xlink:href=\"#DejaVuSans-61\" x=\"584.423828\"/>\n       <use xlink:href=\"#DejaVuSans-73\" x=\"645.703125\"/>\n       <use xlink:href=\"#DejaVuSans-65\" x=\"697.802734\"/>\n       <use xlink:href=\"#DejaVuSans-6c\" x=\"759.326172\"/>\n       <use xlink:href=\"#DejaVuSans-69\" x=\"787.109375\"/>\n       <use xlink:href=\"#DejaVuSans-6e\" x=\"814.892578\"/>\n       <use xlink:href=\"#DejaVuSans-65\" x=\"878.271484\"/>\n       <use xlink:href=\"#DejaVuSans-63\" x=\"939.794922\"/>\n       <use xlink:href=\"#DejaVuSans-72\" x=\"994.775391\"/>\n       <use xlink:href=\"#DejaVuSans-65\" x=\"1033.638672\"/>\n       <use xlink:href=\"#DejaVuSans-61\" x=\"1095.162109\"/>\n       <use xlink:href=\"#DejaVuSans-74\" x=\"1156.441406\"/>\n       <use xlink:href=\"#DejaVuSans-65\" x=\"1195.650391\"/>\n       <use xlink:href=\"#DejaVuSans-64\" x=\"1257.173828\"/>\n       <use xlink:href=\"#DejaVuSans-61\" x=\"1320.650391\"/>\n       <use xlink:href=\"#DejaVuSans-74\" x=\"1381.929688\"/>\n       <use xlink:href=\"#DejaVuSans-65\" x=\"1421.138672\"/>\n      </g>\n     </g>\n    </g>\n    <g id=\"xtick_14\">\n     <g id=\"line2d_14\">\n      <g>\n       <use xlink:href=\"#m1b75e0713a\" x=\"631.18875\" y=\"684.604875\" style=\"fill: #ffffff; stroke: #ffffff; stroke-width: 0.8\"/>\n      </g>\n     </g>\n     <g id=\"text_14\">\n      <!-- year_of_baselinecreatedate -->\n      <g style=\"fill: #ffffff\" transform=\"translate(633.809062 829.729875)rotate(-90)scale(0.1 -0.1)\">\n       <use xlink:href=\"#DejaVuSans-79\"/>\n       <use xlink:href=\"#DejaVuSans-65\" x=\"59.179688\"/>\n       <use xlink:href=\"#DejaVuSans-61\" x=\"120.703125\"/>\n       <use xlink:href=\"#DejaVuSans-72\" x=\"181.982422\"/>\n       <use xlink:href=\"#DejaVuSans-5f\" x=\"223.095703\"/>\n       <use xlink:href=\"#DejaVuSans-6f\" x=\"273.095703\"/>\n       <use xlink:href=\"#DejaVuSans-66\" x=\"334.277344\"/>\n       <use xlink:href=\"#DejaVuSans-5f\" x=\"369.482422\"/>\n       <use xlink:href=\"#DejaVuSans-62\" x=\"419.482422\"/>\n       <use xlink:href=\"#DejaVuSans-61\" x=\"482.958984\"/>\n       <use xlink:href=\"#DejaVuSans-73\" x=\"544.238281\"/>\n       <use xlink:href=\"#DejaVuSans-65\" x=\"596.337891\"/>\n       <use xlink:href=\"#DejaVuSans-6c\" x=\"657.861328\"/>\n       <use xlink:href=\"#DejaVuSans-69\" x=\"685.644531\"/>\n       <use xlink:href=\"#DejaVuSans-6e\" x=\"713.427734\"/>\n       <use xlink:href=\"#DejaVuSans-65\" x=\"776.806641\"/>\n       <use xlink:href=\"#DejaVuSans-63\" x=\"838.330078\"/>\n       <use xlink:href=\"#DejaVuSans-72\" x=\"893.310547\"/>\n       <use xlink:href=\"#DejaVuSans-65\" x=\"932.173828\"/>\n       <use xlink:href=\"#DejaVuSans-61\" x=\"993.697266\"/>\n       <use xlink:href=\"#DejaVuSans-74\" x=\"1054.976562\"/>\n       <use xlink:href=\"#DejaVuSans-65\" x=\"1094.185547\"/>\n       <use xlink:href=\"#DejaVuSans-64\" x=\"1155.708984\"/>\n       <use xlink:href=\"#DejaVuSans-61\" x=\"1219.185547\"/>\n       <use xlink:href=\"#DejaVuSans-74\" x=\"1280.464844\"/>\n       <use xlink:href=\"#DejaVuSans-65\" x=\"1319.673828\"/>\n      </g>\n     </g>\n    </g>\n    <g id=\"xtick_15\">\n     <g id=\"line2d_15\">\n      <g>\n       <use xlink:href=\"#m1b75e0713a\" x=\"665.90875\" y=\"684.604875\" style=\"fill: #ffffff; stroke: #ffffff; stroke-width: 0.8\"/>\n      </g>\n     </g>\n     <g id=\"text_15\">\n      <!-- day_of_dueindate -->\n      <g style=\"fill: #ffffff\" transform=\"translate(668.529063 780.143938)rotate(-90)scale(0.1 -0.1)\">\n       <use xlink:href=\"#DejaVuSans-64\"/>\n       <use xlink:href=\"#DejaVuSans-61\" x=\"63.476562\"/>\n       <use xlink:href=\"#DejaVuSans-79\" x=\"124.755859\"/>\n       <use xlink:href=\"#DejaVuSans-5f\" x=\"183.935547\"/>\n       <use xlink:href=\"#DejaVuSans-6f\" x=\"233.935547\"/>\n       <use xlink:href=\"#DejaVuSans-66\" x=\"295.117188\"/>\n       <use xlink:href=\"#DejaVuSans-5f\" x=\"330.322266\"/>\n       <use xlink:href=\"#DejaVuSans-64\" x=\"380.322266\"/>\n       <use xlink:href=\"#DejaVuSans-75\" x=\"443.798828\"/>\n       <use xlink:href=\"#DejaVuSans-65\" x=\"507.177734\"/>\n       <use xlink:href=\"#DejaVuSans-69\" x=\"568.701172\"/>\n       <use xlink:href=\"#DejaVuSans-6e\" x=\"596.484375\"/>\n       <use xlink:href=\"#DejaVuSans-64\" x=\"659.863281\"/>\n       <use xlink:href=\"#DejaVuSans-61\" x=\"723.339844\"/>\n       <use xlink:href=\"#DejaVuSans-74\" x=\"784.619141\"/>\n       <use xlink:href=\"#DejaVuSans-65\" x=\"823.828125\"/>\n      </g>\n     </g>\n    </g>\n    <g id=\"xtick_16\">\n     <g id=\"line2d_16\">\n      <g>\n       <use xlink:href=\"#m1b75e0713a\" x=\"700.62875\" y=\"684.604875\" style=\"fill: #ffffff; stroke: #ffffff; stroke-width: 0.8\"/>\n      </g>\n     </g>\n     <g id=\"text_16\">\n      <!-- month_of_dueindate -->\n      <g style=\"fill: #ffffff\" transform=\"translate(703.249063 794.203313)rotate(-90)scale(0.1 -0.1)\">\n       <use xlink:href=\"#DejaVuSans-6d\"/>\n       <use xlink:href=\"#DejaVuSans-6f\" x=\"97.412109\"/>\n       <use xlink:href=\"#DejaVuSans-6e\" x=\"158.59375\"/>\n       <use xlink:href=\"#DejaVuSans-74\" x=\"221.972656\"/>\n       <use xlink:href=\"#DejaVuSans-68\" x=\"261.181641\"/>\n       <use xlink:href=\"#DejaVuSans-5f\" x=\"324.560547\"/>\n       <use xlink:href=\"#DejaVuSans-6f\" x=\"374.560547\"/>\n       <use xlink:href=\"#DejaVuSans-66\" x=\"435.742188\"/>\n       <use xlink:href=\"#DejaVuSans-5f\" x=\"470.947266\"/>\n       <use xlink:href=\"#DejaVuSans-64\" x=\"520.947266\"/>\n       <use xlink:href=\"#DejaVuSans-75\" x=\"584.423828\"/>\n       <use xlink:href=\"#DejaVuSans-65\" x=\"647.802734\"/>\n       <use xlink:href=\"#DejaVuSans-69\" x=\"709.326172\"/>\n       <use xlink:href=\"#DejaVuSans-6e\" x=\"737.109375\"/>\n       <use xlink:href=\"#DejaVuSans-64\" x=\"800.488281\"/>\n       <use xlink:href=\"#DejaVuSans-61\" x=\"863.964844\"/>\n       <use xlink:href=\"#DejaVuSans-74\" x=\"925.244141\"/>\n       <use xlink:href=\"#DejaVuSans-65\" x=\"964.453125\"/>\n      </g>\n     </g>\n    </g>\n    <g id=\"xtick_17\">\n     <g id=\"line2d_17\">\n      <g>\n       <use xlink:href=\"#m1b75e0713a\" x=\"735.34875\" y=\"684.604875\" style=\"fill: #ffffff; stroke: #ffffff; stroke-width: 0.8\"/>\n      </g>\n     </g>\n     <g id=\"text_17\">\n      <!-- year_of_dueindate -->\n      <g style=\"fill: #ffffff\" transform=\"translate(737.969063 784.059563)rotate(-90)scale(0.1 -0.1)\">\n       <use xlink:href=\"#DejaVuSans-79\"/>\n       <use xlink:href=\"#DejaVuSans-65\" x=\"59.179688\"/>\n       <use xlink:href=\"#DejaVuSans-61\" x=\"120.703125\"/>\n       <use xlink:href=\"#DejaVuSans-72\" x=\"181.982422\"/>\n       <use xlink:href=\"#DejaVuSans-5f\" x=\"223.095703\"/>\n       <use xlink:href=\"#DejaVuSans-6f\" x=\"273.095703\"/>\n       <use xlink:href=\"#DejaVuSans-66\" x=\"334.277344\"/>\n       <use xlink:href=\"#DejaVuSans-5f\" x=\"369.482422\"/>\n       <use xlink:href=\"#DejaVuSans-64\" x=\"419.482422\"/>\n       <use xlink:href=\"#DejaVuSans-75\" x=\"482.958984\"/>\n       <use xlink:href=\"#DejaVuSans-65\" x=\"546.337891\"/>\n       <use xlink:href=\"#DejaVuSans-69\" x=\"607.861328\"/>\n       <use xlink:href=\"#DejaVuSans-6e\" x=\"635.644531\"/>\n       <use xlink:href=\"#DejaVuSans-64\" x=\"699.023438\"/>\n       <use xlink:href=\"#DejaVuSans-61\" x=\"762.5\"/>\n       <use xlink:href=\"#DejaVuSans-74\" x=\"823.779297\"/>\n       <use xlink:href=\"#DejaVuSans-65\" x=\"862.988281\"/>\n      </g>\n     </g>\n    </g>\n    <g id=\"xtick_18\">\n     <g id=\"line2d_18\">\n      <g>\n       <use xlink:href=\"#m1b75e0713a\" x=\"770.06875\" y=\"684.604875\" style=\"fill: #ffffff; stroke: #ffffff; stroke-width: 0.8\"/>\n      </g>\n     </g>\n     <g id=\"text_18\">\n      <!-- avg_delay -->\n      <g style=\"fill: #ffffff\" transform=\"translate(772.689063 742.32675)rotate(-90)scale(0.1 -0.1)\">\n       <use xlink:href=\"#DejaVuSans-61\"/>\n       <use xlink:href=\"#DejaVuSans-76\" x=\"61.279297\"/>\n       <use xlink:href=\"#DejaVuSans-67\" x=\"120.458984\"/>\n       <use xlink:href=\"#DejaVuSans-5f\" x=\"183.935547\"/>\n       <use xlink:href=\"#DejaVuSans-64\" x=\"233.935547\"/>\n       <use xlink:href=\"#DejaVuSans-65\" x=\"297.412109\"/>\n       <use xlink:href=\"#DejaVuSans-6c\" x=\"358.935547\"/>\n       <use xlink:href=\"#DejaVuSans-61\" x=\"386.71875\"/>\n       <use xlink:href=\"#DejaVuSans-79\" x=\"447.998047\"/>\n      </g>\n     </g>\n    </g>\n   </g>\n   <g id=\"matplotlib.axis_2\">\n    <g id=\"ytick_1\">\n     <g id=\"line2d_19\">\n      <defs>\n       <path id=\"m80346fecd0\" d=\"M 0 0 \nL -3.5 0 \n\" style=\"stroke: #ffffff; stroke-width: 0.8\"/>\n      </defs>\n      <g>\n       <use xlink:href=\"#m80346fecd0\" x=\"162.46875\" y=\"77.004875\" style=\"fill: #ffffff; stroke: #ffffff; stroke-width: 0.8\"/>\n      </g>\n     </g>\n     <g id=\"text_19\">\n      <!-- key_0 -->\n      <g style=\"fill: #ffffff\" transform=\"translate(126.60625 79.625187)scale(0.1 -0.1)\">\n       <use xlink:href=\"#DejaVuSans-6b\"/>\n       <use xlink:href=\"#DejaVuSans-65\" x=\"54.285156\"/>\n       <use xlink:href=\"#DejaVuSans-79\" x=\"115.808594\"/>\n       <use xlink:href=\"#DejaVuSans-5f\" x=\"174.988281\"/>\n       <use xlink:href=\"#DejaVuSans-30\" x=\"224.988281\"/>\n      </g>\n     </g>\n    </g>\n    <g id=\"ytick_2\">\n     <g id=\"line2d_20\">\n      <g>\n       <use xlink:href=\"#m80346fecd0\" x=\"162.46875\" y=\"111.724875\" style=\"fill: #ffffff; stroke: #ffffff; stroke-width: 0.8\"/>\n      </g>\n     </g>\n     <g id=\"text_20\">\n      <!-- cust_number -->\n      <g style=\"fill: #ffffff\" transform=\"translate(90.475 114.345187)scale(0.1 -0.1)\">\n       <use xlink:href=\"#DejaVuSans-63\"/>\n       <use xlink:href=\"#DejaVuSans-75\" x=\"54.980469\"/>\n       <use xlink:href=\"#DejaVuSans-73\" x=\"118.359375\"/>\n       <use xlink:href=\"#DejaVuSans-74\" x=\"170.458984\"/>\n       <use xlink:href=\"#DejaVuSans-5f\" x=\"209.667969\"/>\n       <use xlink:href=\"#DejaVuSans-6e\" x=\"259.667969\"/>\n       <use xlink:href=\"#DejaVuSans-75\" x=\"323.046875\"/>\n       <use xlink:href=\"#DejaVuSans-6d\" x=\"386.425781\"/>\n       <use xlink:href=\"#DejaVuSans-62\" x=\"483.837891\"/>\n       <use xlink:href=\"#DejaVuSans-65\" x=\"547.314453\"/>\n       <use xlink:href=\"#DejaVuSans-72\" x=\"608.837891\"/>\n      </g>\n     </g>\n    </g>\n    <g id=\"ytick_3\">\n     <g id=\"line2d_21\">\n      <g>\n       <use xlink:href=\"#m80346fecd0\" x=\"162.46875\" y=\"146.444875\" style=\"fill: #ffffff; stroke: #ffffff; stroke-width: 0.8\"/>\n      </g>\n     </g>\n     <g id=\"text_21\">\n      <!-- buisness_year -->\n      <g style=\"fill: #ffffff\" transform=\"translate(84.575 149.065187)scale(0.1 -0.1)\">\n       <use xlink:href=\"#DejaVuSans-62\"/>\n       <use xlink:href=\"#DejaVuSans-75\" x=\"63.476562\"/>\n       <use xlink:href=\"#DejaVuSans-69\" x=\"126.855469\"/>\n       <use xlink:href=\"#DejaVuSans-73\" x=\"154.638672\"/>\n       <use xlink:href=\"#DejaVuSans-6e\" x=\"206.738281\"/>\n       <use xlink:href=\"#DejaVuSans-65\" x=\"270.117188\"/>\n       <use xlink:href=\"#DejaVuSans-73\" x=\"331.640625\"/>\n       <use xlink:href=\"#DejaVuSans-73\" x=\"383.740234\"/>\n       <use xlink:href=\"#DejaVuSans-5f\" x=\"435.839844\"/>\n       <use xlink:href=\"#DejaVuSans-79\" x=\"485.839844\"/>\n       <use xlink:href=\"#DejaVuSans-65\" x=\"545.019531\"/>\n       <use xlink:href=\"#DejaVuSans-61\" x=\"606.542969\"/>\n       <use xlink:href=\"#DejaVuSans-72\" x=\"667.822266\"/>\n      </g>\n     </g>\n    </g>\n    <g id=\"ytick_4\">\n     <g id=\"line2d_22\">\n      <g>\n       <use xlink:href=\"#m80346fecd0\" x=\"162.46875\" y=\"181.164875\" style=\"fill: #ffffff; stroke: #ffffff; stroke-width: 0.8\"/>\n      </g>\n     </g>\n     <g id=\"text_22\">\n      <!-- doc_id -->\n      <g style=\"fill: #ffffff\" transform=\"translate(123.376563 183.785187)scale(0.1 -0.1)\">\n       <use xlink:href=\"#DejaVuSans-64\"/>\n       <use xlink:href=\"#DejaVuSans-6f\" x=\"63.476562\"/>\n       <use xlink:href=\"#DejaVuSans-63\" x=\"124.658203\"/>\n       <use xlink:href=\"#DejaVuSans-5f\" x=\"179.638672\"/>\n       <use xlink:href=\"#DejaVuSans-69\" x=\"229.638672\"/>\n       <use xlink:href=\"#DejaVuSans-64\" x=\"257.421875\"/>\n      </g>\n     </g>\n    </g>\n    <g id=\"ytick_5\">\n     <g id=\"line2d_23\">\n      <g>\n       <use xlink:href=\"#m80346fecd0\" x=\"162.46875\" y=\"215.884875\" style=\"fill: #ffffff; stroke: #ffffff; stroke-width: 0.8\"/>\n      </g>\n     </g>\n     <g id=\"text_23\">\n      <!-- converted_usd -->\n      <g style=\"fill: #ffffff\" transform=\"translate(82.014062 218.505187)scale(0.1 -0.1)\">\n       <use xlink:href=\"#DejaVuSans-63\"/>\n       <use xlink:href=\"#DejaVuSans-6f\" x=\"54.980469\"/>\n       <use xlink:href=\"#DejaVuSans-6e\" x=\"116.162109\"/>\n       <use xlink:href=\"#DejaVuSans-76\" x=\"179.541016\"/>\n       <use xlink:href=\"#DejaVuSans-65\" x=\"238.720703\"/>\n       <use xlink:href=\"#DejaVuSans-72\" x=\"300.244141\"/>\n       <use xlink:href=\"#DejaVuSans-74\" x=\"341.357422\"/>\n       <use xlink:href=\"#DejaVuSans-65\" x=\"380.566406\"/>\n       <use xlink:href=\"#DejaVuSans-64\" x=\"442.089844\"/>\n       <use xlink:href=\"#DejaVuSans-5f\" x=\"505.566406\"/>\n       <use xlink:href=\"#DejaVuSans-75\" x=\"555.566406\"/>\n       <use xlink:href=\"#DejaVuSans-73\" x=\"618.945312\"/>\n       <use xlink:href=\"#DejaVuSans-64\" x=\"671.044922\"/>\n      </g>\n     </g>\n    </g>\n    <g id=\"ytick_6\">\n     <g id=\"line2d_24\">\n      <g>\n       <use xlink:href=\"#m80346fecd0\" x=\"162.46875\" y=\"250.604875\" style=\"fill: #ffffff; stroke: #ffffff; stroke-width: 0.8\"/>\n      </g>\n     </g>\n     <g id=\"text_24\">\n      <!-- business_code_enc -->\n      <g style=\"fill: #ffffff\" transform=\"translate(59.778125 253.225187)scale(0.1 -0.1)\">\n       <use xlink:href=\"#DejaVuSans-62\"/>\n       <use xlink:href=\"#DejaVuSans-75\" x=\"63.476562\"/>\n       <use xlink:href=\"#DejaVuSans-73\" x=\"126.855469\"/>\n       <use xlink:href=\"#DejaVuSans-69\" x=\"178.955078\"/>\n       <use xlink:href=\"#DejaVuSans-6e\" x=\"206.738281\"/>\n       <use xlink:href=\"#DejaVuSans-65\" x=\"270.117188\"/>\n       <use xlink:href=\"#DejaVuSans-73\" x=\"331.640625\"/>\n       <use xlink:href=\"#DejaVuSans-73\" x=\"383.740234\"/>\n       <use xlink:href=\"#DejaVuSans-5f\" x=\"435.839844\"/>\n       <use xlink:href=\"#DejaVuSans-63\" x=\"485.839844\"/>\n       <use xlink:href=\"#DejaVuSans-6f\" x=\"540.820312\"/>\n       <use xlink:href=\"#DejaVuSans-64\" x=\"602.001953\"/>\n       <use xlink:href=\"#DejaVuSans-65\" x=\"665.478516\"/>\n       <use xlink:href=\"#DejaVuSans-5f\" x=\"727.001953\"/>\n       <use xlink:href=\"#DejaVuSans-65\" x=\"777.001953\"/>\n       <use xlink:href=\"#DejaVuSans-6e\" x=\"838.525391\"/>\n       <use xlink:href=\"#DejaVuSans-63\" x=\"901.904297\"/>\n      </g>\n     </g>\n    </g>\n    <g id=\"ytick_7\">\n     <g id=\"line2d_25\">\n      <g>\n       <use xlink:href=\"#m80346fecd0\" x=\"162.46875\" y=\"285.324875\" style=\"fill: #ffffff; stroke: #ffffff; stroke-width: 0.8\"/>\n      </g>\n     </g>\n     <g id=\"text_25\">\n      <!-- name_customer_enc -->\n      <g style=\"fill: #ffffff\" transform=\"translate(52.03125 287.806125)scale(0.1 -0.1)\">\n       <use xlink:href=\"#DejaVuSans-6e\"/>\n       <use xlink:href=\"#DejaVuSans-61\" x=\"63.378906\"/>\n       <use xlink:href=\"#DejaVuSans-6d\" x=\"124.658203\"/>\n       <use xlink:href=\"#DejaVuSans-65\" x=\"222.070312\"/>\n       <use xlink:href=\"#DejaVuSans-5f\" x=\"283.59375\"/>\n       <use xlink:href=\"#DejaVuSans-63\" x=\"333.59375\"/>\n       <use xlink:href=\"#DejaVuSans-75\" x=\"388.574219\"/>\n       <use xlink:href=\"#DejaVuSans-73\" x=\"451.953125\"/>\n       <use xlink:href=\"#DejaVuSans-74\" x=\"504.052734\"/>\n       <use xlink:href=\"#DejaVuSans-6f\" x=\"543.261719\"/>\n       <use xlink:href=\"#DejaVuSans-6d\" x=\"604.443359\"/>\n       <use xlink:href=\"#DejaVuSans-65\" x=\"701.855469\"/>\n       <use xlink:href=\"#DejaVuSans-72\" x=\"763.378906\"/>\n       <use xlink:href=\"#DejaVuSans-5f\" x=\"804.492188\"/>\n       <use xlink:href=\"#DejaVuSans-65\" x=\"854.492188\"/>\n       <use xlink:href=\"#DejaVuSans-6e\" x=\"916.015625\"/>\n       <use xlink:href=\"#DejaVuSans-63\" x=\"979.394531\"/>\n      </g>\n     </g>\n    </g>\n    <g id=\"ytick_8\">\n     <g id=\"line2d_26\">\n      <g>\n       <use xlink:href=\"#m80346fecd0\" x=\"162.46875\" y=\"320.044875\" style=\"fill: #ffffff; stroke: #ffffff; stroke-width: 0.8\"/>\n      </g>\n     </g>\n     <g id=\"text_26\">\n      <!-- cust_payment_terms_enc -->\n      <g style=\"fill: #ffffff\" transform=\"translate(28.007812 322.526125)scale(0.1 -0.1)\">\n       <use xlink:href=\"#DejaVuSans-63\"/>\n       <use xlink:href=\"#DejaVuSans-75\" x=\"54.980469\"/>\n       <use xlink:href=\"#DejaVuSans-73\" x=\"118.359375\"/>\n       <use xlink:href=\"#DejaVuSans-74\" x=\"170.458984\"/>\n       <use xlink:href=\"#DejaVuSans-5f\" x=\"209.667969\"/>\n       <use xlink:href=\"#DejaVuSans-70\" x=\"259.667969\"/>\n       <use xlink:href=\"#DejaVuSans-61\" x=\"323.144531\"/>\n       <use xlink:href=\"#DejaVuSans-79\" x=\"384.423828\"/>\n       <use xlink:href=\"#DejaVuSans-6d\" x=\"443.603516\"/>\n       <use xlink:href=\"#DejaVuSans-65\" x=\"541.015625\"/>\n       <use xlink:href=\"#DejaVuSans-6e\" x=\"602.539062\"/>\n       <use xlink:href=\"#DejaVuSans-74\" x=\"665.917969\"/>\n       <use xlink:href=\"#DejaVuSans-5f\" x=\"705.126953\"/>\n       <use xlink:href=\"#DejaVuSans-74\" x=\"755.126953\"/>\n       <use xlink:href=\"#DejaVuSans-65\" x=\"794.335938\"/>\n       <use xlink:href=\"#DejaVuSans-72\" x=\"855.859375\"/>\n       <use xlink:href=\"#DejaVuSans-6d\" x=\"895.222656\"/>\n       <use xlink:href=\"#DejaVuSans-73\" x=\"992.634766\"/>\n       <use xlink:href=\"#DejaVuSans-5f\" x=\"1044.734375\"/>\n       <use xlink:href=\"#DejaVuSans-65\" x=\"1094.734375\"/>\n       <use xlink:href=\"#DejaVuSans-6e\" x=\"1156.257812\"/>\n       <use xlink:href=\"#DejaVuSans-63\" x=\"1219.636719\"/>\n      </g>\n     </g>\n    </g>\n    <g id=\"ytick_9\">\n     <g id=\"line2d_27\">\n      <g>\n       <use xlink:href=\"#m80346fecd0\" x=\"162.46875\" y=\"354.764875\" style=\"fill: #ffffff; stroke: #ffffff; stroke-width: 0.8\"/>\n      </g>\n     </g>\n     <g id=\"text_27\">\n      <!-- day_of_postingdate -->\n      <g style=\"fill: #ffffff\" transform=\"translate(57.823437 357.385188)scale(0.1 -0.1)\">\n       <use xlink:href=\"#DejaVuSans-64\"/>\n       <use xlink:href=\"#DejaVuSans-61\" x=\"63.476562\"/>\n       <use xlink:href=\"#DejaVuSans-79\" x=\"124.755859\"/>\n       <use xlink:href=\"#DejaVuSans-5f\" x=\"183.935547\"/>\n       <use xlink:href=\"#DejaVuSans-6f\" x=\"233.935547\"/>\n       <use xlink:href=\"#DejaVuSans-66\" x=\"295.117188\"/>\n       <use xlink:href=\"#DejaVuSans-5f\" x=\"330.322266\"/>\n       <use xlink:href=\"#DejaVuSans-70\" x=\"380.322266\"/>\n       <use xlink:href=\"#DejaVuSans-6f\" x=\"443.798828\"/>\n       <use xlink:href=\"#DejaVuSans-73\" x=\"504.980469\"/>\n       <use xlink:href=\"#DejaVuSans-74\" x=\"557.080078\"/>\n       <use xlink:href=\"#DejaVuSans-69\" x=\"596.289062\"/>\n       <use xlink:href=\"#DejaVuSans-6e\" x=\"624.072266\"/>\n       <use xlink:href=\"#DejaVuSans-67\" x=\"687.451172\"/>\n       <use xlink:href=\"#DejaVuSans-64\" x=\"750.927734\"/>\n       <use xlink:href=\"#DejaVuSans-61\" x=\"814.404297\"/>\n       <use xlink:href=\"#DejaVuSans-74\" x=\"875.683594\"/>\n       <use xlink:href=\"#DejaVuSans-65\" x=\"914.892578\"/>\n      </g>\n     </g>\n    </g>\n    <g id=\"ytick_10\">\n     <g id=\"line2d_28\">\n      <g>\n       <use xlink:href=\"#m80346fecd0\" x=\"162.46875\" y=\"389.484875\" style=\"fill: #ffffff; stroke: #ffffff; stroke-width: 0.8\"/>\n      </g>\n     </g>\n     <g id=\"text_28\">\n      <!-- month_of_postingdate -->\n      <g style=\"fill: #ffffff\" transform=\"translate(43.764062 392.105187)scale(0.1 -0.1)\">\n       <use xlink:href=\"#DejaVuSans-6d\"/>\n       <use xlink:href=\"#DejaVuSans-6f\" x=\"97.412109\"/>\n       <use xlink:href=\"#DejaVuSans-6e\" x=\"158.59375\"/>\n       <use xlink:href=\"#DejaVuSans-74\" x=\"221.972656\"/>\n       <use xlink:href=\"#DejaVuSans-68\" x=\"261.181641\"/>\n       <use xlink:href=\"#DejaVuSans-5f\" x=\"324.560547\"/>\n       <use xlink:href=\"#DejaVuSans-6f\" x=\"374.560547\"/>\n       <use xlink:href=\"#DejaVuSans-66\" x=\"435.742188\"/>\n       <use xlink:href=\"#DejaVuSans-5f\" x=\"470.947266\"/>\n       <use xlink:href=\"#DejaVuSans-70\" x=\"520.947266\"/>\n       <use xlink:href=\"#DejaVuSans-6f\" x=\"584.423828\"/>\n       <use xlink:href=\"#DejaVuSans-73\" x=\"645.605469\"/>\n       <use xlink:href=\"#DejaVuSans-74\" x=\"697.705078\"/>\n       <use xlink:href=\"#DejaVuSans-69\" x=\"736.914062\"/>\n       <use xlink:href=\"#DejaVuSans-6e\" x=\"764.697266\"/>\n       <use xlink:href=\"#DejaVuSans-67\" x=\"828.076172\"/>\n       <use xlink:href=\"#DejaVuSans-64\" x=\"891.552734\"/>\n       <use xlink:href=\"#DejaVuSans-61\" x=\"955.029297\"/>\n       <use xlink:href=\"#DejaVuSans-74\" x=\"1016.308594\"/>\n       <use xlink:href=\"#DejaVuSans-65\" x=\"1055.517578\"/>\n      </g>\n     </g>\n    </g>\n    <g id=\"ytick_11\">\n     <g id=\"line2d_29\">\n      <g>\n       <use xlink:href=\"#m80346fecd0\" x=\"162.46875\" y=\"424.204875\" style=\"fill: #ffffff; stroke: #ffffff; stroke-width: 0.8\"/>\n      </g>\n     </g>\n     <g id=\"text_29\">\n      <!-- year_of_postingdate -->\n      <g style=\"fill: #ffffff\" transform=\"translate(53.907812 426.825188)scale(0.1 -0.1)\">\n       <use xlink:href=\"#DejaVuSans-79\"/>\n       <use xlink:href=\"#DejaVuSans-65\" x=\"59.179688\"/>\n       <use xlink:href=\"#DejaVuSans-61\" x=\"120.703125\"/>\n       <use xlink:href=\"#DejaVuSans-72\" x=\"181.982422\"/>\n       <use xlink:href=\"#DejaVuSans-5f\" x=\"223.095703\"/>\n       <use xlink:href=\"#DejaVuSans-6f\" x=\"273.095703\"/>\n       <use xlink:href=\"#DejaVuSans-66\" x=\"334.277344\"/>\n       <use xlink:href=\"#DejaVuSans-5f\" x=\"369.482422\"/>\n       <use xlink:href=\"#DejaVuSans-70\" x=\"419.482422\"/>\n       <use xlink:href=\"#DejaVuSans-6f\" x=\"482.958984\"/>\n       <use xlink:href=\"#DejaVuSans-73\" x=\"544.140625\"/>\n       <use xlink:href=\"#DejaVuSans-74\" x=\"596.240234\"/>\n       <use xlink:href=\"#DejaVuSans-69\" x=\"635.449219\"/>\n       <use xlink:href=\"#DejaVuSans-6e\" x=\"663.232422\"/>\n       <use xlink:href=\"#DejaVuSans-67\" x=\"726.611328\"/>\n       <use xlink:href=\"#DejaVuSans-64\" x=\"790.087891\"/>\n       <use xlink:href=\"#DejaVuSans-61\" x=\"853.564453\"/>\n       <use xlink:href=\"#DejaVuSans-74\" x=\"914.84375\"/>\n       <use xlink:href=\"#DejaVuSans-65\" x=\"954.052734\"/>\n      </g>\n     </g>\n    </g>\n    <g id=\"ytick_12\">\n     <g id=\"line2d_30\">\n      <g>\n       <use xlink:href=\"#m80346fecd0\" x=\"162.46875\" y=\"458.924875\" style=\"fill: #ffffff; stroke: #ffffff; stroke-width: 0.8\"/>\n      </g>\n     </g>\n     <g id=\"text_30\">\n      <!-- day_of_baselinecreatedate -->\n      <g style=\"fill: #ffffff\" transform=\"translate(21.259375 461.545188)scale(0.1 -0.1)\">\n       <use xlink:href=\"#DejaVuSans-64\"/>\n       <use xlink:href=\"#DejaVuSans-61\" x=\"63.476562\"/>\n       <use xlink:href=\"#DejaVuSans-79\" x=\"124.755859\"/>\n       <use xlink:href=\"#DejaVuSans-5f\" x=\"183.935547\"/>\n       <use xlink:href=\"#DejaVuSans-6f\" x=\"233.935547\"/>\n       <use xlink:href=\"#DejaVuSans-66\" x=\"295.117188\"/>\n       <use xlink:href=\"#DejaVuSans-5f\" x=\"330.322266\"/>\n       <use xlink:href=\"#DejaVuSans-62\" x=\"380.322266\"/>\n       <use xlink:href=\"#DejaVuSans-61\" x=\"443.798828\"/>\n       <use xlink:href=\"#DejaVuSans-73\" x=\"505.078125\"/>\n       <use xlink:href=\"#DejaVuSans-65\" x=\"557.177734\"/>\n       <use xlink:href=\"#DejaVuSans-6c\" x=\"618.701172\"/>\n       <use xlink:href=\"#DejaVuSans-69\" x=\"646.484375\"/>\n       <use xlink:href=\"#DejaVuSans-6e\" x=\"674.267578\"/>\n       <use xlink:href=\"#DejaVuSans-65\" x=\"737.646484\"/>\n       <use xlink:href=\"#DejaVuSans-63\" x=\"799.169922\"/>\n       <use xlink:href=\"#DejaVuSans-72\" x=\"854.150391\"/>\n       <use xlink:href=\"#DejaVuSans-65\" x=\"893.013672\"/>\n       <use xlink:href=\"#DejaVuSans-61\" x=\"954.537109\"/>\n       <use xlink:href=\"#DejaVuSans-74\" x=\"1015.816406\"/>\n       <use xlink:href=\"#DejaVuSans-65\" x=\"1055.025391\"/>\n       <use xlink:href=\"#DejaVuSans-64\" x=\"1116.548828\"/>\n       <use xlink:href=\"#DejaVuSans-61\" x=\"1180.025391\"/>\n       <use xlink:href=\"#DejaVuSans-74\" x=\"1241.304688\"/>\n       <use xlink:href=\"#DejaVuSans-65\" x=\"1280.513672\"/>\n      </g>\n     </g>\n    </g>\n    <g id=\"ytick_13\">\n     <g id=\"line2d_31\">\n      <g>\n       <use xlink:href=\"#m80346fecd0\" x=\"162.46875\" y=\"493.644875\" style=\"fill: #ffffff; stroke: #ffffff; stroke-width: 0.8\"/>\n      </g>\n     </g>\n     <g id=\"text_31\">\n      <!-- month_of_baselinecreatedate -->\n      <g style=\"fill: #ffffff\" transform=\"translate(7.2 496.265188)scale(0.1 -0.1)\">\n       <use xlink:href=\"#DejaVuSans-6d\"/>\n       <use xlink:href=\"#DejaVuSans-6f\" x=\"97.412109\"/>\n       <use xlink:href=\"#DejaVuSans-6e\" x=\"158.59375\"/>\n       <use xlink:href=\"#DejaVuSans-74\" x=\"221.972656\"/>\n       <use xlink:href=\"#DejaVuSans-68\" x=\"261.181641\"/>\n       <use xlink:href=\"#DejaVuSans-5f\" x=\"324.560547\"/>\n       <use xlink:href=\"#DejaVuSans-6f\" x=\"374.560547\"/>\n       <use xlink:href=\"#DejaVuSans-66\" x=\"435.742188\"/>\n       <use xlink:href=\"#DejaVuSans-5f\" x=\"470.947266\"/>\n       <use xlink:href=\"#DejaVuSans-62\" x=\"520.947266\"/>\n       <use xlink:href=\"#DejaVuSans-61\" x=\"584.423828\"/>\n       <use xlink:href=\"#DejaVuSans-73\" x=\"645.703125\"/>\n       <use xlink:href=\"#DejaVuSans-65\" x=\"697.802734\"/>\n       <use xlink:href=\"#DejaVuSans-6c\" x=\"759.326172\"/>\n       <use xlink:href=\"#DejaVuSans-69\" x=\"787.109375\"/>\n       <use xlink:href=\"#DejaVuSans-6e\" x=\"814.892578\"/>\n       <use xlink:href=\"#DejaVuSans-65\" x=\"878.271484\"/>\n       <use xlink:href=\"#DejaVuSans-63\" x=\"939.794922\"/>\n       <use xlink:href=\"#DejaVuSans-72\" x=\"994.775391\"/>\n       <use xlink:href=\"#DejaVuSans-65\" x=\"1033.638672\"/>\n       <use xlink:href=\"#DejaVuSans-61\" x=\"1095.162109\"/>\n       <use xlink:href=\"#DejaVuSans-74\" x=\"1156.441406\"/>\n       <use xlink:href=\"#DejaVuSans-65\" x=\"1195.650391\"/>\n       <use xlink:href=\"#DejaVuSans-64\" x=\"1257.173828\"/>\n       <use xlink:href=\"#DejaVuSans-61\" x=\"1320.650391\"/>\n       <use xlink:href=\"#DejaVuSans-74\" x=\"1381.929688\"/>\n       <use xlink:href=\"#DejaVuSans-65\" x=\"1421.138672\"/>\n      </g>\n     </g>\n    </g>\n    <g id=\"ytick_14\">\n     <g id=\"line2d_32\">\n      <g>\n       <use xlink:href=\"#m80346fecd0\" x=\"162.46875\" y=\"528.364875\" style=\"fill: #ffffff; stroke: #ffffff; stroke-width: 0.8\"/>\n      </g>\n     </g>\n     <g id=\"text_32\">\n      <!-- year_of_baselinecreatedate -->\n      <g style=\"fill: #ffffff\" transform=\"translate(17.34375 530.985188)scale(0.1 -0.1)\">\n       <use xlink:href=\"#DejaVuSans-79\"/>\n       <use xlink:href=\"#DejaVuSans-65\" x=\"59.179688\"/>\n       <use xlink:href=\"#DejaVuSans-61\" x=\"120.703125\"/>\n       <use xlink:href=\"#DejaVuSans-72\" x=\"181.982422\"/>\n       <use xlink:href=\"#DejaVuSans-5f\" x=\"223.095703\"/>\n       <use xlink:href=\"#DejaVuSans-6f\" x=\"273.095703\"/>\n       <use xlink:href=\"#DejaVuSans-66\" x=\"334.277344\"/>\n       <use xlink:href=\"#DejaVuSans-5f\" x=\"369.482422\"/>\n       <use xlink:href=\"#DejaVuSans-62\" x=\"419.482422\"/>\n       <use xlink:href=\"#DejaVuSans-61\" x=\"482.958984\"/>\n       <use xlink:href=\"#DejaVuSans-73\" x=\"544.238281\"/>\n       <use xlink:href=\"#DejaVuSans-65\" x=\"596.337891\"/>\n       <use xlink:href=\"#DejaVuSans-6c\" x=\"657.861328\"/>\n       <use xlink:href=\"#DejaVuSans-69\" x=\"685.644531\"/>\n       <use xlink:href=\"#DejaVuSans-6e\" x=\"713.427734\"/>\n       <use xlink:href=\"#DejaVuSans-65\" x=\"776.806641\"/>\n       <use xlink:href=\"#DejaVuSans-63\" x=\"838.330078\"/>\n       <use xlink:href=\"#DejaVuSans-72\" x=\"893.310547\"/>\n       <use xlink:href=\"#DejaVuSans-65\" x=\"932.173828\"/>\n       <use xlink:href=\"#DejaVuSans-61\" x=\"993.697266\"/>\n       <use xlink:href=\"#DejaVuSans-74\" x=\"1054.976562\"/>\n       <use xlink:href=\"#DejaVuSans-65\" x=\"1094.185547\"/>\n       <use xlink:href=\"#DejaVuSans-64\" x=\"1155.708984\"/>\n       <use xlink:href=\"#DejaVuSans-61\" x=\"1219.185547\"/>\n       <use xlink:href=\"#DejaVuSans-74\" x=\"1280.464844\"/>\n       <use xlink:href=\"#DejaVuSans-65\" x=\"1319.673828\"/>\n      </g>\n     </g>\n    </g>\n    <g id=\"ytick_15\">\n     <g id=\"line2d_33\">\n      <g>\n       <use xlink:href=\"#m80346fecd0\" x=\"162.46875\" y=\"563.084875\" style=\"fill: #ffffff; stroke: #ffffff; stroke-width: 0.8\"/>\n      </g>\n     </g>\n     <g id=\"text_33\">\n      <!-- day_of_dueindate -->\n      <g style=\"fill: #ffffff\" transform=\"translate(66.929688 565.705188)scale(0.1 -0.1)\">\n       <use xlink:href=\"#DejaVuSans-64\"/>\n       <use xlink:href=\"#DejaVuSans-61\" x=\"63.476562\"/>\n       <use xlink:href=\"#DejaVuSans-79\" x=\"124.755859\"/>\n       <use xlink:href=\"#DejaVuSans-5f\" x=\"183.935547\"/>\n       <use xlink:href=\"#DejaVuSans-6f\" x=\"233.935547\"/>\n       <use xlink:href=\"#DejaVuSans-66\" x=\"295.117188\"/>\n       <use xlink:href=\"#DejaVuSans-5f\" x=\"330.322266\"/>\n       <use xlink:href=\"#DejaVuSans-64\" x=\"380.322266\"/>\n       <use xlink:href=\"#DejaVuSans-75\" x=\"443.798828\"/>\n       <use xlink:href=\"#DejaVuSans-65\" x=\"507.177734\"/>\n       <use xlink:href=\"#DejaVuSans-69\" x=\"568.701172\"/>\n       <use xlink:href=\"#DejaVuSans-6e\" x=\"596.484375\"/>\n       <use xlink:href=\"#DejaVuSans-64\" x=\"659.863281\"/>\n       <use xlink:href=\"#DejaVuSans-61\" x=\"723.339844\"/>\n       <use xlink:href=\"#DejaVuSans-74\" x=\"784.619141\"/>\n       <use xlink:href=\"#DejaVuSans-65\" x=\"823.828125\"/>\n      </g>\n     </g>\n    </g>\n    <g id=\"ytick_16\">\n     <g id=\"line2d_34\">\n      <g>\n       <use xlink:href=\"#m80346fecd0\" x=\"162.46875\" y=\"597.804875\" style=\"fill: #ffffff; stroke: #ffffff; stroke-width: 0.8\"/>\n      </g>\n     </g>\n     <g id=\"text_34\">\n      <!-- month_of_dueindate -->\n      <g style=\"fill: #ffffff\" transform=\"translate(52.870312 600.425187)scale(0.1 -0.1)\">\n       <use xlink:href=\"#DejaVuSans-6d\"/>\n       <use xlink:href=\"#DejaVuSans-6f\" x=\"97.412109\"/>\n       <use xlink:href=\"#DejaVuSans-6e\" x=\"158.59375\"/>\n       <use xlink:href=\"#DejaVuSans-74\" x=\"221.972656\"/>\n       <use xlink:href=\"#DejaVuSans-68\" x=\"261.181641\"/>\n       <use xlink:href=\"#DejaVuSans-5f\" x=\"324.560547\"/>\n       <use xlink:href=\"#DejaVuSans-6f\" x=\"374.560547\"/>\n       <use xlink:href=\"#DejaVuSans-66\" x=\"435.742188\"/>\n       <use xlink:href=\"#DejaVuSans-5f\" x=\"470.947266\"/>\n       <use xlink:href=\"#DejaVuSans-64\" x=\"520.947266\"/>\n       <use xlink:href=\"#DejaVuSans-75\" x=\"584.423828\"/>\n       <use xlink:href=\"#DejaVuSans-65\" x=\"647.802734\"/>\n       <use xlink:href=\"#DejaVuSans-69\" x=\"709.326172\"/>\n       <use xlink:href=\"#DejaVuSans-6e\" x=\"737.109375\"/>\n       <use xlink:href=\"#DejaVuSans-64\" x=\"800.488281\"/>\n       <use xlink:href=\"#DejaVuSans-61\" x=\"863.964844\"/>\n       <use xlink:href=\"#DejaVuSans-74\" x=\"925.244141\"/>\n       <use xlink:href=\"#DejaVuSans-65\" x=\"964.453125\"/>\n      </g>\n     </g>\n    </g>\n    <g id=\"ytick_17\">\n     <g id=\"line2d_35\">\n      <g>\n       <use xlink:href=\"#m80346fecd0\" x=\"162.46875\" y=\"632.524875\" style=\"fill: #ffffff; stroke: #ffffff; stroke-width: 0.8\"/>\n      </g>\n     </g>\n     <g id=\"text_35\">\n      <!-- year_of_dueindate -->\n      <g style=\"fill: #ffffff\" transform=\"translate(63.014062 635.145188)scale(0.1 -0.1)\">\n       <use xlink:href=\"#DejaVuSans-79\"/>\n       <use xlink:href=\"#DejaVuSans-65\" x=\"59.179688\"/>\n       <use xlink:href=\"#DejaVuSans-61\" x=\"120.703125\"/>\n       <use xlink:href=\"#DejaVuSans-72\" x=\"181.982422\"/>\n       <use xlink:href=\"#DejaVuSans-5f\" x=\"223.095703\"/>\n       <use xlink:href=\"#DejaVuSans-6f\" x=\"273.095703\"/>\n       <use xlink:href=\"#DejaVuSans-66\" x=\"334.277344\"/>\n       <use xlink:href=\"#DejaVuSans-5f\" x=\"369.482422\"/>\n       <use xlink:href=\"#DejaVuSans-64\" x=\"419.482422\"/>\n       <use xlink:href=\"#DejaVuSans-75\" x=\"482.958984\"/>\n       <use xlink:href=\"#DejaVuSans-65\" x=\"546.337891\"/>\n       <use xlink:href=\"#DejaVuSans-69\" x=\"607.861328\"/>\n       <use xlink:href=\"#DejaVuSans-6e\" x=\"635.644531\"/>\n       <use xlink:href=\"#DejaVuSans-64\" x=\"699.023438\"/>\n       <use xlink:href=\"#DejaVuSans-61\" x=\"762.5\"/>\n       <use xlink:href=\"#DejaVuSans-74\" x=\"823.779297\"/>\n       <use xlink:href=\"#DejaVuSans-65\" x=\"862.988281\"/>\n      </g>\n     </g>\n    </g>\n    <g id=\"ytick_18\">\n     <g id=\"line2d_36\">\n      <g>\n       <use xlink:href=\"#m80346fecd0\" x=\"162.46875\" y=\"667.244875\" style=\"fill: #ffffff; stroke: #ffffff; stroke-width: 0.8\"/>\n      </g>\n     </g>\n     <g id=\"text_36\">\n      <!-- avg_delay -->\n      <g style=\"fill: #ffffff\" transform=\"translate(104.746875 669.865188)scale(0.1 -0.1)\">\n       <use xlink:href=\"#DejaVuSans-61\"/>\n       <use xlink:href=\"#DejaVuSans-76\" x=\"61.279297\"/>\n       <use xlink:href=\"#DejaVuSans-67\" x=\"120.458984\"/>\n       <use xlink:href=\"#DejaVuSans-5f\" x=\"183.935547\"/>\n       <use xlink:href=\"#DejaVuSans-64\" x=\"233.935547\"/>\n       <use xlink:href=\"#DejaVuSans-65\" x=\"297.412109\"/>\n       <use xlink:href=\"#DejaVuSans-6c\" x=\"358.935547\"/>\n       <use xlink:href=\"#DejaVuSans-61\" x=\"386.71875\"/>\n       <use xlink:href=\"#DejaVuSans-79\" x=\"447.998047\"/>\n      </g>\n     </g>\n    </g>\n   </g>\n   <g id=\"text_37\">\n    <!-- 1 -->\n    <g style=\"fill: #ffffff\" transform=\"translate(176.6475 79.76425)scale(0.1 -0.1)\">\n     <defs>\n      <path id=\"DejaVuSans-31\" d=\"M 794 531 \nL 1825 531 \nL 1825 4091 \nL 703 3866 \nL 703 4441 \nL 1819 4666 \nL 2450 4666 \nL 2450 531 \nL 3481 531 \nL 3481 0 \nL 794 0 \nL 794 531 \nz\n\" transform=\"scale(0.015625)\"/>\n     </defs>\n     <use xlink:href=\"#DejaVuSans-31\"/>\n    </g>\n   </g>\n   <g id=\"text_38\">\n    <!-- 0.0028 -->\n    <g style=\"fill: #ffffff\" transform=\"translate(197.053438 79.76425)scale(0.1 -0.1)\">\n     <defs>\n      <path id=\"DejaVuSans-2e\" d=\"M 684 794 \nL 1344 794 \nL 1344 0 \nL 684 0 \nL 684 794 \nz\n\" transform=\"scale(0.015625)\"/>\n      <path id=\"DejaVuSans-32\" d=\"M 1228 531 \nL 3431 531 \nL 3431 0 \nL 469 0 \nL 469 531 \nQ 828 903 1448 1529 \nQ 2069 2156 2228 2338 \nQ 2531 2678 2651 2914 \nQ 2772 3150 2772 3378 \nQ 2772 3750 2511 3984 \nQ 2250 4219 1831 4219 \nQ 1534 4219 1204 4116 \nQ 875 4013 500 3803 \nL 500 4441 \nQ 881 4594 1212 4672 \nQ 1544 4750 1819 4750 \nQ 2544 4750 2975 4387 \nQ 3406 4025 3406 3419 \nQ 3406 3131 3298 2873 \nQ 3191 2616 2906 2266 \nQ 2828 2175 2409 1742 \nQ 1991 1309 1228 531 \nz\n\" transform=\"scale(0.015625)\"/>\n      <path id=\"DejaVuSans-38\" d=\"M 2034 2216 \nQ 1584 2216 1326 1975 \nQ 1069 1734 1069 1313 \nQ 1069 891 1326 650 \nQ 1584 409 2034 409 \nQ 2484 409 2743 651 \nQ 3003 894 3003 1313 \nQ 3003 1734 2745 1975 \nQ 2488 2216 2034 2216 \nz\nM 1403 2484 \nQ 997 2584 770 2862 \nQ 544 3141 544 3541 \nQ 544 4100 942 4425 \nQ 1341 4750 2034 4750 \nQ 2731 4750 3128 4425 \nQ 3525 4100 3525 3541 \nQ 3525 3141 3298 2862 \nQ 3072 2584 2669 2484 \nQ 3125 2378 3379 2068 \nQ 3634 1759 3634 1313 \nQ 3634 634 3220 271 \nQ 2806 -91 2034 -91 \nQ 1263 -91 848 271 \nQ 434 634 434 1313 \nQ 434 1759 690 2068 \nQ 947 2378 1403 2484 \nz\nM 1172 3481 \nQ 1172 3119 1398 2916 \nQ 1625 2713 2034 2713 \nQ 2441 2713 2670 2916 \nQ 2900 3119 2900 3481 \nQ 2900 3844 2670 4047 \nQ 2441 4250 2034 4250 \nQ 1625 4250 1398 4047 \nQ 1172 3844 1172 3481 \nz\n\" transform=\"scale(0.015625)\"/>\n     </defs>\n     <use xlink:href=\"#DejaVuSans-30\"/>\n     <use xlink:href=\"#DejaVuSans-2e\" x=\"63.623047\"/>\n     <use xlink:href=\"#DejaVuSans-30\" x=\"95.410156\"/>\n     <use xlink:href=\"#DejaVuSans-30\" x=\"159.033203\"/>\n     <use xlink:href=\"#DejaVuSans-32\" x=\"222.65625\"/>\n     <use xlink:href=\"#DejaVuSans-38\" x=\"286.279297\"/>\n    </g>\n   </g>\n   <g id=\"text_39\">\n    <!-- -0.0035 -->\n    <g style=\"fill: #ffffff\" transform=\"translate(229.969531 79.76425)scale(0.1 -0.1)\">\n     <defs>\n      <path id=\"DejaVuSans-2d\" d=\"M 313 2009 \nL 1997 2009 \nL 1997 1497 \nL 313 1497 \nL 313 2009 \nz\n\" transform=\"scale(0.015625)\"/>\n      <path id=\"DejaVuSans-33\" d=\"M 2597 2516 \nQ 3050 2419 3304 2112 \nQ 3559 1806 3559 1356 \nQ 3559 666 3084 287 \nQ 2609 -91 1734 -91 \nQ 1441 -91 1130 -33 \nQ 819 25 488 141 \nL 488 750 \nQ 750 597 1062 519 \nQ 1375 441 1716 441 \nQ 2309 441 2620 675 \nQ 2931 909 2931 1356 \nQ 2931 1769 2642 2001 \nQ 2353 2234 1838 2234 \nL 1294 2234 \nL 1294 2753 \nL 1863 2753 \nQ 2328 2753 2575 2939 \nQ 2822 3125 2822 3475 \nQ 2822 3834 2567 4026 \nQ 2313 4219 1838 4219 \nQ 1578 4219 1281 4162 \nQ 984 4106 628 3988 \nL 628 4550 \nQ 988 4650 1302 4700 \nQ 1616 4750 1894 4750 \nQ 2613 4750 3031 4423 \nQ 3450 4097 3450 3541 \nQ 3450 3153 3228 2886 \nQ 3006 2619 2597 2516 \nz\n\" transform=\"scale(0.015625)\"/>\n      <path id=\"DejaVuSans-35\" d=\"M 691 4666 \nL 3169 4666 \nL 3169 4134 \nL 1269 4134 \nL 1269 2991 \nQ 1406 3038 1543 3061 \nQ 1681 3084 1819 3084 \nQ 2600 3084 3056 2656 \nQ 3513 2228 3513 1497 \nQ 3513 744 3044 326 \nQ 2575 -91 1722 -91 \nQ 1428 -91 1123 -41 \nQ 819 9 494 109 \nL 494 744 \nQ 775 591 1075 516 \nQ 1375 441 1709 441 \nQ 2250 441 2565 725 \nQ 2881 1009 2881 1497 \nQ 2881 1984 2565 2268 \nQ 2250 2553 1709 2553 \nQ 1456 2553 1204 2497 \nQ 953 2441 691 2322 \nL 691 4666 \nz\n\" transform=\"scale(0.015625)\"/>\n     </defs>\n     <use xlink:href=\"#DejaVuSans-2d\"/>\n     <use xlink:href=\"#DejaVuSans-30\" x=\"36.083984\"/>\n     <use xlink:href=\"#DejaVuSans-2e\" x=\"99.707031\"/>\n     <use xlink:href=\"#DejaVuSans-30\" x=\"131.494141\"/>\n     <use xlink:href=\"#DejaVuSans-30\" x=\"195.117188\"/>\n     <use xlink:href=\"#DejaVuSans-33\" x=\"258.740234\"/>\n     <use xlink:href=\"#DejaVuSans-35\" x=\"322.363281\"/>\n    </g>\n   </g>\n   <g id=\"text_40\">\n    <!-- -0.0015 -->\n    <g style=\"fill: #ffffff\" transform=\"translate(264.689531 79.76425)scale(0.1 -0.1)\">\n     <use xlink:href=\"#DejaVuSans-2d\"/>\n     <use xlink:href=\"#DejaVuSans-30\" x=\"36.083984\"/>\n     <use xlink:href=\"#DejaVuSans-2e\" x=\"99.707031\"/>\n     <use xlink:href=\"#DejaVuSans-30\" x=\"131.494141\"/>\n     <use xlink:href=\"#DejaVuSans-30\" x=\"195.117188\"/>\n     <use xlink:href=\"#DejaVuSans-31\" x=\"258.740234\"/>\n     <use xlink:href=\"#DejaVuSans-35\" x=\"322.363281\"/>\n    </g>\n   </g>\n   <g id=\"text_41\">\n    <!-- -0.0064 -->\n    <g style=\"fill: #ffffff\" transform=\"translate(299.409531 79.76425)scale(0.1 -0.1)\">\n     <defs>\n      <path id=\"DejaVuSans-36\" d=\"M 2113 2584 \nQ 1688 2584 1439 2293 \nQ 1191 2003 1191 1497 \nQ 1191 994 1439 701 \nQ 1688 409 2113 409 \nQ 2538 409 2786 701 \nQ 3034 994 3034 1497 \nQ 3034 2003 2786 2293 \nQ 2538 2584 2113 2584 \nz\nM 3366 4563 \nL 3366 3988 \nQ 3128 4100 2886 4159 \nQ 2644 4219 2406 4219 \nQ 1781 4219 1451 3797 \nQ 1122 3375 1075 2522 \nQ 1259 2794 1537 2939 \nQ 1816 3084 2150 3084 \nQ 2853 3084 3261 2657 \nQ 3669 2231 3669 1497 \nQ 3669 778 3244 343 \nQ 2819 -91 2113 -91 \nQ 1303 -91 875 529 \nQ 447 1150 447 2328 \nQ 447 3434 972 4092 \nQ 1497 4750 2381 4750 \nQ 2619 4750 2861 4703 \nQ 3103 4656 3366 4563 \nz\n\" transform=\"scale(0.015625)\"/>\n      <path id=\"DejaVuSans-34\" d=\"M 2419 4116 \nL 825 1625 \nL 2419 1625 \nL 2419 4116 \nz\nM 2253 4666 \nL 3047 4666 \nL 3047 1625 \nL 3713 1625 \nL 3713 1100 \nL 3047 1100 \nL 3047 0 \nL 2419 0 \nL 2419 1100 \nL 313 1100 \nL 313 1709 \nL 2253 4666 \nz\n\" transform=\"scale(0.015625)\"/>\n     </defs>\n     <use xlink:href=\"#DejaVuSans-2d\"/>\n     <use xlink:href=\"#DejaVuSans-30\" x=\"36.083984\"/>\n     <use xlink:href=\"#DejaVuSans-2e\" x=\"99.707031\"/>\n     <use xlink:href=\"#DejaVuSans-30\" x=\"131.494141\"/>\n     <use xlink:href=\"#DejaVuSans-30\" x=\"195.117188\"/>\n     <use xlink:href=\"#DejaVuSans-36\" x=\"258.740234\"/>\n     <use xlink:href=\"#DejaVuSans-34\" x=\"322.363281\"/>\n    </g>\n   </g>\n   <g id=\"text_42\">\n    <!-- 0.003 -->\n    <g style=\"fill: #ffffff\" transform=\"translate(339.114688 79.76425)scale(0.1 -0.1)\">\n     <use xlink:href=\"#DejaVuSans-30\"/>\n     <use xlink:href=\"#DejaVuSans-2e\" x=\"63.623047\"/>\n     <use xlink:href=\"#DejaVuSans-30\" x=\"95.410156\"/>\n     <use xlink:href=\"#DejaVuSans-30\" x=\"159.033203\"/>\n     <use xlink:href=\"#DejaVuSans-33\" x=\"222.65625\"/>\n    </g>\n   </g>\n   <g id=\"text_43\">\n    <!-- 0.0044 -->\n    <g style=\"fill: #ffffff\" transform=\"translate(370.653438 79.76425)scale(0.1 -0.1)\">\n     <use xlink:href=\"#DejaVuSans-30\"/>\n     <use xlink:href=\"#DejaVuSans-2e\" x=\"63.623047\"/>\n     <use xlink:href=\"#DejaVuSans-30\" x=\"95.410156\"/>\n     <use xlink:href=\"#DejaVuSans-30\" x=\"159.033203\"/>\n     <use xlink:href=\"#DejaVuSans-34\" x=\"222.65625\"/>\n     <use xlink:href=\"#DejaVuSans-34\" x=\"286.279297\"/>\n    </g>\n   </g>\n   <g id=\"text_44\">\n    <!-- 0.0056 -->\n    <g style=\"fill: #ffffff\" transform=\"translate(405.373438 79.76425)scale(0.1 -0.1)\">\n     <use xlink:href=\"#DejaVuSans-30\"/>\n     <use xlink:href=\"#DejaVuSans-2e\" x=\"63.623047\"/>\n     <use xlink:href=\"#DejaVuSans-30\" x=\"95.410156\"/>\n     <use xlink:href=\"#DejaVuSans-30\" x=\"159.033203\"/>\n     <use xlink:href=\"#DejaVuSans-35\" x=\"222.65625\"/>\n     <use xlink:href=\"#DejaVuSans-36\" x=\"286.279297\"/>\n    </g>\n   </g>\n   <g id=\"text_45\">\n    <!-- 0.003 -->\n    <g style=\"fill: #ffffff\" transform=\"translate(443.274688 79.76425)scale(0.1 -0.1)\">\n     <use xlink:href=\"#DejaVuSans-30\"/>\n     <use xlink:href=\"#DejaVuSans-2e\" x=\"63.623047\"/>\n     <use xlink:href=\"#DejaVuSans-30\" x=\"95.410156\"/>\n     <use xlink:href=\"#DejaVuSans-30\" x=\"159.033203\"/>\n     <use xlink:href=\"#DejaVuSans-33\" x=\"222.65625\"/>\n    </g>\n   </g>\n   <g id=\"text_46\">\n    <!-- 0.0025 -->\n    <g style=\"fill: #ffffff\" transform=\"translate(474.813438 79.76425)scale(0.1 -0.1)\">\n     <use xlink:href=\"#DejaVuSans-30\"/>\n     <use xlink:href=\"#DejaVuSans-2e\" x=\"63.623047\"/>\n     <use xlink:href=\"#DejaVuSans-30\" x=\"95.410156\"/>\n     <use xlink:href=\"#DejaVuSans-30\" x=\"159.033203\"/>\n     <use xlink:href=\"#DejaVuSans-32\" x=\"222.65625\"/>\n     <use xlink:href=\"#DejaVuSans-35\" x=\"286.279297\"/>\n    </g>\n   </g>\n   <g id=\"text_47\">\n    <!-- -0.0026 -->\n    <g style=\"fill: #ffffff\" transform=\"translate(507.729531 79.76425)scale(0.1 -0.1)\">\n     <use xlink:href=\"#DejaVuSans-2d\"/>\n     <use xlink:href=\"#DejaVuSans-30\" x=\"36.083984\"/>\n     <use xlink:href=\"#DejaVuSans-2e\" x=\"99.707031\"/>\n     <use xlink:href=\"#DejaVuSans-30\" x=\"131.494141\"/>\n     <use xlink:href=\"#DejaVuSans-30\" x=\"195.117188\"/>\n     <use xlink:href=\"#DejaVuSans-32\" x=\"258.740234\"/>\n     <use xlink:href=\"#DejaVuSans-36\" x=\"322.363281\"/>\n    </g>\n   </g>\n   <g id=\"text_48\">\n    <!-- 0.00014 -->\n    <g style=\"fill: #ffffff\" transform=\"translate(541.072188 79.76425)scale(0.1 -0.1)\">\n     <use xlink:href=\"#DejaVuSans-30\"/>\n     <use xlink:href=\"#DejaVuSans-2e\" x=\"63.623047\"/>\n     <use xlink:href=\"#DejaVuSans-30\" x=\"95.410156\"/>\n     <use xlink:href=\"#DejaVuSans-30\" x=\"159.033203\"/>\n     <use xlink:href=\"#DejaVuSans-30\" x=\"222.65625\"/>\n     <use xlink:href=\"#DejaVuSans-31\" x=\"286.279297\"/>\n     <use xlink:href=\"#DejaVuSans-34\" x=\"349.902344\"/>\n    </g>\n   </g>\n   <g id=\"text_49\">\n    <!-- 0.0021 -->\n    <g style=\"fill: #ffffff\" transform=\"translate(578.973438 79.76425)scale(0.1 -0.1)\">\n     <use xlink:href=\"#DejaVuSans-30\"/>\n     <use xlink:href=\"#DejaVuSans-2e\" x=\"63.623047\"/>\n     <use xlink:href=\"#DejaVuSans-30\" x=\"95.410156\"/>\n     <use xlink:href=\"#DejaVuSans-30\" x=\"159.033203\"/>\n     <use xlink:href=\"#DejaVuSans-32\" x=\"222.65625\"/>\n     <use xlink:href=\"#DejaVuSans-31\" x=\"286.279297\"/>\n    </g>\n   </g>\n   <g id=\"text_50\">\n    <!-- -0.0021 -->\n    <g style=\"fill: #ffffff\" transform=\"translate(611.889531 79.76425)scale(0.1 -0.1)\">\n     <use xlink:href=\"#DejaVuSans-2d\"/>\n     <use xlink:href=\"#DejaVuSans-30\" x=\"36.083984\"/>\n     <use xlink:href=\"#DejaVuSans-2e\" x=\"99.707031\"/>\n     <use xlink:href=\"#DejaVuSans-30\" x=\"131.494141\"/>\n     <use xlink:href=\"#DejaVuSans-30\" x=\"195.117188\"/>\n     <use xlink:href=\"#DejaVuSans-32\" x=\"258.740234\"/>\n     <use xlink:href=\"#DejaVuSans-31\" x=\"322.363281\"/>\n    </g>\n   </g>\n   <g id=\"text_51\">\n    <!-- 0.001 -->\n    <g style=\"fill: #ffffff\" transform=\"translate(651.594688 79.76425)scale(0.1 -0.1)\">\n     <use xlink:href=\"#DejaVuSans-30\"/>\n     <use xlink:href=\"#DejaVuSans-2e\" x=\"63.623047\"/>\n     <use xlink:href=\"#DejaVuSans-30\" x=\"95.410156\"/>\n     <use xlink:href=\"#DejaVuSans-30\" x=\"159.033203\"/>\n     <use xlink:href=\"#DejaVuSans-31\" x=\"222.65625\"/>\n    </g>\n   </g>\n   <g id=\"text_52\">\n    <!-- 0.0042 -->\n    <g style=\"fill: #ffffff\" transform=\"translate(683.133438 79.76425)scale(0.1 -0.1)\">\n     <use xlink:href=\"#DejaVuSans-30\"/>\n     <use xlink:href=\"#DejaVuSans-2e\" x=\"63.623047\"/>\n     <use xlink:href=\"#DejaVuSans-30\" x=\"95.410156\"/>\n     <use xlink:href=\"#DejaVuSans-30\" x=\"159.033203\"/>\n     <use xlink:href=\"#DejaVuSans-34\" x=\"222.65625\"/>\n     <use xlink:href=\"#DejaVuSans-32\" x=\"286.279297\"/>\n    </g>\n   </g>\n   <g id=\"text_53\">\n    <!-- -0.0041 -->\n    <g style=\"fill: #ffffff\" transform=\"translate(716.049531 79.76425)scale(0.1 -0.1)\">\n     <use xlink:href=\"#DejaVuSans-2d\"/>\n     <use xlink:href=\"#DejaVuSans-30\" x=\"36.083984\"/>\n     <use xlink:href=\"#DejaVuSans-2e\" x=\"99.707031\"/>\n     <use xlink:href=\"#DejaVuSans-30\" x=\"131.494141\"/>\n     <use xlink:href=\"#DejaVuSans-30\" x=\"195.117188\"/>\n     <use xlink:href=\"#DejaVuSans-34\" x=\"258.740234\"/>\n     <use xlink:href=\"#DejaVuSans-31\" x=\"322.363281\"/>\n    </g>\n   </g>\n   <g id=\"text_54\">\n    <!-- -0.0092 -->\n    <g style=\"fill: #ffffff\" transform=\"translate(750.769531 79.76425)scale(0.1 -0.1)\">\n     <defs>\n      <path id=\"DejaVuSans-39\" d=\"M 703 97 \nL 703 672 \nQ 941 559 1184 500 \nQ 1428 441 1663 441 \nQ 2288 441 2617 861 \nQ 2947 1281 2994 2138 \nQ 2813 1869 2534 1725 \nQ 2256 1581 1919 1581 \nQ 1219 1581 811 2004 \nQ 403 2428 403 3163 \nQ 403 3881 828 4315 \nQ 1253 4750 1959 4750 \nQ 2769 4750 3195 4129 \nQ 3622 3509 3622 2328 \nQ 3622 1225 3098 567 \nQ 2575 -91 1691 -91 \nQ 1453 -91 1209 -44 \nQ 966 3 703 97 \nz\nM 1959 2075 \nQ 2384 2075 2632 2365 \nQ 2881 2656 2881 3163 \nQ 2881 3666 2632 3958 \nQ 2384 4250 1959 4250 \nQ 1534 4250 1286 3958 \nQ 1038 3666 1038 3163 \nQ 1038 2656 1286 2365 \nQ 1534 2075 1959 2075 \nz\n\" transform=\"scale(0.015625)\"/>\n     </defs>\n     <use xlink:href=\"#DejaVuSans-2d\"/>\n     <use xlink:href=\"#DejaVuSans-30\" x=\"36.083984\"/>\n     <use xlink:href=\"#DejaVuSans-2e\" x=\"99.707031\"/>\n     <use xlink:href=\"#DejaVuSans-30\" x=\"131.494141\"/>\n     <use xlink:href=\"#DejaVuSans-30\" x=\"195.117188\"/>\n     <use xlink:href=\"#DejaVuSans-39\" x=\"258.740234\"/>\n     <use xlink:href=\"#DejaVuSans-32\" x=\"322.363281\"/>\n    </g>\n   </g>\n   <g id=\"text_55\">\n    <!-- 0.0028 -->\n    <g style=\"fill: #ffffff\" transform=\"translate(162.333438 114.48425)scale(0.1 -0.1)\">\n     <use xlink:href=\"#DejaVuSans-30\"/>\n     <use xlink:href=\"#DejaVuSans-2e\" x=\"63.623047\"/>\n     <use xlink:href=\"#DejaVuSans-30\" x=\"95.410156\"/>\n     <use xlink:href=\"#DejaVuSans-30\" x=\"159.033203\"/>\n     <use xlink:href=\"#DejaVuSans-32\" x=\"222.65625\"/>\n     <use xlink:href=\"#DejaVuSans-38\" x=\"286.279297\"/>\n    </g>\n   </g>\n   <g id=\"text_56\">\n    <!-- 1 -->\n    <g style=\"fill: #ffffff\" transform=\"translate(211.3675 114.48425)scale(0.1 -0.1)\">\n     <use xlink:href=\"#DejaVuSans-31\"/>\n    </g>\n   </g>\n   <g id=\"text_57\">\n    <!-- 0.0031 -->\n    <g style=\"fill: #ffffff\" transform=\"translate(231.773438 114.48425)scale(0.1 -0.1)\">\n     <use xlink:href=\"#DejaVuSans-30\"/>\n     <use xlink:href=\"#DejaVuSans-2e\" x=\"63.623047\"/>\n     <use xlink:href=\"#DejaVuSans-30\" x=\"95.410156\"/>\n     <use xlink:href=\"#DejaVuSans-30\" x=\"159.033203\"/>\n     <use xlink:href=\"#DejaVuSans-33\" x=\"222.65625\"/>\n     <use xlink:href=\"#DejaVuSans-31\" x=\"286.279297\"/>\n    </g>\n   </g>\n   <g id=\"text_58\">\n    <!-- -0.32 -->\n    <g style=\"fill: #ffffff\" transform=\"translate(271.052031 114.48425)scale(0.1 -0.1)\">\n     <use xlink:href=\"#DejaVuSans-2d\"/>\n     <use xlink:href=\"#DejaVuSans-30\" x=\"36.083984\"/>\n     <use xlink:href=\"#DejaVuSans-2e\" x=\"99.707031\"/>\n     <use xlink:href=\"#DejaVuSans-33\" x=\"131.494141\"/>\n     <use xlink:href=\"#DejaVuSans-32\" x=\"195.117188\"/>\n    </g>\n   </g>\n   <g id=\"text_59\">\n    <!-- 0.029 -->\n    <g style=\"fill: #262626\" transform=\"translate(304.394688 114.48425)scale(0.1 -0.1)\">\n     <use xlink:href=\"#DejaVuSans-30\"/>\n     <use xlink:href=\"#DejaVuSans-2e\" x=\"63.623047\"/>\n     <use xlink:href=\"#DejaVuSans-30\" x=\"95.410156\"/>\n     <use xlink:href=\"#DejaVuSans-32\" x=\"159.033203\"/>\n     <use xlink:href=\"#DejaVuSans-39\" x=\"222.65625\"/>\n    </g>\n   </g>\n   <g id=\"text_60\">\n    <!-- -0.04 -->\n    <g style=\"fill: #ffffff\" transform=\"translate(340.492031 114.48425)scale(0.1 -0.1)\">\n     <use xlink:href=\"#DejaVuSans-2d\"/>\n     <use xlink:href=\"#DejaVuSans-30\" x=\"36.083984\"/>\n     <use xlink:href=\"#DejaVuSans-2e\" x=\"99.707031\"/>\n     <use xlink:href=\"#DejaVuSans-30\" x=\"131.494141\"/>\n     <use xlink:href=\"#DejaVuSans-34\" x=\"195.117188\"/>\n    </g>\n   </g>\n   <g id=\"text_61\">\n    <!-- 0.12 -->\n    <g style=\"fill: #262626\" transform=\"translate(377.015938 114.48425)scale(0.1 -0.1)\">\n     <use xlink:href=\"#DejaVuSans-30\"/>\n     <use xlink:href=\"#DejaVuSans-2e\" x=\"63.623047\"/>\n     <use xlink:href=\"#DejaVuSans-31\" x=\"95.410156\"/>\n     <use xlink:href=\"#DejaVuSans-32\" x=\"159.033203\"/>\n    </g>\n   </g>\n   <g id=\"text_62\">\n    <!-- -0.1 -->\n    <g style=\"fill: #ffffff\" transform=\"translate(413.113281 114.48425)scale(0.1 -0.1)\">\n     <use xlink:href=\"#DejaVuSans-2d\"/>\n     <use xlink:href=\"#DejaVuSans-30\" x=\"36.083984\"/>\n     <use xlink:href=\"#DejaVuSans-2e\" x=\"99.707031\"/>\n     <use xlink:href=\"#DejaVuSans-31\" x=\"131.494141\"/>\n    </g>\n   </g>\n   <g id=\"text_63\">\n    <!-- -0.012 -->\n    <g style=\"fill: #ffffff\" transform=\"translate(441.470781 114.48425)scale(0.1 -0.1)\">\n     <use xlink:href=\"#DejaVuSans-2d\"/>\n     <use xlink:href=\"#DejaVuSans-30\" x=\"36.083984\"/>\n     <use xlink:href=\"#DejaVuSans-2e\" x=\"99.707031\"/>\n     <use xlink:href=\"#DejaVuSans-30\" x=\"131.494141\"/>\n     <use xlink:href=\"#DejaVuSans-31\" x=\"195.117188\"/>\n     <use xlink:href=\"#DejaVuSans-32\" x=\"258.740234\"/>\n    </g>\n   </g>\n   <g id=\"text_64\">\n    <!-- 0.02 -->\n    <g style=\"fill: #ffffff\" transform=\"translate(481.175938 114.48425)scale(0.1 -0.1)\">\n     <use xlink:href=\"#DejaVuSans-30\"/>\n     <use xlink:href=\"#DejaVuSans-2e\" x=\"63.623047\"/>\n     <use xlink:href=\"#DejaVuSans-30\" x=\"95.410156\"/>\n     <use xlink:href=\"#DejaVuSans-32\" x=\"159.033203\"/>\n    </g>\n   </g>\n   <g id=\"text_65\">\n    <!-- -0.00097 -->\n    <g style=\"fill: #ffffff\" transform=\"translate(504.548281 114.48425)scale(0.1 -0.1)\">\n     <defs>\n      <path id=\"DejaVuSans-37\" d=\"M 525 4666 \nL 3525 4666 \nL 3525 4397 \nL 1831 0 \nL 1172 0 \nL 2766 4134 \nL 525 4134 \nL 525 4666 \nz\n\" transform=\"scale(0.015625)\"/>\n     </defs>\n     <use xlink:href=\"#DejaVuSans-2d\"/>\n     <use xlink:href=\"#DejaVuSans-30\" x=\"36.083984\"/>\n     <use xlink:href=\"#DejaVuSans-2e\" x=\"99.707031\"/>\n     <use xlink:href=\"#DejaVuSans-30\" x=\"131.494141\"/>\n     <use xlink:href=\"#DejaVuSans-30\" x=\"195.117188\"/>\n     <use xlink:href=\"#DejaVuSans-30\" x=\"258.740234\"/>\n     <use xlink:href=\"#DejaVuSans-39\" x=\"322.363281\"/>\n     <use xlink:href=\"#DejaVuSans-37\" x=\"385.986328\"/>\n    </g>\n   </g>\n   <g id=\"text_66\">\n    <!-- -0.022 -->\n    <g style=\"fill: #ffffff\" transform=\"translate(545.630781 114.48425)scale(0.1 -0.1)\">\n     <use xlink:href=\"#DejaVuSans-2d\"/>\n     <use xlink:href=\"#DejaVuSans-30\" x=\"36.083984\"/>\n     <use xlink:href=\"#DejaVuSans-2e\" x=\"99.707031\"/>\n     <use xlink:href=\"#DejaVuSans-30\" x=\"131.494141\"/>\n     <use xlink:href=\"#DejaVuSans-32\" x=\"195.117188\"/>\n     <use xlink:href=\"#DejaVuSans-32\" x=\"258.740234\"/>\n    </g>\n   </g>\n   <g id=\"text_67\">\n    <!-- 0.018 -->\n    <g style=\"fill: #ffffff\" transform=\"translate(582.154688 114.48425)scale(0.1 -0.1)\">\n     <use xlink:href=\"#DejaVuSans-30\"/>\n     <use xlink:href=\"#DejaVuSans-2e\" x=\"63.623047\"/>\n     <use xlink:href=\"#DejaVuSans-30\" x=\"95.410156\"/>\n     <use xlink:href=\"#DejaVuSans-31\" x=\"159.033203\"/>\n     <use xlink:href=\"#DejaVuSans-38\" x=\"222.65625\"/>\n    </g>\n   </g>\n   <g id=\"text_68\">\n    <!-- -0.0019 -->\n    <g style=\"fill: #ffffff\" transform=\"translate(611.889531 114.48425)scale(0.1 -0.1)\">\n     <use xlink:href=\"#DejaVuSans-2d\"/>\n     <use xlink:href=\"#DejaVuSans-30\" x=\"36.083984\"/>\n     <use xlink:href=\"#DejaVuSans-2e\" x=\"99.707031\"/>\n     <use xlink:href=\"#DejaVuSans-30\" x=\"131.494141\"/>\n     <use xlink:href=\"#DejaVuSans-30\" x=\"195.117188\"/>\n     <use xlink:href=\"#DejaVuSans-31\" x=\"258.740234\"/>\n     <use xlink:href=\"#DejaVuSans-39\" x=\"322.363281\"/>\n    </g>\n   </g>\n   <g id=\"text_69\">\n    <!-- -0.011 -->\n    <g style=\"fill: #ffffff\" transform=\"translate(649.790781 114.48425)scale(0.1 -0.1)\">\n     <use xlink:href=\"#DejaVuSans-2d\"/>\n     <use xlink:href=\"#DejaVuSans-30\" x=\"36.083984\"/>\n     <use xlink:href=\"#DejaVuSans-2e\" x=\"99.707031\"/>\n     <use xlink:href=\"#DejaVuSans-30\" x=\"131.494141\"/>\n     <use xlink:href=\"#DejaVuSans-31\" x=\"195.117188\"/>\n     <use xlink:href=\"#DejaVuSans-31\" x=\"258.740234\"/>\n    </g>\n   </g>\n   <g id=\"text_70\">\n    <!-- 0.0075 -->\n    <g style=\"fill: #ffffff\" transform=\"translate(683.133438 114.48425)scale(0.1 -0.1)\">\n     <use xlink:href=\"#DejaVuSans-30\"/>\n     <use xlink:href=\"#DejaVuSans-2e\" x=\"63.623047\"/>\n     <use xlink:href=\"#DejaVuSans-30\" x=\"95.410156\"/>\n     <use xlink:href=\"#DejaVuSans-30\" x=\"159.033203\"/>\n     <use xlink:href=\"#DejaVuSans-37\" x=\"222.65625\"/>\n     <use xlink:href=\"#DejaVuSans-35\" x=\"286.279297\"/>\n    </g>\n   </g>\n   <g id=\"text_71\">\n    <!-- 0.0027 -->\n    <g style=\"fill: #ffffff\" transform=\"translate(717.853438 114.48425)scale(0.1 -0.1)\">\n     <use xlink:href=\"#DejaVuSans-30\"/>\n     <use xlink:href=\"#DejaVuSans-2e\" x=\"63.623047\"/>\n     <use xlink:href=\"#DejaVuSans-30\" x=\"95.410156\"/>\n     <use xlink:href=\"#DejaVuSans-30\" x=\"159.033203\"/>\n     <use xlink:href=\"#DejaVuSans-32\" x=\"222.65625\"/>\n     <use xlink:href=\"#DejaVuSans-37\" x=\"286.279297\"/>\n    </g>\n   </g>\n   <g id=\"text_72\">\n    <!-- -0.54 -->\n    <g style=\"fill: #ffffff\" transform=\"translate(757.132031 114.48425)scale(0.1 -0.1)\">\n     <use xlink:href=\"#DejaVuSans-2d\"/>\n     <use xlink:href=\"#DejaVuSans-30\" x=\"36.083984\"/>\n     <use xlink:href=\"#DejaVuSans-2e\" x=\"99.707031\"/>\n     <use xlink:href=\"#DejaVuSans-35\" x=\"131.494141\"/>\n     <use xlink:href=\"#DejaVuSans-34\" x=\"195.117188\"/>\n    </g>\n   </g>\n   <g id=\"text_73\">\n    <!-- -0.0035 -->\n    <g style=\"fill: #ffffff\" transform=\"translate(160.529531 149.20425)scale(0.1 -0.1)\">\n     <use xlink:href=\"#DejaVuSans-2d\"/>\n     <use xlink:href=\"#DejaVuSans-30\" x=\"36.083984\"/>\n     <use xlink:href=\"#DejaVuSans-2e\" x=\"99.707031\"/>\n     <use xlink:href=\"#DejaVuSans-30\" x=\"131.494141\"/>\n     <use xlink:href=\"#DejaVuSans-30\" x=\"195.117188\"/>\n     <use xlink:href=\"#DejaVuSans-33\" x=\"258.740234\"/>\n     <use xlink:href=\"#DejaVuSans-35\" x=\"322.363281\"/>\n    </g>\n   </g>\n   <g id=\"text_74\">\n    <!-- 0.0031 -->\n    <g style=\"fill: #ffffff\" transform=\"translate(197.053438 149.20425)scale(0.1 -0.1)\">\n     <use xlink:href=\"#DejaVuSans-30\"/>\n     <use xlink:href=\"#DejaVuSans-2e\" x=\"63.623047\"/>\n     <use xlink:href=\"#DejaVuSans-30\" x=\"95.410156\"/>\n     <use xlink:href=\"#DejaVuSans-30\" x=\"159.033203\"/>\n     <use xlink:href=\"#DejaVuSans-33\" x=\"222.65625\"/>\n     <use xlink:href=\"#DejaVuSans-31\" x=\"286.279297\"/>\n    </g>\n   </g>\n   <g id=\"text_75\">\n    <!-- 1 -->\n    <g style=\"fill: #ffffff\" transform=\"translate(246.0875 149.20425)scale(0.1 -0.1)\">\n     <use xlink:href=\"#DejaVuSans-31\"/>\n    </g>\n   </g>\n   <g id=\"text_76\">\n    <!-- -0.017 -->\n    <g style=\"fill: #ffffff\" transform=\"translate(267.870781 149.20425)scale(0.1 -0.1)\">\n     <use xlink:href=\"#DejaVuSans-2d\"/>\n     <use xlink:href=\"#DejaVuSans-30\" x=\"36.083984\"/>\n     <use xlink:href=\"#DejaVuSans-2e\" x=\"99.707031\"/>\n     <use xlink:href=\"#DejaVuSans-30\" x=\"131.494141\"/>\n     <use xlink:href=\"#DejaVuSans-31\" x=\"195.117188\"/>\n     <use xlink:href=\"#DejaVuSans-37\" x=\"258.740234\"/>\n    </g>\n   </g>\n   <g id=\"text_77\">\n    <!-- -0.013 -->\n    <g style=\"fill: #ffffff\" transform=\"translate(302.590781 149.20425)scale(0.1 -0.1)\">\n     <use xlink:href=\"#DejaVuSans-2d\"/>\n     <use xlink:href=\"#DejaVuSans-30\" x=\"36.083984\"/>\n     <use xlink:href=\"#DejaVuSans-2e\" x=\"99.707031\"/>\n     <use xlink:href=\"#DejaVuSans-30\" x=\"131.494141\"/>\n     <use xlink:href=\"#DejaVuSans-31\" x=\"195.117188\"/>\n     <use xlink:href=\"#DejaVuSans-33\" x=\"258.740234\"/>\n    </g>\n   </g>\n   <g id=\"text_78\">\n    <!-- 0.0021 -->\n    <g style=\"fill: #ffffff\" transform=\"translate(335.933438 149.20425)scale(0.1 -0.1)\">\n     <use xlink:href=\"#DejaVuSans-30\"/>\n     <use xlink:href=\"#DejaVuSans-2e\" x=\"63.623047\"/>\n     <use xlink:href=\"#DejaVuSans-30\" x=\"95.410156\"/>\n     <use xlink:href=\"#DejaVuSans-30\" x=\"159.033203\"/>\n     <use xlink:href=\"#DejaVuSans-32\" x=\"222.65625\"/>\n     <use xlink:href=\"#DejaVuSans-31\" x=\"286.279297\"/>\n    </g>\n   </g>\n   <g id=\"text_79\">\n    <!-- -0.016 -->\n    <g style=\"fill: #ffffff\" transform=\"translate(372.030781 149.20425)scale(0.1 -0.1)\">\n     <use xlink:href=\"#DejaVuSans-2d\"/>\n     <use xlink:href=\"#DejaVuSans-30\" x=\"36.083984\"/>\n     <use xlink:href=\"#DejaVuSans-2e\" x=\"99.707031\"/>\n     <use xlink:href=\"#DejaVuSans-30\" x=\"131.494141\"/>\n     <use xlink:href=\"#DejaVuSans-31\" x=\"195.117188\"/>\n     <use xlink:href=\"#DejaVuSans-36\" x=\"258.740234\"/>\n    </g>\n   </g>\n   <g id=\"text_80\">\n    <!-- -0.0032 -->\n    <g style=\"fill: #ffffff\" transform=\"translate(403.569531 149.20425)scale(0.1 -0.1)\">\n     <use xlink:href=\"#DejaVuSans-2d\"/>\n     <use xlink:href=\"#DejaVuSans-30\" x=\"36.083984\"/>\n     <use xlink:href=\"#DejaVuSans-2e\" x=\"99.707031\"/>\n     <use xlink:href=\"#DejaVuSans-30\" x=\"131.494141\"/>\n     <use xlink:href=\"#DejaVuSans-30\" x=\"195.117188\"/>\n     <use xlink:href=\"#DejaVuSans-33\" x=\"258.740234\"/>\n     <use xlink:href=\"#DejaVuSans-32\" x=\"322.363281\"/>\n    </g>\n   </g>\n   <g id=\"text_81\">\n    <!-- 0.024 -->\n    <g style=\"fill: #262626\" transform=\"translate(443.274688 149.20425)scale(0.1 -0.1)\">\n     <use xlink:href=\"#DejaVuSans-30\"/>\n     <use xlink:href=\"#DejaVuSans-2e\" x=\"63.623047\"/>\n     <use xlink:href=\"#DejaVuSans-30\" x=\"95.410156\"/>\n     <use xlink:href=\"#DejaVuSans-32\" x=\"159.033203\"/>\n     <use xlink:href=\"#DejaVuSans-34\" x=\"222.65625\"/>\n    </g>\n   </g>\n   <g id=\"text_82\">\n    <!-- -0.44 -->\n    <g style=\"fill: #ffffff\" transform=\"translate(479.372031 149.20425)scale(0.1 -0.1)\">\n     <use xlink:href=\"#DejaVuSans-2d\"/>\n     <use xlink:href=\"#DejaVuSans-30\" x=\"36.083984\"/>\n     <use xlink:href=\"#DejaVuSans-2e\" x=\"99.707031\"/>\n     <use xlink:href=\"#DejaVuSans-34\" x=\"131.494141\"/>\n     <use xlink:href=\"#DejaVuSans-34\" x=\"195.117188\"/>\n    </g>\n   </g>\n   <g id=\"text_83\">\n    <!-- 0.97 -->\n    <g style=\"fill: #ffffff\" transform=\"translate(515.895938 149.20425)scale(0.1 -0.1)\">\n     <use xlink:href=\"#DejaVuSans-30\"/>\n     <use xlink:href=\"#DejaVuSans-2e\" x=\"63.623047\"/>\n     <use xlink:href=\"#DejaVuSans-39\" x=\"95.410156\"/>\n     <use xlink:href=\"#DejaVuSans-37\" x=\"159.033203\"/>\n    </g>\n   </g>\n   <g id=\"text_84\">\n    <!-- 0.021 -->\n    <g style=\"fill: #ffffff\" transform=\"translate(547.434688 149.20425)scale(0.1 -0.1)\">\n     <use xlink:href=\"#DejaVuSans-30\"/>\n     <use xlink:href=\"#DejaVuSans-2e\" x=\"63.623047\"/>\n     <use xlink:href=\"#DejaVuSans-30\" x=\"95.410156\"/>\n     <use xlink:href=\"#DejaVuSans-32\" x=\"159.033203\"/>\n     <use xlink:href=\"#DejaVuSans-31\" x=\"222.65625\"/>\n    </g>\n   </g>\n   <g id=\"text_85\">\n    <!-- -0.44 -->\n    <g style=\"fill: #ffffff\" transform=\"translate(583.532031 149.20425)scale(0.1 -0.1)\">\n     <use xlink:href=\"#DejaVuSans-2d\"/>\n     <use xlink:href=\"#DejaVuSans-30\" x=\"36.083984\"/>\n     <use xlink:href=\"#DejaVuSans-2e\" x=\"99.707031\"/>\n     <use xlink:href=\"#DejaVuSans-34\" x=\"131.494141\"/>\n     <use xlink:href=\"#DejaVuSans-34\" x=\"195.117188\"/>\n    </g>\n   </g>\n   <g id=\"text_86\">\n    <!-- 0.97 -->\n    <g style=\"fill: #ffffff\" transform=\"translate(620.055938 149.20425)scale(0.1 -0.1)\">\n     <use xlink:href=\"#DejaVuSans-30\"/>\n     <use xlink:href=\"#DejaVuSans-2e\" x=\"63.623047\"/>\n     <use xlink:href=\"#DejaVuSans-39\" x=\"95.410156\"/>\n     <use xlink:href=\"#DejaVuSans-37\" x=\"159.033203\"/>\n    </g>\n   </g>\n   <g id=\"text_87\">\n    <!-- -0.013 -->\n    <g style=\"fill: #ffffff\" transform=\"translate(649.790781 149.20425)scale(0.1 -0.1)\">\n     <use xlink:href=\"#DejaVuSans-2d\"/>\n     <use xlink:href=\"#DejaVuSans-30\" x=\"36.083984\"/>\n     <use xlink:href=\"#DejaVuSans-2e\" x=\"99.707031\"/>\n     <use xlink:href=\"#DejaVuSans-30\" x=\"131.494141\"/>\n     <use xlink:href=\"#DejaVuSans-31\" x=\"195.117188\"/>\n     <use xlink:href=\"#DejaVuSans-33\" x=\"258.740234\"/>\n    </g>\n   </g>\n   <g id=\"text_88\">\n    <!-- -0.47 -->\n    <g style=\"fill: #ffffff\" transform=\"translate(687.692031 149.20425)scale(0.1 -0.1)\">\n     <use xlink:href=\"#DejaVuSans-2d\"/>\n     <use xlink:href=\"#DejaVuSans-30\" x=\"36.083984\"/>\n     <use xlink:href=\"#DejaVuSans-2e\" x=\"99.707031\"/>\n     <use xlink:href=\"#DejaVuSans-34\" x=\"131.494141\"/>\n     <use xlink:href=\"#DejaVuSans-37\" x=\"195.117188\"/>\n    </g>\n   </g>\n   <g id=\"text_89\">\n    <!-- 0.98 -->\n    <g style=\"fill: #ffffff\" transform=\"translate(724.215938 149.20425)scale(0.1 -0.1)\">\n     <use xlink:href=\"#DejaVuSans-30\"/>\n     <use xlink:href=\"#DejaVuSans-2e\" x=\"63.623047\"/>\n     <use xlink:href=\"#DejaVuSans-39\" x=\"95.410156\"/>\n     <use xlink:href=\"#DejaVuSans-38\" x=\"159.033203\"/>\n    </g>\n   </g>\n   <g id=\"text_90\">\n    <!-- -0.0027 -->\n    <g style=\"fill: #ffffff\" transform=\"translate(750.769531 149.20425)scale(0.1 -0.1)\">\n     <use xlink:href=\"#DejaVuSans-2d\"/>\n     <use xlink:href=\"#DejaVuSans-30\" x=\"36.083984\"/>\n     <use xlink:href=\"#DejaVuSans-2e\" x=\"99.707031\"/>\n     <use xlink:href=\"#DejaVuSans-30\" x=\"131.494141\"/>\n     <use xlink:href=\"#DejaVuSans-30\" x=\"195.117188\"/>\n     <use xlink:href=\"#DejaVuSans-32\" x=\"258.740234\"/>\n     <use xlink:href=\"#DejaVuSans-37\" x=\"322.363281\"/>\n    </g>\n   </g>\n   <g id=\"text_91\">\n    <!-- -0.0015 -->\n    <g style=\"fill: #ffffff\" transform=\"translate(160.529531 183.92425)scale(0.1 -0.1)\">\n     <use xlink:href=\"#DejaVuSans-2d\"/>\n     <use xlink:href=\"#DejaVuSans-30\" x=\"36.083984\"/>\n     <use xlink:href=\"#DejaVuSans-2e\" x=\"99.707031\"/>\n     <use xlink:href=\"#DejaVuSans-30\" x=\"131.494141\"/>\n     <use xlink:href=\"#DejaVuSans-30\" x=\"195.117188\"/>\n     <use xlink:href=\"#DejaVuSans-31\" x=\"258.740234\"/>\n     <use xlink:href=\"#DejaVuSans-35\" x=\"322.363281\"/>\n    </g>\n   </g>\n   <g id=\"text_92\">\n    <!-- -0.32 -->\n    <g style=\"fill: #ffffff\" transform=\"translate(201.612031 183.92425)scale(0.1 -0.1)\">\n     <use xlink:href=\"#DejaVuSans-2d\"/>\n     <use xlink:href=\"#DejaVuSans-30\" x=\"36.083984\"/>\n     <use xlink:href=\"#DejaVuSans-2e\" x=\"99.707031\"/>\n     <use xlink:href=\"#DejaVuSans-33\" x=\"131.494141\"/>\n     <use xlink:href=\"#DejaVuSans-32\" x=\"195.117188\"/>\n    </g>\n   </g>\n   <g id=\"text_93\">\n    <!-- -0.017 -->\n    <g style=\"fill: #ffffff\" transform=\"translate(233.150781 183.92425)scale(0.1 -0.1)\">\n     <use xlink:href=\"#DejaVuSans-2d\"/>\n     <use xlink:href=\"#DejaVuSans-30\" x=\"36.083984\"/>\n     <use xlink:href=\"#DejaVuSans-2e\" x=\"99.707031\"/>\n     <use xlink:href=\"#DejaVuSans-30\" x=\"131.494141\"/>\n     <use xlink:href=\"#DejaVuSans-31\" x=\"195.117188\"/>\n     <use xlink:href=\"#DejaVuSans-37\" x=\"258.740234\"/>\n    </g>\n   </g>\n   <g id=\"text_94\">\n    <!-- 1 -->\n    <g style=\"fill: #ffffff\" transform=\"translate(280.8075 183.92425)scale(0.1 -0.1)\">\n     <use xlink:href=\"#DejaVuSans-31\"/>\n    </g>\n   </g>\n   <g id=\"text_95\">\n    <!-- 0.056 -->\n    <g style=\"fill: #262626\" transform=\"translate(304.394688 183.92425)scale(0.1 -0.1)\">\n     <use xlink:href=\"#DejaVuSans-30\"/>\n     <use xlink:href=\"#DejaVuSans-2e\" x=\"63.623047\"/>\n     <use xlink:href=\"#DejaVuSans-30\" x=\"95.410156\"/>\n     <use xlink:href=\"#DejaVuSans-35\" x=\"159.033203\"/>\n     <use xlink:href=\"#DejaVuSans-36\" x=\"222.65625\"/>\n    </g>\n   </g>\n   <g id=\"text_96\">\n    <!-- -0.5 -->\n    <g style=\"fill: #ffffff\" transform=\"translate(343.673281 183.92425)scale(0.1 -0.1)\">\n     <use xlink:href=\"#DejaVuSans-2d\"/>\n     <use xlink:href=\"#DejaVuSans-30\" x=\"36.083984\"/>\n     <use xlink:href=\"#DejaVuSans-2e\" x=\"99.707031\"/>\n     <use xlink:href=\"#DejaVuSans-35\" x=\"131.494141\"/>\n    </g>\n   </g>\n   <g id=\"text_97\">\n    <!-- -0.012 -->\n    <g style=\"fill: #ffffff\" transform=\"translate(372.030781 183.92425)scale(0.1 -0.1)\">\n     <use xlink:href=\"#DejaVuSans-2d\"/>\n     <use xlink:href=\"#DejaVuSans-30\" x=\"36.083984\"/>\n     <use xlink:href=\"#DejaVuSans-2e\" x=\"99.707031\"/>\n     <use xlink:href=\"#DejaVuSans-30\" x=\"131.494141\"/>\n     <use xlink:href=\"#DejaVuSans-31\" x=\"195.117188\"/>\n     <use xlink:href=\"#DejaVuSans-32\" x=\"258.740234\"/>\n    </g>\n   </g>\n   <g id=\"text_98\">\n    <!-- -0.49 -->\n    <g style=\"fill: #ffffff\" transform=\"translate(409.932031 183.92425)scale(0.1 -0.1)\">\n     <use xlink:href=\"#DejaVuSans-2d\"/>\n     <use xlink:href=\"#DejaVuSans-30\" x=\"36.083984\"/>\n     <use xlink:href=\"#DejaVuSans-2e\" x=\"99.707031\"/>\n     <use xlink:href=\"#DejaVuSans-34\" x=\"131.494141\"/>\n     <use xlink:href=\"#DejaVuSans-39\" x=\"195.117188\"/>\n    </g>\n   </g>\n   <g id=\"text_99\">\n    <!-- 0.0075 -->\n    <g style=\"fill: #ffffff\" transform=\"translate(440.093438 183.92425)scale(0.1 -0.1)\">\n     <use xlink:href=\"#DejaVuSans-30\"/>\n     <use xlink:href=\"#DejaVuSans-2e\" x=\"63.623047\"/>\n     <use xlink:href=\"#DejaVuSans-30\" x=\"95.410156\"/>\n     <use xlink:href=\"#DejaVuSans-30\" x=\"159.033203\"/>\n     <use xlink:href=\"#DejaVuSans-37\" x=\"222.65625\"/>\n     <use xlink:href=\"#DejaVuSans-35\" x=\"286.279297\"/>\n    </g>\n   </g>\n   <g id=\"text_100\">\n    <!-- -0.00024 -->\n    <g style=\"fill: #ffffff\" transform=\"translate(469.828281 183.92425)scale(0.1 -0.1)\">\n     <use xlink:href=\"#DejaVuSans-2d\"/>\n     <use xlink:href=\"#DejaVuSans-30\" x=\"36.083984\"/>\n     <use xlink:href=\"#DejaVuSans-2e\" x=\"99.707031\"/>\n     <use xlink:href=\"#DejaVuSans-30\" x=\"131.494141\"/>\n     <use xlink:href=\"#DejaVuSans-30\" x=\"195.117188\"/>\n     <use xlink:href=\"#DejaVuSans-30\" x=\"258.740234\"/>\n     <use xlink:href=\"#DejaVuSans-32\" x=\"322.363281\"/>\n     <use xlink:href=\"#DejaVuSans-34\" x=\"385.986328\"/>\n    </g>\n   </g>\n   <g id=\"text_101\">\n    <!-- -0.015 -->\n    <g style=\"fill: #ffffff\" transform=\"translate(510.910781 183.92425)scale(0.1 -0.1)\">\n     <use xlink:href=\"#DejaVuSans-2d\"/>\n     <use xlink:href=\"#DejaVuSans-30\" x=\"36.083984\"/>\n     <use xlink:href=\"#DejaVuSans-2e\" x=\"99.707031\"/>\n     <use xlink:href=\"#DejaVuSans-30\" x=\"131.494141\"/>\n     <use xlink:href=\"#DejaVuSans-31\" x=\"195.117188\"/>\n     <use xlink:href=\"#DejaVuSans-35\" x=\"258.740234\"/>\n    </g>\n   </g>\n   <g id=\"text_102\">\n    <!-- 0.011 -->\n    <g style=\"fill: #ffffff\" transform=\"translate(547.434688 183.92425)scale(0.1 -0.1)\">\n     <use xlink:href=\"#DejaVuSans-30\"/>\n     <use xlink:href=\"#DejaVuSans-2e\" x=\"63.623047\"/>\n     <use xlink:href=\"#DejaVuSans-30\" x=\"95.410156\"/>\n     <use xlink:href=\"#DejaVuSans-31\" x=\"159.033203\"/>\n     <use xlink:href=\"#DejaVuSans-31\" x=\"222.65625\"/>\n    </g>\n   </g>\n   <g id=\"text_103\">\n    <!-- 0.0026 -->\n    <g style=\"fill: #ffffff\" transform=\"translate(578.973438 183.92425)scale(0.1 -0.1)\">\n     <use xlink:href=\"#DejaVuSans-30\"/>\n     <use xlink:href=\"#DejaVuSans-2e\" x=\"63.623047\"/>\n     <use xlink:href=\"#DejaVuSans-30\" x=\"95.410156\"/>\n     <use xlink:href=\"#DejaVuSans-30\" x=\"159.033203\"/>\n     <use xlink:href=\"#DejaVuSans-32\" x=\"222.65625\"/>\n     <use xlink:href=\"#DejaVuSans-36\" x=\"286.279297\"/>\n    </g>\n   </g>\n   <g id=\"text_104\">\n    <!-- -0.012 -->\n    <g style=\"fill: #ffffff\" transform=\"translate(615.070781 183.92425)scale(0.1 -0.1)\">\n     <use xlink:href=\"#DejaVuSans-2d\"/>\n     <use xlink:href=\"#DejaVuSans-30\" x=\"36.083984\"/>\n     <use xlink:href=\"#DejaVuSans-2e\" x=\"99.707031\"/>\n     <use xlink:href=\"#DejaVuSans-30\" x=\"131.494141\"/>\n     <use xlink:href=\"#DejaVuSans-31\" x=\"195.117188\"/>\n     <use xlink:href=\"#DejaVuSans-32\" x=\"258.740234\"/>\n    </g>\n   </g>\n   <g id=\"text_105\">\n    <!-- -0.011 -->\n    <g style=\"fill: #ffffff\" transform=\"translate(649.790781 183.92425)scale(0.1 -0.1)\">\n     <use xlink:href=\"#DejaVuSans-2d\"/>\n     <use xlink:href=\"#DejaVuSans-30\" x=\"36.083984\"/>\n     <use xlink:href=\"#DejaVuSans-2e\" x=\"99.707031\"/>\n     <use xlink:href=\"#DejaVuSans-30\" x=\"131.494141\"/>\n     <use xlink:href=\"#DejaVuSans-31\" x=\"195.117188\"/>\n     <use xlink:href=\"#DejaVuSans-31\" x=\"258.740234\"/>\n    </g>\n   </g>\n   <g id=\"text_106\">\n    <!-- -0.0053 -->\n    <g style=\"fill: #ffffff\" transform=\"translate(681.329531 183.92425)scale(0.1 -0.1)\">\n     <use xlink:href=\"#DejaVuSans-2d\"/>\n     <use xlink:href=\"#DejaVuSans-30\" x=\"36.083984\"/>\n     <use xlink:href=\"#DejaVuSans-2e\" x=\"99.707031\"/>\n     <use xlink:href=\"#DejaVuSans-30\" x=\"131.494141\"/>\n     <use xlink:href=\"#DejaVuSans-30\" x=\"195.117188\"/>\n     <use xlink:href=\"#DejaVuSans-35\" x=\"258.740234\"/>\n     <use xlink:href=\"#DejaVuSans-33\" x=\"322.363281\"/>\n    </g>\n   </g>\n   <g id=\"text_107\">\n    <!-- -0.019 -->\n    <g style=\"fill: #ffffff\" transform=\"translate(719.230781 183.92425)scale(0.1 -0.1)\">\n     <use xlink:href=\"#DejaVuSans-2d\"/>\n     <use xlink:href=\"#DejaVuSans-30\" x=\"36.083984\"/>\n     <use xlink:href=\"#DejaVuSans-2e\" x=\"99.707031\"/>\n     <use xlink:href=\"#DejaVuSans-30\" x=\"131.494141\"/>\n     <use xlink:href=\"#DejaVuSans-31\" x=\"195.117188\"/>\n     <use xlink:href=\"#DejaVuSans-39\" x=\"258.740234\"/>\n    </g>\n   </g>\n   <g id=\"text_108\">\n    <!-- 0.23 -->\n    <g style=\"fill: #262626\" transform=\"translate(758.935938 183.92425)scale(0.1 -0.1)\">\n     <use xlink:href=\"#DejaVuSans-30\"/>\n     <use xlink:href=\"#DejaVuSans-2e\" x=\"63.623047\"/>\n     <use xlink:href=\"#DejaVuSans-32\" x=\"95.410156\"/>\n     <use xlink:href=\"#DejaVuSans-33\" x=\"159.033203\"/>\n    </g>\n   </g>\n   <g id=\"text_109\">\n    <!-- -0.0064 -->\n    <g style=\"fill: #ffffff\" transform=\"translate(160.529531 218.64425)scale(0.1 -0.1)\">\n     <use xlink:href=\"#DejaVuSans-2d\"/>\n     <use xlink:href=\"#DejaVuSans-30\" x=\"36.083984\"/>\n     <use xlink:href=\"#DejaVuSans-2e\" x=\"99.707031\"/>\n     <use xlink:href=\"#DejaVuSans-30\" x=\"131.494141\"/>\n     <use xlink:href=\"#DejaVuSans-30\" x=\"195.117188\"/>\n     <use xlink:href=\"#DejaVuSans-36\" x=\"258.740234\"/>\n     <use xlink:href=\"#DejaVuSans-34\" x=\"322.363281\"/>\n    </g>\n   </g>\n   <g id=\"text_110\">\n    <!-- 0.029 -->\n    <g style=\"fill: #262626\" transform=\"translate(200.234688 218.64425)scale(0.1 -0.1)\">\n     <use xlink:href=\"#DejaVuSans-30\"/>\n     <use xlink:href=\"#DejaVuSans-2e\" x=\"63.623047\"/>\n     <use xlink:href=\"#DejaVuSans-30\" x=\"95.410156\"/>\n     <use xlink:href=\"#DejaVuSans-32\" x=\"159.033203\"/>\n     <use xlink:href=\"#DejaVuSans-39\" x=\"222.65625\"/>\n    </g>\n   </g>\n   <g id=\"text_111\">\n    <!-- -0.013 -->\n    <g style=\"fill: #ffffff\" transform=\"translate(233.150781 218.64425)scale(0.1 -0.1)\">\n     <use xlink:href=\"#DejaVuSans-2d\"/>\n     <use xlink:href=\"#DejaVuSans-30\" x=\"36.083984\"/>\n     <use xlink:href=\"#DejaVuSans-2e\" x=\"99.707031\"/>\n     <use xlink:href=\"#DejaVuSans-30\" x=\"131.494141\"/>\n     <use xlink:href=\"#DejaVuSans-31\" x=\"195.117188\"/>\n     <use xlink:href=\"#DejaVuSans-33\" x=\"258.740234\"/>\n    </g>\n   </g>\n   <g id=\"text_112\">\n    <!-- 0.056 -->\n    <g style=\"fill: #262626\" transform=\"translate(269.674688 218.64425)scale(0.1 -0.1)\">\n     <use xlink:href=\"#DejaVuSans-30\"/>\n     <use xlink:href=\"#DejaVuSans-2e\" x=\"63.623047\"/>\n     <use xlink:href=\"#DejaVuSans-30\" x=\"95.410156\"/>\n     <use xlink:href=\"#DejaVuSans-35\" x=\"159.033203\"/>\n     <use xlink:href=\"#DejaVuSans-36\" x=\"222.65625\"/>\n    </g>\n   </g>\n   <g id=\"text_113\">\n    <!-- 1 -->\n    <g style=\"fill: #ffffff\" transform=\"translate(315.5275 218.64425)scale(0.1 -0.1)\">\n     <use xlink:href=\"#DejaVuSans-31\"/>\n    </g>\n   </g>\n   <g id=\"text_114\">\n    <!-- -0.052 -->\n    <g style=\"fill: #ffffff\" transform=\"translate(337.310781 218.64425)scale(0.1 -0.1)\">\n     <use xlink:href=\"#DejaVuSans-2d\"/>\n     <use xlink:href=\"#DejaVuSans-30\" x=\"36.083984\"/>\n     <use xlink:href=\"#DejaVuSans-2e\" x=\"99.707031\"/>\n     <use xlink:href=\"#DejaVuSans-30\" x=\"131.494141\"/>\n     <use xlink:href=\"#DejaVuSans-35\" x=\"195.117188\"/>\n     <use xlink:href=\"#DejaVuSans-32\" x=\"258.740234\"/>\n    </g>\n   </g>\n   <g id=\"text_115\">\n    <!-- -0.021 -->\n    <g style=\"fill: #ffffff\" transform=\"translate(372.030781 218.64425)scale(0.1 -0.1)\">\n     <use xlink:href=\"#DejaVuSans-2d\"/>\n     <use xlink:href=\"#DejaVuSans-30\" x=\"36.083984\"/>\n     <use xlink:href=\"#DejaVuSans-2e\" x=\"99.707031\"/>\n     <use xlink:href=\"#DejaVuSans-30\" x=\"131.494141\"/>\n     <use xlink:href=\"#DejaVuSans-32\" x=\"195.117188\"/>\n     <use xlink:href=\"#DejaVuSans-31\" x=\"258.740234\"/>\n    </g>\n   </g>\n   <g id=\"text_116\">\n    <!-- -0.14 -->\n    <g style=\"fill: #ffffff\" transform=\"translate(409.932031 218.64425)scale(0.1 -0.1)\">\n     <use xlink:href=\"#DejaVuSans-2d\"/>\n     <use xlink:href=\"#DejaVuSans-30\" x=\"36.083984\"/>\n     <use xlink:href=\"#DejaVuSans-2e\" x=\"99.707031\"/>\n     <use xlink:href=\"#DejaVuSans-31\" x=\"131.494141\"/>\n     <use xlink:href=\"#DejaVuSans-34\" x=\"195.117188\"/>\n    </g>\n   </g>\n   <g id=\"text_117\">\n    <!-- 0.0084 -->\n    <g style=\"fill: #ffffff\" transform=\"translate(440.093438 218.64425)scale(0.1 -0.1)\">\n     <use xlink:href=\"#DejaVuSans-30\"/>\n     <use xlink:href=\"#DejaVuSans-2e\" x=\"63.623047\"/>\n     <use xlink:href=\"#DejaVuSans-30\" x=\"95.410156\"/>\n     <use xlink:href=\"#DejaVuSans-30\" x=\"159.033203\"/>\n     <use xlink:href=\"#DejaVuSans-38\" x=\"222.65625\"/>\n     <use xlink:href=\"#DejaVuSans-34\" x=\"286.279297\"/>\n    </g>\n   </g>\n   <g id=\"text_118\">\n    <!-- 0.032 -->\n    <g style=\"fill: #262626\" transform=\"translate(477.994688 218.64425)scale(0.1 -0.1)\">\n     <use xlink:href=\"#DejaVuSans-30\"/>\n     <use xlink:href=\"#DejaVuSans-2e\" x=\"63.623047\"/>\n     <use xlink:href=\"#DejaVuSans-30\" x=\"95.410156\"/>\n     <use xlink:href=\"#DejaVuSans-33\" x=\"159.033203\"/>\n     <use xlink:href=\"#DejaVuSans-32\" x=\"222.65625\"/>\n    </g>\n   </g>\n   <g id=\"text_119\">\n    <!-- -0.013 -->\n    <g style=\"fill: #ffffff\" transform=\"translate(510.910781 218.64425)scale(0.1 -0.1)\">\n     <use xlink:href=\"#DejaVuSans-2d\"/>\n     <use xlink:href=\"#DejaVuSans-30\" x=\"36.083984\"/>\n     <use xlink:href=\"#DejaVuSans-2e\" x=\"99.707031\"/>\n     <use xlink:href=\"#DejaVuSans-30\" x=\"131.494141\"/>\n     <use xlink:href=\"#DejaVuSans-31\" x=\"195.117188\"/>\n     <use xlink:href=\"#DejaVuSans-33\" x=\"258.740234\"/>\n    </g>\n   </g>\n   <g id=\"text_120\">\n    <!-- 0.024 -->\n    <g style=\"fill: #262626\" transform=\"translate(547.434688 218.64425)scale(0.1 -0.1)\">\n     <use xlink:href=\"#DejaVuSans-30\"/>\n     <use xlink:href=\"#DejaVuSans-2e\" x=\"63.623047\"/>\n     <use xlink:href=\"#DejaVuSans-30\" x=\"95.410156\"/>\n     <use xlink:href=\"#DejaVuSans-32\" x=\"159.033203\"/>\n     <use xlink:href=\"#DejaVuSans-34\" x=\"222.65625\"/>\n    </g>\n   </g>\n   <g id=\"text_121\">\n    <!-- 0.033 -->\n    <g style=\"fill: #262626\" transform=\"translate(582.154688 218.64425)scale(0.1 -0.1)\">\n     <use xlink:href=\"#DejaVuSans-30\"/>\n     <use xlink:href=\"#DejaVuSans-2e\" x=\"63.623047\"/>\n     <use xlink:href=\"#DejaVuSans-30\" x=\"95.410156\"/>\n     <use xlink:href=\"#DejaVuSans-33\" x=\"159.033203\"/>\n     <use xlink:href=\"#DejaVuSans-33\" x=\"222.65625\"/>\n    </g>\n   </g>\n   <g id=\"text_122\">\n    <!-- -0.013 -->\n    <g style=\"fill: #ffffff\" transform=\"translate(615.070781 218.64425)scale(0.1 -0.1)\">\n     <use xlink:href=\"#DejaVuSans-2d\"/>\n     <use xlink:href=\"#DejaVuSans-30\" x=\"36.083984\"/>\n     <use xlink:href=\"#DejaVuSans-2e\" x=\"99.707031\"/>\n     <use xlink:href=\"#DejaVuSans-30\" x=\"131.494141\"/>\n     <use xlink:href=\"#DejaVuSans-31\" x=\"195.117188\"/>\n     <use xlink:href=\"#DejaVuSans-33\" x=\"258.740234\"/>\n    </g>\n   </g>\n   <g id=\"text_123\">\n    <!-- -0.013 -->\n    <g style=\"fill: #ffffff\" transform=\"translate(649.790781 218.64425)scale(0.1 -0.1)\">\n     <use xlink:href=\"#DejaVuSans-2d\"/>\n     <use xlink:href=\"#DejaVuSans-30\" x=\"36.083984\"/>\n     <use xlink:href=\"#DejaVuSans-2e\" x=\"99.707031\"/>\n     <use xlink:href=\"#DejaVuSans-30\" x=\"131.494141\"/>\n     <use xlink:href=\"#DejaVuSans-31\" x=\"195.117188\"/>\n     <use xlink:href=\"#DejaVuSans-33\" x=\"258.740234\"/>\n    </g>\n   </g>\n   <g id=\"text_124\">\n    <!-- 0.031 -->\n    <g style=\"fill: #262626\" transform=\"translate(686.314688 218.64425)scale(0.1 -0.1)\">\n     <use xlink:href=\"#DejaVuSans-30\"/>\n     <use xlink:href=\"#DejaVuSans-2e\" x=\"63.623047\"/>\n     <use xlink:href=\"#DejaVuSans-30\" x=\"95.410156\"/>\n     <use xlink:href=\"#DejaVuSans-33\" x=\"159.033203\"/>\n     <use xlink:href=\"#DejaVuSans-31\" x=\"222.65625\"/>\n    </g>\n   </g>\n   <g id=\"text_125\">\n    <!-- -0.014 -->\n    <g style=\"fill: #ffffff\" transform=\"translate(719.230781 218.64425)scale(0.1 -0.1)\">\n     <use xlink:href=\"#DejaVuSans-2d\"/>\n     <use xlink:href=\"#DejaVuSans-30\" x=\"36.083984\"/>\n     <use xlink:href=\"#DejaVuSans-2e\" x=\"99.707031\"/>\n     <use xlink:href=\"#DejaVuSans-30\" x=\"131.494141\"/>\n     <use xlink:href=\"#DejaVuSans-31\" x=\"195.117188\"/>\n     <use xlink:href=\"#DejaVuSans-34\" x=\"258.740234\"/>\n    </g>\n   </g>\n   <g id=\"text_126\">\n    <!-- -0.007 -->\n    <g style=\"fill: #ffffff\" transform=\"translate(753.950781 218.64425)scale(0.1 -0.1)\">\n     <use xlink:href=\"#DejaVuSans-2d\"/>\n     <use xlink:href=\"#DejaVuSans-30\" x=\"36.083984\"/>\n     <use xlink:href=\"#DejaVuSans-2e\" x=\"99.707031\"/>\n     <use xlink:href=\"#DejaVuSans-30\" x=\"131.494141\"/>\n     <use xlink:href=\"#DejaVuSans-30\" x=\"195.117188\"/>\n     <use xlink:href=\"#DejaVuSans-37\" x=\"258.740234\"/>\n    </g>\n   </g>\n   <g id=\"text_127\">\n    <!-- 0.003 -->\n    <g style=\"fill: #ffffff\" transform=\"translate(165.514688 253.36425)scale(0.1 -0.1)\">\n     <use xlink:href=\"#DejaVuSans-30\"/>\n     <use xlink:href=\"#DejaVuSans-2e\" x=\"63.623047\"/>\n     <use xlink:href=\"#DejaVuSans-30\" x=\"95.410156\"/>\n     <use xlink:href=\"#DejaVuSans-30\" x=\"159.033203\"/>\n     <use xlink:href=\"#DejaVuSans-33\" x=\"222.65625\"/>\n    </g>\n   </g>\n   <g id=\"text_128\">\n    <!-- -0.04 -->\n    <g style=\"fill: #ffffff\" transform=\"translate(201.612031 253.36425)scale(0.1 -0.1)\">\n     <use xlink:href=\"#DejaVuSans-2d\"/>\n     <use xlink:href=\"#DejaVuSans-30\" x=\"36.083984\"/>\n     <use xlink:href=\"#DejaVuSans-2e\" x=\"99.707031\"/>\n     <use xlink:href=\"#DejaVuSans-30\" x=\"131.494141\"/>\n     <use xlink:href=\"#DejaVuSans-34\" x=\"195.117188\"/>\n    </g>\n   </g>\n   <g id=\"text_129\">\n    <!-- 0.0021 -->\n    <g style=\"fill: #ffffff\" transform=\"translate(231.773438 253.36425)scale(0.1 -0.1)\">\n     <use xlink:href=\"#DejaVuSans-30\"/>\n     <use xlink:href=\"#DejaVuSans-2e\" x=\"63.623047\"/>\n     <use xlink:href=\"#DejaVuSans-30\" x=\"95.410156\"/>\n     <use xlink:href=\"#DejaVuSans-30\" x=\"159.033203\"/>\n     <use xlink:href=\"#DejaVuSans-32\" x=\"222.65625\"/>\n     <use xlink:href=\"#DejaVuSans-31\" x=\"286.279297\"/>\n    </g>\n   </g>\n   <g id=\"text_130\">\n    <!-- -0.5 -->\n    <g style=\"fill: #ffffff\" transform=\"translate(274.233281 253.36425)scale(0.1 -0.1)\">\n     <use xlink:href=\"#DejaVuSans-2d\"/>\n     <use xlink:href=\"#DejaVuSans-30\" x=\"36.083984\"/>\n     <use xlink:href=\"#DejaVuSans-2e\" x=\"99.707031\"/>\n     <use xlink:href=\"#DejaVuSans-35\" x=\"131.494141\"/>\n    </g>\n   </g>\n   <g id=\"text_131\">\n    <!-- -0.052 -->\n    <g style=\"fill: #ffffff\" transform=\"translate(302.590781 253.36425)scale(0.1 -0.1)\">\n     <use xlink:href=\"#DejaVuSans-2d\"/>\n     <use xlink:href=\"#DejaVuSans-30\" x=\"36.083984\"/>\n     <use xlink:href=\"#DejaVuSans-2e\" x=\"99.707031\"/>\n     <use xlink:href=\"#DejaVuSans-30\" x=\"131.494141\"/>\n     <use xlink:href=\"#DejaVuSans-35\" x=\"195.117188\"/>\n     <use xlink:href=\"#DejaVuSans-32\" x=\"258.740234\"/>\n    </g>\n   </g>\n   <g id=\"text_132\">\n    <!-- 1 -->\n    <g style=\"fill: #ffffff\" transform=\"translate(350.2475 253.36425)scale(0.1 -0.1)\">\n     <use xlink:href=\"#DejaVuSans-31\"/>\n    </g>\n   </g>\n   <g id=\"text_133\">\n    <!-- -0.024 -->\n    <g style=\"fill: #ffffff\" transform=\"translate(372.030781 253.36425)scale(0.1 -0.1)\">\n     <use xlink:href=\"#DejaVuSans-2d\"/>\n     <use xlink:href=\"#DejaVuSans-30\" x=\"36.083984\"/>\n     <use xlink:href=\"#DejaVuSans-2e\" x=\"99.707031\"/>\n     <use xlink:href=\"#DejaVuSans-30\" x=\"131.494141\"/>\n     <use xlink:href=\"#DejaVuSans-32\" x=\"195.117188\"/>\n     <use xlink:href=\"#DejaVuSans-34\" x=\"258.740234\"/>\n    </g>\n   </g>\n   <g id=\"text_134\">\n    <!-- 0.5 -->\n    <g style=\"fill: #262626\" transform=\"translate(414.917188 253.36425)scale(0.1 -0.1)\">\n     <use xlink:href=\"#DejaVuSans-30\"/>\n     <use xlink:href=\"#DejaVuSans-2e\" x=\"63.623047\"/>\n     <use xlink:href=\"#DejaVuSans-35\" x=\"95.410156\"/>\n    </g>\n   </g>\n   <g id=\"text_135\">\n    <!-- -0.001 -->\n    <g style=\"fill: #ffffff\" transform=\"translate(441.470781 253.36425)scale(0.1 -0.1)\">\n     <use xlink:href=\"#DejaVuSans-2d\"/>\n     <use xlink:href=\"#DejaVuSans-30\" x=\"36.083984\"/>\n     <use xlink:href=\"#DejaVuSans-2e\" x=\"99.707031\"/>\n     <use xlink:href=\"#DejaVuSans-30\" x=\"131.494141\"/>\n     <use xlink:href=\"#DejaVuSans-30\" x=\"195.117188\"/>\n     <use xlink:href=\"#DejaVuSans-31\" x=\"258.740234\"/>\n    </g>\n   </g>\n   <g id=\"text_136\">\n    <!-- -0.019 -->\n    <g style=\"fill: #ffffff\" transform=\"translate(476.190781 253.36425)scale(0.1 -0.1)\">\n     <use xlink:href=\"#DejaVuSans-2d\"/>\n     <use xlink:href=\"#DejaVuSans-30\" x=\"36.083984\"/>\n     <use xlink:href=\"#DejaVuSans-2e\" x=\"99.707031\"/>\n     <use xlink:href=\"#DejaVuSans-30\" x=\"131.494141\"/>\n     <use xlink:href=\"#DejaVuSans-31\" x=\"195.117188\"/>\n     <use xlink:href=\"#DejaVuSans-39\" x=\"258.740234\"/>\n    </g>\n   </g>\n   <g id=\"text_137\">\n    <!-- 0.0025 -->\n    <g style=\"fill: #ffffff\" transform=\"translate(509.533438 253.36425)scale(0.1 -0.1)\">\n     <use xlink:href=\"#DejaVuSans-30\"/>\n     <use xlink:href=\"#DejaVuSans-2e\" x=\"63.623047\"/>\n     <use xlink:href=\"#DejaVuSans-30\" x=\"95.410156\"/>\n     <use xlink:href=\"#DejaVuSans-30\" x=\"159.033203\"/>\n     <use xlink:href=\"#DejaVuSans-32\" x=\"222.65625\"/>\n     <use xlink:href=\"#DejaVuSans-35\" x=\"286.279297\"/>\n    </g>\n   </g>\n   <g id=\"text_138\">\n    <!-- -0.0027 -->\n    <g style=\"fill: #ffffff\" transform=\"translate(542.449531 253.36425)scale(0.1 -0.1)\">\n     <use xlink:href=\"#DejaVuSans-2d\"/>\n     <use xlink:href=\"#DejaVuSans-30\" x=\"36.083984\"/>\n     <use xlink:href=\"#DejaVuSans-2e\" x=\"99.707031\"/>\n     <use xlink:href=\"#DejaVuSans-30\" x=\"131.494141\"/>\n     <use xlink:href=\"#DejaVuSans-30\" x=\"195.117188\"/>\n     <use xlink:href=\"#DejaVuSans-32\" x=\"258.740234\"/>\n     <use xlink:href=\"#DejaVuSans-37\" x=\"322.363281\"/>\n    </g>\n   </g>\n   <g id=\"text_139\">\n    <!-- -0.021 -->\n    <g style=\"fill: #ffffff\" transform=\"translate(580.350781 253.36425)scale(0.1 -0.1)\">\n     <use xlink:href=\"#DejaVuSans-2d\"/>\n     <use xlink:href=\"#DejaVuSans-30\" x=\"36.083984\"/>\n     <use xlink:href=\"#DejaVuSans-2e\" x=\"99.707031\"/>\n     <use xlink:href=\"#DejaVuSans-30\" x=\"131.494141\"/>\n     <use xlink:href=\"#DejaVuSans-32\" x=\"195.117188\"/>\n     <use xlink:href=\"#DejaVuSans-31\" x=\"258.740234\"/>\n    </g>\n   </g>\n   <g id=\"text_140\">\n    <!-- 0.00087 -->\n    <g style=\"fill: #ffffff\" transform=\"translate(610.512187 253.36425)scale(0.1 -0.1)\">\n     <use xlink:href=\"#DejaVuSans-30\"/>\n     <use xlink:href=\"#DejaVuSans-2e\" x=\"63.623047\"/>\n     <use xlink:href=\"#DejaVuSans-30\" x=\"95.410156\"/>\n     <use xlink:href=\"#DejaVuSans-30\" x=\"159.033203\"/>\n     <use xlink:href=\"#DejaVuSans-30\" x=\"222.65625\"/>\n     <use xlink:href=\"#DejaVuSans-38\" x=\"286.279297\"/>\n     <use xlink:href=\"#DejaVuSans-37\" x=\"349.902344\"/>\n    </g>\n   </g>\n   <g id=\"text_141\">\n    <!-- -0.0052 -->\n    <g style=\"fill: #ffffff\" transform=\"translate(646.609531 253.36425)scale(0.1 -0.1)\">\n     <use xlink:href=\"#DejaVuSans-2d\"/>\n     <use xlink:href=\"#DejaVuSans-30\" x=\"36.083984\"/>\n     <use xlink:href=\"#DejaVuSans-2e\" x=\"99.707031\"/>\n     <use xlink:href=\"#DejaVuSans-30\" x=\"131.494141\"/>\n     <use xlink:href=\"#DejaVuSans-30\" x=\"195.117188\"/>\n     <use xlink:href=\"#DejaVuSans-35\" x=\"258.740234\"/>\n     <use xlink:href=\"#DejaVuSans-32\" x=\"322.363281\"/>\n    </g>\n   </g>\n   <g id=\"text_142\">\n    <!-- 0.0039 -->\n    <g style=\"fill: #ffffff\" transform=\"translate(683.133438 253.36425)scale(0.1 -0.1)\">\n     <use xlink:href=\"#DejaVuSans-30\"/>\n     <use xlink:href=\"#DejaVuSans-2e\" x=\"63.623047\"/>\n     <use xlink:href=\"#DejaVuSans-30\" x=\"95.410156\"/>\n     <use xlink:href=\"#DejaVuSans-30\" x=\"159.033203\"/>\n     <use xlink:href=\"#DejaVuSans-33\" x=\"222.65625\"/>\n     <use xlink:href=\"#DejaVuSans-39\" x=\"286.279297\"/>\n    </g>\n   </g>\n   <g id=\"text_143\">\n    <!-- 0.0041 -->\n    <g style=\"fill: #ffffff\" transform=\"translate(717.853438 253.36425)scale(0.1 -0.1)\">\n     <use xlink:href=\"#DejaVuSans-30\"/>\n     <use xlink:href=\"#DejaVuSans-2e\" x=\"63.623047\"/>\n     <use xlink:href=\"#DejaVuSans-30\" x=\"95.410156\"/>\n     <use xlink:href=\"#DejaVuSans-30\" x=\"159.033203\"/>\n     <use xlink:href=\"#DejaVuSans-34\" x=\"222.65625\"/>\n     <use xlink:href=\"#DejaVuSans-31\" x=\"286.279297\"/>\n    </g>\n   </g>\n   <g id=\"text_144\">\n    <!-- -0.015 -->\n    <g style=\"fill: #ffffff\" transform=\"translate(753.950781 253.36425)scale(0.1 -0.1)\">\n     <use xlink:href=\"#DejaVuSans-2d\"/>\n     <use xlink:href=\"#DejaVuSans-30\" x=\"36.083984\"/>\n     <use xlink:href=\"#DejaVuSans-2e\" x=\"99.707031\"/>\n     <use xlink:href=\"#DejaVuSans-30\" x=\"131.494141\"/>\n     <use xlink:href=\"#DejaVuSans-31\" x=\"195.117188\"/>\n     <use xlink:href=\"#DejaVuSans-35\" x=\"258.740234\"/>\n    </g>\n   </g>\n   <g id=\"text_145\">\n    <!-- 0.0044 -->\n    <g style=\"fill: #ffffff\" transform=\"translate(162.333438 288.08425)scale(0.1 -0.1)\">\n     <use xlink:href=\"#DejaVuSans-30\"/>\n     <use xlink:href=\"#DejaVuSans-2e\" x=\"63.623047\"/>\n     <use xlink:href=\"#DejaVuSans-30\" x=\"95.410156\"/>\n     <use xlink:href=\"#DejaVuSans-30\" x=\"159.033203\"/>\n     <use xlink:href=\"#DejaVuSans-34\" x=\"222.65625\"/>\n     <use xlink:href=\"#DejaVuSans-34\" x=\"286.279297\"/>\n    </g>\n   </g>\n   <g id=\"text_146\">\n    <!-- 0.12 -->\n    <g style=\"fill: #262626\" transform=\"translate(203.415938 288.08425)scale(0.1 -0.1)\">\n     <use xlink:href=\"#DejaVuSans-30\"/>\n     <use xlink:href=\"#DejaVuSans-2e\" x=\"63.623047\"/>\n     <use xlink:href=\"#DejaVuSans-31\" x=\"95.410156\"/>\n     <use xlink:href=\"#DejaVuSans-32\" x=\"159.033203\"/>\n    </g>\n   </g>\n   <g id=\"text_147\">\n    <!-- -0.016 -->\n    <g style=\"fill: #ffffff\" transform=\"translate(233.150781 288.08425)scale(0.1 -0.1)\">\n     <use xlink:href=\"#DejaVuSans-2d\"/>\n     <use xlink:href=\"#DejaVuSans-30\" x=\"36.083984\"/>\n     <use xlink:href=\"#DejaVuSans-2e\" x=\"99.707031\"/>\n     <use xlink:href=\"#DejaVuSans-30\" x=\"131.494141\"/>\n     <use xlink:href=\"#DejaVuSans-31\" x=\"195.117188\"/>\n     <use xlink:href=\"#DejaVuSans-36\" x=\"258.740234\"/>\n    </g>\n   </g>\n   <g id=\"text_148\">\n    <!-- -0.012 -->\n    <g style=\"fill: #ffffff\" transform=\"translate(267.870781 288.08425)scale(0.1 -0.1)\">\n     <use xlink:href=\"#DejaVuSans-2d\"/>\n     <use xlink:href=\"#DejaVuSans-30\" x=\"36.083984\"/>\n     <use xlink:href=\"#DejaVuSans-2e\" x=\"99.707031\"/>\n     <use xlink:href=\"#DejaVuSans-30\" x=\"131.494141\"/>\n     <use xlink:href=\"#DejaVuSans-31\" x=\"195.117188\"/>\n     <use xlink:href=\"#DejaVuSans-32\" x=\"258.740234\"/>\n    </g>\n   </g>\n   <g id=\"text_149\">\n    <!-- -0.021 -->\n    <g style=\"fill: #ffffff\" transform=\"translate(302.590781 288.08425)scale(0.1 -0.1)\">\n     <use xlink:href=\"#DejaVuSans-2d\"/>\n     <use xlink:href=\"#DejaVuSans-30\" x=\"36.083984\"/>\n     <use xlink:href=\"#DejaVuSans-2e\" x=\"99.707031\"/>\n     <use xlink:href=\"#DejaVuSans-30\" x=\"131.494141\"/>\n     <use xlink:href=\"#DejaVuSans-32\" x=\"195.117188\"/>\n     <use xlink:href=\"#DejaVuSans-31\" x=\"258.740234\"/>\n    </g>\n   </g>\n   <g id=\"text_150\">\n    <!-- -0.024 -->\n    <g style=\"fill: #ffffff\" transform=\"translate(337.310781 288.08425)scale(0.1 -0.1)\">\n     <use xlink:href=\"#DejaVuSans-2d\"/>\n     <use xlink:href=\"#DejaVuSans-30\" x=\"36.083984\"/>\n     <use xlink:href=\"#DejaVuSans-2e\" x=\"99.707031\"/>\n     <use xlink:href=\"#DejaVuSans-30\" x=\"131.494141\"/>\n     <use xlink:href=\"#DejaVuSans-32\" x=\"195.117188\"/>\n     <use xlink:href=\"#DejaVuSans-34\" x=\"258.740234\"/>\n    </g>\n   </g>\n   <g id=\"text_151\">\n    <!-- 1 -->\n    <g style=\"fill: #ffffff\" transform=\"translate(384.9675 288.08425)scale(0.1 -0.1)\">\n     <use xlink:href=\"#DejaVuSans-31\"/>\n    </g>\n   </g>\n   <g id=\"text_152\">\n    <!-- 0.11 -->\n    <g style=\"fill: #262626\" transform=\"translate(411.735938 288.08425)scale(0.1 -0.1)\">\n     <use xlink:href=\"#DejaVuSans-30\"/>\n     <use xlink:href=\"#DejaVuSans-2e\" x=\"63.623047\"/>\n     <use xlink:href=\"#DejaVuSans-31\" x=\"95.410156\"/>\n     <use xlink:href=\"#DejaVuSans-31\" x=\"159.033203\"/>\n    </g>\n   </g>\n   <g id=\"text_153\">\n    <!-- -0.0073 -->\n    <g style=\"fill: #ffffff\" transform=\"translate(438.289531 288.08425)scale(0.1 -0.1)\">\n     <use xlink:href=\"#DejaVuSans-2d\"/>\n     <use xlink:href=\"#DejaVuSans-30\" x=\"36.083984\"/>\n     <use xlink:href=\"#DejaVuSans-2e\" x=\"99.707031\"/>\n     <use xlink:href=\"#DejaVuSans-30\" x=\"131.494141\"/>\n     <use xlink:href=\"#DejaVuSans-30\" x=\"195.117188\"/>\n     <use xlink:href=\"#DejaVuSans-37\" x=\"258.740234\"/>\n     <use xlink:href=\"#DejaVuSans-33\" x=\"322.363281\"/>\n    </g>\n   </g>\n   <g id=\"text_154\">\n    <!-- 0.017 -->\n    <g style=\"fill: #ffffff\" transform=\"translate(477.994688 288.08425)scale(0.1 -0.1)\">\n     <use xlink:href=\"#DejaVuSans-30\"/>\n     <use xlink:href=\"#DejaVuSans-2e\" x=\"63.623047\"/>\n     <use xlink:href=\"#DejaVuSans-30\" x=\"95.410156\"/>\n     <use xlink:href=\"#DejaVuSans-31\" x=\"159.033203\"/>\n     <use xlink:href=\"#DejaVuSans-37\" x=\"222.65625\"/>\n    </g>\n   </g>\n   <g id=\"text_155\">\n    <!-- -0.017 -->\n    <g style=\"fill: #ffffff\" transform=\"translate(510.910781 288.08425)scale(0.1 -0.1)\">\n     <use xlink:href=\"#DejaVuSans-2d\"/>\n     <use xlink:href=\"#DejaVuSans-30\" x=\"36.083984\"/>\n     <use xlink:href=\"#DejaVuSans-2e\" x=\"99.707031\"/>\n     <use xlink:href=\"#DejaVuSans-30\" x=\"131.494141\"/>\n     <use xlink:href=\"#DejaVuSans-31\" x=\"195.117188\"/>\n     <use xlink:href=\"#DejaVuSans-37\" x=\"258.740234\"/>\n    </g>\n   </g>\n   <g id=\"text_156\">\n    <!-- 0.024 -->\n    <g style=\"fill: #262626\" transform=\"translate(547.434688 288.08425)scale(0.1 -0.1)\">\n     <use xlink:href=\"#DejaVuSans-30\"/>\n     <use xlink:href=\"#DejaVuSans-2e\" x=\"63.623047\"/>\n     <use xlink:href=\"#DejaVuSans-30\" x=\"95.410156\"/>\n     <use xlink:href=\"#DejaVuSans-32\" x=\"159.033203\"/>\n     <use xlink:href=\"#DejaVuSans-34\" x=\"222.65625\"/>\n    </g>\n   </g>\n   <g id=\"text_157\">\n    <!-- 0.018 -->\n    <g style=\"fill: #ffffff\" transform=\"translate(582.154688 288.08425)scale(0.1 -0.1)\">\n     <use xlink:href=\"#DejaVuSans-30\"/>\n     <use xlink:href=\"#DejaVuSans-2e\" x=\"63.623047\"/>\n     <use xlink:href=\"#DejaVuSans-30\" x=\"95.410156\"/>\n     <use xlink:href=\"#DejaVuSans-31\" x=\"159.033203\"/>\n     <use xlink:href=\"#DejaVuSans-38\" x=\"222.65625\"/>\n    </g>\n   </g>\n   <g id=\"text_158\">\n    <!-- -0.018 -->\n    <g style=\"fill: #ffffff\" transform=\"translate(615.070781 288.08425)scale(0.1 -0.1)\">\n     <use xlink:href=\"#DejaVuSans-2d\"/>\n     <use xlink:href=\"#DejaVuSans-30\" x=\"36.083984\"/>\n     <use xlink:href=\"#DejaVuSans-2e\" x=\"99.707031\"/>\n     <use xlink:href=\"#DejaVuSans-30\" x=\"131.494141\"/>\n     <use xlink:href=\"#DejaVuSans-31\" x=\"195.117188\"/>\n     <use xlink:href=\"#DejaVuSans-38\" x=\"258.740234\"/>\n    </g>\n   </g>\n   <g id=\"text_159\">\n    <!-- -0.0053 -->\n    <g style=\"fill: #ffffff\" transform=\"translate(646.609531 288.08425)scale(0.1 -0.1)\">\n     <use xlink:href=\"#DejaVuSans-2d\"/>\n     <use xlink:href=\"#DejaVuSans-30\" x=\"36.083984\"/>\n     <use xlink:href=\"#DejaVuSans-2e\" x=\"99.707031\"/>\n     <use xlink:href=\"#DejaVuSans-30\" x=\"131.494141\"/>\n     <use xlink:href=\"#DejaVuSans-30\" x=\"195.117188\"/>\n     <use xlink:href=\"#DejaVuSans-35\" x=\"258.740234\"/>\n     <use xlink:href=\"#DejaVuSans-33\" x=\"322.363281\"/>\n    </g>\n   </g>\n   <g id=\"text_160\">\n    <!-- 0.012 -->\n    <g style=\"fill: #ffffff\" transform=\"translate(686.314688 288.08425)scale(0.1 -0.1)\">\n     <use xlink:href=\"#DejaVuSans-30\"/>\n     <use xlink:href=\"#DejaVuSans-2e\" x=\"63.623047\"/>\n     <use xlink:href=\"#DejaVuSans-30\" x=\"95.410156\"/>\n     <use xlink:href=\"#DejaVuSans-31\" x=\"159.033203\"/>\n     <use xlink:href=\"#DejaVuSans-32\" x=\"222.65625\"/>\n    </g>\n   </g>\n   <g id=\"text_161\">\n    <!-- -0.017 -->\n    <g style=\"fill: #ffffff\" transform=\"translate(719.230781 288.08425)scale(0.1 -0.1)\">\n     <use xlink:href=\"#DejaVuSans-2d\"/>\n     <use xlink:href=\"#DejaVuSans-30\" x=\"36.083984\"/>\n     <use xlink:href=\"#DejaVuSans-2e\" x=\"99.707031\"/>\n     <use xlink:href=\"#DejaVuSans-30\" x=\"131.494141\"/>\n     <use xlink:href=\"#DejaVuSans-31\" x=\"195.117188\"/>\n     <use xlink:href=\"#DejaVuSans-37\" x=\"258.740234\"/>\n    </g>\n   </g>\n   <g id=\"text_162\">\n    <!-- -0.041 -->\n    <g style=\"fill: #ffffff\" transform=\"translate(753.950781 288.08425)scale(0.1 -0.1)\">\n     <use xlink:href=\"#DejaVuSans-2d\"/>\n     <use xlink:href=\"#DejaVuSans-30\" x=\"36.083984\"/>\n     <use xlink:href=\"#DejaVuSans-2e\" x=\"99.707031\"/>\n     <use xlink:href=\"#DejaVuSans-30\" x=\"131.494141\"/>\n     <use xlink:href=\"#DejaVuSans-34\" x=\"195.117188\"/>\n     <use xlink:href=\"#DejaVuSans-31\" x=\"258.740234\"/>\n    </g>\n   </g>\n   <g id=\"text_163\">\n    <!-- 0.0056 -->\n    <g style=\"fill: #ffffff\" transform=\"translate(162.333438 322.80425)scale(0.1 -0.1)\">\n     <use xlink:href=\"#DejaVuSans-30\"/>\n     <use xlink:href=\"#DejaVuSans-2e\" x=\"63.623047\"/>\n     <use xlink:href=\"#DejaVuSans-30\" x=\"95.410156\"/>\n     <use xlink:href=\"#DejaVuSans-30\" x=\"159.033203\"/>\n     <use xlink:href=\"#DejaVuSans-35\" x=\"222.65625\"/>\n     <use xlink:href=\"#DejaVuSans-36\" x=\"286.279297\"/>\n    </g>\n   </g>\n   <g id=\"text_164\">\n    <!-- -0.1 -->\n    <g style=\"fill: #ffffff\" transform=\"translate(204.793281 322.80425)scale(0.1 -0.1)\">\n     <use xlink:href=\"#DejaVuSans-2d\"/>\n     <use xlink:href=\"#DejaVuSans-30\" x=\"36.083984\"/>\n     <use xlink:href=\"#DejaVuSans-2e\" x=\"99.707031\"/>\n     <use xlink:href=\"#DejaVuSans-31\" x=\"131.494141\"/>\n    </g>\n   </g>\n   <g id=\"text_165\">\n    <!-- -0.0032 -->\n    <g style=\"fill: #ffffff\" transform=\"translate(229.969531 322.80425)scale(0.1 -0.1)\">\n     <use xlink:href=\"#DejaVuSans-2d\"/>\n     <use xlink:href=\"#DejaVuSans-30\" x=\"36.083984\"/>\n     <use xlink:href=\"#DejaVuSans-2e\" x=\"99.707031\"/>\n     <use xlink:href=\"#DejaVuSans-30\" x=\"131.494141\"/>\n     <use xlink:href=\"#DejaVuSans-30\" x=\"195.117188\"/>\n     <use xlink:href=\"#DejaVuSans-33\" x=\"258.740234\"/>\n     <use xlink:href=\"#DejaVuSans-32\" x=\"322.363281\"/>\n    </g>\n   </g>\n   <g id=\"text_166\">\n    <!-- -0.49 -->\n    <g style=\"fill: #ffffff\" transform=\"translate(271.052031 322.80425)scale(0.1 -0.1)\">\n     <use xlink:href=\"#DejaVuSans-2d\"/>\n     <use xlink:href=\"#DejaVuSans-30\" x=\"36.083984\"/>\n     <use xlink:href=\"#DejaVuSans-2e\" x=\"99.707031\"/>\n     <use xlink:href=\"#DejaVuSans-34\" x=\"131.494141\"/>\n     <use xlink:href=\"#DejaVuSans-39\" x=\"195.117188\"/>\n    </g>\n   </g>\n   <g id=\"text_167\">\n    <!-- -0.14 -->\n    <g style=\"fill: #ffffff\" transform=\"translate(305.772031 322.80425)scale(0.1 -0.1)\">\n     <use xlink:href=\"#DejaVuSans-2d\"/>\n     <use xlink:href=\"#DejaVuSans-30\" x=\"36.083984\"/>\n     <use xlink:href=\"#DejaVuSans-2e\" x=\"99.707031\"/>\n     <use xlink:href=\"#DejaVuSans-31\" x=\"131.494141\"/>\n     <use xlink:href=\"#DejaVuSans-34\" x=\"195.117188\"/>\n    </g>\n   </g>\n   <g id=\"text_168\">\n    <!-- 0.5 -->\n    <g style=\"fill: #262626\" transform=\"translate(345.477188 322.80425)scale(0.1 -0.1)\">\n     <use xlink:href=\"#DejaVuSans-30\"/>\n     <use xlink:href=\"#DejaVuSans-2e\" x=\"63.623047\"/>\n     <use xlink:href=\"#DejaVuSans-35\" x=\"95.410156\"/>\n    </g>\n   </g>\n   <g id=\"text_169\">\n    <!-- 0.11 -->\n    <g style=\"fill: #262626\" transform=\"translate(377.015938 322.80425)scale(0.1 -0.1)\">\n     <use xlink:href=\"#DejaVuSans-30\"/>\n     <use xlink:href=\"#DejaVuSans-2e\" x=\"63.623047\"/>\n     <use xlink:href=\"#DejaVuSans-31\" x=\"95.410156\"/>\n     <use xlink:href=\"#DejaVuSans-31\" x=\"159.033203\"/>\n    </g>\n   </g>\n   <g id=\"text_170\">\n    <!-- 1 -->\n    <g style=\"fill: #ffffff\" transform=\"translate(419.6875 322.80425)scale(0.1 -0.1)\">\n     <use xlink:href=\"#DejaVuSans-31\"/>\n    </g>\n   </g>\n   <g id=\"text_171\">\n    <!-- 0.011 -->\n    <g style=\"fill: #ffffff\" transform=\"translate(443.274688 322.80425)scale(0.1 -0.1)\">\n     <use xlink:href=\"#DejaVuSans-30\"/>\n     <use xlink:href=\"#DejaVuSans-2e\" x=\"63.623047\"/>\n     <use xlink:href=\"#DejaVuSans-30\" x=\"95.410156\"/>\n     <use xlink:href=\"#DejaVuSans-31\" x=\"159.033203\"/>\n     <use xlink:href=\"#DejaVuSans-31\" x=\"222.65625\"/>\n    </g>\n   </g>\n   <g id=\"text_172\">\n    <!-- 0.0052 -->\n    <g style=\"fill: #ffffff\" transform=\"translate(474.813438 322.80425)scale(0.1 -0.1)\">\n     <use xlink:href=\"#DejaVuSans-30\"/>\n     <use xlink:href=\"#DejaVuSans-2e\" x=\"63.623047\"/>\n     <use xlink:href=\"#DejaVuSans-30\" x=\"95.410156\"/>\n     <use xlink:href=\"#DejaVuSans-30\" x=\"159.033203\"/>\n     <use xlink:href=\"#DejaVuSans-35\" x=\"222.65625\"/>\n     <use xlink:href=\"#DejaVuSans-32\" x=\"286.279297\"/>\n    </g>\n   </g>\n   <g id=\"text_173\">\n    <!-- -0.0022 -->\n    <g style=\"fill: #ffffff\" transform=\"translate(507.729531 322.80425)scale(0.1 -0.1)\">\n     <use xlink:href=\"#DejaVuSans-2d\"/>\n     <use xlink:href=\"#DejaVuSans-30\" x=\"36.083984\"/>\n     <use xlink:href=\"#DejaVuSans-2e\" x=\"99.707031\"/>\n     <use xlink:href=\"#DejaVuSans-30\" x=\"131.494141\"/>\n     <use xlink:href=\"#DejaVuSans-30\" x=\"195.117188\"/>\n     <use xlink:href=\"#DejaVuSans-32\" x=\"258.740234\"/>\n     <use xlink:href=\"#DejaVuSans-32\" x=\"322.363281\"/>\n    </g>\n   </g>\n   <g id=\"text_174\">\n    <!-- -0.018 -->\n    <g style=\"fill: #ffffff\" transform=\"translate(545.630781 322.80425)scale(0.1 -0.1)\">\n     <use xlink:href=\"#DejaVuSans-2d\"/>\n     <use xlink:href=\"#DejaVuSans-30\" x=\"36.083984\"/>\n     <use xlink:href=\"#DejaVuSans-2e\" x=\"99.707031\"/>\n     <use xlink:href=\"#DejaVuSans-30\" x=\"131.494141\"/>\n     <use xlink:href=\"#DejaVuSans-31\" x=\"195.117188\"/>\n     <use xlink:href=\"#DejaVuSans-38\" x=\"258.740234\"/>\n    </g>\n   </g>\n   <g id=\"text_175\">\n    <!-- 0.0031 -->\n    <g style=\"fill: #ffffff\" transform=\"translate(578.973438 322.80425)scale(0.1 -0.1)\">\n     <use xlink:href=\"#DejaVuSans-30\"/>\n     <use xlink:href=\"#DejaVuSans-2e\" x=\"63.623047\"/>\n     <use xlink:href=\"#DejaVuSans-30\" x=\"95.410156\"/>\n     <use xlink:href=\"#DejaVuSans-30\" x=\"159.033203\"/>\n     <use xlink:href=\"#DejaVuSans-33\" x=\"222.65625\"/>\n     <use xlink:href=\"#DejaVuSans-31\" x=\"286.279297\"/>\n    </g>\n   </g>\n   <g id=\"text_176\">\n    <!-- -0.0036 -->\n    <g style=\"fill: #ffffff\" transform=\"translate(611.889531 322.80425)scale(0.1 -0.1)\">\n     <use xlink:href=\"#DejaVuSans-2d\"/>\n     <use xlink:href=\"#DejaVuSans-30\" x=\"36.083984\"/>\n     <use xlink:href=\"#DejaVuSans-2e\" x=\"99.707031\"/>\n     <use xlink:href=\"#DejaVuSans-30\" x=\"131.494141\"/>\n     <use xlink:href=\"#DejaVuSans-30\" x=\"195.117188\"/>\n     <use xlink:href=\"#DejaVuSans-33\" x=\"258.740234\"/>\n     <use xlink:href=\"#DejaVuSans-36\" x=\"322.363281\"/>\n    </g>\n   </g>\n   <g id=\"text_177\">\n    <!-- -0.00089 -->\n    <g style=\"fill: #ffffff\" transform=\"translate(643.428281 322.80425)scale(0.1 -0.1)\">\n     <use xlink:href=\"#DejaVuSans-2d\"/>\n     <use xlink:href=\"#DejaVuSans-30\" x=\"36.083984\"/>\n     <use xlink:href=\"#DejaVuSans-2e\" x=\"99.707031\"/>\n     <use xlink:href=\"#DejaVuSans-30\" x=\"131.494141\"/>\n     <use xlink:href=\"#DejaVuSans-30\" x=\"195.117188\"/>\n     <use xlink:href=\"#DejaVuSans-30\" x=\"258.740234\"/>\n     <use xlink:href=\"#DejaVuSans-38\" x=\"322.363281\"/>\n     <use xlink:href=\"#DejaVuSans-39\" x=\"385.986328\"/>\n    </g>\n   </g>\n   <g id=\"text_178\">\n    <!-- 0.025 -->\n    <g style=\"fill: #262626\" transform=\"translate(686.314688 322.80425)scale(0.1 -0.1)\">\n     <use xlink:href=\"#DejaVuSans-30\"/>\n     <use xlink:href=\"#DejaVuSans-2e\" x=\"63.623047\"/>\n     <use xlink:href=\"#DejaVuSans-30\" x=\"95.410156\"/>\n     <use xlink:href=\"#DejaVuSans-32\" x=\"159.033203\"/>\n     <use xlink:href=\"#DejaVuSans-35\" x=\"222.65625\"/>\n    </g>\n   </g>\n   <g id=\"text_179\">\n    <!-- 0.0013 -->\n    <g style=\"fill: #ffffff\" transform=\"translate(717.853438 322.80425)scale(0.1 -0.1)\">\n     <use xlink:href=\"#DejaVuSans-30\"/>\n     <use xlink:href=\"#DejaVuSans-2e\" x=\"63.623047\"/>\n     <use xlink:href=\"#DejaVuSans-30\" x=\"95.410156\"/>\n     <use xlink:href=\"#DejaVuSans-30\" x=\"159.033203\"/>\n     <use xlink:href=\"#DejaVuSans-31\" x=\"222.65625\"/>\n     <use xlink:href=\"#DejaVuSans-33\" x=\"286.279297\"/>\n    </g>\n   </g>\n   <g id=\"text_180\">\n    <!-- 0.11 -->\n    <g style=\"fill: #262626\" transform=\"translate(758.935938 322.80425)scale(0.1 -0.1)\">\n     <use xlink:href=\"#DejaVuSans-30\"/>\n     <use xlink:href=\"#DejaVuSans-2e\" x=\"63.623047\"/>\n     <use xlink:href=\"#DejaVuSans-31\" x=\"95.410156\"/>\n     <use xlink:href=\"#DejaVuSans-31\" x=\"159.033203\"/>\n    </g>\n   </g>\n   <g id=\"text_181\">\n    <!-- 0.003 -->\n    <g style=\"fill: #ffffff\" transform=\"translate(165.514688 357.52425)scale(0.1 -0.1)\">\n     <use xlink:href=\"#DejaVuSans-30\"/>\n     <use xlink:href=\"#DejaVuSans-2e\" x=\"63.623047\"/>\n     <use xlink:href=\"#DejaVuSans-30\" x=\"95.410156\"/>\n     <use xlink:href=\"#DejaVuSans-30\" x=\"159.033203\"/>\n     <use xlink:href=\"#DejaVuSans-33\" x=\"222.65625\"/>\n    </g>\n   </g>\n   <g id=\"text_182\">\n    <!-- -0.012 -->\n    <g style=\"fill: #ffffff\" transform=\"translate(198.430781 357.52425)scale(0.1 -0.1)\">\n     <use xlink:href=\"#DejaVuSans-2d\"/>\n     <use xlink:href=\"#DejaVuSans-30\" x=\"36.083984\"/>\n     <use xlink:href=\"#DejaVuSans-2e\" x=\"99.707031\"/>\n     <use xlink:href=\"#DejaVuSans-30\" x=\"131.494141\"/>\n     <use xlink:href=\"#DejaVuSans-31\" x=\"195.117188\"/>\n     <use xlink:href=\"#DejaVuSans-32\" x=\"258.740234\"/>\n    </g>\n   </g>\n   <g id=\"text_183\">\n    <!-- 0.024 -->\n    <g style=\"fill: #262626\" transform=\"translate(234.954688 357.52425)scale(0.1 -0.1)\">\n     <use xlink:href=\"#DejaVuSans-30\"/>\n     <use xlink:href=\"#DejaVuSans-2e\" x=\"63.623047\"/>\n     <use xlink:href=\"#DejaVuSans-30\" x=\"95.410156\"/>\n     <use xlink:href=\"#DejaVuSans-32\" x=\"159.033203\"/>\n     <use xlink:href=\"#DejaVuSans-34\" x=\"222.65625\"/>\n    </g>\n   </g>\n   <g id=\"text_184\">\n    <!-- 0.0075 -->\n    <g style=\"fill: #ffffff\" transform=\"translate(266.493438 357.52425)scale(0.1 -0.1)\">\n     <use xlink:href=\"#DejaVuSans-30\"/>\n     <use xlink:href=\"#DejaVuSans-2e\" x=\"63.623047\"/>\n     <use xlink:href=\"#DejaVuSans-30\" x=\"95.410156\"/>\n     <use xlink:href=\"#DejaVuSans-30\" x=\"159.033203\"/>\n     <use xlink:href=\"#DejaVuSans-37\" x=\"222.65625\"/>\n     <use xlink:href=\"#DejaVuSans-35\" x=\"286.279297\"/>\n    </g>\n   </g>\n   <g id=\"text_185\">\n    <!-- 0.0084 -->\n    <g style=\"fill: #ffffff\" transform=\"translate(301.213437 357.52425)scale(0.1 -0.1)\">\n     <use xlink:href=\"#DejaVuSans-30\"/>\n     <use xlink:href=\"#DejaVuSans-2e\" x=\"63.623047\"/>\n     <use xlink:href=\"#DejaVuSans-30\" x=\"95.410156\"/>\n     <use xlink:href=\"#DejaVuSans-30\" x=\"159.033203\"/>\n     <use xlink:href=\"#DejaVuSans-38\" x=\"222.65625\"/>\n     <use xlink:href=\"#DejaVuSans-34\" x=\"286.279297\"/>\n    </g>\n   </g>\n   <g id=\"text_186\">\n    <!-- -0.001 -->\n    <g style=\"fill: #ffffff\" transform=\"translate(337.310781 357.52425)scale(0.1 -0.1)\">\n     <use xlink:href=\"#DejaVuSans-2d\"/>\n     <use xlink:href=\"#DejaVuSans-30\" x=\"36.083984\"/>\n     <use xlink:href=\"#DejaVuSans-2e\" x=\"99.707031\"/>\n     <use xlink:href=\"#DejaVuSans-30\" x=\"131.494141\"/>\n     <use xlink:href=\"#DejaVuSans-30\" x=\"195.117188\"/>\n     <use xlink:href=\"#DejaVuSans-31\" x=\"258.740234\"/>\n    </g>\n   </g>\n   <g id=\"text_187\">\n    <!-- -0.0073 -->\n    <g style=\"fill: #ffffff\" transform=\"translate(368.849531 357.52425)scale(0.1 -0.1)\">\n     <use xlink:href=\"#DejaVuSans-2d\"/>\n     <use xlink:href=\"#DejaVuSans-30\" x=\"36.083984\"/>\n     <use xlink:href=\"#DejaVuSans-2e\" x=\"99.707031\"/>\n     <use xlink:href=\"#DejaVuSans-30\" x=\"131.494141\"/>\n     <use xlink:href=\"#DejaVuSans-30\" x=\"195.117188\"/>\n     <use xlink:href=\"#DejaVuSans-37\" x=\"258.740234\"/>\n     <use xlink:href=\"#DejaVuSans-33\" x=\"322.363281\"/>\n    </g>\n   </g>\n   <g id=\"text_188\">\n    <!-- 0.011 -->\n    <g style=\"fill: #ffffff\" transform=\"translate(408.554688 357.52425)scale(0.1 -0.1)\">\n     <use xlink:href=\"#DejaVuSans-30\"/>\n     <use xlink:href=\"#DejaVuSans-2e\" x=\"63.623047\"/>\n     <use xlink:href=\"#DejaVuSans-30\" x=\"95.410156\"/>\n     <use xlink:href=\"#DejaVuSans-31\" x=\"159.033203\"/>\n     <use xlink:href=\"#DejaVuSans-31\" x=\"222.65625\"/>\n    </g>\n   </g>\n   <g id=\"text_189\">\n    <!-- 1 -->\n    <g style=\"fill: #ffffff\" transform=\"translate(454.4075 357.52425)scale(0.1 -0.1)\">\n     <use xlink:href=\"#DejaVuSans-31\"/>\n    </g>\n   </g>\n   <g id=\"text_190\">\n    <!-- -0.044 -->\n    <g style=\"fill: #ffffff\" transform=\"translate(476.190781 357.52425)scale(0.1 -0.1)\">\n     <use xlink:href=\"#DejaVuSans-2d\"/>\n     <use xlink:href=\"#DejaVuSans-30\" x=\"36.083984\"/>\n     <use xlink:href=\"#DejaVuSans-2e\" x=\"99.707031\"/>\n     <use xlink:href=\"#DejaVuSans-30\" x=\"131.494141\"/>\n     <use xlink:href=\"#DejaVuSans-34\" x=\"195.117188\"/>\n     <use xlink:href=\"#DejaVuSans-34\" x=\"258.740234\"/>\n    </g>\n   </g>\n   <g id=\"text_191\">\n    <!-- -0.016 -->\n    <g style=\"fill: #ffffff\" transform=\"translate(510.910781 357.52425)scale(0.1 -0.1)\">\n     <use xlink:href=\"#DejaVuSans-2d\"/>\n     <use xlink:href=\"#DejaVuSans-30\" x=\"36.083984\"/>\n     <use xlink:href=\"#DejaVuSans-2e\" x=\"99.707031\"/>\n     <use xlink:href=\"#DejaVuSans-30\" x=\"131.494141\"/>\n     <use xlink:href=\"#DejaVuSans-31\" x=\"195.117188\"/>\n     <use xlink:href=\"#DejaVuSans-36\" x=\"258.740234\"/>\n    </g>\n   </g>\n   <g id=\"text_192\">\n    <!-- 0.95 -->\n    <g style=\"fill: #ffffff\" transform=\"translate(550.615938 357.52425)scale(0.1 -0.1)\">\n     <use xlink:href=\"#DejaVuSans-30\"/>\n     <use xlink:href=\"#DejaVuSans-2e\" x=\"63.623047\"/>\n     <use xlink:href=\"#DejaVuSans-39\" x=\"95.410156\"/>\n     <use xlink:href=\"#DejaVuSans-35\" x=\"159.033203\"/>\n    </g>\n   </g>\n   <g id=\"text_193\">\n    <!-- -0.043 -->\n    <g style=\"fill: #ffffff\" transform=\"translate(580.350781 357.52425)scale(0.1 -0.1)\">\n     <use xlink:href=\"#DejaVuSans-2d\"/>\n     <use xlink:href=\"#DejaVuSans-30\" x=\"36.083984\"/>\n     <use xlink:href=\"#DejaVuSans-2e\" x=\"99.707031\"/>\n     <use xlink:href=\"#DejaVuSans-30\" x=\"131.494141\"/>\n     <use xlink:href=\"#DejaVuSans-34\" x=\"195.117188\"/>\n     <use xlink:href=\"#DejaVuSans-33\" x=\"258.740234\"/>\n    </g>\n   </g>\n   <g id=\"text_194\">\n    <!-- -0.014 -->\n    <g style=\"fill: #ffffff\" transform=\"translate(615.070781 357.52425)scale(0.1 -0.1)\">\n     <use xlink:href=\"#DejaVuSans-2d\"/>\n     <use xlink:href=\"#DejaVuSans-30\" x=\"36.083984\"/>\n     <use xlink:href=\"#DejaVuSans-2e\" x=\"99.707031\"/>\n     <use xlink:href=\"#DejaVuSans-30\" x=\"131.494141\"/>\n     <use xlink:href=\"#DejaVuSans-31\" x=\"195.117188\"/>\n     <use xlink:href=\"#DejaVuSans-34\" x=\"258.740234\"/>\n    </g>\n   </g>\n   <g id=\"text_195\">\n    <!-- -0.37 -->\n    <g style=\"fill: #ffffff\" transform=\"translate(652.972031 357.52425)scale(0.1 -0.1)\">\n     <use xlink:href=\"#DejaVuSans-2d\"/>\n     <use xlink:href=\"#DejaVuSans-30\" x=\"36.083984\"/>\n     <use xlink:href=\"#DejaVuSans-2e\" x=\"99.707031\"/>\n     <use xlink:href=\"#DejaVuSans-33\" x=\"131.494141\"/>\n     <use xlink:href=\"#DejaVuSans-37\" x=\"195.117188\"/>\n    </g>\n   </g>\n   <g id=\"text_196\">\n    <!-- 0.016 -->\n    <g style=\"fill: #ffffff\" transform=\"translate(686.314688 357.52425)scale(0.1 -0.1)\">\n     <use xlink:href=\"#DejaVuSans-30\"/>\n     <use xlink:href=\"#DejaVuSans-2e\" x=\"63.623047\"/>\n     <use xlink:href=\"#DejaVuSans-30\" x=\"95.410156\"/>\n     <use xlink:href=\"#DejaVuSans-31\" x=\"159.033203\"/>\n     <use xlink:href=\"#DejaVuSans-36\" x=\"222.65625\"/>\n    </g>\n   </g>\n   <g id=\"text_197\">\n    <!-- 0.028 -->\n    <g style=\"fill: #262626\" transform=\"translate(721.034688 357.52425)scale(0.1 -0.1)\">\n     <use xlink:href=\"#DejaVuSans-30\"/>\n     <use xlink:href=\"#DejaVuSans-2e\" x=\"63.623047\"/>\n     <use xlink:href=\"#DejaVuSans-30\" x=\"95.410156\"/>\n     <use xlink:href=\"#DejaVuSans-32\" x=\"159.033203\"/>\n     <use xlink:href=\"#DejaVuSans-38\" x=\"222.65625\"/>\n    </g>\n   </g>\n   <g id=\"text_198\">\n    <!-- 0.024 -->\n    <g style=\"fill: #262626\" transform=\"translate(755.754688 357.52425)scale(0.1 -0.1)\">\n     <use xlink:href=\"#DejaVuSans-30\"/>\n     <use xlink:href=\"#DejaVuSans-2e\" x=\"63.623047\"/>\n     <use xlink:href=\"#DejaVuSans-30\" x=\"95.410156\"/>\n     <use xlink:href=\"#DejaVuSans-32\" x=\"159.033203\"/>\n     <use xlink:href=\"#DejaVuSans-34\" x=\"222.65625\"/>\n    </g>\n   </g>\n   <g id=\"text_199\">\n    <!-- 0.0025 -->\n    <g style=\"fill: #ffffff\" transform=\"translate(162.333438 392.24425)scale(0.1 -0.1)\">\n     <use xlink:href=\"#DejaVuSans-30\"/>\n     <use xlink:href=\"#DejaVuSans-2e\" x=\"63.623047\"/>\n     <use xlink:href=\"#DejaVuSans-30\" x=\"95.410156\"/>\n     <use xlink:href=\"#DejaVuSans-30\" x=\"159.033203\"/>\n     <use xlink:href=\"#DejaVuSans-32\" x=\"222.65625\"/>\n     <use xlink:href=\"#DejaVuSans-35\" x=\"286.279297\"/>\n    </g>\n   </g>\n   <g id=\"text_200\">\n    <!-- 0.02 -->\n    <g style=\"fill: #ffffff\" transform=\"translate(203.415938 392.24425)scale(0.1 -0.1)\">\n     <use xlink:href=\"#DejaVuSans-30\"/>\n     <use xlink:href=\"#DejaVuSans-2e\" x=\"63.623047\"/>\n     <use xlink:href=\"#DejaVuSans-30\" x=\"95.410156\"/>\n     <use xlink:href=\"#DejaVuSans-32\" x=\"159.033203\"/>\n    </g>\n   </g>\n   <g id=\"text_201\">\n    <!-- -0.44 -->\n    <g style=\"fill: #ffffff\" transform=\"translate(236.332031 392.24425)scale(0.1 -0.1)\">\n     <use xlink:href=\"#DejaVuSans-2d\"/>\n     <use xlink:href=\"#DejaVuSans-30\" x=\"36.083984\"/>\n     <use xlink:href=\"#DejaVuSans-2e\" x=\"99.707031\"/>\n     <use xlink:href=\"#DejaVuSans-34\" x=\"131.494141\"/>\n     <use xlink:href=\"#DejaVuSans-34\" x=\"195.117188\"/>\n    </g>\n   </g>\n   <g id=\"text_202\">\n    <!-- -0.00024 -->\n    <g style=\"fill: #ffffff\" transform=\"translate(261.508281 392.24425)scale(0.1 -0.1)\">\n     <use xlink:href=\"#DejaVuSans-2d\"/>\n     <use xlink:href=\"#DejaVuSans-30\" x=\"36.083984\"/>\n     <use xlink:href=\"#DejaVuSans-2e\" x=\"99.707031\"/>\n     <use xlink:href=\"#DejaVuSans-30\" x=\"131.494141\"/>\n     <use xlink:href=\"#DejaVuSans-30\" x=\"195.117188\"/>\n     <use xlink:href=\"#DejaVuSans-30\" x=\"258.740234\"/>\n     <use xlink:href=\"#DejaVuSans-32\" x=\"322.363281\"/>\n     <use xlink:href=\"#DejaVuSans-34\" x=\"385.986328\"/>\n    </g>\n   </g>\n   <g id=\"text_203\">\n    <!-- 0.032 -->\n    <g style=\"fill: #262626\" transform=\"translate(304.394688 392.24425)scale(0.1 -0.1)\">\n     <use xlink:href=\"#DejaVuSans-30\"/>\n     <use xlink:href=\"#DejaVuSans-2e\" x=\"63.623047\"/>\n     <use xlink:href=\"#DejaVuSans-30\" x=\"95.410156\"/>\n     <use xlink:href=\"#DejaVuSans-33\" x=\"159.033203\"/>\n     <use xlink:href=\"#DejaVuSans-32\" x=\"222.65625\"/>\n    </g>\n   </g>\n   <g id=\"text_204\">\n    <!-- -0.019 -->\n    <g style=\"fill: #ffffff\" transform=\"translate(337.310781 392.24425)scale(0.1 -0.1)\">\n     <use xlink:href=\"#DejaVuSans-2d\"/>\n     <use xlink:href=\"#DejaVuSans-30\" x=\"36.083984\"/>\n     <use xlink:href=\"#DejaVuSans-2e\" x=\"99.707031\"/>\n     <use xlink:href=\"#DejaVuSans-30\" x=\"131.494141\"/>\n     <use xlink:href=\"#DejaVuSans-31\" x=\"195.117188\"/>\n     <use xlink:href=\"#DejaVuSans-39\" x=\"258.740234\"/>\n    </g>\n   </g>\n   <g id=\"text_205\">\n    <!-- 0.017 -->\n    <g style=\"fill: #ffffff\" transform=\"translate(373.834688 392.24425)scale(0.1 -0.1)\">\n     <use xlink:href=\"#DejaVuSans-30\"/>\n     <use xlink:href=\"#DejaVuSans-2e\" x=\"63.623047\"/>\n     <use xlink:href=\"#DejaVuSans-30\" x=\"95.410156\"/>\n     <use xlink:href=\"#DejaVuSans-31\" x=\"159.033203\"/>\n     <use xlink:href=\"#DejaVuSans-37\" x=\"222.65625\"/>\n    </g>\n   </g>\n   <g id=\"text_206\">\n    <!-- 0.0052 -->\n    <g style=\"fill: #ffffff\" transform=\"translate(405.373438 392.24425)scale(0.1 -0.1)\">\n     <use xlink:href=\"#DejaVuSans-30\"/>\n     <use xlink:href=\"#DejaVuSans-2e\" x=\"63.623047\"/>\n     <use xlink:href=\"#DejaVuSans-30\" x=\"95.410156\"/>\n     <use xlink:href=\"#DejaVuSans-30\" x=\"159.033203\"/>\n     <use xlink:href=\"#DejaVuSans-35\" x=\"222.65625\"/>\n     <use xlink:href=\"#DejaVuSans-32\" x=\"286.279297\"/>\n    </g>\n   </g>\n   <g id=\"text_207\">\n    <!-- -0.044 -->\n    <g style=\"fill: #ffffff\" transform=\"translate(441.470781 392.24425)scale(0.1 -0.1)\">\n     <use xlink:href=\"#DejaVuSans-2d\"/>\n     <use xlink:href=\"#DejaVuSans-30\" x=\"36.083984\"/>\n     <use xlink:href=\"#DejaVuSans-2e\" x=\"99.707031\"/>\n     <use xlink:href=\"#DejaVuSans-30\" x=\"131.494141\"/>\n     <use xlink:href=\"#DejaVuSans-34\" x=\"195.117188\"/>\n     <use xlink:href=\"#DejaVuSans-34\" x=\"258.740234\"/>\n    </g>\n   </g>\n   <g id=\"text_208\">\n    <!-- 1 -->\n    <g style=\"fill: #ffffff\" transform=\"translate(489.1275 392.24425)scale(0.1 -0.1)\">\n     <use xlink:href=\"#DejaVuSans-31\"/>\n    </g>\n   </g>\n   <g id=\"text_209\">\n    <!-- -0.48 -->\n    <g style=\"fill: #ffffff\" transform=\"translate(514.092031 392.24425)scale(0.1 -0.1)\">\n     <use xlink:href=\"#DejaVuSans-2d\"/>\n     <use xlink:href=\"#DejaVuSans-30\" x=\"36.083984\"/>\n     <use xlink:href=\"#DejaVuSans-2e\" x=\"99.707031\"/>\n     <use xlink:href=\"#DejaVuSans-34\" x=\"131.494141\"/>\n     <use xlink:href=\"#DejaVuSans-38\" x=\"195.117188\"/>\n    </g>\n   </g>\n   <g id=\"text_210\">\n    <!-- -0.041 -->\n    <g style=\"fill: #ffffff\" transform=\"translate(545.630781 392.24425)scale(0.1 -0.1)\">\n     <use xlink:href=\"#DejaVuSans-2d\"/>\n     <use xlink:href=\"#DejaVuSans-30\" x=\"36.083984\"/>\n     <use xlink:href=\"#DejaVuSans-2e\" x=\"99.707031\"/>\n     <use xlink:href=\"#DejaVuSans-30\" x=\"131.494141\"/>\n     <use xlink:href=\"#DejaVuSans-34\" x=\"195.117188\"/>\n     <use xlink:href=\"#DejaVuSans-31\" x=\"258.740234\"/>\n    </g>\n   </g>\n   <g id=\"text_211\">\n    <!-- 1 -->\n    <g style=\"fill: #ffffff\" transform=\"translate(593.2875 392.24425)scale(0.1 -0.1)\">\n     <use xlink:href=\"#DejaVuSans-31\"/>\n    </g>\n   </g>\n   <g id=\"text_212\">\n    <!-- -0.48 -->\n    <g style=\"fill: #ffffff\" transform=\"translate(618.252031 392.24425)scale(0.1 -0.1)\">\n     <use xlink:href=\"#DejaVuSans-2d\"/>\n     <use xlink:href=\"#DejaVuSans-30\" x=\"36.083984\"/>\n     <use xlink:href=\"#DejaVuSans-2e\" x=\"99.707031\"/>\n     <use xlink:href=\"#DejaVuSans-34\" x=\"131.494141\"/>\n     <use xlink:href=\"#DejaVuSans-38\" x=\"195.117188\"/>\n    </g>\n   </g>\n   <g id=\"text_213\">\n    <!-- 0.053 -->\n    <g style=\"fill: #262626\" transform=\"translate(651.594688 392.24425)scale(0.1 -0.1)\">\n     <use xlink:href=\"#DejaVuSans-30\"/>\n     <use xlink:href=\"#DejaVuSans-2e\" x=\"63.623047\"/>\n     <use xlink:href=\"#DejaVuSans-30\" x=\"95.410156\"/>\n     <use xlink:href=\"#DejaVuSans-35\" x=\"159.033203\"/>\n     <use xlink:href=\"#DejaVuSans-33\" x=\"222.65625\"/>\n    </g>\n   </g>\n   <g id=\"text_214\">\n    <!-- 0.92 -->\n    <g style=\"fill: #ffffff\" transform=\"translate(689.495938 392.24425)scale(0.1 -0.1)\">\n     <use xlink:href=\"#DejaVuSans-30\"/>\n     <use xlink:href=\"#DejaVuSans-2e\" x=\"63.623047\"/>\n     <use xlink:href=\"#DejaVuSans-39\" x=\"95.410156\"/>\n     <use xlink:href=\"#DejaVuSans-32\" x=\"159.033203\"/>\n    </g>\n   </g>\n   <g id=\"text_215\">\n    <!-- -0.41 -->\n    <g style=\"fill: #ffffff\" transform=\"translate(722.412031 392.24425)scale(0.1 -0.1)\">\n     <use xlink:href=\"#DejaVuSans-2d\"/>\n     <use xlink:href=\"#DejaVuSans-30\" x=\"36.083984\"/>\n     <use xlink:href=\"#DejaVuSans-2e\" x=\"99.707031\"/>\n     <use xlink:href=\"#DejaVuSans-34\" x=\"131.494141\"/>\n     <use xlink:href=\"#DejaVuSans-31\" x=\"195.117188\"/>\n    </g>\n   </g>\n   <g id=\"text_216\">\n    <!-- -0.03 -->\n    <g style=\"fill: #ffffff\" transform=\"translate(757.132031 392.24425)scale(0.1 -0.1)\">\n     <use xlink:href=\"#DejaVuSans-2d\"/>\n     <use xlink:href=\"#DejaVuSans-30\" x=\"36.083984\"/>\n     <use xlink:href=\"#DejaVuSans-2e\" x=\"99.707031\"/>\n     <use xlink:href=\"#DejaVuSans-30\" x=\"131.494141\"/>\n     <use xlink:href=\"#DejaVuSans-33\" x=\"195.117188\"/>\n    </g>\n   </g>\n   <g id=\"text_217\">\n    <!-- -0.0026 -->\n    <g style=\"fill: #ffffff\" transform=\"translate(160.529531 426.96425)scale(0.1 -0.1)\">\n     <use xlink:href=\"#DejaVuSans-2d\"/>\n     <use xlink:href=\"#DejaVuSans-30\" x=\"36.083984\"/>\n     <use xlink:href=\"#DejaVuSans-2e\" x=\"99.707031\"/>\n     <use xlink:href=\"#DejaVuSans-30\" x=\"131.494141\"/>\n     <use xlink:href=\"#DejaVuSans-30\" x=\"195.117188\"/>\n     <use xlink:href=\"#DejaVuSans-32\" x=\"258.740234\"/>\n     <use xlink:href=\"#DejaVuSans-36\" x=\"322.363281\"/>\n    </g>\n   </g>\n   <g id=\"text_218\">\n    <!-- -0.00097 -->\n    <g style=\"fill: #ffffff\" transform=\"translate(192.068281 426.96425)scale(0.1 -0.1)\">\n     <use xlink:href=\"#DejaVuSans-2d\"/>\n     <use xlink:href=\"#DejaVuSans-30\" x=\"36.083984\"/>\n     <use xlink:href=\"#DejaVuSans-2e\" x=\"99.707031\"/>\n     <use xlink:href=\"#DejaVuSans-30\" x=\"131.494141\"/>\n     <use xlink:href=\"#DejaVuSans-30\" x=\"195.117188\"/>\n     <use xlink:href=\"#DejaVuSans-30\" x=\"258.740234\"/>\n     <use xlink:href=\"#DejaVuSans-39\" x=\"322.363281\"/>\n     <use xlink:href=\"#DejaVuSans-37\" x=\"385.986328\"/>\n    </g>\n   </g>\n   <g id=\"text_219\">\n    <!-- 0.97 -->\n    <g style=\"fill: #ffffff\" transform=\"translate(238.135938 426.96425)scale(0.1 -0.1)\">\n     <use xlink:href=\"#DejaVuSans-30\"/>\n     <use xlink:href=\"#DejaVuSans-2e\" x=\"63.623047\"/>\n     <use xlink:href=\"#DejaVuSans-39\" x=\"95.410156\"/>\n     <use xlink:href=\"#DejaVuSans-37\" x=\"159.033203\"/>\n    </g>\n   </g>\n   <g id=\"text_220\">\n    <!-- -0.015 -->\n    <g style=\"fill: #ffffff\" transform=\"translate(267.870781 426.96425)scale(0.1 -0.1)\">\n     <use xlink:href=\"#DejaVuSans-2d\"/>\n     <use xlink:href=\"#DejaVuSans-30\" x=\"36.083984\"/>\n     <use xlink:href=\"#DejaVuSans-2e\" x=\"99.707031\"/>\n     <use xlink:href=\"#DejaVuSans-30\" x=\"131.494141\"/>\n     <use xlink:href=\"#DejaVuSans-31\" x=\"195.117188\"/>\n     <use xlink:href=\"#DejaVuSans-35\" x=\"258.740234\"/>\n    </g>\n   </g>\n   <g id=\"text_221\">\n    <!-- -0.013 -->\n    <g style=\"fill: #ffffff\" transform=\"translate(302.590781 426.96425)scale(0.1 -0.1)\">\n     <use xlink:href=\"#DejaVuSans-2d\"/>\n     <use xlink:href=\"#DejaVuSans-30\" x=\"36.083984\"/>\n     <use xlink:href=\"#DejaVuSans-2e\" x=\"99.707031\"/>\n     <use xlink:href=\"#DejaVuSans-30\" x=\"131.494141\"/>\n     <use xlink:href=\"#DejaVuSans-31\" x=\"195.117188\"/>\n     <use xlink:href=\"#DejaVuSans-33\" x=\"258.740234\"/>\n    </g>\n   </g>\n   <g id=\"text_222\">\n    <!-- 0.0025 -->\n    <g style=\"fill: #ffffff\" transform=\"translate(335.933438 426.96425)scale(0.1 -0.1)\">\n     <use xlink:href=\"#DejaVuSans-30\"/>\n     <use xlink:href=\"#DejaVuSans-2e\" x=\"63.623047\"/>\n     <use xlink:href=\"#DejaVuSans-30\" x=\"95.410156\"/>\n     <use xlink:href=\"#DejaVuSans-30\" x=\"159.033203\"/>\n     <use xlink:href=\"#DejaVuSans-32\" x=\"222.65625\"/>\n     <use xlink:href=\"#DejaVuSans-35\" x=\"286.279297\"/>\n    </g>\n   </g>\n   <g id=\"text_223\">\n    <!-- -0.017 -->\n    <g style=\"fill: #ffffff\" transform=\"translate(372.030781 426.96425)scale(0.1 -0.1)\">\n     <use xlink:href=\"#DejaVuSans-2d\"/>\n     <use xlink:href=\"#DejaVuSans-30\" x=\"36.083984\"/>\n     <use xlink:href=\"#DejaVuSans-2e\" x=\"99.707031\"/>\n     <use xlink:href=\"#DejaVuSans-30\" x=\"131.494141\"/>\n     <use xlink:href=\"#DejaVuSans-31\" x=\"195.117188\"/>\n     <use xlink:href=\"#DejaVuSans-37\" x=\"258.740234\"/>\n    </g>\n   </g>\n   <g id=\"text_224\">\n    <!-- -0.0022 -->\n    <g style=\"fill: #ffffff\" transform=\"translate(403.569531 426.96425)scale(0.1 -0.1)\">\n     <use xlink:href=\"#DejaVuSans-2d\"/>\n     <use xlink:href=\"#DejaVuSans-30\" x=\"36.083984\"/>\n     <use xlink:href=\"#DejaVuSans-2e\" x=\"99.707031\"/>\n     <use xlink:href=\"#DejaVuSans-30\" x=\"131.494141\"/>\n     <use xlink:href=\"#DejaVuSans-30\" x=\"195.117188\"/>\n     <use xlink:href=\"#DejaVuSans-32\" x=\"258.740234\"/>\n     <use xlink:href=\"#DejaVuSans-32\" x=\"322.363281\"/>\n    </g>\n   </g>\n   <g id=\"text_225\">\n    <!-- -0.016 -->\n    <g style=\"fill: #ffffff\" transform=\"translate(441.470781 426.96425)scale(0.1 -0.1)\">\n     <use xlink:href=\"#DejaVuSans-2d\"/>\n     <use xlink:href=\"#DejaVuSans-30\" x=\"36.083984\"/>\n     <use xlink:href=\"#DejaVuSans-2e\" x=\"99.707031\"/>\n     <use xlink:href=\"#DejaVuSans-30\" x=\"131.494141\"/>\n     <use xlink:href=\"#DejaVuSans-31\" x=\"195.117188\"/>\n     <use xlink:href=\"#DejaVuSans-36\" x=\"258.740234\"/>\n    </g>\n   </g>\n   <g id=\"text_226\">\n    <!-- -0.48 -->\n    <g style=\"fill: #ffffff\" transform=\"translate(479.372031 426.96425)scale(0.1 -0.1)\">\n     <use xlink:href=\"#DejaVuSans-2d\"/>\n     <use xlink:href=\"#DejaVuSans-30\" x=\"36.083984\"/>\n     <use xlink:href=\"#DejaVuSans-2e\" x=\"99.707031\"/>\n     <use xlink:href=\"#DejaVuSans-34\" x=\"131.494141\"/>\n     <use xlink:href=\"#DejaVuSans-38\" x=\"195.117188\"/>\n    </g>\n   </g>\n   <g id=\"text_227\">\n    <!-- 1 -->\n    <g style=\"fill: #ffffff\" transform=\"translate(523.8475 426.96425)scale(0.1 -0.1)\">\n     <use xlink:href=\"#DejaVuSans-31\"/>\n    </g>\n   </g>\n   <g id=\"text_228\">\n    <!-- -0.017 -->\n    <g style=\"fill: #ffffff\" transform=\"translate(545.630781 426.96425)scale(0.1 -0.1)\">\n     <use xlink:href=\"#DejaVuSans-2d\"/>\n     <use xlink:href=\"#DejaVuSans-30\" x=\"36.083984\"/>\n     <use xlink:href=\"#DejaVuSans-2e\" x=\"99.707031\"/>\n     <use xlink:href=\"#DejaVuSans-30\" x=\"131.494141\"/>\n     <use xlink:href=\"#DejaVuSans-31\" x=\"195.117188\"/>\n     <use xlink:href=\"#DejaVuSans-37\" x=\"258.740234\"/>\n    </g>\n   </g>\n   <g id=\"text_229\">\n    <!-- -0.48 -->\n    <g style=\"fill: #ffffff\" transform=\"translate(583.532031 426.96425)scale(0.1 -0.1)\">\n     <use xlink:href=\"#DejaVuSans-2d\"/>\n     <use xlink:href=\"#DejaVuSans-30\" x=\"36.083984\"/>\n     <use xlink:href=\"#DejaVuSans-2e\" x=\"99.707031\"/>\n     <use xlink:href=\"#DejaVuSans-34\" x=\"131.494141\"/>\n     <use xlink:href=\"#DejaVuSans-38\" x=\"195.117188\"/>\n    </g>\n   </g>\n   <g id=\"text_230\">\n    <!-- 1 -->\n    <g style=\"fill: #ffffff\" transform=\"translate(628.0075 426.96425)scale(0.1 -0.1)\">\n     <use xlink:href=\"#DejaVuSans-31\"/>\n    </g>\n   </g>\n   <g id=\"text_231\">\n    <!-- -0.0083 -->\n    <g style=\"fill: #ffffff\" transform=\"translate(646.609531 426.96425)scale(0.1 -0.1)\">\n     <use xlink:href=\"#DejaVuSans-2d\"/>\n     <use xlink:href=\"#DejaVuSans-30\" x=\"36.083984\"/>\n     <use xlink:href=\"#DejaVuSans-2e\" x=\"99.707031\"/>\n     <use xlink:href=\"#DejaVuSans-30\" x=\"131.494141\"/>\n     <use xlink:href=\"#DejaVuSans-30\" x=\"195.117188\"/>\n     <use xlink:href=\"#DejaVuSans-38\" x=\"258.740234\"/>\n     <use xlink:href=\"#DejaVuSans-33\" x=\"322.363281\"/>\n    </g>\n   </g>\n   <g id=\"text_232\">\n    <!-- -0.43 -->\n    <g style=\"fill: #ffffff\" transform=\"translate(687.692031 426.96425)scale(0.1 -0.1)\">\n     <use xlink:href=\"#DejaVuSans-2d\"/>\n     <use xlink:href=\"#DejaVuSans-30\" x=\"36.083984\"/>\n     <use xlink:href=\"#DejaVuSans-2e\" x=\"99.707031\"/>\n     <use xlink:href=\"#DejaVuSans-34\" x=\"131.494141\"/>\n     <use xlink:href=\"#DejaVuSans-33\" x=\"195.117188\"/>\n    </g>\n   </g>\n   <g id=\"text_233\">\n    <!-- 0.95 -->\n    <g style=\"fill: #ffffff\" transform=\"translate(724.215938 426.96425)scale(0.1 -0.1)\">\n     <use xlink:href=\"#DejaVuSans-30\"/>\n     <use xlink:href=\"#DejaVuSans-2e\" x=\"63.623047\"/>\n     <use xlink:href=\"#DejaVuSans-39\" x=\"95.410156\"/>\n     <use xlink:href=\"#DejaVuSans-35\" x=\"159.033203\"/>\n    </g>\n   </g>\n   <g id=\"text_234\">\n    <!-- -0.00084 -->\n    <g style=\"fill: #ffffff\" transform=\"translate(747.588281 426.96425)scale(0.1 -0.1)\">\n     <use xlink:href=\"#DejaVuSans-2d\"/>\n     <use xlink:href=\"#DejaVuSans-30\" x=\"36.083984\"/>\n     <use xlink:href=\"#DejaVuSans-2e\" x=\"99.707031\"/>\n     <use xlink:href=\"#DejaVuSans-30\" x=\"131.494141\"/>\n     <use xlink:href=\"#DejaVuSans-30\" x=\"195.117188\"/>\n     <use xlink:href=\"#DejaVuSans-30\" x=\"258.740234\"/>\n     <use xlink:href=\"#DejaVuSans-38\" x=\"322.363281\"/>\n     <use xlink:href=\"#DejaVuSans-34\" x=\"385.986328\"/>\n    </g>\n   </g>\n   <g id=\"text_235\">\n    <!-- 0.00014 -->\n    <g style=\"fill: #ffffff\" transform=\"translate(159.152188 461.68425)scale(0.1 -0.1)\">\n     <use xlink:href=\"#DejaVuSans-30\"/>\n     <use xlink:href=\"#DejaVuSans-2e\" x=\"63.623047\"/>\n     <use xlink:href=\"#DejaVuSans-30\" x=\"95.410156\"/>\n     <use xlink:href=\"#DejaVuSans-30\" x=\"159.033203\"/>\n     <use xlink:href=\"#DejaVuSans-30\" x=\"222.65625\"/>\n     <use xlink:href=\"#DejaVuSans-31\" x=\"286.279297\"/>\n     <use xlink:href=\"#DejaVuSans-34\" x=\"349.902344\"/>\n    </g>\n   </g>\n   <g id=\"text_236\">\n    <!-- -0.022 -->\n    <g style=\"fill: #ffffff\" transform=\"translate(198.430781 461.68425)scale(0.1 -0.1)\">\n     <use xlink:href=\"#DejaVuSans-2d\"/>\n     <use xlink:href=\"#DejaVuSans-30\" x=\"36.083984\"/>\n     <use xlink:href=\"#DejaVuSans-2e\" x=\"99.707031\"/>\n     <use xlink:href=\"#DejaVuSans-30\" x=\"131.494141\"/>\n     <use xlink:href=\"#DejaVuSans-32\" x=\"195.117188\"/>\n     <use xlink:href=\"#DejaVuSans-32\" x=\"258.740234\"/>\n    </g>\n   </g>\n   <g id=\"text_237\">\n    <!-- 0.021 -->\n    <g style=\"fill: #ffffff\" transform=\"translate(234.954688 461.68425)scale(0.1 -0.1)\">\n     <use xlink:href=\"#DejaVuSans-30\"/>\n     <use xlink:href=\"#DejaVuSans-2e\" x=\"63.623047\"/>\n     <use xlink:href=\"#DejaVuSans-30\" x=\"95.410156\"/>\n     <use xlink:href=\"#DejaVuSans-32\" x=\"159.033203\"/>\n     <use xlink:href=\"#DejaVuSans-31\" x=\"222.65625\"/>\n    </g>\n   </g>\n   <g id=\"text_238\">\n    <!-- 0.011 -->\n    <g style=\"fill: #ffffff\" transform=\"translate(269.674688 461.68425)scale(0.1 -0.1)\">\n     <use xlink:href=\"#DejaVuSans-30\"/>\n     <use xlink:href=\"#DejaVuSans-2e\" x=\"63.623047\"/>\n     <use xlink:href=\"#DejaVuSans-30\" x=\"95.410156\"/>\n     <use xlink:href=\"#DejaVuSans-31\" x=\"159.033203\"/>\n     <use xlink:href=\"#DejaVuSans-31\" x=\"222.65625\"/>\n    </g>\n   </g>\n   <g id=\"text_239\">\n    <!-- 0.024 -->\n    <g style=\"fill: #262626\" transform=\"translate(304.394688 461.68425)scale(0.1 -0.1)\">\n     <use xlink:href=\"#DejaVuSans-30\"/>\n     <use xlink:href=\"#DejaVuSans-2e\" x=\"63.623047\"/>\n     <use xlink:href=\"#DejaVuSans-30\" x=\"95.410156\"/>\n     <use xlink:href=\"#DejaVuSans-32\" x=\"159.033203\"/>\n     <use xlink:href=\"#DejaVuSans-34\" x=\"222.65625\"/>\n    </g>\n   </g>\n   <g id=\"text_240\">\n    <!-- -0.0027 -->\n    <g style=\"fill: #ffffff\" transform=\"translate(334.129531 461.68425)scale(0.1 -0.1)\">\n     <use xlink:href=\"#DejaVuSans-2d\"/>\n     <use xlink:href=\"#DejaVuSans-30\" x=\"36.083984\"/>\n     <use xlink:href=\"#DejaVuSans-2e\" x=\"99.707031\"/>\n     <use xlink:href=\"#DejaVuSans-30\" x=\"131.494141\"/>\n     <use xlink:href=\"#DejaVuSans-30\" x=\"195.117188\"/>\n     <use xlink:href=\"#DejaVuSans-32\" x=\"258.740234\"/>\n     <use xlink:href=\"#DejaVuSans-37\" x=\"322.363281\"/>\n    </g>\n   </g>\n   <g id=\"text_241\">\n    <!-- 0.024 -->\n    <g style=\"fill: #262626\" transform=\"translate(373.834688 461.68425)scale(0.1 -0.1)\">\n     <use xlink:href=\"#DejaVuSans-30\"/>\n     <use xlink:href=\"#DejaVuSans-2e\" x=\"63.623047\"/>\n     <use xlink:href=\"#DejaVuSans-30\" x=\"95.410156\"/>\n     <use xlink:href=\"#DejaVuSans-32\" x=\"159.033203\"/>\n     <use xlink:href=\"#DejaVuSans-34\" x=\"222.65625\"/>\n    </g>\n   </g>\n   <g id=\"text_242\">\n    <!-- -0.018 -->\n    <g style=\"fill: #ffffff\" transform=\"translate(406.750781 461.68425)scale(0.1 -0.1)\">\n     <use xlink:href=\"#DejaVuSans-2d\"/>\n     <use xlink:href=\"#DejaVuSans-30\" x=\"36.083984\"/>\n     <use xlink:href=\"#DejaVuSans-2e\" x=\"99.707031\"/>\n     <use xlink:href=\"#DejaVuSans-30\" x=\"131.494141\"/>\n     <use xlink:href=\"#DejaVuSans-31\" x=\"195.117188\"/>\n     <use xlink:href=\"#DejaVuSans-38\" x=\"258.740234\"/>\n    </g>\n   </g>\n   <g id=\"text_243\">\n    <!-- 0.95 -->\n    <g style=\"fill: #ffffff\" transform=\"translate(446.455938 461.68425)scale(0.1 -0.1)\">\n     <use xlink:href=\"#DejaVuSans-30\"/>\n     <use xlink:href=\"#DejaVuSans-2e\" x=\"63.623047\"/>\n     <use xlink:href=\"#DejaVuSans-39\" x=\"95.410156\"/>\n     <use xlink:href=\"#DejaVuSans-35\" x=\"159.033203\"/>\n    </g>\n   </g>\n   <g id=\"text_244\">\n    <!-- -0.041 -->\n    <g style=\"fill: #ffffff\" transform=\"translate(476.190781 461.68425)scale(0.1 -0.1)\">\n     <use xlink:href=\"#DejaVuSans-2d\"/>\n     <use xlink:href=\"#DejaVuSans-30\" x=\"36.083984\"/>\n     <use xlink:href=\"#DejaVuSans-2e\" x=\"99.707031\"/>\n     <use xlink:href=\"#DejaVuSans-30\" x=\"131.494141\"/>\n     <use xlink:href=\"#DejaVuSans-34\" x=\"195.117188\"/>\n     <use xlink:href=\"#DejaVuSans-31\" x=\"258.740234\"/>\n    </g>\n   </g>\n   <g id=\"text_245\">\n    <!-- -0.017 -->\n    <g style=\"fill: #ffffff\" transform=\"translate(510.910781 461.68425)scale(0.1 -0.1)\">\n     <use xlink:href=\"#DejaVuSans-2d\"/>\n     <use xlink:href=\"#DejaVuSans-30\" x=\"36.083984\"/>\n     <use xlink:href=\"#DejaVuSans-2e\" x=\"99.707031\"/>\n     <use xlink:href=\"#DejaVuSans-30\" x=\"131.494141\"/>\n     <use xlink:href=\"#DejaVuSans-31\" x=\"195.117188\"/>\n     <use xlink:href=\"#DejaVuSans-37\" x=\"258.740234\"/>\n    </g>\n   </g>\n   <g id=\"text_246\">\n    <!-- 1 -->\n    <g style=\"fill: #ffffff\" transform=\"translate(558.5675 461.68425)scale(0.1 -0.1)\">\n     <use xlink:href=\"#DejaVuSans-31\"/>\n    </g>\n   </g>\n   <g id=\"text_247\">\n    <!-- -0.043 -->\n    <g style=\"fill: #ffffff\" transform=\"translate(580.350781 461.68425)scale(0.1 -0.1)\">\n     <use xlink:href=\"#DejaVuSans-2d\"/>\n     <use xlink:href=\"#DejaVuSans-30\" x=\"36.083984\"/>\n     <use xlink:href=\"#DejaVuSans-2e\" x=\"99.707031\"/>\n     <use xlink:href=\"#DejaVuSans-30\" x=\"131.494141\"/>\n     <use xlink:href=\"#DejaVuSans-34\" x=\"195.117188\"/>\n     <use xlink:href=\"#DejaVuSans-33\" x=\"258.740234\"/>\n    </g>\n   </g>\n   <g id=\"text_248\">\n    <!-- -0.018 -->\n    <g style=\"fill: #ffffff\" transform=\"translate(615.070781 461.68425)scale(0.1 -0.1)\">\n     <use xlink:href=\"#DejaVuSans-2d\"/>\n     <use xlink:href=\"#DejaVuSans-30\" x=\"36.083984\"/>\n     <use xlink:href=\"#DejaVuSans-2e\" x=\"99.707031\"/>\n     <use xlink:href=\"#DejaVuSans-30\" x=\"131.494141\"/>\n     <use xlink:href=\"#DejaVuSans-31\" x=\"195.117188\"/>\n     <use xlink:href=\"#DejaVuSans-38\" x=\"258.740234\"/>\n    </g>\n   </g>\n   <g id=\"text_249\">\n    <!-- -0.37 -->\n    <g style=\"fill: #ffffff\" transform=\"translate(652.972031 461.68425)scale(0.1 -0.1)\">\n     <use xlink:href=\"#DejaVuSans-2d\"/>\n     <use xlink:href=\"#DejaVuSans-30\" x=\"36.083984\"/>\n     <use xlink:href=\"#DejaVuSans-2e\" x=\"99.707031\"/>\n     <use xlink:href=\"#DejaVuSans-33\" x=\"131.494141\"/>\n     <use xlink:href=\"#DejaVuSans-37\" x=\"195.117188\"/>\n    </g>\n   </g>\n   <g id=\"text_250\">\n    <!-- 0.021 -->\n    <g style=\"fill: #ffffff\" transform=\"translate(686.314688 461.68425)scale(0.1 -0.1)\">\n     <use xlink:href=\"#DejaVuSans-30\"/>\n     <use xlink:href=\"#DejaVuSans-2e\" x=\"63.623047\"/>\n     <use xlink:href=\"#DejaVuSans-30\" x=\"95.410156\"/>\n     <use xlink:href=\"#DejaVuSans-32\" x=\"159.033203\"/>\n     <use xlink:href=\"#DejaVuSans-31\" x=\"222.65625\"/>\n    </g>\n   </g>\n   <g id=\"text_251\">\n    <!-- 0.023 -->\n    <g style=\"fill: #262626\" transform=\"translate(721.034688 461.68425)scale(0.1 -0.1)\">\n     <use xlink:href=\"#DejaVuSans-30\"/>\n     <use xlink:href=\"#DejaVuSans-2e\" x=\"63.623047\"/>\n     <use xlink:href=\"#DejaVuSans-30\" x=\"95.410156\"/>\n     <use xlink:href=\"#DejaVuSans-32\" x=\"159.033203\"/>\n     <use xlink:href=\"#DejaVuSans-33\" x=\"222.65625\"/>\n    </g>\n   </g>\n   <g id=\"text_252\">\n    <!-- 0.044 -->\n    <g style=\"fill: #262626\" transform=\"translate(755.754688 461.68425)scale(0.1 -0.1)\">\n     <use xlink:href=\"#DejaVuSans-30\"/>\n     <use xlink:href=\"#DejaVuSans-2e\" x=\"63.623047\"/>\n     <use xlink:href=\"#DejaVuSans-30\" x=\"95.410156\"/>\n     <use xlink:href=\"#DejaVuSans-34\" x=\"159.033203\"/>\n     <use xlink:href=\"#DejaVuSans-34\" x=\"222.65625\"/>\n    </g>\n   </g>\n   <g id=\"text_253\">\n    <!-- 0.0021 -->\n    <g style=\"fill: #ffffff\" transform=\"translate(162.333438 496.40425)scale(0.1 -0.1)\">\n     <use xlink:href=\"#DejaVuSans-30\"/>\n     <use xlink:href=\"#DejaVuSans-2e\" x=\"63.623047\"/>\n     <use xlink:href=\"#DejaVuSans-30\" x=\"95.410156\"/>\n     <use xlink:href=\"#DejaVuSans-30\" x=\"159.033203\"/>\n     <use xlink:href=\"#DejaVuSans-32\" x=\"222.65625\"/>\n     <use xlink:href=\"#DejaVuSans-31\" x=\"286.279297\"/>\n    </g>\n   </g>\n   <g id=\"text_254\">\n    <!-- 0.018 -->\n    <g style=\"fill: #ffffff\" transform=\"translate(200.234688 496.40425)scale(0.1 -0.1)\">\n     <use xlink:href=\"#DejaVuSans-30\"/>\n     <use xlink:href=\"#DejaVuSans-2e\" x=\"63.623047\"/>\n     <use xlink:href=\"#DejaVuSans-30\" x=\"95.410156\"/>\n     <use xlink:href=\"#DejaVuSans-31\" x=\"159.033203\"/>\n     <use xlink:href=\"#DejaVuSans-38\" x=\"222.65625\"/>\n    </g>\n   </g>\n   <g id=\"text_255\">\n    <!-- -0.44 -->\n    <g style=\"fill: #ffffff\" transform=\"translate(236.332031 496.40425)scale(0.1 -0.1)\">\n     <use xlink:href=\"#DejaVuSans-2d\"/>\n     <use xlink:href=\"#DejaVuSans-30\" x=\"36.083984\"/>\n     <use xlink:href=\"#DejaVuSans-2e\" x=\"99.707031\"/>\n     <use xlink:href=\"#DejaVuSans-34\" x=\"131.494141\"/>\n     <use xlink:href=\"#DejaVuSans-34\" x=\"195.117188\"/>\n    </g>\n   </g>\n   <g id=\"text_256\">\n    <!-- 0.0026 -->\n    <g style=\"fill: #ffffff\" transform=\"translate(266.493438 496.40425)scale(0.1 -0.1)\">\n     <use xlink:href=\"#DejaVuSans-30\"/>\n     <use xlink:href=\"#DejaVuSans-2e\" x=\"63.623047\"/>\n     <use xlink:href=\"#DejaVuSans-30\" x=\"95.410156\"/>\n     <use xlink:href=\"#DejaVuSans-30\" x=\"159.033203\"/>\n     <use xlink:href=\"#DejaVuSans-32\" x=\"222.65625\"/>\n     <use xlink:href=\"#DejaVuSans-36\" x=\"286.279297\"/>\n    </g>\n   </g>\n   <g id=\"text_257\">\n    <!-- 0.033 -->\n    <g style=\"fill: #262626\" transform=\"translate(304.394688 496.40425)scale(0.1 -0.1)\">\n     <use xlink:href=\"#DejaVuSans-30\"/>\n     <use xlink:href=\"#DejaVuSans-2e\" x=\"63.623047\"/>\n     <use xlink:href=\"#DejaVuSans-30\" x=\"95.410156\"/>\n     <use xlink:href=\"#DejaVuSans-33\" x=\"159.033203\"/>\n     <use xlink:href=\"#DejaVuSans-33\" x=\"222.65625\"/>\n    </g>\n   </g>\n   <g id=\"text_258\">\n    <!-- -0.021 -->\n    <g style=\"fill: #ffffff\" transform=\"translate(337.310781 496.40425)scale(0.1 -0.1)\">\n     <use xlink:href=\"#DejaVuSans-2d\"/>\n     <use xlink:href=\"#DejaVuSans-30\" x=\"36.083984\"/>\n     <use xlink:href=\"#DejaVuSans-2e\" x=\"99.707031\"/>\n     <use xlink:href=\"#DejaVuSans-30\" x=\"131.494141\"/>\n     <use xlink:href=\"#DejaVuSans-32\" x=\"195.117188\"/>\n     <use xlink:href=\"#DejaVuSans-31\" x=\"258.740234\"/>\n    </g>\n   </g>\n   <g id=\"text_259\">\n    <!-- 0.018 -->\n    <g style=\"fill: #ffffff\" transform=\"translate(373.834688 496.40425)scale(0.1 -0.1)\">\n     <use xlink:href=\"#DejaVuSans-30\"/>\n     <use xlink:href=\"#DejaVuSans-2e\" x=\"63.623047\"/>\n     <use xlink:href=\"#DejaVuSans-30\" x=\"95.410156\"/>\n     <use xlink:href=\"#DejaVuSans-31\" x=\"159.033203\"/>\n     <use xlink:href=\"#DejaVuSans-38\" x=\"222.65625\"/>\n    </g>\n   </g>\n   <g id=\"text_260\">\n    <!-- 0.0031 -->\n    <g style=\"fill: #ffffff\" transform=\"translate(405.373438 496.40425)scale(0.1 -0.1)\">\n     <use xlink:href=\"#DejaVuSans-30\"/>\n     <use xlink:href=\"#DejaVuSans-2e\" x=\"63.623047\"/>\n     <use xlink:href=\"#DejaVuSans-30\" x=\"95.410156\"/>\n     <use xlink:href=\"#DejaVuSans-30\" x=\"159.033203\"/>\n     <use xlink:href=\"#DejaVuSans-33\" x=\"222.65625\"/>\n     <use xlink:href=\"#DejaVuSans-31\" x=\"286.279297\"/>\n    </g>\n   </g>\n   <g id=\"text_261\">\n    <!-- -0.043 -->\n    <g style=\"fill: #ffffff\" transform=\"translate(441.470781 496.40425)scale(0.1 -0.1)\">\n     <use xlink:href=\"#DejaVuSans-2d\"/>\n     <use xlink:href=\"#DejaVuSans-30\" x=\"36.083984\"/>\n     <use xlink:href=\"#DejaVuSans-2e\" x=\"99.707031\"/>\n     <use xlink:href=\"#DejaVuSans-30\" x=\"131.494141\"/>\n     <use xlink:href=\"#DejaVuSans-34\" x=\"195.117188\"/>\n     <use xlink:href=\"#DejaVuSans-33\" x=\"258.740234\"/>\n    </g>\n   </g>\n   <g id=\"text_262\">\n    <!-- 1 -->\n    <g style=\"fill: #ffffff\" transform=\"translate(489.1275 496.40425)scale(0.1 -0.1)\">\n     <use xlink:href=\"#DejaVuSans-31\"/>\n    </g>\n   </g>\n   <g id=\"text_263\">\n    <!-- -0.48 -->\n    <g style=\"fill: #ffffff\" transform=\"translate(514.092031 496.40425)scale(0.1 -0.1)\">\n     <use xlink:href=\"#DejaVuSans-2d\"/>\n     <use xlink:href=\"#DejaVuSans-30\" x=\"36.083984\"/>\n     <use xlink:href=\"#DejaVuSans-2e\" x=\"99.707031\"/>\n     <use xlink:href=\"#DejaVuSans-34\" x=\"131.494141\"/>\n     <use xlink:href=\"#DejaVuSans-38\" x=\"195.117188\"/>\n    </g>\n   </g>\n   <g id=\"text_264\">\n    <!-- -0.043 -->\n    <g style=\"fill: #ffffff\" transform=\"translate(545.630781 496.40425)scale(0.1 -0.1)\">\n     <use xlink:href=\"#DejaVuSans-2d\"/>\n     <use xlink:href=\"#DejaVuSans-30\" x=\"36.083984\"/>\n     <use xlink:href=\"#DejaVuSans-2e\" x=\"99.707031\"/>\n     <use xlink:href=\"#DejaVuSans-30\" x=\"131.494141\"/>\n     <use xlink:href=\"#DejaVuSans-34\" x=\"195.117188\"/>\n     <use xlink:href=\"#DejaVuSans-33\" x=\"258.740234\"/>\n    </g>\n   </g>\n   <g id=\"text_265\">\n    <!-- 1 -->\n    <g style=\"fill: #ffffff\" transform=\"translate(593.2875 496.40425)scale(0.1 -0.1)\">\n     <use xlink:href=\"#DejaVuSans-31\"/>\n    </g>\n   </g>\n   <g id=\"text_266\">\n    <!-- -0.48 -->\n    <g style=\"fill: #ffffff\" transform=\"translate(618.252031 496.40425)scale(0.1 -0.1)\">\n     <use xlink:href=\"#DejaVuSans-2d\"/>\n     <use xlink:href=\"#DejaVuSans-30\" x=\"36.083984\"/>\n     <use xlink:href=\"#DejaVuSans-2e\" x=\"99.707031\"/>\n     <use xlink:href=\"#DejaVuSans-34\" x=\"131.494141\"/>\n     <use xlink:href=\"#DejaVuSans-38\" x=\"195.117188\"/>\n    </g>\n   </g>\n   <g id=\"text_267\">\n    <!-- 0.053 -->\n    <g style=\"fill: #262626\" transform=\"translate(651.594688 496.40425)scale(0.1 -0.1)\">\n     <use xlink:href=\"#DejaVuSans-30\"/>\n     <use xlink:href=\"#DejaVuSans-2e\" x=\"63.623047\"/>\n     <use xlink:href=\"#DejaVuSans-30\" x=\"95.410156\"/>\n     <use xlink:href=\"#DejaVuSans-35\" x=\"159.033203\"/>\n     <use xlink:href=\"#DejaVuSans-33\" x=\"222.65625\"/>\n    </g>\n   </g>\n   <g id=\"text_268\">\n    <!-- 0.92 -->\n    <g style=\"fill: #ffffff\" transform=\"translate(689.495938 496.40425)scale(0.1 -0.1)\">\n     <use xlink:href=\"#DejaVuSans-30\"/>\n     <use xlink:href=\"#DejaVuSans-2e\" x=\"63.623047\"/>\n     <use xlink:href=\"#DejaVuSans-39\" x=\"95.410156\"/>\n     <use xlink:href=\"#DejaVuSans-32\" x=\"159.033203\"/>\n    </g>\n   </g>\n   <g id=\"text_269\">\n    <!-- -0.42 -->\n    <g style=\"fill: #ffffff\" transform=\"translate(722.412031 496.40425)scale(0.1 -0.1)\">\n     <use xlink:href=\"#DejaVuSans-2d\"/>\n     <use xlink:href=\"#DejaVuSans-30\" x=\"36.083984\"/>\n     <use xlink:href=\"#DejaVuSans-2e\" x=\"99.707031\"/>\n     <use xlink:href=\"#DejaVuSans-34\" x=\"131.494141\"/>\n     <use xlink:href=\"#DejaVuSans-32\" x=\"195.117188\"/>\n    </g>\n   </g>\n   <g id=\"text_270\">\n    <!-- -0.03 -->\n    <g style=\"fill: #ffffff\" transform=\"translate(757.132031 496.40425)scale(0.1 -0.1)\">\n     <use xlink:href=\"#DejaVuSans-2d\"/>\n     <use xlink:href=\"#DejaVuSans-30\" x=\"36.083984\"/>\n     <use xlink:href=\"#DejaVuSans-2e\" x=\"99.707031\"/>\n     <use xlink:href=\"#DejaVuSans-30\" x=\"131.494141\"/>\n     <use xlink:href=\"#DejaVuSans-33\" x=\"195.117188\"/>\n    </g>\n   </g>\n   <g id=\"text_271\">\n    <!-- -0.0021 -->\n    <g style=\"fill: #ffffff\" transform=\"translate(160.529531 531.12425)scale(0.1 -0.1)\">\n     <use xlink:href=\"#DejaVuSans-2d\"/>\n     <use xlink:href=\"#DejaVuSans-30\" x=\"36.083984\"/>\n     <use xlink:href=\"#DejaVuSans-2e\" x=\"99.707031\"/>\n     <use xlink:href=\"#DejaVuSans-30\" x=\"131.494141\"/>\n     <use xlink:href=\"#DejaVuSans-30\" x=\"195.117188\"/>\n     <use xlink:href=\"#DejaVuSans-32\" x=\"258.740234\"/>\n     <use xlink:href=\"#DejaVuSans-31\" x=\"322.363281\"/>\n    </g>\n   </g>\n   <g id=\"text_272\">\n    <!-- -0.0019 -->\n    <g style=\"fill: #ffffff\" transform=\"translate(195.249531 531.12425)scale(0.1 -0.1)\">\n     <use xlink:href=\"#DejaVuSans-2d\"/>\n     <use xlink:href=\"#DejaVuSans-30\" x=\"36.083984\"/>\n     <use xlink:href=\"#DejaVuSans-2e\" x=\"99.707031\"/>\n     <use xlink:href=\"#DejaVuSans-30\" x=\"131.494141\"/>\n     <use xlink:href=\"#DejaVuSans-30\" x=\"195.117188\"/>\n     <use xlink:href=\"#DejaVuSans-31\" x=\"258.740234\"/>\n     <use xlink:href=\"#DejaVuSans-39\" x=\"322.363281\"/>\n    </g>\n   </g>\n   <g id=\"text_273\">\n    <!-- 0.97 -->\n    <g style=\"fill: #ffffff\" transform=\"translate(238.135938 531.12425)scale(0.1 -0.1)\">\n     <use xlink:href=\"#DejaVuSans-30\"/>\n     <use xlink:href=\"#DejaVuSans-2e\" x=\"63.623047\"/>\n     <use xlink:href=\"#DejaVuSans-39\" x=\"95.410156\"/>\n     <use xlink:href=\"#DejaVuSans-37\" x=\"159.033203\"/>\n    </g>\n   </g>\n   <g id=\"text_274\">\n    <!-- -0.012 -->\n    <g style=\"fill: #ffffff\" transform=\"translate(267.870781 531.12425)scale(0.1 -0.1)\">\n     <use xlink:href=\"#DejaVuSans-2d\"/>\n     <use xlink:href=\"#DejaVuSans-30\" x=\"36.083984\"/>\n     <use xlink:href=\"#DejaVuSans-2e\" x=\"99.707031\"/>\n     <use xlink:href=\"#DejaVuSans-30\" x=\"131.494141\"/>\n     <use xlink:href=\"#DejaVuSans-31\" x=\"195.117188\"/>\n     <use xlink:href=\"#DejaVuSans-32\" x=\"258.740234\"/>\n    </g>\n   </g>\n   <g id=\"text_275\">\n    <!-- -0.013 -->\n    <g style=\"fill: #ffffff\" transform=\"translate(302.590781 531.12425)scale(0.1 -0.1)\">\n     <use xlink:href=\"#DejaVuSans-2d\"/>\n     <use xlink:href=\"#DejaVuSans-30\" x=\"36.083984\"/>\n     <use xlink:href=\"#DejaVuSans-2e\" x=\"99.707031\"/>\n     <use xlink:href=\"#DejaVuSans-30\" x=\"131.494141\"/>\n     <use xlink:href=\"#DejaVuSans-31\" x=\"195.117188\"/>\n     <use xlink:href=\"#DejaVuSans-33\" x=\"258.740234\"/>\n    </g>\n   </g>\n   <g id=\"text_276\">\n    <!-- 0.00087 -->\n    <g style=\"fill: #ffffff\" transform=\"translate(332.752188 531.12425)scale(0.1 -0.1)\">\n     <use xlink:href=\"#DejaVuSans-30\"/>\n     <use xlink:href=\"#DejaVuSans-2e\" x=\"63.623047\"/>\n     <use xlink:href=\"#DejaVuSans-30\" x=\"95.410156\"/>\n     <use xlink:href=\"#DejaVuSans-30\" x=\"159.033203\"/>\n     <use xlink:href=\"#DejaVuSans-30\" x=\"222.65625\"/>\n     <use xlink:href=\"#DejaVuSans-38\" x=\"286.279297\"/>\n     <use xlink:href=\"#DejaVuSans-37\" x=\"349.902344\"/>\n    </g>\n   </g>\n   <g id=\"text_277\">\n    <!-- -0.018 -->\n    <g style=\"fill: #ffffff\" transform=\"translate(372.030781 531.12425)scale(0.1 -0.1)\">\n     <use xlink:href=\"#DejaVuSans-2d\"/>\n     <use xlink:href=\"#DejaVuSans-30\" x=\"36.083984\"/>\n     <use xlink:href=\"#DejaVuSans-2e\" x=\"99.707031\"/>\n     <use xlink:href=\"#DejaVuSans-30\" x=\"131.494141\"/>\n     <use xlink:href=\"#DejaVuSans-31\" x=\"195.117188\"/>\n     <use xlink:href=\"#DejaVuSans-38\" x=\"258.740234\"/>\n    </g>\n   </g>\n   <g id=\"text_278\">\n    <!-- -0.0036 -->\n    <g style=\"fill: #ffffff\" transform=\"translate(403.569531 531.12425)scale(0.1 -0.1)\">\n     <use xlink:href=\"#DejaVuSans-2d\"/>\n     <use xlink:href=\"#DejaVuSans-30\" x=\"36.083984\"/>\n     <use xlink:href=\"#DejaVuSans-2e\" x=\"99.707031\"/>\n     <use xlink:href=\"#DejaVuSans-30\" x=\"131.494141\"/>\n     <use xlink:href=\"#DejaVuSans-30\" x=\"195.117188\"/>\n     <use xlink:href=\"#DejaVuSans-33\" x=\"258.740234\"/>\n     <use xlink:href=\"#DejaVuSans-36\" x=\"322.363281\"/>\n    </g>\n   </g>\n   <g id=\"text_279\">\n    <!-- -0.014 -->\n    <g style=\"fill: #ffffff\" transform=\"translate(441.470781 531.12425)scale(0.1 -0.1)\">\n     <use xlink:href=\"#DejaVuSans-2d\"/>\n     <use xlink:href=\"#DejaVuSans-30\" x=\"36.083984\"/>\n     <use xlink:href=\"#DejaVuSans-2e\" x=\"99.707031\"/>\n     <use xlink:href=\"#DejaVuSans-30\" x=\"131.494141\"/>\n     <use xlink:href=\"#DejaVuSans-31\" x=\"195.117188\"/>\n     <use xlink:href=\"#DejaVuSans-34\" x=\"258.740234\"/>\n    </g>\n   </g>\n   <g id=\"text_280\">\n    <!-- -0.48 -->\n    <g style=\"fill: #ffffff\" transform=\"translate(479.372031 531.12425)scale(0.1 -0.1)\">\n     <use xlink:href=\"#DejaVuSans-2d\"/>\n     <use xlink:href=\"#DejaVuSans-30\" x=\"36.083984\"/>\n     <use xlink:href=\"#DejaVuSans-2e\" x=\"99.707031\"/>\n     <use xlink:href=\"#DejaVuSans-34\" x=\"131.494141\"/>\n     <use xlink:href=\"#DejaVuSans-38\" x=\"195.117188\"/>\n    </g>\n   </g>\n   <g id=\"text_281\">\n    <!-- 1 -->\n    <g style=\"fill: #ffffff\" transform=\"translate(523.8475 531.12425)scale(0.1 -0.1)\">\n     <use xlink:href=\"#DejaVuSans-31\"/>\n    </g>\n   </g>\n   <g id=\"text_282\">\n    <!-- -0.018 -->\n    <g style=\"fill: #ffffff\" transform=\"translate(545.630781 531.12425)scale(0.1 -0.1)\">\n     <use xlink:href=\"#DejaVuSans-2d\"/>\n     <use xlink:href=\"#DejaVuSans-30\" x=\"36.083984\"/>\n     <use xlink:href=\"#DejaVuSans-2e\" x=\"99.707031\"/>\n     <use xlink:href=\"#DejaVuSans-30\" x=\"131.494141\"/>\n     <use xlink:href=\"#DejaVuSans-31\" x=\"195.117188\"/>\n     <use xlink:href=\"#DejaVuSans-38\" x=\"258.740234\"/>\n    </g>\n   </g>\n   <g id=\"text_283\">\n    <!-- -0.48 -->\n    <g style=\"fill: #ffffff\" transform=\"translate(583.532031 531.12425)scale(0.1 -0.1)\">\n     <use xlink:href=\"#DejaVuSans-2d\"/>\n     <use xlink:href=\"#DejaVuSans-30\" x=\"36.083984\"/>\n     <use xlink:href=\"#DejaVuSans-2e\" x=\"99.707031\"/>\n     <use xlink:href=\"#DejaVuSans-34\" x=\"131.494141\"/>\n     <use xlink:href=\"#DejaVuSans-38\" x=\"195.117188\"/>\n    </g>\n   </g>\n   <g id=\"text_284\">\n    <!-- 1 -->\n    <g style=\"fill: #ffffff\" transform=\"translate(628.0075 531.12425)scale(0.1 -0.1)\">\n     <use xlink:href=\"#DejaVuSans-31\"/>\n    </g>\n   </g>\n   <g id=\"text_285\">\n    <!-- -0.0086 -->\n    <g style=\"fill: #ffffff\" transform=\"translate(646.609531 531.12425)scale(0.1 -0.1)\">\n     <use xlink:href=\"#DejaVuSans-2d\"/>\n     <use xlink:href=\"#DejaVuSans-30\" x=\"36.083984\"/>\n     <use xlink:href=\"#DejaVuSans-2e\" x=\"99.707031\"/>\n     <use xlink:href=\"#DejaVuSans-30\" x=\"131.494141\"/>\n     <use xlink:href=\"#DejaVuSans-30\" x=\"195.117188\"/>\n     <use xlink:href=\"#DejaVuSans-38\" x=\"258.740234\"/>\n     <use xlink:href=\"#DejaVuSans-36\" x=\"322.363281\"/>\n    </g>\n   </g>\n   <g id=\"text_286\">\n    <!-- -0.43 -->\n    <g style=\"fill: #ffffff\" transform=\"translate(687.692031 531.12425)scale(0.1 -0.1)\">\n     <use xlink:href=\"#DejaVuSans-2d\"/>\n     <use xlink:href=\"#DejaVuSans-30\" x=\"36.083984\"/>\n     <use xlink:href=\"#DejaVuSans-2e\" x=\"99.707031\"/>\n     <use xlink:href=\"#DejaVuSans-34\" x=\"131.494141\"/>\n     <use xlink:href=\"#DejaVuSans-33\" x=\"195.117188\"/>\n    </g>\n   </g>\n   <g id=\"text_287\">\n    <!-- 0.95 -->\n    <g style=\"fill: #ffffff\" transform=\"translate(724.215938 531.12425)scale(0.1 -0.1)\">\n     <use xlink:href=\"#DejaVuSans-30\"/>\n     <use xlink:href=\"#DejaVuSans-2e\" x=\"63.623047\"/>\n     <use xlink:href=\"#DejaVuSans-39\" x=\"95.410156\"/>\n     <use xlink:href=\"#DejaVuSans-35\" x=\"159.033203\"/>\n    </g>\n   </g>\n   <g id=\"text_288\">\n    <!-- 0.00012 -->\n    <g style=\"fill: #ffffff\" transform=\"translate(749.392188 531.12425)scale(0.1 -0.1)\">\n     <use xlink:href=\"#DejaVuSans-30\"/>\n     <use xlink:href=\"#DejaVuSans-2e\" x=\"63.623047\"/>\n     <use xlink:href=\"#DejaVuSans-30\" x=\"95.410156\"/>\n     <use xlink:href=\"#DejaVuSans-30\" x=\"159.033203\"/>\n     <use xlink:href=\"#DejaVuSans-30\" x=\"222.65625\"/>\n     <use xlink:href=\"#DejaVuSans-31\" x=\"286.279297\"/>\n     <use xlink:href=\"#DejaVuSans-32\" x=\"349.902344\"/>\n    </g>\n   </g>\n   <g id=\"text_289\">\n    <!-- 0.001 -->\n    <g style=\"fill: #ffffff\" transform=\"translate(165.514688 565.84425)scale(0.1 -0.1)\">\n     <use xlink:href=\"#DejaVuSans-30\"/>\n     <use xlink:href=\"#DejaVuSans-2e\" x=\"63.623047\"/>\n     <use xlink:href=\"#DejaVuSans-30\" x=\"95.410156\"/>\n     <use xlink:href=\"#DejaVuSans-30\" x=\"159.033203\"/>\n     <use xlink:href=\"#DejaVuSans-31\" x=\"222.65625\"/>\n    </g>\n   </g>\n   <g id=\"text_290\">\n    <!-- -0.011 -->\n    <g style=\"fill: #ffffff\" transform=\"translate(198.430781 565.84425)scale(0.1 -0.1)\">\n     <use xlink:href=\"#DejaVuSans-2d\"/>\n     <use xlink:href=\"#DejaVuSans-30\" x=\"36.083984\"/>\n     <use xlink:href=\"#DejaVuSans-2e\" x=\"99.707031\"/>\n     <use xlink:href=\"#DejaVuSans-30\" x=\"131.494141\"/>\n     <use xlink:href=\"#DejaVuSans-31\" x=\"195.117188\"/>\n     <use xlink:href=\"#DejaVuSans-31\" x=\"258.740234\"/>\n    </g>\n   </g>\n   <g id=\"text_291\">\n    <!-- -0.013 -->\n    <g style=\"fill: #ffffff\" transform=\"translate(233.150781 565.84425)scale(0.1 -0.1)\">\n     <use xlink:href=\"#DejaVuSans-2d\"/>\n     <use xlink:href=\"#DejaVuSans-30\" x=\"36.083984\"/>\n     <use xlink:href=\"#DejaVuSans-2e\" x=\"99.707031\"/>\n     <use xlink:href=\"#DejaVuSans-30\" x=\"131.494141\"/>\n     <use xlink:href=\"#DejaVuSans-31\" x=\"195.117188\"/>\n     <use xlink:href=\"#DejaVuSans-33\" x=\"258.740234\"/>\n    </g>\n   </g>\n   <g id=\"text_292\">\n    <!-- -0.011 -->\n    <g style=\"fill: #ffffff\" transform=\"translate(267.870781 565.84425)scale(0.1 -0.1)\">\n     <use xlink:href=\"#DejaVuSans-2d\"/>\n     <use xlink:href=\"#DejaVuSans-30\" x=\"36.083984\"/>\n     <use xlink:href=\"#DejaVuSans-2e\" x=\"99.707031\"/>\n     <use xlink:href=\"#DejaVuSans-30\" x=\"131.494141\"/>\n     <use xlink:href=\"#DejaVuSans-31\" x=\"195.117188\"/>\n     <use xlink:href=\"#DejaVuSans-31\" x=\"258.740234\"/>\n    </g>\n   </g>\n   <g id=\"text_293\">\n    <!-- -0.013 -->\n    <g style=\"fill: #ffffff\" transform=\"translate(302.590781 565.84425)scale(0.1 -0.1)\">\n     <use xlink:href=\"#DejaVuSans-2d\"/>\n     <use xlink:href=\"#DejaVuSans-30\" x=\"36.083984\"/>\n     <use xlink:href=\"#DejaVuSans-2e\" x=\"99.707031\"/>\n     <use xlink:href=\"#DejaVuSans-30\" x=\"131.494141\"/>\n     <use xlink:href=\"#DejaVuSans-31\" x=\"195.117188\"/>\n     <use xlink:href=\"#DejaVuSans-33\" x=\"258.740234\"/>\n    </g>\n   </g>\n   <g id=\"text_294\">\n    <!-- -0.0052 -->\n    <g style=\"fill: #ffffff\" transform=\"translate(334.129531 565.84425)scale(0.1 -0.1)\">\n     <use xlink:href=\"#DejaVuSans-2d\"/>\n     <use xlink:href=\"#DejaVuSans-30\" x=\"36.083984\"/>\n     <use xlink:href=\"#DejaVuSans-2e\" x=\"99.707031\"/>\n     <use xlink:href=\"#DejaVuSans-30\" x=\"131.494141\"/>\n     <use xlink:href=\"#DejaVuSans-30\" x=\"195.117188\"/>\n     <use xlink:href=\"#DejaVuSans-35\" x=\"258.740234\"/>\n     <use xlink:href=\"#DejaVuSans-32\" x=\"322.363281\"/>\n    </g>\n   </g>\n   <g id=\"text_295\">\n    <!-- -0.0053 -->\n    <g style=\"fill: #ffffff\" transform=\"translate(368.849531 565.84425)scale(0.1 -0.1)\">\n     <use xlink:href=\"#DejaVuSans-2d\"/>\n     <use xlink:href=\"#DejaVuSans-30\" x=\"36.083984\"/>\n     <use xlink:href=\"#DejaVuSans-2e\" x=\"99.707031\"/>\n     <use xlink:href=\"#DejaVuSans-30\" x=\"131.494141\"/>\n     <use xlink:href=\"#DejaVuSans-30\" x=\"195.117188\"/>\n     <use xlink:href=\"#DejaVuSans-35\" x=\"258.740234\"/>\n     <use xlink:href=\"#DejaVuSans-33\" x=\"322.363281\"/>\n    </g>\n   </g>\n   <g id=\"text_296\">\n    <!-- -0.00089 -->\n    <g style=\"fill: #ffffff\" transform=\"translate(400.388281 565.84425)scale(0.1 -0.1)\">\n     <use xlink:href=\"#DejaVuSans-2d\"/>\n     <use xlink:href=\"#DejaVuSans-30\" x=\"36.083984\"/>\n     <use xlink:href=\"#DejaVuSans-2e\" x=\"99.707031\"/>\n     <use xlink:href=\"#DejaVuSans-30\" x=\"131.494141\"/>\n     <use xlink:href=\"#DejaVuSans-30\" x=\"195.117188\"/>\n     <use xlink:href=\"#DejaVuSans-30\" x=\"258.740234\"/>\n     <use xlink:href=\"#DejaVuSans-38\" x=\"322.363281\"/>\n     <use xlink:href=\"#DejaVuSans-39\" x=\"385.986328\"/>\n    </g>\n   </g>\n   <g id=\"text_297\">\n    <!-- -0.37 -->\n    <g style=\"fill: #ffffff\" transform=\"translate(444.652031 565.84425)scale(0.1 -0.1)\">\n     <use xlink:href=\"#DejaVuSans-2d\"/>\n     <use xlink:href=\"#DejaVuSans-30\" x=\"36.083984\"/>\n     <use xlink:href=\"#DejaVuSans-2e\" x=\"99.707031\"/>\n     <use xlink:href=\"#DejaVuSans-33\" x=\"131.494141\"/>\n     <use xlink:href=\"#DejaVuSans-37\" x=\"195.117188\"/>\n    </g>\n   </g>\n   <g id=\"text_298\">\n    <!-- 0.053 -->\n    <g style=\"fill: #262626\" transform=\"translate(477.994688 565.84425)scale(0.1 -0.1)\">\n     <use xlink:href=\"#DejaVuSans-30\"/>\n     <use xlink:href=\"#DejaVuSans-2e\" x=\"63.623047\"/>\n     <use xlink:href=\"#DejaVuSans-30\" x=\"95.410156\"/>\n     <use xlink:href=\"#DejaVuSans-35\" x=\"159.033203\"/>\n     <use xlink:href=\"#DejaVuSans-33\" x=\"222.65625\"/>\n    </g>\n   </g>\n   <g id=\"text_299\">\n    <!-- -0.0083 -->\n    <g style=\"fill: #ffffff\" transform=\"translate(507.729531 565.84425)scale(0.1 -0.1)\">\n     <use xlink:href=\"#DejaVuSans-2d\"/>\n     <use xlink:href=\"#DejaVuSans-30\" x=\"36.083984\"/>\n     <use xlink:href=\"#DejaVuSans-2e\" x=\"99.707031\"/>\n     <use xlink:href=\"#DejaVuSans-30\" x=\"131.494141\"/>\n     <use xlink:href=\"#DejaVuSans-30\" x=\"195.117188\"/>\n     <use xlink:href=\"#DejaVuSans-38\" x=\"258.740234\"/>\n     <use xlink:href=\"#DejaVuSans-33\" x=\"322.363281\"/>\n    </g>\n   </g>\n   <g id=\"text_300\">\n    <!-- -0.37 -->\n    <g style=\"fill: #ffffff\" transform=\"translate(548.812031 565.84425)scale(0.1 -0.1)\">\n     <use xlink:href=\"#DejaVuSans-2d\"/>\n     <use xlink:href=\"#DejaVuSans-30\" x=\"36.083984\"/>\n     <use xlink:href=\"#DejaVuSans-2e\" x=\"99.707031\"/>\n     <use xlink:href=\"#DejaVuSans-33\" x=\"131.494141\"/>\n     <use xlink:href=\"#DejaVuSans-37\" x=\"195.117188\"/>\n    </g>\n   </g>\n   <g id=\"text_301\">\n    <!-- 0.053 -->\n    <g style=\"fill: #262626\" transform=\"translate(582.154688 565.84425)scale(0.1 -0.1)\">\n     <use xlink:href=\"#DejaVuSans-30\"/>\n     <use xlink:href=\"#DejaVuSans-2e\" x=\"63.623047\"/>\n     <use xlink:href=\"#DejaVuSans-30\" x=\"95.410156\"/>\n     <use xlink:href=\"#DejaVuSans-35\" x=\"159.033203\"/>\n     <use xlink:href=\"#DejaVuSans-33\" x=\"222.65625\"/>\n    </g>\n   </g>\n   <g id=\"text_302\">\n    <!-- -0.0086 -->\n    <g style=\"fill: #ffffff\" transform=\"translate(611.889531 565.84425)scale(0.1 -0.1)\">\n     <use xlink:href=\"#DejaVuSans-2d\"/>\n     <use xlink:href=\"#DejaVuSans-30\" x=\"36.083984\"/>\n     <use xlink:href=\"#DejaVuSans-2e\" x=\"99.707031\"/>\n     <use xlink:href=\"#DejaVuSans-30\" x=\"131.494141\"/>\n     <use xlink:href=\"#DejaVuSans-30\" x=\"195.117188\"/>\n     <use xlink:href=\"#DejaVuSans-38\" x=\"258.740234\"/>\n     <use xlink:href=\"#DejaVuSans-36\" x=\"322.363281\"/>\n    </g>\n   </g>\n   <g id=\"text_303\">\n    <!-- 1 -->\n    <g style=\"fill: #ffffff\" transform=\"translate(662.7275 565.84425)scale(0.1 -0.1)\">\n     <use xlink:href=\"#DejaVuSans-31\"/>\n    </g>\n   </g>\n   <g id=\"text_304\">\n    <!-- -0.039 -->\n    <g style=\"fill: #ffffff\" transform=\"translate(684.510781 565.84425)scale(0.1 -0.1)\">\n     <use xlink:href=\"#DejaVuSans-2d\"/>\n     <use xlink:href=\"#DejaVuSans-30\" x=\"36.083984\"/>\n     <use xlink:href=\"#DejaVuSans-2e\" x=\"99.707031\"/>\n     <use xlink:href=\"#DejaVuSans-30\" x=\"131.494141\"/>\n     <use xlink:href=\"#DejaVuSans-33\" x=\"195.117188\"/>\n     <use xlink:href=\"#DejaVuSans-39\" x=\"258.740234\"/>\n    </g>\n   </g>\n   <g id=\"text_305\">\n    <!-- -0.027 -->\n    <g style=\"fill: #ffffff\" transform=\"translate(719.230781 565.84425)scale(0.1 -0.1)\">\n     <use xlink:href=\"#DejaVuSans-2d\"/>\n     <use xlink:href=\"#DejaVuSans-30\" x=\"36.083984\"/>\n     <use xlink:href=\"#DejaVuSans-2e\" x=\"99.707031\"/>\n     <use xlink:href=\"#DejaVuSans-30\" x=\"131.494141\"/>\n     <use xlink:href=\"#DejaVuSans-32\" x=\"195.117188\"/>\n     <use xlink:href=\"#DejaVuSans-37\" x=\"258.740234\"/>\n    </g>\n   </g>\n   <g id=\"text_306\">\n    <!-- -0.0015 -->\n    <g style=\"fill: #ffffff\" transform=\"translate(750.769531 565.84425)scale(0.1 -0.1)\">\n     <use xlink:href=\"#DejaVuSans-2d\"/>\n     <use xlink:href=\"#DejaVuSans-30\" x=\"36.083984\"/>\n     <use xlink:href=\"#DejaVuSans-2e\" x=\"99.707031\"/>\n     <use xlink:href=\"#DejaVuSans-30\" x=\"131.494141\"/>\n     <use xlink:href=\"#DejaVuSans-30\" x=\"195.117188\"/>\n     <use xlink:href=\"#DejaVuSans-31\" x=\"258.740234\"/>\n     <use xlink:href=\"#DejaVuSans-35\" x=\"322.363281\"/>\n    </g>\n   </g>\n   <g id=\"text_307\">\n    <!-- 0.0042 -->\n    <g style=\"fill: #ffffff\" transform=\"translate(162.333438 600.56425)scale(0.1 -0.1)\">\n     <use xlink:href=\"#DejaVuSans-30\"/>\n     <use xlink:href=\"#DejaVuSans-2e\" x=\"63.623047\"/>\n     <use xlink:href=\"#DejaVuSans-30\" x=\"95.410156\"/>\n     <use xlink:href=\"#DejaVuSans-30\" x=\"159.033203\"/>\n     <use xlink:href=\"#DejaVuSans-34\" x=\"222.65625\"/>\n     <use xlink:href=\"#DejaVuSans-32\" x=\"286.279297\"/>\n    </g>\n   </g>\n   <g id=\"text_308\">\n    <!-- 0.0075 -->\n    <g style=\"fill: #ffffff\" transform=\"translate(197.053438 600.56425)scale(0.1 -0.1)\">\n     <use xlink:href=\"#DejaVuSans-30\"/>\n     <use xlink:href=\"#DejaVuSans-2e\" x=\"63.623047\"/>\n     <use xlink:href=\"#DejaVuSans-30\" x=\"95.410156\"/>\n     <use xlink:href=\"#DejaVuSans-30\" x=\"159.033203\"/>\n     <use xlink:href=\"#DejaVuSans-37\" x=\"222.65625\"/>\n     <use xlink:href=\"#DejaVuSans-35\" x=\"286.279297\"/>\n    </g>\n   </g>\n   <g id=\"text_309\">\n    <!-- -0.47 -->\n    <g style=\"fill: #ffffff\" transform=\"translate(236.332031 600.56425)scale(0.1 -0.1)\">\n     <use xlink:href=\"#DejaVuSans-2d\"/>\n     <use xlink:href=\"#DejaVuSans-30\" x=\"36.083984\"/>\n     <use xlink:href=\"#DejaVuSans-2e\" x=\"99.707031\"/>\n     <use xlink:href=\"#DejaVuSans-34\" x=\"131.494141\"/>\n     <use xlink:href=\"#DejaVuSans-37\" x=\"195.117188\"/>\n    </g>\n   </g>\n   <g id=\"text_310\">\n    <!-- -0.0053 -->\n    <g style=\"fill: #ffffff\" transform=\"translate(264.689531 600.56425)scale(0.1 -0.1)\">\n     <use xlink:href=\"#DejaVuSans-2d\"/>\n     <use xlink:href=\"#DejaVuSans-30\" x=\"36.083984\"/>\n     <use xlink:href=\"#DejaVuSans-2e\" x=\"99.707031\"/>\n     <use xlink:href=\"#DejaVuSans-30\" x=\"131.494141\"/>\n     <use xlink:href=\"#DejaVuSans-30\" x=\"195.117188\"/>\n     <use xlink:href=\"#DejaVuSans-35\" x=\"258.740234\"/>\n     <use xlink:href=\"#DejaVuSans-33\" x=\"322.363281\"/>\n    </g>\n   </g>\n   <g id=\"text_311\">\n    <!-- 0.031 -->\n    <g style=\"fill: #262626\" transform=\"translate(304.394688 600.56425)scale(0.1 -0.1)\">\n     <use xlink:href=\"#DejaVuSans-30\"/>\n     <use xlink:href=\"#DejaVuSans-2e\" x=\"63.623047\"/>\n     <use xlink:href=\"#DejaVuSans-30\" x=\"95.410156\"/>\n     <use xlink:href=\"#DejaVuSans-33\" x=\"159.033203\"/>\n     <use xlink:href=\"#DejaVuSans-31\" x=\"222.65625\"/>\n    </g>\n   </g>\n   <g id=\"text_312\">\n    <!-- 0.0039 -->\n    <g style=\"fill: #ffffff\" transform=\"translate(335.933438 600.56425)scale(0.1 -0.1)\">\n     <use xlink:href=\"#DejaVuSans-30\"/>\n     <use xlink:href=\"#DejaVuSans-2e\" x=\"63.623047\"/>\n     <use xlink:href=\"#DejaVuSans-30\" x=\"95.410156\"/>\n     <use xlink:href=\"#DejaVuSans-30\" x=\"159.033203\"/>\n     <use xlink:href=\"#DejaVuSans-33\" x=\"222.65625\"/>\n     <use xlink:href=\"#DejaVuSans-39\" x=\"286.279297\"/>\n    </g>\n   </g>\n   <g id=\"text_313\">\n    <!-- 0.012 -->\n    <g style=\"fill: #ffffff\" transform=\"translate(373.834688 600.56425)scale(0.1 -0.1)\">\n     <use xlink:href=\"#DejaVuSans-30\"/>\n     <use xlink:href=\"#DejaVuSans-2e\" x=\"63.623047\"/>\n     <use xlink:href=\"#DejaVuSans-30\" x=\"95.410156\"/>\n     <use xlink:href=\"#DejaVuSans-31\" x=\"159.033203\"/>\n     <use xlink:href=\"#DejaVuSans-32\" x=\"222.65625\"/>\n    </g>\n   </g>\n   <g id=\"text_314\">\n    <!-- 0.025 -->\n    <g style=\"fill: #262626\" transform=\"translate(408.554688 600.56425)scale(0.1 -0.1)\">\n     <use xlink:href=\"#DejaVuSans-30\"/>\n     <use xlink:href=\"#DejaVuSans-2e\" x=\"63.623047\"/>\n     <use xlink:href=\"#DejaVuSans-30\" x=\"95.410156\"/>\n     <use xlink:href=\"#DejaVuSans-32\" x=\"159.033203\"/>\n     <use xlink:href=\"#DejaVuSans-35\" x=\"222.65625\"/>\n    </g>\n   </g>\n   <g id=\"text_315\">\n    <!-- 0.016 -->\n    <g style=\"fill: #ffffff\" transform=\"translate(443.274688 600.56425)scale(0.1 -0.1)\">\n     <use xlink:href=\"#DejaVuSans-30\"/>\n     <use xlink:href=\"#DejaVuSans-2e\" x=\"63.623047\"/>\n     <use xlink:href=\"#DejaVuSans-30\" x=\"95.410156\"/>\n     <use xlink:href=\"#DejaVuSans-31\" x=\"159.033203\"/>\n     <use xlink:href=\"#DejaVuSans-36\" x=\"222.65625\"/>\n    </g>\n   </g>\n   <g id=\"text_316\">\n    <!-- 0.92 -->\n    <g style=\"fill: #ffffff\" transform=\"translate(481.175938 600.56425)scale(0.1 -0.1)\">\n     <use xlink:href=\"#DejaVuSans-30\"/>\n     <use xlink:href=\"#DejaVuSans-2e\" x=\"63.623047\"/>\n     <use xlink:href=\"#DejaVuSans-39\" x=\"95.410156\"/>\n     <use xlink:href=\"#DejaVuSans-32\" x=\"159.033203\"/>\n    </g>\n   </g>\n   <g id=\"text_317\">\n    <!-- -0.43 -->\n    <g style=\"fill: #ffffff\" transform=\"translate(514.092031 600.56425)scale(0.1 -0.1)\">\n     <use xlink:href=\"#DejaVuSans-2d\"/>\n     <use xlink:href=\"#DejaVuSans-30\" x=\"36.083984\"/>\n     <use xlink:href=\"#DejaVuSans-2e\" x=\"99.707031\"/>\n     <use xlink:href=\"#DejaVuSans-34\" x=\"131.494141\"/>\n     <use xlink:href=\"#DejaVuSans-33\" x=\"195.117188\"/>\n    </g>\n   </g>\n   <g id=\"text_318\">\n    <!-- 0.021 -->\n    <g style=\"fill: #ffffff\" transform=\"translate(547.434688 600.56425)scale(0.1 -0.1)\">\n     <use xlink:href=\"#DejaVuSans-30\"/>\n     <use xlink:href=\"#DejaVuSans-2e\" x=\"63.623047\"/>\n     <use xlink:href=\"#DejaVuSans-30\" x=\"95.410156\"/>\n     <use xlink:href=\"#DejaVuSans-32\" x=\"159.033203\"/>\n     <use xlink:href=\"#DejaVuSans-31\" x=\"222.65625\"/>\n    </g>\n   </g>\n   <g id=\"text_319\">\n    <!-- 0.92 -->\n    <g style=\"fill: #ffffff\" transform=\"translate(585.335938 600.56425)scale(0.1 -0.1)\">\n     <use xlink:href=\"#DejaVuSans-30\"/>\n     <use xlink:href=\"#DejaVuSans-2e\" x=\"63.623047\"/>\n     <use xlink:href=\"#DejaVuSans-39\" x=\"95.410156\"/>\n     <use xlink:href=\"#DejaVuSans-32\" x=\"159.033203\"/>\n    </g>\n   </g>\n   <g id=\"text_320\">\n    <!-- -0.43 -->\n    <g style=\"fill: #ffffff\" transform=\"translate(618.252031 600.56425)scale(0.1 -0.1)\">\n     <use xlink:href=\"#DejaVuSans-2d\"/>\n     <use xlink:href=\"#DejaVuSans-30\" x=\"36.083984\"/>\n     <use xlink:href=\"#DejaVuSans-2e\" x=\"99.707031\"/>\n     <use xlink:href=\"#DejaVuSans-34\" x=\"131.494141\"/>\n     <use xlink:href=\"#DejaVuSans-33\" x=\"195.117188\"/>\n    </g>\n   </g>\n   <g id=\"text_321\">\n    <!-- -0.039 -->\n    <g style=\"fill: #ffffff\" transform=\"translate(649.790781 600.56425)scale(0.1 -0.1)\">\n     <use xlink:href=\"#DejaVuSans-2d\"/>\n     <use xlink:href=\"#DejaVuSans-30\" x=\"36.083984\"/>\n     <use xlink:href=\"#DejaVuSans-2e\" x=\"99.707031\"/>\n     <use xlink:href=\"#DejaVuSans-30\" x=\"131.494141\"/>\n     <use xlink:href=\"#DejaVuSans-33\" x=\"195.117188\"/>\n     <use xlink:href=\"#DejaVuSans-39\" x=\"258.740234\"/>\n    </g>\n   </g>\n   <g id=\"text_322\">\n    <!-- 1 -->\n    <g style=\"fill: #ffffff\" transform=\"translate(697.4475 600.56425)scale(0.1 -0.1)\">\n     <use xlink:href=\"#DejaVuSans-31\"/>\n    </g>\n   </g>\n   <g id=\"text_323\">\n    <!-- -0.48 -->\n    <g style=\"fill: #ffffff\" transform=\"translate(722.412031 600.56425)scale(0.1 -0.1)\">\n     <use xlink:href=\"#DejaVuSans-2d\"/>\n     <use xlink:href=\"#DejaVuSans-30\" x=\"36.083984\"/>\n     <use xlink:href=\"#DejaVuSans-2e\" x=\"99.707031\"/>\n     <use xlink:href=\"#DejaVuSans-34\" x=\"131.494141\"/>\n     <use xlink:href=\"#DejaVuSans-38\" x=\"195.117188\"/>\n    </g>\n   </g>\n   <g id=\"text_324\">\n    <!-- -0.028 -->\n    <g style=\"fill: #ffffff\" transform=\"translate(753.950781 600.56425)scale(0.1 -0.1)\">\n     <use xlink:href=\"#DejaVuSans-2d\"/>\n     <use xlink:href=\"#DejaVuSans-30\" x=\"36.083984\"/>\n     <use xlink:href=\"#DejaVuSans-2e\" x=\"99.707031\"/>\n     <use xlink:href=\"#DejaVuSans-30\" x=\"131.494141\"/>\n     <use xlink:href=\"#DejaVuSans-32\" x=\"195.117188\"/>\n     <use xlink:href=\"#DejaVuSans-38\" x=\"258.740234\"/>\n    </g>\n   </g>\n   <g id=\"text_325\">\n    <!-- -0.0041 -->\n    <g style=\"fill: #ffffff\" transform=\"translate(160.529531 635.28425)scale(0.1 -0.1)\">\n     <use xlink:href=\"#DejaVuSans-2d\"/>\n     <use xlink:href=\"#DejaVuSans-30\" x=\"36.083984\"/>\n     <use xlink:href=\"#DejaVuSans-2e\" x=\"99.707031\"/>\n     <use xlink:href=\"#DejaVuSans-30\" x=\"131.494141\"/>\n     <use xlink:href=\"#DejaVuSans-30\" x=\"195.117188\"/>\n     <use xlink:href=\"#DejaVuSans-34\" x=\"258.740234\"/>\n     <use xlink:href=\"#DejaVuSans-31\" x=\"322.363281\"/>\n    </g>\n   </g>\n   <g id=\"text_326\">\n    <!-- 0.0027 -->\n    <g style=\"fill: #ffffff\" transform=\"translate(197.053438 635.28425)scale(0.1 -0.1)\">\n     <use xlink:href=\"#DejaVuSans-30\"/>\n     <use xlink:href=\"#DejaVuSans-2e\" x=\"63.623047\"/>\n     <use xlink:href=\"#DejaVuSans-30\" x=\"95.410156\"/>\n     <use xlink:href=\"#DejaVuSans-30\" x=\"159.033203\"/>\n     <use xlink:href=\"#DejaVuSans-32\" x=\"222.65625\"/>\n     <use xlink:href=\"#DejaVuSans-37\" x=\"286.279297\"/>\n    </g>\n   </g>\n   <g id=\"text_327\">\n    <!-- 0.98 -->\n    <g style=\"fill: #ffffff\" transform=\"translate(238.135938 635.28425)scale(0.1 -0.1)\">\n     <use xlink:href=\"#DejaVuSans-30\"/>\n     <use xlink:href=\"#DejaVuSans-2e\" x=\"63.623047\"/>\n     <use xlink:href=\"#DejaVuSans-39\" x=\"95.410156\"/>\n     <use xlink:href=\"#DejaVuSans-38\" x=\"159.033203\"/>\n    </g>\n   </g>\n   <g id=\"text_328\">\n    <!-- -0.019 -->\n    <g style=\"fill: #ffffff\" transform=\"translate(267.870781 635.28425)scale(0.1 -0.1)\">\n     <use xlink:href=\"#DejaVuSans-2d\"/>\n     <use xlink:href=\"#DejaVuSans-30\" x=\"36.083984\"/>\n     <use xlink:href=\"#DejaVuSans-2e\" x=\"99.707031\"/>\n     <use xlink:href=\"#DejaVuSans-30\" x=\"131.494141\"/>\n     <use xlink:href=\"#DejaVuSans-31\" x=\"195.117188\"/>\n     <use xlink:href=\"#DejaVuSans-39\" x=\"258.740234\"/>\n    </g>\n   </g>\n   <g id=\"text_329\">\n    <!-- -0.014 -->\n    <g style=\"fill: #ffffff\" transform=\"translate(302.590781 635.28425)scale(0.1 -0.1)\">\n     <use xlink:href=\"#DejaVuSans-2d\"/>\n     <use xlink:href=\"#DejaVuSans-30\" x=\"36.083984\"/>\n     <use xlink:href=\"#DejaVuSans-2e\" x=\"99.707031\"/>\n     <use xlink:href=\"#DejaVuSans-30\" x=\"131.494141\"/>\n     <use xlink:href=\"#DejaVuSans-31\" x=\"195.117188\"/>\n     <use xlink:href=\"#DejaVuSans-34\" x=\"258.740234\"/>\n    </g>\n   </g>\n   <g id=\"text_330\">\n    <!-- 0.0041 -->\n    <g style=\"fill: #ffffff\" transform=\"translate(335.933438 635.28425)scale(0.1 -0.1)\">\n     <use xlink:href=\"#DejaVuSans-30\"/>\n     <use xlink:href=\"#DejaVuSans-2e\" x=\"63.623047\"/>\n     <use xlink:href=\"#DejaVuSans-30\" x=\"95.410156\"/>\n     <use xlink:href=\"#DejaVuSans-30\" x=\"159.033203\"/>\n     <use xlink:href=\"#DejaVuSans-34\" x=\"222.65625\"/>\n     <use xlink:href=\"#DejaVuSans-31\" x=\"286.279297\"/>\n    </g>\n   </g>\n   <g id=\"text_331\">\n    <!-- -0.017 -->\n    <g style=\"fill: #ffffff\" transform=\"translate(372.030781 635.28425)scale(0.1 -0.1)\">\n     <use xlink:href=\"#DejaVuSans-2d\"/>\n     <use xlink:href=\"#DejaVuSans-30\" x=\"36.083984\"/>\n     <use xlink:href=\"#DejaVuSans-2e\" x=\"99.707031\"/>\n     <use xlink:href=\"#DejaVuSans-30\" x=\"131.494141\"/>\n     <use xlink:href=\"#DejaVuSans-31\" x=\"195.117188\"/>\n     <use xlink:href=\"#DejaVuSans-37\" x=\"258.740234\"/>\n    </g>\n   </g>\n   <g id=\"text_332\">\n    <!-- 0.0013 -->\n    <g style=\"fill: #ffffff\" transform=\"translate(405.373438 635.28425)scale(0.1 -0.1)\">\n     <use xlink:href=\"#DejaVuSans-30\"/>\n     <use xlink:href=\"#DejaVuSans-2e\" x=\"63.623047\"/>\n     <use xlink:href=\"#DejaVuSans-30\" x=\"95.410156\"/>\n     <use xlink:href=\"#DejaVuSans-30\" x=\"159.033203\"/>\n     <use xlink:href=\"#DejaVuSans-31\" x=\"222.65625\"/>\n     <use xlink:href=\"#DejaVuSans-33\" x=\"286.279297\"/>\n    </g>\n   </g>\n   <g id=\"text_333\">\n    <!-- 0.028 -->\n    <g style=\"fill: #262626\" transform=\"translate(443.274688 635.28425)scale(0.1 -0.1)\">\n     <use xlink:href=\"#DejaVuSans-30\"/>\n     <use xlink:href=\"#DejaVuSans-2e\" x=\"63.623047\"/>\n     <use xlink:href=\"#DejaVuSans-30\" x=\"95.410156\"/>\n     <use xlink:href=\"#DejaVuSans-32\" x=\"159.033203\"/>\n     <use xlink:href=\"#DejaVuSans-38\" x=\"222.65625\"/>\n    </g>\n   </g>\n   <g id=\"text_334\">\n    <!-- -0.41 -->\n    <g style=\"fill: #ffffff\" transform=\"translate(479.372031 635.28425)scale(0.1 -0.1)\">\n     <use xlink:href=\"#DejaVuSans-2d\"/>\n     <use xlink:href=\"#DejaVuSans-30\" x=\"36.083984\"/>\n     <use xlink:href=\"#DejaVuSans-2e\" x=\"99.707031\"/>\n     <use xlink:href=\"#DejaVuSans-34\" x=\"131.494141\"/>\n     <use xlink:href=\"#DejaVuSans-31\" x=\"195.117188\"/>\n    </g>\n   </g>\n   <g id=\"text_335\">\n    <!-- 0.95 -->\n    <g style=\"fill: #ffffff\" transform=\"translate(515.895938 635.28425)scale(0.1 -0.1)\">\n     <use xlink:href=\"#DejaVuSans-30\"/>\n     <use xlink:href=\"#DejaVuSans-2e\" x=\"63.623047\"/>\n     <use xlink:href=\"#DejaVuSans-39\" x=\"95.410156\"/>\n     <use xlink:href=\"#DejaVuSans-35\" x=\"159.033203\"/>\n    </g>\n   </g>\n   <g id=\"text_336\">\n    <!-- 0.023 -->\n    <g style=\"fill: #262626\" transform=\"translate(547.434688 635.28425)scale(0.1 -0.1)\">\n     <use xlink:href=\"#DejaVuSans-30\"/>\n     <use xlink:href=\"#DejaVuSans-2e\" x=\"63.623047\"/>\n     <use xlink:href=\"#DejaVuSans-30\" x=\"95.410156\"/>\n     <use xlink:href=\"#DejaVuSans-32\" x=\"159.033203\"/>\n     <use xlink:href=\"#DejaVuSans-33\" x=\"222.65625\"/>\n    </g>\n   </g>\n   <g id=\"text_337\">\n    <!-- -0.42 -->\n    <g style=\"fill: #ffffff\" transform=\"translate(583.532031 635.28425)scale(0.1 -0.1)\">\n     <use xlink:href=\"#DejaVuSans-2d\"/>\n     <use xlink:href=\"#DejaVuSans-30\" x=\"36.083984\"/>\n     <use xlink:href=\"#DejaVuSans-2e\" x=\"99.707031\"/>\n     <use xlink:href=\"#DejaVuSans-34\" x=\"131.494141\"/>\n     <use xlink:href=\"#DejaVuSans-32\" x=\"195.117188\"/>\n    </g>\n   </g>\n   <g id=\"text_338\">\n    <!-- 0.95 -->\n    <g style=\"fill: #ffffff\" transform=\"translate(620.055938 635.28425)scale(0.1 -0.1)\">\n     <use xlink:href=\"#DejaVuSans-30\"/>\n     <use xlink:href=\"#DejaVuSans-2e\" x=\"63.623047\"/>\n     <use xlink:href=\"#DejaVuSans-39\" x=\"95.410156\"/>\n     <use xlink:href=\"#DejaVuSans-35\" x=\"159.033203\"/>\n    </g>\n   </g>\n   <g id=\"text_339\">\n    <!-- -0.027 -->\n    <g style=\"fill: #ffffff\" transform=\"translate(649.790781 635.28425)scale(0.1 -0.1)\">\n     <use xlink:href=\"#DejaVuSans-2d\"/>\n     <use xlink:href=\"#DejaVuSans-30\" x=\"36.083984\"/>\n     <use xlink:href=\"#DejaVuSans-2e\" x=\"99.707031\"/>\n     <use xlink:href=\"#DejaVuSans-30\" x=\"131.494141\"/>\n     <use xlink:href=\"#DejaVuSans-32\" x=\"195.117188\"/>\n     <use xlink:href=\"#DejaVuSans-37\" x=\"258.740234\"/>\n    </g>\n   </g>\n   <g id=\"text_340\">\n    <!-- -0.48 -->\n    <g style=\"fill: #ffffff\" transform=\"translate(687.692031 635.28425)scale(0.1 -0.1)\">\n     <use xlink:href=\"#DejaVuSans-2d\"/>\n     <use xlink:href=\"#DejaVuSans-30\" x=\"36.083984\"/>\n     <use xlink:href=\"#DejaVuSans-2e\" x=\"99.707031\"/>\n     <use xlink:href=\"#DejaVuSans-34\" x=\"131.494141\"/>\n     <use xlink:href=\"#DejaVuSans-38\" x=\"195.117188\"/>\n    </g>\n   </g>\n   <g id=\"text_341\">\n    <!-- 1 -->\n    <g style=\"fill: #ffffff\" transform=\"translate(732.1675 635.28425)scale(0.1 -0.1)\">\n     <use xlink:href=\"#DejaVuSans-31\"/>\n    </g>\n   </g>\n   <g id=\"text_342\">\n    <!-- -0.0089 -->\n    <g style=\"fill: #ffffff\" transform=\"translate(750.769531 635.28425)scale(0.1 -0.1)\">\n     <use xlink:href=\"#DejaVuSans-2d\"/>\n     <use xlink:href=\"#DejaVuSans-30\" x=\"36.083984\"/>\n     <use xlink:href=\"#DejaVuSans-2e\" x=\"99.707031\"/>\n     <use xlink:href=\"#DejaVuSans-30\" x=\"131.494141\"/>\n     <use xlink:href=\"#DejaVuSans-30\" x=\"195.117188\"/>\n     <use xlink:href=\"#DejaVuSans-38\" x=\"258.740234\"/>\n     <use xlink:href=\"#DejaVuSans-39\" x=\"322.363281\"/>\n    </g>\n   </g>\n   <g id=\"text_343\">\n    <!-- -0.0092 -->\n    <g style=\"fill: #ffffff\" transform=\"translate(160.529531 670.00425)scale(0.1 -0.1)\">\n     <use xlink:href=\"#DejaVuSans-2d\"/>\n     <use xlink:href=\"#DejaVuSans-30\" x=\"36.083984\"/>\n     <use xlink:href=\"#DejaVuSans-2e\" x=\"99.707031\"/>\n     <use xlink:href=\"#DejaVuSans-30\" x=\"131.494141\"/>\n     <use xlink:href=\"#DejaVuSans-30\" x=\"195.117188\"/>\n     <use xlink:href=\"#DejaVuSans-39\" x=\"258.740234\"/>\n     <use xlink:href=\"#DejaVuSans-32\" x=\"322.363281\"/>\n    </g>\n   </g>\n   <g id=\"text_344\">\n    <!-- -0.54 -->\n    <g style=\"fill: #ffffff\" transform=\"translate(201.612031 670.00425)scale(0.1 -0.1)\">\n     <use xlink:href=\"#DejaVuSans-2d\"/>\n     <use xlink:href=\"#DejaVuSans-30\" x=\"36.083984\"/>\n     <use xlink:href=\"#DejaVuSans-2e\" x=\"99.707031\"/>\n     <use xlink:href=\"#DejaVuSans-35\" x=\"131.494141\"/>\n     <use xlink:href=\"#DejaVuSans-34\" x=\"195.117188\"/>\n    </g>\n   </g>\n   <g id=\"text_345\">\n    <!-- -0.0027 -->\n    <g style=\"fill: #ffffff\" transform=\"translate(229.969531 670.00425)scale(0.1 -0.1)\">\n     <use xlink:href=\"#DejaVuSans-2d\"/>\n     <use xlink:href=\"#DejaVuSans-30\" x=\"36.083984\"/>\n     <use xlink:href=\"#DejaVuSans-2e\" x=\"99.707031\"/>\n     <use xlink:href=\"#DejaVuSans-30\" x=\"131.494141\"/>\n     <use xlink:href=\"#DejaVuSans-30\" x=\"195.117188\"/>\n     <use xlink:href=\"#DejaVuSans-32\" x=\"258.740234\"/>\n     <use xlink:href=\"#DejaVuSans-37\" x=\"322.363281\"/>\n    </g>\n   </g>\n   <g id=\"text_346\">\n    <!-- 0.23 -->\n    <g style=\"fill: #262626\" transform=\"translate(272.855938 670.00425)scale(0.1 -0.1)\">\n     <use xlink:href=\"#DejaVuSans-30\"/>\n     <use xlink:href=\"#DejaVuSans-2e\" x=\"63.623047\"/>\n     <use xlink:href=\"#DejaVuSans-32\" x=\"95.410156\"/>\n     <use xlink:href=\"#DejaVuSans-33\" x=\"159.033203\"/>\n    </g>\n   </g>\n   <g id=\"text_347\">\n    <!-- -0.007 -->\n    <g style=\"fill: #ffffff\" transform=\"translate(302.590781 670.00425)scale(0.1 -0.1)\">\n     <use xlink:href=\"#DejaVuSans-2d\"/>\n     <use xlink:href=\"#DejaVuSans-30\" x=\"36.083984\"/>\n     <use xlink:href=\"#DejaVuSans-2e\" x=\"99.707031\"/>\n     <use xlink:href=\"#DejaVuSans-30\" x=\"131.494141\"/>\n     <use xlink:href=\"#DejaVuSans-30\" x=\"195.117188\"/>\n     <use xlink:href=\"#DejaVuSans-37\" x=\"258.740234\"/>\n    </g>\n   </g>\n   <g id=\"text_348\">\n    <!-- -0.015 -->\n    <g style=\"fill: #ffffff\" transform=\"translate(337.310781 670.00425)scale(0.1 -0.1)\">\n     <use xlink:href=\"#DejaVuSans-2d\"/>\n     <use xlink:href=\"#DejaVuSans-30\" x=\"36.083984\"/>\n     <use xlink:href=\"#DejaVuSans-2e\" x=\"99.707031\"/>\n     <use xlink:href=\"#DejaVuSans-30\" x=\"131.494141\"/>\n     <use xlink:href=\"#DejaVuSans-31\" x=\"195.117188\"/>\n     <use xlink:href=\"#DejaVuSans-35\" x=\"258.740234\"/>\n    </g>\n   </g>\n   <g id=\"text_349\">\n    <!-- -0.041 -->\n    <g style=\"fill: #ffffff\" transform=\"translate(372.030781 670.00425)scale(0.1 -0.1)\">\n     <use xlink:href=\"#DejaVuSans-2d\"/>\n     <use xlink:href=\"#DejaVuSans-30\" x=\"36.083984\"/>\n     <use xlink:href=\"#DejaVuSans-2e\" x=\"99.707031\"/>\n     <use xlink:href=\"#DejaVuSans-30\" x=\"131.494141\"/>\n     <use xlink:href=\"#DejaVuSans-34\" x=\"195.117188\"/>\n     <use xlink:href=\"#DejaVuSans-31\" x=\"258.740234\"/>\n    </g>\n   </g>\n   <g id=\"text_350\">\n    <!-- 0.11 -->\n    <g style=\"fill: #262626\" transform=\"translate(411.735938 670.00425)scale(0.1 -0.1)\">\n     <use xlink:href=\"#DejaVuSans-30\"/>\n     <use xlink:href=\"#DejaVuSans-2e\" x=\"63.623047\"/>\n     <use xlink:href=\"#DejaVuSans-31\" x=\"95.410156\"/>\n     <use xlink:href=\"#DejaVuSans-31\" x=\"159.033203\"/>\n    </g>\n   </g>\n   <g id=\"text_351\">\n    <!-- 0.024 -->\n    <g style=\"fill: #262626\" transform=\"translate(443.274688 670.00425)scale(0.1 -0.1)\">\n     <use xlink:href=\"#DejaVuSans-30\"/>\n     <use xlink:href=\"#DejaVuSans-2e\" x=\"63.623047\"/>\n     <use xlink:href=\"#DejaVuSans-30\" x=\"95.410156\"/>\n     <use xlink:href=\"#DejaVuSans-32\" x=\"159.033203\"/>\n     <use xlink:href=\"#DejaVuSans-34\" x=\"222.65625\"/>\n    </g>\n   </g>\n   <g id=\"text_352\">\n    <!-- -0.03 -->\n    <g style=\"fill: #ffffff\" transform=\"translate(479.372031 670.00425)scale(0.1 -0.1)\">\n     <use xlink:href=\"#DejaVuSans-2d\"/>\n     <use xlink:href=\"#DejaVuSans-30\" x=\"36.083984\"/>\n     <use xlink:href=\"#DejaVuSans-2e\" x=\"99.707031\"/>\n     <use xlink:href=\"#DejaVuSans-30\" x=\"131.494141\"/>\n     <use xlink:href=\"#DejaVuSans-33\" x=\"195.117188\"/>\n    </g>\n   </g>\n   <g id=\"text_353\">\n    <!-- -0.00084 -->\n    <g style=\"fill: #ffffff\" transform=\"translate(504.548281 670.00425)scale(0.1 -0.1)\">\n     <use xlink:href=\"#DejaVuSans-2d\"/>\n     <use xlink:href=\"#DejaVuSans-30\" x=\"36.083984\"/>\n     <use xlink:href=\"#DejaVuSans-2e\" x=\"99.707031\"/>\n     <use xlink:href=\"#DejaVuSans-30\" x=\"131.494141\"/>\n     <use xlink:href=\"#DejaVuSans-30\" x=\"195.117188\"/>\n     <use xlink:href=\"#DejaVuSans-30\" x=\"258.740234\"/>\n     <use xlink:href=\"#DejaVuSans-38\" x=\"322.363281\"/>\n     <use xlink:href=\"#DejaVuSans-34\" x=\"385.986328\"/>\n    </g>\n   </g>\n   <g id=\"text_354\">\n    <!-- 0.044 -->\n    <g style=\"fill: #262626\" transform=\"translate(547.434688 670.00425)scale(0.1 -0.1)\">\n     <use xlink:href=\"#DejaVuSans-30\"/>\n     <use xlink:href=\"#DejaVuSans-2e\" x=\"63.623047\"/>\n     <use xlink:href=\"#DejaVuSans-30\" x=\"95.410156\"/>\n     <use xlink:href=\"#DejaVuSans-34\" x=\"159.033203\"/>\n     <use xlink:href=\"#DejaVuSans-34\" x=\"222.65625\"/>\n    </g>\n   </g>\n   <g id=\"text_355\">\n    <!-- -0.03 -->\n    <g style=\"fill: #ffffff\" transform=\"translate(583.532031 670.00425)scale(0.1 -0.1)\">\n     <use xlink:href=\"#DejaVuSans-2d\"/>\n     <use xlink:href=\"#DejaVuSans-30\" x=\"36.083984\"/>\n     <use xlink:href=\"#DejaVuSans-2e\" x=\"99.707031\"/>\n     <use xlink:href=\"#DejaVuSans-30\" x=\"131.494141\"/>\n     <use xlink:href=\"#DejaVuSans-33\" x=\"195.117188\"/>\n    </g>\n   </g>\n   <g id=\"text_356\">\n    <!-- 0.00012 -->\n    <g style=\"fill: #ffffff\" transform=\"translate(610.512187 670.00425)scale(0.1 -0.1)\">\n     <use xlink:href=\"#DejaVuSans-30\"/>\n     <use xlink:href=\"#DejaVuSans-2e\" x=\"63.623047\"/>\n     <use xlink:href=\"#DejaVuSans-30\" x=\"95.410156\"/>\n     <use xlink:href=\"#DejaVuSans-30\" x=\"159.033203\"/>\n     <use xlink:href=\"#DejaVuSans-30\" x=\"222.65625\"/>\n     <use xlink:href=\"#DejaVuSans-31\" x=\"286.279297\"/>\n     <use xlink:href=\"#DejaVuSans-32\" x=\"349.902344\"/>\n    </g>\n   </g>\n   <g id=\"text_357\">\n    <!-- -0.0015 -->\n    <g style=\"fill: #ffffff\" transform=\"translate(646.609531 670.00425)scale(0.1 -0.1)\">\n     <use xlink:href=\"#DejaVuSans-2d\"/>\n     <use xlink:href=\"#DejaVuSans-30\" x=\"36.083984\"/>\n     <use xlink:href=\"#DejaVuSans-2e\" x=\"99.707031\"/>\n     <use xlink:href=\"#DejaVuSans-30\" x=\"131.494141\"/>\n     <use xlink:href=\"#DejaVuSans-30\" x=\"195.117188\"/>\n     <use xlink:href=\"#DejaVuSans-31\" x=\"258.740234\"/>\n     <use xlink:href=\"#DejaVuSans-35\" x=\"322.363281\"/>\n    </g>\n   </g>\n   <g id=\"text_358\">\n    <!-- -0.028 -->\n    <g style=\"fill: #ffffff\" transform=\"translate(684.510781 670.00425)scale(0.1 -0.1)\">\n     <use xlink:href=\"#DejaVuSans-2d\"/>\n     <use xlink:href=\"#DejaVuSans-30\" x=\"36.083984\"/>\n     <use xlink:href=\"#DejaVuSans-2e\" x=\"99.707031\"/>\n     <use xlink:href=\"#DejaVuSans-30\" x=\"131.494141\"/>\n     <use xlink:href=\"#DejaVuSans-32\" x=\"195.117188\"/>\n     <use xlink:href=\"#DejaVuSans-38\" x=\"258.740234\"/>\n    </g>\n   </g>\n   <g id=\"text_359\">\n    <!-- -0.0089 -->\n    <g style=\"fill: #ffffff\" transform=\"translate(716.049531 670.00425)scale(0.1 -0.1)\">\n     <use xlink:href=\"#DejaVuSans-2d\"/>\n     <use xlink:href=\"#DejaVuSans-30\" x=\"36.083984\"/>\n     <use xlink:href=\"#DejaVuSans-2e\" x=\"99.707031\"/>\n     <use xlink:href=\"#DejaVuSans-30\" x=\"131.494141\"/>\n     <use xlink:href=\"#DejaVuSans-30\" x=\"195.117188\"/>\n     <use xlink:href=\"#DejaVuSans-38\" x=\"258.740234\"/>\n     <use xlink:href=\"#DejaVuSans-39\" x=\"322.363281\"/>\n    </g>\n   </g>\n   <g id=\"text_360\">\n    <!-- 1 -->\n    <g style=\"fill: #ffffff\" transform=\"translate(766.8875 670.00425)scale(0.1 -0.1)\">\n     <use xlink:href=\"#DejaVuSans-31\"/>\n    </g>\n   </g>\n   <g id=\"text_361\">\n    <!-- Pearson Correlation of Features -->\n    <g style=\"fill: #ffffff\" transform=\"translate(317.92375 22.396875)scale(0.2 -0.2)\">\n     <defs>\n      <path id=\"DejaVuSans-50\" d=\"M 1259 4147 \nL 1259 2394 \nL 2053 2394 \nQ 2494 2394 2734 2622 \nQ 2975 2850 2975 3272 \nQ 2975 3691 2734 3919 \nQ 2494 4147 2053 4147 \nL 1259 4147 \nz\nM 628 4666 \nL 2053 4666 \nQ 2838 4666 3239 4311 \nQ 3641 3956 3641 3272 \nQ 3641 2581 3239 2228 \nQ 2838 1875 2053 1875 \nL 1259 1875 \nL 1259 0 \nL 628 0 \nL 628 4666 \nz\n\" transform=\"scale(0.015625)\"/>\n      <path id=\"DejaVuSans-20\" transform=\"scale(0.015625)\"/>\n      <path id=\"DejaVuSans-43\" d=\"M 4122 4306 \nL 4122 3641 \nQ 3803 3938 3442 4084 \nQ 3081 4231 2675 4231 \nQ 1875 4231 1450 3742 \nQ 1025 3253 1025 2328 \nQ 1025 1406 1450 917 \nQ 1875 428 2675 428 \nQ 3081 428 3442 575 \nQ 3803 722 4122 1019 \nL 4122 359 \nQ 3791 134 3420 21 \nQ 3050 -91 2638 -91 \nQ 1578 -91 968 557 \nQ 359 1206 359 2328 \nQ 359 3453 968 4101 \nQ 1578 4750 2638 4750 \nQ 3056 4750 3426 4639 \nQ 3797 4528 4122 4306 \nz\n\" transform=\"scale(0.015625)\"/>\n      <path id=\"DejaVuSans-46\" d=\"M 628 4666 \nL 3309 4666 \nL 3309 4134 \nL 1259 4134 \nL 1259 2759 \nL 3109 2759 \nL 3109 2228 \nL 1259 2228 \nL 1259 0 \nL 628 0 \nL 628 4666 \nz\n\" transform=\"scale(0.015625)\"/>\n     </defs>\n     <use xlink:href=\"#DejaVuSans-50\"/>\n     <use xlink:href=\"#DejaVuSans-65\" x=\"56.677734\"/>\n     <use xlink:href=\"#DejaVuSans-61\" x=\"118.201172\"/>\n     <use xlink:href=\"#DejaVuSans-72\" x=\"179.480469\"/>\n     <use xlink:href=\"#DejaVuSans-73\" x=\"220.59375\"/>\n     <use xlink:href=\"#DejaVuSans-6f\" x=\"272.693359\"/>\n     <use xlink:href=\"#DejaVuSans-6e\" x=\"333.875\"/>\n     <use xlink:href=\"#DejaVuSans-20\" x=\"397.253906\"/>\n     <use xlink:href=\"#DejaVuSans-43\" x=\"429.041016\"/>\n     <use xlink:href=\"#DejaVuSans-6f\" x=\"498.865234\"/>\n     <use xlink:href=\"#DejaVuSans-72\" x=\"560.046875\"/>\n     <use xlink:href=\"#DejaVuSans-72\" x=\"599.410156\"/>\n     <use xlink:href=\"#DejaVuSans-65\" x=\"638.273438\"/>\n     <use xlink:href=\"#DejaVuSans-6c\" x=\"699.796875\"/>\n     <use xlink:href=\"#DejaVuSans-61\" x=\"727.580078\"/>\n     <use xlink:href=\"#DejaVuSans-74\" x=\"788.859375\"/>\n     <use xlink:href=\"#DejaVuSans-69\" x=\"828.068359\"/>\n     <use xlink:href=\"#DejaVuSans-6f\" x=\"855.851562\"/>\n     <use xlink:href=\"#DejaVuSans-6e\" x=\"917.033203\"/>\n     <use xlink:href=\"#DejaVuSans-20\" x=\"980.412109\"/>\n     <use xlink:href=\"#DejaVuSans-6f\" x=\"1012.199219\"/>\n     <use xlink:href=\"#DejaVuSans-66\" x=\"1073.380859\"/>\n     <use xlink:href=\"#DejaVuSans-20\" x=\"1108.585938\"/>\n     <use xlink:href=\"#DejaVuSans-46\" x=\"1140.373047\"/>\n     <use xlink:href=\"#DejaVuSans-65\" x=\"1192.392578\"/>\n     <use xlink:href=\"#DejaVuSans-61\" x=\"1253.916016\"/>\n     <use xlink:href=\"#DejaVuSans-74\" x=\"1315.195312\"/>\n     <use xlink:href=\"#DejaVuSans-75\" x=\"1354.404297\"/>\n     <use xlink:href=\"#DejaVuSans-72\" x=\"1417.783203\"/>\n     <use xlink:href=\"#DejaVuSans-65\" x=\"1456.646484\"/>\n     <use xlink:href=\"#DejaVuSans-73\" x=\"1518.169922\"/>\n    </g>\n   </g>\n  </g>\n  <g id=\"axes_2\">\n   <g id=\"patch_3\">\n    <path d=\"M 826.48875 698.284875 \nL 859.10475 698.284875 \nL 859.10475 45.964875 \nL 826.48875 45.964875 \nz\n\"/>\n   </g>\n   <g id=\"patch_4\">\n    <path clip-path=\"url(#padb6fa2b9a)\" style=\"stroke: #000000; stroke-width: 0.01; stroke-linejoin: miter\"/>\n   </g>\n   <image xlink:href=\"data:image/png;base64,\niVBORw0KGgoAAAANSUhEUgAAACEAAAKMCAYAAABl+dF2AAADs0lEQVR4nO2cwZEUQRDEco4G/z3CLzhueIBsaD0kCxRV6orYx87z7ue7y3zcFti2s/247eCYhELibN9vO2gmUZjbJBKFCQqJ1gHdCVBIFCYUJigkChMKExQShQnP195+lW8SifPrtsEsk/h922CSSSgkChMUEr0OKExQSBQmFCYoJAoTmgQoJLoTUJigkChMKExQSBQmKCR6HdAkQCHRnYDCBIVEYUJhgkKiMKEwQSHROkAh0Z2AwgSFRGFCYYJCojChMEEhUZhQmKCQaB3QEwWFRGGCQqLXAYUJConChMIEhUTrgJ4oKCQKEwoTFBKFCYUJConCBIVE64BnH/2vfJtE4gi+d2CZxP0PcTgmoZAoTChMUEgUJhQmKCQKExQSrQO6E6CQKEwoTFBIFCYUJigkChOaBCgkuhNQmKCQKExQSPQ6oDBBIVGY0CRAIdGdgMIEhURhQmGCQqIwoTBBIVGYoJDodUCTAIVEdwIKExQShQmFCQqJwoTCBIVE6wCFRHcCChMUEoUJhQkKicKEwgSFROuAZ5/9kXmbROLZ+6d1bNvZ7n+LQzEJhcTZ7n/8QTEJhUTrgO4EKCQKEwoTFBKFCU0CFBLdCShMUEi0DuiJgkKiMEEh0euAwgSFROuAnigoJAoTmgQoJLoTUJigkChMKExQSLQOUEh0J6AwQSHROqAnCgqJwoTCBIVEYUKTAIVEdwIUEr0OaBKgkOhOQGGCQqIwoTBBIdE6oCcKConChCYBConuBCgkeh1QmKCQePau/5Vv2xF8+cExCYXEEXwhRjKJwvyPQqIwoTBBIdE6oCcKConCBIVErwMKExQSrQN6oqCQKEwoTFBIFCY0CVBIdCdAIdHrgMIEhURhQmGCQqIwoUmAQqI7AYUJConChMIEhUTrAIVEdwIKExQShQmFCQqJ1gE9UVBIFCYUJigkChOaBCgkuhOgkOh1QGGCQqIwoUmAQqI7AYUJConChOerv3T/QyFxns/bCpJJKCSO4PMTlknc/ySJYxIKicKEwgSFROuAnigoJAoTChMUEoUJhQkKicIEhUTrgO4EKCQKEwoTFBKFCU0CFBLdCShMUEgUJhQmKCRaBygkuhNQmKCQKEwoTFBItA7oiYJCojChMEEhUZigkGgd0J0AhURhQmGCQqIwoUmAQqI7AYUJConChMIEhUTrAIVEdwIKExQShQnP+9H/yrdJJJ5331rHtp3t/scfFJNQSJzt/qdRmgQoJqGQ6E5AYYJConWAQqI7AX8BJ6enDZZojp4AAAAASUVORK5CYII=\" id=\"imageafa70d202c\" transform=\"scale(1 -1)translate(0 -652)\" x=\"826\" y=\"-46\" width=\"33\" height=\"652\"/>\n   <g id=\"matplotlib.axis_3\">\n    <g id=\"ytick_19\">\n     <g id=\"line2d_37\">\n      <defs>\n       <path id=\"m40a3dee699\" d=\"M 0 0 \nL 3.5 0 \n\" style=\"stroke: #ffffff; stroke-width: 0.8\"/>\n      </defs>\n      <g>\n       <use xlink:href=\"#m40a3dee699\" x=\"859.10475\" y=\"640.027743\" style=\"fill: #ffffff; stroke: #ffffff; stroke-width: 0.8\"/>\n      </g>\n     </g>\n     <g id=\"text_362\">\n      <!-- −0.4 -->\n      <g style=\"fill: #ffffff\" transform=\"translate(866.10475 643.826962)scale(0.1 -0.1)\">\n       <defs>\n        <path id=\"DejaVuSans-2212\" d=\"M 678 2272 \nL 4684 2272 \nL 4684 1741 \nL 678 1741 \nL 678 2272 \nz\n\" transform=\"scale(0.015625)\"/>\n       </defs>\n       <use xlink:href=\"#DejaVuSans-2212\"/>\n       <use xlink:href=\"#DejaVuSans-30\" x=\"83.789062\"/>\n       <use xlink:href=\"#DejaVuSans-2e\" x=\"147.412109\"/>\n       <use xlink:href=\"#DejaVuSans-34\" x=\"179.199219\"/>\n      </g>\n     </g>\n    </g>\n    <g id=\"ytick_20\">\n     <g id=\"line2d_38\">\n      <g>\n       <use xlink:href=\"#m40a3dee699\" x=\"859.10475\" y=\"555.161619\" style=\"fill: #ffffff; stroke: #ffffff; stroke-width: 0.8\"/>\n      </g>\n     </g>\n     <g id=\"text_363\">\n      <!-- −0.2 -->\n      <g style=\"fill: #ffffff\" transform=\"translate(866.10475 558.960838)scale(0.1 -0.1)\">\n       <use xlink:href=\"#DejaVuSans-2212\"/>\n       <use xlink:href=\"#DejaVuSans-30\" x=\"83.789062\"/>\n       <use xlink:href=\"#DejaVuSans-2e\" x=\"147.412109\"/>\n       <use xlink:href=\"#DejaVuSans-32\" x=\"179.199219\"/>\n      </g>\n     </g>\n    </g>\n    <g id=\"ytick_21\">\n     <g id=\"line2d_39\">\n      <g>\n       <use xlink:href=\"#m40a3dee699\" x=\"859.10475\" y=\"470.295495\" style=\"fill: #ffffff; stroke: #ffffff; stroke-width: 0.8\"/>\n      </g>\n     </g>\n     <g id=\"text_364\">\n      <!-- 0.0 -->\n      <g style=\"fill: #ffffff\" transform=\"translate(866.10475 474.094714)scale(0.1 -0.1)\">\n       <use xlink:href=\"#DejaVuSans-30\"/>\n       <use xlink:href=\"#DejaVuSans-2e\" x=\"63.623047\"/>\n       <use xlink:href=\"#DejaVuSans-30\" x=\"95.410156\"/>\n      </g>\n     </g>\n    </g>\n    <g id=\"ytick_22\">\n     <g id=\"line2d_40\">\n      <g>\n       <use xlink:href=\"#m40a3dee699\" x=\"859.10475\" y=\"385.429371\" style=\"fill: #ffffff; stroke: #ffffff; stroke-width: 0.8\"/>\n      </g>\n     </g>\n     <g id=\"text_365\">\n      <!-- 0.2 -->\n      <g style=\"fill: #ffffff\" transform=\"translate(866.10475 389.22859)scale(0.1 -0.1)\">\n       <use xlink:href=\"#DejaVuSans-30\"/>\n       <use xlink:href=\"#DejaVuSans-2e\" x=\"63.623047\"/>\n       <use xlink:href=\"#DejaVuSans-32\" x=\"95.410156\"/>\n      </g>\n     </g>\n    </g>\n    <g id=\"ytick_23\">\n     <g id=\"line2d_41\">\n      <g>\n       <use xlink:href=\"#m40a3dee699\" x=\"859.10475\" y=\"300.563247\" style=\"fill: #ffffff; stroke: #ffffff; stroke-width: 0.8\"/>\n      </g>\n     </g>\n     <g id=\"text_366\">\n      <!-- 0.4 -->\n      <g style=\"fill: #ffffff\" transform=\"translate(866.10475 304.362466)scale(0.1 -0.1)\">\n       <use xlink:href=\"#DejaVuSans-30\"/>\n       <use xlink:href=\"#DejaVuSans-2e\" x=\"63.623047\"/>\n       <use xlink:href=\"#DejaVuSans-34\" x=\"95.410156\"/>\n      </g>\n     </g>\n    </g>\n    <g id=\"ytick_24\">\n     <g id=\"line2d_42\">\n      <g>\n       <use xlink:href=\"#m40a3dee699\" x=\"859.10475\" y=\"215.697123\" style=\"fill: #ffffff; stroke: #ffffff; stroke-width: 0.8\"/>\n      </g>\n     </g>\n     <g id=\"text_367\">\n      <!-- 0.6 -->\n      <g style=\"fill: #ffffff\" transform=\"translate(866.10475 219.496342)scale(0.1 -0.1)\">\n       <use xlink:href=\"#DejaVuSans-30\"/>\n       <use xlink:href=\"#DejaVuSans-2e\" x=\"63.623047\"/>\n       <use xlink:href=\"#DejaVuSans-36\" x=\"95.410156\"/>\n      </g>\n     </g>\n    </g>\n    <g id=\"ytick_25\">\n     <g id=\"line2d_43\">\n      <g>\n       <use xlink:href=\"#m40a3dee699\" x=\"859.10475\" y=\"130.830999\" style=\"fill: #ffffff; stroke: #ffffff; stroke-width: 0.8\"/>\n      </g>\n     </g>\n     <g id=\"text_368\">\n      <!-- 0.8 -->\n      <g style=\"fill: #ffffff\" transform=\"translate(866.10475 134.630218)scale(0.1 -0.1)\">\n       <use xlink:href=\"#DejaVuSans-30\"/>\n       <use xlink:href=\"#DejaVuSans-2e\" x=\"63.623047\"/>\n       <use xlink:href=\"#DejaVuSans-38\" x=\"95.410156\"/>\n      </g>\n     </g>\n    </g>\n    <g id=\"ytick_26\">\n     <g id=\"line2d_44\">\n      <g>\n       <use xlink:href=\"#m40a3dee699\" x=\"859.10475\" y=\"45.964875\" style=\"fill: #ffffff; stroke: #ffffff; stroke-width: 0.8\"/>\n      </g>\n     </g>\n     <g id=\"text_369\">\n      <!-- 1.0 -->\n      <g style=\"fill: #ffffff\" transform=\"translate(866.10475 49.764094)scale(0.1 -0.1)\">\n       <use xlink:href=\"#DejaVuSans-31\"/>\n       <use xlink:href=\"#DejaVuSans-2e\" x=\"63.623047\"/>\n       <use xlink:href=\"#DejaVuSans-30\" x=\"95.410156\"/>\n      </g>\n     </g>\n    </g>\n   </g>\n   <g id=\"LineCollection_1\"/>\n   <g id=\"patch_5\">\n    <path d=\"M 826.48875 698.284875 \nL 842.79675 698.284875 \nL 859.10475 698.284875 \nL 859.10475 45.964875 \nL 842.79675 45.964875 \nL 826.48875 45.964875 \nL 826.48875 698.284875 \nz\n\" style=\"fill: none\"/>\n   </g>\n  </g>\n </g>\n <defs>\n  <clipPath id=\"p91e0fdf145\">\n   <rect x=\"162.46875\" y=\"59.644875\" width=\"624.96\" height=\"624.96\"/>\n  </clipPath>\n  <clipPath id=\"padb6fa2b9a\">\n   <rect x=\"826.48875\" y=\"45.964875\" width=\"32.616\" height=\"652.32\"/>\n  </clipPath>\n </defs>\n</svg>\n",
      "text/plain": [
       "<Figure size 1008x864 with 2 Axes>"
      ]
     },
     "metadata": {},
     "output_type": "display_data"
    }
   ],
   "source": [
    "colormap = plot.cm.RdBu\n",
    "plot.figure(figsize=(14,12))\n",
    "plot.title('Pearson Correlation of Features', y=1.05, size=20)\n",
    "sns.heatmap(X_train.merge(y_train , on = X_train.index ).corr(),linewidths=0.1,vmax=1.0, \n",
    "            square=True, cmap='gist_rainbow_r', linecolor='white', annot=True)"
   ]
  },
  {
   "cell_type": "markdown",
   "id": "e3b0d745",
   "metadata": {
    "id": "e3b0d745"
   },
   "source": [
    "#### Calling variance threshold for threshold value = 0.8\n",
    "\n",
    "- Note -  Fill in the blanks to call the appropriate method"
   ]
  },
  {
   "cell_type": "code",
   "execution_count": 90,
   "id": "a9b2080f",
   "metadata": {
    "id": "a9b2080f"
   },
   "outputs": [
    {
     "data": {
      "text/plain": [
       "VarianceThreshold(threshold=0.8)"
      ]
     },
     "execution_count": 90,
     "metadata": {},
     "output_type": "execute_result"
    }
   ],
   "source": [
    "from sklearn.feature_selection import VarianceThreshold\n",
    "sel =  VarianceThreshold(0.8)\n",
    "sel.fit(X_train)"
   ]
  },
  {
   "cell_type": "code",
   "execution_count": 91,
   "id": "6cb8c3dc",
   "metadata": {
    "id": "6cb8c3dc"
   },
   "outputs": [
    {
     "data": {
      "text/plain": [
       "array([1.84755945e+15, 1.18704048e-01, 9.12421316e+16, 1.32891881e+09,\n",
       "       2.81326792e-01, 1.07830317e+06, 1.23994048e+02, 7.62256142e+01,\n",
       "       1.22557023e+01, 1.19717374e-01, 7.77217990e+01, 1.22624723e+01,\n",
       "       1.19991731e-01, 7.61260824e+01, 1.20356718e+01, 1.21720896e-01])"
      ]
     },
     "execution_count": 91,
     "metadata": {},
     "output_type": "execute_result"
    }
   ],
   "source": [
    "sel.variances_"
   ]
  },
  {
   "cell_type": "markdown",
   "id": "62633a84",
   "metadata": {
    "id": "62633a84"
   },
   "source": [
    "### Features columns are \n",
    "- 'year_of_createdate' \n",
    "- 'year_of_due'\n",
    "- 'day_of_createdate'\n",
    "- 'year_of_postingdate'\n",
    "- 'month_of_due'\n",
    "- 'month_of_createdate'"
   ]
  },
  {
   "cell_type": "markdown",
   "id": "651f1ad0",
   "metadata": {
    "id": "651f1ad0"
   },
   "source": [
    "# Modelling \n",
    "\n",
    "#### Now you need to compare with different machine learning models, and needs to find out the best predicted model\n",
    "\n",
    "- Linear Regression\n",
    "- Decision Tree Regression\n",
    "- Random Forest Regression\n",
    "- Support Vector Regression\n",
    "- Extreme Gradient Boost Regression "
   ]
  },
  {
   "cell_type": "markdown",
   "id": "PicEhSuUUOkt",
   "metadata": {
    "id": "PicEhSuUUOkt"
   },
   "source": [
    "### You need to make different blank list for different evaluation matrix \n",
    "\n",
    "- MSE\n",
    "- R2\n",
    "- Algorithm"
   ]
  },
  {
   "cell_type": "code",
   "execution_count": 92,
   "id": "701e12b0",
   "metadata": {
    "id": "701e12b0"
   },
   "outputs": [],
   "source": [
    "MSE_Score = []\n",
    "R2_Score = []\n",
    "Algorithm = []\n",
    "from sklearn.metrics import mean_squared_error\n",
    "from sklearn.metrics import r2_score"
   ]
  },
  {
   "cell_type": "markdown",
   "id": "29310119",
   "metadata": {
    "id": "29310119"
   },
   "source": [
    "### You need to start with the baseline model Linear Regression\n",
    "\n",
    "- Step 1 : Call the Linear Regression from sklearn library\n",
    "- Step 2 : make an object of Linear Regression \n",
    "- Step 3 : fit the X_train and y_train dataframe into the object \n",
    "- Step 4 : Predict the output by passing the X_test Dataset into predict function\n",
    "\n",
    "\n",
    "\n",
    "\n",
    "- Note - Append the Algorithm name into the algorithm list for tracking purpose"
   ]
  },
  {
   "cell_type": "code",
   "execution_count": 93,
   "id": "6bdea395",
   "metadata": {
    "id": "6bdea395"
   },
   "outputs": [],
   "source": [
    "from sklearn.linear_model import LinearRegression\n",
    "Algorithm.append('LinearRegression')\n",
    "regressor = LinearRegression()\n",
    "regressor.fit(X_train, y_train)\n",
    "predicted= regressor.predict(X_test)"
   ]
  },
  {
   "cell_type": "markdown",
   "id": "G02cpnBhXJ14",
   "metadata": {
    "id": "G02cpnBhXJ14"
   },
   "source": [
    "### Check for the \n",
    "\n",
    "- Mean Square Error\n",
    "- R Square Error \n",
    "\n",
    "for y_test and predicted dataset and store those data inside respective list for comparison "
   ]
  },
  {
   "cell_type": "code",
   "execution_count": 94,
   "id": "0f69ca19",
   "metadata": {
    "id": "0f69ca19"
   },
   "outputs": [],
   "source": [
    "MSE_Score.append(mean_squared_error(y_test, predicted))\n",
    "R2_Score.append(r2_score(y_test, predicted))"
   ]
  },
  {
   "cell_type": "markdown",
   "id": "CsmScbHjYMv1",
   "metadata": {
    "id": "CsmScbHjYMv1"
   },
   "source": [
    "### Check the same for the Validation set also "
   ]
  },
  {
   "cell_type": "code",
   "execution_count": 95,
   "id": "fe653295",
   "metadata": {
    "colab": {
     "base_uri": "https://localhost:8080/"
    },
    "executionInfo": {
     "elapsed": 10,
     "status": "ok",
     "timestamp": 1643093994094,
     "user": {
      "displayName": "Chandramouli Das",
      "photoUrl": "https://lh3.googleusercontent.com/a-/AOh14GgsMuDXf6PZsS77v0Q5x8metxFPnlLXsBC6Y3O7=s64",
      "userId": "13777762579346461395"
     },
     "user_tz": -330
    },
    "id": "fe653295",
    "outputId": "0c7429ca-50d0-42a2-96a1-effaa92f549e"
   },
   "outputs": [
    {
     "data": {
      "text/plain": [
       "525187.6702361709"
      ]
     },
     "execution_count": 95,
     "metadata": {},
     "output_type": "execute_result"
    }
   ],
   "source": [
    "predict_test= regressor.predict(X_val)\n",
    "mean_squared_error(y_val, predict_test, squared=False)"
   ]
  },
  {
   "cell_type": "markdown",
   "id": "LokxV2LGYUVh",
   "metadata": {
    "id": "LokxV2LGYUVh"
   },
   "source": [
    "### Display The Comparison Lists"
   ]
  },
  {
   "cell_type": "code",
   "execution_count": 96,
   "id": "9c405bd3",
   "metadata": {
    "colab": {
     "base_uri": "https://localhost:8080/"
    },
    "executionInfo": {
     "elapsed": 8,
     "status": "ok",
     "timestamp": 1643093994095,
     "user": {
      "displayName": "Chandramouli Das",
      "photoUrl": "https://lh3.googleusercontent.com/a-/AOh14GgsMuDXf6PZsS77v0Q5x8metxFPnlLXsBC6Y3O7=s64",
      "userId": "13777762579346461395"
     },
     "user_tz": -330
    },
    "id": "9c405bd3",
    "outputId": "9d78f4a9-33fc-48d1-edc8-c997eca38de0"
   },
   "outputs": [
    {
     "name": "stdout",
     "output_type": "stream",
     "text": [
      "['LinearRegression'],[303798896915.95703],[0.34457398027359587],"
     ]
    }
   ],
   "source": [
    "for i in Algorithm, MSE_Score, R2_Score:\n",
    "    print(i,end=',')"
   ]
  },
  {
   "cell_type": "markdown",
   "id": "b0e65c86",
   "metadata": {
    "id": "b0e65c86"
   },
   "source": [
    "### You need to start with the baseline model Support Vector Regression\n",
    "\n",
    "- Step 1 : Call the Support Vector Regressor from sklearn library\n",
    "- Step 2 : make an object of SVR\n",
    "- Step 3 : fit the X_train and y_train dataframe into the object \n",
    "- Step 4 : Predict the output by passing the X_test Dataset into predict function\n",
    "\n",
    "\n",
    "\n",
    "\n",
    "- Note - Append the Algorithm name into the algorithm list for tracking purpose"
   ]
  },
  {
   "cell_type": "code",
   "execution_count": 97,
   "id": "ccb5de08",
   "metadata": {
    "id": "ccb5de08"
   },
   "outputs": [
    {
     "name": "stderr",
     "output_type": "stream",
     "text": [
      "C:\\src\\lib\\site-packages\\sklearn\\utils\\validation.py:993: DataConversionWarning: A column-vector y was passed when a 1d array was expected. Please change the shape of y to (n_samples, ), for example using ravel().\n",
      "  y = column_or_1d(y, warn=True)\n"
     ]
    }
   ],
   "source": [
    "Algorithm.append('Support Vector Regression')\n",
    "regressor = SVR()\n",
    "regressor.fit(X_train, y_train)\n",
    "predicted= regressor.predict(X_test)"
   ]
  },
  {
   "cell_type": "markdown",
   "id": "zz9kcrViYt7e",
   "metadata": {
    "id": "zz9kcrViYt7e"
   },
   "source": [
    "### Check for the \n",
    "\n",
    "- Mean Square Error\n",
    "- R Square Error \n",
    "\n",
    "for \"y_test\" and \"predicted\" dataset and store those data inside respective list for comparison "
   ]
  },
  {
   "cell_type": "code",
   "execution_count": 98,
   "id": "5bb9db76",
   "metadata": {
    "id": "5bb9db76"
   },
   "outputs": [],
   "source": [
    "MSE_Score.append(mean_squared_error(y_test, predicted))\n",
    "R2_Score.append(r2_score(y_test, predicted))"
   ]
  },
  {
   "cell_type": "markdown",
   "id": "0YAxd8N9Y0hJ",
   "metadata": {
    "id": "0YAxd8N9Y0hJ"
   },
   "source": [
    "### Check the same for the Validation set also "
   ]
  },
  {
   "cell_type": "code",
   "execution_count": 99,
   "id": "d6ee71b1",
   "metadata": {
    "id": "d6ee71b1"
   },
   "outputs": [
    {
     "data": {
      "text/plain": [
       "637863.5329736114"
      ]
     },
     "execution_count": 99,
     "metadata": {},
     "output_type": "execute_result"
    }
   ],
   "source": [
    "predict_test= regressor.predict(X_val)\n",
    "mean_squared_error(y_val, predict_test, squared=False)"
   ]
  },
  {
   "cell_type": "markdown",
   "id": "eGcqS5EcY4BI",
   "metadata": {
    "id": "eGcqS5EcY4BI"
   },
   "source": [
    "### Display The Comparison Lists"
   ]
  },
  {
   "cell_type": "code",
   "execution_count": 100,
   "id": "aa72c1ec",
   "metadata": {
    "id": "aa72c1ec"
   },
   "outputs": [
    {
     "name": "stdout",
     "output_type": "stream",
     "text": [
      "['LinearRegression', 'Support Vector Regression'],[303798896915.95703, 465287307293.00714],[0.34457398027359587, -0.003826580491621989],"
     ]
    }
   ],
   "source": [
    "for i in Algorithm, MSE_Score, R2_Score:\n",
    "    print(i,end=',')"
   ]
  },
  {
   "cell_type": "markdown",
   "id": "dad18bb3",
   "metadata": {
    "id": "dad18bb3"
   },
   "source": [
    "### Your next model would be Decision Tree Regression\n",
    "\n",
    "- Step 1 : Call the Decision Tree Regressor from sklearn library\n",
    "- Step 2 : make an object of Decision Tree\n",
    "- Step 3 : fit the X_train and y_train dataframe into the object \n",
    "- Step 4 : Predict the output by passing the X_test Dataset into predict function\n",
    "\n",
    "\n",
    "\n",
    "\n",
    "- Note - Append the Algorithm name into the algorithm list for tracking purpose"
   ]
  },
  {
   "cell_type": "code",
   "execution_count": 101,
   "id": "1b6a51eb",
   "metadata": {
    "id": "1b6a51eb"
   },
   "outputs": [],
   "source": [
    "Algorithm.append('Decision Tree Regression')\n",
    "regressor = DecisionTreeRegressor()\n",
    "regressor.fit(X_train, y_train)\n",
    "predicted= regressor.predict(X_test)"
   ]
  },
  {
   "cell_type": "markdown",
   "id": "AOzfgfeOZo3F",
   "metadata": {
    "id": "AOzfgfeOZo3F"
   },
   "source": [
    "### Check for the \n",
    "\n",
    "- Mean Square Error\n",
    "- R Square Error \n",
    "\n",
    "for y_test and predicted dataset and store those data inside respective list for comparison "
   ]
  },
  {
   "cell_type": "code",
   "execution_count": 102,
   "id": "776e6983",
   "metadata": {
    "id": "776e6983"
   },
   "outputs": [],
   "source": [
    "MSE_Score.append(mean_squared_error(y_test, predicted))\n",
    "R2_Score.append(r2_score(y_test, predicted))"
   ]
  },
  {
   "cell_type": "markdown",
   "id": "eI6d49DQZrhW",
   "metadata": {
    "id": "eI6d49DQZrhW"
   },
   "source": [
    "### Check the same for the Validation set also "
   ]
  },
  {
   "cell_type": "code",
   "execution_count": 103,
   "id": "155fb55c",
   "metadata": {
    "id": "155fb55c"
   },
   "outputs": [
    {
     "data": {
      "text/plain": [
       "488771.042295848"
      ]
     },
     "execution_count": 103,
     "metadata": {},
     "output_type": "execute_result"
    }
   ],
   "source": [
    "predict_test= regressor.predict(X_val)\n",
    "mean_squared_error(y_val, predict_test, squared=False)"
   ]
  },
  {
   "cell_type": "markdown",
   "id": "sbGXvBLQZw5E",
   "metadata": {
    "id": "sbGXvBLQZw5E"
   },
   "source": [
    "### Display The Comparison Lists"
   ]
  },
  {
   "cell_type": "code",
   "execution_count": 104,
   "id": "1d74d515",
   "metadata": {
    "id": "1d74d515"
   },
   "outputs": [
    {
     "name": "stdout",
     "output_type": "stream",
     "text": [
      "['LinearRegression', 'Support Vector Regression', 'Decision Tree Regression'],[303798896915.95703, 465287307293.00714, 278934125717.0005],[0.34457398027359587, -0.003826580491621989, 0.3982180789973915],"
     ]
    }
   ],
   "source": [
    "for i in Algorithm, MSE_Score, R2_Score:\n",
    "    print(i,end=',')"
   ]
  },
  {
   "cell_type": "markdown",
   "id": "4ae9979b",
   "metadata": {
    "id": "4ae9979b"
   },
   "source": [
    "### Your next model would be Random Forest Regression\n",
    "\n",
    "- Step 1 : Call the Random Forest Regressor from sklearn library\n",
    "- Step 2 : make an object of Random Forest\n",
    "- Step 3 : fit the X_train and y_train dataframe into the object \n",
    "- Step 4 : Predict the output by passing the X_test Dataset into predict function\n",
    "\n",
    "\n",
    "\n",
    "\n",
    "- Note - Append the Algorithm name into the algorithm list for tracking purpose"
   ]
  },
  {
   "cell_type": "code",
   "execution_count": 105,
   "id": "a69e476a",
   "metadata": {
    "id": "a69e476a"
   },
   "outputs": [
    {
     "name": "stderr",
     "output_type": "stream",
     "text": [
      "C:\\Users\\KIIT\\AppData\\Local\\Temp\\ipykernel_10384\\4282877422.py:3: DataConversionWarning: A column-vector y was passed when a 1d array was expected. Please change the shape of y to (n_samples,), for example using ravel().\n",
      "  regressor.fit(X_train, y_train)\n"
     ]
    }
   ],
   "source": [
    "Algorithm.append('Random Forest Regression')\n",
    "regressor = RandomForestRegressor()\n",
    "regressor.fit(X_train, y_train)\n",
    "predicted= regressor.predict(X_test)"
   ]
  },
  {
   "cell_type": "markdown",
   "id": "XNcEJF-6anof",
   "metadata": {
    "id": "XNcEJF-6anof"
   },
   "source": [
    "### Check for the \n",
    "\n",
    "- Mean Square Error\n",
    "- R Square Error \n",
    "\n",
    "for y_test and predicted dataset and store those data inside respective list for comparison "
   ]
  },
  {
   "cell_type": "code",
   "execution_count": 106,
   "id": "826f63f4",
   "metadata": {
    "id": "826f63f4"
   },
   "outputs": [],
   "source": [
    "MSE_Score.append(mean_squared_error(y_test, predicted))\n",
    "R2_Score.append(r2_score(y_test, predicted))"
   ]
  },
  {
   "cell_type": "markdown",
   "id": "yMbyr9V4ati1",
   "metadata": {
    "id": "yMbyr9V4ati1"
   },
   "source": [
    "### Check the same for the Validation set also "
   ]
  },
  {
   "cell_type": "code",
   "execution_count": 107,
   "id": "55b9fb54",
   "metadata": {
    "id": "55b9fb54"
   },
   "outputs": [
    {
     "data": {
      "text/plain": [
       "324744.7347114553"
      ]
     },
     "execution_count": 107,
     "metadata": {},
     "output_type": "execute_result"
    }
   ],
   "source": [
    "predict_test= regressor.predict(X_val)\n",
    "mean_squared_error(y_val, predict_test, squared=False)"
   ]
  },
  {
   "cell_type": "markdown",
   "id": "tiBawcCsaw_Z",
   "metadata": {
    "id": "tiBawcCsaw_Z"
   },
   "source": [
    "### Display The Comparison Lists\n"
   ]
  },
  {
   "cell_type": "code",
   "execution_count": 108,
   "id": "8277c13e",
   "metadata": {
    "id": "8277c13e"
   },
   "outputs": [
    {
     "name": "stdout",
     "output_type": "stream",
     "text": [
      "['LinearRegression', 'Support Vector Regression', 'Decision Tree Regression', 'Random Forest Regression'],[303798896915.95703, 465287307293.00714, 278934125717.0005, 106717233356.04138],[0.34457398027359587, -0.003826580491621989, 0.3982180789973915, 0.7697646298099834],"
     ]
    }
   ],
   "source": [
    "for i in Algorithm, MSE_Score, R2_Score:\n",
    "    print(i,end=',')"
   ]
  },
  {
   "cell_type": "markdown",
   "id": "e6b21881",
   "metadata": {
    "id": "e6b21881"
   },
   "source": [
    "### The last but not the least model would be XGBoost or Extreme Gradient Boost Regression\n",
    "\n",
    "- Step 1 : Call the XGBoost Regressor from xgb library\n",
    "- Step 2 : make an object of Xgboost\n",
    "- Step 3 : fit the X_train and y_train dataframe into the object \n",
    "- Step 4 : Predict the output by passing the X_test Dataset into predict function\n",
    "\n",
    "\n",
    "\n",
    "\n",
    "- Note - Append the Algorithm name into the algorithm list for tracking purpose### Extreme Gradient Boost Regression\n",
    "- Note -  No need to change the code "
   ]
  },
  {
   "cell_type": "code",
   "execution_count": 109,
   "id": "705a38ec",
   "metadata": {
    "id": "705a38ec"
   },
   "outputs": [
    {
     "name": "stderr",
     "output_type": "stream",
     "text": [
      "C:\\src\\lib\\site-packages\\xgboost\\compat.py:36: FutureWarning: pandas.Int64Index is deprecated and will be removed from pandas in a future version. Use pandas.Index with the appropriate dtype instead.\n",
      "  from pandas import MultiIndex, Int64Index\n",
      "C:\\src\\lib\\site-packages\\xgboost\\data.py:262: FutureWarning: pandas.Int64Index is deprecated and will be removed from pandas in a future version. Use pandas.Index with the appropriate dtype instead.\n",
      "  elif isinstance(data.columns, (pd.Int64Index, pd.RangeIndex)):\n"
     ]
    }
   ],
   "source": [
    "import xgboost as xgb\n",
    "Algorithm.append('XGB Regressor')\n",
    "regressor = xgb.XGBRegressor()\n",
    "regressor.fit(X_train, y_train)\n",
    "predicted = regressor.predict(X_test)"
   ]
  },
  {
   "cell_type": "markdown",
   "id": "ierNZkb9bQDD",
   "metadata": {
    "id": "ierNZkb9bQDD"
   },
   "source": [
    "### Check for the \n",
    "\n",
    "- Mean Square Error\n",
    "- R Square Error \n",
    "\n",
    "for y_test and predicted dataset and store those data inside respective list for comparison "
   ]
  },
  {
   "cell_type": "code",
   "execution_count": 110,
   "id": "507a9d2f",
   "metadata": {
    "id": "507a9d2f"
   },
   "outputs": [],
   "source": [
    "MSE_Score.append(mean_squared_error(y_test, predicted))\n",
    "R2_Score.append(r2_score(y_test, predicted))"
   ]
  },
  {
   "cell_type": "markdown",
   "id": "84UZ2ojsbWaH",
   "metadata": {
    "id": "84UZ2ojsbWaH"
   },
   "source": [
    "### Check the same for the Validation set also "
   ]
  },
  {
   "cell_type": "code",
   "execution_count": 111,
   "id": "e78ac250",
   "metadata": {
    "id": "e78ac250"
   },
   "outputs": [
    {
     "name": "stderr",
     "output_type": "stream",
     "text": [
      "C:\\src\\lib\\site-packages\\xgboost\\data.py:262: FutureWarning: pandas.Int64Index is deprecated and will be removed from pandas in a future version. Use pandas.Index with the appropriate dtype instead.\n",
      "  elif isinstance(data.columns, (pd.Int64Index, pd.RangeIndex)):\n"
     ]
    },
    {
     "data": {
      "text/plain": [
       "325314.27719062596"
      ]
     },
     "execution_count": 111,
     "metadata": {},
     "output_type": "execute_result"
    }
   ],
   "source": [
    "predict_test= regressor.predict(X_val)\n",
    "mean_squared_error(y_val, predict_test, squared=False)"
   ]
  },
  {
   "cell_type": "markdown",
   "id": "9FJFyaVbbbAH",
   "metadata": {
    "id": "9FJFyaVbbbAH"
   },
   "source": [
    "### Display The Comparison Lists\n"
   ]
  },
  {
   "cell_type": "code",
   "execution_count": 112,
   "id": "f765ba35",
   "metadata": {
    "id": "f765ba35"
   },
   "outputs": [
    {
     "name": "stdout",
     "output_type": "stream",
     "text": [
      "['LinearRegression', 'Support Vector Regression', 'Decision Tree Regression', 'Random Forest Regression', 'XGB Regressor'],[303798896915.95703, 465287307293.00714, 278934125717.0005, 106717233356.04138, 100871640089.53432],[0.34457398027359587, -0.003826580491621989, 0.3982180789973915, 0.7697646298099834, 0.7823761105181115],"
     ]
    }
   ],
   "source": [
    "for i in Algorithm, MSE_Score, R2_Score:\n",
    "    print(i,end=',')"
   ]
  },
  {
   "cell_type": "markdown",
   "id": "a71bc90f",
   "metadata": {
    "id": "a71bc90f"
   },
   "source": [
    "## You need to make the comparison list into a comparison dataframe "
   ]
  },
  {
   "cell_type": "code",
   "execution_count": 113,
   "id": "ff5159a7",
   "metadata": {
    "id": "ff5159a7"
   },
   "outputs": [
    {
     "data": {
      "text/html": [
       "<div>\n",
       "<style scoped>\n",
       "    .dataframe tbody tr th:only-of-type {\n",
       "        vertical-align: middle;\n",
       "    }\n",
       "\n",
       "    .dataframe tbody tr th {\n",
       "        vertical-align: top;\n",
       "    }\n",
       "\n",
       "    .dataframe thead th {\n",
       "        text-align: right;\n",
       "    }\n",
       "</style>\n",
       "<table border=\"1\" class=\"dataframe\">\n",
       "  <thead>\n",
       "    <tr style=\"text-align: right;\">\n",
       "      <th></th>\n",
       "      <th>Algorithm</th>\n",
       "      <th>MSE_Score</th>\n",
       "      <th>R2_Score</th>\n",
       "    </tr>\n",
       "  </thead>\n",
       "  <tbody>\n",
       "    <tr>\n",
       "      <th>0</th>\n",
       "      <td>LinearRegression</td>\n",
       "      <td>3.037989e+11</td>\n",
       "      <td>0.344574</td>\n",
       "    </tr>\n",
       "    <tr>\n",
       "      <th>1</th>\n",
       "      <td>Support Vector Regression</td>\n",
       "      <td>4.652873e+11</td>\n",
       "      <td>-0.003827</td>\n",
       "    </tr>\n",
       "    <tr>\n",
       "      <th>2</th>\n",
       "      <td>Decision Tree Regression</td>\n",
       "      <td>2.789341e+11</td>\n",
       "      <td>0.398218</td>\n",
       "    </tr>\n",
       "    <tr>\n",
       "      <th>3</th>\n",
       "      <td>Random Forest Regression</td>\n",
       "      <td>1.067172e+11</td>\n",
       "      <td>0.769765</td>\n",
       "    </tr>\n",
       "    <tr>\n",
       "      <th>4</th>\n",
       "      <td>XGB Regressor</td>\n",
       "      <td>1.008716e+11</td>\n",
       "      <td>0.782376</td>\n",
       "    </tr>\n",
       "  </tbody>\n",
       "</table>\n",
       "</div>"
      ],
      "text/plain": [
       "                   Algorithm     MSE_Score  R2_Score\n",
       "0           LinearRegression  3.037989e+11  0.344574\n",
       "1  Support Vector Regression  4.652873e+11 -0.003827\n",
       "2   Decision Tree Regression  2.789341e+11  0.398218\n",
       "3   Random Forest Regression  1.067172e+11  0.769765\n",
       "4              XGB Regressor  1.008716e+11  0.782376"
      ]
     },
     "execution_count": 113,
     "metadata": {},
     "output_type": "execute_result"
    }
   ],
   "source": [
    "Comparison = pd.DataFrame(list(zip(Algorithm, MSE_Score, R2_Score)), columns = ['Algorithm', 'MSE_Score', 'R2_Score'])\n",
    "Comparison"
   ]
  },
  {
   "cell_type": "markdown",
   "id": "62e61c60",
   "metadata": {
    "id": "62e61c60"
   },
   "source": [
    "## Now from the Comparison table, you need to choose the best fit model\n",
    "\n",
    "- Step 1 - Fit X_train and y_train inside the model \n",
    "- Step 2 - Predict the X_test dataset\n",
    "- Step 3 - Predict the X_val dataset\n",
    "\n",
    "\n",
    "- Note - No need to change the code"
   ]
  },
  {
   "cell_type": "code",
   "execution_count": 114,
   "id": "3e07c258",
   "metadata": {
    "id": "3e07c258"
   },
   "outputs": [
    {
     "name": "stderr",
     "output_type": "stream",
     "text": [
      "C:\\src\\lib\\site-packages\\xgboost\\data.py:262: FutureWarning: pandas.Int64Index is deprecated and will be removed from pandas in a future version. Use pandas.Index with the appropriate dtype instead.\n",
      "  elif isinstance(data.columns, (pd.Int64Index, pd.RangeIndex)):\n"
     ]
    }
   ],
   "source": [
    "regressorfinal = xgb.XGBRegressor()\n",
    "regressorfinal.fit(X_train, y_train)\n",
    "predictedfinal = regressorfinal.predict(X_test)\n",
    "predict_testfinal = regressorfinal.predict(X_val)"
   ]
  },
  {
   "cell_type": "markdown",
   "id": "8e4df6c4",
   "metadata": {
    "id": "8e4df6c4"
   },
   "source": [
    "### Calculate the Mean Square Error for test dataset\n",
    "\n",
    "- Note - No need to change the code"
   ]
  },
  {
   "cell_type": "code",
   "execution_count": 115,
   "id": "5fb466d0",
   "metadata": {
    "id": "5fb466d0"
   },
   "outputs": [
    {
     "data": {
      "text/plain": [
       "317602.9598248957"
      ]
     },
     "execution_count": 115,
     "metadata": {},
     "output_type": "execute_result"
    }
   ],
   "source": [
    "mean_squared_error(y_test,predictedfinal,squared=False)"
   ]
  },
  {
   "cell_type": "markdown",
   "id": "ce27f87f",
   "metadata": {
    "id": "ce27f87f"
   },
   "source": [
    "### Calculate the mean Square Error for validation dataset"
   ]
  },
  {
   "cell_type": "code",
   "execution_count": 116,
   "id": "b47978ea",
   "metadata": {
    "id": "b47978ea"
   },
   "outputs": [
    {
     "data": {
      "text/plain": [
       "890414.8161908011"
      ]
     },
     "execution_count": 116,
     "metadata": {},
     "output_type": "execute_result"
    }
   ],
   "source": [
    "mean_squared_error(y_val,predictedfinal,squared=False)"
   ]
  },
  {
   "cell_type": "markdown",
   "id": "30014dbd",
   "metadata": {
    "id": "30014dbd"
   },
   "source": [
    "### Calculate the R2 score for test"
   ]
  },
  {
   "cell_type": "code",
   "execution_count": 117,
   "id": "8a162737",
   "metadata": {
    "id": "8a162737"
   },
   "outputs": [],
   "source": [
    "R2_Score.append(r2_score(y_test, predictedfinal))"
   ]
  },
  {
   "cell_type": "markdown",
   "id": "1c9853b0",
   "metadata": {
    "id": "1c9853b0"
   },
   "source": [
    "### Calculate the R2 score for Validation"
   ]
  },
  {
   "cell_type": "code",
   "execution_count": 118,
   "id": "1a6dc77c",
   "metadata": {
    "id": "1a6dc77c"
   },
   "outputs": [],
   "source": [
    "R2_Score.append(r2_score(y_val, predictedfinal))"
   ]
  },
  {
   "cell_type": "markdown",
   "id": "499522d9",
   "metadata": {
    "id": "499522d9"
   },
   "source": [
    "### Calculate the Accuracy for train Dataset "
   ]
  },
  {
   "cell_type": "code",
   "execution_count": 119,
   "id": "7a4f1ce8",
   "metadata": {
    "id": "7a4f1ce8"
   },
   "outputs": [
    {
     "name": "stderr",
     "output_type": "stream",
     "text": [
      "C:\\src\\lib\\site-packages\\xgboost\\data.py:262: FutureWarning: pandas.Int64Index is deprecated and will be removed from pandas in a future version. Use pandas.Index with the appropriate dtype instead.\n",
      "  elif isinstance(data.columns, (pd.Int64Index, pd.RangeIndex)):\n"
     ]
    },
    {
     "data": {
      "text/plain": [
       "0.9535544835274946"
      ]
     },
     "execution_count": 119,
     "metadata": {},
     "output_type": "execute_result"
    }
   ],
   "source": [
    "regressorfinal.score(X_train, y_train)"
   ]
  },
  {
   "cell_type": "markdown",
   "id": "12a1c921",
   "metadata": {
    "id": "12a1c921"
   },
   "source": [
    "### Calculate the accuracy for validation"
   ]
  },
  {
   "cell_type": "code",
   "execution_count": 120,
   "id": "d2579b4f",
   "metadata": {
    "id": "d2579b4f"
   },
   "outputs": [
    {
     "name": "stderr",
     "output_type": "stream",
     "text": [
      "C:\\src\\lib\\site-packages\\xgboost\\data.py:262: FutureWarning: pandas.Int64Index is deprecated and will be removed from pandas in a future version. Use pandas.Index with the appropriate dtype instead.\n",
      "  elif isinstance(data.columns, (pd.Int64Index, pd.RangeIndex)):\n"
     ]
    },
    {
     "data": {
      "text/plain": [
       "0.7388411272571191"
      ]
     },
     "execution_count": 120,
     "metadata": {},
     "output_type": "execute_result"
    }
   ],
   "source": [
    "regressorfinal.score(X_val, y_val)"
   ]
  },
  {
   "cell_type": "markdown",
   "id": "79b82e84",
   "metadata": {
    "id": "79b82e84"
   },
   "source": [
    "### Calculate the accuracy for test"
   ]
  },
  {
   "cell_type": "code",
   "execution_count": 121,
   "id": "f09e6431",
   "metadata": {
    "id": "f09e6431"
   },
   "outputs": [
    {
     "name": "stderr",
     "output_type": "stream",
     "text": [
      "C:\\src\\lib\\site-packages\\xgboost\\data.py:262: FutureWarning: pandas.Int64Index is deprecated and will be removed from pandas in a future version. Use pandas.Index with the appropriate dtype instead.\n",
      "  elif isinstance(data.columns, (pd.Int64Index, pd.RangeIndex)):\n"
     ]
    },
    {
     "data": {
      "text/plain": [
       "0.7823761105181115"
      ]
     },
     "execution_count": 121,
     "metadata": {},
     "output_type": "execute_result"
    }
   ],
   "source": [
    "regressorfinal.score(X_test, y_test)"
   ]
  },
  {
   "cell_type": "markdown",
   "id": "9488a5d9",
   "metadata": {
    "id": "9488a5d9"
   },
   "source": [
    "## Specify the reason behind choosing your machine learning model \n",
    "\n",
    "- Note : Provide your answer as a text here"
   ]
  },
  {
   "cell_type": "markdown",
   "id": "387a6519",
   "metadata": {
    "id": "387a6519"
   },
   "source": [
    "## Now you need to pass the Nulldata dataframe into this machine learning model\n",
    "\n",
    "#### In order to pass this Nulldata dataframe into the ML model, we need to perform the following\n",
    "\n",
    "- Step 1 : Label Encoding \n",
    "- Step 2 : Day, Month and Year extraction \n",
    "- Step 3 : Change all the column data type into int64 or float64\n",
    "- Step 4 : Need to drop the useless columns "
   ]
  },
  {
   "cell_type": "markdown",
   "id": "I7JuxAkdiAdI",
   "metadata": {
    "id": "I7JuxAkdiAdI"
   },
   "source": [
    "### Display the Nulldata "
   ]
  },
  {
   "cell_type": "code",
   "execution_count": 122,
   "id": "6d6a51d2",
   "metadata": {
    "id": "6d6a51d2"
   },
   "outputs": [
    {
     "data": {
      "text/html": [
       "<div>\n",
       "<style scoped>\n",
       "    .dataframe tbody tr th:only-of-type {\n",
       "        vertical-align: middle;\n",
       "    }\n",
       "\n",
       "    .dataframe tbody tr th {\n",
       "        vertical-align: top;\n",
       "    }\n",
       "\n",
       "    .dataframe thead th {\n",
       "        text-align: right;\n",
       "    }\n",
       "</style>\n",
       "<table border=\"1\" class=\"dataframe\">\n",
       "  <thead>\n",
       "    <tr style=\"text-align: right;\">\n",
       "      <th></th>\n",
       "      <th>business_code</th>\n",
       "      <th>cust_number</th>\n",
       "      <th>name_customer</th>\n",
       "      <th>clear_date</th>\n",
       "      <th>buisness_year</th>\n",
       "      <th>doc_id</th>\n",
       "      <th>posting_date</th>\n",
       "      <th>due_in_date</th>\n",
       "      <th>baseline_create_date</th>\n",
       "      <th>cust_payment_terms</th>\n",
       "      <th>converted_usd</th>\n",
       "    </tr>\n",
       "  </thead>\n",
       "  <tbody>\n",
       "    <tr>\n",
       "      <th>3</th>\n",
       "      <td>CA02</td>\n",
       "      <td>0140105686</td>\n",
       "      <td>SYSC llc</td>\n",
       "      <td>NaT</td>\n",
       "      <td>2020.0</td>\n",
       "      <td>2.960623e+09</td>\n",
       "      <td>2020-03-30</td>\n",
       "      <td>2020-04-10</td>\n",
       "      <td>2020-03-31</td>\n",
       "      <td>CA10</td>\n",
       "      <td>2309.79</td>\n",
       "    </tr>\n",
       "    <tr>\n",
       "      <th>7</th>\n",
       "      <td>U001</td>\n",
       "      <td>0200744019</td>\n",
       "      <td>TARG us</td>\n",
       "      <td>NaT</td>\n",
       "      <td>2020.0</td>\n",
       "      <td>1.930659e+09</td>\n",
       "      <td>2020-03-19</td>\n",
       "      <td>2020-04-03</td>\n",
       "      <td>2020-03-19</td>\n",
       "      <td>NAA8</td>\n",
       "      <td>11173.02</td>\n",
       "    </tr>\n",
       "    <tr>\n",
       "      <th>10</th>\n",
       "      <td>U001</td>\n",
       "      <td>0200418007</td>\n",
       "      <td>AM</td>\n",
       "      <td>NaT</td>\n",
       "      <td>2020.0</td>\n",
       "      <td>1.930611e+09</td>\n",
       "      <td>2020-03-11</td>\n",
       "      <td>2020-03-26</td>\n",
       "      <td>2020-03-11</td>\n",
       "      <td>NAA8</td>\n",
       "      <td>3525.59</td>\n",
       "    </tr>\n",
       "    <tr>\n",
       "      <th>14</th>\n",
       "      <td>U001</td>\n",
       "      <td>0200739534</td>\n",
       "      <td>OK systems</td>\n",
       "      <td>NaT</td>\n",
       "      <td>2020.0</td>\n",
       "      <td>1.930788e+09</td>\n",
       "      <td>2020-04-15</td>\n",
       "      <td>2020-04-30</td>\n",
       "      <td>2020-04-15</td>\n",
       "      <td>NAA8</td>\n",
       "      <td>121105.65</td>\n",
       "    </tr>\n",
       "    <tr>\n",
       "      <th>15</th>\n",
       "      <td>U001</td>\n",
       "      <td>0200353024</td>\n",
       "      <td>DECA corporation</td>\n",
       "      <td>NaT</td>\n",
       "      <td>2020.0</td>\n",
       "      <td>1.930817e+09</td>\n",
       "      <td>2020-04-23</td>\n",
       "      <td>2020-04-26</td>\n",
       "      <td>2020-04-16</td>\n",
       "      <td>NAM2</td>\n",
       "      <td>3726.06</td>\n",
       "    </tr>\n",
       "    <tr>\n",
       "      <th>...</th>\n",
       "      <td>...</td>\n",
       "      <td>...</td>\n",
       "      <td>...</td>\n",
       "      <td>...</td>\n",
       "      <td>...</td>\n",
       "      <td>...</td>\n",
       "      <td>...</td>\n",
       "      <td>...</td>\n",
       "      <td>...</td>\n",
       "      <td>...</td>\n",
       "      <td>...</td>\n",
       "    </tr>\n",
       "    <tr>\n",
       "      <th>49975</th>\n",
       "      <td>U001</td>\n",
       "      <td>0200769623</td>\n",
       "      <td>WAL-MAR in</td>\n",
       "      <td>NaT</td>\n",
       "      <td>2020.0</td>\n",
       "      <td>1.930625e+09</td>\n",
       "      <td>2020-03-10</td>\n",
       "      <td>2020-03-25</td>\n",
       "      <td>2020-03-10</td>\n",
       "      <td>NAH4</td>\n",
       "      <td>13114.99</td>\n",
       "    </tr>\n",
       "    <tr>\n",
       "      <th>49980</th>\n",
       "      <td>U001</td>\n",
       "      <td>0200769623</td>\n",
       "      <td>WAL-MAR corporation</td>\n",
       "      <td>NaT</td>\n",
       "      <td>2020.0</td>\n",
       "      <td>1.930851e+09</td>\n",
       "      <td>2020-05-03</td>\n",
       "      <td>2020-05-18</td>\n",
       "      <td>2020-05-03</td>\n",
       "      <td>NAH4</td>\n",
       "      <td>8899.71</td>\n",
       "    </tr>\n",
       "    <tr>\n",
       "      <th>49982</th>\n",
       "      <td>U001</td>\n",
       "      <td>0200148860</td>\n",
       "      <td>DOLLA co</td>\n",
       "      <td>NaT</td>\n",
       "      <td>2020.0</td>\n",
       "      <td>1.930638e+09</td>\n",
       "      <td>2020-03-11</td>\n",
       "      <td>2020-03-26</td>\n",
       "      <td>2020-03-11</td>\n",
       "      <td>NAA8</td>\n",
       "      <td>4967.06</td>\n",
       "    </tr>\n",
       "    <tr>\n",
       "      <th>49992</th>\n",
       "      <td>U001</td>\n",
       "      <td>0200900909</td>\n",
       "      <td>SYSCO co</td>\n",
       "      <td>NaT</td>\n",
       "      <td>2020.0</td>\n",
       "      <td>1.930702e+09</td>\n",
       "      <td>2020-03-25</td>\n",
       "      <td>2020-04-09</td>\n",
       "      <td>2020-03-25</td>\n",
       "      <td>NAA8</td>\n",
       "      <td>1998.64</td>\n",
       "    </tr>\n",
       "    <tr>\n",
       "      <th>49995</th>\n",
       "      <td>U001</td>\n",
       "      <td>0200561861</td>\n",
       "      <td>CO corporation</td>\n",
       "      <td>NaT</td>\n",
       "      <td>2020.0</td>\n",
       "      <td>1.930797e+09</td>\n",
       "      <td>2020-04-21</td>\n",
       "      <td>2020-05-06</td>\n",
       "      <td>2020-04-21</td>\n",
       "      <td>NAA8</td>\n",
       "      <td>3187.86</td>\n",
       "    </tr>\n",
       "  </tbody>\n",
       "</table>\n",
       "<p>9681 rows × 11 columns</p>\n",
       "</div>"
      ],
      "text/plain": [
       "      business_code cust_number        name_customer clear_date  \\\n",
       "3              CA02  0140105686             SYSC llc        NaT   \n",
       "7              U001  0200744019              TARG us        NaT   \n",
       "10             U001  0200418007                  AM         NaT   \n",
       "14             U001  0200739534           OK systems        NaT   \n",
       "15             U001  0200353024     DECA corporation        NaT   \n",
       "...             ...         ...                  ...        ...   \n",
       "49975          U001  0200769623           WAL-MAR in        NaT   \n",
       "49980          U001  0200769623  WAL-MAR corporation        NaT   \n",
       "49982          U001  0200148860             DOLLA co        NaT   \n",
       "49992          U001  0200900909             SYSCO co        NaT   \n",
       "49995          U001  0200561861       CO corporation        NaT   \n",
       "\n",
       "       buisness_year        doc_id posting_date due_in_date  \\\n",
       "3             2020.0  2.960623e+09   2020-03-30  2020-04-10   \n",
       "7             2020.0  1.930659e+09   2020-03-19  2020-04-03   \n",
       "10            2020.0  1.930611e+09   2020-03-11  2020-03-26   \n",
       "14            2020.0  1.930788e+09   2020-04-15  2020-04-30   \n",
       "15            2020.0  1.930817e+09   2020-04-23  2020-04-26   \n",
       "...              ...           ...          ...         ...   \n",
       "49975         2020.0  1.930625e+09   2020-03-10  2020-03-25   \n",
       "49980         2020.0  1.930851e+09   2020-05-03  2020-05-18   \n",
       "49982         2020.0  1.930638e+09   2020-03-11  2020-03-26   \n",
       "49992         2020.0  1.930702e+09   2020-03-25  2020-04-09   \n",
       "49995         2020.0  1.930797e+09   2020-04-21  2020-05-06   \n",
       "\n",
       "      baseline_create_date cust_payment_terms  converted_usd  \n",
       "3               2020-03-31               CA10        2309.79  \n",
       "7               2020-03-19               NAA8       11173.02  \n",
       "10              2020-03-11               NAA8        3525.59  \n",
       "14              2020-04-15               NAA8      121105.65  \n",
       "15              2020-04-16               NAM2        3726.06  \n",
       "...                    ...                ...            ...  \n",
       "49975           2020-03-10               NAH4       13114.99  \n",
       "49980           2020-05-03               NAH4        8899.71  \n",
       "49982           2020-03-11               NAA8        4967.06  \n",
       "49992           2020-03-25               NAA8        1998.64  \n",
       "49995           2020-04-21               NAA8        3187.86  \n",
       "\n",
       "[9681 rows x 11 columns]"
      ]
     },
     "execution_count": 122,
     "metadata": {},
     "output_type": "execute_result"
    }
   ],
   "source": [
    "test_data"
   ]
  },
  {
   "cell_type": "markdown",
   "id": "Vamx5xqtiHCH",
   "metadata": {
    "id": "Vamx5xqtiHCH"
   },
   "source": [
    "### Check for the number of rows and columns in the nulldata"
   ]
  },
  {
   "cell_type": "code",
   "execution_count": 123,
   "id": "59de1092",
   "metadata": {
    "id": "59de1092"
   },
   "outputs": [
    {
     "data": {
      "text/plain": [
       "(9681, 11)"
      ]
     },
     "execution_count": 123,
     "metadata": {},
     "output_type": "execute_result"
    }
   ],
   "source": [
    "test_data.shape"
   ]
  },
  {
   "cell_type": "markdown",
   "id": "BxzHNbBjpqXL",
   "metadata": {
    "id": "BxzHNbBjpqXL"
   },
   "source": [
    "### Check the Description and Information of the nulldata "
   ]
  },
  {
   "cell_type": "code",
   "execution_count": 124,
   "id": "a6294d29",
   "metadata": {
    "id": "a6294d29"
   },
   "outputs": [
    {
     "data": {
      "text/html": [
       "<div>\n",
       "<style scoped>\n",
       "    .dataframe tbody tr th:only-of-type {\n",
       "        vertical-align: middle;\n",
       "    }\n",
       "\n",
       "    .dataframe tbody tr th {\n",
       "        vertical-align: top;\n",
       "    }\n",
       "\n",
       "    .dataframe thead th {\n",
       "        text-align: right;\n",
       "    }\n",
       "</style>\n",
       "<table border=\"1\" class=\"dataframe\">\n",
       "  <thead>\n",
       "    <tr style=\"text-align: right;\">\n",
       "      <th></th>\n",
       "      <th>buisness_year</th>\n",
       "      <th>doc_id</th>\n",
       "      <th>converted_usd</th>\n",
       "    </tr>\n",
       "  </thead>\n",
       "  <tbody>\n",
       "    <tr>\n",
       "      <th>count</th>\n",
       "      <td>9681.0</td>\n",
       "      <td>9.681000e+03</td>\n",
       "      <td>9681.000000</td>\n",
       "    </tr>\n",
       "    <tr>\n",
       "      <th>mean</th>\n",
       "      <td>2020.0</td>\n",
       "      <td>2.006165e+09</td>\n",
       "      <td>32065.681125</td>\n",
       "    </tr>\n",
       "    <tr>\n",
       "      <th>std</th>\n",
       "      <td>0.0</td>\n",
       "      <td>2.673629e+08</td>\n",
       "      <td>35419.613688</td>\n",
       "    </tr>\n",
       "    <tr>\n",
       "      <th>min</th>\n",
       "      <td>2020.0</td>\n",
       "      <td>1.930535e+09</td>\n",
       "      <td>0.720000</td>\n",
       "    </tr>\n",
       "    <tr>\n",
       "      <th>25%</th>\n",
       "      <td>2020.0</td>\n",
       "      <td>1.930658e+09</td>\n",
       "      <td>5607.190000</td>\n",
       "    </tr>\n",
       "    <tr>\n",
       "      <th>50%</th>\n",
       "      <td>2020.0</td>\n",
       "      <td>1.930731e+09</td>\n",
       "      <td>19024.190000</td>\n",
       "    </tr>\n",
       "    <tr>\n",
       "      <th>75%</th>\n",
       "      <td>2020.0</td>\n",
       "      <td>1.930818e+09</td>\n",
       "      <td>47752.640000</td>\n",
       "    </tr>\n",
       "    <tr>\n",
       "      <th>max</th>\n",
       "      <td>2020.0</td>\n",
       "      <td>2.960636e+09</td>\n",
       "      <td>653644.800000</td>\n",
       "    </tr>\n",
       "  </tbody>\n",
       "</table>\n",
       "</div>"
      ],
      "text/plain": [
       "       buisness_year        doc_id  converted_usd\n",
       "count         9681.0  9.681000e+03    9681.000000\n",
       "mean          2020.0  2.006165e+09   32065.681125\n",
       "std              0.0  2.673629e+08   35419.613688\n",
       "min           2020.0  1.930535e+09       0.720000\n",
       "25%           2020.0  1.930658e+09    5607.190000\n",
       "50%           2020.0  1.930731e+09   19024.190000\n",
       "75%           2020.0  1.930818e+09   47752.640000\n",
       "max           2020.0  2.960636e+09  653644.800000"
      ]
     },
     "execution_count": 124,
     "metadata": {},
     "output_type": "execute_result"
    }
   ],
   "source": [
    "test_data.describe()"
   ]
  },
  {
   "cell_type": "markdown",
   "id": "fe860d94",
   "metadata": {
    "id": "fe860d94"
   },
   "source": [
    "### Storing the Nulldata into a different dataset \n",
    "# for BACKUP"
   ]
  },
  {
   "cell_type": "code",
   "execution_count": 125,
   "id": "16352034",
   "metadata": {
    "id": "16352034"
   },
   "outputs": [],
   "source": [
    "nulldata = test_data.copy()\n",
    "nulldata1 = test_data.copy()"
   ]
  },
  {
   "cell_type": "markdown",
   "id": "00f35b8c",
   "metadata": {
    "id": "00f35b8c"
   },
   "source": [
    "### Call the Label Encoder for Nulldata\n",
    "\n",
    "- Note - you are expected to fit \"business_code\" as it is a categorical variable\n",
    "- Note - No need to change the code"
   ]
  },
  {
   "cell_type": "code",
   "execution_count": 126,
   "id": "baf04b17",
   "metadata": {
    "id": "baf04b17"
   },
   "outputs": [],
   "source": [
    "from sklearn.preprocessing import LabelEncoder\n",
    "business_codern = LabelEncoder()\n",
    "business_codern.fit(nulldata['business_code'])\n",
    "nulldata['business_code_enc'] = business_codern.transform(nulldata['business_code'])"
   ]
  },
  {
   "cell_type": "markdown",
   "id": "ZCPBK9karIR-",
   "metadata": {
    "id": "ZCPBK9karIR-"
   },
   "source": [
    "### Now you need to manually replacing str values with numbers\n",
    "- Note - No need to change the code"
   ]
  },
  {
   "cell_type": "code",
   "execution_count": 127,
   "id": "c64924be",
   "metadata": {
    "id": "c64924be"
   },
   "outputs": [],
   "source": [
    "nulldata['cust_number'] = nulldata['cust_number'].str.replace('CCCA',\"1\").str.replace('CCU',\"2\").str.replace('CC',\"3\").astype(int)"
   ]
  },
  {
   "cell_type": "markdown",
   "id": "9a55f5f6",
   "metadata": {
    "id": "9a55f5f6"
   },
   "source": [
    "## You need to extract day, month and year from the \"clear_date\", \"posting_date\", \"due_in_date\", \"baseline_create_date\" columns\n",
    "\n",
    "\n",
    "##### 1.   Extract day from \"clear_date\" column and store it into 'day_of_cleardate'\n",
    "##### 2.   Extract month from \"clear_date\" column and store it into 'month_of_cleardate'\n",
    "##### 3.   Extract year from \"clear_date\" column and store it into 'year_of_cleardate'\n",
    "\n",
    "\n",
    "\n",
    "##### 4.   Extract day from \"posting_date\" column and store it into 'day_of_postingdate'\n",
    "##### 5.   Extract month from \"posting_date\" column and store it into 'month_of_postingdate'\n",
    "##### 6.   Extract year from \"posting_date\" column and store it into 'year_of_postingdate'\n",
    "\n",
    "\n",
    "\n",
    "\n",
    "##### 7.   Extract day from \"due_in_date\" column and store it into 'day_of_due'\n",
    "##### 8.   Extract month from \"due_in_date\" column and store it into 'month_of_due'\n",
    "##### 9.   Extract year from \"due_in_date\" column and store it into 'year_of_due'\n",
    "\n",
    "\n",
    "\n",
    "\n",
    "##### 10.   Extract day from \"baseline_create_date\" column and store it into 'day_of_createdate'\n",
    "##### 11.   Extract month from \"baseline_create_date\" column and store it into 'month_of_createdate'\n",
    "##### 12.   Extract year from \"baseline_create_date\" column and store it into 'year_of_createdate'\n",
    "\n",
    "\n",
    "\n",
    "\n",
    "- Note - You are supposed To use - \n",
    "\n",
    "*   dt.day\n",
    "*   dt.month\n",
    "*   dt.year"
   ]
  },
  {
   "cell_type": "code",
   "execution_count": 128,
   "id": "4166fbe4",
   "metadata": {
    "id": "4166fbe4"
   },
   "outputs": [],
   "source": [
    "nulldata['day_of_cleardate'] = nulldata['clear_date'].dt.day\n",
    "nulldata['month_of_cleardate'] = nulldata['clear_date'].dt.month\n",
    "nulldata['year_of_cleardate'] = nulldata['clear_date'].dt.year\n",
    "\n",
    "nulldata['day_of_postingdate'] = nulldata['posting_date'].dt.day\n",
    "nulldata['month_of_postingdate'] = nulldata['posting_date'].dt.month\n",
    "nulldata['year_of_postingdate'] = nulldata['posting_date'].dt.year\n",
    "\n",
    "nulldata['day_of_due'] = nulldata['due_in_date'].dt.day\n",
    "nulldata['month_of_due'] = nulldata['due_in_date'].dt.month\n",
    "nulldata['year_of_due'] = nulldata['due_in_date'].dt.year\n",
    "\n",
    "nulldata['day_of_createdate'] = nulldata['baseline_create_date'].dt.day\n",
    "nulldata['month_of_createdate'] = nulldata['baseline_create_date'].dt.month\n",
    "nulldata['year_of_createdate'] = nulldata['baseline_create_date'].dt.year"
   ]
  },
  {
   "cell_type": "markdown",
   "id": "QeHWJYrAvOC6",
   "metadata": {
    "id": "QeHWJYrAvOC6"
   },
   "source": [
    "### Use Label Encoder1 of all the following columns - \n",
    "- 'cust_payment_terms' and store into 'cust_payment_terms_enc'\n",
    "- 'business_code' and store into 'business_code_enc'\n",
    "- 'name_customer' and store into 'name_customer_enc'\n",
    "\n",
    "Note - No need to change the code"
   ]
  },
  {
   "cell_type": "code",
   "execution_count": 129,
   "id": "bac330e2",
   "metadata": {
    "id": "bac330e2"
   },
   "outputs": [],
   "source": [
    "nulldata['cust_payment_terms_enc']=label_encoder1.transform(nulldata['cust_payment_terms'])\n",
    "nulldata['business_code_enc']=label_encoder1.transform(nulldata['business_code'])\n",
    "nulldata['name_customer_enc']=label_encoder.transform(nulldata['name_customer'])\n"
   ]
  },
  {
   "cell_type": "markdown",
   "id": "zD9I-XqQwC28",
   "metadata": {
    "id": "zD9I-XqQwC28"
   },
   "source": [
    "### Check for the datatypes of all the columns of Nulldata"
   ]
  },
  {
   "cell_type": "code",
   "execution_count": 130,
   "id": "d4f72517",
   "metadata": {
    "id": "d4f72517"
   },
   "outputs": [
    {
     "data": {
      "text/plain": [
       "business_code                     object\n",
       "cust_number                        int32\n",
       "name_customer                     object\n",
       "clear_date                datetime64[ns]\n",
       "buisness_year                    float64\n",
       "doc_id                           float64\n",
       "posting_date              datetime64[ns]\n",
       "due_in_date               datetime64[ns]\n",
       "baseline_create_date      datetime64[ns]\n",
       "cust_payment_terms                object\n",
       "converted_usd                    float64\n",
       "business_code_enc                  int32\n",
       "day_of_cleardate                 float64\n",
       "month_of_cleardate               float64\n",
       "year_of_cleardate                float64\n",
       "day_of_postingdate                 int64\n",
       "month_of_postingdate               int64\n",
       "year_of_postingdate                int64\n",
       "day_of_due                         int64\n",
       "month_of_due                       int64\n",
       "year_of_due                        int64\n",
       "day_of_createdate                  int64\n",
       "month_of_createdate                int64\n",
       "year_of_createdate                 int64\n",
       "cust_payment_terms_enc             int32\n",
       "name_customer_enc                  int32\n",
       "dtype: object"
      ]
     },
     "execution_count": 130,
     "metadata": {},
     "output_type": "execute_result"
    }
   ],
   "source": [
    "nulldata.dtypes"
   ]
  },
  {
   "cell_type": "markdown",
   "id": "17cd5452",
   "metadata": {
    "id": "17cd5452"
   },
   "source": [
    "### Now you need to drop all the unnecessary columns - \n",
    "\n",
    "- 'business_code'\n",
    "- \"baseline_create_date\"\n",
    "- \"due_in_date\"\n",
    "- \"posting_date\"\n",
    "- \"name_customer\"\n",
    "- \"clear_date\"\n",
    "- \"cust_payment_terms\"\n",
    "- 'day_of_cleardate'\n",
    "- \"month_of_cleardate\"\n",
    "- \"year_of_cleardate\""
   ]
  },
  {
   "cell_type": "code",
   "execution_count": 131,
   "id": "d7c82076",
   "metadata": {
    "id": "d7c82076"
   },
   "outputs": [],
   "source": [
    "nulldata.drop(['business_code','baseline_create_date','due_in_date','posting_date','name_customer','clear_date','cust_payment_terms',\n",
    "           'day_of_cleardate','month_of_cleardate','year_of_cleardate'],axis=1,inplace=True)"
   ]
  },
  {
   "cell_type": "markdown",
   "id": "Q_NCr9IPweVq",
   "metadata": {
    "id": "Q_NCr9IPweVq"
   },
   "source": [
    "### Check the information of the \"nulldata\" dataframe"
   ]
  },
  {
   "cell_type": "code",
   "execution_count": 132,
   "id": "4e7ffee0",
   "metadata": {
    "id": "4e7ffee0"
   },
   "outputs": [
    {
     "name": "stdout",
     "output_type": "stream",
     "text": [
      "<class 'pandas.core.frame.DataFrame'>\n",
      "Int64Index: 9681 entries, 3 to 49995\n",
      "Data columns (total 16 columns):\n",
      " #   Column                  Non-Null Count  Dtype  \n",
      "---  ------                  --------------  -----  \n",
      " 0   cust_number             9681 non-null   int32  \n",
      " 1   buisness_year           9681 non-null   float64\n",
      " 2   doc_id                  9681 non-null   float64\n",
      " 3   converted_usd           9681 non-null   float64\n",
      " 4   business_code_enc       9681 non-null   int32  \n",
      " 5   day_of_postingdate      9681 non-null   int64  \n",
      " 6   month_of_postingdate    9681 non-null   int64  \n",
      " 7   year_of_postingdate     9681 non-null   int64  \n",
      " 8   day_of_due              9681 non-null   int64  \n",
      " 9   month_of_due            9681 non-null   int64  \n",
      " 10  year_of_due             9681 non-null   int64  \n",
      " 11  day_of_createdate       9681 non-null   int64  \n",
      " 12  month_of_createdate     9681 non-null   int64  \n",
      " 13  year_of_createdate      9681 non-null   int64  \n",
      " 14  cust_payment_terms_enc  9681 non-null   int32  \n",
      " 15  name_customer_enc       9681 non-null   int32  \n",
      "dtypes: float64(3), int32(4), int64(9)\n",
      "memory usage: 1.1 MB\n"
     ]
    }
   ],
   "source": [
    "nulldata.info()"
   ]
  },
  {
   "cell_type": "markdown",
   "id": "-XvjhWqmwi-C",
   "metadata": {
    "id": "-XvjhWqmwi-C"
   },
   "source": [
    "### Compare \"nulldata\" with the \"X_test\" dataframe \n",
    "\n",
    "- use info() method"
   ]
  },
  {
   "cell_type": "code",
   "execution_count": 134,
   "id": "02f4b62d",
   "metadata": {
    "id": "02f4b62d"
   },
   "outputs": [
    {
     "name": "stdout",
     "output_type": "stream",
     "text": [
      "<class 'pandas.core.frame.DataFrame'>\n",
      "Int64Index: 9681 entries, 3 to 49995\n",
      "Data columns (total 16 columns):\n",
      " #   Column                  Non-Null Count  Dtype  \n",
      "---  ------                  --------------  -----  \n",
      " 0   cust_number             9681 non-null   int32  \n",
      " 1   buisness_year           9681 non-null   float64\n",
      " 2   doc_id                  9681 non-null   float64\n",
      " 3   converted_usd           9681 non-null   float64\n",
      " 4   business_code_enc       9681 non-null   int32  \n",
      " 5   day_of_postingdate      9681 non-null   int64  \n",
      " 6   month_of_postingdate    9681 non-null   int64  \n",
      " 7   year_of_postingdate     9681 non-null   int64  \n",
      " 8   day_of_due              9681 non-null   int64  \n",
      " 9   month_of_due            9681 non-null   int64  \n",
      " 10  year_of_due             9681 non-null   int64  \n",
      " 11  day_of_createdate       9681 non-null   int64  \n",
      " 12  month_of_createdate     9681 non-null   int64  \n",
      " 13  year_of_createdate      9681 non-null   int64  \n",
      " 14  cust_payment_terms_enc  9681 non-null   int32  \n",
      " 15  name_customer_enc       9681 non-null   int32  \n",
      "dtypes: float64(3), int32(4), int64(9)\n",
      "memory usage: 1.1 MB\n",
      "None\n",
      "<class 'pandas.core.frame.DataFrame'>\n",
      "Int64Index: 7832 entries, 17310 to 37987\n",
      "Data columns (total 16 columns):\n",
      " #   Column                       Non-Null Count  Dtype  \n",
      "---  ------                       --------------  -----  \n",
      " 0   cust_number                  7832 non-null   int32  \n",
      " 1   buisness_year                7832 non-null   float64\n",
      " 2   doc_id                       7832 non-null   float64\n",
      " 3   converted_usd                7832 non-null   float64\n",
      " 4   business_code_enc            7832 non-null   int32  \n",
      " 5   name_customer_enc            7832 non-null   int32  \n",
      " 6   cust_payment_terms_enc       7832 non-null   int32  \n",
      " 7   day_of_postingdate           7832 non-null   int64  \n",
      " 8   month_of_postingdate         7832 non-null   int64  \n",
      " 9   year_of_postingdate          7832 non-null   int64  \n",
      " 10  day_of_baselinecreatedate    7832 non-null   int64  \n",
      " 11  month_of_baselinecreatedate  7832 non-null   int64  \n",
      " 12  year_of_baselinecreatedate   7832 non-null   int64  \n",
      " 13  day_of_dueindate             7832 non-null   int64  \n",
      " 14  month_of_dueindate           7832 non-null   int64  \n",
      " 15  year_of_dueindate            7832 non-null   int64  \n",
      "dtypes: float64(3), int32(4), int64(9)\n",
      "memory usage: 917.8 KB\n",
      "None\n"
     ]
    }
   ],
   "source": [
    "print(nulldata.info())\n",
    "print(X_test.info())"
   ]
  },
  {
   "cell_type": "markdown",
   "id": "Us3ey-9zwqjq",
   "metadata": {
    "id": "Us3ey-9zwqjq"
   },
   "source": [
    "### You must have noticed that there is a mismatch in the column sequence while compairing the dataframes\n",
    "\n",
    "- Note - In order to fed into the machine learning model, you need to edit the sequence of \"nulldata\", similar to the \"X_test\" dataframe"
   ]
  },
  {
   "cell_type": "markdown",
   "id": "vduVNt1kxPW-",
   "metadata": {
    "id": "vduVNt1kxPW-"
   },
   "source": [
    "- Display all the columns of the X_test dataframe \n",
    "- Display all the columns of the Nulldata dataframe \n",
    "- Store the Nulldata with new sequence into a new dataframe \n",
    "\n",
    "\n",
    "- Note - The code is given below, no need to change "
   ]
  },
  {
   "cell_type": "code",
   "execution_count": 135,
   "id": "6729353e",
   "metadata": {
    "id": "6729353e"
   },
   "outputs": [
    {
     "data": {
      "text/plain": [
       "Index(['cust_number', 'buisness_year', 'doc_id', 'converted_usd',\n",
       "       'business_code_enc', 'name_customer_enc', 'cust_payment_terms_enc',\n",
       "       'day_of_postingdate', 'month_of_postingdate', 'year_of_postingdate',\n",
       "       'day_of_baselinecreatedate', 'month_of_baselinecreatedate',\n",
       "       'year_of_baselinecreatedate', 'day_of_dueindate', 'month_of_dueindate',\n",
       "       'year_of_dueindate'],\n",
       "      dtype='object')"
      ]
     },
     "execution_count": 135,
     "metadata": {},
     "output_type": "execute_result"
    }
   ],
   "source": [
    "X_test.columns"
   ]
  },
  {
   "cell_type": "code",
   "execution_count": 136,
   "id": "47bd9c5e",
   "metadata": {
    "id": "47bd9c5e"
   },
   "outputs": [
    {
     "data": {
      "text/plain": [
       "Index(['cust_number', 'buisness_year', 'doc_id', 'converted_usd',\n",
       "       'business_code_enc', 'day_of_postingdate', 'month_of_postingdate',\n",
       "       'year_of_postingdate', 'day_of_due', 'month_of_due', 'year_of_due',\n",
       "       'day_of_createdate', 'month_of_createdate', 'year_of_createdate',\n",
       "       'cust_payment_terms_enc', 'name_customer_enc'],\n",
       "      dtype='object')"
      ]
     },
     "execution_count": 136,
     "metadata": {},
     "output_type": "execute_result"
    }
   ],
   "source": [
    "nulldata.columns"
   ]
  },
  {
   "cell_type": "code",
   "execution_count": 137,
   "id": "aa5a2103",
   "metadata": {
    "id": "aa5a2103"
   },
   "outputs": [],
   "source": [
    "nulldata2=nulldata[['cust_number', 'buisness_year', 'doc_id', 'converted_usd',\n",
    "       'business_code_enc', 'name_customer_enc', 'cust_payment_terms_enc',\n",
    "       'day_of_postingdate', 'month_of_postingdate', 'year_of_postingdate',\n",
    "       'day_of_createdate', 'month_of_createdate', 'year_of_createdate',\n",
    "       'day_of_due', 'month_of_due', 'year_of_due']]"
   ]
  },
  {
   "cell_type": "markdown",
   "id": "1dc8b021",
   "metadata": {
    "id": "1dc8b021"
   },
   "source": [
    "### Display the Final Dataset"
   ]
  },
  {
   "cell_type": "code",
   "execution_count": 138,
   "id": "2f39785a",
   "metadata": {
    "id": "2f39785a"
   },
   "outputs": [
    {
     "data": {
      "text/html": [
       "<div>\n",
       "<style scoped>\n",
       "    .dataframe tbody tr th:only-of-type {\n",
       "        vertical-align: middle;\n",
       "    }\n",
       "\n",
       "    .dataframe tbody tr th {\n",
       "        vertical-align: top;\n",
       "    }\n",
       "\n",
       "    .dataframe thead th {\n",
       "        text-align: right;\n",
       "    }\n",
       "</style>\n",
       "<table border=\"1\" class=\"dataframe\">\n",
       "  <thead>\n",
       "    <tr style=\"text-align: right;\">\n",
       "      <th></th>\n",
       "      <th>cust_number</th>\n",
       "      <th>buisness_year</th>\n",
       "      <th>doc_id</th>\n",
       "      <th>converted_usd</th>\n",
       "      <th>business_code_enc</th>\n",
       "      <th>name_customer_enc</th>\n",
       "      <th>cust_payment_terms_enc</th>\n",
       "      <th>day_of_postingdate</th>\n",
       "      <th>month_of_postingdate</th>\n",
       "      <th>year_of_postingdate</th>\n",
       "      <th>day_of_createdate</th>\n",
       "      <th>month_of_createdate</th>\n",
       "      <th>year_of_createdate</th>\n",
       "      <th>day_of_due</th>\n",
       "      <th>month_of_due</th>\n",
       "      <th>year_of_due</th>\n",
       "    </tr>\n",
       "  </thead>\n",
       "  <tbody>\n",
       "    <tr>\n",
       "      <th>3</th>\n",
       "      <td>140105686</td>\n",
       "      <td>2020.0</td>\n",
       "      <td>2.960623e+09</td>\n",
       "      <td>2309.79</td>\n",
       "      <td>64</td>\n",
       "      <td>2725</td>\n",
       "      <td>5</td>\n",
       "      <td>30</td>\n",
       "      <td>3</td>\n",
       "      <td>2020</td>\n",
       "      <td>31</td>\n",
       "      <td>3</td>\n",
       "      <td>2020</td>\n",
       "      <td>10</td>\n",
       "      <td>4</td>\n",
       "      <td>2020</td>\n",
       "    </tr>\n",
       "    <tr>\n",
       "      <th>7</th>\n",
       "      <td>200744019</td>\n",
       "      <td>2020.0</td>\n",
       "      <td>1.930659e+09</td>\n",
       "      <td>11173.02</td>\n",
       "      <td>64</td>\n",
       "      <td>2809</td>\n",
       "      <td>19</td>\n",
       "      <td>19</td>\n",
       "      <td>3</td>\n",
       "      <td>2020</td>\n",
       "      <td>19</td>\n",
       "      <td>3</td>\n",
       "      <td>2020</td>\n",
       "      <td>3</td>\n",
       "      <td>4</td>\n",
       "      <td>2020</td>\n",
       "    </tr>\n",
       "    <tr>\n",
       "      <th>10</th>\n",
       "      <td>200418007</td>\n",
       "      <td>2020.0</td>\n",
       "      <td>1.930611e+09</td>\n",
       "      <td>3525.59</td>\n",
       "      <td>64</td>\n",
       "      <td>96</td>\n",
       "      <td>19</td>\n",
       "      <td>11</td>\n",
       "      <td>3</td>\n",
       "      <td>2020</td>\n",
       "      <td>11</td>\n",
       "      <td>3</td>\n",
       "      <td>2020</td>\n",
       "      <td>26</td>\n",
       "      <td>3</td>\n",
       "      <td>2020</td>\n",
       "    </tr>\n",
       "    <tr>\n",
       "      <th>14</th>\n",
       "      <td>200739534</td>\n",
       "      <td>2020.0</td>\n",
       "      <td>1.930788e+09</td>\n",
       "      <td>121105.65</td>\n",
       "      <td>64</td>\n",
       "      <td>2042</td>\n",
       "      <td>19</td>\n",
       "      <td>15</td>\n",
       "      <td>4</td>\n",
       "      <td>2020</td>\n",
       "      <td>15</td>\n",
       "      <td>4</td>\n",
       "      <td>2020</td>\n",
       "      <td>30</td>\n",
       "      <td>4</td>\n",
       "      <td>2020</td>\n",
       "    </tr>\n",
       "    <tr>\n",
       "      <th>15</th>\n",
       "      <td>200353024</td>\n",
       "      <td>2020.0</td>\n",
       "      <td>1.930817e+09</td>\n",
       "      <td>3726.06</td>\n",
       "      <td>64</td>\n",
       "      <td>732</td>\n",
       "      <td>34</td>\n",
       "      <td>23</td>\n",
       "      <td>4</td>\n",
       "      <td>2020</td>\n",
       "      <td>16</td>\n",
       "      <td>4</td>\n",
       "      <td>2020</td>\n",
       "      <td>26</td>\n",
       "      <td>4</td>\n",
       "      <td>2020</td>\n",
       "    </tr>\n",
       "    <tr>\n",
       "      <th>...</th>\n",
       "      <td>...</td>\n",
       "      <td>...</td>\n",
       "      <td>...</td>\n",
       "      <td>...</td>\n",
       "      <td>...</td>\n",
       "      <td>...</td>\n",
       "      <td>...</td>\n",
       "      <td>...</td>\n",
       "      <td>...</td>\n",
       "      <td>...</td>\n",
       "      <td>...</td>\n",
       "      <td>...</td>\n",
       "      <td>...</td>\n",
       "      <td>...</td>\n",
       "      <td>...</td>\n",
       "      <td>...</td>\n",
       "    </tr>\n",
       "    <tr>\n",
       "      <th>49975</th>\n",
       "      <td>200769623</td>\n",
       "      <td>2020.0</td>\n",
       "      <td>1.930625e+09</td>\n",
       "      <td>13114.99</td>\n",
       "      <td>64</td>\n",
       "      <td>3012</td>\n",
       "      <td>32</td>\n",
       "      <td>10</td>\n",
       "      <td>3</td>\n",
       "      <td>2020</td>\n",
       "      <td>10</td>\n",
       "      <td>3</td>\n",
       "      <td>2020</td>\n",
       "      <td>25</td>\n",
       "      <td>3</td>\n",
       "      <td>2020</td>\n",
       "    </tr>\n",
       "    <tr>\n",
       "      <th>49980</th>\n",
       "      <td>200769623</td>\n",
       "      <td>2020.0</td>\n",
       "      <td>1.930851e+09</td>\n",
       "      <td>8899.71</td>\n",
       "      <td>64</td>\n",
       "      <td>3010</td>\n",
       "      <td>32</td>\n",
       "      <td>3</td>\n",
       "      <td>5</td>\n",
       "      <td>2020</td>\n",
       "      <td>3</td>\n",
       "      <td>5</td>\n",
       "      <td>2020</td>\n",
       "      <td>18</td>\n",
       "      <td>5</td>\n",
       "      <td>2020</td>\n",
       "    </tr>\n",
       "    <tr>\n",
       "      <th>49982</th>\n",
       "      <td>200148860</td>\n",
       "      <td>2020.0</td>\n",
       "      <td>1.930638e+09</td>\n",
       "      <td>4967.06</td>\n",
       "      <td>64</td>\n",
       "      <td>813</td>\n",
       "      <td>19</td>\n",
       "      <td>11</td>\n",
       "      <td>3</td>\n",
       "      <td>2020</td>\n",
       "      <td>11</td>\n",
       "      <td>3</td>\n",
       "      <td>2020</td>\n",
       "      <td>26</td>\n",
       "      <td>3</td>\n",
       "      <td>2020</td>\n",
       "    </tr>\n",
       "    <tr>\n",
       "      <th>49992</th>\n",
       "      <td>200900909</td>\n",
       "      <td>2020.0</td>\n",
       "      <td>1.930702e+09</td>\n",
       "      <td>1998.64</td>\n",
       "      <td>64</td>\n",
       "      <td>2774</td>\n",
       "      <td>19</td>\n",
       "      <td>25</td>\n",
       "      <td>3</td>\n",
       "      <td>2020</td>\n",
       "      <td>25</td>\n",
       "      <td>3</td>\n",
       "      <td>2020</td>\n",
       "      <td>9</td>\n",
       "      <td>4</td>\n",
       "      <td>2020</td>\n",
       "    </tr>\n",
       "    <tr>\n",
       "      <th>49995</th>\n",
       "      <td>200561861</td>\n",
       "      <td>2020.0</td>\n",
       "      <td>1.930797e+09</td>\n",
       "      <td>3187.86</td>\n",
       "      <td>64</td>\n",
       "      <td>553</td>\n",
       "      <td>19</td>\n",
       "      <td>21</td>\n",
       "      <td>4</td>\n",
       "      <td>2020</td>\n",
       "      <td>21</td>\n",
       "      <td>4</td>\n",
       "      <td>2020</td>\n",
       "      <td>6</td>\n",
       "      <td>5</td>\n",
       "      <td>2020</td>\n",
       "    </tr>\n",
       "  </tbody>\n",
       "</table>\n",
       "<p>9681 rows × 16 columns</p>\n",
       "</div>"
      ],
      "text/plain": [
       "       cust_number  buisness_year        doc_id  converted_usd  \\\n",
       "3        140105686         2020.0  2.960623e+09        2309.79   \n",
       "7        200744019         2020.0  1.930659e+09       11173.02   \n",
       "10       200418007         2020.0  1.930611e+09        3525.59   \n",
       "14       200739534         2020.0  1.930788e+09      121105.65   \n",
       "15       200353024         2020.0  1.930817e+09        3726.06   \n",
       "...            ...            ...           ...            ...   \n",
       "49975    200769623         2020.0  1.930625e+09       13114.99   \n",
       "49980    200769623         2020.0  1.930851e+09        8899.71   \n",
       "49982    200148860         2020.0  1.930638e+09        4967.06   \n",
       "49992    200900909         2020.0  1.930702e+09        1998.64   \n",
       "49995    200561861         2020.0  1.930797e+09        3187.86   \n",
       "\n",
       "       business_code_enc  name_customer_enc  cust_payment_terms_enc  \\\n",
       "3                     64               2725                       5   \n",
       "7                     64               2809                      19   \n",
       "10                    64                 96                      19   \n",
       "14                    64               2042                      19   \n",
       "15                    64                732                      34   \n",
       "...                  ...                ...                     ...   \n",
       "49975                 64               3012                      32   \n",
       "49980                 64               3010                      32   \n",
       "49982                 64                813                      19   \n",
       "49992                 64               2774                      19   \n",
       "49995                 64                553                      19   \n",
       "\n",
       "       day_of_postingdate  month_of_postingdate  year_of_postingdate  \\\n",
       "3                      30                     3                 2020   \n",
       "7                      19                     3                 2020   \n",
       "10                     11                     3                 2020   \n",
       "14                     15                     4                 2020   \n",
       "15                     23                     4                 2020   \n",
       "...                   ...                   ...                  ...   \n",
       "49975                  10                     3                 2020   \n",
       "49980                   3                     5                 2020   \n",
       "49982                  11                     3                 2020   \n",
       "49992                  25                     3                 2020   \n",
       "49995                  21                     4                 2020   \n",
       "\n",
       "       day_of_createdate  month_of_createdate  year_of_createdate  day_of_due  \\\n",
       "3                     31                    3                2020          10   \n",
       "7                     19                    3                2020           3   \n",
       "10                    11                    3                2020          26   \n",
       "14                    15                    4                2020          30   \n",
       "15                    16                    4                2020          26   \n",
       "...                  ...                  ...                 ...         ...   \n",
       "49975                 10                    3                2020          25   \n",
       "49980                  3                    5                2020          18   \n",
       "49982                 11                    3                2020          26   \n",
       "49992                 25                    3                2020           9   \n",
       "49995                 21                    4                2020           6   \n",
       "\n",
       "       month_of_due  year_of_due  \n",
       "3                 4         2020  \n",
       "7                 4         2020  \n",
       "10                3         2020  \n",
       "14                4         2020  \n",
       "15                4         2020  \n",
       "...             ...          ...  \n",
       "49975             3         2020  \n",
       "49980             5         2020  \n",
       "49982             3         2020  \n",
       "49992             4         2020  \n",
       "49995             5         2020  \n",
       "\n",
       "[9681 rows x 16 columns]"
      ]
     },
     "execution_count": 138,
     "metadata": {},
     "output_type": "execute_result"
    }
   ],
   "source": [
    "nulldata2"
   ]
  },
  {
   "cell_type": "markdown",
   "id": "27b88c5a",
   "metadata": {
    "id": "27b88c5a"
   },
   "source": [
    "### Now you can pass this dataset into you final model and store it into \"final_result\""
   ]
  },
  {
   "cell_type": "code",
   "execution_count": 139,
   "id": "9e0b6388",
   "metadata": {
    "id": "9e0b6388"
   },
   "outputs": [
    {
     "name": "stderr",
     "output_type": "stream",
     "text": [
      "C:\\src\\lib\\site-packages\\xgboost\\data.py:262: FutureWarning: pandas.Int64Index is deprecated and will be removed from pandas in a future version. Use pandas.Index with the appropriate dtype instead.\n",
      "  elif isinstance(data.columns, (pd.Int64Index, pd.RangeIndex)):\n"
     ]
    }
   ],
   "source": [
    "final_result = regressorfinal.predict(nulldata2)"
   ]
  },
  {
   "cell_type": "markdown",
   "id": "9653d3c6",
   "metadata": {
    "id": "9653d3c6"
   },
   "source": [
    "### you need to make the final_result as dataframe, with a column name \"avg_delay\"\n",
    "\n",
    "- Note - No need to change the code"
   ]
  },
  {
   "cell_type": "code",
   "execution_count": 140,
   "id": "25ef814d",
   "metadata": {
    "id": "25ef814d"
   },
   "outputs": [],
   "source": [
    "final_result = pd.Series(final_result,name='avg_delay')"
   ]
  },
  {
   "cell_type": "markdown",
   "id": "C86staIhyf2C",
   "metadata": {
    "id": "C86staIhyf2C"
   },
   "source": [
    "### Display the \"avg_delay\" column"
   ]
  },
  {
   "cell_type": "code",
   "execution_count": 141,
   "id": "4fd46406",
   "metadata": {
    "id": "4fd46406"
   },
   "outputs": [
    {
     "data": {
      "text/plain": [
       "0       4.073661e+05\n",
       "1       1.364274e+05\n",
       "2       2.542784e+06\n",
       "3      -9.227883e+04\n",
       "4      -5.418632e+05\n",
       "            ...     \n",
       "9676   -1.317446e+05\n",
       "9677   -6.011513e+04\n",
       "9678   -1.154343e+06\n",
       "9679   -8.829938e+04\n",
       "9680   -1.578115e+05\n",
       "Name: avg_delay, Length: 9681, dtype: float32"
      ]
     },
     "execution_count": 141,
     "metadata": {},
     "output_type": "execute_result"
    }
   ],
   "source": [
    "final_result"
   ]
  },
  {
   "cell_type": "markdown",
   "id": "44f71a7e",
   "metadata": {
    "id": "44f71a7e"
   },
   "source": [
    "### Now you need to merge this final_result dataframe with the BACKUP of \"nulldata\" Dataframe which we have created in earlier steps"
   ]
  },
  {
   "cell_type": "code",
   "execution_count": 142,
   "id": "e8f0969d",
   "metadata": {
    "id": "e8f0969d"
   },
   "outputs": [],
   "source": [
    "nulldata1.reset_index(drop=True,inplace=True)\n",
    "Final = nulldata1.merge(final_result , on = nulldata.index )"
   ]
  },
  {
   "cell_type": "markdown",
   "id": "G-hLtxXgy4GZ",
   "metadata": {
    "id": "G-hLtxXgy4GZ"
   },
   "source": [
    "### Display the \"Final\" dataframe "
   ]
  },
  {
   "cell_type": "code",
   "execution_count": 143,
   "id": "71fb4dc0",
   "metadata": {
    "id": "71fb4dc0"
   },
   "outputs": [
    {
     "data": {
      "text/html": [
       "<div>\n",
       "<style scoped>\n",
       "    .dataframe tbody tr th:only-of-type {\n",
       "        vertical-align: middle;\n",
       "    }\n",
       "\n",
       "    .dataframe tbody tr th {\n",
       "        vertical-align: top;\n",
       "    }\n",
       "\n",
       "    .dataframe thead th {\n",
       "        text-align: right;\n",
       "    }\n",
       "</style>\n",
       "<table border=\"1\" class=\"dataframe\">\n",
       "  <thead>\n",
       "    <tr style=\"text-align: right;\">\n",
       "      <th></th>\n",
       "      <th>key_0</th>\n",
       "      <th>business_code</th>\n",
       "      <th>cust_number</th>\n",
       "      <th>name_customer</th>\n",
       "      <th>clear_date</th>\n",
       "      <th>buisness_year</th>\n",
       "      <th>doc_id</th>\n",
       "      <th>posting_date</th>\n",
       "      <th>due_in_date</th>\n",
       "      <th>baseline_create_date</th>\n",
       "      <th>cust_payment_terms</th>\n",
       "      <th>converted_usd</th>\n",
       "      <th>avg_delay</th>\n",
       "    </tr>\n",
       "  </thead>\n",
       "  <tbody>\n",
       "    <tr>\n",
       "      <th>0</th>\n",
       "      <td>3</td>\n",
       "      <td>CA02</td>\n",
       "      <td>0140105686</td>\n",
       "      <td>SYSC llc</td>\n",
       "      <td>NaT</td>\n",
       "      <td>2020.0</td>\n",
       "      <td>2.960623e+09</td>\n",
       "      <td>2020-03-30</td>\n",
       "      <td>2020-04-10</td>\n",
       "      <td>2020-03-31</td>\n",
       "      <td>CA10</td>\n",
       "      <td>2309.79</td>\n",
       "      <td>4.073661e+05</td>\n",
       "    </tr>\n",
       "    <tr>\n",
       "      <th>1</th>\n",
       "      <td>7</td>\n",
       "      <td>U001</td>\n",
       "      <td>0200744019</td>\n",
       "      <td>TARG us</td>\n",
       "      <td>NaT</td>\n",
       "      <td>2020.0</td>\n",
       "      <td>1.930659e+09</td>\n",
       "      <td>2020-03-19</td>\n",
       "      <td>2020-04-03</td>\n",
       "      <td>2020-03-19</td>\n",
       "      <td>NAA8</td>\n",
       "      <td>11173.02</td>\n",
       "      <td>1.364274e+05</td>\n",
       "    </tr>\n",
       "    <tr>\n",
       "      <th>2</th>\n",
       "      <td>10</td>\n",
       "      <td>U001</td>\n",
       "      <td>0200418007</td>\n",
       "      <td>AM</td>\n",
       "      <td>NaT</td>\n",
       "      <td>2020.0</td>\n",
       "      <td>1.930611e+09</td>\n",
       "      <td>2020-03-11</td>\n",
       "      <td>2020-03-26</td>\n",
       "      <td>2020-03-11</td>\n",
       "      <td>NAA8</td>\n",
       "      <td>3525.59</td>\n",
       "      <td>2.542784e+06</td>\n",
       "    </tr>\n",
       "    <tr>\n",
       "      <th>3</th>\n",
       "      <td>14</td>\n",
       "      <td>U001</td>\n",
       "      <td>0200739534</td>\n",
       "      <td>OK systems</td>\n",
       "      <td>NaT</td>\n",
       "      <td>2020.0</td>\n",
       "      <td>1.930788e+09</td>\n",
       "      <td>2020-04-15</td>\n",
       "      <td>2020-04-30</td>\n",
       "      <td>2020-04-15</td>\n",
       "      <td>NAA8</td>\n",
       "      <td>121105.65</td>\n",
       "      <td>-9.227883e+04</td>\n",
       "    </tr>\n",
       "    <tr>\n",
       "      <th>4</th>\n",
       "      <td>15</td>\n",
       "      <td>U001</td>\n",
       "      <td>0200353024</td>\n",
       "      <td>DECA corporation</td>\n",
       "      <td>NaT</td>\n",
       "      <td>2020.0</td>\n",
       "      <td>1.930817e+09</td>\n",
       "      <td>2020-04-23</td>\n",
       "      <td>2020-04-26</td>\n",
       "      <td>2020-04-16</td>\n",
       "      <td>NAM2</td>\n",
       "      <td>3726.06</td>\n",
       "      <td>-5.418632e+05</td>\n",
       "    </tr>\n",
       "    <tr>\n",
       "      <th>...</th>\n",
       "      <td>...</td>\n",
       "      <td>...</td>\n",
       "      <td>...</td>\n",
       "      <td>...</td>\n",
       "      <td>...</td>\n",
       "      <td>...</td>\n",
       "      <td>...</td>\n",
       "      <td>...</td>\n",
       "      <td>...</td>\n",
       "      <td>...</td>\n",
       "      <td>...</td>\n",
       "      <td>...</td>\n",
       "      <td>...</td>\n",
       "    </tr>\n",
       "    <tr>\n",
       "      <th>9676</th>\n",
       "      <td>49975</td>\n",
       "      <td>U001</td>\n",
       "      <td>0200769623</td>\n",
       "      <td>WAL-MAR in</td>\n",
       "      <td>NaT</td>\n",
       "      <td>2020.0</td>\n",
       "      <td>1.930625e+09</td>\n",
       "      <td>2020-03-10</td>\n",
       "      <td>2020-03-25</td>\n",
       "      <td>2020-03-10</td>\n",
       "      <td>NAH4</td>\n",
       "      <td>13114.99</td>\n",
       "      <td>-1.317446e+05</td>\n",
       "    </tr>\n",
       "    <tr>\n",
       "      <th>9677</th>\n",
       "      <td>49980</td>\n",
       "      <td>U001</td>\n",
       "      <td>0200769623</td>\n",
       "      <td>WAL-MAR corporation</td>\n",
       "      <td>NaT</td>\n",
       "      <td>2020.0</td>\n",
       "      <td>1.930851e+09</td>\n",
       "      <td>2020-05-03</td>\n",
       "      <td>2020-05-18</td>\n",
       "      <td>2020-05-03</td>\n",
       "      <td>NAH4</td>\n",
       "      <td>8899.71</td>\n",
       "      <td>-6.011513e+04</td>\n",
       "    </tr>\n",
       "    <tr>\n",
       "      <th>9678</th>\n",
       "      <td>49982</td>\n",
       "      <td>U001</td>\n",
       "      <td>0200148860</td>\n",
       "      <td>DOLLA co</td>\n",
       "      <td>NaT</td>\n",
       "      <td>2020.0</td>\n",
       "      <td>1.930638e+09</td>\n",
       "      <td>2020-03-11</td>\n",
       "      <td>2020-03-26</td>\n",
       "      <td>2020-03-11</td>\n",
       "      <td>NAA8</td>\n",
       "      <td>4967.06</td>\n",
       "      <td>-1.154343e+06</td>\n",
       "    </tr>\n",
       "    <tr>\n",
       "      <th>9679</th>\n",
       "      <td>49992</td>\n",
       "      <td>U001</td>\n",
       "      <td>0200900909</td>\n",
       "      <td>SYSCO co</td>\n",
       "      <td>NaT</td>\n",
       "      <td>2020.0</td>\n",
       "      <td>1.930702e+09</td>\n",
       "      <td>2020-03-25</td>\n",
       "      <td>2020-04-09</td>\n",
       "      <td>2020-03-25</td>\n",
       "      <td>NAA8</td>\n",
       "      <td>1998.64</td>\n",
       "      <td>-8.829938e+04</td>\n",
       "    </tr>\n",
       "    <tr>\n",
       "      <th>9680</th>\n",
       "      <td>49995</td>\n",
       "      <td>U001</td>\n",
       "      <td>0200561861</td>\n",
       "      <td>CO corporation</td>\n",
       "      <td>NaT</td>\n",
       "      <td>2020.0</td>\n",
       "      <td>1.930797e+09</td>\n",
       "      <td>2020-04-21</td>\n",
       "      <td>2020-05-06</td>\n",
       "      <td>2020-04-21</td>\n",
       "      <td>NAA8</td>\n",
       "      <td>3187.86</td>\n",
       "      <td>-1.578115e+05</td>\n",
       "    </tr>\n",
       "  </tbody>\n",
       "</table>\n",
       "<p>9681 rows × 13 columns</p>\n",
       "</div>"
      ],
      "text/plain": [
       "      key_0 business_code cust_number        name_customer clear_date  \\\n",
       "0         3          CA02  0140105686             SYSC llc        NaT   \n",
       "1         7          U001  0200744019              TARG us        NaT   \n",
       "2        10          U001  0200418007                  AM         NaT   \n",
       "3        14          U001  0200739534           OK systems        NaT   \n",
       "4        15          U001  0200353024     DECA corporation        NaT   \n",
       "...     ...           ...         ...                  ...        ...   \n",
       "9676  49975          U001  0200769623           WAL-MAR in        NaT   \n",
       "9677  49980          U001  0200769623  WAL-MAR corporation        NaT   \n",
       "9678  49982          U001  0200148860             DOLLA co        NaT   \n",
       "9679  49992          U001  0200900909             SYSCO co        NaT   \n",
       "9680  49995          U001  0200561861       CO corporation        NaT   \n",
       "\n",
       "      buisness_year        doc_id posting_date due_in_date  \\\n",
       "0            2020.0  2.960623e+09   2020-03-30  2020-04-10   \n",
       "1            2020.0  1.930659e+09   2020-03-19  2020-04-03   \n",
       "2            2020.0  1.930611e+09   2020-03-11  2020-03-26   \n",
       "3            2020.0  1.930788e+09   2020-04-15  2020-04-30   \n",
       "4            2020.0  1.930817e+09   2020-04-23  2020-04-26   \n",
       "...             ...           ...          ...         ...   \n",
       "9676         2020.0  1.930625e+09   2020-03-10  2020-03-25   \n",
       "9677         2020.0  1.930851e+09   2020-05-03  2020-05-18   \n",
       "9678         2020.0  1.930638e+09   2020-03-11  2020-03-26   \n",
       "9679         2020.0  1.930702e+09   2020-03-25  2020-04-09   \n",
       "9680         2020.0  1.930797e+09   2020-04-21  2020-05-06   \n",
       "\n",
       "     baseline_create_date cust_payment_terms  converted_usd     avg_delay  \n",
       "0              2020-03-31               CA10        2309.79  4.073661e+05  \n",
       "1              2020-03-19               NAA8       11173.02  1.364274e+05  \n",
       "2              2020-03-11               NAA8        3525.59  2.542784e+06  \n",
       "3              2020-04-15               NAA8      121105.65 -9.227883e+04  \n",
       "4              2020-04-16               NAM2        3726.06 -5.418632e+05  \n",
       "...                   ...                ...            ...           ...  \n",
       "9676           2020-03-10               NAH4       13114.99 -1.317446e+05  \n",
       "9677           2020-05-03               NAH4        8899.71 -6.011513e+04  \n",
       "9678           2020-03-11               NAA8        4967.06 -1.154343e+06  \n",
       "9679           2020-03-25               NAA8        1998.64 -8.829938e+04  \n",
       "9680           2020-04-21               NAA8        3187.86 -1.578115e+05  \n",
       "\n",
       "[9681 rows x 13 columns]"
      ]
     },
     "execution_count": 143,
     "metadata": {},
     "output_type": "execute_result"
    }
   ],
   "source": [
    "Final"
   ]
  },
  {
   "cell_type": "markdown",
   "id": "4sc27Uz-y-0O",
   "metadata": {
    "id": "4sc27Uz-y-0O"
   },
   "source": [
    "### Check for the Number of Rows and Columns in your \"Final\" dataframe "
   ]
  },
  {
   "cell_type": "code",
   "execution_count": 144,
   "id": "5iUXOIhzy_HR",
   "metadata": {
    "id": "5iUXOIhzy_HR"
   },
   "outputs": [
    {
     "data": {
      "text/plain": [
       "(9681, 13)"
      ]
     },
     "execution_count": 144,
     "metadata": {},
     "output_type": "execute_result"
    }
   ],
   "source": [
    "Final.shape"
   ]
  },
  {
   "cell_type": "markdown",
   "id": "48886d2c",
   "metadata": {
    "id": "48886d2c"
   },
   "source": [
    "### Now, you need to do convert the below fields back into date and time format \n",
    "\n",
    "- Convert \"due_in_date\" into datetime format\n",
    "- Convert \"avg_delay\" into datetime format\n",
    "- Create a new column \"clear_date\" and store the sum of \"due_in_date\" and \"avg_delay\"\n",
    "- display the new \"clear_date\" column\n",
    "- Note - Code is given below, no need to change "
   ]
  },
  {
   "cell_type": "code",
   "execution_count": 145,
   "id": "243abc2d",
   "metadata": {
    "id": "243abc2d"
   },
   "outputs": [],
   "source": [
    "Final['clear_date'] = pd.to_datetime(Final['due_in_date']) + pd.to_timedelta(Final['avg_delay'], unit='s')"
   ]
  },
  {
   "cell_type": "markdown",
   "id": "9QcX_fAjIkYR",
   "metadata": {
    "id": "9QcX_fAjIkYR"
   },
   "source": [
    "### Display the \"clear_date\" column"
   ]
  },
  {
   "cell_type": "code",
   "execution_count": 146,
   "id": "740e1486",
   "metadata": {
    "id": "740e1486"
   },
   "outputs": [
    {
     "data": {
      "text/plain": [
       "0      2020-04-14 17:09:26.125000000\n",
       "1      2020-04-04 13:53:47.390625000\n",
       "2      2020-04-24 10:19:43.500000000\n",
       "3      2020-04-28 22:22:01.171875000\n",
       "4      2020-04-19 17:28:56.750000000\n",
       "                    ...             \n",
       "9676   2020-03-23 11:24:15.437500000\n",
       "9677   2020-05-17 07:18:04.871093750\n",
       "9678   2020-03-12 15:20:57.125000000\n",
       "9679   2020-04-07 23:28:20.625000000\n",
       "9680   2020-05-04 04:09:48.531250000\n",
       "Name: clear_date, Length: 9681, dtype: datetime64[ns]"
      ]
     },
     "execution_count": 146,
     "metadata": {},
     "output_type": "execute_result"
    }
   ],
   "source": [
    "Final.clear_date"
   ]
  },
  {
   "cell_type": "markdown",
   "id": "MSkNLq6-z7rZ",
   "metadata": {
    "id": "MSkNLq6-z7rZ"
   },
   "source": [
    "### Convert the average delay into number of days format \n",
    "\n",
    "- Note - Formula = avg_delay//(24 * 3600)\n",
    "- Note - full code is given for this, no need to change "
   ]
  },
  {
   "cell_type": "code",
   "execution_count": 147,
   "id": "ce6b618a",
   "metadata": {
    "id": "ce6b618a"
   },
   "outputs": [],
   "source": [
    "Final['avg_delay'] = Final.apply(lambda row: row.avg_delay//(24 * 3600), axis = 1)"
   ]
  },
  {
   "cell_type": "markdown",
   "id": "wbBBZPjP0W7o",
   "metadata": {
    "id": "wbBBZPjP0W7o"
   },
   "source": [
    "### Display the \"avg_delay\" column "
   ]
  },
  {
   "cell_type": "code",
   "execution_count": 148,
   "id": "a494982f",
   "metadata": {
    "id": "a494982f",
    "scrolled": true
   },
   "outputs": [
    {
     "data": {
      "text/plain": [
       "0        4.0\n",
       "1        1.0\n",
       "2       29.0\n",
       "3       -2.0\n",
       "4       -7.0\n",
       "        ... \n",
       "9676    -2.0\n",
       "9677    -1.0\n",
       "9678   -14.0\n",
       "9679    -2.0\n",
       "9680    -2.0\n",
       "Name: avg_delay, Length: 9681, dtype: float64"
      ]
     },
     "execution_count": 148,
     "metadata": {},
     "output_type": "execute_result"
    }
   ],
   "source": [
    "Final.avg_delay"
   ]
  },
  {
   "cell_type": "markdown",
   "id": "815d8811",
   "metadata": {
    "id": "815d8811"
   },
   "source": [
    "### Now you need to convert average delay column into bucket\n",
    "\n",
    "- Need to perform binning \n",
    "- create a list of bins i.e. bins= [0,15,30,45,60,100]\n",
    "- create a list of labels i.e. labels = ['0-15','16-30','31-45','46-60','Greatar than 60']\n",
    "- perform binning by using cut() function from \"Final\" dataframe\n",
    "\n",
    "\n",
    "- Please fill up the first two rows of the code"
   ]
  },
  {
   "cell_type": "code",
   "execution_count": 149,
   "id": "c797e4b5",
   "metadata": {
    "id": "c797e4b5"
   },
   "outputs": [],
   "source": [
    "bins= [0,15,30,45,60,100]\n",
    "labels =['0-15','16-30','31-45','46-60','Greatar than 60']\n",
    "Final['Aging Bucket'] = pd.cut(Final['avg_delay'], bins=bins, labels=labels, right=False)"
   ]
  },
  {
   "cell_type": "markdown",
   "id": "1c35725f",
   "metadata": {
    "id": "1c35725f"
   },
   "source": [
    "### Now you need to drop \"key_0\" and \"avg_delay\" columns from the \"Final\" Dataframe"
   ]
  },
  {
   "cell_type": "code",
   "execution_count": 150,
   "id": "b31bc6a3",
   "metadata": {
    "id": "b31bc6a3"
   },
   "outputs": [],
   "source": [
    "Final.drop(['avg_delay','key_0'],axis=1,inplace=True)"
   ]
  },
  {
   "cell_type": "markdown",
   "id": "Ui-tyIvU0-5u",
   "metadata": {
    "id": "Ui-tyIvU0-5u"
   },
   "source": [
    "### Display the count of each categoty of new \"Aging Bucket\" column "
   ]
  },
  {
   "cell_type": "code",
   "execution_count": 151,
   "id": "a6e16218",
   "metadata": {
    "id": "a6e16218"
   },
   "outputs": [
    {
     "data": {
      "text/plain": [
       "0-15               2908\n",
       "31-45               248\n",
       "16-30               182\n",
       "Greatar than 60       7\n",
       "46-60                 3\n",
       "Name: Aging Bucket, dtype: int64"
      ]
     },
     "execution_count": 151,
     "metadata": {},
     "output_type": "execute_result"
    }
   ],
   "source": [
    "Final['Aging Bucket'].value_counts()"
   ]
  },
  {
   "cell_type": "markdown",
   "id": "kgYegy551GKJ",
   "metadata": {
    "id": "kgYegy551GKJ"
   },
   "source": [
    "### Display your final dataset with aging buckets "
   ]
  },
  {
   "cell_type": "code",
   "execution_count": 152,
   "id": "c4bc87ec",
   "metadata": {
    "id": "c4bc87ec"
   },
   "outputs": [
    {
     "data": {
      "text/html": [
       "<div>\n",
       "<style scoped>\n",
       "    .dataframe tbody tr th:only-of-type {\n",
       "        vertical-align: middle;\n",
       "    }\n",
       "\n",
       "    .dataframe tbody tr th {\n",
       "        vertical-align: top;\n",
       "    }\n",
       "\n",
       "    .dataframe thead th {\n",
       "        text-align: right;\n",
       "    }\n",
       "</style>\n",
       "<table border=\"1\" class=\"dataframe\">\n",
       "  <thead>\n",
       "    <tr style=\"text-align: right;\">\n",
       "      <th></th>\n",
       "      <th>business_code</th>\n",
       "      <th>cust_number</th>\n",
       "      <th>name_customer</th>\n",
       "      <th>clear_date</th>\n",
       "      <th>buisness_year</th>\n",
       "      <th>doc_id</th>\n",
       "      <th>posting_date</th>\n",
       "      <th>due_in_date</th>\n",
       "      <th>baseline_create_date</th>\n",
       "      <th>cust_payment_terms</th>\n",
       "      <th>converted_usd</th>\n",
       "      <th>Aging Bucket</th>\n",
       "    </tr>\n",
       "  </thead>\n",
       "  <tbody>\n",
       "    <tr>\n",
       "      <th>0</th>\n",
       "      <td>CA02</td>\n",
       "      <td>0140105686</td>\n",
       "      <td>SYSC llc</td>\n",
       "      <td>2020-04-14 17:09:26.125000000</td>\n",
       "      <td>2020.0</td>\n",
       "      <td>2.960623e+09</td>\n",
       "      <td>2020-03-30</td>\n",
       "      <td>2020-04-10</td>\n",
       "      <td>2020-03-31</td>\n",
       "      <td>CA10</td>\n",
       "      <td>2309.79</td>\n",
       "      <td>0-15</td>\n",
       "    </tr>\n",
       "    <tr>\n",
       "      <th>1</th>\n",
       "      <td>U001</td>\n",
       "      <td>0200744019</td>\n",
       "      <td>TARG us</td>\n",
       "      <td>2020-04-04 13:53:47.390625000</td>\n",
       "      <td>2020.0</td>\n",
       "      <td>1.930659e+09</td>\n",
       "      <td>2020-03-19</td>\n",
       "      <td>2020-04-03</td>\n",
       "      <td>2020-03-19</td>\n",
       "      <td>NAA8</td>\n",
       "      <td>11173.02</td>\n",
       "      <td>0-15</td>\n",
       "    </tr>\n",
       "    <tr>\n",
       "      <th>2</th>\n",
       "      <td>U001</td>\n",
       "      <td>0200418007</td>\n",
       "      <td>AM</td>\n",
       "      <td>2020-04-24 10:19:43.500000000</td>\n",
       "      <td>2020.0</td>\n",
       "      <td>1.930611e+09</td>\n",
       "      <td>2020-03-11</td>\n",
       "      <td>2020-03-26</td>\n",
       "      <td>2020-03-11</td>\n",
       "      <td>NAA8</td>\n",
       "      <td>3525.59</td>\n",
       "      <td>16-30</td>\n",
       "    </tr>\n",
       "    <tr>\n",
       "      <th>3</th>\n",
       "      <td>U001</td>\n",
       "      <td>0200739534</td>\n",
       "      <td>OK systems</td>\n",
       "      <td>2020-04-28 22:22:01.171875000</td>\n",
       "      <td>2020.0</td>\n",
       "      <td>1.930788e+09</td>\n",
       "      <td>2020-04-15</td>\n",
       "      <td>2020-04-30</td>\n",
       "      <td>2020-04-15</td>\n",
       "      <td>NAA8</td>\n",
       "      <td>121105.65</td>\n",
       "      <td>NaN</td>\n",
       "    </tr>\n",
       "    <tr>\n",
       "      <th>4</th>\n",
       "      <td>U001</td>\n",
       "      <td>0200353024</td>\n",
       "      <td>DECA corporation</td>\n",
       "      <td>2020-04-19 17:28:56.750000000</td>\n",
       "      <td>2020.0</td>\n",
       "      <td>1.930817e+09</td>\n",
       "      <td>2020-04-23</td>\n",
       "      <td>2020-04-26</td>\n",
       "      <td>2020-04-16</td>\n",
       "      <td>NAM2</td>\n",
       "      <td>3726.06</td>\n",
       "      <td>NaN</td>\n",
       "    </tr>\n",
       "    <tr>\n",
       "      <th>...</th>\n",
       "      <td>...</td>\n",
       "      <td>...</td>\n",
       "      <td>...</td>\n",
       "      <td>...</td>\n",
       "      <td>...</td>\n",
       "      <td>...</td>\n",
       "      <td>...</td>\n",
       "      <td>...</td>\n",
       "      <td>...</td>\n",
       "      <td>...</td>\n",
       "      <td>...</td>\n",
       "      <td>...</td>\n",
       "    </tr>\n",
       "    <tr>\n",
       "      <th>9676</th>\n",
       "      <td>U001</td>\n",
       "      <td>0200769623</td>\n",
       "      <td>WAL-MAR in</td>\n",
       "      <td>2020-03-23 11:24:15.437500000</td>\n",
       "      <td>2020.0</td>\n",
       "      <td>1.930625e+09</td>\n",
       "      <td>2020-03-10</td>\n",
       "      <td>2020-03-25</td>\n",
       "      <td>2020-03-10</td>\n",
       "      <td>NAH4</td>\n",
       "      <td>13114.99</td>\n",
       "      <td>NaN</td>\n",
       "    </tr>\n",
       "    <tr>\n",
       "      <th>9677</th>\n",
       "      <td>U001</td>\n",
       "      <td>0200769623</td>\n",
       "      <td>WAL-MAR corporation</td>\n",
       "      <td>2020-05-17 07:18:04.871093750</td>\n",
       "      <td>2020.0</td>\n",
       "      <td>1.930851e+09</td>\n",
       "      <td>2020-05-03</td>\n",
       "      <td>2020-05-18</td>\n",
       "      <td>2020-05-03</td>\n",
       "      <td>NAH4</td>\n",
       "      <td>8899.71</td>\n",
       "      <td>NaN</td>\n",
       "    </tr>\n",
       "    <tr>\n",
       "      <th>9678</th>\n",
       "      <td>U001</td>\n",
       "      <td>0200148860</td>\n",
       "      <td>DOLLA co</td>\n",
       "      <td>2020-03-12 15:20:57.125000000</td>\n",
       "      <td>2020.0</td>\n",
       "      <td>1.930638e+09</td>\n",
       "      <td>2020-03-11</td>\n",
       "      <td>2020-03-26</td>\n",
       "      <td>2020-03-11</td>\n",
       "      <td>NAA8</td>\n",
       "      <td>4967.06</td>\n",
       "      <td>NaN</td>\n",
       "    </tr>\n",
       "    <tr>\n",
       "      <th>9679</th>\n",
       "      <td>U001</td>\n",
       "      <td>0200900909</td>\n",
       "      <td>SYSCO co</td>\n",
       "      <td>2020-04-07 23:28:20.625000000</td>\n",
       "      <td>2020.0</td>\n",
       "      <td>1.930702e+09</td>\n",
       "      <td>2020-03-25</td>\n",
       "      <td>2020-04-09</td>\n",
       "      <td>2020-03-25</td>\n",
       "      <td>NAA8</td>\n",
       "      <td>1998.64</td>\n",
       "      <td>NaN</td>\n",
       "    </tr>\n",
       "    <tr>\n",
       "      <th>9680</th>\n",
       "      <td>U001</td>\n",
       "      <td>0200561861</td>\n",
       "      <td>CO corporation</td>\n",
       "      <td>2020-05-04 04:09:48.531250000</td>\n",
       "      <td>2020.0</td>\n",
       "      <td>1.930797e+09</td>\n",
       "      <td>2020-04-21</td>\n",
       "      <td>2020-05-06</td>\n",
       "      <td>2020-04-21</td>\n",
       "      <td>NAA8</td>\n",
       "      <td>3187.86</td>\n",
       "      <td>NaN</td>\n",
       "    </tr>\n",
       "  </tbody>\n",
       "</table>\n",
       "<p>9681 rows × 12 columns</p>\n",
       "</div>"
      ],
      "text/plain": [
       "     business_code cust_number        name_customer  \\\n",
       "0             CA02  0140105686             SYSC llc   \n",
       "1             U001  0200744019              TARG us   \n",
       "2             U001  0200418007                  AM    \n",
       "3             U001  0200739534           OK systems   \n",
       "4             U001  0200353024     DECA corporation   \n",
       "...            ...         ...                  ...   \n",
       "9676          U001  0200769623           WAL-MAR in   \n",
       "9677          U001  0200769623  WAL-MAR corporation   \n",
       "9678          U001  0200148860             DOLLA co   \n",
       "9679          U001  0200900909             SYSCO co   \n",
       "9680          U001  0200561861       CO corporation   \n",
       "\n",
       "                        clear_date  buisness_year        doc_id posting_date  \\\n",
       "0    2020-04-14 17:09:26.125000000         2020.0  2.960623e+09   2020-03-30   \n",
       "1    2020-04-04 13:53:47.390625000         2020.0  1.930659e+09   2020-03-19   \n",
       "2    2020-04-24 10:19:43.500000000         2020.0  1.930611e+09   2020-03-11   \n",
       "3    2020-04-28 22:22:01.171875000         2020.0  1.930788e+09   2020-04-15   \n",
       "4    2020-04-19 17:28:56.750000000         2020.0  1.930817e+09   2020-04-23   \n",
       "...                            ...            ...           ...          ...   \n",
       "9676 2020-03-23 11:24:15.437500000         2020.0  1.930625e+09   2020-03-10   \n",
       "9677 2020-05-17 07:18:04.871093750         2020.0  1.930851e+09   2020-05-03   \n",
       "9678 2020-03-12 15:20:57.125000000         2020.0  1.930638e+09   2020-03-11   \n",
       "9679 2020-04-07 23:28:20.625000000         2020.0  1.930702e+09   2020-03-25   \n",
       "9680 2020-05-04 04:09:48.531250000         2020.0  1.930797e+09   2020-04-21   \n",
       "\n",
       "     due_in_date baseline_create_date cust_payment_terms  converted_usd  \\\n",
       "0     2020-04-10           2020-03-31               CA10        2309.79   \n",
       "1     2020-04-03           2020-03-19               NAA8       11173.02   \n",
       "2     2020-03-26           2020-03-11               NAA8        3525.59   \n",
       "3     2020-04-30           2020-04-15               NAA8      121105.65   \n",
       "4     2020-04-26           2020-04-16               NAM2        3726.06   \n",
       "...          ...                  ...                ...            ...   \n",
       "9676  2020-03-25           2020-03-10               NAH4       13114.99   \n",
       "9677  2020-05-18           2020-05-03               NAH4        8899.71   \n",
       "9678  2020-03-26           2020-03-11               NAA8        4967.06   \n",
       "9679  2020-04-09           2020-03-25               NAA8        1998.64   \n",
       "9680  2020-05-06           2020-04-21               NAA8        3187.86   \n",
       "\n",
       "     Aging Bucket  \n",
       "0            0-15  \n",
       "1            0-15  \n",
       "2           16-30  \n",
       "3             NaN  \n",
       "4             NaN  \n",
       "...           ...  \n",
       "9676          NaN  \n",
       "9677          NaN  \n",
       "9678          NaN  \n",
       "9679          NaN  \n",
       "9680          NaN  \n",
       "\n",
       "[9681 rows x 12 columns]"
      ]
     },
     "execution_count": 152,
     "metadata": {},
     "output_type": "execute_result"
    }
   ],
   "source": [
    "Final"
   ]
  },
  {
   "cell_type": "markdown",
   "id": "Ji7AoDCB1L_x",
   "metadata": {
    "id": "Ji7AoDCB1L_x"
   },
   "source": [
    "### Store this dataframe into the .csv format"
   ]
  },
  {
   "cell_type": "code",
   "execution_count": 153,
   "id": "727d0b8d",
   "metadata": {
    "id": "727d0b8d"
   },
   "outputs": [],
   "source": [
    "Final.to_csv('Final_Prediction.csv',index=False)"
   ]
  },
  {
   "cell_type": "markdown",
   "id": "FK0fabl61SkC",
   "metadata": {
    "id": "FK0fabl61SkC"
   },
   "source": [
    "# END OF THE PROJECT"
   ]
  }
 ],
 "metadata": {
  "colab": {
   "collapsed_sections": [
    "62633a84"
   ],
   "name": "Payment date prediction.ipynb",
   "provenance": []
  },
  "kernelspec": {
   "display_name": "Python 3 (ipykernel)",
   "language": "python",
   "name": "python3"
  },
  "language_info": {
   "codemirror_mode": {
    "name": "ipython",
    "version": 3
   },
   "file_extension": ".py",
   "mimetype": "text/x-python",
   "name": "python",
   "nbconvert_exporter": "python",
   "pygments_lexer": "ipython3",
   "version": "3.10.2"
  }
 },
 "nbformat": 4,
 "nbformat_minor": 5
}
