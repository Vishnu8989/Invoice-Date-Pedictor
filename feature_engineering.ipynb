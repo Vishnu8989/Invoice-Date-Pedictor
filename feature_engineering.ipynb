{
 "cells": [
  {
   "cell_type": "code",
   "execution_count": 3,
   "metadata": {},
   "outputs": [],
   "source": [
    "import pandas as pd\n",
    "import numpy as np\n",
    "import matplotlib as mlt\n",
    "import statistics as stat\n",
    "import seaborn as sns\n",
    "from sklearn import preprocessing"
   ]
  },
  {
   "cell_type": "code",
   "execution_count": 6,
   "metadata": {},
   "outputs": [],
   "source": [
    "data = pd.read_csv('./Dataset4.csv')"
   ]
  },
  {
   "cell_type": "code",
   "execution_count": 10,
   "metadata": {},
   "outputs": [
    {
     "data": {
      "text/plain": [
       "Unnamed: 0                50000\n",
       "First Name                  845\n",
       "Last Name                    10\n",
       "Middle Name                 102\n",
       "baseline_create_date        506\n",
       "buisness_code_label           2\n",
       "buisness_code_number          5\n",
       "business_code                 6\n",
       "clear_date                  403\n",
       "count                         1\n",
       "cust_number                1099\n",
       "cust_payment_terms           74\n",
       "delay                       595\n",
       "document_create_date        507\n",
       "document_create_date.1      506\n",
       "due_in_date                 547\n",
       "isOpen                        2\n",
       "name_customer              4197\n",
       "posting_date                506\n",
       "total_open_amount         44211\n",
       "dtype: int64"
      ]
     },
     "execution_count": 10,
     "metadata": {},
     "output_type": "execute_result"
    }
   ],
   "source": [
    "data.nunique()"
   ]
  }
 ],
 "metadata": {
  "interpreter": {
   "hash": "0f59fe48d227930d98cc7431dcd291140b453469e4fbcd29a331e97a8e8ade40"
  },
  "kernelspec": {
   "display_name": "Python 3.10.2 64-bit",
   "language": "python",
   "name": "python3"
  },
  "language_info": {
   "codemirror_mode": {
    "name": "ipython",
    "version": 3
   },
   "file_extension": ".py",
   "mimetype": "text/x-python",
   "name": "python",
   "nbconvert_exporter": "python",
   "pygments_lexer": "ipython3",
   "version": "3.10.2"
  },
  "orig_nbformat": 4
 },
 "nbformat": 4,
 "nbformat_minor": 2
}
