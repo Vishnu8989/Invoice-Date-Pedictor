{
 "cells": [
  {
   "cell_type": "code",
   "execution_count": 1,
   "metadata": {},
   "outputs": [],
   "source": [
    "import pandas as pd\n",
    "import numpy as np\n",
    "import matplotlib as mlt\n",
    "import statistics as stat\n",
    "import seaborn as sns"
   ]
  },
  {
   "cell_type": "code",
   "execution_count": 2,
   "metadata": {},
   "outputs": [],
   "source": [
    "data = pd.read_csv('Dataset3.csv',index_col=0)"
   ]
  },
  {
   "cell_type": "code",
   "execution_count": 3,
   "metadata": {},
   "outputs": [
    {
     "data": {
      "text/html": [
       "<div>\n",
       "<style scoped>\n",
       "    .dataframe tbody tr th:only-of-type {\n",
       "        vertical-align: middle;\n",
       "    }\n",
       "\n",
       "    .dataframe tbody tr th {\n",
       "        vertical-align: top;\n",
       "    }\n",
       "\n",
       "    .dataframe thead th {\n",
       "        text-align: right;\n",
       "    }\n",
       "</style>\n",
       "<table border=\"1\" class=\"dataframe\">\n",
       "  <thead>\n",
       "    <tr style=\"text-align: right;\">\n",
       "      <th></th>\n",
       "      <th>cust_number</th>\n",
       "      <th>name_customer</th>\n",
       "      <th>clear_date</th>\n",
       "      <th>posting_date</th>\n",
       "      <th>document_create_date</th>\n",
       "      <th>document_create_date.1</th>\n",
       "      <th>due_in_date</th>\n",
       "      <th>total_open_amount</th>\n",
       "      <th>baseline_create_date</th>\n",
       "      <th>cust_payment_terms</th>\n",
       "      <th>isOpen</th>\n",
       "      <th>Delay</th>\n",
       "      <th>Time_given</th>\n",
       "      <th>Time_taken</th>\n",
       "      <th>Time_variance</th>\n",
       "    </tr>\n",
       "  </thead>\n",
       "  <tbody>\n",
       "    <tr>\n",
       "      <th>0</th>\n",
       "      <td>200769623</td>\n",
       "      <td>WAL-MAR corp</td>\n",
       "      <td>2020-11-02</td>\n",
       "      <td>2020-01-26</td>\n",
       "      <td>2020-01-25</td>\n",
       "      <td>2020-01-26</td>\n",
       "      <td>2020-02-10</td>\n",
       "      <td>4054214.016</td>\n",
       "      <td>2020-01-26</td>\n",
       "      <td>NAH4</td>\n",
       "      <td>0</td>\n",
       "      <td>266.0</td>\n",
       "      <td>15 days</td>\n",
       "      <td>281 days</td>\n",
       "      <td>266 days</td>\n",
       "    </tr>\n",
       "    <tr>\n",
       "      <th>1</th>\n",
       "      <td>200980828</td>\n",
       "      <td>BEN E</td>\n",
       "      <td>2019-08-08</td>\n",
       "      <td>2019-07-22</td>\n",
       "      <td>2019-07-22</td>\n",
       "      <td>2019-07-22</td>\n",
       "      <td>2019-08-11</td>\n",
       "      <td>5950348.020</td>\n",
       "      <td>2019-07-22</td>\n",
       "      <td>NAD1</td>\n",
       "      <td>0</td>\n",
       "      <td>-3.0</td>\n",
       "      <td>20 days</td>\n",
       "      <td>17 days</td>\n",
       "      <td>-3 days</td>\n",
       "    </tr>\n",
       "    <tr>\n",
       "      <th>2</th>\n",
       "      <td>200792734</td>\n",
       "      <td>MDV/ trust</td>\n",
       "      <td>2019-12-30</td>\n",
       "      <td>2019-09-14</td>\n",
       "      <td>2019-09-14</td>\n",
       "      <td>2019-09-14</td>\n",
       "      <td>2019-09-29</td>\n",
       "      <td>168363.342</td>\n",
       "      <td>2019-09-14</td>\n",
       "      <td>NAA8</td>\n",
       "      <td>0</td>\n",
       "      <td>92.0</td>\n",
       "      <td>15 days</td>\n",
       "      <td>107 days</td>\n",
       "      <td>92 days</td>\n",
       "    </tr>\n",
       "    <tr>\n",
       "      <th>3</th>\n",
       "      <td>140105686</td>\n",
       "      <td>SYSC llc</td>\n",
       "      <td>NaN</td>\n",
       "      <td>2020-03-30</td>\n",
       "      <td>2020-03-30</td>\n",
       "      <td>2020-03-30</td>\n",
       "      <td>2020-04-10</td>\n",
       "      <td>194055.357</td>\n",
       "      <td>2020-03-31</td>\n",
       "      <td>CA10</td>\n",
       "      <td>1</td>\n",
       "      <td>NaN</td>\n",
       "      <td>11 days</td>\n",
       "      <td>NaN</td>\n",
       "      <td>NaN</td>\n",
       "    </tr>\n",
       "    <tr>\n",
       "      <th>4</th>\n",
       "      <td>200769623</td>\n",
       "      <td>WAL-MAR foundation</td>\n",
       "      <td>2019-11-25</td>\n",
       "      <td>2019-11-13</td>\n",
       "      <td>2019-11-13</td>\n",
       "      <td>2019-11-13</td>\n",
       "      <td>2019-11-28</td>\n",
       "      <td>2475056.763</td>\n",
       "      <td>2019-11-13</td>\n",
       "      <td>NAH4</td>\n",
       "      <td>0</td>\n",
       "      <td>-3.0</td>\n",
       "      <td>15 days</td>\n",
       "      <td>12 days</td>\n",
       "      <td>-3 days</td>\n",
       "    </tr>\n",
       "  </tbody>\n",
       "</table>\n",
       "</div>"
      ],
      "text/plain": [
       "  cust_number       name_customer  clear_date posting_date  \\\n",
       "0   200769623        WAL-MAR corp  2020-11-02   2020-01-26   \n",
       "1   200980828              BEN E   2019-08-08   2019-07-22   \n",
       "2   200792734          MDV/ trust  2019-12-30   2019-09-14   \n",
       "3   140105686            SYSC llc         NaN   2020-03-30   \n",
       "4   200769623  WAL-MAR foundation  2019-11-25   2019-11-13   \n",
       "\n",
       "  document_create_date document_create_date.1 due_in_date  total_open_amount  \\\n",
       "0           2020-01-25             2020-01-26  2020-02-10        4054214.016   \n",
       "1           2019-07-22             2019-07-22  2019-08-11        5950348.020   \n",
       "2           2019-09-14             2019-09-14  2019-09-29         168363.342   \n",
       "3           2020-03-30             2020-03-30  2020-04-10         194055.357   \n",
       "4           2019-11-13             2019-11-13  2019-11-28        2475056.763   \n",
       "\n",
       "  baseline_create_date cust_payment_terms  isOpen  Delay Time_given  \\\n",
       "0           2020-01-26               NAH4       0  266.0    15 days   \n",
       "1           2019-07-22               NAD1       0   -3.0    20 days   \n",
       "2           2019-09-14               NAA8       0   92.0    15 days   \n",
       "3           2020-03-31               CA10       1    NaN    11 days   \n",
       "4           2019-11-13               NAH4       0   -3.0    15 days   \n",
       "\n",
       "  Time_taken Time_variance  \n",
       "0   281 days      266 days  \n",
       "1    17 days       -3 days  \n",
       "2   107 days       92 days  \n",
       "3        NaN           NaN  \n",
       "4    12 days       -3 days  "
      ]
     },
     "execution_count": 3,
     "metadata": {},
     "output_type": "execute_result"
    }
   ],
   "source": [
    "data.head()"
   ]
  },
  {
   "cell_type": "code",
   "execution_count": 4,
   "metadata": {},
   "outputs": [],
   "source": [
    "data['clear_date'] = pd.to_datetime(data['clear_date'])\n",
    "data['posting_date'] = pd.to_datetime(data['posting_date'])\n",
    "data['document_create_date'] = pd.to_datetime(data['document_create_date'])\n",
    "data['document_create_date.1'] = pd.to_datetime(data['document_create_date.1'])\n",
    "data['due_in_date'] = pd.to_datetime(data['due_in_date'])\n",
    "data['baseline_create_date'] = pd.to_datetime(data['baseline_create_date'])\n",
    "data['Time_given'] = (data['due_in_date'] - data['document_create_date']).dt.days\n",
    "data['Time_taken'] = (data['clear_date'] - data['document_create_date']).dt.days\n",
    "data['Time_variance'] = (data['Time_taken']-data['Time_given'])\n",
    "data['Delay'] = (data['clear_date'] - data['due_in_date']).dt.days"
   ]
  },
  {
   "cell_type": "code",
   "execution_count": 5,
   "metadata": {},
   "outputs": [
    {
     "data": {
      "text/plain": [
       "0    16\n",
       "1    20\n",
       "2    15\n",
       "3    11\n",
       "4    15\n",
       "Name: Time_given, dtype: int64"
      ]
     },
     "execution_count": 5,
     "metadata": {},
     "output_type": "execute_result"
    }
   ],
   "source": [
    "data['Time_given'].head()\n"
   ]
  },
  {
   "cell_type": "code",
   "execution_count": 6,
   "metadata": {},
   "outputs": [
    {
     "data": {
      "text/plain": [
       "0    282.0\n",
       "1     17.0\n",
       "2    107.0\n",
       "3      NaN\n",
       "4     12.0\n",
       "Name: Time_taken, dtype: float64"
      ]
     },
     "execution_count": 6,
     "metadata": {},
     "output_type": "execute_result"
    }
   ],
   "source": [
    "data['Time_taken'].head()\n"
   ]
  },
  {
   "cell_type": "code",
   "execution_count": 7,
   "metadata": {},
   "outputs": [
    {
     "data": {
      "text/plain": [
       "0    266.0\n",
       "1     -3.0\n",
       "2     92.0\n",
       "3      NaN\n",
       "4     -3.0\n",
       "Name: Time_variance, dtype: float64"
      ]
     },
     "execution_count": 7,
     "metadata": {},
     "output_type": "execute_result"
    }
   ],
   "source": [
    "data['Time_variance'].head()"
   ]
  },
  {
   "cell_type": "code",
   "execution_count": 8,
   "metadata": {},
   "outputs": [],
   "source": [
    "data.to_csv('Dataset3.csv')\n"
   ]
  },
  {
   "cell_type": "code",
   "execution_count": 9,
   "metadata": {},
   "outputs": [
    {
     "name": "stdout",
     "output_type": "stream",
     "text": [
      "<class 'pandas.core.frame.DataFrame'>\n",
      "Int64Index: 50000 entries, 0 to 49999\n",
      "Data columns (total 15 columns):\n",
      " #   Column                  Non-Null Count  Dtype         \n",
      "---  ------                  --------------  -----         \n",
      " 0   cust_number             50000 non-null  object        \n",
      " 1   name_customer           50000 non-null  object        \n",
      " 2   clear_date              40000 non-null  datetime64[ns]\n",
      " 3   posting_date            50000 non-null  datetime64[ns]\n",
      " 4   document_create_date    50000 non-null  datetime64[ns]\n",
      " 5   document_create_date.1  50000 non-null  datetime64[ns]\n",
      " 6   due_in_date             50000 non-null  datetime64[ns]\n",
      " 7   total_open_amount       50000 non-null  float64       \n",
      " 8   baseline_create_date    50000 non-null  datetime64[ns]\n",
      " 9   cust_payment_terms      50000 non-null  object        \n",
      " 10  isOpen                  50000 non-null  int64         \n",
      " 11  Delay                   40000 non-null  float64       \n",
      " 12  Time_given              50000 non-null  int64         \n",
      " 13  Time_taken              40000 non-null  float64       \n",
      " 14  Time_variance           40000 non-null  float64       \n",
      "dtypes: datetime64[ns](6), float64(4), int64(2), object(3)\n",
      "memory usage: 6.1+ MB\n"
     ]
    }
   ],
   "source": [
    "data.info()"
   ]
  }
 ],
 "metadata": {
  "interpreter": {
   "hash": "0f59fe48d227930d98cc7431dcd291140b453469e4fbcd29a331e97a8e8ade40"
  },
  "kernelspec": {
   "display_name": "Python 3.10.2 64-bit",
   "language": "python",
   "name": "python3"
  },
  "language_info": {
   "codemirror_mode": {
    "name": "ipython",
    "version": 3
   },
   "file_extension": ".py",
   "mimetype": "text/x-python",
   "name": "python",
   "nbconvert_exporter": "python",
   "pygments_lexer": "ipython3",
   "version": "3.10.2"
  },
  "orig_nbformat": 4
 },
 "nbformat": 4,
 "nbformat_minor": 2
}
