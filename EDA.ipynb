{
 "cells": [
  {
   "cell_type": "code",
   "execution_count": 105,
   "metadata": {},
   "outputs": [],
   "source": [
    "import pandas as pd\n",
    "import numpy as np\n",
    "import matplotlib as mlt\n",
    "import statistics as stat\n",
    "import seaborn as sns"
   ]
  },
  {
   "cell_type": "code",
   "execution_count": 106,
   "metadata": {},
   "outputs": [],
   "source": [
    "data = pd.read_csv('Dataset3.csv',index_col=0)\n"
   ]
  },
  {
   "cell_type": "code",
   "execution_count": 107,
   "metadata": {},
   "outputs": [
    {
     "name": "stdout",
     "output_type": "stream",
     "text": [
      "<class 'pandas.core.frame.DataFrame'>\n",
      "Int64Index: 49994 entries, 0 to 49999\n",
      "Data columns (total 15 columns):\n",
      " #   Column                  Non-Null Count  Dtype  \n",
      "---  ------                  --------------  -----  \n",
      " 0   cust_number             49994 non-null  object \n",
      " 1   clear_date              39994 non-null  object \n",
      " 2   doc_id                  49994 non-null  int64  \n",
      " 3   posting_date            49994 non-null  object \n",
      " 4   document_create_date    49994 non-null  object \n",
      " 5   document_create_date.1  49994 non-null  object \n",
      " 6   due_in_date             49994 non-null  object \n",
      " 7   total_open_amount       49994 non-null  float64\n",
      " 8   baseline_create_date    49994 non-null  object \n",
      " 9   cust_payment_terms      49994 non-null  object \n",
      " 10  invoice_id              49994 non-null  float64\n",
      " 11  isOpen                  49994 non-null  int64  \n",
      " 12  Time_given              49994 non-null  int64  \n",
      " 13  Time_taken              39994 non-null  float64\n",
      " 14  Time_variance           39994 non-null  float64\n",
      "dtypes: float64(4), int64(3), object(8)\n",
      "memory usage: 6.1+ MB\n"
     ]
    }
   ],
   "source": [
    "data.info()"
   ]
  },
  {
   "cell_type": "code",
   "execution_count": 108,
   "metadata": {},
   "outputs": [
    {
     "data": {
      "text/html": [
       "<div>\n",
       "<style scoped>\n",
       "    .dataframe tbody tr th:only-of-type {\n",
       "        vertical-align: middle;\n",
       "    }\n",
       "\n",
       "    .dataframe tbody tr th {\n",
       "        vertical-align: top;\n",
       "    }\n",
       "\n",
       "    .dataframe thead th {\n",
       "        text-align: right;\n",
       "    }\n",
       "</style>\n",
       "<table border=\"1\" class=\"dataframe\">\n",
       "  <thead>\n",
       "    <tr style=\"text-align: right;\">\n",
       "      <th></th>\n",
       "      <th>cust_number</th>\n",
       "      <th>clear_date</th>\n",
       "      <th>doc_id</th>\n",
       "      <th>posting_date</th>\n",
       "      <th>document_create_date</th>\n",
       "      <th>document_create_date.1</th>\n",
       "      <th>due_in_date</th>\n",
       "      <th>total_open_amount</th>\n",
       "      <th>baseline_create_date</th>\n",
       "      <th>cust_payment_terms</th>\n",
       "      <th>invoice_id</th>\n",
       "      <th>isOpen</th>\n",
       "      <th>Time_given</th>\n",
       "      <th>Time_taken</th>\n",
       "      <th>Time_variance</th>\n",
       "    </tr>\n",
       "  </thead>\n",
       "  <tbody>\n",
       "    <tr>\n",
       "      <th>0</th>\n",
       "      <td>200769623</td>\n",
       "      <td>2020-11-02</td>\n",
       "      <td>1930438491</td>\n",
       "      <td>2020-01-26</td>\n",
       "      <td>2020-01-25</td>\n",
       "      <td>2020-01-26</td>\n",
       "      <td>2020-02-10</td>\n",
       "      <td>4054214.016</td>\n",
       "      <td>2020-01-26</td>\n",
       "      <td>NAH4</td>\n",
       "      <td>1.930438e+09</td>\n",
       "      <td>0</td>\n",
       "      <td>16</td>\n",
       "      <td>282.0</td>\n",
       "      <td>266.0</td>\n",
       "    </tr>\n",
       "    <tr>\n",
       "      <th>1</th>\n",
       "      <td>200980828</td>\n",
       "      <td>2019-08-08</td>\n",
       "      <td>1929646410</td>\n",
       "      <td>2019-07-22</td>\n",
       "      <td>2019-07-22</td>\n",
       "      <td>2019-07-22</td>\n",
       "      <td>2019-08-11</td>\n",
       "      <td>5950348.020</td>\n",
       "      <td>2019-07-22</td>\n",
       "      <td>NAD1</td>\n",
       "      <td>1.929646e+09</td>\n",
       "      <td>0</td>\n",
       "      <td>20</td>\n",
       "      <td>17.0</td>\n",
       "      <td>-3.0</td>\n",
       "    </tr>\n",
       "    <tr>\n",
       "      <th>2</th>\n",
       "      <td>200792734</td>\n",
       "      <td>2019-12-30</td>\n",
       "      <td>1929873765</td>\n",
       "      <td>2019-09-14</td>\n",
       "      <td>2019-09-14</td>\n",
       "      <td>2019-09-14</td>\n",
       "      <td>2019-09-29</td>\n",
       "      <td>168363.342</td>\n",
       "      <td>2019-09-14</td>\n",
       "      <td>NAA8</td>\n",
       "      <td>1.929874e+09</td>\n",
       "      <td>0</td>\n",
       "      <td>15</td>\n",
       "      <td>107.0</td>\n",
       "      <td>92.0</td>\n",
       "    </tr>\n",
       "    <tr>\n",
       "      <th>3</th>\n",
       "      <td>140105686</td>\n",
       "      <td>NaN</td>\n",
       "      <td>2960623488</td>\n",
       "      <td>2020-03-30</td>\n",
       "      <td>2020-03-30</td>\n",
       "      <td>2020-03-30</td>\n",
       "      <td>2020-04-10</td>\n",
       "      <td>194055.357</td>\n",
       "      <td>2020-03-31</td>\n",
       "      <td>CA10</td>\n",
       "      <td>2.960623e+09</td>\n",
       "      <td>1</td>\n",
       "      <td>11</td>\n",
       "      <td>NaN</td>\n",
       "      <td>NaN</td>\n",
       "    </tr>\n",
       "    <tr>\n",
       "      <th>4</th>\n",
       "      <td>200769623</td>\n",
       "      <td>2019-11-25</td>\n",
       "      <td>1930147974</td>\n",
       "      <td>2019-11-13</td>\n",
       "      <td>2019-11-13</td>\n",
       "      <td>2019-11-13</td>\n",
       "      <td>2019-11-28</td>\n",
       "      <td>2475056.763</td>\n",
       "      <td>2019-11-13</td>\n",
       "      <td>NAH4</td>\n",
       "      <td>1.930148e+09</td>\n",
       "      <td>0</td>\n",
       "      <td>15</td>\n",
       "      <td>12.0</td>\n",
       "      <td>-3.0</td>\n",
       "    </tr>\n",
       "  </tbody>\n",
       "</table>\n",
       "</div>"
      ],
      "text/plain": [
       "  cust_number  clear_date      doc_id posting_date document_create_date  \\\n",
       "0   200769623  2020-11-02  1930438491   2020-01-26           2020-01-25   \n",
       "1   200980828  2019-08-08  1929646410   2019-07-22           2019-07-22   \n",
       "2   200792734  2019-12-30  1929873765   2019-09-14           2019-09-14   \n",
       "3   140105686         NaN  2960623488   2020-03-30           2020-03-30   \n",
       "4   200769623  2019-11-25  1930147974   2019-11-13           2019-11-13   \n",
       "\n",
       "  document_create_date.1 due_in_date  total_open_amount baseline_create_date  \\\n",
       "0             2020-01-26  2020-02-10        4054214.016           2020-01-26   \n",
       "1             2019-07-22  2019-08-11        5950348.020           2019-07-22   \n",
       "2             2019-09-14  2019-09-29         168363.342           2019-09-14   \n",
       "3             2020-03-30  2020-04-10         194055.357           2020-03-31   \n",
       "4             2019-11-13  2019-11-28        2475056.763           2019-11-13   \n",
       "\n",
       "  cust_payment_terms    invoice_id  isOpen  Time_given  Time_taken  \\\n",
       "0               NAH4  1.930438e+09       0          16       282.0   \n",
       "1               NAD1  1.929646e+09       0          20        17.0   \n",
       "2               NAA8  1.929874e+09       0          15       107.0   \n",
       "3               CA10  2.960623e+09       1          11         NaN   \n",
       "4               NAH4  1.930148e+09       0          15        12.0   \n",
       "\n",
       "   Time_variance  \n",
       "0          266.0  \n",
       "1           -3.0  \n",
       "2           92.0  \n",
       "3            NaN  \n",
       "4           -3.0  "
      ]
     },
     "execution_count": 108,
     "metadata": {},
     "output_type": "execute_result"
    }
   ],
   "source": [
    "data.head()\n"
   ]
  },
  {
   "cell_type": "code",
   "execution_count": 109,
   "metadata": {},
   "outputs": [],
   "source": [
    "data['clear_date'] = pd.to_datetime(data['clear_date'])\n",
    "data['posting_date'] = pd.to_datetime(data['posting_date'])\n",
    "data['document_create_date'] = pd.to_datetime(data['document_create_date'])\n",
    "data['document_create_date.1'] = pd.to_datetime(data['document_create_date.1'])\n",
    "data['due_in_date'] = pd.to_datetime(data['due_in_date'])\n",
    "data['baseline_create_date'] = pd.to_datetime(data['baseline_create_date'])\n",
    "data['Time_given'] = (data['due_in_date'] - data['document_create_date']).dt.days\n",
    "data['Time_taken'] = (data['clear_date'] - data['document_create_date']).dt.days\n",
    "data['Time_variance'] = (data['Time_taken']-data['Time_given'])"
   ]
  },
  {
   "cell_type": "code",
   "execution_count": 110,
   "metadata": {},
   "outputs": [
    {
     "name": "stdout",
     "output_type": "stream",
     "text": [
      "<class 'pandas.core.frame.DataFrame'>\n",
      "Int64Index: 49994 entries, 0 to 49999\n",
      "Data columns (total 15 columns):\n",
      " #   Column                  Non-Null Count  Dtype         \n",
      "---  ------                  --------------  -----         \n",
      " 0   cust_number             49994 non-null  object        \n",
      " 1   clear_date              39994 non-null  datetime64[ns]\n",
      " 2   doc_id                  49994 non-null  int64         \n",
      " 3   posting_date            49994 non-null  datetime64[ns]\n",
      " 4   document_create_date    49994 non-null  datetime64[ns]\n",
      " 5   document_create_date.1  49994 non-null  datetime64[ns]\n",
      " 6   due_in_date             49994 non-null  datetime64[ns]\n",
      " 7   total_open_amount       49994 non-null  float64       \n",
      " 8   baseline_create_date    49994 non-null  datetime64[ns]\n",
      " 9   cust_payment_terms      49994 non-null  object        \n",
      " 10  invoice_id              49994 non-null  float64       \n",
      " 11  isOpen                  49994 non-null  int64         \n",
      " 12  Time_given              49994 non-null  int64         \n",
      " 13  Time_taken              39994 non-null  float64       \n",
      " 14  Time_variance           39994 non-null  float64       \n",
      "dtypes: datetime64[ns](6), float64(4), int64(3), object(2)\n",
      "memory usage: 6.1+ MB\n"
     ]
    }
   ],
   "source": [
    "data.info()"
   ]
  },
  {
   "cell_type": "code",
   "execution_count": 111,
   "metadata": {},
   "outputs": [],
   "source": [
    "target = 'isOpen'"
   ]
  },
  {
   "cell_type": "code",
   "execution_count": 112,
   "metadata": {},
   "outputs": [],
   "source": [
    "def corr(x,y=data[target]):\n",
    "    mat = np.corrcoef(x,y)\n",
    "    print(mat)\n"
   ]
  },
  {
   "cell_type": "code",
   "execution_count": 113,
   "metadata": {},
   "outputs": [
    {
     "name": "stdout",
     "output_type": "stream",
     "text": [
      "<class 'pandas.core.frame.DataFrame'>\n",
      "Int64Index: 49994 entries, 0 to 49999\n",
      "Data columns (total 15 columns):\n",
      " #   Column                  Non-Null Count  Dtype         \n",
      "---  ------                  --------------  -----         \n",
      " 0   cust_number             49994 non-null  object        \n",
      " 1   clear_date              39994 non-null  datetime64[ns]\n",
      " 2   doc_id                  49994 non-null  int64         \n",
      " 3   posting_date            49994 non-null  datetime64[ns]\n",
      " 4   document_create_date    49994 non-null  datetime64[ns]\n",
      " 5   document_create_date.1  49994 non-null  datetime64[ns]\n",
      " 6   due_in_date             49994 non-null  datetime64[ns]\n",
      " 7   total_open_amount       49994 non-null  float64       \n",
      " 8   baseline_create_date    49994 non-null  datetime64[ns]\n",
      " 9   cust_payment_terms      49994 non-null  object        \n",
      " 10  invoice_id              49994 non-null  float64       \n",
      " 11  isOpen                  49994 non-null  int64         \n",
      " 12  Time_given              49994 non-null  int64         \n",
      " 13  Time_taken              39994 non-null  float64       \n",
      " 14  Time_variance           39994 non-null  float64       \n",
      "dtypes: datetime64[ns](6), float64(4), int64(3), object(2)\n",
      "memory usage: 6.1+ MB\n"
     ]
    }
   ],
   "source": [
    "data.info()"
   ]
  }
 ],
 "metadata": {
  "language_info": {
   "name": "python"
  },
  "orig_nbformat": 4
 },
 "nbformat": 4,
 "nbformat_minor": 2
}
